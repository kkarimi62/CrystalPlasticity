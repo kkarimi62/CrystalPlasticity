{
 "cells": [
  {
   "cell_type": "markdown",
   "metadata": {},
   "source": [
    "# import libraries"
   ]
  },
  {
   "cell_type": "code",
   "execution_count": 100,
   "metadata": {},
   "outputs": [],
   "source": [
    "import pandas as pd\n",
    "import numpy as np\n",
    "import matplotlib.pylab as plt\n",
    "import traceback\n",
    "import os\n",
    "import scipy.interpolate as scp_int\n",
    "import warnings\n",
    "warnings.filterwarnings('ignore')"
   ]
  },
  {
   "cell_type": "markdown",
   "metadata": {},
   "source": [
    "# input stress file"
   ]
  },
  {
   "cell_type": "code",
   "execution_count": 101,
   "metadata": {},
   "outputs": [],
   "source": [
    "path = './BmgData'\n",
    "fileNamee = ('FeNi.txt', \n",
    "             'CoNiCr.txt', \n",
    "             'CoNiCrFe.txt',\n",
    "             'CoCrFeMn.txt',\n",
    "             'Co5Cr2Fe40Mn27Ni26.txt')[0]\n",
    "\n",
    "stress = np.loadtxt('%s/%s'%(path,fileNamee) )"
   ]
  },
  {
   "cell_type": "markdown",
   "metadata": {},
   "source": [
    "# stress-strain curve"
   ]
  },
  {
   "cell_type": "code",
   "execution_count": 102,
   "metadata": {},
   "outputs": [
    {
     "data": {
      "image/png": "[encoded data removed]",
      "text/plain": [
       "<Figure size 288x288 with 1 Axes>"
      ]
     },
     "metadata": {
      "needs_background": "light"
     },
     "output_type": "display_data"
    }
   ],
   "source": [
    "fig = plt.figure( figsize = (4,4))\n",
    "ax = fig.add_subplot(111)\n",
    "ax.set_xlabel(r'$\\epsilon$',fontsize=16)\n",
    "ax.set_ylabel(r'$\\sigma$',fontsize=16)\n",
    "ax.tick_params(labelsize=16)\n",
    "ax.set_title(fileNamee[:-4])\n",
    "#\n",
    "ax.plot(stress[:,0],stress[:,1],'-')\n",
    "\n",
    "#--- point corresponding to strain maps\n",
    "ADD_POINTS = False\n",
    "if ADD_POINTS:\n",
    "    for itime in coord_atoms_broken:\n",
    "        CellVectorOrtho, VectorNorm = GetOrthogonalBasis( CellVector[ itime ] )\n",
    "        volume = np.linalg.det( CellVectorOrtho )\n",
    "        virial = np.c_[coord_atoms_broken[itime]['c_mystress4']].astype(float).sum() / volume\n",
    "        #--- strain\n",
    "        dx=CellVector[ itime ][0,1]-CellVector[ 0 ][0,1]\n",
    "        l1=CellVector[ itime ][1,1]\n",
    "        strain = 0.5*dx/l1\n",
    "        ax.plot([2*strain],[virial*1e-4],'x',color='red')\n",
    "#\n",
    "plt.savefig(fileNamee[:-4]+'.png',dpi=75,bbox_inches='tight')\n",
    "plt.show()"
   ]
  },
  {
   "cell_type": "markdown",
   "metadata": {},
   "source": [
    "# Plastic Deformation\n",
    "## Dump File"
   ]
  },
  {
   "cell_type": "code",
   "execution_count": 103,
   "metadata": {},
   "outputs": [],
   "source": [
    "def GetCordsTimeStep(slist):\n",
    "    slist.readline()\n",
    "    itime = int( slist.readline().split()[0] )\n",
    "    \n",
    "    [slist.readline() for i in xrange(1)]\n",
    "    nrows = int(slist.readline().split()[0])\n",
    "\n",
    "    [slist.readline() for i in xrange(1)]\n",
    "    \n",
    "    CellVector = np.array([slist.readline().split() for i in xrange( 3 )])\n",
    "    \n",
    "    cols = slist.readline().split()[2:]\n",
    "    \n",
    "    return np.array([slist.readline().split() for i in xrange( nrows )]), CellVector, itime, cols\n",
    "    \n",
    "def GetCords( file_name ):\n",
    "    slist = open( file_name )    \n",
    "    coord_atoms_broken = {}\n",
    "    CellVector = {}\n",
    "    try:\n",
    "        while True:\n",
    "            sarr, cell_vector, itime, cols  = GetCordsTimeStep( slist ) #--- get coord\n",
    "            #--- insert in a data frame\n",
    "            coord_atoms_broken[ itime ] = pd.DataFrame( sarr, columns = cols )\n",
    "            \n",
    "            #--- cast id to 'int'\n",
    "            coord_atoms_broken[ itime ]['id'] = map(int,coord_atoms_broken[ itime ]['id'].tolist())[:]\n",
    "\n",
    "            #--- sort\n",
    "            coord_atoms_broken[ itime ].sort_values( by = 'id', inplace = True )\n",
    "            \n",
    "            #--- reset index\n",
    "            coord_atoms_broken[ itime ].reset_index( drop=True, inplace=True )\n",
    "            \n",
    "            CellVector[ itime ] = cell_vector\n",
    "    except:\n",
    "#        traceback.print_exc()\n",
    "        pass\n",
    "\n",
    "    \n",
    "    return coord_atoms_broken, CellVector\n",
    "\n",
    "def GetCellVector( CellVector ):\n",
    "    CellVector[0] = np.c_[CellVector[0],['0.0','0.0','0.0']] #--- ref. state\n",
    "\n",
    "    CellOrigin = {}\n",
    "    cell_vector = {}\n",
    "    \n",
    "    for itime in CellVector:\n",
    "        row0 = map( float, CellVector[ itime ][ 0 ] )\n",
    "        l0 = row0[ 1 ] - row0[ 0 ] - row0[ 2 ]\n",
    "        CellVector0 = np.array( [ l0, 0.0, 0.0 ] )\n",
    "        dx = row0[ 2 ]\n",
    "        \n",
    "        row1 =  map( float, CellVector[ itime ][ 1 ] )\n",
    "        l1 = row1[ 1 ] - row1[ 0 ]\n",
    "        a1 = np.array( [ 0.0, l1, 0.0 ] )\n",
    "        CellVector1 = CellVector0 * ( dx / l0 ) + a1\n",
    "        \n",
    "        row2 =  map( float, CellVector[ itime ][ 2 ] )\n",
    "        l2 = row2[ 1 ] - row2[ 0 ]\n",
    "        CellVector2 = np.array( [ 0.0, 0.0, l2 ] )\n",
    "        \n",
    "        CellOrigin[ itime ] = np.array( [ row0[ 0 ], row1[ 0 ], row2[ 0 ] ] )\n",
    "        cell_vector[ itime ] = np.c_[ CellVector0, CellVector1, CellVector2 ] \n",
    "\n",
    "    return CellOrigin, cell_vector\n",
    "\n",
    "\n",
    "\n",
    "fileName = ('./BmgData/FeNi_glass.dump',\n",
    "            './BmgData/CoNiCr_glass.dump',\n",
    "            './BmgData/CoNiCrFe_glass.dump',\n",
    "            './BmgData/CoCrFeMn_glass.dump',\n",
    "            './BmgData/Co5Cr2Fe40Mn27Ni26_glass.dump')[0]#--- parse cords\n",
    "coord_atoms_broken, cell_vector = GetCords( fileName ) #--- add xyz for broken bonds #--- check id!!1\n",
    "CellOrigin, CellVector = GetCellVector( cell_vector )"
   ]
  },
  {
   "cell_type": "markdown",
   "metadata": {},
   "source": [
    "## Compute Displacements\n"
   ]
  },
  {
   "cell_type": "code",
   "execution_count": 104,
   "metadata": {},
   "outputs": [
    {
     "name": "stdout",
     "output_type": "stream",
     "text": [
      "0 500000\n",
      "0 1000000\n",
      "0 1500000\n",
      "0 2000000\n"
     ]
    }
   ],
   "source": [
    "def ChangeBasis( coord_atoms_broken, CellVector, CellOrigin, **kwargs ):\n",
    "############################################################\n",
    "####### map atoms within a tilted box to an orthogonal one\n",
    "############################################################\n",
    "\n",
    "    DimensionlessCords = GetDimensionlessCords( CellVector, coord_atoms_broken, CellOrigin  ) #--- beta0, beta1, beta2\n",
    "\n",
    "    #--- shift (beta0 + beta1 * dx / |b0| > 1) by - b0\n",
    "    #--- [b0,b1]^{-1}*(x=|b0|,y)\n",
    "    \n",
    "    b2 = CellVector[:,2]\n",
    "    b1 = CellVector[:,1]\n",
    "    b0 = CellVector[:,0]\n",
    "    norm_b0 = np.dot(b0,b0)**0.5\n",
    "    shift0 = np.dot(b1, b0 / norm_b0 )\n",
    "    #\n",
    "    indices_shiftTrue = (DimensionlessCords['beta0']) + (DimensionlessCords['beta1'])*shift0/norm_b0 >= 1.0\n",
    "    n = len( indices_shiftTrue )\n",
    "    shift_matrix =  np.array(indices_shiftTrue).reshape((n,1)) * b0\n",
    "    #\n",
    "    xyz = coord_atoms_broken - shift_matrix\n",
    "    #\n",
    "    attr_list = ['x','y','z']\n",
    "    values = xyz\n",
    "    for keys in kwargs:\n",
    "        attr_list += [ keys ]\n",
    "        values = np.c_[values,kwargs[keys]]\n",
    "                \n",
    "    return pd.DataFrame( values, columns = attr_list )\n",
    "\n",
    "def AddCopies( coord_atoms_broken, CellVector, **kwargs ):    \n",
    "    #--- orignial cell\n",
    "    XYZ_shifted = coord_atoms_broken\n",
    "    xyz_original = XYZ_shifted.copy()\n",
    "    #---\n",
    "    attr_list = ['x','y','z']\n",
    "    values = XYZ_shifted\n",
    "    for keys in kwargs:\n",
    "        attr_list += [ keys ]\n",
    "        values = np.c_[values,kwargs[keys]]\n",
    "\n",
    "    ID_TYPE_shifted = values[:,3:]\n",
    "    id_type_original = ID_TYPE_shifted.copy()\n",
    "    \n",
    "    #--- cell copies\n",
    "    for i in [-1,0,1]:\n",
    "        for j in [-1,0,1]:\n",
    "            for k in [-1,0,1]:\n",
    "    #            print i,j,k\n",
    "                if i == j == k == 0:\n",
    "                    continue\n",
    "                total_shift = np.matmul( CellVector, np.array([i,j,k]) )\n",
    "                #--- add shift\n",
    "                xyz_shifted = xyz_original + total_shift\n",
    "                #--- append\n",
    "                XYZ_shifted = np.concatenate( ( XYZ_shifted, xyz_shifted ), axis = 0 )\n",
    "                ID_TYPE_shifted = np.concatenate( ( ID_TYPE_shifted, id_type_original ), axis = 0 )\n",
    "                                \n",
    "    return pd.DataFrame(np.c_[XYZ_shifted,ID_TYPE_shifted],columns=attr_list)\n",
    "\n",
    "def GetDimensionlessCords( CellVector, coord_atoms_broken, CellOrigin, **kwargs  ):\n",
    "    xyz_centered = coord_atoms_broken - CellOrigin\n",
    "    beta = np.matmul( np.linalg.inv(CellVector), xyz_centered.T).T\n",
    "    \n",
    "    attr_list = ['beta0', 'beta1', 'beta2']\n",
    "    values = beta\n",
    "    for keys in kwargs:\n",
    "        attr_list += [ keys ]\n",
    "        values = np.c_[values,kwargs[keys]]\n",
    "        \n",
    "    return pd.DataFrame( values, columns = attr_list  )\n",
    "\n",
    "def shiftBeta( xyzDimensionless_j, diff, key = 'beta0' ):\n",
    "    indices = diff[key] > 0.5\n",
    "    beta0_j = xyzDimensionless_j[key] - 1.0 * indices\n",
    "\n",
    "    indices = diff[key] < -0.5\n",
    "    beta0_j += 1.0 * indices\n",
    "    \n",
    "    return beta0_j\n",
    "\n",
    "def GetXYZ( CellVector, CellOrigin, DimensionlessCords, attr_list = ['x','y','z'], **kwargs ):\n",
    "    XYZ_centered = np.matmul( CellVector, DimensionlessCords.T ).T #--- xyz in reference state\n",
    "    XYZ = XYZ_centered + CellOrigin\n",
    "    \n",
    "    \n",
    "    values = XYZ\n",
    "    for keys in kwargs:\n",
    "        attr_list += [ keys ]\n",
    "        values = np.c_[values,kwargs[keys]]\n",
    "        \n",
    "    return pd.DataFrame( values, columns = attr_list)\n",
    "\n",
    "def EstimateUnwrappedCord( coord_atoms_broken_i, coord_atoms_broken_j,\n",
    "                           CellVector_i, CellVector_j,\n",
    "                           CellOrigin_i, CellOrigin_j):\n",
    "#--- dimensionless cords\n",
    "    xyzDimensionless_i = GetDimensionlessCords( CellVector_i, coord_atoms_broken_i, CellOrigin_i )\n",
    "    xyzDimensionless_j = GetDimensionlessCords( CellVector_j, coord_atoms_broken_j, CellOrigin_j )\n",
    "\n",
    "    #--- shift to get unwrapped cords\n",
    "    diff = xyzDimensionless_j[['beta0','beta1','beta2']] - xyzDimensionless_i[['beta0','beta1','beta2']]\n",
    "\n",
    "    #--- new dimensionless cords\n",
    "    beta0_j = shiftBeta( xyzDimensionless_j, diff, key = 'beta0' )\n",
    "    beta1_j = shiftBeta( xyzDimensionless_j, diff, key = 'beta1' )\n",
    "    beta2_j = shiftBeta( xyzDimensionless_j, diff, key = 'beta2' )\n",
    "\n",
    "    #--- unwrapped cords at deformed state\n",
    "    rj_unwrpd = GetXYZ( CellVector_j, CellOrigin_j, np.c_[beta0_j,beta1_j,beta2_j] )\n",
    "\n",
    "    return rj_unwrpd\n",
    "\n",
    "\n",
    "\n",
    "\n",
    "#--- do mapping & add copies\n",
    "coord = {}\n",
    "for itime in coord_atoms_broken:\n",
    "    #--- map atoms in the ref. state to an undeformed box\n",
    "    df = coord_atoms_broken[ itime ][['id','type','x','y','z']]\n",
    "    xyz = np.c_[df[['x','y','z']].astype('float')]\n",
    "    xyz_mapped = ChangeBasis( xyz, CellVector[ itime ], CellOrigin[ itime ] )\n",
    "\n",
    "    #--- append\n",
    "    tmp = pd.DataFrame(np.c_[df, xyz_mapped],columns=['id','type','x','y','z','xm','ym','zm'])\n",
    "        \n",
    "    #--- add copies\n",
    "    df = tmp\n",
    "    xyz = np.c_[df[['x','y','z']].astype('float')]\n",
    "    xyz_copy = AddCopies( xyz, CellVector[ itime ],\n",
    "                          id=df['id'],\n",
    "                          type = df['type']\n",
    "                        )\n",
    "    xyz_m = np.c_[df[['xm','ym','zm']].astype('float')]\n",
    "    xyz_m_copy = AddCopies( xyz_m, CellVector[ itime ],\n",
    "                          id=df['id'],\n",
    "                          type = df['type']\n",
    "                        )\n",
    "    coord[itime] = pd.DataFrame(np.c_[xyz_copy[['id','type','x','y','z']],xyz_m_copy[['x','y','z']]],columns=['id','type','x','y','z','xm','ym','zm'])\n",
    "\n",
    "#---\n",
    "#--- compute displacements\n",
    "#---\n",
    "REF = ('initial', 'previous')[0] #--- displ. with respect to an initial state or previous state\n",
    "\n",
    "times = coord_atoms_broken.keys()\n",
    "times.sort()\n",
    "for time_i, time_j in zip(times[:-1], times[1:]):   \n",
    "    if REF == 'initial':\n",
    "        time_i = 0\n",
    "    print time_i, time_j\n",
    "    #--- estimate unwrapped coordinates (deformed state)\n",
    "    # r^{wrpd}_i, r^{wrpd}_j, r^{unwrpd}_j\n",
    "    xyz_i = np.c_[coord[time_i][['x','y','z']]].astype('float')\n",
    "    xyz_j = np.c_[coord[time_j][['x','y','z']]].astype('float')\n",
    "    rj_unwrpd = EstimateUnwrappedCord( xyz_i, xyz_j,\n",
    "                                       CellVector[time_i], CellVector[time_j],\n",
    "                                       CellOrigin[time_i], CellOrigin[time_j] )    \n",
    "    #--- displacement: r^{unwrpd}_j - r^{wrpd}_i\n",
    "    disp = rj_unwrpd[['x','y','z']] - xyz_i\n",
    "        \n",
    "    #--- append (xm,ym,zm) denoting mapped coordinates\n",
    "    df = coord[ time_j ]\n",
    "    coord[ time_j ] = pd.DataFrame(np.c_[df, disp],columns=['id','type','x','y','z','xm','ym','zm','ux','uy','uz'])\n",
    "\n",
    "\n",
    "    \n",
    "    "
   ]
  },
  {
   "cell_type": "markdown",
   "metadata": {},
   "source": [
    "### Print"
   ]
  },
  {
   "cell_type": "code",
   "execution_count": 105,
   "metadata": {},
   "outputs": [],
   "source": [
    "def GetOrthogonalBasis( CellVector ): \n",
    "    a0 = CellVector[:,0]\n",
    "    l0 = np.dot(a0,a0)**0.5\n",
    "    n0 = a0 / l0 \n",
    "    #\n",
    "    a1 = CellVector[:,1]\n",
    "    a1_perp = a1 - np.dot( a1, n0 ) * n0\n",
    "    l1 = np.dot( a1_perp, a1_perp) ** 0.5\n",
    "    #\n",
    "    a2 = CellVector[:,2]\n",
    "    l2 = np.dot(a2,a2)**0.5\n",
    "    \n",
    "    return np.c_[a0, a1_perp, a2], [l0, l1, l2]\n",
    "\n",
    "def GetPoints( CellOrigin, CellVector, xyz, ev = 0.2, output_attr = ['x','y','z'],**kwargs ):\n",
    "    \n",
    "    #--- tensor associated with dilation\n",
    "    strainTensor = np.array([[ev/3.0,0,0],\n",
    "                            [0,ev/3.0,0],\n",
    "                            [0,0,ev/3.0]])\n",
    "    #\n",
    "    identityMat = np.array([[1,0,0],[0,1,0],[0,0,1]])\n",
    "    #\n",
    "    CellVectorOrtho, VectorNorm = GetOrthogonalBasis( CellVector )\n",
    "\n",
    "    #--- extend diagonal\n",
    "    rvect = -np.matmul( CellVectorOrtho, np.array([0.5,0.5,0.5]))\n",
    "    CellOrigin_expanded = CellOrigin + np.matmul(strainTensor,rvect)\n",
    "\n",
    "    #--- extend basis vectors\n",
    "    CellVector_expanded = np.matmul( identityMat + strainTensor, CellVectorOrtho )\n",
    "\n",
    "    #--- (beta0,beta1,beta2) associated with original atoms and their images \n",
    "    #--- with reference to the expanded box \n",
    "    DimensionlessCords = GetDimensionlessCords( CellVector_expanded, \n",
    "                                                xyz,\n",
    "                                                CellOrigin_expanded,\n",
    "                                                **kwargs )\n",
    "    #--- filter: only inside the expanded box \n",
    "    index0 = np.all([DimensionlessCords['beta0'] >= 0.0, DimensionlessCords['beta0'] < 1.0], axis=0 )\n",
    "    index1 = np.all([DimensionlessCords['beta1'] >= 0.0, DimensionlessCords['beta1'] < 1.0], axis=0 )\n",
    "    index2 = np.all([DimensionlessCords['beta2'] >= 0.0, DimensionlessCords['beta2'] < 1.0], axis=0 )\n",
    "    bete_inside = DimensionlessCords[np.all([index0,index1,index2],axis=0)]\n",
    "\n",
    "    #--- xyz coordinates\n",
    "    kwargss = {}\n",
    "    for keys in kwargs:\n",
    "        kwargss[ keys ] = bete_inside[ keys ]        \n",
    "    xyz_inside = GetXYZ( CellVector_expanded, CellOrigin_expanded, \n",
    "                         np.c_[bete_inside[['beta0','beta1','beta2']]],\n",
    "                         output_attr,\n",
    "                         **kwargss )\n",
    "    \n",
    "    return xyz_inside\n",
    "\n",
    "def PrintOvito( cordc, sfile, footer, attr_list=['x','y','z'] ):\n",
    "    smat = cordc[attr_list]\n",
    "    np.savetxt(sfile,[len(smat)],fmt='%s', footer='%s, %s'%(footer,str(attr_list)))\n",
    "    np.savetxt(sfile,smat,fmt='%s')\n",
    "    sfile.close()\n",
    "\n",
    "\n",
    "\n",
    "#--- print \n",
    "file_name = 'displ.xyz'\n",
    "try:\n",
    "    os.system('rm %s'%file_name)\n",
    "except:\n",
    "    pass\n",
    "\n",
    "times = coord.keys()\n",
    "times.sort()\n",
    "for time_i, time_j in zip(times[:-1], times[1:]):   \n",
    "    if REF == 'initial':\n",
    "        time_i = 0\n",
    "    #--- get a chunck of full copies\n",
    "    df_i = coord[ time_i ]\n",
    "    df_j = coord[ time_j ]\n",
    "\n",
    "    df_chunk =  GetPoints( CellOrigin[ time_i ], \n",
    "                               CellVector[ time_i ],\n",
    "                               np.c_[df_i[['xm','ym','zm']]].astype('float'), #--- give mapped coordinates\n",
    "                               ev = 0.3,\n",
    "                               output_attr = ['xm','ym','zm'],\n",
    "                               id = df_i['id'],\n",
    "                               type = df_i['type'],\n",
    "                               x = df_i['x'],\n",
    "                               y = df_i['y'],\n",
    "                               z = df_i['z'],\n",
    "                               ux = df_j['ux'],\n",
    "                               uy = df_j['uy'],\n",
    "                               uz = df_j['uz'],\n",
    "                             )\n",
    "    \n",
    "\n",
    "    PrintOvito( df_chunk, \n",
    "                open(file_name,'a'), \n",
    "                footer = 'ITIME=%s'%time_j,\n",
    "                attr_list=['id','type','xm','ym','zm','ux','uy','uz'] )\n",
    "\n"
   ]
  },
  {
   "cell_type": "markdown",
   "metadata": {},
   "source": [
    "## Gradients"
   ]
  },
  {
   "cell_type": "markdown",
   "metadata": {},
   "source": [
    "### Interpolate Displacements\n",
    "#### cubic grid"
   ]
  },
  {
   "cell_type": "code",
   "execution_count": 106,
   "metadata": {},
   "outputs": [],
   "source": [
    "def GetCubicGrid( CellOrigin, CellVector, dmean, margin  ):\n",
    "\n",
    "    CellVectorOrtho, VectorNorm = GetOrthogonalBasis( CellVector )\n",
    "    \n",
    "    volume = np.linalg.det( CellVectorOrtho )\n",
    "\n",
    "\n",
    "    [nx, ny, nz] = map( int, (np.array(VectorNorm)+2*margin) / dmean )\n",
    "    if nx%2 == 0:\n",
    "        nx += 1\n",
    "    if ny%2 == 0:\n",
    "        ny += 1\n",
    "    if nz%2 == 0:\n",
    "        nz += 1\n",
    "    \n",
    "    x = np.linspace( CellOrigin[0] - margin, CellOrigin[0] + VectorNorm[ 0 ] + margin, nx,endpoint=False)\n",
    "    y = np.linspace( CellOrigin[1] - margin, CellOrigin[1] + VectorNorm[ 1 ] + margin, ny,endpoint=False)\n",
    "    z = np.linspace( CellOrigin[2] - margin, CellOrigin[2] + VectorNorm[ 2 ] + margin, nz,endpoint=False)\n",
    "\n",
    "    return (x, y, z), np.meshgrid(x, y,z)\n",
    "\n",
    "\n",
    "\n",
    "#--- mean dist between atoms \n",
    "natoms = len( coord_atoms_broken[ 0 ] ) \n",
    "CellVectorOrtho, VectorNorm = GetOrthogonalBasis( CellVector[ 0 ] )\n",
    "volume = np.linalg.det( CellVectorOrtho )\n",
    "dmean = 0.5 * ( volume / natoms ) ** (1.0/3.0) \n",
    "\n",
    "#--- grid tiling mapped box with original size\n",
    "#--- values are interpolated onto this grid\n",
    "(xlin, ylin, zlin), (xv, yv, zv) = GetCubicGrid( CellOrigin[ 0 ], \n",
    "                                                 CellVector[ 0 ], \n",
    "                                                 dmean,\n",
    "                                                 margin = 0.0 )\n",
    "xi = np.array(zip(xv.flatten(), yv.flatten(), zv.flatten()))\n"
   ]
  },
  {
   "cell_type": "markdown",
   "metadata": {},
   "source": [
    "#### center box + margin"
   ]
  },
  {
   "cell_type": "code",
   "execution_count": 107,
   "metadata": {},
   "outputs": [],
   "source": [
    "df_intrp = {}\n",
    "times = coord.keys()\n",
    "times.sort()\n",
    "for time_i, time_j in zip(times[:-1], times[1:]):   \n",
    "    if REF == 'initial':\n",
    "        time_i = 0\n",
    "    #--- get a chunck of full copies\n",
    "    df_i = coord[ time_i ]\n",
    "    df_j = coord[ time_j ]\n",
    "    \n",
    "    #--- get points from which values are interpolated\n",
    "    pointsValues =  GetPoints( CellOrigin[ time_i ], \n",
    "                               CellVector[ time_i ],\n",
    "                               np.c_[df_i[['xm','ym','zm']]].astype('float'), #--- give mapped coordinates\n",
    "                               ev = 0.3,\n",
    "                               output_attr = ['xm','ym','zm'],\n",
    "                               id = df_i['id'],\n",
    "                               type = df_i['type'],\n",
    "                               x = df_i['x'],\n",
    "                               y = df_i['y'],\n",
    "                               z = df_i['z'],\n",
    "                               ux = df_j['ux'],\n",
    "                               uy = df_j['uy'],\n",
    "                               uz = df_j['uz'],\n",
    "                             )\n",
    "        \n",
    "    #--- interpolate\n",
    "    points = pointsValues[['xm','ym','zm']]\n",
    "    values = pointsValues[['ux','uy','uz']]\n",
    "    grid_z = scp_int.griddata(points, values, xi, method='linear')\n",
    "    assert not np.any(np.isnan(grid_z.flatten())), 'increase ev!'\n",
    "    \n",
    "    #--- store in dataframe\n",
    "    df_intrp[ time_j ] = pd.DataFrame(np.c_[xi,grid_z],columns=['x','y','z','ux','uy','uz'])\n"
   ]
  },
  {
   "cell_type": "markdown",
   "metadata": {},
   "source": [
    "#### Print"
   ]
  },
  {
   "cell_type": "code",
   "execution_count": 108,
   "metadata": {},
   "outputs": [],
   "source": [
    "file_name = 'intrp.xyz'\n",
    "try:\n",
    "    os.system('rm %s'%file_name)\n",
    "except:\n",
    "    pass\n",
    "\n",
    "for itime in df_intrp:\n",
    "    PrintOvito( df_intrp[ itime ], \n",
    "                    open( file_name,'a'), \n",
    "                    footer = 'ITIME=%s'%itime,\n",
    "                    attr_list=['x','y','z','ux','uy','uz'] )\n"
   ]
  },
  {
   "cell_type": "markdown",
   "metadata": {},
   "source": [
    "### Strain tensor"
   ]
  },
  {
   "cell_type": "code",
   "execution_count": 109,
   "metadata": {},
   "outputs": [],
   "source": [
    "def GetStrain( value, (xlin,ylin,zlin), (xv,yv,zv)):\n",
    "    #--- reshape matrix\n",
    "    nx,ny,nz = len(xlin), len(ylin),len(zlin) \n",
    "    ux = np.c_[value['ux']].reshape((ny,nx,nz))\n",
    "    uy = np.c_[value['uy']].reshape((ny,nx,nz))\n",
    "    uz = np.c_[value['uz']].reshape((ny,nx,nz))\n",
    "\n",
    "    #--- gradient\n",
    "    ux_x = np.gradient(ux,xlin,axis=1)\n",
    "    ux_y = np.gradient(ux,ylin,axis=0)\n",
    "    ux_z = np.gradient(ux,zlin,axis=2)\n",
    "\n",
    "    uy_x = np.gradient(uy,xlin,axis=1)\n",
    "    uy_y = np.gradient(uy,ylin,axis=0)\n",
    "    uy_z = np.gradient(uy,zlin,axis=2)\n",
    "\n",
    "    uz_x = np.gradient(uz,xlin,axis=1)\n",
    "    uz_y = np.gradient(uz,ylin,axis=0)\n",
    "    uz_z = np.gradient(uz,zlin,axis=2)\n",
    "\n",
    "    #--- strain\n",
    "    exx = ux_x\n",
    "    exy = 0.5 * ( ux_y + uy_x )\n",
    "    exz = 0.5 * ( ux_z + uz_x )\n",
    "\n",
    "    eyx = exy\n",
    "    eyy = uy_y\n",
    "    eyz = 0.5 * ( uy_z + uz_y )\n",
    "\n",
    "    ezx = exz\n",
    "    ezy = eyz\n",
    "    ezz = uz_z\n",
    "    \n",
    "    #--- subtract mean\n",
    "    exx -= np.mean(exx)\n",
    "    exy -= np.mean(exy)\n",
    "    exz -= np.mean(exz)\n",
    "\n",
    "    eyx -= np.mean(eyx)\n",
    "    eyy -= np.mean(eyy)\n",
    "    eyz -= np.mean(eyz)\n",
    "\n",
    "    ezx -= np.mean(ezx)\n",
    "    ezy -= np.mean(ezy)\n",
    "    ezz -= np.mean(ezz)\n",
    "    \n",
    "    return pd.DataFrame(np.c_[xv.flatten(),yv.flatten(),zv.flatten(),\n",
    "                 exx.flatten(), eyy.flatten(), ezz.flatten(), \n",
    "                 exy.flatten(), eyz.flatten(), ezx.flatten()], \n",
    "                 columns = ['x','y','z','exx','eyy','ezz','exy','eyz','ezx'])\n",
    "\n",
    "Strain = {}\n",
    "for itime in df_intrp:\n",
    "    Strain[itime] = GetStrain(df_intrp[ itime ], (xlin,ylin,zlin), (xv,yv,zv))\n"
   ]
  },
  {
   "cell_type": "markdown",
   "metadata": {},
   "source": [
    "#### imshow"
   ]
  },
  {
   "cell_type": "code",
   "execution_count": 110,
   "metadata": {},
   "outputs": [
    {
     "data": {
      "image/png": "[encoded data removed]",
      "text/plain": [
       "<Figure size 432x288 with 2 Axes>"
      ]
     },
     "metadata": {
      "needs_background": "light"
     },
     "output_type": "display_data"
    }
   ],
   "source": [
    "def CenterMatrix(a):\n",
    "    ( mgrid, ngrid ) = a.shape\n",
    "    return np.array([[ a[i,j] for j in xrange(-(ngrid/2),ngrid/2+ngrid%2)] \n",
    "                              for i in xrange(-(mgrid/2),mgrid/2+mgrid%2)])\n",
    "\n",
    "def PltBitmap( value,\n",
    "              xlabel = 'x', ylabel = 'y',\n",
    "              xlim = (-0.5,0.5), ylim = (-0.5,0.5),\n",
    "              frac = 1.0, #--- plot a patch\n",
    "              zscore = True,\n",
    "             ):\n",
    "        \n",
    "    val = value.copy()\n",
    "    #--- z-score\n",
    "    if zscore:\n",
    "        val -= np.mean(val)\n",
    "        val /= np.std(val)\n",
    "        val[val>2.0]=1.0\n",
    "        val[val<-2.0]=-1.0\n",
    "    #--- plot\n",
    "    (mgrid,ngrid) = val.shape\n",
    "    center = (ngrid/2,mgrid/2)\n",
    "    plt.xlabel(xlabel)\n",
    "    plt.ylabel(ylabel)\n",
    "    pos = plt.imshow(val.real,cmap='bwr',\n",
    "                     extent=(xlim[0],xlim[1],ylim[0],ylim[1]),origin='lower' ,vmin=-.6, vmax=.6)\n",
    "#    plt.xlim(center[0]-(ngrid/2)*frac,center[0]+(ngrid/2)*frac)\n",
    "#    plt.ylim(center[1]-(mgrid/2)*frac,center[1]+(mgrid/2)*frac)\n",
    "#    plt.xlim(xlim[0]*frac,xlim[1]*frac)\n",
    "#    plt.ylim(ylim[0]*frac,ylim[1]*frac)\n",
    "    plt.colorbar( pos, fraction = 0.04)\n",
    "    plt.show()\n",
    "\n",
    "    \n",
    "    \n",
    "    \n",
    "itime = 4*500000\n",
    "#--- reshape value\n",
    "nx,ny,nz = len(xlin), len(ylin),len(zlin) \n",
    "value = np.c_[Strain[itime]['exy']].reshape(((ny,nx,nz)))\n",
    "#\n",
    "CellVectorOrtho, VectorNorm = GetOrthogonalBasis( CellVector[ itime ] ) #--- box length\n",
    "#--- xy plane\n",
    "val = value[:,:,-1].copy()\n",
    "PltBitmap(val, \n",
    "          xlabel = 'x', ylabel = 'y',\n",
    "          xlim=VectorNorm[0]*np.array([0.0,1.0]),ylim=VectorNorm[1]*np.array([0.0,1.0]),\n",
    "          zscore = None,\n",
    "          frac = 1.0, #--- plot a patch\n",
    "        )\n"
   ]
  },
  {
   "cell_type": "markdown",
   "metadata": {},
   "source": [
    "#### Print"
   ]
  },
  {
   "cell_type": "code",
   "execution_count": 111,
   "metadata": {},
   "outputs": [],
   "source": [
    "file_name = 'strain.xyz'\n",
    "try:\n",
    "    os.system('rm %s'%file_name)\n",
    "except:\n",
    "    pass\n",
    "    \n",
    "times = Strain.keys()\n",
    "times.sort()\n",
    "for itime in times:\n",
    "    #--- bulk strain\n",
    "    dx=CellVector[ itime ][0,1]-CellVector[ 0 ][0,1]\n",
    "    l1=CellVector[ itime ][1,1]\n",
    "    ebulk = 0.5*dx/l1\n",
    "\n",
    "    \n",
    "    PrintOvito( Strain[ itime ], \n",
    "                    open( file_name,'a'), \n",
    "                    footer = 'epsilon=%2.1e'%(2*ebulk),\n",
    "                    attr_list=['x','y','z','exx','eyy','ezz','exy','eyz','ezx'] )\n",
    "    "
   ]
  },
  {
   "cell_type": "markdown",
   "metadata": {},
   "source": [
    "#### Auto-Correlations"
   ]
  },
  {
   "cell_type": "code",
   "execution_count": 112,
   "metadata": {},
   "outputs": [],
   "source": [
    "def GetAutoCorrelation( val ):\n",
    "    value  = val.copy()\n",
    "    value -= np.mean( value )\n",
    "    value /= np.std( value )\n",
    "\n",
    "    ( nx, ny, nz ) =  value.shape\n",
    "    n = nx * ny * nz\n",
    "    vq = np.fft.fftn(value) #, axes=(0,1,2))\n",
    "    vq_sq = np.abs(vq)**2\n",
    "\n",
    "    v_real = np.fft.ifftn( vq_sq) / n #,  axes=(0,1,2) )\n",
    "    return v_real\n",
    "\n",
    "\n",
    "Crltn = {}\n",
    "for itime in df_intrp:\n",
    "    #\n",
    "    (nx,ny,nz) = len(xlin), len(ylin),len(zlin) \n",
    "    #\n",
    "    value = np.c_[Strain[itime]['exy']].reshape(((ny,nx,nz)))\n",
    "    #\n",
    "    Crltn[ itime ] = GetAutoCorrelation( value )\n",
    "\n",
    "\n"
   ]
  },
  {
   "cell_type": "markdown",
   "metadata": {},
   "source": [
    "#### Print"
   ]
  },
  {
   "cell_type": "code",
   "execution_count": 113,
   "metadata": {},
   "outputs": [
    {
     "data": {
      "image/png": "[encoded data removed]",
      "text/plain": [
       "<Figure size 432x288 with 2 Axes>"
      ]
     },
     "metadata": {
      "needs_background": "light"
     },
     "output_type": "display_data"
    },
    {
     "data": {
      "image/png": "[encoded data removed]",
      "text/plain": [
       "<Figure size 432x288 with 2 Axes>"
      ]
     },
     "metadata": {
      "needs_background": "light"
     },
     "output_type": "display_data"
    },
    {
     "data": {
      "image/png": "[encoded data removed]",
      "text/plain": [
       "<Figure size 432x288 with 2 Axes>"
      ]
     },
     "metadata": {
      "needs_background": "light"
     },
     "output_type": "display_data"
    }
   ],
   "source": [
    "\n",
    "def PltCrltn( value,\n",
    "              xlabel = 'x', ylabel = 'y',\n",
    "              xlim = (-0.5,0.5), ylim = (-0.5,0.5),\n",
    "              frac = 1.0, #--- plot a patch\n",
    "              zscore = True,\n",
    "            ):\n",
    "        \n",
    "    val = value.copy()\n",
    "    #--- zscore\n",
    "    if zscore:\n",
    "        val -= np.mean(val)\n",
    "        val /= np.std(val)\n",
    "        val[val>2.0]=1.0\n",
    "        val[val<-2.0]=-1.0\n",
    "    #\n",
    "    (mgrid,ngrid) = val.shape\n",
    "    center = (ngrid/2,mgrid/2)\n",
    "    plt.xlabel(xlabel)\n",
    "    plt.ylabel(ylabel)\n",
    "    pos = plt.imshow((CenterMatrix( val ).real),cmap='bwr',\n",
    "                     extent=(xlim[0],xlim[1],ylim[0],ylim[1])) #,vmin=-.01, vmax=.01)\n",
    "    plt.xlim(xlim[0]*frac,xlim[1]*frac)\n",
    "    plt.ylim(ylim[0]*frac,ylim[1]*frac)\n",
    "\n",
    "    plt.colorbar( pos, fraction = 0.04)\n",
    "    plt.show()\n",
    "\n",
    "\n",
    "itime = 500000*4\n",
    "CellVectorOrtho, VectorNorm = GetOrthogonalBasis( CellVector[ itime ] ) #--- box length\n",
    "#    \n",
    "crltn = Crltn[ itime ]\n",
    "#--- xy plane\n",
    "val = crltn[:,:,0].copy()\n",
    "PltCrltn( val, \n",
    "          xlabel = 'x', ylabel = 'y',\n",
    "          xlim=VectorNorm[0]*np.array([-0.5,0.5]),ylim=VectorNorm[1]*np.array([-0.5,0.5]),\n",
    "          frac = 1.0, #--- plot a patch\n",
    "          zscore = False,\n",
    "        )\n",
    "#--- zx plane\n",
    "val = crltn[0,:,:].copy()\n",
    "PltCrltn( val, \n",
    "          xlabel = 'z', ylabel = 'x',\n",
    "          xlim=VectorNorm[2]*np.array([-0.5,0.5]),ylim=VectorNorm[0]*np.array([-0.5,0.5]),\n",
    "          frac = 1.0, #--- plot a patch\n",
    "          zscore = False,\n",
    "        )\n",
    "#--- zy plane\n",
    "val = crltn[:,0,:].copy()\n",
    "PltCrltn( val, \n",
    "          xlabel = 'z', ylabel = 'y',\n",
    "          xlim=VectorNorm[2]*np.array([-0.5,0.5]),ylim=VectorNorm[1]*np.array([-0.5,0.5]),\n",
    "          frac = 1.0, #--- plot a patch\n",
    "          zscore = False,\n",
    "        )\n",
    "\n"
   ]
  },
  {
   "cell_type": "code",
   "execution_count": 115,
   "metadata": {},
   "outputs": [
    {
     "data": {
      "image/png": "[encoded data removed]",
      "text/plain": [
       "<Figure size 432x288 with 1 Axes>"
      ]
     },
     "metadata": {
      "needs_background": "light"
     },
     "output_type": "display_data"
    }
   ],
   "source": [
    "val = crltn[:,:,0].copy()\n",
    "plt.plot(val[:,0],'o')\n",
    "plt.xlabel('y')\n",
    "plt.show()"
   ]
  },
  {
   "cell_type": "code",
   "execution_count": 116,
   "metadata": {},
   "outputs": [
    {
     "data": {
      "image/png": "[encoded data removed]",
      "text/plain": [
       "<Figure size 432x288 with 1 Axes>"
      ]
     },
     "metadata": {
      "needs_background": "light"
     },
     "output_type": "display_data"
    }
   ],
   "source": [
    "val = crltn[:,:,0].copy()\n",
    "plt.plot(val[0,:],'o')\n",
    "plt.xlabel('x')\n",
    "plt.show()"
   ]
  },
  {
   "cell_type": "code",
   "execution_count": null,
   "metadata": {},
   "outputs": [],
   "source": []
  }
 ],
 "metadata": {
  "kernelspec": {
   "display_name": "Python 2",
   "language": "python",
   "name": "python2"
  },
  "language_info": {
   "codemirror_mode": {
    "name": "ipython",
    "version": 2
   },
   "file_extension": ".py",
   "mimetype": "text/x-python",
   "name": "python",
   "nbconvert_exporter": "python",
   "pygments_lexer": "ipython2",
   "version": "2.7.10"
  }
 },
 "nbformat": 4,
 "nbformat_minor": 4
}
