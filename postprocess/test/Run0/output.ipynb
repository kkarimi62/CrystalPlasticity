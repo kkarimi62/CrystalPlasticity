{
 "cells": [
  {
   "cell_type": "code",
   "execution_count": null,
   "metadata": {
    "tags": [
     "injected-parameters"
    ]
   },
   "outputs": [],
   "source": [
    "# Parameters\n",
    "path = \"/home/kamran.karimi1/Project/git/CrystalPlasticity/postprocess/../testRuns/test/Run0\"\n"
   ]
  },
  {
   "cell_type": "markdown",
   "metadata": {
    "papermill": {},
    "tags": []
   },
   "source": [
    "# import libraries"
   ]
  },
  {
   "cell_type": "code",
   "execution_count": 18,
   "metadata": {
    "papermill": {},
    "tags": []
   },
   "outputs": [],
   "source": [
    "import pandas as pd\n",
    "import numpy as np\n",
    "import matplotlib.pylab as plt\n",
    "import traceback\n",
    "import os\n",
    "import scipy.interpolate as scp_int\n",
    "import warnings\n",
    "import matplotlib\n",
    "#\n",
    "matplotlib.rcParams['text.usetex'] = True\n",
    "warnings.filterwarnings('ignore')"
   ]
  },
  {
   "cell_type": "markdown",
   "metadata": {
    "papermill": {},
    "tags": []
   },
   "source": [
    "# input stress file"
   ]
  },
  {
   "cell_type": "code",
   "execution_count": 63,
   "metadata": {
    "papermill": {},
    "tags": []
   },
   "outputs": [],
   "source": [
    "def GetOrthogonalBasis( CellVector ): \n",
    "    a0 = CellVector[:,0]\n",
    "    l0 = np.dot(a0,a0)**0.5\n",
    "    n0 = a0 / l0 \n",
    "    #\n",
    "    a1 = CellVector[:,1]\n",
    "    a1_perp = a1 - np.dot( a1, n0 ) * n0\n",
    "    l1 = np.dot( a1_perp, a1_perp) ** 0.5\n",
    "    #\n",
    "    a2 = CellVector[:,2]\n",
    "    l2 = np.dot(a2,a2)**0.5\n",
    "    \n",
    "    return np.c_[a0, a1_perp, a2], [l0, l1, l2]\n",
    "\n",
    "def GetCordsTimeStep(slist):\n",
    "    slist.readline()\n",
    "    itime = int( slist.readline().split()[0] )\n",
    "    \n",
    "    [slist.readline() for i in xrange(1)]\n",
    "    nrows = int(slist.readline().split()[0])\n",
    "\n",
    "    [slist.readline() for i in xrange(1)]\n",
    "    \n",
    "    CellVector = np.array([slist.readline().split() for i in xrange( 3 )])\n",
    "    \n",
    "    cols = slist.readline().split()[2:]\n",
    "    \n",
    "    return np.array([slist.readline().split() for i in xrange( nrows )]), CellVector, itime, cols\n",
    "    \n",
    "def GetCords( file_name ):\n",
    "    slist = open( file_name )    \n",
    "    coord_atoms_broken = {}\n",
    "    CellVector = {}\n",
    "    try:\n",
    "        while True:\n",
    "            sarr, cell_vector, itime, cols  = GetCordsTimeStep( slist ) #--- get coord\n",
    "            #--- insert in a data frame\n",
    "            coord_atoms_broken[ itime ] = pd.DataFrame( sarr, columns = cols )\n",
    "            \n",
    "            #--- cast id to 'int'\n",
    "            coord_atoms_broken[ itime ]['id'] = map(int,coord_atoms_broken[ itime ]['id'].tolist())[:]\n",
    "\n",
    "            #--- sort\n",
    "            coord_atoms_broken[ itime ].sort_values( by = 'id', inplace = True )\n",
    "            \n",
    "            #--- reset index\n",
    "            coord_atoms_broken[ itime ].reset_index( drop=True, inplace=True )\n",
    "            \n",
    "            CellVector[ itime ] = cell_vector\n",
    "    except:\n",
    "#        traceback.print_exc()\n",
    "        pass\n",
    "\n",
    "    \n",
    "    return coord_atoms_broken, CellVector\n",
    "\n",
    "def GetCellVector( CellVector ):\n",
    "    CellVector[0] = np.c_[CellVector[0],['0.0','0.0','0.0']] #--- ref. state\n",
    "\n",
    "    CellOrigin = {}\n",
    "    cell_vector = {}\n",
    "    \n",
    "    for itime in CellVector:\n",
    "        row0 = map( float, CellVector[ itime ][ 0 ] )\n",
    "        l0 = row0[ 1 ] - row0[ 0 ] - row0[ 2 ]\n",
    "        CellVector0 = np.array( [ l0, 0.0, 0.0 ] )\n",
    "        dx = row0[ 2 ]\n",
    "        \n",
    "        row1 =  map( float, CellVector[ itime ][ 1 ] )\n",
    "        l1 = row1[ 1 ] - row1[ 0 ]\n",
    "        a1 = np.array( [ 0.0, l1, 0.0 ] )\n",
    "        CellVector1 = CellVector0 * ( dx / l0 ) + a1\n",
    "        \n",
    "        row2 =  map( float, CellVector[ itime ][ 2 ] )\n",
    "        l2 = row2[ 1 ] - row2[ 0 ]\n",
    "        CellVector2 = np.array( [ 0.0, 0.0, l2 ] )\n",
    "        \n",
    "        CellOrigin[ itime ] = np.array( [ row0[ 0 ], row1[ 0 ], row2[ 0 ] ] )\n",
    "        cell_vector[ itime ] = np.c_[ CellVector0, CellVector1, CellVector2 ] \n",
    "\n",
    "    return CellOrigin, cell_vector\n",
    "\n",
    " \n",
    "#path = 'testRuns/test/Run0/' #--- comment if passed by argument\n",
    "fileName = ('virialStress.xyz','junk')[0]#--- parse cords\n",
    "coord_atoms_broken, cell_vector = GetCords( '%s/%s'%(path, fileName ) ) #--- add xyz for broken bonds #--- check id!!1\n",
    "CellOrigin, CellVector = GetCellVector( cell_vector )"
   ]
  },
  {
   "cell_type": "markdown",
   "metadata": {
    "papermill": {},
    "tags": []
   },
   "source": [
    "# stress-strain curve"
   ]
  },
  {
   "cell_type": "code",
   "execution_count": 90,
   "metadata": {
    "papermill": {},
    "tags": []
   },
   "outputs": [
    {
     "data": {
      "image/png": "[encoded data removed]",
      "text/plain": [
       "<Figure size 288x288 with 1 Axes>"
      ]
     },
     "metadata": {
      "needs_background": "light"
     },
     "output_type": "display_data"
    }
   ],
   "source": [
    "fig = plt.figure( figsize = (4,4))\n",
    "ax = fig.add_subplot(111)\n",
    "#ax2 = ax.twinx()\n",
    "ax.set_xlabel(r'$\\epsilon$',fontsize=16)\n",
    "ax.set_ylabel(r'$\\sigma$',fontsize=16)\n",
    "ax.tick_params(labelsize=16)\n",
    "#ax.set_yscale('log')\n",
    "#ax.set_ylim(1e6,1e8)\n",
    "#ax2.tick_params(labelsize=16)\n",
    "#ax.set_title(fileNamee[:-4])\n",
    "#\n",
    "#ax.plot(stress[:,0],stress[:,1],'-')\n",
    "\n",
    "#--- point corresponding to strain maps\n",
    "virial = []\n",
    "mu = []\n",
    "strain = []\n",
    "times = coord_atoms_broken.keys()\n",
    "times.sort()\n",
    "for itime in times:\n",
    "    CellVectorOrtho, VectorNorm = GetOrthogonalBasis( CellVector[ itime ] )\n",
    "    volume = np.linalg.det( CellVectorOrtho )\n",
    "    virial += [np.c_[coord_atoms_broken[itime]['c_1[4]']].astype(float).sum() / volume]\n",
    "    mu += [np.c_[coord_atoms_broken[itime]['c_1[22]']].astype(float).sum() / volume]\n",
    "    #--- strain\n",
    "    dx=CellVector[ itime ][0,1]-CellVector[ 0 ][0,1]\n",
    "    l1=CellVector[ itime ][1,1]\n",
    "    strain += [0.5*dx/l1]\n",
    "\n",
    "#--- plot stress\n",
    "ax.plot(2*np.array(strain),np.array(virial),'-o')\n",
    "\n",
    "#--- fit\n",
    "coeffs = np.polyfit(2*np.array(strain),np.array(virial), 1)\n",
    "def func(x, m, b):\n",
    "    return m*x+b\n",
    "\n",
    "\n",
    "#--- print fit\n",
    "ax.plot(2*np.array(strain),func(2*np.array(strain), *coeffs),'-.r')\n",
    "\n",
    "#\n",
    "plt.savefig('stressStrain'+'.png',dpi=75,bbox_inches='tight')\n",
    "plt.show()"
   ]
  },
  {
   "cell_type": "code",
   "execution_count": 91,
   "metadata": {
    "papermill": {},
    "tags": []
   },
   "outputs": [
    {
     "data": {
      "image/png": "[encoded data removed]",
      "text/plain": [
       "<Figure size 288x288 with 1 Axes>"
      ]
     },
     "metadata": {
      "needs_background": "light"
     },
     "output_type": "display_data"
    }
   ],
   "source": [
    "fig = plt.figure( figsize = (4,4))\n",
    "ax = fig.add_subplot(111)\n",
    "#ax2 = ax.twinx()\n",
    "ax.set_xlabel(r'$\\epsilon$',fontsize=16)\n",
    "ax.set_ylabel(r'$\\mu$',fontsize=16)\n",
    "ax.tick_params(labelsize=16)\n",
    "ax.set_yscale('log')\n",
    "ax.set_ylim(1e5,1e7)\n",
    "#ax2.tick_params(labelsize=16)\n",
    "#ax.set_title(fileNamee[:-4])\n",
    "#\n",
    "#ax.plot(stress[:,0],stress[:,1],'-')\n",
    "\n",
    "#--- plot mu\n",
    "ax.plot(2*np.array(strain),np.array(mu),'-rs', label='Born')\n",
    "\n",
    "#--- plot stress\n",
    "#ax.plot(2*np.array(strain),np.array(virial),'-o')\n",
    "#ax.plot(2*np.array(strain),np.gradient(virial,2*np.array(strain)),'-o')\n",
    "ax.plot(ax.axis()[:2],[ coeffs[0], coeffs[0] ],'-.', label='estimate')\n",
    "\n",
    "#\n",
    "plt.savefig('bornModulus.png',dpi=75,bbox_inches='tight')\n",
    "plt.show()"
   ]
  },
  {
   "cell_type": "code",
   "execution_count": 103,
   "metadata": {
    "papermill": {},
    "tags": []
   },
   "outputs": [
    {
     "data": {
      "text/plain": [
       "'-1.325375e+07'"
      ]
     },
     "execution_count": 103,
     "metadata": {},
     "output_type": "execute_result"
    }
   ],
   "source": [
    "mean = coord_atoms_broken[itime]['c_1[22]'].astype(float).mean()\n",
    "std = coord_atoms_broken[itime]['c_1[22]'].astype(float).std()\n",
    "'%e'%(mean-2*std)"
   ]
  }
 ],
 "metadata": {
  "kernelspec": {
   "display_name": "Python 2",
   "language": "python",
   "name": "python2"
  },
  "language_info": {
   "codemirror_mode": {
    "name": "ipython",
    "version": 2
   },
   "file_extension": ".py",
   "mimetype": "text/x-python",
   "name": "python",
   "nbconvert_exporter": "python",
   "pygments_lexer": "ipython2",
   "version": "2.7.10"
  },
  "papermill": {
   "environment_variables": {},
   "input_path": "/home/kamran.karimi1/Project/git/CrystalPlasticity/postprocess/test/Run0/ElasticConstants.ipynb",
   "output_path": "./output.ipynb",
   "parameters": {
    "path": "/home/kamran.karimi1/Project/git/CrystalPlasticity/postprocess/../testRuns/test/Run0"
   },
   "version": "1.2.1"
  }
 },
 "nbformat": 4,
 "nbformat_minor": 4
}