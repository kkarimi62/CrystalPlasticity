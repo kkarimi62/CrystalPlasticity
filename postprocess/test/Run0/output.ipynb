{
 "cells": [
  {
   "cell_type": "code",
   "execution_count": null,
   "metadata": {
    "tags": [
     "injected-parameters"
    ]
   },
   "outputs": [],
   "source": [
    "# Parameters\n",
    "path = \"/home/kamran.karimi1/Project/git/CrystalPlasticity/postprocess/../testRuns/test/Run0\"\n"
   ]
  },
  {
   "cell_type": "markdown",
   "metadata": {
    "papermill": {},
    "tags": []
   },
   "source": [
    "# import libraries"
   ]
  },
  {
   "cell_type": "code",
   "execution_count": 5,
   "metadata": {
    "papermill": {},
    "tags": []
   },
   "outputs": [],
   "source": [
    "import pandas as pd\n",
    "import numpy as np\n",
    "import matplotlib.pylab as plt\n",
    "import traceback\n",
    "import os\n",
    "import scipy.interpolate as scp_int\n",
    "import warnings\n",
    "import matplotlib\n",
    "from scipy.interpolate import Rbf\n",
    "#\n",
    "matplotlib.rcParams['text.usetex'] = True\n",
    "warnings.filterwarnings('ignore')\n",
    "#\n",
    "#path = '../testRuns/test/' #--- comment if passed by argument"
   ]
  },
  {
   "cell_type": "code",
   "execution_count": 2,
   "metadata": {
    "papermill": {},
    "scrolled": false,
    "tags": []
   },
   "outputs": [
    {
     "name": "stdout",
     "output_type": "stream",
     "text": [
      "Help on class interp2d in module scipy.interpolate.interpolate:\n",
      "\n",
      "class interp2d(__builtin__.object)\n",
      " |  interp2d(x, y, z, kind='linear', copy=True, bounds_error=False,\n",
      " |           fill_value=nan)\n",
      " |  \n",
      " |  Interpolate over a 2-D grid.\n",
      " |  \n",
      " |  `x`, `y` and `z` are arrays of values used to approximate some function\n",
      " |  f: ``z = f(x, y)``. This class returns a function whose call method uses\n",
      " |  spline interpolation to find the value of new points.\n",
      " |  \n",
      " |  If `x` and `y` represent a regular grid, consider using\n",
      " |  RectBivariateSpline.\n",
      " |  \n",
      " |  Note that calling `interp2d` with NaNs present in input values results in\n",
      " |  undefined behaviour.\n",
      " |  \n",
      " |  Methods\n",
      " |  -------\n",
      " |  __call__\n",
      " |  \n",
      " |  Parameters\n",
      " |  ----------\n",
      " |  x, y : array_like\n",
      " |      Arrays defining the data point coordinates.\n",
      " |  \n",
      " |      If the points lie on a regular grid, `x` can specify the column\n",
      " |      coordinates and `y` the row coordinates, for example::\n",
      " |  \n",
      " |        >>> x = [0,1,2];  y = [0,3]; z = [[1,2,3], [4,5,6]]\n",
      " |  \n",
      " |      Otherwise, `x` and `y` must specify the full coordinates for each\n",
      " |      point, for example::\n",
      " |  \n",
      " |        >>> x = [0,1,2,0,1,2];  y = [0,0,0,3,3,3]; z = [1,2,3,4,5,6]\n",
      " |  \n",
      " |      If `x` and `y` are multi-dimensional, they are flattened before use.\n",
      " |  z : array_like\n",
      " |      The values of the function to interpolate at the data points. If\n",
      " |      `z` is a multi-dimensional array, it is flattened before use.  The\n",
      " |      length of a flattened `z` array is either\n",
      " |      len(`x`)*len(`y`) if `x` and `y` specify the column and row coordinates\n",
      " |      or ``len(z) == len(x) == len(y)`` if `x` and `y` specify coordinates\n",
      " |      for each point.\n",
      " |  kind : {'linear', 'cubic', 'quintic'}, optional\n",
      " |      The kind of spline interpolation to use. Default is 'linear'.\n",
      " |  copy : bool, optional\n",
      " |      If True, the class makes internal copies of x, y and z.\n",
      " |      If False, references may be used. The default is to copy.\n",
      " |  bounds_error : bool, optional\n",
      " |      If True, when interpolated values are requested outside of the\n",
      " |      domain of the input data (x,y), a ValueError is raised.\n",
      " |      If False, then `fill_value` is used.\n",
      " |  fill_value : number, optional\n",
      " |      If provided, the value to use for points outside of the\n",
      " |      interpolation domain. If omitted (None), values outside\n",
      " |      the domain are extrapolated.\n",
      " |  \n",
      " |  See Also\n",
      " |  --------\n",
      " |  RectBivariateSpline :\n",
      " |      Much faster 2D interpolation if your input data is on a grid\n",
      " |  bisplrep, bisplev :\n",
      " |      Spline interpolation based on FITPACK\n",
      " |  BivariateSpline : a more recent wrapper of the FITPACK routines\n",
      " |  interp1d : one dimension version of this function\n",
      " |  \n",
      " |  Notes\n",
      " |  -----\n",
      " |  The minimum number of data points required along the interpolation\n",
      " |  axis is ``(k+1)**2``, with k=1 for linear, k=3 for cubic and k=5 for\n",
      " |  quintic interpolation.\n",
      " |  \n",
      " |  The interpolator is constructed by `bisplrep`, with a smoothing factor\n",
      " |  of 0. If more control over smoothing is needed, `bisplrep` should be\n",
      " |  used directly.\n",
      " |  \n",
      " |  Examples\n",
      " |  --------\n",
      " |  Construct a 2-D grid and interpolate on it:\n",
      " |  \n",
      " |  >>> from scipy import interpolate\n",
      " |  >>> x = np.arange(-5.01, 5.01, 0.25)\n",
      " |  >>> y = np.arange(-5.01, 5.01, 0.25)\n",
      " |  >>> xx, yy = np.meshgrid(x, y)\n",
      " |  >>> z = np.sin(xx**2+yy**2)\n",
      " |  >>> f = interpolate.interp2d(x, y, z, kind='cubic')\n",
      " |  \n",
      " |  Now use the obtained interpolation function and plot the result:\n",
      " |  \n",
      " |  >>> import matplotlib.pyplot as plt\n",
      " |  >>> xnew = np.arange(-5.01, 5.01, 1e-2)\n",
      " |  >>> ynew = np.arange(-5.01, 5.01, 1e-2)\n",
      " |  >>> znew = f(xnew, ynew)\n",
      " |  >>> plt.plot(x, z[0, :], 'ro-', xnew, znew[0, :], 'b-')\n",
      " |  >>> plt.show()\n",
      " |  \n",
      " |  Methods defined here:\n",
      " |  \n",
      " |  __call__(self, x, y, dx=0, dy=0, assume_sorted=False)\n",
      " |      Interpolate the function.\n",
      " |      \n",
      " |      Parameters\n",
      " |      ----------\n",
      " |      x : 1D array\n",
      " |          x-coordinates of the mesh on which to interpolate.\n",
      " |      y : 1D array\n",
      " |          y-coordinates of the mesh on which to interpolate.\n",
      " |      dx : int >= 0, < kx\n",
      " |          Order of partial derivatives in x.\n",
      " |      dy : int >= 0, < ky\n",
      " |          Order of partial derivatives in y.\n",
      " |      assume_sorted : bool, optional\n",
      " |          If False, values of `x` and `y` can be in any order and they are\n",
      " |          sorted first.\n",
      " |          If True, `x` and `y` have to be arrays of monotonically\n",
      " |          increasing values.\n",
      " |      \n",
      " |      Returns\n",
      " |      -------\n",
      " |      z : 2D array with shape (len(y), len(x))\n",
      " |          The interpolated values.\n",
      " |  \n",
      " |  __init__(self, x, y, z, kind='linear', copy=True, bounds_error=False, fill_value=None)\n",
      " |  \n",
      " |  ----------------------------------------------------------------------\n",
      " |  Data descriptors defined here:\n",
      " |  \n",
      " |  __dict__\n",
      " |      dictionary for instance variables (if defined)\n",
      " |  \n",
      " |  __weakref__\n",
      " |      list of weak references to the object (if defined)\n",
      "\n"
     ]
    }
   ],
   "source": [
    "import scipy.interpolate\n",
    "help(scipy.interpolate.interp2d)"
   ]
  },
  {
   "cell_type": "markdown",
   "metadata": {
    "papermill": {},
    "tags": []
   },
   "source": [
    "# input stress file"
   ]
  },
  {
   "cell_type": "code",
   "execution_count": 6,
   "metadata": {
    "papermill": {},
    "tags": []
   },
   "outputs": [],
   "source": [
    "def GetOrthogonalBasis( CellVector ): \n",
    "    a0 = CellVector[:,0]\n",
    "    l0 = np.dot(a0,a0)**0.5\n",
    "    n0 = a0 / l0 \n",
    "    #\n",
    "    a1 = CellVector[:,1]\n",
    "    a1_perp = a1 - np.dot( a1, n0 ) * n0\n",
    "    l1 = np.dot( a1_perp, a1_perp) ** 0.5\n",
    "    #\n",
    "    a2 = CellVector[:,2]\n",
    "    l2 = np.dot(a2,a2)**0.5\n",
    "    \n",
    "    return np.c_[a0, a1_perp, a2], [l0, l1, l2]\n",
    "\n",
    "def GetCordsTimeStep(slist):\n",
    "    slist.readline()\n",
    "    itime = int( slist.readline().split()[0] )\n",
    "    \n",
    "    [slist.readline() for i in xrange(1)]\n",
    "    nrows = int(slist.readline().split()[0])\n",
    "\n",
    "    [slist.readline() for i in xrange(1)]\n",
    "    \n",
    "    CellVector = np.array([slist.readline().split() for i in xrange( 3 )])\n",
    "    \n",
    "    cols = slist.readline().split()[2:]\n",
    "    \n",
    "    return np.array([slist.readline().split() for i in xrange( nrows )]), CellVector, itime, cols\n",
    "    \n",
    "def GetCords( file_name ):\n",
    "    slist = open( file_name )    \n",
    "    coord_atoms_broken = {}\n",
    "    CellVector = {}\n",
    "    try:\n",
    "        while True:\n",
    "            sarr, cell_vector, itime, cols  = GetCordsTimeStep( slist ) #--- get coord\n",
    "            #--- insert in a data frame\n",
    "            coord_atoms_broken[ itime ] = pd.DataFrame( sarr, columns = cols )\n",
    "            \n",
    "            #--- cast id to 'int'\n",
    "            coord_atoms_broken[ itime ]['id'] = map(int,coord_atoms_broken[ itime ]['id'].tolist())[:]\n",
    "\n",
    "            #--- sort\n",
    "            coord_atoms_broken[ itime ].sort_values( by = 'id', inplace = True )\n",
    "            \n",
    "            #--- reset index\n",
    "            coord_atoms_broken[ itime ].reset_index( drop=True, inplace=True )\n",
    "            \n",
    "            CellVector[ itime ] = cell_vector\n",
    "    except:\n",
    "#        traceback.print_exc()\n",
    "        pass\n",
    "\n",
    "    \n",
    "    return coord_atoms_broken, CellVector\n",
    "\n",
    "def GetCellVector( CellVector ):\n",
    "    CellVector[0] = np.c_[CellVector[0],['0.0','0.0','0.0']] #--- ref. state\n",
    "\n",
    "    CellOrigin = {}\n",
    "    cell_vector = {}\n",
    "    \n",
    "    for itime in CellVector:\n",
    "        row0 = map( float, CellVector[ itime ][ 0 ] )\n",
    "        l0 = row0[ 1 ] - row0[ 0 ] - row0[ 2 ]\n",
    "        CellVector0 = np.array( [ l0, 0.0, 0.0 ] )\n",
    "        dx = row0[ 2 ]\n",
    "        \n",
    "        row1 =  map( float, CellVector[ itime ][ 1 ] )\n",
    "        l1 = row1[ 1 ] - row1[ 0 ]\n",
    "        a1 = np.array( [ 0.0, l1, 0.0 ] )\n",
    "        CellVector1 = CellVector0 * ( dx / l0 ) + a1\n",
    "        \n",
    "        row2 =  map( float, CellVector[ itime ][ 2 ] )\n",
    "        l2 = row2[ 1 ] - row2[ 0 ]\n",
    "        CellVector2 = np.array( [ 0.0, 0.0, l2 ] )\n",
    "        \n",
    "        CellOrigin[ itime ] = np.array( [ row0[ 0 ], row1[ 0 ], row2[ 0 ] ] )\n",
    "        cell_vector[ itime ] = np.c_[ CellVector0, CellVector1, CellVector2 ] \n",
    "\n",
    "    return CellOrigin, cell_vector\n",
    "\n",
    " \n",
    "fileName = ('virialStress.xyz','junk')[0]#--- parse cords\n",
    "coord_atoms_broken, cell_vector = GetCords( '%s/%s'%(path, fileName ) ) #--- add xyz for broken bonds #--- check id!!1\n",
    "CellOrigin, CellVector = GetCellVector( cell_vector )"
   ]
  },
  {
   "cell_type": "code",
   "execution_count": 7,
   "metadata": {
    "papermill": {},
    "tags": []
   },
   "outputs": [],
   "source": [
    "coord_atoms_broken[0]['c_1[22]'] = np.random.random(size=len(coord_atoms_broken[0]))"
   ]
  },
  {
   "cell_type": "code",
   "execution_count": 4,
   "metadata": {
    "papermill": {},
    "tags": []
   },
   "outputs": [
    {
     "data": {
      "text/html": [
       "<div>\n",
       "<style scoped>\n",
       "    .dataframe tbody tr th:only-of-type {\n",
       "        vertical-align: middle;\n",
       "    }\n",
       "\n",
       "    .dataframe tbody tr th {\n",
       "        vertical-align: top;\n",
       "    }\n",
       "\n",
       "    .dataframe thead th {\n",
       "        text-align: right;\n",
       "    }\n",
       "</style>\n",
       "<table border=\"1\" class=\"dataframe\">\n",
       "  <thead>\n",
       "    <tr style=\"text-align: right;\">\n",
       "      <th></th>\n",
       "      <th>id</th>\n",
       "      <th>type</th>\n",
       "      <th>x</th>\n",
       "      <th>y</th>\n",
       "      <th>z</th>\n",
       "      <th>c_1[1]</th>\n",
       "      <th>c_1[2]</th>\n",
       "      <th>c_1[3]</th>\n",
       "      <th>c_1[4]</th>\n",
       "      <th>c_1[5]</th>\n",
       "      <th>c_1[6]</th>\n",
       "      <th>c_1[22]</th>\n",
       "    </tr>\n",
       "  </thead>\n",
       "  <tbody>\n",
       "    <tr>\n",
       "      <th>0</th>\n",
       "      <td>1</td>\n",
       "      <td>4</td>\n",
       "      <td>4.73092</td>\n",
       "      <td>-20.5781</td>\n",
       "      <td>-41.4164</td>\n",
       "      <td>538953</td>\n",
       "      <td>815189</td>\n",
       "      <td>1.32064e+06</td>\n",
       "      <td>-708048</td>\n",
       "      <td>96251.4</td>\n",
       "      <td>-1.13352e+06</td>\n",
       "      <td>0.821505</td>\n",
       "    </tr>\n",
       "    <tr>\n",
       "      <th>1</th>\n",
       "      <td>2</td>\n",
       "      <td>2</td>\n",
       "      <td>-5.47277</td>\n",
       "      <td>-15.5065</td>\n",
       "      <td>-11.9452</td>\n",
       "      <td>797174</td>\n",
       "      <td>444472</td>\n",
       "      <td>818109</td>\n",
       "      <td>1.58842e+06</td>\n",
       "      <td>-414118</td>\n",
       "      <td>-733500</td>\n",
       "      <td>0.906627</td>\n",
       "    </tr>\n",
       "    <tr>\n",
       "      <th>2</th>\n",
       "      <td>3</td>\n",
       "      <td>2</td>\n",
       "      <td>-35.0984</td>\n",
       "      <td>26.3091</td>\n",
       "      <td>27.5002</td>\n",
       "      <td>-807442</td>\n",
       "      <td>-96284.9</td>\n",
       "      <td>-43041.3</td>\n",
       "      <td>-708118</td>\n",
       "      <td>138709</td>\n",
       "      <td>-511917</td>\n",
       "      <td>0.122028</td>\n",
       "    </tr>\n",
       "    <tr>\n",
       "      <th>3</th>\n",
       "      <td>4</td>\n",
       "      <td>2</td>\n",
       "      <td>-35.9647</td>\n",
       "      <td>-2.19362</td>\n",
       "      <td>-39.5794</td>\n",
       "      <td>-1.90474e+06</td>\n",
       "      <td>814309</td>\n",
       "      <td>-254080</td>\n",
       "      <td>661273</td>\n",
       "      <td>-33718.9</td>\n",
       "      <td>-319269</td>\n",
       "      <td>0.000741</td>\n",
       "    </tr>\n",
       "    <tr>\n",
       "      <th>4</th>\n",
       "      <td>5</td>\n",
       "      <td>2</td>\n",
       "      <td>30.5536</td>\n",
       "      <td>-33.6756</td>\n",
       "      <td>-25.6883</td>\n",
       "      <td>-1.18734e+06</td>\n",
       "      <td>325256</td>\n",
       "      <td>532245</td>\n",
       "      <td>131905</td>\n",
       "      <td>21509.8</td>\n",
       "      <td>-630743</td>\n",
       "      <td>0.023839</td>\n",
       "    </tr>\n",
       "  </tbody>\n",
       "</table>\n",
       "</div>"
      ],
      "text/plain": [
       "   id type         x         y         z        c_1[1]    c_1[2]       c_1[3]  \\\n",
       "0   1    4   4.73092  -20.5781  -41.4164        538953    815189  1.32064e+06   \n",
       "1   2    2  -5.47277  -15.5065  -11.9452        797174    444472       818109   \n",
       "2   3    2  -35.0984   26.3091   27.5002       -807442  -96284.9     -43041.3   \n",
       "3   4    2  -35.9647  -2.19362  -39.5794  -1.90474e+06    814309      -254080   \n",
       "4   5    2   30.5536  -33.6756  -25.6883  -1.18734e+06    325256       532245   \n",
       "\n",
       "        c_1[4]    c_1[5]        c_1[6]   c_1[22]  \n",
       "0      -708048   96251.4  -1.13352e+06  0.821505  \n",
       "1  1.58842e+06   -414118       -733500  0.906627  \n",
       "2      -708118    138709       -511917  0.122028  \n",
       "3       661273  -33718.9       -319269  0.000741  \n",
       "4       131905   21509.8       -630743  0.023839  "
      ]
     },
     "execution_count": 4,
     "metadata": {},
     "output_type": "execute_result"
    }
   ],
   "source": [
    "coord_atoms_broken[0].head()"
   ]
  },
  {
   "cell_type": "markdown",
   "metadata": {
    "papermill": {},
    "tags": []
   },
   "source": [
    "# stress-strain curve"
   ]
  },
  {
   "cell_type": "code",
   "execution_count": 196,
   "metadata": {
    "papermill": {},
    "tags": []
   },
   "outputs": [
    {
     "ename": "TypeError",
     "evalue": "expected non-empty vector for x",
     "output_type": "error",
     "traceback": [
      "\u001b[0;31m---------------------------------------------------------------------------\u001b[0m",
      "\u001b[0;31mTypeError\u001b[0m                                 Traceback (most recent call last)",
      "\u001b[0;32m<ipython-input-196-a9c353cf3274>\u001b[0m in \u001b[0;36m<module>\u001b[0;34m()\u001b[0m\n\u001b[1;32m     32\u001b[0m \u001b[0;34m\u001b[0m\u001b[0m\n\u001b[1;32m     33\u001b[0m \u001b[0;31m#--- fit\u001b[0m\u001b[0;34m\u001b[0m\u001b[0;34m\u001b[0m\u001b[0m\n\u001b[0;32m---> 34\u001b[0;31m \u001b[0mcoeffs\u001b[0m \u001b[0;34m=\u001b[0m \u001b[0mnp\u001b[0m\u001b[0;34m.\u001b[0m\u001b[0mpolyfit\u001b[0m\u001b[0;34m(\u001b[0m\u001b[0;36m2\u001b[0m\u001b[0;34m*\u001b[0m\u001b[0mnp\u001b[0m\u001b[0;34m.\u001b[0m\u001b[0marray\u001b[0m\u001b[0;34m(\u001b[0m\u001b[0mstrain\u001b[0m\u001b[0;34m)\u001b[0m\u001b[0;34m[\u001b[0m\u001b[0;36m1\u001b[0m\u001b[0;34m:\u001b[0m\u001b[0;34m]\u001b[0m\u001b[0;34m,\u001b[0m\u001b[0mnp\u001b[0m\u001b[0;34m.\u001b[0m\u001b[0marray\u001b[0m\u001b[0;34m(\u001b[0m\u001b[0mvirial\u001b[0m\u001b[0;34m)\u001b[0m\u001b[0;34m[\u001b[0m\u001b[0;36m1\u001b[0m\u001b[0;34m:\u001b[0m\u001b[0;34m]\u001b[0m\u001b[0;34m,\u001b[0m \u001b[0;36m1\u001b[0m\u001b[0;34m)\u001b[0m\u001b[0;34m\u001b[0m\u001b[0m\n\u001b[0m\u001b[1;32m     35\u001b[0m \u001b[0;32mdef\u001b[0m \u001b[0mfunc\u001b[0m\u001b[0;34m(\u001b[0m\u001b[0mx\u001b[0m\u001b[0;34m,\u001b[0m \u001b[0mm\u001b[0m\u001b[0;34m,\u001b[0m \u001b[0mb\u001b[0m\u001b[0;34m)\u001b[0m\u001b[0;34m:\u001b[0m\u001b[0;34m\u001b[0m\u001b[0m\n\u001b[1;32m     36\u001b[0m     \u001b[0;32mreturn\u001b[0m \u001b[0mm\u001b[0m\u001b[0;34m*\u001b[0m\u001b[0mx\u001b[0m\u001b[0;34m+\u001b[0m\u001b[0mb\u001b[0m\u001b[0;34m\u001b[0m\u001b[0m\n",
      "\u001b[0;32m/Library/Python/2.7/site-packages/numpy/lib/polynomial.pyc\u001b[0m in \u001b[0;36mpolyfit\u001b[0;34m(x, y, deg, rcond, full, w, cov)\u001b[0m\n\u001b[1;32m    596\u001b[0m         \u001b[0;32mraise\u001b[0m \u001b[0mTypeError\u001b[0m\u001b[0;34m(\u001b[0m\u001b[0;34m\"expected 1D vector for x\"\u001b[0m\u001b[0;34m)\u001b[0m\u001b[0;34m\u001b[0m\u001b[0m\n\u001b[1;32m    597\u001b[0m     \u001b[0;32mif\u001b[0m \u001b[0mx\u001b[0m\u001b[0;34m.\u001b[0m\u001b[0msize\u001b[0m \u001b[0;34m==\u001b[0m \u001b[0;36m0\u001b[0m\u001b[0;34m:\u001b[0m\u001b[0;34m\u001b[0m\u001b[0m\n\u001b[0;32m--> 598\u001b[0;31m         \u001b[0;32mraise\u001b[0m \u001b[0mTypeError\u001b[0m\u001b[0;34m(\u001b[0m\u001b[0;34m\"expected non-empty vector for x\"\u001b[0m\u001b[0;34m)\u001b[0m\u001b[0;34m\u001b[0m\u001b[0m\n\u001b[0m\u001b[1;32m    599\u001b[0m     \u001b[0;32mif\u001b[0m \u001b[0my\u001b[0m\u001b[0;34m.\u001b[0m\u001b[0mndim\u001b[0m \u001b[0;34m<\u001b[0m \u001b[0;36m1\u001b[0m \u001b[0;32mor\u001b[0m \u001b[0my\u001b[0m\u001b[0;34m.\u001b[0m\u001b[0mndim\u001b[0m \u001b[0;34m>\u001b[0m \u001b[0;36m2\u001b[0m\u001b[0;34m:\u001b[0m\u001b[0;34m\u001b[0m\u001b[0m\n\u001b[1;32m    600\u001b[0m         \u001b[0;32mraise\u001b[0m \u001b[0mTypeError\u001b[0m\u001b[0;34m(\u001b[0m\u001b[0;34m\"expected 1D or 2D array for y\"\u001b[0m\u001b[0;34m)\u001b[0m\u001b[0;34m\u001b[0m\u001b[0m\n",
      "\u001b[0;31mTypeError\u001b[0m: expected non-empty vector for x"
     ]
    },
    {
     "data": {
      "image/png": "[encoded data removed]",
      "text/plain": [
       "<Figure size 288x288 with 1 Axes>"
      ]
     },
     "metadata": {
      "needs_background": "light"
     },
     "output_type": "display_data"
    }
   ],
   "source": [
    "fig = plt.figure( figsize = (4,4))\n",
    "ax = fig.add_subplot(111)\n",
    "#ax2 = ax.twinx()\n",
    "ax.set_xlabel(r'$\\epsilon$',fontsize=16)\n",
    "ax.set_ylabel(r'$\\sigma$',fontsize=16)\n",
    "ax.tick_params(labelsize=16)\n",
    "#ax.set_yscale('log')\n",
    "#ax.set_ylim(1e6,1e8)\n",
    "#ax2.tick_params(labelsize=16)\n",
    "#ax.set_title(fileNamee[:-4])\n",
    "#\n",
    "#ax.plot(stress[:,0],stress[:,1],'-')\n",
    "\n",
    "#--- point corresponding to strain maps\n",
    "virial = []\n",
    "mu = []\n",
    "strain = []\n",
    "times = coord_atoms_broken.keys()\n",
    "times.sort()\n",
    "for itime in times:\n",
    "    CellVectorOrtho, VectorNorm = GetOrthogonalBasis( CellVector[ itime ] )\n",
    "    volume = np.linalg.det( CellVectorOrtho )\n",
    "    virial += [np.c_[coord_atoms_broken[itime]['c_1[4]']].astype(float).sum() / volume]\n",
    "    mu += [np.c_[coord_atoms_broken[itime]['c_1[22]']].astype(float).sum() / volume]\n",
    "    #--- strain\n",
    "    dx=CellVector[ itime ][0,1]-CellVector[ 0 ][0,1]\n",
    "    l1=CellVector[ itime ][1,1]\n",
    "    strain += [0.5*dx/l1]\n",
    "\n",
    "#--- plot stress\n",
    "ax.plot(2*np.array(strain),np.array(virial),'-o')\n",
    "\n",
    "#--- fit\n",
    "coeffs = np.polyfit(2*np.array(strain)[1:],np.array(virial)[1:], 1)\n",
    "def func(x, m, b):\n",
    "    return m*x+b\n",
    "\n",
    "\n",
    "#--- print fit\n",
    "ax.plot(2*np.array(strain),func(2*np.array(strain), *coeffs),'-.r')\n",
    "\n",
    "#\n",
    "plt.savefig('stressStrain.png',dpi=75,bbox_inches='tight')\n",
    "plt.show()"
   ]
  },
  {
   "cell_type": "markdown",
   "metadata": {
    "papermill": {},
    "tags": []
   },
   "source": [
    "# Born Modulus"
   ]
  },
  {
   "cell_type": "markdown",
   "metadata": {
    "papermill": {},
    "tags": []
   },
   "source": [
    "## Bulk value"
   ]
  },
  {
   "cell_type": "code",
   "execution_count": 197,
   "metadata": {
    "papermill": {},
    "tags": []
   },
   "outputs": [
    {
     "data": {
      "image/png": "[encoded data removed]",
      "text/plain": [
       "<Figure size 288x288 with 1 Axes>"
      ]
     },
     "metadata": {
      "needs_background": "light"
     },
     "output_type": "display_data"
    }
   ],
   "source": [
    "fig = plt.figure( figsize = (4,4))\n",
    "ax = fig.add_subplot(111)\n",
    "#ax2 = ax.twinx()\n",
    "ax.set_xlabel(r'$\\epsilon$',fontsize=16)\n",
    "ax.set_ylabel(r'$\\mu$',fontsize=16)\n",
    "ax.tick_params(labelsize=16)\n",
    "ax.set_yscale('log')\n",
    "ax.set_ylim(1e5,1e8)\n",
    "#ax2.tick_params(labelsize=16)\n",
    "#ax.set_title(fileNamee[:-4])\n",
    "#\n",
    "#ax.plot(stress[:,0],stress[:,1],'-')\n",
    "\n",
    "#--- plot mu\n",
    "ax.plot(2*np.array(strain),np.array(mu),'-rs', label='Born')\n",
    "\n",
    "#--- plot stress\n",
    "#ax.plot(2*np.array(strain),np.array(virial),'-o')\n",
    "#ax.plot(2*np.array(strain),np.gradient(virial,2*np.array(strain)),'-o')\n",
    "ax.plot(ax.axis()[:2],[ coeffs[0], coeffs[0] ],'-.', label='estimate')\n",
    "\n",
    "#\n",
    "plt.savefig('bornModulus.png',dpi=75,bbox_inches='tight')\n",
    "plt.show()"
   ]
  },
  {
   "cell_type": "markdown",
   "metadata": {
    "papermill": {},
    "tags": []
   },
   "source": [
    "## PDF"
   ]
  },
  {
   "cell_type": "code",
   "execution_count": 234,
   "metadata": {
    "papermill": {},
    "tags": []
   },
   "outputs": [
    {
     "data": {
      "image/png": "[encoded data removed]",
      "text/plain": [
       "<Figure size 288x288 with 1 Axes>"
      ]
     },
     "metadata": {
      "needs_background": "light"
     },
     "output_type": "display_data"
    }
   ],
   "source": [
    "def GetPDF(slist, n_per_decade=4, ACCUM = None, linscale = None):\n",
    "    if not linscale:\n",
    "        xlo = np.floor(np.log10(np.min(slist)))\n",
    "        xhi = np.ceil(np.log10(np.max(slist)))\n",
    "        bins = np.logspace(xlo,xhi,int(xhi-xlo)*n_per_decade)    \n",
    "    else:\n",
    "        xlo = np.min(slist)\n",
    "        xhi = np.max(slist)\n",
    "        bins = np.linspace(xlo,xhi,n_per_decade)\n",
    "        \n",
    "    hist, edges = np.histogram(slist,bins=bins,density=True)\n",
    "    count, edges = np.histogram(slist,bins=bins)\n",
    "    \n",
    "    \n",
    "    if ACCUM:\n",
    "        return np.cumsum((edges[1:]-edges[:-1])*hist), edges\n",
    "    \n",
    "    \n",
    "    hist = hist[count>0]\n",
    "    edges = edges[:-1][count>0]\n",
    "    count = count[count>0]\n",
    "    \n",
    "    return  hist, edges, hist / count**0.5\n",
    "\n",
    "\n",
    "\n",
    "#--- size distribution\n",
    "itime = 0\n",
    "value = np.c_[coord_atoms_broken[itime]['c_1[22]']].astype(float)*1e-6\n",
    "hist, edges2, error = GetPDF( value, linscale = True, n_per_decade=32)\n",
    "\n",
    "#--- plot\n",
    "fig = plt.figure(figsize=(4,4))\n",
    "ax = fig.add_subplot(111)\n",
    "ax.set_yscale('log')\n",
    "# ax.set_xscale('log')\n",
    "# ax.set_ylim(1e-10,1e-4)\n",
    "ax.set_xlabel(r'$\\mu$(Gpa)',fontsize=16)\n",
    "ax.set_ylabel(r'$P(\\mu)$',fontsize=16)\n",
    "ax.tick_params(labelsize=16)\n",
    "#ax.set_title(r'$\\tau=%2.1f$'%tau)\n",
    "#\n",
    "ax.errorbar(edges2,hist,error,fmt='-o',\n",
    "            markersize=8,markeredgewidth=0.7,\n",
    "                linewidth=.5,\n",
    "                 barsabove=None,capsize=5,capthick=1,elinewidth=1)\n",
    "#\n",
    "plt.savefig('muPDF.png',dpi=75,bbox_inches='tight')\n",
    "plt.show()"
   ]
  },
  {
   "cell_type": "markdown",
   "metadata": {
    "papermill": {},
    "tags": []
   },
   "source": [
    "## Interpolation\n"
   ]
  },
  {
   "cell_type": "markdown",
   "metadata": {
    "papermill": {},
    "tags": []
   },
   "source": [
    "### mapping & add copies"
   ]
  },
  {
   "cell_type": "code",
   "execution_count": 8,
   "metadata": {
    "papermill": {},
    "tags": []
   },
   "outputs": [],
   "source": [
    "def ChangeBasis( coord_atoms_broken, CellVector, CellOrigin, **kwargs ):\n",
    "############################################################\n",
    "####### map atoms within a tilted box to an orthogonal one\n",
    "############################################################\n",
    "\n",
    "    DimensionlessCords = GetDimensionlessCords( CellVector, coord_atoms_broken, CellOrigin  ) #--- beta0, beta1, beta2\n",
    "\n",
    "    #--- shift (beta0 + beta1 * dx / |b0| > 1) by - b0\n",
    "    #--- [b0,b1]^{-1}*(x=|b0|,y)\n",
    "    \n",
    "    b2 = CellVector[:,2]\n",
    "    b1 = CellVector[:,1]\n",
    "    b0 = CellVector[:,0]\n",
    "    norm_b0 = np.dot(b0,b0)**0.5\n",
    "    shift0 = np.dot(b1, b0 / norm_b0 )\n",
    "    #\n",
    "    indices_shiftTrue = (DimensionlessCords['beta0']) + (DimensionlessCords['beta1'])*shift0/norm_b0 >= 1.0\n",
    "    n = len( indices_shiftTrue )\n",
    "    shift_matrix =  np.array(indices_shiftTrue).reshape((n,1)) * b0\n",
    "    #\n",
    "    xyz = coord_atoms_broken - shift_matrix\n",
    "    #\n",
    "    attr_list = ['x','y','z']\n",
    "    values = xyz\n",
    "    for keys in kwargs:\n",
    "        attr_list += [ keys ]\n",
    "        values = np.c_[values,kwargs[keys]]\n",
    "                \n",
    "    return pd.DataFrame( values, columns = attr_list )\n",
    "\n",
    "def AddCopies( coord_atoms_broken, CellVector, **kwargs ):    \n",
    "    #--- orignial cell\n",
    "    XYZ_shifted = coord_atoms_broken\n",
    "    xyz_original = XYZ_shifted.copy()\n",
    "    #---\n",
    "    attr_list = ['x','y','z']\n",
    "    values = XYZ_shifted\n",
    "    for keys in kwargs:\n",
    "        attr_list += [ keys ]\n",
    "        values = np.c_[values,kwargs[keys]]\n",
    "\n",
    "    ID_TYPE_shifted = values[:,3:]\n",
    "    id_type_original = ID_TYPE_shifted.copy()\n",
    "    \n",
    "    #--- cell copies\n",
    "    for i in [-1,0,1]:\n",
    "        for j in [-1,0,1]:\n",
    "            for k in [-1,0,1]:\n",
    "    #            print i,j,k\n",
    "                if i == j == k == 0:\n",
    "                    continue\n",
    "                total_shift = np.matmul( CellVector, np.array([i,j,k]) )\n",
    "                #--- add shift\n",
    "                xyz_shifted = xyz_original + total_shift\n",
    "                #--- append\n",
    "                XYZ_shifted = np.concatenate( ( XYZ_shifted, xyz_shifted ), axis = 0 )\n",
    "                ID_TYPE_shifted = np.concatenate( ( ID_TYPE_shifted, id_type_original ), axis = 0 )\n",
    "                                \n",
    "    return pd.DataFrame(np.c_[XYZ_shifted,ID_TYPE_shifted],columns=attr_list)\n",
    "\n",
    "def GetDimensionlessCords( CellVector, coord_atoms_broken, CellOrigin, **kwargs  ):\n",
    "    xyz_centered = coord_atoms_broken - CellOrigin\n",
    "    beta = np.matmul( np.linalg.inv(CellVector), xyz_centered.T).T\n",
    "    \n",
    "    attr_list = ['beta0', 'beta1', 'beta2']\n",
    "    values = beta\n",
    "    for keys in kwargs:\n",
    "        attr_list += [ keys ]\n",
    "        values = np.c_[values,kwargs[keys]]\n",
    "        \n",
    "    return pd.DataFrame( values, columns = attr_list  )\n",
    "\n",
    "def shiftBeta( xyzDimensionless_j, diff, key = 'beta0' ):\n",
    "    indices = diff[key] > 0.5\n",
    "    beta0_j = xyzDimensionless_j[key] - 1.0 * indices\n",
    "\n",
    "    indices = diff[key] < -0.5\n",
    "    beta0_j += 1.0 * indices\n",
    "    \n",
    "    return beta0_j\n",
    "\n",
    "def GetXYZ( CellVector, CellOrigin, DimensionlessCords, attr_list = ['x','y','z'], **kwargs ):\n",
    "    XYZ_centered = np.matmul( CellVector, DimensionlessCords.T ).T #--- xyz in reference state\n",
    "    XYZ = XYZ_centered + CellOrigin\n",
    "    \n",
    "    \n",
    "    values = XYZ\n",
    "    for keys in kwargs:\n",
    "        attr_list += [ keys ]\n",
    "        values = np.c_[values,kwargs[keys]]\n",
    "        \n",
    "    return pd.DataFrame( values, columns = attr_list)\n",
    "\n",
    "def EstimateUnwrappedCord( coord_atoms_broken_i, coord_atoms_broken_j,\n",
    "                           CellVector_i, CellVector_j,\n",
    "                           CellOrigin_i, CellOrigin_j):\n",
    "#--- dimensionless cords\n",
    "    xyzDimensionless_i = GetDimensionlessCords( CellVector_i, coord_atoms_broken_i, CellOrigin_i )\n",
    "    xyzDimensionless_j = GetDimensionlessCords( CellVector_j, coord_atoms_broken_j, CellOrigin_j )\n",
    "\n",
    "    #--- shift to get unwrapped cords\n",
    "    diff = xyzDimensionless_j[['beta0','beta1','beta2']] - xyzDimensionless_i[['beta0','beta1','beta2']]\n",
    "\n",
    "    #--- new dimensionless cords\n",
    "    beta0_j = shiftBeta( xyzDimensionless_j, diff, key = 'beta0' )\n",
    "    beta1_j = shiftBeta( xyzDimensionless_j, diff, key = 'beta1' )\n",
    "    beta2_j = shiftBeta( xyzDimensionless_j, diff, key = 'beta2' )\n",
    "\n",
    "    #--- unwrapped cords at deformed state\n",
    "    rj_unwrpd = GetXYZ( CellVector_j, CellOrigin_j, np.c_[beta0_j,beta1_j,beta2_j] )\n",
    "\n",
    "    return rj_unwrpd\n",
    "\n",
    "def GetPoints( CellOrigin, CellVector, xyz, ev = 0.2, output_attr = ['x','y','z'],**kwargs ):\n",
    "    \n",
    "    #--- tensor associated with dilation\n",
    "    strainTensor = np.array([[ev/3.0,0,0],\n",
    "                            [0,ev/3.0,0],\n",
    "                            [0,0,ev/3.0]])\n",
    "    #\n",
    "    identityMat = np.array([[1,0,0],[0,1,0],[0,0,1]])\n",
    "    #\n",
    "    CellVectorOrtho, VectorNorm = GetOrthogonalBasis( CellVector )\n",
    "\n",
    "    #--- extend diagonal\n",
    "    rvect = -np.matmul( CellVectorOrtho, np.array([0.5,0.5,0.5]))\n",
    "    CellOrigin_expanded = CellOrigin + np.matmul(strainTensor,rvect)\n",
    "\n",
    "    #--- extend basis vectors\n",
    "    CellVector_expanded = np.matmul( identityMat + strainTensor, CellVectorOrtho )\n",
    "\n",
    "    #--- (beta0,beta1,beta2) associated with original atoms and their images \n",
    "    #--- with reference to the expanded box \n",
    "    DimensionlessCords = GetDimensionlessCords( CellVector_expanded, \n",
    "                                                xyz,\n",
    "                                                CellOrigin_expanded,\n",
    "                                                **kwargs )\n",
    "    #--- filter: only inside the expanded box \n",
    "    index0 = np.all([DimensionlessCords['beta0'] >= 0.0, DimensionlessCords['beta0'] < 1.0], axis=0 )\n",
    "    index1 = np.all([DimensionlessCords['beta1'] >= 0.0, DimensionlessCords['beta1'] < 1.0], axis=0 )\n",
    "    index2 = np.all([DimensionlessCords['beta2'] >= 0.0, DimensionlessCords['beta2'] < 1.0], axis=0 )\n",
    "    bete_inside = DimensionlessCords[np.all([index0,index1,index2],axis=0)]\n",
    "\n",
    "    #--- xyz coordinates\n",
    "    kwargss = {}\n",
    "    for keys in kwargs:\n",
    "        kwargss[ keys ] = bete_inside[ keys ]        \n",
    "    xyz_inside = GetXYZ( CellVector_expanded, CellOrigin_expanded, \n",
    "                         np.c_[bete_inside[['beta0','beta1','beta2']]],\n",
    "                         output_attr,\n",
    "                         **kwargss )\n",
    "    \n",
    "    return xyz_inside\n",
    "\n",
    "\n",
    "\n",
    "\n",
    "#------------------------------------------------------------------\n",
    "#--- map coords and add images of atoms and relevant attributes\n",
    "#------------------------------------------------------------------\n",
    "coord = {}\n",
    "for itime in coord_atoms_broken:\n",
    "    #--- map atoms in the ref. state to an undeformed box\n",
    "    df = coord_atoms_broken[ itime ][['id','type','x','y','z','c_1[22]']]\n",
    "    xyz = np.c_[df[['x','y','z']].astype('float')]\n",
    "    xyz_mapped = ChangeBasis( xyz, CellVector[ itime ], CellOrigin[ itime ] )\n",
    "\n",
    "    #--- append ['xm','ym','zm']\n",
    "    tmp = pd.DataFrame(np.c_[df, xyz_mapped],columns=['id','type','x','y','z','c_1[22]','xm','ym','zm'])\n",
    "        \n",
    "    #--- add copies ['x','y','z']\n",
    "    df = tmp\n",
    "    xyz = np.c_[df[['x','y','z']].astype('float')]\n",
    "    xyz_copy = AddCopies( xyz, CellVector[ itime ],\n",
    "                          id=df['id'],\n",
    "                          type = df['type'],\n",
    "                          mu = df['c_1[22]']\n",
    "                        )\n",
    "    #--- add copies ['xm','ym','zm']\n",
    "    xyz_m = np.c_[df[['xm','ym','zm']].astype('float')]\n",
    "    xyz_m_copy = AddCopies( xyz_m, CellVector[ itime ],\n",
    "                          id=df['id'],\n",
    "                          type = df['type'],\n",
    "                           mu = df['c_1[22]']\n",
    "                       )\n",
    "    coord[itime] = pd.DataFrame(np.c_[xyz_copy[['id','type','x','y','z','mu']],xyz_m_copy[['x','y','z']]],columns=['id','type','x','y','z','mu','xm','ym','zm'])\n"
   ]
  },
  {
   "cell_type": "markdown",
   "metadata": {
    "papermill": {},
    "tags": []
   },
   "source": [
    "### cubic grid"
   ]
  },
  {
   "cell_type": "code",
   "execution_count": 9,
   "metadata": {
    "papermill": {},
    "tags": []
   },
   "outputs": [],
   "source": [
    "def GetCubicGrid( CellOrigin, CellVector, dmean, margin  ):\n",
    "\n",
    "    CellVectorOrtho, VectorNorm = GetOrthogonalBasis( CellVector )\n",
    "    \n",
    "    volume = np.linalg.det( CellVectorOrtho )\n",
    "\n",
    "\n",
    "    [nx, ny, nz] = map( int, (np.array(VectorNorm)+2*margin) / dmean )\n",
    "    if nx%2 == 0:\n",
    "        nx += 1\n",
    "    if ny%2 == 0:\n",
    "        ny += 1\n",
    "    if nz%2 == 0:\n",
    "        nz += 1\n",
    "    \n",
    "    x = np.linspace( CellOrigin[0] - margin, CellOrigin[0] + VectorNorm[ 0 ] + margin, nx,endpoint=False)\n",
    "    y = np.linspace( CellOrigin[1] - margin, CellOrigin[1] + VectorNorm[ 1 ] + margin, ny,endpoint=False)\n",
    "    z = np.linspace( CellOrigin[2] - margin, CellOrigin[2] + VectorNorm[ 2 ] + margin, nz,endpoint=False)\n",
    "\n",
    "    return (x, y, z), np.meshgrid(x, y,z)\n",
    "\n",
    "\n",
    "\n",
    "#--- mean dist between atoms \n",
    "natoms = len( coord_atoms_broken[ 0 ] ) \n",
    "CellVectorOrtho, VectorNorm = GetOrthogonalBasis( CellVector[ 0 ] )\n",
    "volume = np.linalg.det( CellVectorOrtho )\n",
    "dmean = 0.5 * ( volume / natoms ) ** (1.0/3.0) \n",
    "\n",
    "#--- grid tiling mapped box with original size\n",
    "#--- values are interpolated onto this grid\n",
    "(xlin, ylin, zlin), (xv, yv, zv) = GetCubicGrid( CellOrigin[ 0 ], \n",
    "                                                 CellVector[ 0 ], \n",
    "                                                 dmean,\n",
    "                                                 margin = 0.0 * dmean )\n",
    "xi = np.array(zip(xv.flatten(), yv.flatten(), zv.flatten()))\n"
   ]
  },
  {
   "cell_type": "markdown",
   "metadata": {
    "papermill": {},
    "tags": []
   },
   "source": [
    "### center box + margin"
   ]
  },
  {
   "cell_type": "code",
   "execution_count": 15,
   "metadata": {
    "papermill": {},
    "tags": []
   },
   "outputs": [
    {
     "name": "stdout",
     "output_type": "stream",
     "text": [
      "0\n"
     ]
    }
   ],
   "source": [
    "df_intrp = {}\n",
    "for time_i in coord.keys():\n",
    "#     if time_i > 0: #???????????\n",
    "#         continue\n",
    "    print time_i\n",
    "    #--- get a chunck of full copies\n",
    "    df_i = coord[ time_i ]\n",
    "    \n",
    "     #--- get points from which values are interpolated\n",
    "    pointsValues =  GetPoints( CellOrigin[ time_i ], \n",
    "                               CellVector[ time_i ],\n",
    "                               np.c_[df_i[['xm','ym','zm']]].astype('float'), #--- give mapped coordinates\n",
    "                               ev = 0.1,\n",
    "                               output_attr = ['xm','ym','zm'],\n",
    "                               id = df_i['id'],\n",
    "                               type = df_i['type'],\n",
    "                               x = df_i['x'],\n",
    "                               y = df_i['y'],\n",
    "                               z = df_i['z'],\n",
    "                               mu = df_i['mu'],\n",
    "                             )\n",
    "        \n",
    "    #--- interpolate\n",
    "#     points = pointsValues[['xm','ym','zm']]\n",
    "#     values = pointsValues[['mu']]\n",
    "#     grid_z = scp_int.griddata(points, values, xi, method='linear')\n",
    "#     assert not np.any(np.isnan(grid_z.flatten())), 'increase ev!'\n",
    "    \n",
    "\n",
    "    x, y, z, d = np.c_[pointsValues[['xm','ym','zm','mu']]].T\n",
    "    rbfi = Rbf(x, y, z, d, function = 'gaussian', epsilon = dmean)  # radial basis function interpolator instance\n",
    "    grid_z = rbfi(xlin, ylin, zlin)   # interpolated values\n",
    "    \n",
    "    #--- store in dataframe\n",
    "    df_intrp[ time_i ] = pd.DataFrame(np.c_[xi,grid_z],columns=['x','y','z','mu'])\n"
   ]
  },
  {
   "cell_type": "code",
   "execution_count": 279,
   "metadata": {
    "papermill": {},
    "tags": []
   },
   "outputs": [],
   "source": [
    "#df_intrp[0]['mu'] = np.random.random(size=len(df_intrp[0]))"
   ]
  },
  {
   "cell_type": "code",
   "execution_count": 285,
   "metadata": {
    "papermill": {},
    "tags": []
   },
   "outputs": [],
   "source": [
    "mu_born = {}\n",
    "for itime in df_intrp:\n",
    "    mu_born[itime] = df_intrp[ itime ]\n"
   ]
  },
  {
   "cell_type": "markdown",
   "metadata": {
    "papermill": {},
    "tags": []
   },
   "source": [
    "### imshow"
   ]
  },
  {
   "cell_type": "code",
   "execution_count": 286,
   "metadata": {
    "papermill": {},
    "tags": []
   },
   "outputs": [
    {
     "data": {
      "image/png": "[encoded data removed]",
      "text/plain": [
       "<Figure size 432x288 with 2 Axes>"
      ]
     },
     "metadata": {
      "needs_background": "light"
     },
     "output_type": "display_data"
    }
   ],
   "source": [
    "def FilterMatrix( CellVector, CellOrigin,\n",
    "                  (xlin, ylin, zlin),\n",
    "                  (xv, yv, zv ),\n",
    "                   value\n",
    "                ):\n",
    "    #--- xlims of the original box\n",
    "    CellVectorOrtho, VectorNorm = GetOrthogonalBasis( CellVector )\n",
    "    margin = 0.0    \n",
    "    (xlo,xhi)=( CellOrigin[0] - margin, CellOrigin[0] + VectorNorm[ 0 ] + margin)\n",
    "    (ylo,yhi)=( CellOrigin[1] - margin, CellOrigin[1] + VectorNorm[ 1 ] + margin)\n",
    "    (zlo,zhi)=(CellOrigin[2] - margin, CellOrigin[2] + VectorNorm[ 2 ] + margin )\n",
    "\n",
    "    #--- grid dimension tiling the original box\n",
    "    indices = np.all([xlin>=xlo, xlin<xhi],axis=0)\n",
    "    nx = xlin[indices].shape[0]\n",
    "    indices = np.all([ylin>=ylo, ylin<yhi],axis=0)\n",
    "    ny = ylin[indices].shape[0]\n",
    "    indices = np.all([zlin>=zlo, zlin<zhi],axis=0)\n",
    "    nz = zlin[indices].shape[0]\n",
    "\n",
    "    #--- filter matrices\n",
    "    indices = np.all([xv>=xlo,xv<xhi, yv>=ylo,yv<yhi, zv>=zlo,zv<zhi ],axis=0)\n",
    "    vf_flatten = value[indices] #--- filter extended grid\n",
    "    assert vf_flatten.shape[0] == nx*ny*nz, '%s != %s'%(vf_flatten.shape[0], nx*ny*nz)\n",
    "    vf = vf_flatten.reshape((ny,nx,nz))\n",
    "    return vf\n",
    "\n",
    "def CenterMatrix(a):\n",
    "    ( mgrid, ngrid ) = a.shape\n",
    "    return np.array([[ a[i,j] for j in xrange(-(ngrid/2),ngrid/2+ngrid%2)] \n",
    "                              for i in xrange(-(mgrid/2),mgrid/2+mgrid%2)])\n",
    "\n",
    "def PltBitmap( value,\n",
    "              xlabel = 'x', ylabel = 'y',\n",
    "              xlim = (-0.5,0.5), ylim = (-0.5,0.5),\n",
    "              frac = 1.0, #--- plot a patch\n",
    "              zscore = True,\n",
    "             ):\n",
    "        \n",
    "    val = value.copy()\n",
    "    #--- z-score\n",
    "    if zscore:\n",
    "        val -= np.mean(val)\n",
    "        val /= np.std(val)\n",
    "#         val[val>2.0]=1.0\n",
    "#         val[val<-2.0]=-1.0\n",
    "    #--- plot\n",
    "    (mgrid,ngrid) = val.shape\n",
    "    center = (ngrid/2,mgrid/2)\n",
    "    plt.xlabel(xlabel)\n",
    "    plt.ylabel(ylabel)\n",
    "    pos = plt.imshow(val.real,cmap='bwr',\n",
    "                     extent=(xlim[0],xlim[1],ylim[0],ylim[1]),origin='lower')# ,vmin=-.6, vmax=.6)\n",
    "#    plt.xlim(center[0]-(ngrid/2)*frac,center[0]+(ngrid/2)*frac)\n",
    "#    plt.ylim(center[1]-(mgrid/2)*frac,center[1]+(mgrid/2)*frac)\n",
    "#    plt.xlim(xlim[0]*frac,xlim[1]*frac)\n",
    "#    plt.ylim(ylim[0]*frac,ylim[1]*frac)\n",
    "    plt.colorbar( pos, fraction = 0.04)\n",
    "    plt.savefig('cxy.png',dpi=75,bbox_inches='tight')\n",
    "    plt.show()\n",
    "\n",
    "\n",
    "    \n",
    "\n",
    "itime = 0\n",
    "#--- reshape value\n",
    "nx,ny,nz = len(xlin), len(ylin),len(zlin) \n",
    "value = np.c_[mu_born[itime]['mu']].reshape(((ny,nx,nz)))\n",
    "#--- filter value\n",
    "# value = FilterMatrix( CellVector[0], CellOrigin[0],\n",
    "#                   (xlin, ylin, zlin),\n",
    "#                   (xv, yv, zv ),\n",
    "#                    value )\n",
    "#print value.shape\n",
    "#print vf.shape\n",
    "\n",
    "CellVectorOrtho, VectorNorm = GetOrthogonalBasis( CellVector[ itime ] ) #--- box length\n",
    "#--- xy plane\n",
    "val = value[:,:,-1].copy()\n",
    "#print val.shape\n",
    "\n",
    "PltBitmap(val, \n",
    "          xlabel = 'x', ylabel = 'y',\n",
    "          xlim=VectorNorm[0]*np.array([0.0,1.0]),ylim=VectorNorm[1]*np.array([0.0,1.0]),\n",
    "          zscore = True,\n",
    "          frac = 1.0, #--- plot a patch\n",
    "        )"
   ]
  },
  {
   "cell_type": "code",
   "execution_count": 242,
   "metadata": {
    "papermill": {},
    "tags": []
   },
   "outputs": [
    {
     "data": {
      "text/html": [
       "<div>\n",
       "<style scoped>\n",
       "    .dataframe tbody tr th:only-of-type {\n",
       "        vertical-align: middle;\n",
       "    }\n",
       "\n",
       "    .dataframe tbody tr th {\n",
       "        vertical-align: top;\n",
       "    }\n",
       "\n",
       "    .dataframe thead th {\n",
       "        text-align: right;\n",
       "    }\n",
       "</style>\n",
       "<table border=\"1\" class=\"dataframe\">\n",
       "  <thead>\n",
       "    <tr style=\"text-align: right;\">\n",
       "      <th></th>\n",
       "      <th>x</th>\n",
       "      <th>y</th>\n",
       "      <th>z</th>\n",
       "      <th>mu</th>\n",
       "    </tr>\n",
       "  </thead>\n",
       "  <tbody>\n",
       "    <tr>\n",
       "      <th>0</th>\n",
       "      <td>-39.973239</td>\n",
       "      <td>-43.551705</td>\n",
       "      <td>-43.591808</td>\n",
       "      <td>0.230254</td>\n",
       "    </tr>\n",
       "    <tr>\n",
       "      <th>1</th>\n",
       "      <td>-39.973239</td>\n",
       "      <td>-43.551705</td>\n",
       "      <td>-42.459553</td>\n",
       "      <td>0.386032</td>\n",
       "    </tr>\n",
       "    <tr>\n",
       "      <th>2</th>\n",
       "      <td>-39.973239</td>\n",
       "      <td>-43.551705</td>\n",
       "      <td>-41.327299</td>\n",
       "      <td>0.412369</td>\n",
       "    </tr>\n",
       "    <tr>\n",
       "      <th>3</th>\n",
       "      <td>-39.973239</td>\n",
       "      <td>-43.551705</td>\n",
       "      <td>-40.195044</td>\n",
       "      <td>0.597766</td>\n",
       "    </tr>\n",
       "    <tr>\n",
       "      <th>4</th>\n",
       "      <td>-39.973239</td>\n",
       "      <td>-43.551705</td>\n",
       "      <td>-39.062789</td>\n",
       "      <td>0.664338</td>\n",
       "    </tr>\n",
       "  </tbody>\n",
       "</table>\n",
       "</div>"
      ],
      "text/plain": [
       "           x          y          z        mu\n",
       "0 -39.973239 -43.551705 -43.591808  0.230254\n",
       "1 -39.973239 -43.551705 -42.459553  0.386032\n",
       "2 -39.973239 -43.551705 -41.327299  0.412369\n",
       "3 -39.973239 -43.551705 -40.195044  0.597766\n",
       "4 -39.973239 -43.551705 -39.062789  0.664338"
      ]
     },
     "execution_count": 242,
     "metadata": {},
     "output_type": "execute_result"
    }
   ],
   "source": [
    "mu_born[itime].head()"
   ]
  },
  {
   "cell_type": "markdown",
   "metadata": {
    "papermill": {},
    "tags": []
   },
   "source": [
    "### Auto-Correlations"
   ]
  },
  {
   "cell_type": "code",
   "execution_count": 243,
   "metadata": {
    "papermill": {},
    "tags": []
   },
   "outputs": [],
   "source": [
    "def GetAutoCorrelation( val ):\n",
    "    value  = val.copy()\n",
    "    value -= np.mean( value )\n",
    "    value /= np.std( value )\n",
    "\n",
    "    ( nx, ny, nz ) =  value.shape\n",
    "    n = nx * ny * nz\n",
    "    vq = np.fft.fftn(value) #, axes=(0,1,2))\n",
    "    vq_sq = np.abs(vq)**2\n",
    "\n",
    "    v_real = np.fft.ifftn( vq_sq) / n #,  axes=(0,1,2) )\n",
    "    return v_real\n",
    "\n",
    "\n",
    "Crltn = {}\n",
    "for itime in mu_born:\n",
    "    #\n",
    "    (nx,ny,nz) = len(xlin), len(ylin),len(zlin) \n",
    "    #\n",
    "    value = np.c_[mu_born[itime]['mu']].reshape(((ny,nx,nz)))\n",
    "    #\n",
    "    #--- filter value\n",
    "#     value = FilterMatrix( CellVector[0], CellOrigin[0],\n",
    "#                   (xlin, ylin, zlin),\n",
    "#                   (xv, yv, zv ),\n",
    "#                    value )\n",
    "\n",
    "    Crltn[ itime ] = GetAutoCorrelation( value )\n"
   ]
  },
  {
   "cell_type": "code",
   "execution_count": 287,
   "metadata": {
    "papermill": {},
    "tags": []
   },
   "outputs": [],
   "source": [
    "def GetAutoCorrelation2d( val ):\n",
    "    value  = val.copy()\n",
    "    value -= np.mean( value )\n",
    "    value /= np.std( value )\n",
    "\n",
    "    ( nx, ny ) =  value.shape\n",
    "    n = nx * ny\n",
    "    vq = np.fft.fft2(value) #, axes=(0,1,2))\n",
    "    vq_sq = np.abs(vq)**2\n",
    "\n",
    "    v_real = np.fft.ifft2( vq_sq) / n #,  axes=(0,1,2) )\n",
    "    return v_real\n",
    "\n",
    "\n",
    "\n",
    "val = value[:,:,-1].copy()\n",
    "Crltn = GetAutoCorrelation2d( val )\n"
   ]
  },
  {
   "cell_type": "markdown",
   "metadata": {
    "papermill": {},
    "tags": []
   },
   "source": [
    "#### Print"
   ]
  },
  {
   "cell_type": "code",
   "execution_count": 220,
   "metadata": {
    "papermill": {},
    "tags": []
   },
   "outputs": [
    {
     "name": "stdout",
     "output_type": "stream",
     "text": [
      "itime= 0\n"
     ]
    },
    {
     "data": {
      "image/png": "[encoded data removed]",
      "text/plain": [
       "<Figure size 432x288 with 2 Axes>"
      ]
     },
     "metadata": {
      "needs_background": "light"
     },
     "output_type": "display_data"
    }
   ],
   "source": [
    "\n",
    "def PltCrltn( value,\n",
    "              xlabel = 'x', ylabel = 'y',\n",
    "              xlim = (-0.5,0.5), ylim = (-0.5,0.5),\n",
    "              frac = 1.0, #--- plot a patch\n",
    "              zscore = True,\n",
    "              fileName = 'cxy.png',\n",
    "              dpi=75,\n",
    "            ):\n",
    "        \n",
    "    val = value.copy()\n",
    "    #--- zscore\n",
    "    if zscore:\n",
    "        val -= np.mean(val)\n",
    "        val /= np.std(val)\n",
    "        val[val>2.0]=1.0\n",
    "        val[val<-2.0]=-1.0\n",
    "    #\n",
    "    (mgrid,ngrid) = val.shape\n",
    "    center = (ngrid/2,mgrid/2)\n",
    "    plt.xlabel(xlabel)\n",
    "    plt.ylabel(ylabel)\n",
    "    pos = plt.imshow((CenterMatrix( val ).real),cmap='bwr',\n",
    "                     extent=(xlim[0],xlim[1],ylim[0],ylim[1])) #,vmin=-.01, vmax=.01)\n",
    "    plt.xlim(xlim[0]*frac,xlim[1]*frac)\n",
    "    plt.ylim(ylim[0]*frac,ylim[1]*frac)\n",
    "\n",
    "    plt.colorbar( pos, fraction = 0.04)\n",
    "    plt.savefig(fileName,dpi=dpi,bbox_inches='tight')\n",
    "    plt.show()\n",
    "\n",
    "\n",
    "for itime in Crltn:\n",
    "    print 'itime=',itime\n",
    "    CellVectorOrtho, VectorNorm = GetOrthogonalBasis( CellVector[ itime ] ) #--- box length\n",
    "    #    \n",
    "    crltn = Crltn[ itime ]\n",
    "    #--- xy plane\n",
    "    val = crltn[:,:,0].copy()\n",
    "    PltCrltn( val, \n",
    "              xlabel = 'x', ylabel = 'y',\n",
    "              xlim=VectorNorm[0]*np.array([-0.5,0.5]),ylim=VectorNorm[1]*np.array([-0.5,0.5]),\n",
    "              frac = 1, #--- plot a patch\n",
    "              zscore = False,\n",
    "              fileName = 'cxy.%s.png'%itime,\n",
    "              dpi = 60\n",
    "            )\n",
    "    # #--- zx plane\n",
    "    # val = crltn[0,:,:].copy()\n",
    "    # PltCrltn( val, \n",
    "    #           xlabel = 'z', ylabel = 'x',\n",
    "    #           xlim=VectorNorm[2]*np.array([-0.5,0.5]),ylim=VectorNorm[0]*np.array([-0.5,0.5]),\n",
    "    #           frac = 1.0, #--- plot a patch\n",
    "    #           zscore = False,\n",
    "    #         )\n",
    "    # #--- zy plane\n",
    "    # val = crltn[:,0,:].copy()\n",
    "    # PltCrltn( val, \n",
    "    #           xlabel = 'z', ylabel = 'y',\n",
    "    #           xlim=VectorNorm[2]*np.array([-0.5,0.5]),ylim=VectorNorm[1]*np.array([-0.5,0.5]),\n",
    "    #           frac = 1.0, #--- plot a patch\n",
    "    #           zscore = False,\n",
    "    #         )\n",
    "\n"
   ]
  },
  {
   "cell_type": "code",
   "execution_count": 288,
   "metadata": {
    "papermill": {},
    "tags": []
   },
   "outputs": [
    {
     "name": "stdout",
     "output_type": "stream",
     "text": [
      "itime= 0\n"
     ]
    },
    {
     "data": {
      "image/png": "[encoded data removed]",
      "text/plain": [
       "<Figure size 432x288 with 2 Axes>"
      ]
     },
     "metadata": {
      "needs_background": "light"
     },
     "output_type": "display_data"
    }
   ],
   "source": [
    "\n",
    "def PltCrltn( value,\n",
    "              xlabel = 'x', ylabel = 'y',\n",
    "              xlim = (-0.5,0.5), ylim = (-0.5,0.5),\n",
    "              frac = 1.0, #--- plot a patch\n",
    "              zscore = True,\n",
    "              fileName = 'cxy.png',\n",
    "              dpi=75,\n",
    "            ):\n",
    "        \n",
    "    val = value.copy()\n",
    "    #--- zscore\n",
    "    if zscore:\n",
    "        val -= np.mean(val)\n",
    "        val /= np.std(val)\n",
    "        val[val>2.0]=1.0\n",
    "        val[val<-2.0]=-1.0\n",
    "    #\n",
    "    (mgrid,ngrid) = val.shape\n",
    "    center = (ngrid/2,mgrid/2)\n",
    "    plt.xlabel(xlabel)\n",
    "    plt.ylabel(ylabel)\n",
    "    pos = plt.imshow((CenterMatrix( val ).real),cmap='bwr',\n",
    "                     extent=(xlim[0],xlim[1],ylim[0],ylim[1])) #,vmin=-.01, vmax=.01)\n",
    "    plt.xlim(xlim[0]*frac,xlim[1]*frac)\n",
    "    plt.ylim(ylim[0]*frac,ylim[1]*frac)\n",
    "\n",
    "    plt.colorbar( pos, fraction = 0.04)\n",
    "    plt.savefig(fileName,dpi=dpi,bbox_inches='tight')\n",
    "    plt.show()\n",
    "\n",
    "\n",
    "    \n",
    "for itime in [0]:\n",
    "    print 'itime=',itime\n",
    "    CellVectorOrtho, VectorNorm = GetOrthogonalBasis( CellVector[ itime ] ) #--- box length\n",
    "    #    \n",
    "    crltn = Crltn\n",
    "    #--- xy plane\n",
    "    val = crltn\n",
    "    PltCrltn( val, \n",
    "              xlabel = 'x', ylabel = 'y',\n",
    "              xlim=VectorNorm[0]*np.array([-0.5,0.5]),ylim=VectorNorm[1]*np.array([-0.5,0.5]),\n",
    "              frac = 1, #--- plot a patch\n",
    "              zscore = False,\n",
    "              fileName = 'cxy.%s.png'%itime,\n",
    "              dpi = 60\n",
    "            )\n",
    "    # #--- zx plane\n",
    "    # val = crltn[0,:,:].copy()\n",
    "    # PltCrltn( val, \n",
    "    #           xlabel = 'z', ylabel = 'x',\n",
    "    #           xlim=VectorNorm[2]*np.array([-0.5,0.5]),ylim=VectorNorm[0]*np.array([-0.5,0.5]),\n",
    "    #           frac = 1.0, #--- plot a patch\n",
    "    #           zscore = False,\n",
    "    #         )\n",
    "    # #--- zy plane\n",
    "    # val = crltn[:,0,:].copy()\n",
    "    # PltCrltn( val, \n",
    "    #           xlabel = 'z', ylabel = 'y',\n",
    "    #           xlim=VectorNorm[2]*np.array([-0.5,0.5]),ylim=VectorNorm[1]*np.array([-0.5,0.5]),\n",
    "    #           frac = 1.0, #--- plot a patch\n",
    "    #           zscore = False,\n",
    "    #         )\n",
    "\n"
   ]
  },
  {
   "cell_type": "code",
   "execution_count": 289,
   "metadata": {
    "papermill": {},
    "tags": []
   },
   "outputs": [
    {
     "data": {
      "image/png": "[encoded data removed]",
      "text/plain": [
       "<Figure size 432x288 with 1 Axes>"
      ]
     },
     "metadata": {
      "needs_background": "light"
     },
     "output_type": "display_data"
    }
   ],
   "source": [
    "plt.plot(val[:,0],'o')\n",
    "plt.show()"
   ]
  },
  {
   "cell_type": "markdown",
   "metadata": {
    "papermill": {},
    "tags": []
   },
   "source": [
    "#### Crltn Length"
   ]
  },
  {
   "cell_type": "code",
   "execution_count": 223,
   "metadata": {
    "papermill": {},
    "tags": []
   },
   "outputs": [
    {
     "name": "stdout",
     "output_type": "stream",
     "text": [
      "itime= 0\n"
     ]
    },
    {
     "data": {
      "image/png": "[encoded data removed]",
      "text/plain": [
       "<Figure size 288x288 with 1 Axes>"
      ]
     },
     "metadata": {
      "needs_background": "light"
     },
     "output_type": "display_data"
    },
    {
     "name": "stdout",
     "output_type": "stream",
     "text": [
      "4.634578425113034 6.787278732233787\n"
     ]
    }
   ],
   "source": [
    "def Get_rc( xdata, ydata, cTOL ):\n",
    "    try:\n",
    "        xc1 = xdata[np.abs(ydata)<cTOL][0] \n",
    "    except:\n",
    "        xc1 = np.nan\n",
    "    try:    \n",
    "        xc2 = xdata[ydata<0.0][0] #--- correlation length\n",
    "    except:\n",
    "        xc2 = np.nan\n",
    "    try:\n",
    "        xc = np.array([xc1,xc2])\n",
    "        xc = xc[~np.isnan(xc)].min()\n",
    "    except:\n",
    "        xc = np.nan\n",
    "    return xc\n",
    "\n",
    "def PltCrltnFunc( crltn, \n",
    "                 (xv,yv),\n",
    "                 cTOL = 1.0e-2,\n",
    "                 PLOT = True,\n",
    "                 fileName='cxy.png',\n",
    "                 title = '',\n",
    "                 dpi = 60,\n",
    "                ):\n",
    "    if PLOT:\n",
    "        fig = plt.figure( figsize = (4,4))\n",
    "        ax = fig.add_subplot(111)\n",
    "        xstr = r'$r$'\n",
    "        ystr = r'$c(r)$'\n",
    "        ax.set_xlabel(xstr,fontsize=16)\n",
    "        ax.set_ylabel(ystr,fontsize=16)\n",
    "        ax.tick_params(labelsize=16)\n",
    "    #\n",
    "    val = crltn[:,:,0].copy() #--- only xy plane\n",
    "    (m,n)=val.shape\n",
    "    #--- along x \n",
    "    xv2 = xv[:,:,0].copy()\n",
    "    dx = xv2[0,1] - xv2[0,0]\n",
    "    #\n",
    "    xdata = np.arange(0,(n/2+n%2)) * dx\n",
    "    ydata = val[0,0:(n/2+n%2)]\n",
    "    #\n",
    "    xc = Get_rc( xdata, ydata, cTOL )\n",
    "    #\n",
    "    if PLOT:\n",
    "        ax.plot( xdata, ydata,'-o',label=r'$x$')       \n",
    "    #--- along y \n",
    "    yv2 = yv[:,:,0].copy()\n",
    "    dy = yv2[1,0] - yv2[0,0]\n",
    "    #\n",
    "    xdata = np.arange(0,(m/2+m%2)) * dy\n",
    "    ydata = val[0:(m/2+m%2),0]\n",
    "    #\n",
    "    yc = Get_rc( xdata, ydata, cTOL )\n",
    "    #\n",
    "    if PLOT:\n",
    "        ax.plot( xdata, ydata,'-s', color = 'red',label=r'$y$')\n",
    "    #--- plot\n",
    "    if PLOT:\n",
    "        ax.legend(frameon=False)\n",
    "        ax.set_title( title )\n",
    "        #ax.set_yscale('log')\n",
    "        #\n",
    "        ax.plot(ax.axis()[:2],[0.0,0.0],'-.',color='black')\n",
    "#        ax.plot((rc,rc),ax.axis()[2:],'-.r')\n",
    "        #\n",
    "        #\n",
    "        plt.savefig(fileName,dpi=dpi,bbox_inches='tight')\n",
    "        plt.show()\n",
    "    #\n",
    "    return (xc, yc)\n",
    "    \n",
    "    \n",
    "\n",
    "for itime in Crltn:\n",
    "    print 'itime=',itime\n",
    "    #--- bulk strain\n",
    "    dx=CellVector[ itime ][0,1]-CellVector[ 0 ][0,1]\n",
    "    l1=CellVector[ itime ][1,1]\n",
    "    ebulk = 0.5*dx/l1\n",
    "    #---\n",
    "    xc, yc = PltCrltnFunc( Crltn[ itime ], \n",
    "                 (xv,yv),\n",
    "                 fileName = 'cr.%s.png'%itime,\n",
    "                 title = r'$\\epsilon=%3.2f$'%(2*ebulk),\n",
    "                 cTOL = 8.0e-2,\n",
    "                 dpi = 60,\n",
    "                )\n",
    "    print xc, yc"
   ]
  },
  {
   "cell_type": "code",
   "execution_count": 72,
   "metadata": {
    "papermill": {},
    "tags": []
   },
   "outputs": [
    {
     "data": {
      "text/plain": [
       "'-5.744436e+09'"
      ]
     },
     "execution_count": 72,
     "metadata": {},
     "output_type": "execute_result"
    }
   ],
   "source": [
    "mean = coord_atoms_broken[itime]['c_1[22]'].astype(float).mean()\n",
    "std = coord_atoms_broken[itime]['c_1[22]'].astype(float).std()\n",
    "'%e'%(mean-2*std)"
   ]
  }
 ],
 "metadata": {
  "kernelspec": {
   "display_name": "Python 2",
   "language": "python",
   "name": "python2"
  },
  "language_info": {
   "codemirror_mode": {
    "name": "ipython",
    "version": 2
   },
   "file_extension": ".py",
   "mimetype": "text/x-python",
   "name": "python",
   "nbconvert_exporter": "python",
   "pygments_lexer": "ipython2",
   "version": "2.7.10"
  },
  "papermill": {
   "environment_variables": {},
   "input_path": "/home/kamran.karimi1/Project/git/CrystalPlasticity/postprocess/test/Run0/ElasticConstants.ipynb",
   "output_path": "./output.ipynb",
   "parameters": {
    "path": "/home/kamran.karimi1/Project/git/CrystalPlasticity/postprocess/../testRuns/test/Run0"
   },
   "version": "1.2.1"
  }
 },
 "nbformat": 4,
 "nbformat_minor": 4
}