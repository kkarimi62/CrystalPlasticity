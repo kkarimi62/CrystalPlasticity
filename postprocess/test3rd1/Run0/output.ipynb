{
 "cells": [
  {
   "cell_type": "code",
   "execution_count": null,
   "metadata": {
    "tags": [
     "injected-parameters"
    ]
   },
   "outputs": [],
   "source": [
    "# Parameters\n",
    "path = \"/home/kamran.karimi1/Project/git/CrystalPlasticity/postprocess/../testRuns/test3rd/Run0\"\n"
   ]
  },
  {
   "cell_type": "markdown",
   "metadata": {
    "papermill": {},
    "tags": []
   },
   "source": [
    "# import libraries"
   ]
  },
  {
   "cell_type": "code",
   "execution_count": 226,
   "metadata": {
    "papermill": {},
    "tags": []
   },
   "outputs": [],
   "source": [
    "import pandas as pd\n",
    "import numpy as np\n",
    "import matplotlib.pylab as plt\n",
    "import traceback\n",
    "import os\n",
    "import scipy.interpolate as scp_int\n",
    "import warnings\n",
    "import matplotlib\n",
    "from scipy.interpolate import Rbf\n",
    "import random as rand\n",
    "import pdb \n",
    "import sys\n",
    "#\n",
    "matplotlib.rcParams['text.usetex'] = True\n",
    "warnings.filterwarnings('ignore')\n",
    "#\n",
    "#path = '../testRuns/test/' #--- comment if passed by argument"
   ]
  },
  {
   "cell_type": "markdown",
   "metadata": {
    "papermill": {},
    "tags": []
   },
   "source": [
    "# input stress file"
   ]
  },
  {
   "cell_type": "code",
   "execution_count": 228,
   "metadata": {
    "papermill": {},
    "tags": []
   },
   "outputs": [],
   "source": [
    "def GetOrthogonalBasis( CellVector ): \n",
    "    a0 = CellVector[:,0]\n",
    "    l0 = np.dot(a0,a0)**0.5\n",
    "    n0 = a0 / l0 \n",
    "    #\n",
    "    a1 = CellVector[:,1]\n",
    "    a1_perp = a1 - np.dot( a1, n0 ) * n0\n",
    "    l1 = np.dot( a1_perp, a1_perp) ** 0.5\n",
    "    #\n",
    "    a2 = CellVector[:,2]\n",
    "    l2 = np.dot(a2,a2)**0.5\n",
    "    \n",
    "    return np.c_[a0, a1_perp, a2], [l0, l1, l2]\n",
    "\n",
    "def GetCordsTimeStep(slist):\n",
    "    slist.readline()\n",
    "    itime = int( slist.readline().split()[0] )\n",
    "    \n",
    "    [slist.readline() for i in xrange(1)]\n",
    "    nrows = int(slist.readline().split()[0])\n",
    "\n",
    "    [slist.readline() for i in xrange(1)]\n",
    "    \n",
    "    CellVector = np.array([slist.readline().split() for i in xrange( 3 )])\n",
    "    \n",
    "    cols = slist.readline().split()[2:]\n",
    "    \n",
    "    return np.array([slist.readline().split() for i in xrange( nrows )]), CellVector, itime, cols\n",
    "    \n",
    "def GetCords( file_name,\n",
    "              ncount = sys.maxint):\n",
    "    slist = open( file_name )    \n",
    "    coord_atoms_broken = {}\n",
    "    CellVector = {}\n",
    "    count = 0\n",
    "    try:\n",
    "        while True and count <= ncount:\n",
    "            sarr, cell_vector, itime, cols  = GetCordsTimeStep( slist ) #--- get coord\n",
    "            #--- insert in a data frame\n",
    "            coord_atoms_broken[ itime ] = pd.DataFrame( sarr, columns = cols )\n",
    "            \n",
    "            #--- cast id to 'int'\n",
    "            coord_atoms_broken[ itime ]['id'] = map(int,coord_atoms_broken[ itime ]['id'].tolist())[:]\n",
    "\n",
    "            #--- sort\n",
    "            coord_atoms_broken[ itime ].sort_values( by = 'id', inplace = True )\n",
    "            \n",
    "            #--- reset index\n",
    "            coord_atoms_broken[ itime ].reset_index( drop=True, inplace=True )\n",
    "            \n",
    "            CellVector[ itime ] = cell_vector\n",
    "            \n",
    "            count += 1\n",
    "    except:\n",
    "#        traceback.print_exc()\n",
    "        pass\n",
    "\n",
    "    \n",
    "    return coord_atoms_broken, CellVector\n",
    "\n",
    "def GetCellVector( CellVector ):\n",
    "    CellVector[0] = np.c_[CellVector[0],['0.0','0.0','0.0']] #--- ref. state\n",
    "\n",
    "    CellOrigin = {}\n",
    "    cell_vector = {}\n",
    "    \n",
    "    for itime in CellVector:\n",
    "        row0 = map( float, CellVector[ itime ][ 0 ] )\n",
    "        l0 = row0[ 1 ] - row0[ 0 ] - row0[ 2 ]\n",
    "        CellVector0 = np.array( [ l0, 0.0, 0.0 ] )\n",
    "        dx = row0[ 2 ]\n",
    "        \n",
    "        row1 =  map( float, CellVector[ itime ][ 1 ] )\n",
    "        l1 = row1[ 1 ] - row1[ 0 ]\n",
    "        a1 = np.array( [ 0.0, l1, 0.0 ] )\n",
    "        CellVector1 = CellVector0 * ( dx / l0 ) + a1\n",
    "        \n",
    "        row2 =  map( float, CellVector[ itime ][ 2 ] )\n",
    "        l2 = row2[ 1 ] - row2[ 0 ]\n",
    "        CellVector2 = np.array( [ 0.0, 0.0, l2 ] )\n",
    "        \n",
    "        CellOrigin[ itime ] = np.array( [ row0[ 0 ], row1[ 0 ], row2[ 0 ] ] )\n",
    "        cell_vector[ itime ] = np.c_[ CellVector0, CellVector1, CellVector2 ] \n",
    "\n",
    "    return CellOrigin, cell_vector\n",
    "\n",
    " \n",
    "fileName = ('virialStress.xyz','junk')[0]#--- parse cords\n",
    "coord_atoms_broken, cell_vector = GetCords( '%s/%s'%(path, fileName )) #, ncount = 20 ) #--- add xyz for broken bonds #--- check id!!1\n",
    "CellOrigin, CellVector = GetCellVector( cell_vector )"
   ]
  },
  {
   "cell_type": "code",
   "execution_count": 150,
   "metadata": {
    "papermill": {},
    "tags": []
   },
   "outputs": [],
   "source": [
    "# coord_atoms_broken[0]['c_1[22]'] = np.random.random(size=len(coord_atoms_broken[0]))"
   ]
  },
  {
   "cell_type": "markdown",
   "metadata": {
    "papermill": {},
    "tags": []
   },
   "source": [
    "# stress-strain curve"
   ]
  },
  {
   "cell_type": "code",
   "execution_count": 196,
   "metadata": {
    "papermill": {},
    "tags": []
   },
   "outputs": [
    {
     "ename": "TypeError",
     "evalue": "expected non-empty vector for x",
     "output_type": "error",
     "traceback": [
      "\u001b[0;31m---------------------------------------------------------------------------\u001b[0m",
      "\u001b[0;31mTypeError\u001b[0m                                 Traceback (most recent call last)",
      "\u001b[0;32m<ipython-input-196-a9c353cf3274>\u001b[0m in \u001b[0;36m<module>\u001b[0;34m()\u001b[0m\n\u001b[1;32m     32\u001b[0m \u001b[0;34m\u001b[0m\u001b[0m\n\u001b[1;32m     33\u001b[0m \u001b[0;31m#--- fit\u001b[0m\u001b[0;34m\u001b[0m\u001b[0;34m\u001b[0m\u001b[0m\n\u001b[0;32m---> 34\u001b[0;31m \u001b[0mcoeffs\u001b[0m \u001b[0;34m=\u001b[0m \u001b[0mnp\u001b[0m\u001b[0;34m.\u001b[0m\u001b[0mpolyfit\u001b[0m\u001b[0;34m(\u001b[0m\u001b[0;36m2\u001b[0m\u001b[0;34m*\u001b[0m\u001b[0mnp\u001b[0m\u001b[0;34m.\u001b[0m\u001b[0marray\u001b[0m\u001b[0;34m(\u001b[0m\u001b[0mstrain\u001b[0m\u001b[0;34m)\u001b[0m\u001b[0;34m[\u001b[0m\u001b[0;36m1\u001b[0m\u001b[0;34m:\u001b[0m\u001b[0;34m]\u001b[0m\u001b[0;34m,\u001b[0m\u001b[0mnp\u001b[0m\u001b[0;34m.\u001b[0m\u001b[0marray\u001b[0m\u001b[0;34m(\u001b[0m\u001b[0mvirial\u001b[0m\u001b[0;34m)\u001b[0m\u001b[0;34m[\u001b[0m\u001b[0;36m1\u001b[0m\u001b[0;34m:\u001b[0m\u001b[0;34m]\u001b[0m\u001b[0;34m,\u001b[0m \u001b[0;36m1\u001b[0m\u001b[0;34m)\u001b[0m\u001b[0;34m\u001b[0m\u001b[0m\n\u001b[0m\u001b[1;32m     35\u001b[0m \u001b[0;32mdef\u001b[0m \u001b[0mfunc\u001b[0m\u001b[0;34m(\u001b[0m\u001b[0mx\u001b[0m\u001b[0;34m,\u001b[0m \u001b[0mm\u001b[0m\u001b[0;34m,\u001b[0m \u001b[0mb\u001b[0m\u001b[0;34m)\u001b[0m\u001b[0;34m:\u001b[0m\u001b[0;34m\u001b[0m\u001b[0m\n\u001b[1;32m     36\u001b[0m     \u001b[0;32mreturn\u001b[0m \u001b[0mm\u001b[0m\u001b[0;34m*\u001b[0m\u001b[0mx\u001b[0m\u001b[0;34m+\u001b[0m\u001b[0mb\u001b[0m\u001b[0;34m\u001b[0m\u001b[0m\n",
      "\u001b[0;32m/Library/Python/2.7/site-packages/numpy/lib/polynomial.pyc\u001b[0m in \u001b[0;36mpolyfit\u001b[0;34m(x, y, deg, rcond, full, w, cov)\u001b[0m\n\u001b[1;32m    596\u001b[0m         \u001b[0;32mraise\u001b[0m \u001b[0mTypeError\u001b[0m\u001b[0;34m(\u001b[0m\u001b[0;34m\"expected 1D vector for x\"\u001b[0m\u001b[0;34m)\u001b[0m\u001b[0;34m\u001b[0m\u001b[0m\n\u001b[1;32m    597\u001b[0m     \u001b[0;32mif\u001b[0m \u001b[0mx\u001b[0m\u001b[0;34m.\u001b[0m\u001b[0msize\u001b[0m \u001b[0;34m==\u001b[0m \u001b[0;36m0\u001b[0m\u001b[0;34m:\u001b[0m\u001b[0;34m\u001b[0m\u001b[0m\n\u001b[0;32m--> 598\u001b[0;31m         \u001b[0;32mraise\u001b[0m \u001b[0mTypeError\u001b[0m\u001b[0;34m(\u001b[0m\u001b[0;34m\"expected non-empty vector for x\"\u001b[0m\u001b[0;34m)\u001b[0m\u001b[0;34m\u001b[0m\u001b[0m\n\u001b[0m\u001b[1;32m    599\u001b[0m     \u001b[0;32mif\u001b[0m \u001b[0my\u001b[0m\u001b[0;34m.\u001b[0m\u001b[0mndim\u001b[0m \u001b[0;34m<\u001b[0m \u001b[0;36m1\u001b[0m \u001b[0;32mor\u001b[0m \u001b[0my\u001b[0m\u001b[0;34m.\u001b[0m\u001b[0mndim\u001b[0m \u001b[0;34m>\u001b[0m \u001b[0;36m2\u001b[0m\u001b[0;34m:\u001b[0m\u001b[0;34m\u001b[0m\u001b[0m\n\u001b[1;32m    600\u001b[0m         \u001b[0;32mraise\u001b[0m \u001b[0mTypeError\u001b[0m\u001b[0;34m(\u001b[0m\u001b[0;34m\"expected 1D or 2D array for y\"\u001b[0m\u001b[0;34m)\u001b[0m\u001b[0;34m\u001b[0m\u001b[0m\n",
      "\u001b[0;31mTypeError\u001b[0m: expected non-empty vector for x"
     ]
    },
    {
     "data": {
      "image/png": "[encoded data removed]",
      "text/plain": [
       "<Figure size 288x288 with 1 Axes>"
      ]
     },
     "metadata": {
      "needs_background": "light"
     },
     "output_type": "display_data"
    }
   ],
   "source": [
    "fig = plt.figure( figsize = (4,4))\n",
    "ax = fig.add_subplot(111)\n",
    "#ax2 = ax.twinx()\n",
    "ax.set_xlabel(r'$\\epsilon$',fontsize=16)\n",
    "ax.set_ylabel(r'$\\sigma$',fontsize=16)\n",
    "ax.tick_params(labelsize=16)\n",
    "#ax.set_yscale('log')\n",
    "#ax.set_ylim(1e6,1e8)\n",
    "#ax2.tick_params(labelsize=16)\n",
    "#ax.set_title(fileNamee[:-4])\n",
    "#\n",
    "#ax.plot(stress[:,0],stress[:,1],'-')\n",
    "\n",
    "#--- point corresponding to strain maps\n",
    "virial = []\n",
    "mu = []\n",
    "strain = []\n",
    "times = coord_atoms_broken.keys()\n",
    "times.sort()\n",
    "for itime in times:\n",
    "    CellVectorOrtho, VectorNorm = GetOrthogonalBasis( CellVector[ itime ] )\n",
    "    volume = np.linalg.det( CellVectorOrtho )\n",
    "    virial += [np.c_[coord_atoms_broken[itime]['c_1[4]']].astype(float).sum() / volume]\n",
    "    mu += [np.c_[coord_atoms_broken[itime]['c_1[22]']].astype(float).sum() / volume]\n",
    "    #--- strain\n",
    "    dx=CellVector[ itime ][0,1]-CellVector[ 0 ][0,1]\n",
    "    l1=CellVector[ itime ][1,1]\n",
    "    strain += [0.5*dx/l1]\n",
    "\n",
    "#--- plot stress\n",
    "ax.plot(2*np.array(strain),np.array(virial),'-o')\n",
    "\n",
    "#--- fit\n",
    "coeffs = np.polyfit(2*np.array(strain)[1:],np.array(virial)[1:], 1)\n",
    "def func(x, m, b):\n",
    "    return m*x+b\n",
    "\n",
    "\n",
    "#--- print fit\n",
    "ax.plot(2*np.array(strain),func(2*np.array(strain), *coeffs),'-.r')\n",
    "\n",
    "#\n",
    "plt.savefig('stressStrain.png',dpi=75,bbox_inches='tight')\n",
    "plt.show()"
   ]
  },
  {
   "cell_type": "markdown",
   "metadata": {
    "papermill": {},
    "tags": []
   },
   "source": [
    "# Born Modulus"
   ]
  },
  {
   "cell_type": "markdown",
   "metadata": {
    "papermill": {},
    "tags": []
   },
   "source": [
    "## Bulk value"
   ]
  },
  {
   "cell_type": "code",
   "execution_count": 197,
   "metadata": {
    "papermill": {},
    "tags": []
   },
   "outputs": [
    {
     "data": {
      "image/png": "[encoded data removed]",
      "text/plain": [
       "<Figure size 288x288 with 1 Axes>"
      ]
     },
     "metadata": {
      "needs_background": "light"
     },
     "output_type": "display_data"
    }
   ],
   "source": [
    "fig = plt.figure( figsize = (4,4))\n",
    "ax = fig.add_subplot(111)\n",
    "#ax2 = ax.twinx()\n",
    "ax.set_xlabel(r'$\\epsilon$',fontsize=16)\n",
    "ax.set_ylabel(r'$\\mu$',fontsize=16)\n",
    "ax.tick_params(labelsize=16)\n",
    "ax.set_yscale('log')\n",
    "ax.set_ylim(1e5,1e8)\n",
    "#ax2.tick_params(labelsize=16)\n",
    "#ax.set_title(fileNamee[:-4])\n",
    "#\n",
    "#ax.plot(stress[:,0],stress[:,1],'-')\n",
    "\n",
    "#--- plot mu\n",
    "ax.plot(2*np.array(strain),np.array(mu),'-rs', label='Born')\n",
    "\n",
    "#--- plot stress\n",
    "#ax.plot(2*np.array(strain),np.array(virial),'-o')\n",
    "#ax.plot(2*np.array(strain),np.gradient(virial,2*np.array(strain)),'-o')\n",
    "ax.plot(ax.axis()[:2],[ coeffs[0], coeffs[0] ],'-.', label='estimate')\n",
    "\n",
    "#\n",
    "plt.savefig('bornModulus.png',dpi=75,bbox_inches='tight')\n",
    "plt.show()"
   ]
  },
  {
   "cell_type": "markdown",
   "metadata": {
    "papermill": {},
    "tags": []
   },
   "source": [
    "## PDF"
   ]
  },
  {
   "cell_type": "code",
   "execution_count": 232,
   "metadata": {
    "papermill": {},
    "tags": []
   },
   "outputs": [
    {
     "data": {
      "image/png": "[encoded data removed]",
      "text/plain": [
       "<Figure size 288x288 with 1 Axes>"
      ]
     },
     "metadata": {
      "needs_background": "light"
     },
     "output_type": "display_data"
    }
   ],
   "source": [
    "def GetPDF(slist, n_per_decade=4, ACCUM = None, linscale = None):\n",
    "    if not linscale:\n",
    "        xlo = np.floor(np.log10(np.min(slist)))\n",
    "        xhi = np.ceil(np.log10(np.max(slist)))\n",
    "        bins = np.logspace(xlo,xhi,int(xhi-xlo)*n_per_decade)    \n",
    "    else:\n",
    "        xlo = np.min(slist)\n",
    "        xhi = np.max(slist)\n",
    "        bins = np.linspace(xlo,xhi,n_per_decade)\n",
    "        \n",
    "    hist, edges = np.histogram(slist,bins=bins,density=True)\n",
    "    count, edges = np.histogram(slist,bins=bins)\n",
    "    \n",
    "    \n",
    "    if ACCUM:\n",
    "        return np.cumsum((edges[1:]-edges[:-1])*hist), edges\n",
    "    \n",
    "    \n",
    "    hist = hist[count>0]\n",
    "    edges = edges[:-1][count>0]\n",
    "    count = count[count>0]\n",
    "    \n",
    "    return  hist, edges, hist / count**0.5\n",
    "\n",
    "\n",
    "\n",
    "#--- size distribution\n",
    "itime = ITIME = rand.sample(coord_atoms_broken.keys(),1)[0]\n",
    "value = np.c_[coord_atoms_broken[itime]['c_1[22]']].astype(float)*1e-6\n",
    "hist, edges2, error = GetPDF( value, linscale = True, n_per_decade=32)\n",
    "\n",
    "#--- plot\n",
    "fig = plt.figure(figsize=(4,4))\n",
    "ax = fig.add_subplot(111)\n",
    "ax.set_yscale('log')\n",
    "# ax.set_xscale('log')\n",
    "# ax.set_ylim(1e-10,1e-4)\n",
    "ax.set_xlabel(r'$\\mu$(Gpa)',fontsize=16)\n",
    "ax.set_ylabel(r'$P(\\mu)$',fontsize=16)\n",
    "ax.tick_params(labelsize=16)\n",
    "ax.set_title(r'itime=%s'%itime)\n",
    "#\n",
    "ax.errorbar(edges2,hist,error,fmt='-o',\n",
    "            markersize=8,markeredgewidth=0.7,\n",
    "                linewidth=.5,\n",
    "                 barsabove=None,capsize=5,capthick=1,elinewidth=1)\n",
    "#\n",
    "plt.savefig('muPDF.png',dpi=75,bbox_inches='tight')\n",
    "plt.show()"
   ]
  },
  {
   "cell_type": "markdown",
   "metadata": {
    "papermill": {},
    "tags": []
   },
   "source": [
    "## Interpolation\n"
   ]
  },
  {
   "cell_type": "markdown",
   "metadata": {
    "papermill": {},
    "tags": []
   },
   "source": [
    "### mapping & add copies"
   ]
  },
  {
   "cell_type": "code",
   "execution_count": 216,
   "metadata": {
    "papermill": {},
    "tags": []
   },
   "outputs": [
    {
     "name": "stdout",
     "output_type": "stream",
     "text": [
      "(50688, 9)\n",
      "(61420, 9)\n"
     ]
    }
   ],
   "source": [
    "def ChangeBasis( coord_atoms_broken, CellVector, CellOrigin, **kwargs ):\n",
    "############################################################\n",
    "####### map atoms within a tilted box to an orthogonal one\n",
    "############################################################\n",
    "\n",
    "    DimensionlessCords = GetDimensionlessCords( CellVector, coord_atoms_broken, CellOrigin  ) #--- beta0, beta1, beta2\n",
    "\n",
    "    #--- shift (beta0 + beta1 * dx / |b0| > 1) by - b0\n",
    "    #--- [b0,b1]^{-1}*(x=|b0|,y)\n",
    "    \n",
    "    b2 = CellVector[:,2]\n",
    "    b1 = CellVector[:,1]\n",
    "    b0 = CellVector[:,0]\n",
    "    norm_b0 = np.dot(b0,b0)**0.5\n",
    "    shift0 = np.dot(b1, b0 / norm_b0 )\n",
    "    #\n",
    "    indices_shiftTrue = (DimensionlessCords['beta0']) + (DimensionlessCords['beta1'])*shift0/norm_b0 >= 1.0\n",
    "    n = len( indices_shiftTrue )\n",
    "    shift_matrix =  np.array(indices_shiftTrue).reshape((n,1)) * b0\n",
    "    #\n",
    "    xyz = coord_atoms_broken - shift_matrix\n",
    "    #\n",
    "    attr_list = ['x','y','z']\n",
    "    values = xyz\n",
    "    for keys in kwargs:\n",
    "        attr_list += [ keys ]\n",
    "        values = np.c_[values,kwargs[keys]]\n",
    "                \n",
    "    return pd.DataFrame( values, columns = attr_list )\n",
    "#\n",
    "def AddCopies( coord_atoms_broken, CellVector, CellOrigin, \n",
    "               **kwargs ):    \n",
    "############################################################\n",
    "####### add replicals of the center simulation box\n",
    "############################################################\n",
    "    #--- orignial cell\n",
    "    XYZ_shifted = coord_atoms_broken\n",
    "    xyz_original = XYZ_shifted.copy()\n",
    "    #--- add other attributes to xyz \n",
    "    attr_list = ['x','y','z']\n",
    "    values = XYZ_shifted\n",
    "    for keys in kwargs:\n",
    "        attr_list += [ keys ]\n",
    "        values = np.c_[values,kwargs[keys]]\n",
    "    #--- exclude xyz\n",
    "    ID_TYPE_shifted = values[:,3:]\n",
    "    id_type_original = ID_TYPE_shifted.copy()\n",
    "    \n",
    "    #--- cell copies\n",
    "    for i in [-1,0,1]:\n",
    "        for j in [-1,0,1]:\n",
    "            for k in [-1,0,1]:\n",
    "    #            print i,j,k\n",
    "                if i == j == k == 0:\n",
    "                    continue\n",
    "                total_shift = np.matmul( CellVector, np.array([i,j,k]) )\n",
    "                #--- add shift\n",
    "                xyz_shifted = xyz_original + total_shift\n",
    "                #--- append\n",
    "                XYZ_shifted = np.concatenate( ( XYZ_shifted, xyz_shifted ), axis = 0 )\n",
    "                ID_TYPE_shifted = np.concatenate( ( ID_TYPE_shifted, id_type_original ), axis = 0 )\n",
    "                                \n",
    "    return pd.DataFrame(np.c_[XYZ_shifted,ID_TYPE_shifted],columns=attr_list)\n",
    "#\n",
    "def GetDimensionlessCords( CellVector, coord_atoms_broken, CellOrigin, **kwargs  ):\n",
    "############################################################\n",
    "####### compute dimensionless coords of atoms given \n",
    "####### corresponding cartesian coords\n",
    "############################################################\n",
    "    xyz_centered = coord_atoms_broken - CellOrigin\n",
    "    beta = np.matmul( np.linalg.inv(CellVector), xyz_centered.T).T\n",
    "    \n",
    "    attr_list = ['beta0', 'beta1', 'beta2']\n",
    "    values = beta\n",
    "    for keys in kwargs:\n",
    "        attr_list += [ keys ]\n",
    "        values = np.c_[values,kwargs[keys]]\n",
    "        \n",
    "    return pd.DataFrame( values, columns = attr_list  )\n",
    "\n",
    "def shiftBeta( xyzDimensionless_j, diff, key = 'beta0' ):\n",
    "    indices = diff[key] > 0.5\n",
    "    beta0_j = xyzDimensionless_j[key] - 1.0 * indices\n",
    "\n",
    "    indices = diff[key] < -0.5\n",
    "    beta0_j += 1.0 * indices\n",
    "    \n",
    "    return beta0_j\n",
    "#\n",
    "def GetXYZ( CellVector, CellOrigin, DimensionlessCords, attr_list = ['x','y','z'], **kwargs ):\n",
    "############################################################\n",
    "####### compute coords of atoms given \n",
    "####### corresponding dimensionless coords\n",
    "############################################################\n",
    "    XYZ_centered = np.matmul( CellVector, DimensionlessCords.T ).T #--- xyz in reference state\n",
    "    XYZ = XYZ_centered + CellOrigin\n",
    "    \n",
    "    \n",
    "    values = XYZ\n",
    "    for keys in kwargs:\n",
    "        attr_list += [ keys ]\n",
    "        values = np.c_[values,kwargs[keys]]\n",
    "        \n",
    "    return pd.DataFrame( values, columns = attr_list)\n",
    "#\n",
    "def MapCoord( coord_atoms_broken,\n",
    "              KEYS \n",
    "            ):\n",
    "############################################################\n",
    "##### map coords and add images of atoms and \n",
    "##### relevant attributes\n",
    "############################################################\n",
    "    coord = {}\n",
    "    for itime in KEYS:\n",
    "        #--- map atoms in the ref. state to an undeformed box\n",
    "        df = coord_atoms_broken[ itime ][['id','type','x','y','z','c_1[22]']]\n",
    "        xyz = np.c_[df[['x','y','z']].astype('float')]\n",
    "        xyz_mapped = ChangeBasis( xyz, CellVector[ itime ], CellOrigin[ itime ] )\n",
    "\n",
    "        #--- append ['xm','ym','zm']\n",
    "        coord[itime] = pd.DataFrame(np.c_[df, xyz_mapped],columns=['id','type','x','y','z','c_1[22]','xm','ym','zm'])\n",
    "\n",
    "\n",
    "    return coord \n",
    "#    \n",
    "def GetCopies( coord_atoms_broken,\n",
    "               CellVector,\n",
    "               CellOrigin,\n",
    "               KEYS,\n",
    "               ev = 0.1\n",
    "            ):\n",
    "############################################################\n",
    "####### add replicals of the center simulation box\n",
    "############################################################\n",
    "    for itime in KEYS:\n",
    "        #--- add copies ['x','y','z']\n",
    "        df = coord_atoms_broken[ itime ]\n",
    "        xyz = np.c_[df[['x','y','z']].astype('float')]\n",
    "        xyz_copy = AddCopies( xyz, CellVector[ itime ], CellOrigin[itime],\n",
    "                              id=df['id'],\n",
    "                              type = df['type'],\n",
    "                              mu = df['c_1[22]'],\n",
    "                            )\n",
    "        #--- exclude those out of the expanded box\n",
    "        df_inside =  GetPoints( CellOrigin[ itime ], \n",
    "                                   CellVector[ itime ],\n",
    "                                   xyz_copy[['x','y','z']], #--- give mapped coordinates\n",
    "                                   ev = ev,\n",
    "                                   output_attr = ['x','y','z'],\n",
    "                                  id=xyz_copy['id'],\n",
    "                                  type = xyz_copy['type'],\n",
    "                                  mu = xyz_copy['mu'],\n",
    "                                 )\n",
    "        #--- redo for mapped coords ['xm','ym','zm']\n",
    "        xyz_m = np.c_[df[['xm','ym','zm']].astype('float')]\n",
    "        xyz_m_copy = AddCopies( xyz_m, CellVector[ itime ], CellOrigin[itime],\n",
    "                              id=df['id'],\n",
    "                              type = df['type'],\n",
    "                               mu = df['c_1[22]'],\n",
    "                           )\n",
    "        #--- exclude those out of the expanded box\n",
    "        dfm_inside =  GetPoints( CellOrigin[ itime ], \n",
    "                                   CellVector[ itime ],\n",
    "                                   xyz_m_copy[['x','y','z']], #--- give mapped coordinates\n",
    "                                   ev = ev,\n",
    "                                   output_attr = ['x','y','z'],\n",
    "                                  id=xyz_m_copy['id'],\n",
    "                                  type = xyz_m_copy['type'],\n",
    "                                  mu = xyz_m_copy['mu'],\n",
    "                                 )\n",
    "        \n",
    "        coord_atoms_broken[itime] = pd.DataFrame(np.c_[df_inside[['id','type','x','y','z','mu']],dfm_inside[['x','y','z']]],columns=['id','type','x','y','z','mu','xm','ym','zm'])\n",
    "\n",
    "def GetPoints( CellOrigin, CellVector, xyz, ev = 0.2, output_attr = ['x','y','z'],**kwargs ):\n",
    "############################################################\n",
    "####### Get atoms inside an expanded box\n",
    "############################################################    \n",
    "    #--- tensor associated with dilation\n",
    "    strainTensor = np.array([[ev/3.0,0,0],\n",
    "                            [0,ev/3.0,0],\n",
    "                            [0,0,ev/3.0]])\n",
    "    #\n",
    "    identityMat = np.array([[1,0,0],[0,1,0],[0,0,1]])\n",
    "    #\n",
    "    CellVectorOrtho, VectorNorm = GetOrthogonalBasis( CellVector )\n",
    "\n",
    "    #--- extend diagonal\n",
    "    rvect = -np.matmul( CellVectorOrtho, np.array([0.5,0.5,0.5]))\n",
    "    CellOrigin_expanded = CellOrigin + np.matmul(strainTensor,rvect)\n",
    "\n",
    "    #--- extend basis vectors\n",
    "    CellVector_expanded = np.matmul( identityMat + strainTensor, CellVectorOrtho )\n",
    "\n",
    "    #--- (beta0,beta1,beta2) associated with original atoms and their images \n",
    "    #--- with reference to the expanded box \n",
    "    DimensionlessCords = GetDimensionlessCords( CellVector_expanded, \n",
    "                                                xyz,\n",
    "                                                CellOrigin_expanded,\n",
    "                                                **kwargs )\n",
    "    #--- filter: only inside the expanded box \n",
    "    index0 = np.all([DimensionlessCords['beta0'] >= 0.0, DimensionlessCords['beta0'] < 1.0], axis=0 )\n",
    "    index1 = np.all([DimensionlessCords['beta1'] >= 0.0, DimensionlessCords['beta1'] < 1.0], axis=0 )\n",
    "    index2 = np.all([DimensionlessCords['beta2'] >= 0.0, DimensionlessCords['beta2'] < 1.0], axis=0 )\n",
    "    bete_inside = DimensionlessCords[np.all([index0,index1,index2],axis=0)]\n",
    "\n",
    "    #--- xyz coordinates\n",
    "    kwargss = {}\n",
    "    for keys in kwargs:\n",
    "        kwargss[ keys ] = bete_inside[ keys ]        \n",
    "    xyz_inside = GetXYZ( CellVector_expanded, CellOrigin_expanded, \n",
    "                         np.c_[bete_inside[['beta0','beta1','beta2']]],\n",
    "                         output_attr,\n",
    "                         **kwargss )\n",
    "    \n",
    "    return xyz_inside    \n",
    "\n",
    "#--- map to the squared cell    \n",
    "coord = MapCoord( coord_atoms_broken,\n",
    "                  KEYS = [ITIME],#coord_atoms_broken.keys()\n",
    "                )\n",
    "#print coord[0].shape\n",
    "\n",
    "#--- add replicas\n",
    "GetCopies( coord,\n",
    "           CellVector,\n",
    "           CellOrigin,\n",
    "           KEYS = [ITIME],# coord.keys(),\n",
    "           ev = 0.2,\n",
    "         )\n",
    "#print coord[0].shape\n"
   ]
  },
  {
   "cell_type": "markdown",
   "metadata": {
    "papermill": {},
    "tags": []
   },
   "source": [
    "### cubic grid"
   ]
  },
  {
   "cell_type": "code",
   "execution_count": 217,
   "metadata": {
    "papermill": {},
    "tags": []
   },
   "outputs": [
    {
     "name": "stdout",
     "output_type": "stream",
     "text": [
      "dmean=2.287993253406484\n",
      "(35,) (39,) (39,)\n"
     ]
    }
   ],
   "source": [
    "def GetCubicGrid( CellOrigin, CellVector, dmean, margin  ):\n",
    "\n",
    "    CellVectorOrtho, VectorNorm = GetOrthogonalBasis( CellVector )\n",
    "    \n",
    "    volume = np.linalg.det( CellVectorOrtho )\n",
    "\n",
    "\n",
    "    [nx, ny, nz] = map( int, (np.array(VectorNorm)+2*margin) / dmean )\n",
    "    if nx%2 == 0:\n",
    "        nx += 1\n",
    "    if ny%2 == 0:\n",
    "        ny += 1\n",
    "    if nz%2 == 0:\n",
    "        nz += 1\n",
    "    \n",
    "    x = np.linspace( CellOrigin[0] - margin, CellOrigin[0] + VectorNorm[ 0 ] + margin, nx,endpoint=False)\n",
    "    y = np.linspace( CellOrigin[1] - margin, CellOrigin[1] + VectorNorm[ 1 ] + margin, ny,endpoint=False)\n",
    "    z = np.linspace( CellOrigin[2] - margin, CellOrigin[2] + VectorNorm[ 2 ] + margin, nz,endpoint=False)\n",
    "\n",
    "    return (x, y, z), np.meshgrid(x, y,z)\n",
    "\n",
    "\n",
    "\n",
    "#--- mean dist between atoms \n",
    "natoms = len( coord_atoms_broken[ 0 ] ) \n",
    "CellVectorOrtho, VectorNorm = GetOrthogonalBasis( CellVector[ 0 ] )\n",
    "volume = np.linalg.det( CellVectorOrtho )\n",
    "dmean = ( volume / natoms ) ** (1.0/3.0)\n",
    "print 'dmean=%s'%dmean\n",
    "\n",
    "#--- grid tiling mapped box with original size\n",
    "#--- values are interpolated onto this grid\n",
    "(xlin, ylin, zlin), (xv, yv, zv) = GetCubicGrid( CellOrigin[ 0 ], \n",
    "                                                 CellVector[ 0 ], \n",
    "                                                 dmean,\n",
    "                                                 margin = 0.0 * dmean )\n",
    "xi = np.array(zip(xv.flatten(), yv.flatten(), zv.flatten()))\n",
    "print xlin.shape, ylin.shape, zlin.shape"
   ]
  },
  {
   "cell_type": "markdown",
   "metadata": {
    "papermill": {},
    "tags": []
   },
   "source": [
    "### center box + margin"
   ]
  },
  {
   "cell_type": "code",
   "execution_count": 218,
   "metadata": {
    "papermill": {},
    "tags": []
   },
   "outputs": [],
   "source": [
    "def Intrp( coord, \n",
    "           keys = [ 0 ],\n",
    "         ):\n",
    "    #--- linear interpolation\n",
    "    df_intrp = {}\n",
    "    for time_i in keys:\n",
    "        #--- get a chunck of full copies\n",
    "        df = coord[ time_i ]\n",
    "        #--- interpolate\n",
    "        points = df[['xm','ym','zm']]\n",
    "        values = df[['mu']]\n",
    "        grid_z = scp_int.griddata(points, values, xi, method='linear')\n",
    "        assert not np.any(np.isnan(grid_z.flatten())), 'increase ev!'\n",
    "\n",
    "\n",
    "    #     x, y, z, d = np.c_[pointsValues[['xm','ym','zm','mu']].iloc[:-1]].T\n",
    "    #     rbfi = Rbf(x.tolist(), y.tolist(), z.tolist(), d.tolist(), function = 'gaussian', epsilon = dmean)  # radial basis function interpolator instance\n",
    "    #     grid_z = rbfi(xv, yv, zv).flatten()   # interpolated values\n",
    "\n",
    "        #--- store in dataframe\n",
    "        df_intrp[ time_i ] = pd.DataFrame(np.c_[xi,grid_z],columns=['x','y','z','mu'])\n",
    "    return df_intrp\n",
    "\n",
    "    \n",
    "mu_born = Intrp( coord, \n",
    "                  keys = [ITIME], #coord.keys()\n",
    "               )"
   ]
  },
  {
   "cell_type": "markdown",
   "metadata": {
    "papermill": {},
    "tags": []
   },
   "source": [
    "### imshow"
   ]
  },
  {
   "cell_type": "code",
   "execution_count": 219,
   "metadata": {
    "papermill": {},
    "tags": []
   },
   "outputs": [
    {
     "data": {
      "image/png": "[encoded data removed]",
      "text/plain": [
       "<Figure size 432x288 with 2 Axes>"
      ]
     },
     "metadata": {
      "needs_background": "light"
     },
     "output_type": "display_data"
    }
   ],
   "source": [
    "def FilterMatrix( CellVector, CellOrigin,\n",
    "                  (xlin, ylin, zlin),\n",
    "                  (xv, yv, zv ),\n",
    "                   value\n",
    "                ):\n",
    "    #--- xlims of the original box\n",
    "    CellVectorOrtho, VectorNorm = GetOrthogonalBasis( CellVector )\n",
    "    margin = 0.0    \n",
    "    (xlo,xhi)=( CellOrigin[0] - margin, CellOrigin[0] + VectorNorm[ 0 ] + margin)\n",
    "    (ylo,yhi)=( CellOrigin[1] - margin, CellOrigin[1] + VectorNorm[ 1 ] + margin)\n",
    "    (zlo,zhi)=(CellOrigin[2] - margin, CellOrigin[2] + VectorNorm[ 2 ] + margin )\n",
    "\n",
    "    #--- grid dimension tiling the original box\n",
    "    indices = np.all([xlin>=xlo, xlin<xhi],axis=0)\n",
    "    nx = xlin[indices].shape[0]\n",
    "    indices = np.all([ylin>=ylo, ylin<yhi],axis=0)\n",
    "    ny = ylin[indices].shape[0]\n",
    "    indices = np.all([zlin>=zlo, zlin<zhi],axis=0)\n",
    "    nz = zlin[indices].shape[0]\n",
    "\n",
    "    #--- filter matrices\n",
    "    indices = np.all([xv>=xlo,xv<xhi, yv>=ylo,yv<yhi, zv>=zlo,zv<zhi ],axis=0)\n",
    "    vf_flatten = value[indices] #--- filter extended grid\n",
    "    assert vf_flatten.shape[0] == nx*ny*nz, '%s != %s'%(vf_flatten.shape[0], nx*ny*nz)\n",
    "    vf = vf_flatten.reshape((ny,nx,nz))\n",
    "    return vf\n",
    "\n",
    "def CenterMatrix(a):\n",
    "    ( mgrid, ngrid ) = a.shape\n",
    "    return np.array([[ a[i,j] for j in xrange(-(ngrid/2),ngrid/2+ngrid%2)] \n",
    "                              for i in xrange(-(mgrid/2),mgrid/2+mgrid%2)])\n",
    "\n",
    "def PltBitmap( value,\n",
    "              xlabel = 'x', ylabel = 'y',\n",
    "              xlim = (-0.5,0.5), ylim = (-0.5,0.5),\n",
    "              frac = 1.0, #--- plot a patch\n",
    "              zscore = True,\n",
    "             ):\n",
    "        \n",
    "    val = value.copy()\n",
    "    #--- z-score\n",
    "    if zscore:\n",
    "        val -= np.mean(val)\n",
    "        val /= np.std(val)\n",
    "#         val[val>2.0]=1.0\n",
    "#         val[val<-2.0]=-1.0\n",
    "    #--- plot\n",
    "    (mgrid,ngrid) = val.shape\n",
    "    center = (ngrid/2,mgrid/2)\n",
    "    plt.xlabel(xlabel)\n",
    "    plt.ylabel(ylabel)\n",
    "    pos = plt.imshow(val.real,cmap='bwr',\n",
    "                     extent=(xlim[0],xlim[1],ylim[0],ylim[1]),origin='lower')# ,vmin=-.6, vmax=.6)\n",
    "#    plt.xlim(center[0]-(ngrid/2)*frac,center[0]+(ngrid/2)*frac)\n",
    "#    plt.ylim(center[1]-(mgrid/2)*frac,center[1]+(mgrid/2)*frac)\n",
    "#    plt.xlim(xlim[0]*frac,xlim[1]*frac)\n",
    "#    plt.ylim(ylim[0]*frac,ylim[1]*frac)\n",
    "    plt.colorbar( pos, fraction = 0.04)\n",
    "    plt.savefig('cxy.png',dpi=75,bbox_inches='tight')\n",
    "    plt.show()\n",
    "\n",
    "\n",
    "    \n",
    "\n",
    "itime = ITIME\n",
    "#--- reshape value\n",
    "nx,ny,nz = len(xlin), len(ylin),len(zlin) \n",
    "value = np.c_[mu_born[itime]['mu']].reshape(((ny,nx,nz)))\n",
    "\n",
    "#--- filter value\n",
    "# value = FilterMatrix( CellVector[0], CellOrigin[0],\n",
    "#                   (xlin, ylin, zlin),\n",
    "#                   (xv, yv, zv ),\n",
    "#                    value )\n",
    "\n",
    "CellVectorOrtho, VectorNorm = GetOrthogonalBasis( CellVector[ itime ] ) #--- box length\n",
    "#--- xy plane\n",
    "val = value[:,:,-1].copy()\n",
    "\n",
    "PltBitmap(val, \n",
    "          xlabel = 'x', ylabel = 'y',\n",
    "          xlim=VectorNorm[0]*np.array([0.0,1.0]),ylim=VectorNorm[1]*np.array([0.0,1.0]),\n",
    "          zscore = True,\n",
    "          frac = 1.0, #--- plot a patch\n",
    "        )"
   ]
  },
  {
   "cell_type": "markdown",
   "metadata": {
    "papermill": {},
    "tags": []
   },
   "source": [
    "### Auto-Correlations"
   ]
  },
  {
   "cell_type": "code",
   "execution_count": 169,
   "metadata": {
    "papermill": {},
    "tags": []
   },
   "outputs": [],
   "source": [
    "# def GetAutoCorrelation( val ):\n",
    "#     value  = val.copy()\n",
    "#     value -= np.mean( value )\n",
    "#     value /= np.std( value )\n",
    "\n",
    "#     ( nx, ny, nz ) =  value.shape\n",
    "#     n = nx * ny * nz\n",
    "#     vq = np.fft.fftn(value) #, axes=(0,1,2))\n",
    "#     vq_sq = np.abs(vq)**2\n",
    "\n",
    "#     v_real = np.fft.ifftn( vq_sq) / n #,  axes=(0,1,2) )\n",
    "#     return v_real\n",
    "\n",
    "\n",
    "# Crltn = {}\n",
    "# for itime in mu_born:\n",
    "#     #\n",
    "#     (nx,ny,nz) = len(xlin), len(ylin),len(zlin) \n",
    "#     #\n",
    "#     value = np.c_[mu_born[itime]['mu']].reshape(((ny,nx,nz)))\n",
    "#     #\n",
    "#     #--- filter value\n",
    "# #     value = FilterMatrix( CellVector[0], CellOrigin[0],\n",
    "# #                   (xlin, ylin, zlin),\n",
    "# #                   (xv, yv, zv ),\n",
    "# #                    value )\n",
    "\n",
    "#     Crltn[ itime ] = GetAutoCorrelation( value )\n"
   ]
  },
  {
   "cell_type": "code",
   "execution_count": 220,
   "metadata": {
    "papermill": {},
    "tags": []
   },
   "outputs": [],
   "source": [
    "def GetAutoCorrelation2d( val ):\n",
    "    value  = val.copy()\n",
    "    value -= np.mean( value )\n",
    "    value /= np.std( value )\n",
    "\n",
    "    ( nx, ny ) =  value.shape\n",
    "    n = nx * ny\n",
    "    vq = np.fft.fft2(value) #, axes=(0,1,2))\n",
    "    vq_sq = np.abs(vq)**2\n",
    "\n",
    "    v_real = np.fft.ifft2( vq_sq) / n #,  axes=(0,1,2) )\n",
    "    return v_real\n",
    "\n",
    "\n",
    "\n",
    "val = value[:,:,-1].copy()\n",
    "Crltn = GetAutoCorrelation2d( val )\n"
   ]
  },
  {
   "cell_type": "code",
   "execution_count": 221,
   "metadata": {
    "papermill": {},
    "tags": []
   },
   "outputs": [
    {
     "name": "stdout",
     "output_type": "stream",
     "text": [
      "(0, 17) 0.3827414376377036\n"
     ]
    },
    {
     "data": {
      "image/png": "[encoded data removed]",
      "text/plain": [
       "<Figure size 432x288 with 1 Axes>"
      ]
     },
     "metadata": {
      "needs_background": "light"
     },
     "output_type": "display_data"
    }
   ],
   "source": [
    "(m,n) = val.shape\n",
    "\n",
    "rx=n/2\n",
    "ry=0\n",
    "\n",
    "value  = val.copy()\n",
    "value -= np.mean( value )\n",
    "value /= np.std( value )\n",
    "    \n",
    "xsum = 0.0\n",
    "for i in xrange(m):\n",
    "    for j in xrange(n):\n",
    "        xsum += value[i,j]*value[(i+ry)%m,(j+rx)%n]\n",
    "        plt.scatter([value[i,j].real],[value[(i+ry)%m,(j+rx)%n].real],marker='x',color='C0',alpha=0.2)\n",
    "print (ry,rx), xsum / (m*n)\n",
    "\n",
    "plt.show()"
   ]
  },
  {
   "cell_type": "markdown",
   "metadata": {
    "papermill": {},
    "tags": []
   },
   "source": [
    "#### Print"
   ]
  },
  {
   "cell_type": "code",
   "execution_count": 172,
   "metadata": {
    "papermill": {},
    "tags": []
   },
   "outputs": [],
   "source": [
    "\n",
    "# def PltCrltn( value,\n",
    "#               xlabel = 'x', ylabel = 'y',\n",
    "#               xlim = (-0.5,0.5), ylim = (-0.5,0.5),\n",
    "#               frac = 1.0, #--- plot a patch\n",
    "#               zscore = True,\n",
    "#               fileName = 'cxy.png',\n",
    "#               dpi=75,\n",
    "#             ):\n",
    "        \n",
    "#     val = value.copy()\n",
    "#     #--- zscore\n",
    "#     if zscore:\n",
    "#         val -= np.mean(val)\n",
    "#         val /= np.std(val)\n",
    "#         val[val>2.0]=1.0\n",
    "#         val[val<-2.0]=-1.0\n",
    "#     #\n",
    "#     (mgrid,ngrid) = val.shape\n",
    "#     center = (ngrid/2,mgrid/2)\n",
    "#     plt.xlabel(xlabel)\n",
    "#     plt.ylabel(ylabel)\n",
    "#     pos = plt.imshow((CenterMatrix( val ).real),cmap='bwr',\n",
    "#                      extent=(xlim[0],xlim[1],ylim[0],ylim[1])) #,vmin=-.01, vmax=.01)\n",
    "#     plt.xlim(xlim[0]*frac,xlim[1]*frac)\n",
    "#     plt.ylim(ylim[0]*frac,ylim[1]*frac)\n",
    "\n",
    "#     plt.colorbar( pos, fraction = 0.04)\n",
    "#     plt.savefig(fileName,dpi=dpi,bbox_inches='tight')\n",
    "#     plt.show()\n",
    "\n",
    "\n",
    "# for itime in Crltn:\n",
    "#     print 'itime=',itime\n",
    "#     CellVectorOrtho, VectorNorm = GetOrthogonalBasis( CellVector[ itime ] ) #--- box length\n",
    "#     #    \n",
    "#     crltn = Crltn[ itime ]\n",
    "#     #--- xy plane\n",
    "#     val = crltn[:,:,0].copy()\n",
    "#     PltCrltn( val, \n",
    "#               xlabel = 'x', ylabel = 'y',\n",
    "#               xlim=VectorNorm[0]*np.array([-0.5,0.5]),ylim=VectorNorm[1]*np.array([-0.5,0.5]),\n",
    "#               frac = 1, #--- plot a patch\n",
    "#               zscore = False,\n",
    "#               fileName = 'cxy.%s.png'%itime,\n",
    "#               dpi = 60\n",
    "#             )\n",
    "#     # #--- zx plane\n",
    "#     # val = crltn[0,:,:].copy()\n",
    "#     # PltCrltn( val, \n",
    "#     #           xlabel = 'z', ylabel = 'x',\n",
    "#     #           xlim=VectorNorm[2]*np.array([-0.5,0.5]),ylim=VectorNorm[0]*np.array([-0.5,0.5]),\n",
    "#     #           frac = 1.0, #--- plot a patch\n",
    "#     #           zscore = False,\n",
    "#     #         )\n",
    "#     # #--- zy plane\n",
    "#     # val = crltn[:,0,:a].copy()\n",
    "#     # PltCrltn( val, \n",
    "#     #           xlabel = 'z', ylabel = 'y',\n",
    "#     #           xlim=VectorNorm[2]*np.array([-0.5,0.5]),ylim=VectorNorm[1]*np.array([-0.5,0.5]),\n",
    "#     #           frac = 1.0, #--- plot a patch\n",
    "#     #           zscore = False,\n",
    "#     #         )\n",
    "\n"
   ]
  },
  {
   "cell_type": "code",
   "execution_count": 222,
   "metadata": {
    "papermill": {},
    "tags": []
   },
   "outputs": [
    {
     "name": "stdout",
     "output_type": "stream",
     "text": [
      "itime= 0\n"
     ]
    },
    {
     "data": {
      "image/png": "[encoded data removed]",
      "text/plain": [
       "<Figure size 432x288 with 2 Axes>"
      ]
     },
     "metadata": {
      "needs_background": "light"
     },
     "output_type": "display_data"
    }
   ],
   "source": [
    "\n",
    "def PltCrltn( value,\n",
    "              xlabel = 'x', ylabel = 'y',\n",
    "              xlim = (-0.5,0.5), ylim = (-0.5,0.5),\n",
    "              frac = 1.0, #--- plot a patch\n",
    "              zscore = True,\n",
    "              fileName = 'cxy.png',\n",
    "              dpi=75,\n",
    "            ):\n",
    "        \n",
    "    val = value.copy()\n",
    "    #--- zscore\n",
    "    if zscore:\n",
    "        val -= np.mean(val)\n",
    "        val /= np.std(val)\n",
    "#         val[val>2.0]=1.0\n",
    "#         val[val<-2.0]=-1.0\n",
    "    #\n",
    "    (mgrid,ngrid) = val.shape\n",
    "    center = (ngrid/2,mgrid/2)\n",
    "    plt.xlabel(xlabel)\n",
    "    plt.ylabel(ylabel)\n",
    "    pos = plt.imshow((CenterMatrix( val ).real),cmap='bwr',\n",
    "#    pos = plt.imshow(val.real,cmap='bwr',\n",
    "                     extent=(xlim[0],xlim[1],ylim[0],ylim[1]))\n",
    "    plt.xlim(xlim[0]*frac,xlim[1]*frac)\n",
    "    plt.ylim(ylim[0]*frac,ylim[1]*frac)\n",
    "\n",
    "    plt.colorbar( pos, fraction = 0.04)\n",
    "    plt.savefig(fileName,dpi=dpi,bbox_inches='tight')\n",
    "    plt.show()\n",
    "\n",
    "\n",
    "    \n",
    "for itime in [0]:\n",
    "    print 'itime=',itime\n",
    "    CellVectorOrtho, VectorNorm = GetOrthogonalBasis( CellVector[ itime ] ) #--- box length\n",
    "    #    \n",
    "    crltn = Crltn\n",
    "    #--- xy plane\n",
    "    val = crltn\n",
    "    PltCrltn( val, \n",
    "              xlabel = 'x', ylabel = 'y',\n",
    "              xlim=VectorNorm[0]*np.array([-0.5,0.5]),ylim=VectorNorm[1]*np.array([-0.5,0.5]),\n",
    "              frac = 1, #--- plot a patch\n",
    "              zscore = False,\n",
    "              fileName = 'cxy.%s.png'%itime,\n",
    "              dpi = 60\n",
    "            )\n",
    "    # #--- zx plane\n",
    "    # val = crltn[0,:,:].copy()\n",
    "    # PltCrltn( val, \n",
    "    #           xlabel = 'z', ylabel = 'x',\n",
    "    #           xlim=VectorNorm[2]*np.array([-0.5,0.5]),ylim=VectorNorm[0]*np.array([-0.5,0.5]),\n",
    "    #           frac = 1.0, #--- plot a patch\n",
    "    #           zscore = False,\n",
    "    #         )\n",
    "    # #--- zy plane\n",
    "    # val = crltn[:,0,:].copy()\n",
    "    # PltCrltn( val, \n",
    "    #           xlabel = 'z', ylabel = 'y',\n",
    "    #           xlim=VectorNorm[2]*np.array([-0.5,0.5]),ylim=VectorNorm[1]*np.array([-0.5,0.5]),\n",
    "    #           frac = 1.0, #--- plot a patch\n",
    "    #           zscore = False,\n",
    "    #         )\n",
    "\n"
   ]
  },
  {
   "cell_type": "code",
   "execution_count": 223,
   "metadata": {
    "papermill": {},
    "tags": []
   },
   "outputs": [
    {
     "data": {
      "image/png": "[encoded data removed]",
      "text/plain": [
       "<Figure size 432x288 with 1 Axes>"
      ]
     },
     "metadata": {
      "needs_background": "light"
     },
     "output_type": "display_data"
    }
   ],
   "source": [
    "plt.plot(val[0,0:n/2+1],'o')\n",
    "plt.show()"
   ]
  },
  {
   "cell_type": "code",
   "execution_count": 224,
   "metadata": {
    "papermill": {},
    "tags": []
   },
   "outputs": [
    {
     "data": {
      "image/png": "[encoded data removed]",
      "text/plain": [
       "<Figure size 432x288 with 1 Axes>"
      ]
     },
     "metadata": {
      "needs_background": "light"
     },
     "output_type": "display_data"
    }
   ],
   "source": [
    "plt.plot(val[0:m/2+1,0],'o')\n",
    "plt.show()"
   ]
  },
  {
   "cell_type": "markdown",
   "metadata": {
    "papermill": {},
    "tags": []
   },
   "source": [
    "#### Crltn Length"
   ]
  },
  {
   "cell_type": "code",
   "execution_count": 70,
   "metadata": {
    "papermill": {},
    "tags": []
   },
   "outputs": [
    {
     "name": "stdout",
     "output_type": "stream",
     "text": [
      "itime= [ 1.        +0.00000000e+00j  0.2658274 +6.88618955e-18j\n",
      " -0.04848971-1.71179449e-17j -0.01102252-2.93916243e-17j\n",
      " -0.00884968-1.62750514e-17j  0.00918445-2.15780525e-17j\n",
      " -0.03312712-9.97251839e-18j -0.05288246-2.03756448e-17j\n",
      "  0.00139661-1.38082397e-17j  0.01228676-1.68636758e-18j\n",
      " -0.03872604+8.73879645e-18j -0.06374491+1.27488594e-17j\n",
      " -0.06287136+1.78505217e-17j -0.07180323+1.72273930e-17j\n",
      " -0.0330112 +1.26224898e-17j -0.04694569+1.20088551e-17j\n",
      " -0.0283897 +9.51409139e-18j  0.38274144-1.22170903e-17j\n",
      "  0.38274144+1.63072120e-17j -0.0283897 -1.87136875e-17j\n",
      " -0.04694569-1.20088551e-17j -0.0330112 -1.24391663e-17j\n",
      " -0.07180323-1.89805432e-17j -0.06287136-2.67810349e-17j\n",
      " -0.06374491-3.35037378e-18j -0.03872604-8.73879645e-18j\n",
      "  0.01228676-1.12526459e-17j  0.00139661+2.79229491e-17j\n",
      " -0.05288246+1.96805331e-17j -0.03312712+1.81927031e-17j\n",
      "  0.00918445+2.15780525e-17j -0.00884968+1.95271553e-17j\n",
      " -0.01102252+2.40585852e-17j -0.04848971+2.77042212e-17j\n",
      "  0.2658274 -1.24691659e-18j]\n"
     ]
    },
    {
     "ename": "TypeError",
     "evalue": "unhashable type: 'numpy.ndarray'",
     "output_type": "error",
     "traceback": [
      "\u001b[0;31m---------------------------------------------------------------------------\u001b[0m",
      "\u001b[0;31mTypeError\u001b[0m                                 Traceback (most recent call last)",
      "\u001b[0;32m<ipython-input-70-694d0622a8de>\u001b[0m in \u001b[0;36m<module>\u001b[0;34m()\u001b[0m\n\u001b[1;32m     76\u001b[0m     \u001b[0;32mprint\u001b[0m \u001b[0;34m'itime='\u001b[0m\u001b[0;34m,\u001b[0m\u001b[0mitime\u001b[0m\u001b[0;34m\u001b[0m\u001b[0m\n\u001b[1;32m     77\u001b[0m     \u001b[0;31m#--- bulk strain\u001b[0m\u001b[0;34m\u001b[0m\u001b[0;34m\u001b[0m\u001b[0m\n\u001b[0;32m---> 78\u001b[0;31m     \u001b[0mdx\u001b[0m\u001b[0;34m=\u001b[0m\u001b[0mCellVector\u001b[0m\u001b[0;34m[\u001b[0m \u001b[0mitime\u001b[0m \u001b[0;34m]\u001b[0m\u001b[0;34m[\u001b[0m\u001b[0;36m0\u001b[0m\u001b[0;34m,\u001b[0m\u001b[0;36m1\u001b[0m\u001b[0;34m]\u001b[0m\u001b[0;34m-\u001b[0m\u001b[0mCellVector\u001b[0m\u001b[0;34m[\u001b[0m \u001b[0;36m0\u001b[0m \u001b[0;34m]\u001b[0m\u001b[0;34m[\u001b[0m\u001b[0;36m0\u001b[0m\u001b[0;34m,\u001b[0m\u001b[0;36m1\u001b[0m\u001b[0;34m]\u001b[0m\u001b[0;34m\u001b[0m\u001b[0m\n\u001b[0m\u001b[1;32m     79\u001b[0m     \u001b[0ml1\u001b[0m\u001b[0;34m=\u001b[0m\u001b[0mCellVector\u001b[0m\u001b[0;34m[\u001b[0m \u001b[0mitime\u001b[0m \u001b[0;34m]\u001b[0m\u001b[0;34m[\u001b[0m\u001b[0;36m1\u001b[0m\u001b[0;34m,\u001b[0m\u001b[0;36m1\u001b[0m\u001b[0;34m]\u001b[0m\u001b[0;34m\u001b[0m\u001b[0m\n\u001b[1;32m     80\u001b[0m     \u001b[0mebulk\u001b[0m \u001b[0;34m=\u001b[0m \u001b[0;36m0.5\u001b[0m\u001b[0;34m*\u001b[0m\u001b[0mdx\u001b[0m\u001b[0;34m/\u001b[0m\u001b[0ml1\u001b[0m\u001b[0;34m\u001b[0m\u001b[0m\n",
      "\u001b[0;31mTypeError\u001b[0m: unhashable type: 'numpy.ndarray'"
     ]
    }
   ],
   "source": [
    "def Get_rc( xdata, ydata, cTOL ):\n",
    "    try:\n",
    "        xc1 = xdata[np.abs(ydata)<cTOL][0] \n",
    "    except:\n",
    "        xc1 = np.nan\n",
    "    try:    \n",
    "        xc2 = xdata[ydata<0.0][0] #--- correlation length\n",
    "    except:\n",
    "        xc2 = np.nan\n",
    "    try:\n",
    "        xc = np.array([xc1,xc2])\n",
    "        xc = xc[~np.isnan(xc)].min()\n",
    "    except:\n",
    "        xc = np.nan\n",
    "    return xc\n",
    "\n",
    "def PltCrltnFunc( crltn, \n",
    "                 (xv,yv),\n",
    "                 cTOL = 1.0e-2,\n",
    "                 PLOT = True,\n",
    "                 fileName='cxy.png',\n",
    "                 title = '',\n",
    "                 dpi = 60,\n",
    "                ):\n",
    "    if PLOT:\n",
    "        fig = plt.figure( figsize = (4,4))\n",
    "        ax = fig.add_subplot(111)\n",
    "        xstr = r'$r$'\n",
    "        ystr = r'$c(r)$'\n",
    "        ax.set_xlabel(xstr,fontsize=16)\n",
    "        ax.set_ylabel(ystr,fontsize=16)\n",
    "        ax.tick_params(labelsize=16)\n",
    "    #\n",
    "    val = crltn[:,:,0].copy() #--- only xy plane\n",
    "    (m,n)=val.shape\n",
    "    #--- along x \n",
    "    xv2 = xv[:,:,0].copy()\n",
    "    dx = xv2[0,1] - xv2[0,0]\n",
    "    #\n",
    "    xdata = np.arange(0,(n/2+n%2)) * dx\n",
    "    ydata = val[0,0:(n/2+n%2)]\n",
    "    #\n",
    "    xc = Get_rc( xdata, ydata, cTOL )\n",
    "    #\n",
    "    if PLOT:\n",
    "        ax.plot( xdata, ydata,'-o',label=r'$x$')       \n",
    "    #--- along y \n",
    "    yv2 = yv[:,:,0].copy()\n",
    "    dy = yv2[1,0] - yv2[0,0]\n",
    "    #\n",
    "    xdata = np.arange(0,(m/2+m%2)) * dy\n",
    "    ydata = val[0:(m/2+m%2),0]\n",
    "    #\n",
    "    yc = Get_rc( xdata, ydata, cTOL )\n",
    "    #\n",
    "    if PLOT:\n",
    "        ax.plot( xdata, ydata,'-s', color = 'red',label=r'$y$')\n",
    "    #--- plot\n",
    "    if PLOT:\n",
    "        ax.legend(frameon=False)\n",
    "        ax.set_title( title )\n",
    "        #ax.set_yscale('log')\n",
    "        #\n",
    "        ax.plot(ax.axis()[:2],[0.0,0.0],'-.',color='black')\n",
    "#        ax.plot((rc,rc),ax.axis()[2:],'-.r')\n",
    "        #\n",
    "        #\n",
    "        plt.savefig(fileName,dpi=dpi,bbox_inches='tight')\n",
    "        plt.show()\n",
    "    #\n",
    "    return (xc, yc)\n",
    "    \n",
    "    \n",
    "\n",
    "for itime in Crltn:\n",
    "    print 'itime=',itime\n",
    "    #--- bulk strain\n",
    "    dx=CellVector[ itime ][0,1]-CellVector[ 0 ][0,1]\n",
    "    l1=CellVector[ itime ][1,1]\n",
    "    ebulk = 0.5*dx/l1\n",
    "    #---\n",
    "    xc, yc = PltCrltnFunc( Crltn[ itime ], \n",
    "                 (xv,yv),\n",
    "                 fileName = 'cr.%s.png'%itime,\n",
    "                 title = r'$\\epsilon=%3.2f$'%(2*ebulk),\n",
    "                 cTOL = 8.0e-2,\n",
    "                 dpi = 60,\n",
    "                )\n",
    "    print xc, yc"
   ]
  },
  {
   "cell_type": "code",
   "execution_count": 72,
   "metadata": {
    "papermill": {},
    "tags": []
   },
   "outputs": [
    {
     "data": {
      "text/plain": [
       "'-5.744436e+09'"
      ]
     },
     "execution_count": 72,
     "metadata": {},
     "output_type": "execute_result"
    }
   ],
   "source": [
    "mean = coord_atoms_broken[itime]['c_1[22]'].astype(float).mean()\n",
    "std = coord_atoms_broken[itime]['c_1[22]'].astype(float).std()\n",
    "'%e'%(mean-2*std)"
   ]
  }
 ],
 "metadata": {
  "kernelspec": {
   "display_name": "Python 2",
   "language": "python",
   "name": "python2"
  },
  "language_info": {
   "codemirror_mode": {
    "name": "ipython",
    "version": 2
   },
   "file_extension": ".py",
   "mimetype": "text/x-python",
   "name": "python",
   "nbconvert_exporter": "python",
   "pygments_lexer": "ipython2",
   "version": "2.7.10"
  },
  "papermill": {
   "environment_variables": {},
   "input_path": "/home/kamran.karimi1/Project/git/CrystalPlasticity/postprocess/test3rd1/Run0/ElasticConstants.ipynb",
   "output_path": "./output.ipynb",
   "parameters": {
    "path": "/home/kamran.karimi1/Project/git/CrystalPlasticity/postprocess/../testRuns/test3rd/Run0"
   },
   "version": "1.2.1"
  }
 },
 "nbformat": 4,
 "nbformat_minor": 4
}