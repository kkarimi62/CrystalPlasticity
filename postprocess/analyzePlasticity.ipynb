{
 "cells": [
  {
   "cell_type": "markdown",
   "metadata": {},
   "source": [
    "# import libraries"
   ]
  },
  {
   "cell_type": "code",
   "execution_count": 117,
   "metadata": {},
   "outputs": [
    {
     "data": {
      "text/plain": [
       "<module 'LammpsPostProcess' from '/Users/Home/Desktop/Tmp/txt/git/CrystalPlasticity/postprocess/LammpsPostProcess.py'>"
      ]
     },
     "execution_count": 117,
     "metadata": {},
     "output_type": "execute_result"
    }
   ],
   "source": [
    "#--- system libraries\n",
    "import pdb\n",
    "import pandas as pd\n",
    "import numpy as np\n",
    "import matplotlib.pylab as plt\n",
    "import traceback\n",
    "import os\n",
    "import scipy.interpolate as scp_int\n",
    "import warnings\n",
    "import matplotlib\n",
    "from matplotlib.ticker import (MultipleLocator, AutoMinorLocator)\n",
    "from matplotlib import patches\n",
    "import sys\n",
    "import sklearn\n",
    "from sklearn.preprocessing import PolynomialFeatures\n",
    "from sklearn.linear_model import LinearRegression\n",
    "from sklearn.model_selection import cross_validate\n",
    "import patsy\n",
    "#\n",
    "warnings.filterwarnings('ignore')\n",
    "\n",
    "#--- user modules\n",
    "import LammpsPostProcess as lp\n",
    "import imp\n",
    "imp.reload(lp)"
   ]
  },
  {
   "cell_type": "code",
   "execution_count": 15,
   "metadata": {},
   "outputs": [],
   "source": [
    "#matplotlib.rcParams['text.usetex'] = True #--- comment tex stuff!"
   ]
  },
  {
   "cell_type": "markdown",
   "metadata": {},
   "source": [
    "# utility functions"
   ]
  },
  {
   "cell_type": "code",
   "execution_count": 114,
   "metadata": {},
   "outputs": [],
   "source": [
    "def to_dict( df ):\n",
    "    sdict = {}\n",
    "    skeys = df.keys().to_list()\n",
    "    for ikey in skeys:\n",
    "        sdict[ikey] = df[ikey].to_list()\n",
    "\n",
    "    return sdict\n",
    "\n",
    "def isSane( AddColumns, columnList ):\n",
    "    #--- avoid duplicates\n",
    "    assert len( set( AddColumns ) ) == len( AddColumns ), 'duplicates in the list!'\n",
    "    #--- assert column list is not already included\n",
    "    n = len( AddColumns )\n",
    "    AddColumns = list( set(AddColumns) - set( columnList ) )\n",
    "    if len(AddColumns) != n:\n",
    "        print('column already included!')\n",
    "        return False\n",
    "    return True\n",
    "\n",
    "        \n",
    "def PrintOvito( cordc, sfile, footer, attr_list=['x','y','z'] ):\n",
    "    smat = cordc[attr_list]\n",
    "    np.savetxt(sfile,[len(smat)],fmt='%s', footer='%s, %s'%(footer,str(attr_list)))\n",
    "    np.savetxt(sfile,smat,fmt='%s')\n",
    "    sfile.close()\n",
    "    \n",
    "def PltBitmap( value,\n",
    "              xlabel = 'x', ylabel = 'y',\n",
    "              xlim = (-0.5,0.5), ylim = (-0.5,0.5),\n",
    "              frac = 1.0, #--- plot a patch\n",
    "              zscore = True,\n",
    "              title = 'cxy.png',\n",
    "             ):\n",
    "        \n",
    "    val = value.copy()\n",
    "    #--- z-score\n",
    "    if zscore:\n",
    "        val -= np.mean(val)\n",
    "        val /= np.std(val)\n",
    "        val[val>2.0]=1.0\n",
    "        val[val<-2.0]=-1.0\n",
    "    #--- plot\n",
    "    (mgrid,ngrid) = val.shape\n",
    "    center = (ngrid/2,mgrid/2)\n",
    "    plt.xlabel(xlabel)\n",
    "    plt.ylabel(ylabel)\n",
    "    pos = plt.imshow(val.real,cmap='bwr',\n",
    "                     extent=(xlim[0],xlim[1],ylim[0],ylim[1]),origin='lower')# ,vmin=-.6, vmax=.6)\n",
    "    plt.colorbar( pos, fraction = 0.04)\n",
    "    plt.savefig(title,dpi=75,bbox_inches='tight')\n",
    "    plt.show()\n",
    "    \n",
    "def PltCrltn( value,\n",
    "              xlabel = 'x', ylabel = 'y',\n",
    "              xlim = (-0.5,0.5), ylim = (-0.5,0.5),\n",
    "              frac = 1.0, #--- plot a patch\n",
    "              zscore = True,\n",
    "              fileName = 'cxy.png',\n",
    "              dpi=75,\n",
    "            ):\n",
    "        \n",
    "    val = value.copy()\n",
    "    #--- zscore\n",
    "    if zscore:\n",
    "        val -= np.mean(val)\n",
    "        val /= np.std(val)\n",
    "        val[val>2.0]=1.0\n",
    "        val[val<-2.0]=-1.0\n",
    "    #\n",
    "    (mgrid,ngrid) = val.shape\n",
    "    center = (ngrid/2,mgrid/2)\n",
    "    plt.xlabel(xlabel)\n",
    "    plt.ylabel(ylabel)\n",
    "    pos = plt.imshow((CenterMatrix( val ).real),cmap='bwr',\n",
    "                     extent=(xlim[0],xlim[1],ylim[0],ylim[1])) #,vmin=-.01, vmax=.01)\n",
    "    plt.xlim(xlim[0]*frac,xlim[1]*frac)\n",
    "    plt.ylim(ylim[0]*frac,ylim[1]*frac)\n",
    "\n",
    "    plt.colorbar( pos, fraction = 0.04)\n",
    "    plt.savefig(fileName,dpi=dpi,bbox_inches='tight')\n",
    "    plt.show()\n",
    "    \n",
    "def GetAutoCorrelation( val ):\n",
    "    value  = val.copy()\n",
    "    value -= np.mean( value )\n",
    "    value /= np.std( value )\n",
    "\n",
    "    ( nx, ny, nz ) =  value.shape\n",
    "    n = nx * ny * nz\n",
    "    vq = np.fft.fftn(value) #, axes=(0,1,2))\n",
    "    vq_sq = np.abs(vq)**2\n",
    "\n",
    "    v_real = np.fft.ifftn( vq_sq) / n #,  axes=(0,1,2) )\n",
    "    return v_real\n",
    "\n",
    "def CenterMatrix(a):\n",
    "    ( mgrid, ngrid ) = a.shape\n",
    "    return np.array([[a[i,j] for j in range(-int(ngrid/2),int(ngrid/2)+ngrid%2)] \n",
    "                              for i in range(-int(mgrid/2),int(mgrid/2)+mgrid%2)])\n",
    "\n",
    "def Get_rc( xdata, ydata, cTOL ):\n",
    "    try:\n",
    "        xc1 = xdata[np.abs(ydata)<cTOL][0] \n",
    "    except:\n",
    "        xc1 = np.nan\n",
    "    try:    \n",
    "        xc2 = xdata[ydata<0.0][0] #--- correlation length\n",
    "    except:\n",
    "        xc2 = np.nan\n",
    "    try:\n",
    "        xc = np.array([xc1,xc2])\n",
    "        xc = xc[~np.isnan(xc)].min()\n",
    "    except:\n",
    "        xc = np.nan\n",
    "    return xc\n",
    "\n",
    "def PltCrltnFunc( crltn, \n",
    "                 xv,yv,\n",
    "                 cTOL = 1.0e-2,\n",
    "                 PLOT = True,\n",
    "                 fileName='cxy.png',\n",
    "                 title = '',\n",
    "                 dpi = 60,\n",
    "                ):\n",
    "    (ny,nx,nz) = crltn.shape\n",
    "    if PLOT:\n",
    "        fig = plt.figure( figsize = (4,4))\n",
    "        ax = fig.add_subplot(111)\n",
    "        xstr = r'$r$'\n",
    "        ystr = r'$c(r)$'\n",
    "        ax.set_xlabel(xstr,fontsize=16)\n",
    "        ax.set_ylabel(ystr,fontsize=16)\n",
    "        ax.tick_params(labelsize=16)\n",
    "    #\n",
    "    val = crltn[:,:,0].copy() #--- only xy plane\n",
    "    (m,n)=val.shape\n",
    "    #--- along x \n",
    "    xv2 = xv[:,:,0].copy()\n",
    "    dx = xv2[0,1] - xv2[0,0]\n",
    "    #\n",
    "    xdata = np.arange(0,(int(n/2)+n%2)) * dx\n",
    "    ydata = val[0,0:(int(n/2)+n%2)]\n",
    "    #\n",
    "    xc = Get_rc( xdata, ydata, cTOL )\n",
    "    #\n",
    "    if PLOT:\n",
    "        ax.plot( xdata, ydata,'-o',label=r'$x$')       \n",
    "    #--- along y \n",
    "    yv2 = yv[:,:,0].copy()\n",
    "    dy = yv2[1,0] - yv2[0,0]\n",
    "    #\n",
    "    xdata = np.arange(0,(int(m/2)+m%2)) * dy\n",
    "    ydata = val[0:(int(m/2)+m%2),0]\n",
    "    #\n",
    "    yc = Get_rc( xdata, ydata, cTOL )\n",
    "    #\n",
    "    if PLOT:\n",
    "        ax.plot( xdata, ydata,'-s', color = 'red',label=r'$y$')\n",
    "    #--- plot\n",
    "    if PLOT:\n",
    "        ax.legend(frameon=False)\n",
    "        ax.set_title( title )\n",
    "        #ax.set_yscale('log')\n",
    "        #\n",
    "        ax.plot(ax.axis()[:2],[0.0,0.0],'-.',color='black')\n",
    "#        ax.plot([dx,dx],ax.axis()[2:],'-.',color='black')\n",
    "        ax.plot((xc,xc),ax.axis()[2:],'-.r')\n",
    "        #\n",
    "        #\n",
    "        plt.savefig(fileName,dpi=dpi,bbox_inches='tight')\n",
    "        plt.show()\n",
    "    #\n",
    "    return (xc, yc)\n",
    "\n",
    "\n",
    "def GetSlice2d( hist, err,\n",
    "         xv, yv, zv,\n",
    "         xtol = 2.5,\n",
    "         z = 0.0):\n",
    "############################################################\n",
    "####### Get a 2D slice out off a 3D matrix\n",
    "############################################################    \n",
    "    dx=xtol #--- discretization length\n",
    "    (ny,nx,nz) = hist.shape\n",
    "    indices = np.all([np.abs(zv-z)>0.0,np.abs(zv-z)<dx],axis=0) #--- filtering based on the given range\n",
    "    #--- binning in xy\n",
    "    flist = hist[indices]\n",
    "    rvect = np.c_[yv[indices],xv[indices]]\n",
    "    rx,    bin_edges = np.histogramdd( rvect, bins = (ny, nx), weights = xv[indices] ) #--- \\sum r_i\n",
    "    ry,    bin_edges = np.histogramdd( rvect, bins = (ny, nx), weights = yv[indices]) #--- \\sum r_i\n",
    "    error,    bin_edges = np.histogramdd( rvect, bins = (ny, nx), weights = err[indices] ) #--- \\sum r_i\n",
    "    fmean, bin_edges = np.histogramdd( rvect, bins = (ny, nx), weights = flist ) #--- 3d histogram\n",
    "    count, bin_edges = np.histogramdd( rvect, bins = (ny, nx) ) #--- n_i\n",
    "\n",
    "    count[count==0] = 1\n",
    "    rx /= count \n",
    "    ry /= count \n",
    "    fmean /= count\n",
    "    error /= count\n",
    "    return rx, ry, fmean, error\n",
    "\n",
    "def GetSlice1d( hist, err,\n",
    "         xv, yv,\n",
    "         xtol = 2.5,\n",
    "         **kwargs):\n",
    "############################################################\n",
    "####### Get a 1D slice out off a 2D matrix\n",
    "############################################################    \n",
    "    dx=xtol #--- discretization length\n",
    "    (ny,nx) = hist.shape\n",
    "    if 'y' in kwargs:\n",
    "        y = kwargs['y']\n",
    "        indices = np.all([np.abs(yv-y)>0.0,np.abs(yv-y)<dx],axis=0) #--- filtering based on the given range\n",
    "        flist = hist[indices]\n",
    "        rvect = xv[indices]\n",
    "        rdist,    bin_edges = np.histogram( rvect, bins = nx, weights = xv[indices] ) #--- \\sum r_i\n",
    "        error,    bin_edges = np.histogram( rvect, bins = nx, weights = err[indices] ) #--- \\sum r_i\n",
    "        count, bin_edges = np.histogram( rvect, bins = nx ) #--- n_i\n",
    "        fmean, bin_edges = np.histogram( rvect, bins = nx, weights = flist ) #--- 3d histogram\n",
    "    elif 'x' in kwargs:\n",
    "        x = kwargs['x']\n",
    "        indices = np.all([np.abs(xv-x)>0.0,np.abs(xv-x)<dx],axis=0) #--- filtering based on the given range\n",
    "        flist = hist[indices]\n",
    "        rvect = yv[indices]\n",
    "        rdist,    bin_edges = np.histogram( rvect, bins = ny, weights = yv[indices] ) #--- \\sum r_i\n",
    "        error,    bin_edges = np.histogram( rvect, bins = ny, weights = err[indices] ) #--- \\sum r_i\n",
    "        count, bin_edges = np.histogram( rvect, bins = ny ) #--- n_i\n",
    "        fmean, bin_edges = np.histogram( rvect, bins = ny, weights = flist ) #--- 3d histogram\n",
    "        \n",
    "    #--- binning in xy\n",
    "\n",
    "    count[count==0] = 1\n",
    "    rdist /= count \n",
    "    fmean /= count\n",
    "    error /= count\n",
    "    return rdist, fmean, error\n",
    "\n",
    "\n",
    "def Get_rc( xdata, ydata, cTOL ):\n",
    "    try:\n",
    "        xc1 = xdata[np.abs(ydata)<cTOL][0] \n",
    "    except:\n",
    "        xc1 = np.nan\n",
    "    try:    \n",
    "        xc2 = xdata[ydata<0.0][0] #--- correlation length\n",
    "    except:\n",
    "        xc2 = np.nan\n",
    "    try:\n",
    "        xc = np.array([xc1,xc2])\n",
    "        xc = xc[~np.isnan(xc)].min()\n",
    "    except:\n",
    "        xc = np.nan\n",
    "    return xc\n",
    "\n",
    "def PltCrltnFunc1d( crltn, err,\n",
    "                 xv,\n",
    "                 cTOL = 1.0e-2,\n",
    "                 PLOT = True,\n",
    "                 fileName='cxy.png',\n",
    "                 title = '',\n",
    "                 dpi = 60,\n",
    "                 ylim=(-1.0,+1.0),\n",
    "                ):\n",
    "    if PLOT:\n",
    "        fig = plt.figure( figsize = (4,4))\n",
    "        ax = fig.add_subplot(111)\n",
    "        xstr = r'$r$'\n",
    "        ystr = r'$c(r)$'\n",
    "        ax.set_xlabel(xstr,fontsize=16)\n",
    "        ax.set_ylabel(ystr,fontsize=16)\n",
    "        ax.tick_params(labelsize=16)\n",
    "    #\n",
    "    val = crltn.copy() #--- only xy plane\n",
    "#    (m,n)=val.shape\n",
    "    #--- along x \n",
    "    xv2 = xv.copy()\n",
    "    dx = xv2[1] - xv2[0]\n",
    "    #\n",
    "    xdata = xv2 #np.arange(0,(n/2+n%2)) * dx\n",
    "    ydata = val #[0,0:(n/2+n%2)]\n",
    "    #\n",
    "    xc = Get_rc( xdata, ydata, cTOL )\n",
    "    #\n",
    "    if PLOT:\n",
    "        ax.errorbar( xdata, ydata,yerr = err, fmt='-o',label=r'$x$')       \n",
    "    #--- plot\n",
    "    if PLOT:\n",
    "        ax.legend(frameon=False)\n",
    "        ax.set_title( title )\n",
    "        #ax.set_yscale('log')\n",
    "        #\n",
    "        ax.plot(ax.axis()[:2],[0.0,0.0],'-.',color='black')\n",
    "#        ax.plot([dx,dx],ax.axis()[2:],'-.',color='black')\n",
    "        ax.plot([xc,xc],ax.axis()[2:],'-.',color='black')\n",
    "        #\n",
    "#        ax.set_xlim(xlim)\n",
    "        ax.set_ylim(ylim)\n",
    "        #\n",
    "        plt.savefig(fileName,dpi=dpi,bbox_inches='tight')\n",
    "        plt.show()\n",
    "    #\n",
    "    return xc\n",
    "\n",
    "\n",
    "def DrawFrame(ax, alpha_xl,alpha_xr,alpha_yb,alpha_yt,linewidth,LOG_X=None,LOG_Y=None):\n",
    "    [xlo,xhi,ylo,yhi] = ax.axis()\n",
    "    if LOG_X:\n",
    "        [xlo,xhi,junk,junk] = np.log10(ax.axis())\n",
    "    if LOG_Y:\n",
    "        [junk,junk,ylo,yhi] = np.log10(ax.axis())\n",
    "    lx = xhi - xlo\n",
    "    ly = yhi - ylo\n",
    "    xy = [xlo - alpha_xl * lx, ylo - alpha_yb * ly]\n",
    "    height = ly*(1+alpha_yb+alpha_yt)\n",
    "    width = lx*(1+alpha_xl+alpha_xr)\n",
    "    xy_end=[xy[0]+width,xy[1]+height]\n",
    "    if LOG_X:\n",
    "        xy[0] = 10 ** xy[0]\n",
    "        xy_end[0] = 10 ** xy_end[0]\n",
    "    if LOG_Y:\n",
    "        xy[1] = 10 ** xy[1]\n",
    "        xy_end[1] = 10 ** xy_end[1]\n",
    "    ax.add_patch( patches.Rectangle(xy=xy, width=xy_end[0]-xy[0], \n",
    "                                    height=xy_end[1]-xy[1], linewidth=linewidth,\n",
    "                                    clip_on=False,facecolor=None,edgecolor='black',fill=None) ) "
   ]
  },
  {
   "cell_type": "markdown",
   "metadata": {},
   "source": [
    "# Parameters"
   ]
  },
  {
   "cell_type": "code",
   "execution_count": null,
   "metadata": {},
   "outputs": [],
   "source": [
    "#--- comment out if no parameter is passed as an env. variable\n",
    "env_vars = !cat .env\n",
    "for var in env_vars:\n",
    "    key, value = var.split('=')\n",
    "    os.environ[key] = value\n",
    "\n",
    "path = os.environ.get('path')"
   ]
  },
  {
   "cell_type": "code",
   "execution_count": 79,
   "metadata": {},
   "outputs": [],
   "source": [
    "#--- comment out parameters if you pass them\n",
    "#--- by arguments\n",
    "\n",
    "#--- timestep\n",
    "#itime = 500000*2*2\n",
    "dlgr0 = 2.5 #--- 1st peak  in g(r)\n",
    "dlgr = 4.0 #--- 2nd peak in g(r)\n",
    "cutoff = 10.0*4    #--- cut-off radius for g(r)\n",
    "NMAX = 10000*5    #--- max. number of atoms included for the g(r) analysis\n",
    "#\n",
    "ReadStrsFromDump = False #--- if true: read stress from dump file\n",
    "#\n",
    "AssignYieldTime = False #--- stress peak\n",
    "AssignMaxDropTime = False #--- max drop\n",
    "AssignFlowTime = True #--- flow stress\n",
    "#\n",
    "ShuffleDisp = False\n",
    "CrltnFunctionUnstructured = False\n",
    "PairCorrelationFunction = False\n",
    "\n",
    "#--- lammps output\n",
    "#path = '/mnt/home/kkarimi/Project/git/CrystalPlasticity/testRuns/glassFeNi/Run0'\n",
    "#'/Users/Home/Desktop/Tmp/txt/git/CrystalPlasticity/BmgData'\n",
    "\n",
    "#--- stress files\n",
    "# fileNamee = ('FeNi.txt', \n",
    "#              'CoNiCr.txt', \n",
    "#              'CoNiCrFe.txt',\n",
    "#              'CoCrFeMn.txt',\n",
    "#              'Co5Cr2Fe40Mn27Ni26.txt')[2]\n",
    "\n",
    "fileNamee = ('FeNi.txt', \n",
    "             'CoNiFe.txt', \n",
    "             'CoNiCrFe.txt',\n",
    "             'CoCrFeMn.txt',\n",
    "             'CoNiCrFeMn.txt',\n",
    "             'Co5Cr5Fe40Mn27Ni26.txt')[4]\n",
    "\n",
    "#--- dump files\n",
    "# fileName = '%s/%s'%(path,['FeNi_glass.dump',\n",
    "#             'CoNiCr_glass.dump',\n",
    "#             'CoNiCrFe_glass.dump',\n",
    "#             'CoCrFeMn_glass.dump',\n",
    "#             'Co5Cr2Fe40Mn27Ni26_glass.dump'][2])#--- parse cords\n",
    "\n",
    "fileName = '%s/%s'%(path,[\n",
    "            'FeNi_glass.dump',\n",
    "            'CoNiFe_glass.dump',\n",
    "            'CoNiCrFe_glass.dump',\n",
    "            'CoCrFeMn_glass.dump',\n",
    "            'CoNiCrFeMn_glass.dump',\n",
    "            'Co5Cr5Fe40Mn27Ni26_glass.dump'][4])#--- parse cords\n",
    "\n"
   ]
  },
  {
   "cell_type": "markdown",
   "metadata": {},
   "source": [
    "# input stress file"
   ]
  },
  {
   "cell_type": "code",
   "execution_count": 23,
   "metadata": {},
   "outputs": [],
   "source": [
    "if not ReadStrsFromDump:\n",
    "    stress = np.loadtxt('%s/%s'%(path,fileNamee) )"
   ]
  },
  {
   "cell_type": "markdown",
   "metadata": {},
   "source": [
    "## Dump File"
   ]
  },
  {
   "cell_type": "code",
   "execution_count": 54,
   "metadata": {},
   "outputs": [],
   "source": [
    "#--- parse lammps data\n",
    "lmpData = lp.ReadDumpFile( fileName )\n",
    "lmpData.GetCords( ncount = sys.maxsize, columns = {'c_mystress[4]':'sxy'} )"
   ]
  },
  {
   "cell_type": "markdown",
   "metadata": {},
   "source": [
    "# stress-strain curve"
   ]
  },
  {
   "cell_type": "code",
   "execution_count": 55,
   "metadata": {},
   "outputs": [
    {
     "name": "stdout",
     "output_type": "stream",
     "text": [
      "BoxBounds.shape=3,3 is not (3,3)!\n",
      "add [0. 0. 0.]!\n",
      "BoxBounds.shape=3,3 is not (3,3)!\n",
      "add [0. 0. 0.]!\n",
      "BoxBounds.shape=3,3 is not (3,3)!\n",
      "add [0. 0. 0.]!\n",
      "BoxBounds.shape=3,3 is not (3,3)!\n",
      "add [0. 0. 0.]!\n",
      "BoxBounds.shape=3,3 is not (3,3)!\n",
      "add [0. 0. 0.]!\n",
      "BoxBounds.shape=3,3 is not (3,3)!\n",
      "add [0. 0. 0.]!\n"
     ]
    },
    {
     "data": {
      "image/png": "[encoded data removed]",
      "text/plain": [
       "<Figure size 288x288 with 1 Axes>"
      ]
     },
     "metadata": {
      "needs_background": "light"
     },
     "output_type": "display_data"
    }
   ],
   "source": [
    "if ReadStrsFromDump:\n",
    "    fig = plt.figure( figsize = (4,4))\n",
    "    ax = fig.add_subplot(111)\n",
    "    ax.set_xlabel(r'$\\gamma$',fontsize=16)\n",
    "    ax.set_ylabel(r'$\\sigma$(Gpa)',fontsize=16)\n",
    "    ax.tick_params(labelsize=16)\n",
    "    ax.set_title(fileNamee[:-4])\n",
    "#\n",
    "#--- point corresponding to strain maps\n",
    "strainDump = []\n",
    "Virial = []\n",
    "times = lmpData.coord_atoms_broken.keys()\n",
    "for itimee in sorted(times):\n",
    "\n",
    "    #--- extract atom and box properties\n",
    "    atoms = lp.Atoms( **lmpData.coord_atoms_broken[itimee].to_dict(orient='list') )\n",
    "    #\n",
    "    box = lp.Box( BoxBounds = lmpData.BoxBounds[itimee] )\n",
    "    box.BasisVectors( AddMissing = np.array([0.0,0.0,0.0] ))\n",
    "    #\n",
    "    box0 = lp.Box( BoxBounds = lmpData.BoxBounds[0] ) #--- reference state\n",
    "    box0.BasisVectors( AddMissing = np.array([0.0,0.0,0.0] ))\n",
    "\n",
    "    #--- volume\n",
    "    CellVectorOrtho, VectorNorm = lp.GetOrthogonalBasis( box.CellVector )\n",
    "    volume = np.linalg.det( CellVectorOrtho )\n",
    "    \n",
    "    #--- virial stress\n",
    "    if ReadStrsFromDump:\n",
    "        virial = np.sum(atoms.sxy) / volume\n",
    "\n",
    "    #--- bulk strain\n",
    "    dx=box.CellVector[0,1]-box0.CellVector[0,1]\n",
    "    l1=box.CellVector[1,1]\n",
    "    ebulk = dx/l1    \n",
    "    \n",
    "    #--- append\n",
    "    strainDump += [ebulk]\n",
    "    if ReadStrsFromDump:\n",
    "        Virial += [virial*1e-4] #--- bar to gpa \n",
    "if ReadStrsFromDump:\n",
    "    #\n",
    "    ax.plot(np.array(strainDump), Virial, '-o')\n",
    "    #\n",
    "    plt.savefig(fileNamee[:-4]+'.png',dpi=75,bbox_inches='tight')\n",
    "    np.savetxt('loadCurve.txt',np.c_[np.array(strain), Virial])\n",
    "    plt.show()\n",
    "#\n"
   ]
  },
  {
   "cell_type": "code",
   "execution_count": 387,
   "metadata": {},
   "outputs": [],
   "source": [
    "if not ReadStrsFromDump:\n",
    "\n",
    "    fig = plt.figure( figsize = (4,4))\n",
    "    ax = fig.add_subplot(111)\n",
    "    ax.set_xlabel(r'$\\epsilon$',fontsize=16)\n",
    "    ax.set_ylabel(r'$\\sigma$',fontsize=16)\n",
    "    ax.tick_params(labelsize=16)\n",
    "    ax.set_title(fileNamee[:-4])\n",
    "    #\n",
    "    strain = stress[:,0]\n",
    "    Virial = stress[:,1]\n",
    "    ax.plot(strain,Virial,'-')\n",
    "    #\n",
    "    plt.savefig(fileNamee[:-4]+'.png',dpi=75,bbox_inches='tight')\n",
    "    plt.show()\n",
    "    #\n",
    "    np.savetxt('loadCurve.txt',np.c_[np.array(strain), Virial])"
   ]
  },
  {
   "cell_type": "code",
   "execution_count": 386,
   "metadata": {},
   "outputs": [],
   "source": [
    "# sarr=np.loadtxt('%s/loadCurve.txt'%path)\n",
    "# strain = sarr[:,0]\n",
    "# Virial = sarr[:,1]\n",
    "\n",
    "# fig = plt.figure( figsize = (4,4))\n",
    "# ax = fig.add_subplot(111)\n",
    "# ax.set_xlabel(r'$\\gamma$',fontsize=16)\n",
    "# ax.set_ylabel(r'$\\sigma$(Gpa)',fontsize=16)\n",
    "# ax.tick_params(labelsize=16)\n",
    "\n",
    "# ax.plot(np.array(strain), Virial, '-o')\n",
    "# plt.show()"
   ]
  },
  {
   "cell_type": "markdown",
   "metadata": {},
   "source": [
    "## find stress peak and corresponding strain\n",
    "### Fit a spline"
   ]
  },
  {
   "cell_type": "code",
   "execution_count": 56,
   "metadata": {},
   "outputs": [
    {
     "name": "stdout",
     "output_type": "stream",
     "text": [
      "ef= 0.09999999999999999\n",
      "yf= 2.725491755274483\n"
     ]
    },
    {
     "data": {
      "image/png": "[encoded data removed]",
      "text/plain": [
       "<Figure size 288x288 with 1 Axes>"
      ]
     },
     "metadata": {
      "needs_background": "light"
     },
     "output_type": "display_data"
    }
   ],
   "source": [
    "\n",
    "def ReturnShapeFunc(x,df):\n",
    "#    eps1=0.0;eps2=0.0\n",
    "#    n = len(x)\n",
    "#    x2 = x * x\n",
    "#    x3 = x * x2\n",
    "#    x4 = (x-eps1)**3\n",
    "#    x5 = (x-eps2)**3\n",
    "    transformed_x = patsy.bs(x, df=df,degree =3, include_intercept=False)\n",
    "    return transformed_x \n",
    "\n",
    "def TrainModel(x,y):\n",
    "    reg = LinearRegression().fit(x, y )\n",
    "    return reg\n",
    "\n",
    "def Validate(reg, x,y,cv_samples=10):\n",
    "    mse={}\n",
    "#    for df in range(0,100,4):\n",
    "    for df in map(int,np.logspace(0,12,20,base=2,endpoint=True)):\n",
    "        try:\n",
    "            transfrm = ReturnShapeFunc(x,df)\n",
    "            #--- vadidate    \n",
    "            scores = cross_validate(reg,  transfrm, y, cv=cv_samples,\n",
    "                                         scoring=('r2', 'neg_mean_squared_error'),\n",
    "                                         return_train_score=True)\n",
    "            mse[df] = np.mean(scores['train_neg_mean_squared_error'])\n",
    "        except:\n",
    "            continue\n",
    "    return mse\n",
    "\n",
    "if ReadStrsFromDump:\n",
    "    strain = strainDump\n",
    "\n",
    "x, y = np.array(strain), np.array(Virial)\n",
    "#--- training points\n",
    "transfrm = ReturnShapeFunc(x,10)\n",
    "    \n",
    "#--- train\n",
    "reg = TrainModel(transfrm,np.c_[y])\n",
    "\n",
    "#--- prediction\n",
    "y_pred = reg.predict( transfrm )\n",
    "    \n",
    "\n",
    "#--- validate\n",
    "#mse = Validate(reg, strain,np.c_[y])\n",
    "\n",
    "#--- max. stress\n",
    "y_pred_arr = np.array(y_pred.flatten())\n",
    "indx = np.arange(len(y_pred_arr))[y_pred_arr==np.max(y_pred_arr)][0]\n",
    "ey =  x[indx]\n",
    "print('ey=',ey)\n",
    "\n",
    "#--- yield stress\n",
    "sy =  y_pred_arr[indx]\n",
    "print('sy=',sy)\n",
    "assert sy > 0.0\n",
    "\n",
    "#--- max. slope\n",
    "ydiff = np.gradient(y_pred_arr, x)\n",
    "indx = np.arange(len(x))[ydiff==np.min(ydiff[x>ey])][0]\n",
    "em = x[indx]\n",
    "sm =  y_pred_arr[indx]\n",
    "\n",
    "#--- flow stress\n",
    "ydiff = np.gradient(y_pred_arr, x)\n",
    "indx = np.arange(len(x))[np.abs(ydiff)==np.min(np.abs(ydiff)[x>em])][0]\n",
    "ef = x[indx]\n",
    "sf =  y_pred_arr[indx]\n",
    "\n",
    "\n",
    "#--- plot\n",
    "fig = plt.figure( figsize=(4,4))\n",
    "ax = fig.add_subplot(111)\n",
    "ax.set_ylabel(r'$\\sigma$(Gpa)',fontsize=16)\n",
    "ax.set_xlabel(r'$\\gamma$',fontsize=16)\n",
    "ax.tick_params(labelsize=16)\n",
    "#\n",
    "ax.plot( x, y,'o')\n",
    "ax.plot(x, y_pred,'-.r')\n",
    "if AssignYieldTime:\n",
    "    ax.plot([ey,ey], [ax.axis()[2],sy],'-.r')\n",
    "elif AssignMaxDropTime:\n",
    "    ax.plot([em,em], [ax.axis()[2],sm],'-.r')\n",
    "elif AssignFlowTime:\n",
    "    ax.plot([ef,ef], [ax.axis()[2],sf],'-.r')\n",
    "plt.savefig('fit.png',dpi=75,bbox_inches='tight')\n",
    "plt.show()\n"
   ]
  },
  {
   "cell_type": "code",
   "execution_count": 62,
   "metadata": {
    "scrolled": false
   },
   "outputs": [
    {
     "name": "stdout",
     "output_type": "stream",
     "text": [
      "itime(peak)=1000000\n"
     ]
    }
   ],
   "source": [
    "times = lmpData.coord_atoms_broken.keys()\n",
    "times = np.array(sorted(times))\n",
    "if AssignYieldTime:\n",
    "    itime = times[strainDump>=ey][0]\n",
    "    print('itime(peak)=%s'%itime)    \n",
    "elif AssignMaxDropTime:\n",
    "    itime = times[strainDump>=em][0]\n",
    "    print('itime(max. drop)=%s'%itime)\n",
    "elif AssignFlowTime:\n",
    "    itime = times[strainDump>=ef][0]\n",
    "    print('itime(flow)=%s'%itime)"
   ]
  },
  {
   "cell_type": "markdown",
   "metadata": {},
   "source": [
    "### test error vs. complexity"
   ]
  },
  {
   "cell_type": "code",
   "execution_count": 63,
   "metadata": {},
   "outputs": [
    {
     "data": {
      "image/png": "[encoded data removed]",
      "text/plain": [
       "<Figure size 432x288 with 1 Axes>"
      ]
     },
     "metadata": {
      "needs_background": "light"
     },
     "output_type": "display_data"
    }
   ],
   "source": [
    "keys=mse.keys()\n",
    "plt.scatter(keys, [-mse[key] for key in keys],marker='x')\n",
    "plt.yscale('log')\n",
    "plt.xscale('log')\n",
    "plt.ylim(1e-5,1e-2)\n",
    "plt.savefig('cv.png',dpi=75,bbox_inches='tight')\n",
    "plt.show()"
   ]
  },
  {
   "cell_type": "code",
   "execution_count": 388,
   "metadata": {},
   "outputs": [],
   "source": [
    "# fig = plt.figure( figsize = (4,4))\n",
    "# ax = fig.add_subplot(111)\n",
    "# # ax.set_xlabel(r'$\\epsilon$',fontsize=20)\n",
    "# # ax.set_ylabel(r'$\\sigma/\\sigma_y$',fontsize=20)\n",
    "# ax.xaxis.set_minor_locator(AutoMinorLocator(2))\n",
    "# ax.yaxis.set_minor_locator(AutoMinorLocator(2))\n",
    "# ax.tick_params(labelsize=16,which='both',axis='both', top=True, right=True)\n",
    "# #ax.set_title(fileNamee[:-4])\n",
    "# #\n",
    "# FileNamee = ('FeNi.txt', \n",
    "#              'CoNiCr.txt', \n",
    "#              'CoNiCrFe.txt',\n",
    "#              'CoCrFeMn.txt',\n",
    "#              'Co5Cr2Fe40Mn27Ni26.txt')\n",
    "# #FileNamee = ['CoNiCrFe.txt']\n",
    "# #\n",
    "# for fileNamee in FileNamee:\n",
    "#     stress = np.loadtxt('%s/%s'%(path,fileNamee) )\n",
    "#     #\n",
    "#     ax.plot(stress[:,0],stress[:,1]/stress[:,1].max(),'-', label = fileNamee[:-4])\n",
    "# ax.legend(frameon=False, fontsize=16)\n",
    "# #\n",
    "# DrawFrame(ax, (0.17,0.09),(0.15,0.06),0.04)\n",
    "# #\n",
    "# plt.savefig('loadCurve.png',dpi=2*75,bbox_inches='tight')\n",
    "# plt.show()"
   ]
  },
  {
   "cell_type": "markdown",
   "metadata": {},
   "source": [
    "# Plastic Deformation\n"
   ]
  },
  {
   "cell_type": "markdown",
   "metadata": {},
   "source": [
    "## Compute Displacements\n"
   ]
  },
  {
   "cell_type": "code",
   "execution_count": 73,
   "metadata": {
    "scrolled": false
   },
   "outputs": [
    {
     "name": "stdout",
     "output_type": "stream",
     "text": [
      "BoxBounds.shape=3,3 is not (3,3)!\n",
      "add [0. 0. 0.]!\n",
      "warning: attributes x, y, z are now unwrapped!\n"
     ]
    },
    {
     "data": {
      "text/html": [
       "<div>\n",
       "<style scoped>\n",
       "    .dataframe tbody tr th:only-of-type {\n",
       "        vertical-align: middle;\n",
       "    }\n",
       "\n",
       "    .dataframe tbody tr th {\n",
       "        vertical-align: top;\n",
       "    }\n",
       "\n",
       "    .dataframe thead th {\n",
       "        text-align: right;\n",
       "    }\n",
       "</style>\n",
       "<table border=\"1\" class=\"dataframe\">\n",
       "  <thead>\n",
       "    <tr style=\"text-align: right;\">\n",
       "      <th></th>\n",
       "      <th>x</th>\n",
       "      <th>y</th>\n",
       "      <th>z</th>\n",
       "      <th>id</th>\n",
       "      <th>type</th>\n",
       "      <th>xm</th>\n",
       "      <th>ym</th>\n",
       "      <th>zm</th>\n",
       "      <th>dx</th>\n",
       "      <th>dy</th>\n",
       "      <th>dz</th>\n",
       "    </tr>\n",
       "  </thead>\n",
       "  <tbody>\n",
       "    <tr>\n",
       "      <th>0</th>\n",
       "      <td>4.73092</td>\n",
       "      <td>-20.57810</td>\n",
       "      <td>-41.4164</td>\n",
       "      <td>1.0</td>\n",
       "      <td>4.0</td>\n",
       "      <td>4.73092</td>\n",
       "      <td>-20.57810</td>\n",
       "      <td>-41.4164</td>\n",
       "      <td>-3.608210</td>\n",
       "      <td>2.17550</td>\n",
       "      <td>-0.0385</td>\n",
       "    </tr>\n",
       "    <tr>\n",
       "      <th>1</th>\n",
       "      <td>-5.47277</td>\n",
       "      <td>-15.50650</td>\n",
       "      <td>-11.9452</td>\n",
       "      <td>2.0</td>\n",
       "      <td>2.0</td>\n",
       "      <td>-5.47277</td>\n",
       "      <td>-15.50650</td>\n",
       "      <td>-11.9452</td>\n",
       "      <td>-4.445540</td>\n",
       "      <td>1.78990</td>\n",
       "      <td>-0.5205</td>\n",
       "    </tr>\n",
       "    <tr>\n",
       "      <th>2</th>\n",
       "      <td>-35.09840</td>\n",
       "      <td>26.30910</td>\n",
       "      <td>27.5002</td>\n",
       "      <td>3.0</td>\n",
       "      <td>2.0</td>\n",
       "      <td>-35.09840</td>\n",
       "      <td>26.30910</td>\n",
       "      <td>27.5002</td>\n",
       "      <td>5.622822</td>\n",
       "      <td>-1.83440</td>\n",
       "      <td>-0.0146</td>\n",
       "    </tr>\n",
       "    <tr>\n",
       "      <th>3</th>\n",
       "      <td>-35.96470</td>\n",
       "      <td>-2.19362</td>\n",
       "      <td>-39.5794</td>\n",
       "      <td>4.0</td>\n",
       "      <td>2.0</td>\n",
       "      <td>-35.96470</td>\n",
       "      <td>-2.19362</td>\n",
       "      <td>-39.5794</td>\n",
       "      <td>-0.076878</td>\n",
       "      <td>-0.88144</td>\n",
       "      <td>0.0235</td>\n",
       "    </tr>\n",
       "    <tr>\n",
       "      <th>4</th>\n",
       "      <td>30.55360</td>\n",
       "      <td>-33.67560</td>\n",
       "      <td>-25.6883</td>\n",
       "      <td>5.0</td>\n",
       "      <td>2.0</td>\n",
       "      <td>30.55360</td>\n",
       "      <td>-33.67560</td>\n",
       "      <td>-25.6883</td>\n",
       "      <td>-6.285400</td>\n",
       "      <td>-0.01520</td>\n",
       "      <td>0.4930</td>\n",
       "    </tr>\n",
       "  </tbody>\n",
       "</table>\n",
       "</div>"
      ],
      "text/plain": [
       "          x         y        z   id  type        xm        ym       zm  \\\n",
       "0   4.73092 -20.57810 -41.4164  1.0   4.0   4.73092 -20.57810 -41.4164   \n",
       "1  -5.47277 -15.50650 -11.9452  2.0   2.0  -5.47277 -15.50650 -11.9452   \n",
       "2 -35.09840  26.30910  27.5002  3.0   2.0 -35.09840  26.30910  27.5002   \n",
       "3 -35.96470  -2.19362 -39.5794  4.0   2.0 -35.96470  -2.19362 -39.5794   \n",
       "4  30.55360 -33.67560 -25.6883  5.0   2.0  30.55360 -33.67560 -25.6883   \n",
       "\n",
       "         dx       dy      dz  \n",
       "0 -3.608210  2.17550 -0.0385  \n",
       "1 -4.445540  1.78990 -0.5205  \n",
       "2  5.622822 -1.83440 -0.0146  \n",
       "3 -0.076878 -0.88144  0.0235  \n",
       "4 -6.285400 -0.01520  0.4930  "
      ]
     },
     "execution_count": 73,
     "metadata": {},
     "output_type": "execute_result"
    }
   ],
   "source": [
    "\n",
    "#--- extract atom and box properties\n",
    "atoms = lp.Atoms( **lmpData.coord_atoms_broken[itime].to_dict(orient='list') )\n",
    "#\n",
    "box = lp.Box( BoxBounds = lmpData.BoxBounds[itime] )\n",
    "box.BasisVectors( AddMissing = np.array([0.0,0.0,0.0] ))\n",
    "  \n",
    "#--- wrap coordinates\n",
    "wrap = lp.Wrap( atoms, box )\n",
    "wrap.WrapCoord()\n",
    "wrap.Set( atoms ) #--- atoms: set wrapped xyz     \n",
    "\n",
    "#--- print actual xyz\n",
    "# PrintOvito( pd.DataFrame(atoms.__dict__), \n",
    "#              open( 'xyz_actual.xyz','w'), \n",
    "#              footer = 'ITIME=%s'%itime,\n",
    "#              attr_list=['id','type','x','y','z'])\n",
    "\n",
    "#--- map to square box\n",
    "mapp = lp.Map( atoms, box ) \n",
    "mapp.ChangeBasis()\n",
    "mapp.Set( atoms ) #--- atoms: add mapped xyz\n",
    "\n",
    "#--- print mapped xyz\n",
    "# PrintOvito( pd.DataFrame(atoms.__dict__), \n",
    "#             open( 'xyz_mapped.xyz','w'), \n",
    "#             footer = 'ITIME=%s'%itime,\n",
    "#             attr_list=['id','type','xm','ym','zm'] )\n",
    "\n",
    "#--- include copies\n",
    "copy = lp.Copy( atoms, box )\n",
    "copy.FullCopies()\n",
    "xatoms = copy.Get()\n",
    "\n",
    "#--- print mapped xyz\n",
    "# PrintOvito( pd.DataFrame(xatoms.__dict__), \n",
    "#             open( 'xyz_full.xyz','w'), \n",
    "#             footer = 'ITIME=%s'%itime,\n",
    "#             attr_list=['id','type','xm','ym','zm'] )\n",
    "\n",
    "#--- compute displacements\n",
    "#--- need attributes for the reference state\n",
    "atoms0 = lp.Atoms( **lmpData.coord_atoms_broken[0].to_dict(orient='list') )\n",
    "box0 = lp.Box( BoxBounds = lmpData.BoxBounds[0] )\n",
    "box0.BasisVectors( AddMissing = np.array([0.0,0.0,0.0] ))\n",
    "wrap = lp.Wrap( atoms0, box0 )\n",
    "wrap.WrapCoord()\n",
    "wrap.Set( atoms0 ) #--- atoms: set wrapped xyz    \n",
    "mapp = lp.Map( atoms0, box0 ) \n",
    "mapp.ChangeBasis()\n",
    "mapp.Set( atoms0 ) #--- atoms: add mapped xyz\n",
    "copy = lp.Copy( atoms0, box0 )\n",
    "copy.FullCopies()\n",
    "xatoms0 = copy.Get()\n",
    "#\n",
    "cdisp = lp.ComputeDisp( xatoms, box, xatoms0, box0 ) #--- pass full copies!\n",
    "cdisp.SetWrapped() \n",
    "uatoms = cdisp.Get(attrs = ['id','type','x','y','z','xm','ym','zm','dx','dy','dz'] ) #--- all atom-wise props\n",
    "#\n",
    "pd.DataFrame(uatoms.__dict__).head()"
   ]
  },
  {
   "cell_type": "code",
   "execution_count": 74,
   "metadata": {},
   "outputs": [],
   "source": [
    "# #--- shuffle displacements\n",
    "if ShuffleDisp:\n",
    "    xrand = np.c_[uatoms.dx,uatoms.dy,uatoms.dz]\n",
    "    np.random.shuffle(xrand)\n",
    "    junk = np.c_[uatoms.id, uatoms.type, uatoms.x, uatoms.xm, uatoms.y, uatoms.ym, uatoms.z,\n",
    "           uatoms.zm]\n",
    "    cols = [u'id', u'type', u'x', u'xm', u'y', u'ym', u'z',u'zm']\n",
    "    #np.c_[junk,xrand]\n",
    "    uatoms = lp.Atoms(**pd.DataFrame(np.c_[junk,xrand],columns=cols+['dx','dy','dz']).to_dict(orient='list'))"
   ]
  },
  {
   "cell_type": "markdown",
   "metadata": {},
   "source": [
    "### Print"
   ]
  },
  {
   "cell_type": "code",
   "execution_count": 75,
   "metadata": {},
   "outputs": [],
   "source": [
    "#--- get a chunk\n",
    "cptmp = lp.Copy(atoms0, box0) #--- important: must be reference frame!!\n",
    "indices = cptmp.isInsideExpanded( np.c_[xatoms0.xm,xatoms0.ym,xatoms0.zm], \n",
    "                                  epsilon = 0.0, mode = 'isotropic' )\n",
    "\n",
    "\n",
    "PrintOvito( pd.DataFrame(uatoms.__dict__)[indices], \n",
    "            open( 'xyz_expanded.xyz','w'), \n",
    "            footer = 'ITIME=%s'%itime,\n",
    "            attr_list=['id','type','x','y','z','dx','dy','dz'] )"
   ]
  },
  {
   "cell_type": "markdown",
   "metadata": {},
   "source": [
    "## D2min"
   ]
  },
  {
   "cell_type": "markdown",
   "metadata": {},
   "source": [
    "### Compute pair correlation function"
   ]
  },
  {
   "cell_type": "code",
   "execution_count": 80,
   "metadata": {},
   "outputs": [],
   "source": [
    "if PairCorrelationFunction:\n",
    "    rdf = lp.ComputeRdf(  atoms, box, \n",
    "                       cutoff = cutoff, NMAX = NMAX)\n",
    "\n",
    "    rdf.Distance(WRAP = True)\n",
    "    rdf.PairCrltn( nbins = 32 )\n",
    "    bin_edges, hist, err = rdf.Get()\n",
    "\n",
    "    #--- plot\n",
    "    plt.errorbar(bin_edges,hist,yerr=err,fmt='-o')\n",
    "    plt.show()"
   ]
  },
  {
   "cell_type": "markdown",
   "metadata": {},
   "source": [
    "### partition the space, make fits, and compute squared errors "
   ]
  },
  {
   "cell_type": "code",
   "execution_count": 81,
   "metadata": {
    "scrolled": false
   },
   "outputs": [
    {
     "data": {
      "text/html": [
       "<div>\n",
       "<style scoped>\n",
       "    .dataframe tbody tr th:only-of-type {\n",
       "        vertical-align: middle;\n",
       "    }\n",
       "\n",
       "    .dataframe tbody tr th {\n",
       "        vertical-align: top;\n",
       "    }\n",
       "\n",
       "    .dataframe thead th {\n",
       "        text-align: right;\n",
       "    }\n",
       "</style>\n",
       "<table border=\"1\" class=\"dataframe\">\n",
       "  <thead>\n",
       "    <tr style=\"text-align: right;\">\n",
       "      <th></th>\n",
       "      <th>x</th>\n",
       "      <th>y</th>\n",
       "      <th>z</th>\n",
       "      <th>id</th>\n",
       "      <th>type</th>\n",
       "      <th>xm</th>\n",
       "      <th>ym</th>\n",
       "      <th>zm</th>\n",
       "      <th>d2min</th>\n",
       "    </tr>\n",
       "  </thead>\n",
       "  <tbody>\n",
       "    <tr>\n",
       "      <th>0</th>\n",
       "      <td>-36.5156</td>\n",
       "      <td>-41.7659</td>\n",
       "      <td>-37.4528</td>\n",
       "      <td>1588.0</td>\n",
       "      <td>2.0</td>\n",
       "      <td>-36.5156</td>\n",
       "      <td>-41.7659</td>\n",
       "      <td>-37.4528</td>\n",
       "      <td>0.544093</td>\n",
       "    </tr>\n",
       "    <tr>\n",
       "      <th>1</th>\n",
       "      <td>-32.2449</td>\n",
       "      <td>-38.2246</td>\n",
       "      <td>-42.1487</td>\n",
       "      <td>2517.0</td>\n",
       "      <td>4.0</td>\n",
       "      <td>-32.2449</td>\n",
       "      <td>-38.2246</td>\n",
       "      <td>-42.1487</td>\n",
       "      <td>0.262304</td>\n",
       "    </tr>\n",
       "    <tr>\n",
       "      <th>2</th>\n",
       "      <td>-32.1688</td>\n",
       "      <td>-37.4879</td>\n",
       "      <td>-37.9695</td>\n",
       "      <td>2741.0</td>\n",
       "      <td>4.0</td>\n",
       "      <td>-32.1688</td>\n",
       "      <td>-37.4879</td>\n",
       "      <td>-37.9695</td>\n",
       "      <td>0.431984</td>\n",
       "    </tr>\n",
       "    <tr>\n",
       "      <th>3</th>\n",
       "      <td>-34.8963</td>\n",
       "      <td>-35.9155</td>\n",
       "      <td>-37.7770</td>\n",
       "      <td>2800.0</td>\n",
       "      <td>4.0</td>\n",
       "      <td>-34.8963</td>\n",
       "      <td>-35.9155</td>\n",
       "      <td>-37.7770</td>\n",
       "      <td>0.896613</td>\n",
       "    </tr>\n",
       "    <tr>\n",
       "      <th>4</th>\n",
       "      <td>-35.6839</td>\n",
       "      <td>-39.7431</td>\n",
       "      <td>-36.2111</td>\n",
       "      <td>3610.0</td>\n",
       "      <td>4.0</td>\n",
       "      <td>-35.6839</td>\n",
       "      <td>-39.7431</td>\n",
       "      <td>-36.2111</td>\n",
       "      <td>0.095866</td>\n",
       "    </tr>\n",
       "  </tbody>\n",
       "</table>\n",
       "</div>"
      ],
      "text/plain": [
       "         x        y        z      id  type       xm       ym       zm  \\\n",
       "0 -36.5156 -41.7659 -37.4528  1588.0   2.0 -36.5156 -41.7659 -37.4528   \n",
       "1 -32.2449 -38.2246 -42.1487  2517.0   4.0 -32.2449 -38.2246 -42.1487   \n",
       "2 -32.1688 -37.4879 -37.9695  2741.0   4.0 -32.1688 -37.4879 -37.9695   \n",
       "3 -34.8963 -35.9155 -37.7770  2800.0   4.0 -34.8963 -35.9155 -37.7770   \n",
       "4 -35.6839 -39.7431 -36.2111  3610.0   4.0 -35.6839 -39.7431 -36.2111   \n",
       "\n",
       "      d2min  \n",
       "0  0.544093  \n",
       "1  0.262304  \n",
       "2  0.431984  \n",
       "3  0.896613  \n",
       "4  0.095866  "
      ]
     },
     "execution_count": 81,
     "metadata": {},
     "output_type": "execute_result"
    }
   ],
   "source": [
    "#--- Create \"Atoms\" object with dx,x attributes and\n",
    "#--- atoms within the original box\n",
    "cptmp = lp.Copy(atoms0, box0) #--- important: must be reference frame!!\n",
    "indices = cptmp.isInsideExpanded( np.c_[xatoms0.xm,xatoms0.ym,xatoms0.zm], \n",
    "                                  epsilon = 0.0, mode = 'isotropic' )\n",
    "#--- filter the full copy\n",
    "atomd = lp.Atoms(**pd.DataFrame(uatoms.__dict__)[indices].to_dict(orient='list'))\n",
    "#\n",
    "d2min = lp.ComputeD2min(atomd, box0, dlgr)\n",
    "d2min.Partition()\n",
    "d2min.D2min()\n",
    "d2min = d2min.Get(attrs=['id','type','x','y','z','xm','ym','zm','d2min'])\n",
    "#\n",
    "pd.DataFrame(d2min.__dict__).head()"
   ]
  },
  {
   "cell_type": "markdown",
   "metadata": {},
   "source": [
    "### Print"
   ]
  },
  {
   "cell_type": "code",
   "execution_count": 82,
   "metadata": {},
   "outputs": [],
   "source": [
    "#--- print \n",
    "file_name = 'd2min.xyz'\n",
    "try:\n",
    "    os.system('rm %s'%file_name)\n",
    "except:\n",
    "    pass\n",
    "\n",
    "\n",
    "# times = dfD2min.keys()\n",
    "# times.sort()\n",
    "# for itime in dfD2min:\n",
    "PrintOvito( pd.DataFrame(d2min.__dict__), \n",
    "            open(file_name,'a'), \n",
    "            footer = 'ITIME=%s'%itime,\n",
    "            attr_list=['id','type','xm','ym','zm','d2min'] )\n"
   ]
  },
  {
   "cell_type": "markdown",
   "metadata": {},
   "source": [
    "### Interpolate"
   ]
  },
  {
   "cell_type": "code",
   "execution_count": 95,
   "metadata": {},
   "outputs": [],
   "source": [
    "#--- mean dist between atoms \n",
    "natoms = len( atoms0.x ) \n",
    "CellVectorOrtho, VectorNorm = lp.GetOrthogonalBasis( box0.CellVector )\n",
    "volume = np.linalg.det( CellVectorOrtho )\n",
    "dmean = ( volume / natoms ) ** (1.0/3.0) \n",
    "\n",
    "\n",
    "#--- grid tiling mapped box with original size\n",
    "#--- values are interpolated onto this grid\n",
    "(xlin, ylin, zlin), (xv, yv, zv) = lp.GetCubicGrid( box0.CellOrigin, \n",
    "                                                 box0.CellVector, \n",
    "                                                 dmean,\n",
    "                                                 margin = 0.0 * dmean )\n",
    "xi = np.array(list(zip(xv.flatten(), yv.flatten(), zv.flatten())))\n",
    "\n",
    "\n",
    "#--- expand the original box\n",
    "cptmp = lp.Copy(d2min, box0) #--- important: must be reference frame!!\n",
    "cptmp.Expand( epsilon = 0.1, mode = 'isotropic' )\n",
    "d2exp = cptmp.Get()\n",
    "\n",
    "points = np.c_[d2exp.xm,d2exp.ym,d2exp.zm] #--- unstructured points\n",
    "values = np.c_[d2exp.d2min] #--- corresponding values\n",
    "\n",
    "grid_z = scp_int.griddata(points, values, xi, method='linear')\n",
    "assert not np.any(np.isnan(grid_z.flatten())), 'increase ev!'\n",
    "\n",
    "#--- make an object\n",
    "d2intrp = lp.Atoms(**pd.DataFrame(np.c_[xi,grid_z],columns=['x','y','z','d2min']).to_dict(orient='list'))\n",
    "\n"
   ]
  },
  {
   "cell_type": "markdown",
   "metadata": {},
   "source": [
    "#### Imshow"
   ]
  },
  {
   "cell_type": "code",
   "execution_count": 96,
   "metadata": {},
   "outputs": [
    {
     "data": {
      "image/png": "[encoded data removed]",
      "text/plain": [
       "<Figure size 432x288 with 2 Axes>"
      ]
     },
     "metadata": {
      "needs_background": "light"
     },
     "output_type": "display_data"
    }
   ],
   "source": [
    "#--- reshape value\n",
    "nx,ny,nz = len(xlin), len(ylin),len(zlin) \n",
    "value = np.c_[d2intrp.d2min].reshape(((ny,nx,nz)))\n",
    "\n",
    "CellVectorOrtho, VectorNorm = lp.GetOrthogonalBasis( box.CellVector ) #--- box length\n",
    "#--- xy plane\n",
    "val = value[:,:,-1].copy()\n",
    "\n",
    "PltBitmap(val, \n",
    "          xlabel = 'x', ylabel = 'y',\n",
    "          xlim=VectorNorm[0]*np.array([0.0,1.0]),ylim=VectorNorm[1]*np.array([0.0,1.0]),\n",
    "          zscore = True,\n",
    "          frac = 1.0, #--- plot a patch\n",
    "          title = 'd2min.png',\n",
    "        )"
   ]
  },
  {
   "cell_type": "markdown",
   "metadata": {},
   "source": [
    "### Crltn Function (Unstructured points)"
   ]
  },
  {
   "cell_type": "code",
   "execution_count": 97,
   "metadata": {
    "scrolled": false
   },
   "outputs": [],
   "source": [
    "if CrltnFunctionUnstructured:\n",
    "    crltn = lp.ComputeCrltn(  d2min, box, \n",
    "                              d2min.d2min, #--- values\n",
    "                              cutoff = cutoff, #--- cutoff size to include neighbors\n",
    "                              dx = dlgr0, #--- discretization length: 1st peak in rdf\n",
    "                              NMAX = NMAX, #--- upper bounds for the number of atoms\n",
    "                            )\n",
    "    crltn.Distance()\n",
    "    crltn.AutoCrltn(RADIAL = None)\n",
    "    xvv, yvv, zvv, hist, err = crltn.Get()\n",
    "\n",
    "    #--- save data\n",
    "    np.save('CrltnFuncUnstructured',np.c_[xvv, yvv, zvv, hist, err])"
   ]
  },
  {
   "cell_type": "code",
   "execution_count": 202,
   "metadata": {},
   "outputs": [],
   "source": [
    "# n=1000*4\n",
    "# xyz = np.random.random((n,3)) \n",
    "# atom_tmp = lp.Atoms(**pd.DataFrame(np.c_[np.arange(n),np.ones(n),xyz],\n",
    "#                                    columns=['id','type','x','y','z']).to_dict(orient='list'))\n",
    "# box_tmp = lp.Box(CellOrigin=np.array([0,0,0]),CellVector=np.array([[1,0,0],[0,1,0],[0,0,1]]))\n",
    "# #val = np.sin(2*np.pi*xyz[:,0])\n",
    "# rstar = 0.25\n",
    "# xyz = xyz - np.array([0.5,0.5,0.5])\n",
    "# val = np.exp(-0.5*(xyz[:,0]**2+xyz[:,1]**2+xyz[:,2]**2)/rstar/rstar)\n",
    "# crltn = lp.ComputeCrltn(    atom_tmp, box_tmp,\n",
    "#                              val,\n",
    "#                              cutoff=1.0*3**.5, dx=0.05,\n",
    "#                              NMAX = n\n",
    "#                      )\n",
    "# crltn.Distance()\n",
    "# crltn.AutoCrltn(RADIAL = None)\n",
    "# xvv, yvv, zvv, hist, err = crltn.Get()\n",
    "\n",
    "# dlgr0 = 0.05/2"
   ]
  },
  {
   "cell_type": "markdown",
   "metadata": {},
   "source": [
    "#### Plot Crltns"
   ]
  },
  {
   "cell_type": "code",
   "execution_count": 203,
   "metadata": {},
   "outputs": [],
   "source": [
    "#--- load data\n",
    "# sdata = np.load('CrltnFuncUnstructured.npy')\n",
    "# nz = sdata.shape[2]/5\n",
    "# xv = sdata[:,:,0:nz]\n",
    "# yv = sdata[:,:,nz:2*nz]\n",
    "# zv = sdata[:,:,2*nz:3*nz]\n",
    "# hist = sdata[:,:,3*nz:4*nz]\n",
    "# err = sdata[:,:,4*nz:5*nz]"
   ]
  },
  {
   "cell_type": "code",
   "execution_count": 219,
   "metadata": {},
   "outputs": [
    {
     "data": {
      "image/png": "[encoded data removed]",
      "text/plain": [
       "<Figure size 432x288 with 2 Axes>"
      ]
     },
     "metadata": {
      "needs_background": "light"
     },
     "output_type": "display_data"
    },
    {
     "data": {
      "image/png": "[encoded data removed]",
      "text/plain": [
       "<Figure size 288x288 with 1 Axes>"
      ]
     },
     "metadata": {
      "needs_background": "light"
     },
     "output_type": "display_data"
    },
    {
     "data": {
      "text/plain": [
       "10.699313962120927"
      ]
     },
     "execution_count": 219,
     "metadata": {},
     "output_type": "execute_result"
    }
   ],
   "source": [
    "if CrltnFunctionUnstructured:\n",
    "    #--- get 2d slice\n",
    "    xv2d, yv2d, hist2d, err2d = GetSlice2d( hist, err,\n",
    "                                           xvv, yvv, zvv,\n",
    "                                           z=0.0, xtol = dlgr0/2\n",
    "                                          )\n",
    "    #--- bitmap\n",
    "    PltBitmap(hist2d, \n",
    "              xlabel = 'x', ylabel = 'y',\n",
    "              xlim=(xv2d.min(),xv2d.max()),ylim=(yv2d.min(),yv2d.max()),\n",
    "              zscore = None,\n",
    "              frac = 1.0, #--- plot a patch\n",
    "              ) \n",
    "\n",
    "    #--- get 1d slice\n",
    "    xv1d, hist1d, err1d =   GetSlice1d( hist2d, err2d,\n",
    "                                 xv2d, yv2d,\n",
    "                                 xtol = dlgr0/2,\n",
    "                                 y=0.0)   \n",
    "    #--- plot\n",
    "    PltCrltnFunc1d( hist1d[xv1d>0.0], err1d[xv1d>0.0],\n",
    "                     xv1d[xv1d>0.0],\n",
    "                     fileName = 'cr.%s.png'%itime,\n",
    "    #                 title = r'$\\epsilon=%3.2f$'%(2*ebulk),\n",
    "                     cTOL = 8.0e-2,\n",
    "                     dpi = 60,\n",
    "                    )"
   ]
  },
  {
   "cell_type": "markdown",
   "metadata": {},
   "source": [
    "### Crltn Function (FFT)"
   ]
  },
  {
   "cell_type": "code",
   "execution_count": 115,
   "metadata": {},
   "outputs": [
    {
     "data": {
      "image/png": "[encoded data removed]",
      "text/plain": [
       "<Figure size 432x288 with 2 Axes>"
      ]
     },
     "metadata": {
      "needs_background": "light"
     },
     "output_type": "display_data"
    },
    {
     "data": {
      "image/png": "[encoded data removed]",
      "text/plain": [
       "<Figure size 288x288 with 1 Axes>"
      ]
     },
     "metadata": {
      "needs_background": "light"
     },
     "output_type": "display_data"
    }
   ],
   "source": [
    "(nx,ny,nz) = len(xlin), len(ylin),len(zlin) \n",
    "#\n",
    "value = np.c_[d2intrp.d2min].reshape((ny,nx,nz))\n",
    "        \n",
    "#--- shuffle\n",
    "#     ( nx, ny, nz ) =  value.shape\n",
    "#     slist = value.flatten()\n",
    "#     np.random.shuffle(slist)\n",
    "#     value=slist.reshape((nx, ny, nz))    \n",
    "#\n",
    "#--- filter value\n",
    "#     value = FilterMatrix( CellVector[0], CellOrigin[0],\n",
    "#                   (xlin, ylin, zlin),\n",
    "#                   (xv, yv, zv ),\n",
    "#                    value )\n",
    "\n",
    "crltn = GetAutoCorrelation( value )\n",
    "\n",
    "    \n",
    "CellVectorOrtho, VectorNorm = lp.GetOrthogonalBasis( box.CellVector ) #--- box length\n",
    "#    \n",
    "\n",
    "#--- xy plane\n",
    "val = crltn[:,:,0].copy()\n",
    "PltCrltn( val, \n",
    "          xlabel = 'x', ylabel = 'y',\n",
    "          xlim=VectorNorm[0]*np.array([-0.5,0.5]),ylim=VectorNorm[1]*np.array([-0.5,0.5]),\n",
    "          frac = 1, #--- plot a patch\n",
    "          zscore = False,\n",
    "          fileName = 'cxy_d2min.%s.png'%itime,\n",
    "          dpi = 60\n",
    "        )\n",
    "\n",
    "#--- bulk strain\n",
    "dx=box.CellVector[0,1]-box0.CellVector[0,1]\n",
    "l1=box.CellVector[1,1]\n",
    "ebulk = dx/l1\n",
    "#---\n",
    "xc, yc = PltCrltnFunc(   crltn, \n",
    "                         xv,yv,\n",
    "                         fileName = 'cr_d2min.%s.png'%itime,\n",
    "                         title = r'$\\gamma=%3.2f$'%(ebulk),\n",
    "                         cTOL = 8.0e-2,\n",
    "            #             dpi = 60,\n",
    "                        )\n",
    "#--- save\n",
    "np.savetxt('rc_d2min.txt',np.c_[ebulk, xc, yc],header='gamma\\txc\\tyc')"
   ]
  },
  {
   "cell_type": "markdown",
   "metadata": {},
   "source": [
    "#### Multiple Times"
   ]
  },
  {
   "cell_type": "code",
   "execution_count": 311,
   "metadata": {
    "scrolled": true
   },
   "outputs": [
    {
     "data": {
      "image/png": "[encoded data removed]",
      "text/plain": [
       "<Figure size 288x288 with 1 Axes>"
      ]
     },
     "metadata": {
      "needs_background": "light"
     },
     "output_type": "display_data"
    }
   ],
   "source": [
    "i=0\n",
    "append = False\n",
    "while i < 10000:\n",
    "    try:\n",
    "        sarr0 = np.c_[np.loadtxt('glassFeNi%i/Run0/rc_d2min.txt'%i)].T\n",
    "        #        print i,sarr0\n",
    "        if not append:\n",
    "            sarr = sarr0.copy()\n",
    "            append = True\n",
    "        else:\n",
    "            sarr = np.concatenate((sarr,sarr0),axis=0)\n",
    "    except:\n",
    "        i+=1\n",
    "#        traceback.print_exc()\n",
    "        continue\n",
    "    i+=1\n",
    "\n",
    "\n",
    "#--- plot\n",
    "fig = plt.figure( figsize = (4,4))\n",
    "ax = fig.add_subplot(111)\n",
    "xstr = r'$\\gamma$'\n",
    "ystr = r'$r_c(A^\\circ)$'\n",
    "ax.set_xlabel(xstr,fontsize=16)\n",
    "ax.set_ylabel(ystr,fontsize=16)\n",
    "ax.tick_params(labelsize=16)\n",
    "#\n",
    "#ax.plot( sarr[1:,0], sarr[1:,1],'-o', color='C0', label = r'$x_c$')\n",
    "ax.plot( sarr[1:,0], sarr[1:,2],'-s', color='red', label = r'$y_c$')\n",
    "ax.legend(frameon=False)\n",
    "plt.savefig('rc.png',dpi=75,bbox_inches='tight')\n",
    "plt.show()\n"
   ]
  },
  {
   "cell_type": "markdown",
   "metadata": {},
   "source": [
    "## Displacement Gradients"
   ]
  },
  {
   "cell_type": "markdown",
   "metadata": {},
   "source": [
    "### Interpolate Displacements\n",
    "#### cubic grid"
   ]
  },
  {
   "cell_type": "code",
   "execution_count": 91,
   "metadata": {},
   "outputs": [],
   "source": [
    "#--- mean dist between atoms \n",
    "natoms = len( atoms0.x ) \n",
    "CellVectorOrtho, VectorNorm = lp.GetOrthogonalBasis( box0.CellVector )\n",
    "volume = np.linalg.det( CellVectorOrtho )\n",
    "dmean = ( volume / natoms ) ** (1.0/3.0) \n",
    "\n",
    "#--- grid tiling mapped box with original size\n",
    "#--- values are interpolated onto this grid\n",
    "(xlin, ylin, zlin), (xv, yv, zv) = lp.GetCubicGrid( box0.CellOrigin, \n",
    "                                                 box0.CellVector, \n",
    "                                                 dmean,\n",
    "                                                 margin = 0.0 * dmean )\n",
    "xi = np.array(list(zip(xv.flatten(), yv.flatten(), zv.flatten())))\n"
   ]
  },
  {
   "cell_type": "markdown",
   "metadata": {},
   "source": [
    "#### center box + margin"
   ]
  },
  {
   "cell_type": "code",
   "execution_count": 92,
   "metadata": {},
   "outputs": [],
   "source": [
    "#--- get a chunk of the full copy\n",
    "cptmp = lp.Copy(atoms0, box0) #--- important: must be reference frame!!\n",
    "indices = cptmp.isInsideExpanded( np.c_[xatoms0.xm,xatoms0.ym,xatoms0.zm], \n",
    "                                  epsilon = 0.2, mode = 'isotropic' )\n",
    "\n",
    "points = np.c_[uatoms.xm,uatoms.ym,uatoms.zm][indices] #--- unstructured points\n",
    "values = np.c_[uatoms.dx,uatoms.dy,uatoms.dz][indices] #--- corresponding values\n",
    "\n",
    "grid_z = scp_int.griddata(points, values, xi, method='linear')\n",
    "assert not np.any(np.isnan(grid_z.flatten())), 'increase ev!'\n",
    "\n",
    "#--- make an object\n",
    "uintrp = lp.Atoms(**pd.DataFrame(np.c_[xi,grid_z],columns=['x','y','z','dx','dy','dz']).to_dict(orient='list'))\n",
    "\n"
   ]
  },
  {
   "cell_type": "markdown",
   "metadata": {},
   "source": [
    "#### Print"
   ]
  },
  {
   "cell_type": "code",
   "execution_count": 289,
   "metadata": {},
   "outputs": [],
   "source": [
    "file_name = 'uintrp.xyz'\n",
    "try:\n",
    "    os.system('rm %s'%file_name)\n",
    "except:\n",
    "    pass\n",
    "\n",
    "#for itime in df_intrp:\n",
    "PrintOvito( pd.DataFrame( uintrp.__dict__ ), \n",
    "                open( file_name,'a'), \n",
    "                footer = 'ITIME=%s'%itime,\n",
    "                attr_list=['x','y','z','dx','dy','dz'] )\n"
   ]
  },
  {
   "cell_type": "markdown",
   "metadata": {},
   "source": [
    "### Strain tensor"
   ]
  },
  {
   "cell_type": "code",
   "execution_count": 93,
   "metadata": {},
   "outputs": [],
   "source": [
    "csn = lp.ComputeStrn( uintrp, box0 )\n",
    "csn.Reshape( xlin, ylin, zlin )\n",
    "csn.Gradient()\n",
    "csn.SetStrn('exy')\n",
    "Exy = csn.Get(attrs = ['x','y','z','exy'])\n"
   ]
  },
  {
   "cell_type": "markdown",
   "metadata": {},
   "source": [
    "#### imshow"
   ]
  },
  {
   "cell_type": "code",
   "execution_count": 96,
   "metadata": {
    "scrolled": true
   },
   "outputs": [
    {
     "data": {
      "image/png": "[encoded data removed]",
      "text/plain": [
       "<Figure size 432x288 with 2 Axes>"
      ]
     },
     "metadata": {
      "needs_background": "light"
     },
     "output_type": "display_data"
    }
   ],
   "source": [
    "def FilterMatrix( CellVector, CellOrigin,\n",
    "                  xlin, ylin, zlin,\n",
    "                  xv, yv, zv ,\n",
    "                   value\n",
    "                ):\n",
    "    #--- xlims of the original box\n",
    "    CellVectorOrtho, VectorNorm = lp.GetOrthogonalBasis( CellVector )\n",
    "    margin = 0.0    \n",
    "    (xlo,xhi)=( CellOrigin[0] - margin, CellOrigin[0] + VectorNorm[ 0 ] + margin)\n",
    "    (ylo,yhi)=( CellOrigin[1] - margin, CellOrigin[1] + VectorNorm[ 1 ] + margin)\n",
    "    (zlo,zhi)=(CellOrigin[2] - margin, CellOrigin[2] + VectorNorm[ 2 ] + margin )\n",
    "\n",
    "    #--- grid dimension tiling the original box\n",
    "    indices = np.all([xlin>=xlo, xlin<xhi],axis=0)\n",
    "    nx = xlin[indices].shape[0]\n",
    "    indices = np.all([ylin>=ylo, ylin<yhi],axis=0)\n",
    "    ny = ylin[indices].shape[0]\n",
    "    indices = np.all([zlin>=zlo, zlin<zhi],axis=0)\n",
    "    nz = zlin[indices].shape[0]\n",
    "\n",
    "    #--- filter matrices\n",
    "    indices = np.all([xv>=xlo,xv<xhi, yv>=ylo,yv<yhi, zv>=zlo,zv<zhi ],axis=0)\n",
    "    vf_flatten = value[indices] #--- filter extended grid\n",
    "    assert vf_flatten.shape[0] == nx*ny*nz, '%s != %s'%(vf_flatten.shape[0], nx*ny*nz)\n",
    "    vf = vf_flatten.reshape((ny,nx,nz))\n",
    "    return vf\n",
    "\n",
    "\n",
    "\n",
    "\n",
    "#itime = np.max(dfD2min_intrp.keys())\n",
    "#--- reshape value\n",
    "nx,ny,nz = len(xlin), len(ylin),len(zlin) \n",
    "value = np.c_[Exy.exy].reshape(((ny,nx,nz)))\n",
    "#value = np.c_[dfD2min_intrp[itime]['d2min']].reshape(((ny,nx,nz)))\n",
    "\n",
    "# lx=xlin[-1]-xlin[0]\n",
    "# ly=ylin[-1]-ylin[0]\n",
    "# #value = np.sin(2*pi*np.c_[(df_intrp[itime]['x']-xlin[0])]/lx)\n",
    "# value = np.c_[df_intrp[itime]['ux']]\n",
    "# value = value.reshape(((ny,nx,nz)))\n",
    "#print value.shape\n",
    "\n",
    "#--- filter value\n",
    "# value = FilterMatrix( box0.CellVector, box0.CellOrigin,\n",
    "#                   (xlin, ylin, zlin),\n",
    "#                   (xv, yv, zv ),\n",
    "#                    value )\n",
    "#print value.shape\n",
    "#print vf.shape\n",
    "\n",
    "CellVectorOrtho, VectorNorm = lp.GetOrthogonalBasis( box.CellVector ) #--- box length\n",
    "#--- xy plane\n",
    "val = value[:,:,-1].copy()\n",
    "#val = value[:,:,nz/2].copy()\n",
    "#print val.shape\n",
    "\n",
    "PltBitmap(val, \n",
    "          xlabel = 'x', ylabel = 'y',\n",
    "          xlim=VectorNorm[0]*np.array([0.0,1.0]),ylim=VectorNorm[1]*np.array([0.0,1.0]),\n",
    "          zscore = True,\n",
    "          frac = 1.0, #--- plot a patch\n",
    "           title = 'strain.png',\n",
    "       )"
   ]
  },
  {
   "cell_type": "code",
   "execution_count": 89,
   "metadata": {
    "scrolled": false
   },
   "outputs": [],
   "source": [
    "# fig=plt.figure(figsize=(4,4))\n",
    "# ax=fig.add_subplot(111)\n",
    "# ax2=ax.twinx()\n",
    "\n",
    "# # ax.set_xlim(min(xlin),max(xlin))\n",
    "# # ax2.set_xlim(min(xlin),max(xlin))\n",
    "# # ax.set_ylim(-1,1)\n",
    "# # ax2.set_ylim(-1,1)\n",
    "\n",
    "# f = val[:,0]\n",
    "# df=val0[:,0]\n",
    "\n",
    "# dx=xlin[1]-xlin[0]\n",
    "# ax.plot(ylin, f,'-o',label='uy')\n",
    "# #ax2.plot(ylin, np.gradient(f,xlin,edge_order=2)/(2*pi/lx),'-s',color='red',label='duydx')\n",
    "# ax2.plot(ylin, np.gradient(f,ylin,edge_order=2),'-s',color='red',label='duydx')\n",
    "# #ax2.plot(xlin[:-1], np.diff(f)/dx/(2*pi/lx),'-s',color='red',label='duydx')\n",
    "# #ax2.plot(ylin,df/(2*pi/lx),'-x',color='black',label='duydxFFT')\n",
    "# ax2.plot(ylin,df,'-x',color='black',label='duydxFFT')\n",
    "\n",
    "\n",
    "# ax2.legend()\n",
    "# plt.show()"
   ]
  },
  {
   "cell_type": "code",
   "execution_count": 90,
   "metadata": {
    "scrolled": true
   },
   "outputs": [],
   "source": [
    "# itime = np.max(Strain.keys())\n",
    "# nx,ny,nz = len(xlin), len(ylin),len(zlin) \n",
    "\n",
    "# # value = np.sin(2*pi*np.c_[df_intrp[itime]['x']]/nx)\n",
    "# # value = value.reshape(((ny,nx,nz)))\n",
    "# #dvalux = GetDerivX( value,lx )\n",
    "\n",
    "# #value = np.c_[df_intrp[itime]['ux']].reshape(((ny,nx,nz)))\n",
    "# dvaluy = GetDerivY( value,ly )\n",
    "\n",
    "# exy=dvaluy\n",
    "# #--- xy plane\n",
    "# value0 = exy[:,:,-1].copy()\n",
    "\n",
    "# PltBitmap(value0, \n",
    "#           xlabel = 'x', ylabel = 'y',\n",
    "#           xlim=VectorNorm[0]*np.array([0.0,1.0]),ylim=VectorNorm[1]*np.array([0.0,1.0]),\n",
    "#           zscore = None,\n",
    "#           frac = 1.0, #--- plot a patch\n",
    "#         )"
   ]
  },
  {
   "cell_type": "markdown",
   "metadata": {},
   "source": [
    "#### Print"
   ]
  },
  {
   "cell_type": "code",
   "execution_count": 30,
   "metadata": {},
   "outputs": [],
   "source": [
    "file_name = 'strain.xyz'\n",
    "try:\n",
    "    os.system('rm %s'%file_name)\n",
    "except:\n",
    "    pass\n",
    "    \n",
    "# times = Strain.keys()\n",
    "# times.sort()\n",
    "#--- bulk strain\n",
    "dx=box.CellVector[0,1]-box.CellVector[0,1]\n",
    "l1=box.CellVector[1,1]\n",
    "ebulk = 0.5*dx/l1\n",
    "\n",
    "\n",
    "PrintOvito( pd.DataFrame(Exy.__dict__), \n",
    "                open( file_name,'a'), \n",
    "                footer = 'epsilon=%2.1e'%(2*ebulk),\n",
    "                attr_list=['x','y','z','exy'] )\n",
    "    "
   ]
  },
  {
   "cell_type": "markdown",
   "metadata": {},
   "source": [
    "#### Auto-Correlations"
   ]
  },
  {
   "cell_type": "code",
   "execution_count": 97,
   "metadata": {},
   "outputs": [],
   "source": [
    "def GetAutoCorrelation( val ):\n",
    "    value  = val.copy()\n",
    "    value -= np.mean( value )\n",
    "    value /= np.std( value )\n",
    "\n",
    "    ( nx, ny, nz ) =  value.shape\n",
    "    n = nx * ny * nz\n",
    "    vq = np.fft.fftn(value) #, axes=(0,1,2))\n",
    "    vq_sq = np.abs(vq)**2\n",
    "\n",
    "    v_real = np.fft.ifftn( vq_sq) / n #,  axes=(0,1,2) )\n",
    "    return v_real\n",
    "\n",
    "\n",
    "#Crltn = {}\n",
    "(nx,ny,nz) = len(xlin), len(ylin),len(zlin) \n",
    "#\n",
    "value = np.c_[Exy.exy].reshape((ny,nx,nz))\n",
    "#    value = np.c_[dfD2min_intrp[itime]['d2min']].reshape(((ny,nx,nz)))\n",
    "#    value = np.c_[df_intrp[itime]['ux']].reshape(((ny,nx,nz)))\n",
    "        \n",
    "#--- shuffle\n",
    "#     ( nx, ny, nz ) =  value.shape\n",
    "#     slist = value.flatten()\n",
    "#     np.random.shuffle(slist)\n",
    "#     value=slist.reshape((nx, ny, nz))    \n",
    "    #\n",
    "#--- filter value\n",
    "#     value = FilterMatrix( CellVector[0], CellOrigin[0],\n",
    "#                   (xlin, ylin, zlin),\n",
    "#                   (xv, yv, zv ),\n",
    "#                    value )\n",
    "\n",
    "Crltn = GetAutoCorrelation( value )\n"
   ]
  },
  {
   "cell_type": "markdown",
   "metadata": {},
   "source": [
    "#### Print"
   ]
  },
  {
   "cell_type": "code",
   "execution_count": 99,
   "metadata": {},
   "outputs": [
    {
     "data": {
      "image/png": "[encoded data removed]",
      "text/plain": [
       "<Figure size 432x288 with 2 Axes>"
      ]
     },
     "metadata": {
      "needs_background": "light"
     },
     "output_type": "display_data"
    }
   ],
   "source": [
    "# for itime in Crltn:\n",
    "#     print 'itime=',itime\n",
    "CellVectorOrtho, VectorNorm = lp.GetOrthogonalBasis( box.CellVector ) #--- box length\n",
    "    #    \n",
    "crltn = Crltn #[ itime ]\n",
    "#--- xy plane\n",
    "val = crltn[:,:,0].copy()\n",
    "PltCrltn( val, \n",
    "          xlabel = 'x', ylabel = 'y',\n",
    "          xlim=VectorNorm[0]*np.array([-0.5,0.5]),ylim=VectorNorm[1]*np.array([-0.5,0.5]),\n",
    "          frac = 1, #--- plot a patch\n",
    "          zscore = False,\n",
    "          fileName = 'cxy_strain.%s.png'%itime,\n",
    "          dpi = 60\n",
    "        )\n",
    "    # #--- zx plane\n",
    "    # val = crltn[0,:,:].copy()\n",
    "    # PltCrltn( val, \n",
    "    #           xlabel = 'z', ylabel = 'x',\n",
    "    #           xlim=VectorNorm[2]*np.array([-0.5,0.5]),ylim=VectorNorm[0]*np.array([-0.5,0.5]),\n",
    "    #           frac = 1.0, #--- plot a patch\n",
    "    #           zscore = False,\n",
    "    #         )\n",
    "    # #--- zy plane\n",
    "    # val = crltn[:,0,:].copy()\n",
    "    # PltCrltn( val, \n",
    "    #           xlabel = 'z', ylabel = 'y',\n",
    "    #           xlim=VectorNorm[2]*np.array([-0.5,0.5]),ylim=VectorNorm[1]*np.array([-0.5,0.5]),\n",
    "    #           frac = 1.0, #--- plot a patch\n",
    "    #           zscore = False,\n",
    "    #         )\n",
    "\n"
   ]
  },
  {
   "cell_type": "markdown",
   "metadata": {},
   "source": [
    "#### Crltn Length"
   ]
  },
  {
   "cell_type": "code",
   "execution_count": 107,
   "metadata": {},
   "outputs": [
    {
     "data": {
      "image/png": "[encoded data removed]",
      "text/plain": [
       "<Figure size 288x288 with 1 Axes>"
      ]
     },
     "metadata": {
      "needs_background": "light"
     },
     "output_type": "display_data"
    },
    {
     "data": {
      "text/plain": [
       "(14.108201970564707, nan)"
      ]
     },
     "execution_count": 107,
     "metadata": {},
     "output_type": "execute_result"
    }
   ],
   "source": [
    "# for itime in Crltn:\n",
    "#     print 'itime=',itime\n",
    "#--- bulk strain\n",
    "dx=box.CellVector[0,1]-box0.CellVector[0,1]\n",
    "l1=box.CellVector[1,1]\n",
    "ebulk = 0.5*dx/l1\n",
    "#---\n",
    "PltCrltnFunc( Crltn, \n",
    "             xv,yv,\n",
    "             fileName = 'cr_strain.%s.png'%itime,\n",
    "             title = r'$\\epsilon=%3.2f$'%(2*ebulk),\n",
    "             cTOL = 8.0e-2,\n",
    "             dpi = 60,\n",
    "            )"
   ]
  },
  {
   "cell_type": "code",
   "execution_count": 109,
   "metadata": {},
   "outputs": [],
   "source": [
    "# #--- extract length\n",
    "# ebulk = []\n",
    "# Xc = []\n",
    "# Yc = []\n",
    "# keys = Crltn.keys()\n",
    "# keys.sort()\n",
    "# for itime in keys:\n",
    "#     #--- bulk strain\n",
    "#     dx=CellVector[ itime ][0,1]-CellVector[ 0 ][0,1]\n",
    "#     l1=CellVector[ itime ][1,1]\n",
    "#     ebulk += [0.5*dx/l1]\n",
    "    \n",
    "#     xc, yc = PltCrltnFunc( Crltn[ itime ], \n",
    "#                           (xv,yv),\n",
    "#                           cTOL = 4e-2,\n",
    "#                           PLOT = None,\n",
    "#                          )\n",
    "#     Xc += [xc]\n",
    "#     Yc += [yc]\n",
    "\n",
    "# #--- plot\n",
    "# fig = plt.figure( figsize = (4,4))\n",
    "# ax = fig.add_subplot(111)\n",
    "# xstr = r'$\\epsilon$'\n",
    "# ystr = r'$r_c$'\n",
    "# ax.set_xlabel(xstr,fontsize=16)\n",
    "# #ax.set_ylabel(ystr,fontsize=16)\n",
    "# ax.tick_params(labelsize=16)\n",
    "# #\n",
    "# ax.plot( 2*np.array(ebulk), Xc,'-o', color='C0', label = r'$x_c$')\n",
    "# ax.plot( 2*np.array(ebulk), Yc,'-s', color='red', label = r'$y_c$')\n",
    "# ax.legend(frameon=False)\n",
    "# plt.savefig('rc.png',dpi=75,bbox_inches='tight')\n",
    "# plt.show()\n"
   ]
  }
 ],
 "metadata": {
  "kernelspec": {
   "display_name": "Python 3",
   "language": "python",
   "name": "python3"
  }
 },
 "nbformat": 4,
 "nbformat_minor": 4
}
