{
 "cells": [
  {
   "cell_type": "markdown",
   "metadata": {},
   "source": [
    "# import libraries"
   ]
  },
  {
   "cell_type": "code",
<<<<<<< HEAD
   "execution_count": 275,
   "metadata": {},
   "outputs": [],
   "source": [
    "import pandas as pd\n",
    "import numpy as np\n",
    "import matplotlib.pylab as plt\n",
=======
   "execution_count": 1,
   "metadata": {},
   "outputs": [
    {
     "data": {
      "text/plain": [
       "<module 'LammpsPostProcess' from '/Users/Home/Desktop/Tmp/txt/git/CrystalPlasticity/postprocess/LammpsPostProcess.py'>"
      ]
     },
     "execution_count": 1,
     "metadata": {},
     "output_type": "execute_result"
    }
   ],
   "source": [
    "#--- system libraries\n",
    "import pdb\n",
    "import pandas as pd\n",
    "import numpy as np\n",
    "import matplotlib.pylab as plt\n",
    "import matplotlib as mpl\n",
>>>>>>> 4c2950427a7f59a7bf5ba5ca184c3d2096def48f
    "import traceback\n",
    "import os\n",
    "import scipy.interpolate as scp_int\n",
    "import warnings\n",
    "import matplotlib\n",
<<<<<<< HEAD
    "#\n",
    "matplotlib.rcParams['text.usetex'] = True\n",
    "warnings.filterwarnings('ignore')"
=======
    "from matplotlib.ticker import (MultipleLocator, AutoMinorLocator)\n",
    "from matplotlib import patches\n",
    "import sys\n",
    "import sklearn\n",
    "from sklearn.preprocessing import PolynomialFeatures\n",
    "from sklearn.linear_model import LinearRegression\n",
    "from sklearn.model_selection import cross_validate\n",
    "import patsy\n",
    "#\n",
    "warnings.filterwarnings('ignore')\n",
    "\n",
    "#--- user modules\n",
    "import LammpsPostProcess as lp\n",
    "import imp\n",
    "imp.reload(lp)"
   ]
  },
  {
   "cell_type": "code",
   "execution_count": 2,
   "metadata": {},
   "outputs": [],
   "source": [
    "#matplotlib.rcParams['text.usetex'] = True #--- comment tex stuff!"
>>>>>>> 4c2950427a7f59a7bf5ba5ca184c3d2096def48f
   ]
  },
  {
   "cell_type": "markdown",
   "metadata": {},
   "source": [
<<<<<<< HEAD
    "# input stress file"
=======
    "# utility functions"
>>>>>>> 4c2950427a7f59a7bf5ba5ca184c3d2096def48f
   ]
  },
  {
   "cell_type": "code",
<<<<<<< HEAD
   "execution_count": 276,
   "metadata": {},
   "outputs": [],
   "source": [
    "path = './BmgData'\n",
    "fileNamee = ('FeNi.txt', \n",
    "             'CoNiCr.txt', \n",
    "             'CoNiCrFe.txt',\n",
    "             'CoCrFeMn.txt',\n",
    "             'Co5Cr2Fe40Mn27Ni26.txt')[1]\n",
    "\n",
    "stress = np.loadtxt('%s/%s'%(path,fileNamee) )"
=======
   "execution_count": 3,
   "metadata": {},
   "outputs": [],
   "source": [
    "def to_dict( df ):\n",
    "    sdict = {}\n",
    "    skeys = df.keys().to_list()\n",
    "    for ikey in skeys:\n",
    "        sdict[ikey] = df[ikey].to_list()\n",
    "\n",
    "    return sdict\n",
    "\n",
    "def isSane( AddColumns, columnList ):\n",
    "    #--- avoid duplicates\n",
    "    assert len( set( AddColumns ) ) == len( AddColumns ), 'duplicates in the list!'\n",
    "    #--- assert column list is not already included\n",
    "    n = len( AddColumns )\n",
    "    AddColumns = list( set(AddColumns) - set( columnList ) )\n",
    "    if len(AddColumns) != n:\n",
    "        print('column already included!')\n",
    "        return False\n",
    "    return True\n",
    "\n",
    "        \n",
    "def PrintOvito( cordc, sfile, footer, attr_list=['x','y','z'] ):\n",
    "    smat = cordc[attr_list]\n",
    "    np.savetxt(sfile,[len(smat)],fmt='%s', footer='%s, %s'%(footer,str(attr_list)))\n",
    "    np.savetxt(sfile,smat,fmt='%s')\n",
    "    sfile.close()\n",
    "    \n",
    "def PltBitmap( value,\n",
    "              xlabel = 'x', ylabel = 'y',\n",
    "              xlim = (-0.5,0.5), ylim = (-0.5,0.5),\n",
    "              frac = 1.0, #--- plot a patch\n",
    "              zscore = True,\n",
    "              title = 'cxy.png',\n",
    "              colorbar=False,\n",
    "              **kwargs\n",
    "             ):\n",
    "        \n",
    "    val = value.copy()\n",
    "    #--- z-score\n",
    "    if zscore:\n",
    "        val -= np.mean(val)\n",
    "        val /= np.std(val)\n",
    "        val[val>2.0]=1.0\n",
    "        val[val<-2.0]=-1.0\n",
    "    #--- plot\n",
    "    (mgrid,ngrid) = val.shape\n",
    "    center = (ngrid/2,mgrid/2)\n",
    "    #\n",
    "    fig = plt.figure(figsize=(4,4))\n",
    "    ax = fig.add_subplot(111)\n",
    "    ax.set_xlabel(xlabel)\n",
    "    ax.set_ylabel(ylabel)\n",
    "    ax.tick_params(labelsize=20,which='both',axis='both', top=True, right=True)\n",
    "    ax.axes.xaxis.set_visible(False)\n",
    "    ax.axes.yaxis.set_visible(False)\n",
    "    #\n",
    "    pos = ax.imshow(val.real,cmap='bwr',\n",
    "                     extent=(xlim[0],xlim[1],ylim[0],ylim[1]),origin='lower')# ,vmin=-.6, vmax=.6)\n",
    "    if colorbar:\n",
    "        ax.colorbar( pos, fraction = 0.04)\n",
    "    if 'DrawFrame' in kwargs: \n",
    "        DrawFrame(ax, *kwargs['DrawFrame'])\n",
    "    plt.savefig(title,dpi=2*75,bbox_inches='tight',pad_inches=0.0)\n",
    "    plt.show()\n",
    "    \n",
    "def PltCrltn( value,\n",
    "              xlabel = 'x', ylabel = 'y',\n",
    "              xlim = (-0.5,0.5), ylim = (-0.5,0.5),\n",
    "              frac = 1.0, #--- plot a patch\n",
    "              zscore = True,\n",
    "              fileName = 'cxy.png',\n",
    "              dpi=75,\n",
    "            ):\n",
    "        \n",
    "    val = value.copy()\n",
    "    #--- zscore\n",
    "    if zscore:\n",
    "        val -= np.mean(val)\n",
    "        val /= np.std(val)\n",
    "        val[val>2.0]=1.0\n",
    "        val[val<-2.0]=-1.0\n",
    "    #\n",
    "    (mgrid,ngrid) = val.shape\n",
    "    center = (ngrid/2,mgrid/2)\n",
    "    plt.xlabel(xlabel)\n",
    "    plt.ylabel(ylabel)\n",
    "    pos = plt.imshow((CenterMatrix( val ).real),cmap='bwr',\n",
    "                     extent=(xlim[0],xlim[1],ylim[0],ylim[1])) #,vmin=-.01, vmax=.01)\n",
    "    plt.xlim(xlim[0]*frac,xlim[1]*frac)\n",
    "    plt.ylim(ylim[0]*frac,ylim[1]*frac)\n",
    "\n",
    "    plt.colorbar( pos, fraction = 0.04)\n",
    "    plt.savefig(fileName,dpi=dpi,bbox_inches='tight')\n",
    "    plt.show()\n",
    "    \n",
    "def GetAutoCorrelation( val ):\n",
    "    value  = val.copy()\n",
    "    value -= np.mean( value )\n",
    "    value /= np.std( value )\n",
    "\n",
    "    ( nx, ny, nz ) =  value.shape\n",
    "    n = nx * ny * nz\n",
    "    vq = np.fft.fftn(value) #, axes=(0,1,2))\n",
    "    vq_sq = np.abs(vq)**2\n",
    "\n",
    "    v_real = np.fft.ifftn( vq_sq) / n #,  axes=(0,1,2) )\n",
    "    return v_real\n",
    "\n",
    "def CenterMatrix(a):\n",
    "    ( mgrid, ngrid ) = a.shape\n",
    "    return np.array([[a[i,j] for j in range(-int(ngrid/2),int(ngrid/2)+ngrid%2)] \n",
    "                              for i in range(-int(mgrid/2),int(mgrid/2)+mgrid%2)])\n",
    "\n",
    "def Get_rc( xdata, ydata, cTOL ):\n",
    "    try:\n",
    "#        xc1 = xdata[np.abs(ydata)<cTOL][0] \n",
    "        xc1 = xdata[ydata<cTOL][0] \n",
    "    except:\n",
    "        xc1 = np.nan\n",
    "    try:    \n",
    "        xc2 = xdata[ydata<0.0][0] #--- correlation length\n",
    "    except:\n",
    "        xc2 = np.nan\n",
    "    try:\n",
    "        xc = np.array([xc1,xc2])\n",
    "        xc = xc[~np.isnan(xc)].min()\n",
    "    except:\n",
    "        xc = np.nan\n",
    "    return xc\n",
    "\n",
    "def PltCrltnFunc( crltn, \n",
    "                 xv,yv,\n",
    "                 cTOL = 1.0e-2,\n",
    "                 PLOT = True,\n",
    "                 fileName='cxy.png',\n",
    "                 title = '',\n",
    "                 dpi = 60,\n",
    "                ):\n",
    "    (ny,nx,nz) = crltn.shape\n",
    "    if PLOT:\n",
    "        fig = plt.figure( figsize = (4,4))\n",
    "        ax = fig.add_subplot(111)\n",
    "        xstr = r'$r$'\n",
    "        ystr = r'$c(r)$'\n",
    "        ax.set_xlabel(xstr,fontsize=16)\n",
    "        ax.set_ylabel(ystr,fontsize=16)\n",
    "        ax.tick_params(labelsize=16)\n",
    "    #\n",
    "    val = crltn[:,:,0].copy() #--- only xy plane\n",
    "    (m,n)=val.shape\n",
    "    #--- along x \n",
    "    xv2 = xv[:,:,0].copy()\n",
    "    dx = xv2[0,1] - xv2[0,0]\n",
    "    #\n",
    "    xdata = np.arange(0,(int(n/2)+n%2)) * dx\n",
    "    ydata = val[0,0:(int(n/2)+n%2)]\n",
    "    #\n",
    "    xc = Get_rc( xdata, ydata, cTOL )\n",
    "    #\n",
    "    if PLOT:\n",
    "        ax.plot( xdata, ydata,'-o',label=r'$x$')       \n",
    "    #--- along y \n",
    "    yv2 = yv[:,:,0].copy()\n",
    "    dy = yv2[1,0] - yv2[0,0]\n",
    "    #\n",
    "    xdata = np.arange(0,(int(m/2)+m%2)) * dy\n",
    "    ydata = val[0:(int(m/2)+m%2),0]\n",
    "    #\n",
    "    yc = Get_rc( xdata, ydata, cTOL )\n",
    "    #\n",
    "    if PLOT:\n",
    "        ax.plot( xdata, ydata,'-s', color = 'red',label=r'$y$')\n",
    "    #--- plot\n",
    "    if PLOT:\n",
    "        ax.legend(frameon=False)\n",
    "        ax.set_title( title )\n",
    "        #ax.set_yscale('log')\n",
    "        #\n",
    "        ax.plot(ax.axis()[:2],[0.0,0.0],'-.',color='black')\n",
    "#        ax.plot([dx,dx],ax.axis()[2:],'-.',color='black')\n",
    "        ax.plot((xc,xc),ax.axis()[2:],'-.r')\n",
    "        #\n",
    "        #\n",
    "        plt.savefig(fileName,dpi=dpi,bbox_inches='tight')\n",
    "        plt.show()\n",
    "    #\n",
    "    return (xc, yc)\n",
    "\n",
    "\n",
    "def GetSlice2d( hist, err,\n",
    "         xv, yv, zv,\n",
    "         xtol = 2.5,\n",
    "         z = 0.0):\n",
    "############################################################\n",
    "####### Get a 2D slice out off a 3D matrix\n",
    "############################################################    \n",
    "    dx=xtol #--- discretization length\n",
    "    (ny,nx,nz) = hist.shape\n",
    "    indices = np.all([np.abs(zv-z)>0.0,np.abs(zv-z)<dx],axis=0) #--- filtering based on the given range\n",
    "    #--- binning in xy\n",
    "    flist = hist[indices]\n",
    "    rvect = np.c_[yv[indices],xv[indices]]\n",
    "    rx,    bin_edges = np.histogramdd( rvect, bins = (ny, nx), weights = xv[indices] ) #--- \\sum r_i\n",
    "    ry,    bin_edges = np.histogramdd( rvect, bins = (ny, nx), weights = yv[indices]) #--- \\sum r_i\n",
    "    error,    bin_edges = np.histogramdd( rvect, bins = (ny, nx), weights = err[indices] ) #--- \\sum r_i\n",
    "    fmean, bin_edges = np.histogramdd( rvect, bins = (ny, nx), weights = flist ) #--- 3d histogram\n",
    "    count, bin_edges = np.histogramdd( rvect, bins = (ny, nx) ) #--- n_i\n",
    "\n",
    "    count[count==0] = 1\n",
    "    rx /= count \n",
    "    ry /= count \n",
    "    fmean /= count\n",
    "    error /= count\n",
    "    return rx, ry, fmean, error\n",
    "\n",
    "def GetSlice1d( hist, err,\n",
    "         xv, yv,\n",
    "         xtol = 2.5,\n",
    "         **kwargs):\n",
    "############################################################\n",
    "####### Get a 1D slice out off a 2D matrix\n",
    "############################################################    \n",
    "    dx=xtol #--- discretization length\n",
    "    (ny,nx) = hist.shape\n",
    "    if 'y' in kwargs:\n",
    "        y = kwargs['y']\n",
    "        indices = np.all([np.abs(yv-y)>0.0,np.abs(yv-y)<dx],axis=0) #--- filtering based on the given range\n",
    "        flist = hist[indices]\n",
    "        rvect = xv[indices]\n",
    "        rdist,    bin_edges = np.histogram( rvect, bins = nx, weights = xv[indices] ) #--- \\sum r_i\n",
    "        error,    bin_edges = np.histogram( rvect, bins = nx, weights = err[indices] ) #--- \\sum r_i\n",
    "        count, bin_edges = np.histogram( rvect, bins = nx ) #--- n_i\n",
    "        fmean, bin_edges = np.histogram( rvect, bins = nx, weights = flist ) #--- 3d histogram\n",
    "    elif 'x' in kwargs:\n",
    "        x = kwargs['x']\n",
    "        indices = np.all([np.abs(xv-x)>0.0,np.abs(xv-x)<dx],axis=0) #--- filtering based on the given range\n",
    "        flist = hist[indices]\n",
    "        rvect = yv[indices]\n",
    "        rdist,    bin_edges = np.histogram( rvect, bins = ny, weights = yv[indices] ) #--- \\sum r_i\n",
    "        error,    bin_edges = np.histogram( rvect, bins = ny, weights = err[indices] ) #--- \\sum r_i\n",
    "        count, bin_edges = np.histogram( rvect, bins = ny ) #--- n_i\n",
    "        fmean, bin_edges = np.histogram( rvect, bins = ny, weights = flist ) #--- 3d histogram\n",
    "        \n",
    "    #--- binning in xy\n",
    "\n",
    "    count[count==0] = 1\n",
    "    rdist /= count \n",
    "    fmean /= count\n",
    "    error /= count\n",
    "    return rdist, fmean, error\n",
    "\n",
    "\n",
    "def PltCrltnFunc1d( crltn, err,\n",
    "                 xv,\n",
    "                 cTOL = 1.0e-2,\n",
    "                 PLOT = True,\n",
    "                 fileName='cxy.png',\n",
    "                 title = '',\n",
    "                 dpi = 60,\n",
    "                 ylim=(-1.0,+1.0),\n",
    "                ):\n",
    "    if PLOT:\n",
    "        fig = plt.figure( figsize = (4,4))\n",
    "        ax = fig.add_subplot(111)\n",
    "        xstr = r'$r$'\n",
    "        ystr = r'$c(r)$'\n",
    "        ax.set_xlabel(xstr,fontsize=16)\n",
    "        ax.set_ylabel(ystr,fontsize=16)\n",
    "        ax.tick_params(labelsize=16)\n",
    "    #\n",
    "    val = crltn.copy() #--- only xy plane\n",
    "#    (m,n)=val.shape\n",
    "    #--- along x \n",
    "    xv2 = xv.copy()\n",
    "    dx = xv2[1] - xv2[0]\n",
    "    #\n",
    "    xdata = xv2 #np.arange(0,(n/2+n%2)) * dx\n",
    "    ydata = val #[0,0:(n/2+n%2)]\n",
    "    #\n",
    "    xc = Get_rc( xdata, ydata, cTOL )\n",
    "    #\n",
    "    if PLOT:\n",
    "        ax.errorbar( xdata, ydata,yerr = err, fmt='-o',label=r'$x$')       \n",
    "    #--- plot\n",
    "    if PLOT:\n",
    "        ax.legend(frameon=False)\n",
    "        ax.set_title( title )\n",
    "        #ax.set_yscale('log')\n",
    "        #\n",
    "        ax.plot(ax.axis()[:2],[0.0,0.0],'-.',color='black')\n",
    "#        ax.plot([dx,dx],ax.axis()[2:],'-.',color='black')\n",
    "        ax.plot([xc,xc],ax.axis()[2:],'-.',color='black')\n",
    "        #\n",
    "#        ax.set_xlim(xlim)\n",
    "        ax.set_ylim(ylim)\n",
    "        #\n",
    "        plt.savefig(fileName,dpi=dpi,bbox_inches='tight')\n",
    "        plt.show()\n",
    "    #\n",
    "    return xc\n",
    "\n",
    "\n",
    "def DrawFrame(ax, alpha_xl,alpha_xr,alpha_yb,alpha_yt,linewidth,LOG_X=None,LOG_Y=None):\n",
    "    [xlo,xhi,ylo,yhi] = ax.axis()\n",
    "    if LOG_X:\n",
    "        [xlo,xhi,junk,junk] = np.log10(ax.axis())\n",
    "    if LOG_Y:\n",
    "        [junk,junk,ylo,yhi] = np.log10(ax.axis())\n",
    "    lx = xhi - xlo\n",
    "    ly = yhi - ylo\n",
    "    xy = [xlo - alpha_xl * lx, ylo - alpha_yb * ly]\n",
    "    height = ly*(1+alpha_yb+alpha_yt)\n",
    "    width = lx*(1+alpha_xl+alpha_xr)\n",
    "    xy_end=[xy[0]+width,xy[1]+height]\n",
    "    if LOG_X:\n",
    "        xy[0] = 10 ** xy[0]\n",
    "        xy_end[0] = 10 ** xy_end[0]\n",
    "    if LOG_Y:\n",
    "        xy[1] = 10 ** xy[1]\n",
    "        xy_end[1] = 10 ** xy_end[1]\n",
    "    ax.add_patch( patches.Rectangle(xy=xy, width=xy_end[0]-xy[0], \n",
    "                                    height=xy_end[1]-xy[1], linewidth=linewidth,\n",
    "                                    clip_on=False,facecolor=None,edgecolor='black',fill=None) ) \n",
    "    \n",
    "def MultipleFrames( path='', title='', irun = 0, nmax = 10000 ):\n",
    "    i=0\n",
    "    append = False\n",
    "    while i < nmax:\n",
    "        try:\n",
    "            sarr0 = np.c_[np.loadtxt('%s%i/Run%s/%s'%(path,i,irun,title))].T\n",
    "            #        print i,sarr0\n",
    "            if not append:\n",
    "                sarr = sarr0.copy()\n",
    "                append = True\n",
    "            else:\n",
    "                sarr = np.concatenate((sarr,sarr0),axis=0)\n",
    "        except:\n",
    "            i+=1\n",
    "    #        traceback.print_exc()\n",
    "            continue\n",
    "        i+=1\n",
    "    return sarr\n",
    "\n",
    "def MultipleFrames2nd( path='', title='', nrun = 0, ncols=3 ):\n",
    "    i=0\n",
    "    append = False\n",
    "#    pdb.set_trace()\n",
    "    while i < nrun:\n",
    "        sarr0 = (np.ones(ncols)*np.nan).reshape((1, ncols))\n",
    "#        print(sarr0.shape)\n",
    "        try:\n",
    "            sarr0 = np.c_[np.loadtxt('%s/Run%s/%s'%(path,i,title))].T\n",
    "#            print(sarr0.shape)\n",
    "        except:\n",
    "#            traceback.print_exc()\n",
    "            pass\n",
    "        if not append:\n",
    "            sarr = sarr0.copy()\n",
    "            append = True\n",
    "#            print(i,sarr0)\n",
    "        else:\n",
    "#            print(i,sarr0)\n",
    "            sarr = np.concatenate((sarr,sarr0),axis=0)\n",
    "        i+=1\n",
    "    return sarr\n",
    "\n",
    "def AvalancheSize(strain, Virial):\n",
    "    d={'t_end':[],'duration':[],'ds':[]}\n",
    "    kount = 0\n",
    "    duration = 0\n",
    "    ds = 0.0\n",
    "#    counter = 0\n",
    "    try:\n",
    "        dtt = strain[1]-strain[0] #TimeSeries[0]['Time'].iloc[1]-TimeSeries[0]['Time'].iloc[0]\n",
    "        for items,sbulk in list(zip(strain, Virial)): #TimeSeries[isamp].itertuples():\n",
    "#            sbulk = items[2]\n",
    "            t = items #items[1]\n",
    "            #--- ens. average\n",
    "            if kount == 0:\n",
    "                a = sbulk\n",
    "                ta = t\n",
    "            elif kount == 1:\n",
    "                b = sbulk\n",
    "                tb = t\n",
    "            else:\n",
    "                c = sbulk\n",
    "                tc = t\n",
    "            if kount < 2:\n",
    "                kount += 1\n",
    "                init0 = kount + 1\n",
    "                continue\n",
    "            sdr = 0.5 * ( c - a ); #--- derivative\n",
    "#                print(t, sdr)\n",
    "#            if sdr < 0.0 and counter == 0:\n",
    "#                continue\n",
    "            if sdr > 0.0: #--- elastic loading\n",
    "                init0 = kount + 1; #--- initialize init\n",
    "            else: #--- avalanche starts!\n",
    "#                    print(t, sdr)\n",
    "                ds += sdr #--- increment avalanche size by the stress derivative\n",
    "                duration += 1 #--- increment duration\n",
    "            if init0 - kount == 1 and duration != 0: #--- avalanche ends!\n",
    "                print(duration,ds) #tc-duration*(tb-ta),tc,duration\n",
    "    #\t\t\tax.plot([tc-duration*(tb-ta),tc], [0.0,0.0]\n",
    "    #                    ,'o')\n",
    "                d['t_end'].append(tc) \n",
    "                d['duration'].append(duration*dtt) \n",
    "                d['ds'].append(-ds)\n",
    "                ds = 0.0 #--- initialize \n",
    "                duration = 0\n",
    "#                counter+=1\n",
    "    #\t\tif counter == 1:\n",
    "    #\t\t\tbreak\n",
    "            a = b #--- new assignments\n",
    "            b = c;\n",
    "            ta = tb #--- new assignments\n",
    "            tb = tc;\n",
    "            kount += 1\n",
    "    except:\n",
    "#        traceback.print_exc()\n",
    "        pass\n",
    "    if duration != 0: #--- one single avalanche!\n",
    "        d['t_end'].append(tc) \n",
    "        d['duration'].append(duration*dtt) \n",
    "        d['ds'].append(-ds)\n",
    "#    print(duration,ds)\n",
    "#fig.show()\n",
    "    df=pd.DataFrame(d)\n",
    "    df=df[df['ds']!=0.0]\n",
    "    \n",
    "    return df"
   ]
  },
  {
   "cell_type": "markdown",
   "metadata": {},
   "source": [
    "# Parameters"
   ]
  },
  {
   "cell_type": "code",
   "execution_count": 4,
   "metadata": {},
   "outputs": [
    {
     "ename": "ValueError",
     "evalue": "not enough values to unpack (expected 2, got 1)",
     "output_type": "error",
     "traceback": [
      "\u001b[0;31m---------------------------------------------------------------------------\u001b[0m",
      "\u001b[0;31mValueError\u001b[0m                                Traceback (most recent call last)",
      "\u001b[0;32m<ipython-input-4-891ed151fb85>\u001b[0m in \u001b[0;36m<module>\u001b[0;34m\u001b[0m\n\u001b[1;32m      2\u001b[0m \u001b[0menv_vars\u001b[0m \u001b[0;34m=\u001b[0m \u001b[0mget_ipython\u001b[0m\u001b[0;34m(\u001b[0m\u001b[0;34m)\u001b[0m\u001b[0;34m.\u001b[0m\u001b[0mgetoutput\u001b[0m\u001b[0;34m(\u001b[0m\u001b[0;34m'cat .env'\u001b[0m\u001b[0;34m)\u001b[0m\u001b[0;34m\u001b[0m\u001b[0;34m\u001b[0m\u001b[0m\n\u001b[1;32m      3\u001b[0m \u001b[0;32mfor\u001b[0m \u001b[0mvar\u001b[0m \u001b[0;32min\u001b[0m \u001b[0menv_vars\u001b[0m\u001b[0;34m:\u001b[0m\u001b[0;34m\u001b[0m\u001b[0;34m\u001b[0m\u001b[0m\n\u001b[0;32m----> 4\u001b[0;31m     \u001b[0mkey\u001b[0m\u001b[0;34m,\u001b[0m \u001b[0mvalue\u001b[0m \u001b[0;34m=\u001b[0m \u001b[0mvar\u001b[0m\u001b[0;34m.\u001b[0m\u001b[0msplit\u001b[0m\u001b[0;34m(\u001b[0m\u001b[0;34m'='\u001b[0m\u001b[0;34m)\u001b[0m\u001b[0;34m\u001b[0m\u001b[0;34m\u001b[0m\u001b[0m\n\u001b[0m\u001b[1;32m      5\u001b[0m     \u001b[0mos\u001b[0m\u001b[0;34m.\u001b[0m\u001b[0menviron\u001b[0m\u001b[0;34m[\u001b[0m\u001b[0mkey\u001b[0m\u001b[0;34m]\u001b[0m \u001b[0;34m=\u001b[0m \u001b[0mvalue\u001b[0m\u001b[0;34m\u001b[0m\u001b[0;34m\u001b[0m\u001b[0m\n\u001b[1;32m      6\u001b[0m \u001b[0;34m\u001b[0m\u001b[0m\n",
      "\u001b[0;31mValueError\u001b[0m: not enough values to unpack (expected 2, got 1)"
     ]
    }
   ],
   "source": [
    "#--- comment out if no parameter is passed as an env. variable\n",
    "env_vars = !cat .env\n",
    "for var in env_vars:\n",
    "    key, value = var.split('=')\n",
    "    os.environ[key] = value\n",
    "\n",
    "path = os.environ.get('path')\n",
    "#itime = int(os.environ.get('itime'))"
   ]
  },
  {
   "cell_type": "code",
   "execution_count": 5,
   "metadata": {},
   "outputs": [
    {
     "ename": "NameError",
     "evalue": "name 'path' is not defined",
     "output_type": "error",
     "traceback": [
      "\u001b[0;31m---------------------------------------------------------------------------\u001b[0m",
      "\u001b[0;31mNameError\u001b[0m                                 Traceback (most recent call last)",
      "\u001b[0;32m<ipython-input-5-895428301ba5>\u001b[0m in \u001b[0;36m<module>\u001b[0;34m\u001b[0m\n\u001b[1;32m     44\u001b[0m \u001b[0;34m\u001b[0m\u001b[0m\n\u001b[1;32m     45\u001b[0m \u001b[0;31m#--- xyz and atom-wise stress files\u001b[0m\u001b[0;34m\u001b[0m\u001b[0;34m\u001b[0m\u001b[0;34m\u001b[0m\u001b[0m\n\u001b[0;32m---> 46\u001b[0;31m fileName = '%s/%s'%(path,[\n\u001b[0m\u001b[1;32m     47\u001b[0m             \u001b[0;34m'FeNi_glass.dump'\u001b[0m\u001b[0;34m,\u001b[0m\u001b[0;34m\u001b[0m\u001b[0;34m\u001b[0m\u001b[0m\n\u001b[1;32m     48\u001b[0m \u001b[0;31m#             'CoNiCr_glass.dump',\u001b[0m\u001b[0;34m\u001b[0m\u001b[0;34m\u001b[0m\u001b[0;34m\u001b[0m\u001b[0m\n",
      "\u001b[0;31mNameError\u001b[0m: name 'path' is not defined"
     ]
    }
   ],
   "source": [
    "#--- comment out parameters if you pass them\n",
    "#--- by arguments\n",
    "\n",
    "#--- timestep\n",
    "dlgr0 = 2.5 #--- 1st peak  in g(r)\n",
    "dlgr = 4.0 #--- 2nd peak in g(r) !!!!!!!!!!\n",
    "cutoff = 10.0*4    #--- cut-off radius for g(r)\n",
    "NMAX = 10000*4    #--- max. number of atoms included for the g(r) analysis\n",
    "#\n",
    "ReadStrsFromDump = False #--- if true: read stress from dump file\n",
    "#\n",
    "#--- if np.any(AssignYieldTime,AssignMaxDropTime,AssignFlowTime) -> comment itime \n",
    "AssignYieldTime = False #--- stress peak\n",
    "AssignMaxDropTime = False #--- max drop\n",
    "AssignFlowTime = True #--- flow stress\n",
    "#\n",
    "ShuffleDisp = False\n",
    "CrltnFunctionUnstructured = False\n",
    "PairCorrelationFunction = False\n",
    "#\n",
    "CommonNeighAnl = False #--- Read ovito output\n",
    "#\n",
    "StrnAnalysis = False\n",
    "#\n",
    "DminAnalysis = False\n",
    "#\n",
    "RemoteMachine = True #--- tex issue: don't run corresponding cells\n",
    "# 'Co', 'Ni', 'Cr', 'Fe', 'Mn'\n",
    "#LatticeConstant = {1:58.933,2:58.690,3:51.960,4:55.847,5:54.940} #--- from library_CoNiCrFeMn.meam\n",
    "AtomicRadius = {1:1.35,2:1.35,3:1.4,4:1.4,5:1.4}\n",
    "#--- lammps output\n",
    "#path = '/mnt/home/kkarimi/Project/git/CrystalPlasticity/testRuns/glassFeNi/Run0'\n",
    "#path='/Users/Home/Desktop/Tmp/txt/git/CrystalPlasticity/BmgData'\n",
    "#path='/Users/Home/Desktop/Tmp/txt'\n",
    "\n",
    "#--- bulk stress files\n",
    "indx = 5\n",
    "fileNamee = ('FeNi.txt', \n",
    "#              'CoNiCr.txt', \n",
    "             'CoNiFe.txt', \n",
    "             'CoNiCrFe.txt',\n",
    "             'CoCrFeMn.txt',\n",
    "             'CoNiCrFeMn.txt',\n",
    "             'Co5Cr5Fe40Mn27Ni26.txt')[indx]\n",
    "\n",
    "#--- xyz and atom-wise stress files\n",
    "fileName = '%s/%s'%(path,[\n",
    "            'FeNi_glass.dump',\n",
    "#             'CoNiCr_glass.dump',\n",
    "            'CoNiFe_glass.dump',\n",
    "            'CoNiCrFe_glass.dump',\n",
    "            'CoCrFeMn_glass.dump',\n",
    "            'CoNiCrFeMn_glass.dump',\n",
    "            'Co5Cr5Fe40Mn27Ni26_glass.dump'][indx])#--- parse cords\n",
    "\n",
    "fileName2nd = '%s/%s'%(path,[\n",
    "            'FeNi_Cna.xyz',\n",
    "                            ][indx]) \n"
   ]
  },
  {
   "cell_type": "markdown",
   "metadata": {},
   "source": [
    "# input stress file"
   ]
  },
  {
   "cell_type": "code",
   "execution_count": 34,
   "metadata": {},
   "outputs": [],
   "source": [
    "if not ReadStrsFromDump:\n",
    "    stress = np.loadtxt('%s/%s'%(path,fileNamee) )"
   ]
  },
  {
   "cell_type": "markdown",
   "metadata": {},
   "source": [
    "## Dump File"
   ]
  },
  {
   "cell_type": "code",
   "execution_count": 18,
   "metadata": {},
   "outputs": [],
   "source": [
    "#--- parse lammps data\n",
    "lmpData = lp.ReadDumpFile( fileName )\n",
    "lmpData.GetCords( ncount = sys.maxsize, columns = {'c_mystress[4]':'sxy'} )\n",
    "#lmpData.GetCords( ncount = sys.maxsize, columns = {'c_mystress1':'sxx','c_mystress2':'syy','c_mystress3':'szz','c_mystress4':'sxy'} ) #!!!!!!\n",
    "#lmpData.GetCords( ncount = sys.maxsize, columns = {'c_1[4]':'sxy'} )\n",
    "if CommonNeighAnl:\n",
    "    lmpCna = lp.ReadDumpFile( fileName2nd )\n",
    "    lmpCna.GetCords( ncount = sys.maxsize)\n"
   ]
  },
  {
   "cell_type": "markdown",
   "metadata": {},
   "source": [
    "# stress-strain curve"
   ]
  },
  {
   "cell_type": "code",
   "execution_count": 19,
   "metadata": {},
   "outputs": [
    {
     "data": {
      "image/png": "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\n",
      "text/plain": [
       "<Figure size 288x288 with 1 Axes>"
      ]
     },
     "metadata": {
      "needs_background": "light"
     },
     "output_type": "display_data"
    }
   ],
   "source": [
    "if ReadStrsFromDump:\n",
    "    fig = plt.figure( figsize = (4,4))\n",
    "    ax = fig.add_subplot(111)\n",
    "    ax.set_xlabel(r'$\\gamma$',fontsize=16)\n",
    "    ax.set_ylabel(r'$\\sigma$(Gpa)',fontsize=16)\n",
    "    ax.tick_params(labelsize=16)\n",
    "    ax.set_title(fileNamee[:-4])\n",
    "#\n",
    "#--- point corresponding to strain maps\n",
    "strainDump = []\n",
    "Virial = []\n",
    "times = lmpData.coord_atoms_broken.keys()\n",
    "for itimee in sorted(times):\n",
    "\n",
    "    #--- extract atom and box properties\n",
    "    atoms = lp.Atoms( **lmpData.coord_atoms_broken[itimee].to_dict(orient='list') )\n",
    "    #\n",
    "    box = lp.Box( BoxBounds = lmpData.BoxBounds[itimee] )\n",
    "    box.BasisVectors( AddMissing = np.array([0.0,0.0,0.0] ))\n",
    "    #\n",
    "    box0 = lp.Box( BoxBounds = lmpData.BoxBounds[0] ) #--- reference state\n",
    "    box0.BasisVectors( AddMissing = np.array([0.0,0.0,0.0] ))\n",
    "\n",
    "    #--- volume\n",
    "    CellVectorOrtho, VectorNorm = lp.GetOrthogonalBasis( box.CellVector )\n",
    "    volume = np.linalg.det( CellVectorOrtho )\n",
    "    \n",
    "    #--- virial stress\n",
    "    if ReadStrsFromDump:\n",
    "        virial = np.sum(atoms.sxy) / volume\n",
    "#        virial = -(np.sum(atoms.sxx)+np.sum(atoms.syy)+np.sum(atoms.szz)) / 3.0 / volume\n",
    "\n",
    "    #--- bulk strain\n",
    "    dx=box.CellVector[0,1]-box0.CellVector[0,1]\n",
    "    l1=box.CellVector[1,1]\n",
    "    ebulk = dx/l1    \n",
    "    \n",
    "    #--- append\n",
    "    strainDump += [ebulk]\n",
    "    if ReadStrsFromDump:\n",
    "        Virial += [virial*1e-4] #--- bar to gpa \n",
    "if ReadStrsFromDump:\n",
    "    #\n",
    "    ax.plot(np.array(strainDump), Virial, '-o')\n",
    "    #\n",
    "    plt.savefig(fileNamee[:-4]+'.png',dpi=75,bbox_inches='tight')\n",
    "    np.savetxt('loadCurve.txt',np.c_[np.array(strainDump), Virial])\n",
    "    plt.show()\n",
    "#\n"
   ]
  },
  {
   "cell_type": "code",
   "execution_count": 67,
   "metadata": {},
   "outputs": [
    {
     "data": {
      "image/png": "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\n",
      "text/plain": [
       "<Figure size 288x288 with 1 Axes>"
      ]
     },
     "metadata": {
      "needs_background": "light"
     },
     "output_type": "display_data"
    }
   ],
   "source": [
    "if not ReadStrsFromDump:\n",
    "\n",
    "    fig = plt.figure( figsize = (4,4))\n",
    "    ax = fig.add_subplot(111)\n",
    "    ax.set_xlabel(r'$\\epsilon$',fontsize=16)\n",
    "    ax.set_ylabel(r'$\\sigma$',fontsize=16)\n",
    "    ax.tick_params(labelsize=16)\n",
    "    ax.set_title(fileNamee[:-4])\n",
    "    #\n",
    "    strain = stress[:,0]\n",
    "    Virial = stress[:,1]\n",
    "    ax.plot(strain,Virial,'-')\n",
    "    #\n",
    "    plt.savefig(fileNamee[:-4]+'.png',dpi=75,bbox_inches='tight')\n",
    "    plt.show()\n",
    "    #\n",
    "    np.savetxt('loadCurve.txt',np.c_[np.array(strain), Virial])"
   ]
  },
  {
   "cell_type": "markdown",
   "metadata": {},
   "source": [
    "## multiple systems"
   ]
  },
  {
   "cell_type": "code",
   "execution_count": 23,
   "metadata": {},
   "outputs": [
    {
     "data": {
      "image/png": "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\n",
      "text/plain": [
       "<Figure size 288x288 with 1 Axes>"
      ]
     },
     "metadata": {
      "needs_background": "light"
     },
     "output_type": "display_data"
    }
   ],
   "source": [
    "if not RemoteMachine:\n",
    "    matplotlib.rcParams['text.usetex'] = True #--- comment tex stuff!\n",
    "    #\n",
    "    nfreq = 2000\n",
    "    #\n",
    "    colors = ['black','red','green','blue','cyan','brown','grey','magenta','orange','yellow']\n",
    "    fillstyles=['white',None,'white',None,'white',None,'white',None,'white',None,'white',None,'white',None,'white',None]\n",
    "    markers=['o','s','D','^','<','>','v']\n",
    "    #\n",
    "    fig = plt.figure( figsize = (4,4))\n",
    "    ax = fig.add_subplot(111)\n",
    "    ax.set_xlabel(r'$\\gamma$',fontsize=20)\n",
    "    ax.set_ylabel(r'$\\sigma/\\mu$',fontsize=20)\n",
    "    ax.xaxis.set_minor_locator(AutoMinorLocator(2))\n",
    "    ax.yaxis.set_minor_locator(AutoMinorLocator(2))\n",
    "    ax.tick_params(labelsize=20,which='both',axis='both', top=True, right=True)\n",
    "    #ax.set_title()\n",
    "    #\n",
    "    for GlassType, marker, color, fillstyle in list(zip( [ \n",
    "                                         'FeNi',\n",
    "                                          'CoNiFe',\n",
    "                                            'CoNiCrFe',\n",
    "                                            'CoCrFeMn',\n",
    "                                            'CoNiCrFeMn',\n",
    "                                            'Co5Cr5Fe40Mn27Ni26'\n",
    "                                        ],markers, colors, fillstyles )):\n",
    "\n",
    "        sarr  = np.loadtxt('StrsStrn%s/Run2/loadCurve.txt'%GlassType)\n",
    "        gmodu = np.loadtxt('StrsStrn%s/Run2/ShearModulus.txt'%GlassType)[1]\n",
    "    #    sarr_BandWidth = MultipleFrames2nd(path='StrsDrop%s'%GlassType,nrun=3,title='rc_d2min.txt',ncols=3)\n",
    "    #    assert sarr_StrsDrop.shape[0] == sarr_BandWidth.shape[0]\n",
    "        #--- fliter\n",
    "        ydata = sarr[0::nfreq,1] #--- first 2nd col is stress drop\n",
    "        xdata = sarr[0::nfreq,0] #--- 2nd and 3rd cols are widths\n",
    "    #\n",
    "        ax.plot(xdata,ydata/gmodu,'-',color=color)#, label = GlassType)\n",
    "        ax.plot(xdata[-1],ydata[-1]/gmodu,\n",
    "                markersize=10,\n",
    "                color=color,\n",
    "                marker=marker,\n",
    "                markerfacecolor=fillstyle,\n",
    "                label = '%s'%GlassType)\n",
    "\n",
    "    #\n",
    "    ax.legend(frameon=False, fontsize=12)\n",
    "    #\n",
    "    DrawFrame(ax, 0.2,0.09,0.15,0.06,0.04)\n",
    "    #\n",
    "    plt.savefig('loadCurve.png',dpi=2*75,bbox_inches='tight',pad_inches=0.0)\n",
    "    plt.show()"
   ]
  },
  {
   "cell_type": "markdown",
   "metadata": {},
   "source": [
    "## find stress peak and corresponding strain\n",
    "### Fit a spline"
   ]
  },
  {
   "cell_type": "code",
   "execution_count": 68,
   "metadata": {},
   "outputs": [
    {
     "name": "stdout",
     "output_type": "stream",
     "text": [
      "ey= 0.0949126\n",
      "sy= 2.699103286628028\n",
      "em= 0.1269346\n"
     ]
    },
    {
     "data": {
      "image/png": "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\n",
      "text/plain": [
       "<Figure size 288x288 with 1 Axes>"
      ]
     },
     "metadata": {
      "needs_background": "light"
     },
     "output_type": "display_data"
    }
   ],
   "source": [
    "\n",
    "def ReturnShapeFunc(x,df):\n",
    "#    eps1=0.0;eps2=0.0\n",
    "#    n = len(x)\n",
    "#    x2 = x * x\n",
    "#    x3 = x * x2\n",
    "#    x4 = (x-eps1)**3\n",
    "#    x5 = (x-eps2)**3\n",
    "    transformed_x = patsy.bs(x, df=df,degree =3, include_intercept=False)\n",
    "    return transformed_x \n",
    "\n",
    "def TrainModel(x,y):\n",
    "    reg = LinearRegression().fit(x, y )\n",
    "    return reg\n",
    "\n",
    "def Validate(reg, x,y,cv_samples=10):\n",
    "    mse={}\n",
    "#    for df in range(0,100,4):\n",
    "    for df in map(int,np.logspace(0,12,20,base=2,endpoint=True)):\n",
    "        try:\n",
    "            transfrm = ReturnShapeFunc(x,df)\n",
    "            #--- vadidate    \n",
    "            scores = cross_validate(reg,  transfrm, y, cv=cv_samples,\n",
    "                                         scoring=('r2', 'neg_mean_squared_error'),\n",
    "                                         return_train_score=True)\n",
    "            mse[df] = np.mean(scores['train_neg_mean_squared_error'])\n",
    "        except:\n",
    "            continue\n",
    "    return mse\n",
    "\n",
    "def YieldStress(x,y_pred):\n",
    "    #--- max. stress\n",
    "    y_pred_arr = np.array(y_pred.flatten())\n",
    "    indx = np.arange(len(y_pred_arr))[y_pred_arr==np.max(y_pred_arr)][0]\n",
    "    ey =  x[indx]\n",
    "#    print('ey=',ey)\n",
    "\n",
    "    #--- yield stress\n",
    "    sy =  y_pred_arr[indx]\n",
    "#    print('sy=',sy)\n",
    "    assert sy > 0.0\n",
    "\n",
    "    #--- max. slope\n",
    "    ydiff = np.gradient(y_pred_arr, x)\n",
    "    indx = np.arange(len(x))[ydiff==np.min(ydiff[x>ey])][0]\n",
    "    em = x[indx]\n",
    "    sm =  y_pred_arr[indx]\n",
    "    dsm = ydiff[x>=em][0]\n",
    "#    print('em=',em)\n",
    "\n",
    "    #--- flow stress\n",
    "#    ydiff = np.gradient(y_pred_arr, x)\n",
    "    indx = np.arange(len(x))[np.abs(ydiff)==np.min(np.abs(ydiff)[x>em])][0]\n",
    "    ef = x[indx]\n",
    "    sf =  y_pred_arr[indx]\n",
    "    \n",
    "    #--- modulus\n",
    "    xdata = x[x<0.5*ey]\n",
    "    ydata = y_pred[x<0.5*ey]\n",
    "    xdata -= np.mean(xdata)\n",
    "    ydata -= np.mean(ydata)\n",
    "    gmodu = np.polyfit(xdata, ydata, 1)[0] #ydiff[0]\n",
    "\n",
    "    return (ey,sy), (em,sm,dsm), (ef,sf), gmodu\n",
    "\n",
    "def YieldStress2nd(x,y_pred):\n",
    "    #--- max. stress\n",
    "    y_pred_arr = np.array(y_pred.flatten())\n",
    "    indx = np.arange(len(y_pred_arr))[y_pred_arr==np.max(y_pred_arr)][0]\n",
    "    ey =  x[indx]\n",
    "#    print('ey=',ey)\n",
    "\n",
    "    #--- yield stress\n",
    "    sy =  y_pred_arr[indx]\n",
    "#    print('sy=',sy)\n",
    "    assert sy > 0.0\n",
    "\n",
    "\n",
    "\n",
    "    #--- flow stress\n",
    "    ydiff = np.gradient(y_pred_arr, x)\n",
    "    indx = np.arange(len(x))[np.abs(ydiff)==np.min(np.abs(ydiff)[x>ey])][0]\n",
    "    ef = x[indx]\n",
    "    sf =  y_pred_arr[indx]\n",
    "\n",
    "\n",
    "    #--- max. slope\n",
    "#    ydiff = np.gradient(y_pred_arr, x)\n",
    "    indx = np.arange(len(x))[ydiff==np.min(ydiff[x<ef])][0]\n",
    "    em = x[indx]\n",
    "    sm =  y_pred_arr[indx]\n",
    "    dsm = ydiff[x>=em][0]\n",
    "#    print('em=',em)\n",
    "\n",
    "    #--- modulus\n",
    "    xdata = x[x<0.5*ey]\n",
    "    ydata = y_pred[x<0.5*ey]\n",
    "    xdata -= np.mean(xdata)\n",
    "    ydata -= np.mean(ydata)\n",
    "    gmodu = np.polyfit(xdata, ydata, 1)[0] #ydiff[0]\n",
    "    \n",
    "    \n",
    "    return (ey,sy), (em,sm,dsm), (ef,sf), gmodu\n",
    "\n",
    "\n",
    "if ReadStrsFromDump:\n",
    "    strain = strainDump\n",
    "\n",
    "x, y = np.array(strain), np.array(Virial)\n",
    "#--- training points\n",
    "transfrm = ReturnShapeFunc(x,10)\n",
    "    \n",
    "#--- train\n",
    "reg = TrainModel(transfrm,np.c_[y])\n",
    "\n",
    "#--- prediction\n",
    "y_pred = reg.predict( transfrm )\n",
    "    \n",
    "\n",
    "#--- validate\n",
    "#mse = Validate(reg, strain,np.c_[y])\n",
    "\n",
    "#--- yield stress\n",
    "try:\n",
    "    (ey,sy), (em,sm,dsm), (ef,sf), gmodu = YieldStress(x,y_pred)\n",
    "except:\n",
    "    (ey,sy), (em,sm,dsm), (ef,sf), gmodu = YieldStress2nd(x,y_pred)\n",
    "\n",
    "#--- write on the disk\n",
    "np.savetxt('NegativeModulus.txt',np.c_[em,-dsm],header='Strain\\tModulus')\n",
    "np.savetxt('ShearModulus.txt',np.c_[0,gmodu],header='Strain\\tModulus')\n",
    "\n",
    "#--- plot\n",
    "fig = plt.figure( figsize=(4,4))\n",
    "ax = fig.add_subplot(111)\n",
    "ax.set_ylabel(r'$\\sigma$(Gpa)',fontsize=16)\n",
    "ax.set_xlabel(r'$\\gamma$',fontsize=16)\n",
    "ax.tick_params(labelsize=16)\n",
    "#\n",
    "ax.plot( x, y,'o')\n",
    "ax.plot(x, y_pred,'-.r')\n",
    "if AssignYieldTime:\n",
    "    ax.plot([ey,ey], [ax.axis()[2],sy],'-.r')\n",
    "elif AssignMaxDropTime:\n",
    "    ax.plot([em,em], [ax.axis()[2],sm],'-.r')\n",
    "elif AssignFlowTime:\n",
    "    ax.plot([ef,ef], [ax.axis()[2],sf],'-.r')\n",
    "plt.savefig('fit.png',dpi=75,bbox_inches='tight')\n",
    "plt.show()\n"
   ]
  },
  {
   "cell_type": "code",
   "execution_count": 13,
   "metadata": {
    "scrolled": false
   },
   "outputs": [
    {
     "name": "stdout",
     "output_type": "stream",
     "text": [
      "itime(peak)=1000000\n"
     ]
    }
   ],
   "source": [
    "times = lmpData.coord_atoms_broken.keys()\n",
    "times = np.array(sorted(times))\n",
    "if AssignYieldTime:\n",
    "    itime = times[strainDump>=ey][0]\n",
    "    print('itime(peak)=%s'%itime)    \n",
    "elif AssignMaxDropTime:\n",
    "    itime = times[strainDump>=em][0]\n",
    "    print('itime(max. drop)=%s'%itime)\n",
    "elif AssignFlowTime:\n",
    "    itime = times[strainDump>=ef][0]\n",
    "    print('itime(flow)=%s'%itime)"
   ]
  },
  {
   "cell_type": "markdown",
   "metadata": {},
   "source": [
    "### test error vs. complexity"
   ]
  },
  {
   "cell_type": "code",
   "execution_count": 26,
   "metadata": {},
   "outputs": [],
   "source": [
    "try:\n",
    "    keys=mse.keys()\n",
    "    plt.scatter(keys, [-mse[key] for key in keys],marker='x')\n",
    "    plt.yscale('log')\n",
    "    plt.xscale('log')\n",
    "    plt.ylim(1e-5,1e-2)\n",
    "    plt.savefig('cv.png',dpi=75,bbox_inches='tight')\n",
    "    plt.show()\n",
    "except:\n",
    "    pass"
   ]
  },
  {
   "cell_type": "markdown",
   "metadata": {},
   "source": [
    "## mismatch parameter "
   ]
  },
  {
   "cell_type": "code",
   "execution_count": 17,
   "metadata": {},
   "outputs": [],
   "source": [
    "atoms = lp.Atoms( **lmpData.coord_atoms_broken[itime].to_dict(orient='list') )\n",
    "df = pd.DataFrame(atoms.__dict__)\n",
    "#size = list(map(LatticeConstant.get,list(map(int,df['type'].tolist()))))\n",
    "size = list(map(AtomicRadius.get,list(map(int,df['type'].tolist()))))\n",
    "assert len(size) == len(df)\n",
    "df = pd.DataFrame(np.c_[df,size],columns=list(df.keys())+['size'])\n",
    "\n",
    "delta = df['size'].std()/df['size'].mean()\n",
    "np.savetxt('YieldDelta.txt',np.c_[delta,sy],header='AtomMismatch\\tYieldStress')"
   ]
  },
  {
   "cell_type": "markdown",
   "metadata": {},
   "source": [
    "### multiple frames"
   ]
  },
  {
   "cell_type": "code",
   "execution_count": 27,
   "metadata": {},
   "outputs": [
    {
     "data": {
      "image/png": "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\n",
      "text/plain": [
       "<Figure size 288x288 with 1 Axes>"
      ]
     },
     "metadata": {
      "needs_background": "light"
     },
     "output_type": "display_data"
    }
   ],
   "source": [
    "if not RemoteMachine:\n",
    "    matplotlib.rcParams['text.usetex'] = True #--- comment tex stuff!\n",
    "    #\n",
    "    Xdata = []\n",
    "    Ydata = []\n",
    "    #\n",
    "    colors = ['black','red','green','blue','cyan','brown','grey','magenta','orange','yellow']\n",
    "    fillstyles=['white',None,'white',None,'white',None,'white',None,'white',None,'white',None,'white',None,'white',None]\n",
    "    markers=['o','s','D','^','<','>','v']\n",
    "    #\n",
    "    fig = plt.figure( figsize = (4,4))\n",
    "    ax = fig.add_subplot(111)\n",
    "#     ax.set_xlabel('$\\delta$',fontsize=20)\n",
    "#     ax.set_ylabel('$\\sigma_y$(Gpa)',fontsize=20)\n",
    "    ax.xaxis.set_minor_locator(AutoMinorLocator(2))\n",
    "    ax.yaxis.set_minor_locator(AutoMinorLocator(2))\n",
    "    ax.tick_params(labelsize=20,which='both',axis='both', top=True, right=True)\n",
    "    #ax.set_title()\n",
    "    #\n",
    "    for GlassType, marker, color, fillstyle in list(zip( [ \n",
    "                                         'FeNi',\n",
    "                                          'CoNiFe',\n",
    "                                           'CoNiCrFe',\n",
    "                                            'CoCrFeMn',\n",
    "                                            'CoNiCrFeMn',\n",
    "                                            'Co5Cr5Fe40Mn27Ni26'\n",
    "                                        ],markers, colors, fillstyles )):\n",
    "\n",
    "        sarr  = MultipleFrames2nd(path='YieldStrs%s'%GlassType,nrun=3,title='YieldDelta.txt',ncols=2)\n",
    "        #--- fliter\n",
    "        xdata = sarr[:,0]\n",
    "        ydata = sarr[:,1]\n",
    "        Xdata += list(xdata[~np.isnan(xdata)])\n",
    "        Ydata += list(ydata[~np.isnan(ydata)])\n",
    "        #\n",
    "        ax.plot(xdata,ydata,'.',\n",
    "                markersize=10,\n",
    "                color=color,\n",
    "                marker=marker,\n",
    "                markerfacecolor=fillstyle,\n",
    "                label = '%s'%GlassType)\n",
    "\n",
    "    #\n",
    "    #ax.legend(frameon=False, fontsize=16)\n",
    "    #\n",
    "    DrawFrame(ax, 0.2,0.09,0.15,0.06,0.04)\n",
    "    #\n",
    "    plt.savefig('YieldDelta.png',dpi=2*75,bbox_inches='tight',pad_inches=0.0)\n",
    "    np.savetxt('YieldDelta.txt',np.c_[Xdata,Ydata],header='Mismatch\\tYieldStrs')\n",
    "    plt.show()"
   ]
  },
  {
   "cell_type": "markdown",
   "metadata": {},
   "source": [
    "## Avalanche Size"
   ]
  },
  {
   "cell_type": "code",
   "execution_count": 70,
   "metadata": {
    "scrolled": true
   },
   "outputs": [
    {
     "data": {
      "text/plain": [
       "<matplotlib.collections.PathCollection at 0x134655f10>"
      ]
     },
     "execution_count": 70,
     "metadata": {},
     "output_type": "execute_result"
    },
    {
     "data": {
      "image/png": "iVBORw0KGgoAAAANSUhEUgAAA8YAAAEGCAYAAACn5oxcAAAABHNCSVQICAgIfAhkiAAAAAlwSFlzAAALEgAACxIB0t1+/AAAADh0RVh0U29mdHdhcmUAbWF0cGxvdGxpYiB2ZXJzaW9uMy4yLjEsIGh0dHA6Ly9tYXRwbG90bGliLm9yZy+j8jraAAAgAElEQVR4nO3dd5hk133m9/dXVV3VOVSHST0dBpMwiIPpGRAEkUWJkgiREmGJkETRFC1YlGnJy33klVa2V/Zjeler9VralWQaa3K59CrsmivSoCiKD5dEEEiCmIABBmly92R0zqHSz3/U7ZqaxsxgQneFru/neS7q1k11CmduVb91zj3X3F0AAAAAAFSqULELAAAAAABAMRGMAQAAAAAVjWAMAAAAAKhoBGMAAAAAQEUjGAMAAAAAKlqk2AVYCW1tbd7T01PsYgAAAAAAltn+/fuH3b19OY+5KoNxT0+P9u3bV+xiAAAAAACWmZkNLPcx6UoNAAAAAKhoBGMAAAAAQEVblV2pAQBYyt01l0xrZiGtmYWUphdSmllIaTaRzs3PJNKaT6a1kMpoIZVWIpXRQiqTe1xIppVIZ7SQzK5PZVzpjCvjUibjyrgr7S53KR2s87xlITOFQyYzKRwyhcwUsvzlpnBICpspGgkpGgkpFgkrGg4pVhXKPcYi4WBddr42mp3qYxHVxSKqi4Wzj9GLz2ORcLGrAACAkkUwBgCUDXfXTCKt0emExucSmphLanw2qfG5pCbnkhqfTWh8NpldPpfUxGxSk/NJTc+nNJNIKePX/lrRSEixywbRbGCtjUYUCZvClhdoF8PtYuANLc5nw3DGl4boYNni80z2PaYyrmQ6o/lkRpNzKS2k0pcE9EQQ3JPpa39DVWFTbTSihuqImmqq1FRTpebaqmA+epll2SleF1VtNCwzu4EaAwCgPBCMAQBF5e6anE9paGpeQ1MJjcwsaHhqQcPTCQ1PL2h4ekFD0wmNBPPzycwVj1VTFb4k3PW01aqxukr11RHVxyKqjUZUv9iammtRzba01sYiqo9Gci2zoVDpB8FMxrWQymg2kcq2hCcutnwvtorP5j2fWUhpaj6V++HgyDvTGp/N/qiQSF/5/2ssElJbfUyt9VG11kXVGsy31QXL6mNqrYuqrT6meF1U0QhXagEAygvBGACwYtxdozMJnZ+Y14WJeZ2fnNeFibnc8wuT2cfZRPpd+4ZDpnhdNoi1N8S0qa1ObfXZ8NVSF1VLbVTNtVVqDlo2G2uqVF1VWd2FQyFTTTSsmmhYrfU3fhx313wyc0kr/ETQ4j46m9DoTPZHipHphIamF3T4wpSGpxNXDNPNtVVa01CtjsaY1jRWa03usTr3vK0+pqowARoAUBoIxgCAG+buGppa0OmxWZ0endOZ4PH02KzOjM3pwsT8u8JTOGRa0xDT2qZq3bq2UY9s69DaxmyIaqtfnLLBtxxabVcDs8WAXaN1TTXXtI+7a3ohpZHpoJV/OpGdn17Q4NSC3pmc1ztTCzo2OKzBqQWll/RjN5Na62KXhOb1TdVa31yj9c012tBco7VN1bQ+AwAKgmAMALiq+WRap0ZndXJ4RgMjM7nge3o0G34XUpcG3/aGmDa21Ojujc1ad0e11jVWa21TjdY1VWtdU7Va62MKE3jLnpmpobpKDdVV6mmru+q26YxrZGZBg5NBYM49ZqcLE/N69fS4RmYSS15Daq+P5YLy+uZLg/P65hq11FZx/TMA4KYRjAEASmdc58bndGJ4RieHpnVyeCY7Pzyjs+Nz8rzGvqaaKm2M12jrmgY9ur1DG+O12thSq43xGnW21FZcd2a8t3DI1NFQrY6Gat2+oemK280n0zo/Ma9z43M6Oz6nc7lpXm+dn9R/fuudd/0QU10VygXljfFadeX9e+yK16qphuAMAHhvBGMAqCDzybRODM3o6OCUjrwzpaPvTOvE8IxOjcxe0uW5IRZRb3uddnW36Ildneptq9Omtnp1tWaDBrASqqvC6m2rU+8VWqDdXWOzyXcF57PjczozNqfXD53X2Gzykn0aYhF1xmvVFa8JAnMQnvkhBwCQh2AMAKvQQiqtk8MzOvLOtI6+czEE94/M5G5ZFA6ZelprtbmjXo/d2qFNbXXqbatXbzDIFa1sKDVm2QHZ4nXRK7Y8T80nL+nuf3p0VqfH5nRiaEbPHxl616jmHQ2xoNdDtoW5q7VOPa216m7lPACASkIwBoAy5u46PzGvN89N6q3zk3rz/KQOvzOlgZHZ3GBHIZN62uq0dU2DPnznOm1Z06CtaxrU21bHwEZYdRqqq7RjfZV2rG981zp319D0Qm6guFMjs7mB4/YNjOmZV89dcq/rumhY3a116mnLBuXFwNzTWqeOhhiDwwHAKkIwBoAykUhldHxoWm+eywbgN89N6q0LkxrP6zra3VqrrWsa9JO3r9XWNQ3a0tGgTe11dBcFlG1xXrzWeVd3y7vWJ1IZnR2fU//IjAaGZ9Q/MquBkRm9fX5K33nzHSXTF1NzdVVI3fE6dbfWqqcteGzNPq5rqmGAOQAoMwRjAChBU/NJvXFu8pIQfHRwKveHeSwS0va12QB867pG7VjXqO3rGlUf42MduFHRSOjiNc7bLl2XSmd0fmJe/SNBYA6C88nhGT13ZEiJvEHBouGQNsZrgqB8scW5t7VO65urFeH+zQBQcvgLCgCKbDaR0hvnJvXamQkdOjOu185O6MTQTG59W31UO9Y36YGtbdqxrlG3rW9UT2sdf1wDBRQJh7LXIsdr9cCWS9dlMq4Lk9nQPDAyG7Q4Zx9/cHxEc8l0btuqsGljS22upXmxlbm3rU4bmms4rwGgSAjGAFBA88m03jw/qUNnJrJB+Oy4jg1O565rXNtYrTs6m/Szd2/Q7Z1Num19ozoaqotbaABXFQpZ7v7K77/l0nXurqGpheA+4LNBi/OM+odn9aOTo5pNXAzNkZBpY7w21y27Jy88d7YQmgFgJRGMAWCFJNMZHb4wpYOnx7NB+OyEjrwzlRsUq60+qjs7m/WTt6/TnZ1NumNDkzoaCcHAamJm6misVkdjte7d1HrJusXBwPqD1uX+IDyfHJ7R3pOjmlkSmjtbarJdstvqLmlx7mypURWhGQBuCsEYAJbJhYl5HTw9pldOjeuVU+N67ex47tYwzbVVurOzWY9t79AdnU26s7NJaxuruRUMUMHyBwPb0xu/ZN1iaB4YmVX/8Ezu2ub+4Rnt6780NIeD0Ly0lbmnjdAMANeKYAwAN2A+mdYb5yZ0YGBcrwRh+PzEvKTswDu3bWjUL+7p1s6uZt29sVmdLTWEYADXLD807+55d2genk5oYGQm10X75MiMBkZmtH9gTNMLqdy24fyW5sXbTbXVBi3NtdyyDQACBGMAeA/urlOjs0FL8JheOT2ut85P5kaI7mypUV9PXDs3NmtnV7N2rG9ULMLtkQCsDDNTe0NM7Q0x9V0mNI/MJIJW5outzQMjs3plYExTS0Lzhuaa3OBf2W7a2fC8kdAMoMIQjAFgiblEWq+eGdf+gTEdGMgG4dGZhCSpNhrWnZ1N+q8e2KSdG5t1d1czg2MBKBlmprb6mNrqLx+aR2cSucG/8rtnf+3A2UtCc8ikDbnu2XWXhOeuOKEZwOpDMAZQ8YamFrR/YFT7+se0b2BMr5+dUCoYIOuW9jo9ur1DO7uatXNji7auqWdkWABlyczUWh9Ta31Mu7qvFJpng0HAZnRyZFYDIzP6+sGzmpq/NDSvb665OAhY68VrmjfGa+gxA6AsEYwBVBR31/Ghae3rH9Pe/jHtHxhV/8isJCkaCemuoDV4d0+L7ulqUUtdtMglBoCVd2lobrlknbtrbDYZXM88k+umPTAyo2cOntPkZUJzd2utOptrtTFeo86Wi4/t9TGFQoy3AKD0lHwwNrONkr4iaY0kl/S0u/9xcUsFoFzMJ9M6dHZC+4IQvG9gTOOzSUlSvC6qXd0tenJPl/p6WnT7hiZaOgBgCTNTvC6a+8zM5+4an03mBv86OZwNzAMjs/ru24Manl64ZPtoJKTO5hptaKnRxnitOltqtLEl+9jZUqu2+igDFQIoipIPxpJSkv6hux8wswZJ+83sO+7+ZrELBqD0jM4ktH9gTPv6syH40JkJJdLZWyZtaqvTB29do909ce3qadGmtjr+AAOAm2BmaqmLqqUuqnu6Wt61fi6R1tnxWZ0em9OZ0VmdGZvTmbE5nR6b1RuvX8iN37CouiqUbWEOgnJnS43WNddofVO11jXXaE1DjMtZAKyIkg/G7n5e0vlgfsrM3pK0QRLBGKhw7q6TwzPaNzCm/f1j2jswqhNDM5KkqrDpjg1N+i/v79Gu7hbt6m5RW32syCUGgMpSEw1rc0eDNnc0XHb99EJKZ8fmdGZsVqeD4Hx6LPt44NS4JuaSl2wfMqmjoVprm6q1vrla65pqtK6pWuuba7LLmmrU3hBTmO7aAK6TuXuxy3DNzKxH0guSbnf3ySXrnpL0lCR1dXXtGhgYKHj5AKysVDqjN85Nam//qPb2ZwfLGglaG5pqqtTX3aJdPS3q647rzs4mVVfRLRoAytnUfFLnJ+Z1bnxO5yfmdX58Tucm5nVhYl7nJuZ0fnxec8n0JftEQqY1jdVa15QN0B0N1epojKm9PqaOxlhwf+iYmmur6DUElCkz2+/ufct6zHIJxmZWL+l5SZ9397++2rZ9fX2+b9++whQMwIqZTaR08NS4Xg5C8IFTY5pNZP8A6orXqq+7Rbt74+rrbtEt7fUM6AIAFcbdNTGX1LnxeZ2fCMJzEJjPTczpwsS8BqcWct8d+aLhUO5+0B0NF0Pz4vN4XVStdTHF66Oqi4YJ0UAJWYlgXPJdqSXJzKok/SdJf/5eoRhA+RqdSWRbg0+Oau/AmN4IbptkJm1f26j/Ylen+nri2t0T19om7h0MAJXOzNRcG1VzbVQ71jdecbuZhZQGpxY0OJkNytlpXkOT2fn+kRm93D+aG5xxqWg4pHhwLXVrMBDZ4pS/rKmmSo01VWqqqSJMA2Wm5IOxZT9RvijpLXf/l8UuD4Dl4e46MzaX6xb98slRHQ+uD45GQrq7s1lPPbhJu3vjuqerRU01VUUuMQCgXNXFIuqNRdTbVnfV7RZSaQ1NLWhoakGjM4mL02xCo9MJjc0mNDKT0OmxWY3OJC65v/NSIZMaa6rUWF0VBOaIGquzzxtrIrkQXR+LqC4WUV00otpYOPsYDas+ln0eDYcI2EABlHwwlnS/pE9IOmRmB4Nl/9jd/7aIZQJwnTIZ1+F3pnIheF//mC5MzkuSGqoj6utu0cd2dWp3T1x3bOD6YABA4cUi4WA07Npr2j6Rymg8CMujMwlNziU1MZfU5HxSk3MpTc4Hz+eSmpxPaXByOrd+Ppm5pteIhEy10bDqYnmBOQjP1VVhxSIhxYLH6qs8VleFFItcfIxGQoqETVWh4DEcUlXYFAmHFAllnzOIGSpJyQdjd39REmclUGYWUmm9dmYi1zV638BY7pf1tY3V2t0b1+6eFu3uiWvbmgauDwYAlJ1oJKSOxmp1NF7/5T0LqbSm5lOamk9pZiGl2URaM4mUZheyj7llSx6nF1KaTaR0fiKphVRaC6mM5pOZ7Hwyk7tF4XIImRQJh1QVygbmqiBA5wfqkJnCoexjyKRQMB82k5ly6/PnQ8F8yEyhUN58sL8pu/3iXwaLDeYWLDG7uEx5yxafXW77i+su/Xvjssdeui6YseA/V9r2cstl9q5tLlvWvHJd6VhL919atsu9z8uVJf89X/H/2+WOtXi8y+x/5bJc7jUu/nswSaHQxdfMLbOL/wYs799S9lErouSDMYDyMDGX1IFTY9nrg/tH9eqZCSVS2S/nzR31+vCd67Q7uD64s6WGbmEAgIoWi4QVqw8v+60EMxnXQioblBcD8+UeE6mMUpmMkmlXKp1RMh3M55Z5dlkmo9TiNhlXMpVRKpNdl0q70u5yd6UzroxLGffslMnOpzIZJdJSOpPdLuMKtnW5S+nc9hf3d89eciVJi8MEL44X7PK8+UvX6bLrLh4nt27JsZW3z3u9bv4+HjzLX+7ulykXygHBGMANeWdyXi8HIXhv/5jevjAp92yXr9s2NOmT93Wrryc7YnQr9w8GAKAgQiFTTTSsmiiXJJUSd79qgM4P2brC8qXBPbftNYZ018WVl/xQsOQHhdxrXKYsl93ukm2XbrOkbEuOs/hDSCYo6+KPIq7sjzzvWhZs/9AfXOV/9g0iGAN4T+6u40MzuYGy9vaP6vTonCSpNhrWPV0t+q3HtmhPT1x3dzWrNspHCwAAwKLF7sB5S4pVFFwBf70CeJdEKqM3zk1o/8BYdqCsgTGNziQkSa11UfX1tOiT9/Vod09cO9Y3qiocKnKJAQAAgBtHMAagqfmkDpwa176gNfjg6fHcaJld8Vo9sq0jO1BWb1yb2uq4PhgAAACrCsEYqEDnJ+a0t39M+/OuD854dpS/29Y36ck9XdodXB98IyNtAgAAAOWEYAyscpmM6+jgtPb2jwYtwmM6O37p9cH/7aNbtDu4Prg+xscCAAAAKgt/AQOrzHzy4v2D9/WPav/AmCaD+we3N8S0u6dFn/5Ar3b3xHXrugZFuD4YAAAAFa4owdjMWiStlzQnqd/dl+9O5ECFGZtJaP/AmPYOjGpf/5gOnZlQIn3x/sE/fec69XXH1dfToq54LdcHAwAAAEsULBibWZOk/0bSk5KikoYkVUtaY2YvSfozd3+2UOUBypG76/ToXLY1eCDbLfrY4LQkqSpsumNDkz51f4/6euLa1d2ieF20yCUGAAAASl8hW4y/Kukrkh5w9/H8FWa2S9InzGyTu3+xgGUCSloqndFb56e0L2gN3ts/qsGpBUlSQ3VEfd0t+tmdG9TX3aK7Njaruipc5BIDAAAA5adgwdjdP3iVdfsl7S9UWYBSNbOQ0sHT48H1wWM6cGpMs4m0JGlDc43uu6VVfT1x7e5p0daOBoVCdIsGAAAAblYhu1J3XW29u58qVFmAUjE8vaC9J7NdovcNjOqNc5NKZ1xm0va1jXpiV6f6gtsmrW+uKXZxAQAAgFWpkF2pvynJJeU3cbmkdkkdkugDilXv7PicXj45opdPjunlkyM6PjQjSYpFQrp7Y7M+89At6utp0T3dLWqsripyaQEAAIDKUMiu1HfkPzezHkn/SNKPSfrfClUOoFDcXSeGZ/TyydHctHj/4IbqiHb3xPXEro3a0xvXHRuaFI1w2yQAAACgGAp+uyYz2yLp9yTdK+l/l/Sb7p4sdDmA5ZbOuN6+MJkLwXv7RzU8nZAktdVHtac3rl97oFe7e+PavrZRYa4PBgAAAEpCIa8xvl3ZQHybpH8u6dPuni7U6wPLLZHK6NDZiSAIj2jfwJim5lOSpM6WGj24pV17euPa0xtXb1sd9w8GAAAASlQhW4xflXRa2WuN90jakx8U3P03C1gW4LrNJdJ65dSYfhS0CL9yekzzyYwkaXNHvR6/a7329MS1uzeuDQyUBQAAAJSNQgbjTys72BZQFuaTaR0YGNMPT4zopRMjOnh6XMm0K2TSjvWN+sU93drT26K+nrja6mPFLi4AAACAG1TIwbe+XKjXAm7EfDKtV06NXwzCp8aVSGcUDplu39CkT39gk+7dlL11UgMjRgMAAACrRiGvMf43kv7Y3V+/zLo6Sb8gacHd/7xQZUJlW0ildTAvCB84Na5EKqOQSbdvaNKn7u/R+za1qq+HIAwAAACsZoXsSv2nkv4nM7tD0uuShiRVS9oiqVHSlyQRirFiEqmMXj0zrh8ezwbh/QNjWkhlZCbdvr5Jn7yvW/fd0qq+njj3EAYAAAAqSCG7Uh+U9PNmVi+pT9I6SXOS3nL3w4UqBypHOuM6dHZC3z82rB8eH9G+gVHNJ7NBeMe6Rv3y+7p136ZW7e6Nq6mGIAwAAABUqkJ2pe5y91PuPi3puUK9LiqHu+vE8Iy+f2xYLx4d1g9PjORun7R9bYOe3NOl+za1ak9vXM210SKXFgAAAECpKGRX6q9LukeSzOw/ufvHrmUnM/uSpA9LGnT321ewfChDg5Pz+v7xYb14dETfPzasC5PzkrL3Ef7wnet0/+Y23bepVa2MGg0AAADgCgoZjC1vftN17PdlSX8i6SvLWhqUpan5pH50YlQvHhvW948N6+jgtCSppbZK79/cpvtvadMHNrepq7W2yCUFAAAAUC4KGYz9CvNX38n9BTPrWfbSoCwk0xkdGBjLdo8+NqxXz0wonXFVV4W0uyeuJ3Z16v7NbdqxrlGhkL33AQEAAABgiUIG47vMbFLZluOaYF7Bc3f3xps5uJk9JekpSerq6rqpgqK4To/O6oWjQ3r+8JB+cHxE0wsphUy6s7NZn3noFr1/c6vu6WpRdVW42EUFAAAAsAoUclTqFU0x7v60pKclqa+v75pbpFF8c4m0Xjo5oheODOn5I0M6MTQjSdrQXKPH71qvh7a26b5b2hg5GgAAAMCKKGSLMSApO3r0scFpPR8E4R+dHFUilVEsEtK9m1r1S/d266GtbbqlvV5mdI8GAAAAsLIIxiiIibmkvn9sONcqfH4iO3r05o56feJ93Xpwa7vu7Y3TPRoAAABAwZV8MDazv5T0sKQ2Mzsj6Z+4+xeLWyq8F3fX2xem9L23B/Xs24N65fS40hlXQ3VEH9jcpt98rF0Pbm3XhuaaYhcVAAAAQIUr+WDs7k8Wuwy4NvPJtH5wfFjffSsbhs8FrcJ3bGjSbzx8ix7a2q67NzYrEg4VuaQAAAAAcFHJB2OUtnPjc/re24P63tuD+v6xYS2kMqqNhvXAljb91o9t0SPbOtTRWF3sYgIAAADAFRGMcV3SGdfB02P67lvZMPz2hSlJUle8Vk/u6dJjt3ZoT29csQjXCgMAAAAoDwRjvKeJuaReODKk7709qOcOD2psNqlwyNTX3aJ//FPb9ej2NbqlvY4RpAEAAACUJYIx3sXddXxoWt97e1DffWtQ+wbGlM64Wmqr9Mi2Dj2yvUMPbm3nvsIAAAAAVgWCMSRJC6m0fnRiNHe98KnRWUnS9rUN+vWHNunR7R26e2OLwiFahQEAAACsLgTjCjY4Oa9nD2dbhV88NqzZRFqxSEj3b27TUw9u0iPbO7idEgAAAIBVj2BcQTIZ16GzE7lW4UNnJyRJ65uq9XP3bNCj2zt036Y21UQZOAsAAABA5SAYr3LTCym9eHQoCMNDGp5eUMiknV0t+u2f2KbHbu3QtjUNDJwFAAAAoGIRjFeh/uGZXKvwj06OKJl2NVRH9NDWdj12a4ce2tqheF202MUEAAAAgJJAMF4FkumM9vaP6tm3B/Xdtwd1YmhGkrS5o16/en+vHtneoV3dLaoKh4pcUgAAAAAoPQTjMjUyvaDnDme7SL9wZEhTCylFwyHduymuX3lftx7dvkZdrbXFLiYAAAAAlDyCcZlwd715fjLXKnzw9LjcpY6GmH76znV6ZHuHPrC5TXUxqhQAAAAArgcpqoTNJlL6wbERffftQT379qAuTM5Lku7qbNJ/99hWPXZrh3asa1SIewsDAAAAwA0jGJeY06OzevZwduCsHxwfUSKVUV00rAe3tuuR7R16eFu7Ohqqi11MAAAAAFg1CMZFlkpndODUeDCK9Ds68s60JKmntVa/fG+3Ht3eoT29cUUjDJwFAAAAACuBYFwEozMJ/X1wb+HnDg9pYi6pSMi0pzeun+/bqEe3d2hTe32xiwkAAAAAFYFgXADpjOu1M+N6/siQnjs8pFfPZAfOaq2L6sduXaPHbu3QB7a0qbG6qthFBQAAAICKQzBeIcPTC3rhyJCePzKkF44MaWw2KTPprs5m/dZjW/TQ1nbd1dnMwFkAAAAAUGQE42WSSmf06plxPXc4G4ZfOzMhKdsq/Mi2Dj20rV0PbGlXvC5a5JICAAAAAPIRjG/C4OR8tnv0kSG9eHRYE3NJhUza2dWif/jBrXp4W4duW8/tlAAAAACglBGMr8N8Mq29/aN68diw/v7IsN48PylJ6miI6cd3rMm2Cm9uV1Mt1woDAAAAQLkgGF9FJuN68/ykXjw2rBePDmtv/6gWUhlVhU33dLXov//QNj20tV071jXKjFZhAAAAAChHBOMlzo7P6cWjQ/r7o8P6wfERjc4kJElb19Trl+7t1gNb2rSnN666GP/rAAAAAGA1qPh0Nzmf1EvHR3KtwieGZyRJ7Q0xPby1XfdvbtMHtrRpTWN1kUsKAAAAAFgJZRGMzexDkv5YUljS/+3u/+xGjzU1n9S+/jG9dGJEPzwxotfPTijjUk1VWPduiusX7+3SA1vatXVNPd2jAQAAAKAClHwwNrOwpD+V9EFJZyTtNbNn3P3Na9l/eiGlvf2jeunEiF46MarXz04onXFVhU07N7bos49s1n23tOme7mbFIuGVfCsAAAAAgBJU8sFY0h5Jx9z9hCSZ2V9J+oikKwbjqfmU/uDv3tYPj4/oUF4Qvntjs37j4Vv0vk2tuqerRTVRgjAAAAAAVLpyCMYbJJ3Oe35G0r1LNzKzpyQ9JUnRtZv1b144obs2NuszDwVBuLtZtdFyeLsAAAAAgEJaNUnR3Z+W9LQkbb/9bj/w+z9OEAYAAAAAvKdQsQtwDc5K2pj3vDNYdkX11RFCMQAAAADgmpRDMN4raYuZ9ZpZVNLHJT1T5DIBAAAAAFaJkm9WdfeUmX1W0reVvV3Tl9z9jSIXCwAAAACwSpi7F7sMy87MhiQNFLscuCFtkoaLXQjcMOqvfFF35Y36K2/UX/mi7sob9Ve+trl7w3IesORbjG+Eu7cXuwy4MWa2z937il0O3Bjqr3xRd+WN+itv1F/5ou7KG/VXvsxs33IfsxyuMQYAAAAAYMUQjAEAAAAAFY1gjFLzdLELgJtC/ZUv6q68UX/ljforX9RdeaP+ytey192qHHwLAAAAAIBrRYsxAAAAAKCiEYwBAAAAABWNYIySYWYPmdm9xS4HboyZPWhm9xW7HLh+Qd09VOxy4MZQf+WL773yxvdeeeOzs3wFn53LXndcYwwAAAAAqGi0GAMAAAAAKhrBGAAAAABQ0QjGAAAAAICKRpNbRdQAABAySURBVDAGAAAAAFQ0gjEAAAAAoKIRjAEAAAAAFY1gDAAAAACoaARjAAAAAEBFIxgDAAAAACoawRgAAAAAUNEixS7ASmhra/Oenp5iFwMAAAAAsMz2798/7O7ty3nMkg/GZlYn6c8kJSQ95+5//l779PT0aN++fSteNgAAAABAYZnZwHIfsyhdqc3sS2Y2aGavL1n+ITM7bGbHzOx3gsU/J+mr7v5rkn6m4IUFAAAAAKxqxbrG+MuSPpS/wMzCkv5U0k9K2iHpSTPbIalT0ulgs3QBywgAAAAAqABFCcbu/oKk0SWL90g65u4n3D0h6a8kfUTSGWXDsXSV8prZU2a2z8z2DQ0NrUSxAQAAAACrUCmNSr1BF1uGpWwg3iDpryV9zMz+T0nfuNLO7v60u/e5e197+7Jehw0AAAAAWMVKfvAtd5+R9KlilwMAAAAAUDxff+Ws/vDbhxVdu3nXch+7lILxWUkb8553BssAAAAAABXs66+c1e/+9SHNJVdm2KlS6kq9V9IWM+s1s6ikj0t6pshlAgAAAAAU2R9++/CKhWKpeLdr+ktJP5S0zczOmNmn3T0l6bOSvi3pLUn/0d3fuM7jPm5mT09MTCx/oQEAAAAARXFufG5Fj1+UrtTu/uQVlv+tpL+9ieN+Q9I3+vr6fu1GjwEAAAAAKC3rm2t0dgXDcSl1pQYAAAAA4F1++ye2qaYqvGLHL6XBtwAAAAAAeJeP7twgKXut8fkVOL65+woctjjM7HFJj2/evPnXjh49WuziAAAAAACWmZntd/e+5TzmqupK7e7fcPenmpqail0UAAAAAECZWFXBGAAAAACA60UwBgAAAABUNIIxAAAAAKCirapgbGaPm9nTExMTxS4KAAAAAKBMrKpgzOBbAAAAAIDrtaqCMQAAAAAA14tgDAAAAACoaARjAAAAAEBFIxgDAAAAACraqgrGjEoNAAAAALheqyoYMyo1AAAAAOB6rapgDAAAAADA9SIYAwAAAAAqGsEYAAAAAFDRCMYAAAAAgIpGMAYAAAAAVDSCMQAAAACgoq2qYMx9jAEAAAAA12tVBWPuYwwAAAAAuF6rKhgDAAAAAHC9CMYAAAAAgIpGMAYAAAAAVDSCMQAAAACgohGMAQAAAAAVjWAMAAAAAKhoqyoYcx9jAAAAAMD1WlXBmPsYAwAAAACu16oKxgAAAAAAXC+CMQAAAACgohGMAQAAAAAVjWAMAAAAAKho1x2MzSxkZo0rURgAAAAAAArtmoKxmf2FmTWaWZ2k1yW9aWa/vbJFAwAAAABg5V1ri/EOd5+U9FFJ35LUK+kTK1YqAAAAAAAK5FqDcZWZVSkbjJ9x9+QKlgkAAAAAgIK51mD8BUn9kuokvWBm3ZImVqpQAAAAAAAUSuRqK83sc3lP/2Xw+A+UDdRfX6lC3Sgze1zS45s3by52UQAAAAAAZeK9WowbgqlP0q9LWidpg6SnJO1c2aJdP3f/hrs/1dTUVOyiAAAAAADKxFVbjN39f5YkM3tB0j3uPhU8/31J31zx0gEAAAAAsMKu9RrjNZISec8TwTIAAAAAAMraVVuM83xF0stm9rXg+UclfXlFSgQAAAAAQAFdUzB298+b2bckPRAs+pS7v7JyxQIAAAAAoDCutcVY7n5A0oEVLAsAAAAAAAV3rdcYAwAAAACwKhGMAQAAAAAVjWAMAAAAAKhoBGMAAAAAQEUjGAMAAAAAKhrBGAAAAABQ0QjGAAAAAICKRjAGAAAAAFQ0gjEAAAAAoKKtqmBsZo+b2dMTExPFLgoAAAAAoEysqmDs7t9w96eampqKXRQAAAAAQJlYVcEYAAAAAIDrRTAGAAAAAFQ0gjEAAAAAoKIRjAEAAAAAFY1gDAAAAACoaARjAAAAAEBFIxgDAAAAACoawRgAAAAAUNEIxgAAAACAikYwBgAAAABUNIIxAAAAAKCiEYwBAAAAABWNYAwAAAAAqGgEYwAAAABARSMYAwAAAAAqGsEYAAAAAFDRCMYAAAAAgIpGMAYAAAAAVDSCMQAAAACgohGMAQAAAAAVjWAMAAAAAKhoBGMAAAAAQEUr+WBsZpvM7Itm9tVilwUAAAAAsPqsaDA2sy+Z2aCZvb5k+YfM7LCZHTOz37naMdz9hLt/eiXLCQAAAACoXJEVPv6XJf2JpK8sLjCzsKQ/lfRBSWck7TWzZySFJf3TJfv/qrsPrnAZAQAAAAAVbEWDsbu/YGY9SxbvkXTM3U9Ikpn9laSPuPs/lfThG30tM3tK0lOS1NXVdaOHAQAAAABUmGJcY7xB0um852eCZZdlZq1m9gVJO83sd6+0nbs/7e597t7X3t6+fKUFAAAAAKxqK92V+qa5+4ikXy92OQAAAAAAq1MxWozPStqY97wzWAYAAAAAQMEVIxjvlbTFzHrNLCrp45KeWY4Dm9njZvb0xMTEchwOAAAAAFABzN1X7uBmfynpYUltkt6R9E/c/Ytm9lOS/kjZkai/5O6fX+bXHZI0sJzHRMG0SRoudiFww6i/8kXdlTfqr7xRf+WLuitv1F/52ubuDct5wBUNxsD1MrN97t5X7HLgxlB/5Yu6K2/UX3mj/soXdVfeqL/ytRJ1V4yu1AAAAAAAlAyCMQAAAACgohGMUWqeLnYBcFOov/JF3ZU36q+8UX/li7orb9Rf+Vr2uuMaYwAAAABARaPFGAAAAABQ0QjGAAAAAICKRjDGijKzD5nZYTM7Zma/c5n1MTP7D8H6H5lZT7D8g2a238wOBY+P5u3zXHDMg8HUUbh3VDluou56zGwur36+kLfPrqBOj5nZvzIzK9w7qiw3UX+/lFd3B80sY2Z3B+s49wrkGurvQTM7YGYpM3tiybpPmtnRYPpk3nLOvwK40bozs7vN7Idm9oaZvWZmv5C37stmdjLv3Lu7UO+n0tzkuZfOq6Nn8pb3Bp+zx4LP3Wgh3kuluYlz75El33vzZvbRYB3nXoFcQ/19zszeDD4fv2tm3Xnrlud7z92ZmFZkkhSWdFzSJklRSa9K2rFkm9+Q9IVg/uOS/kMwv1PS+mD+dkln8/Z5TlJfsd/fap5usu56JL1+heO+LOl9kkzStyT9ZLHf62qcbqb+lmxzh6Tjec8590qn/nok3SnpK5KeyFsel3QieGwJ5luCdZx/pV13WyVtCebXSzovqTl4/uX8bZlKr/6CddNXOO5/lPTxYP4Lkj5T7Pe62qabrbu8beKSRiXVBs8590qn/h7Jq5fP6OLfncv2vUeLMVbSHknH3P2Euyck/ZWkjyzZ5iOS/l0w/1VJj5mZufsr7n4uWP6GpBozixWk1JBuou6udEAzWyep0d1f8uyn1VckfXT5iw4tX/09GeyLwnrP+nP3fnd/TVJmyb4/Iek77j7q7mOSviPpQ5x/BXPDdefuR9z9aDB/TtKgpPbCFBuBmzn3Liv4XH1U2c9ZKfu5y7m3/Jar7p6Q9C13n125ouIyrqX+ns2rl5ckdQbzy/a9RzDGStog6XTe8zPBsstu4+4pSROSWpds8zFJB9x9IW/Zvw26tPyPdAdcETdbd71m9oqZPW9mD+Rtf+Y9jonlsVzn3i9I+sslyzj3Vt611N/17sv5Vxg3U3c5ZrZH2VaT43mLPx90Ifw/+KF4xdxs/VWb2T4ze2mxK66yn6vjwefsjRwT12ZZzj1le1At/d7j3Ft511t/n1a2Bfhq+1739x7BGCXNzG6T9AeS/uu8xb/k7ndIeiCYPlGMsuGKzkvqcvedkj4n6S/MrLHIZcJ1MrN7Jc26++t5izn3gBUWtHL8P5I+5e6LLVu/K2m7pN3Kdhf8R0UqHq6u2937JP2ipD8ys1uKXSBcu+Dcu0PSt/MWc+6VGDP7ZUl9kv5wuY9NMMZKOitpY97zzmDZZbcxs4ikJkkjwfNOSV+T9CvunvvV3N3PBo9Tkv5C2e4XWF43XHfuvuDuI5Lk7vuVbfHYGmzfmbf/5Y6J5XFT517gXb+ac+4VzLXU3/Xuy/lXGDdTdwp+RPympN9z95cWl7v7ec9akPRvxbm3Um6q/vI+I08oOybDTmU/V5uDz9nrPiau2U3VXeDnJX3N3ZOLCzj3Cuaa6s/MfkzS70n6mbyepMv2vUcwxkraK2lLMBpjVNk/tJ9Zss0zkhZHj3tC0vfc3c2sWdk/Dn7H3b+/uLGZRcysLZivkvRhSa8Ly+1m6q7dzMKSZGabJG2RdMLdz0uaNLP3BV1wf0XS/1eIN1OBbrj+JMnMQsr+gZC7vphzr6Cupf6u5NuSftzMWsysRdKPS/o251/B3HDdBdt/TdJX3P2rS9atCx5N2WvkOPdWxs3UX8tiN9vgs/J+SW8Gn6vPKvs5K2U/dzn3lt/NfG4uelJLfhDm3CuY96w/M9sp6f9SNhQP5q1avu+95RpNjInpcpOkn5J0RNlWw98Llv0vwT9qSaqW9P9KOqbsyHGbguX/g6QZSQfzpg5JdZL2S3pN2UG5/lhSuNjvczVON1F3Hwvq5qCkA5Iezztmn7JfKscl/YkkK/b7XK3TjdZfsO5hSS8tOR7nXmnV325lr5eaUbZF6o28fX81qNdjynbHXVzO+VfCdSfplyUll3zv3R2s+56kQ0H9/XtJ9cV+n6t1uon6e39QR68Gj5/OO+am4HP2WPC5Gyv2+1yN001+bvYo25oYWnJMzr3Sqb//LOmdvM/HZ/L2XZbvPQt2AgAAAACgItGVGgAAAABQ0QjGAAAAAICKRjAGAAAAAFQ0gjEAAAAAoKIRjAEAAAAAFY1gDABAEZhZq5kdDKYLZnY2mJ82sz9bxtf5IzN78CrrP2tmv7pcrwcAQDnidk0AABSZmf2+pGl3/xfLfNxWSd909/ddZZtaSd93953L+doAAJQTWowBACghZvawmf1NMP/7ZvbvzOzvzWzAzH7OzP65mR0ys78zs6pgu11m9ryZ7Tezb5vZuuBwH5P0d3nH/mdm9qaZvWZm/0KS3H1WUr+Z7SnwWwUAoGQQjAEAKG23SHpU0s9I+veSnnX3OyTNSfrpIBz/a0lPuPsuSV+S9Plg3/sl7Zdyrcc/K+k2d79T0v+a9xr7JD1QgPcCAEBJihS7AAAA4Kq+5e5JMzskKayLLcCHJPVI2ibpdknfMTMF25wPtlknaSiYn5A0L+mLQYv03+S9xqCk7Sv4HgAAKGkEYwAAStuCJLl7xsySfnFwkIyy3+Mm6Q13v+8y+85Jqg72TwXdpR+T9ISkzyrbEq1gm7mVewsAAJQ2ulIDAFDeDktqN7P7JMnMqszstmDdW5I2B8vrJTW5+99K+geS7so7xlZJrxeuyAAAlBaCMQAAZczdE8q2AP+Bmb0q6aCk9wervynp4WC+QdLfmNlrkl6U9Lm8w9wv6TsFKTAAACWI2zUBALCKmdmLkj7s7uNXWL9T0ufc/ROFLRkAAKWDYAwAwCpmZvdKmnP3166w/oOSjrp7f0ELBgBACSEYAwAAAAAqGtcYAwAAAAAqGsEYAAAAAFDRCMYAAAAAgIpGMAYAAAAAVDSCMQAAAACgov3/0XdsM0bJEJ0AAAAASUVORK5CYII=\n",
      "text/plain": [
       "<Figure size 1152x288 with 2 Axes>"
      ]
     },
     "metadata": {
      "needs_background": "light"
     },
     "output_type": "display_data"
    }
   ],
   "source": [
    "if ReadStrsFromDump:\n",
    "    strain = strainDump\n",
    "df = AvalancheSize(strain, y_pred) #\n",
    "esmax,dsmax=df.sort_values(by='ds',ascending=False).iloc[0][['t_end','ds']]\n",
    "np.savetxt('StrsDrop.txt',np.c_[esmax,dsmax],header='StressDrop')\n",
    "\n",
    "# #--- plot\n",
    "fig = plt.figure(figsize=(16,4))\n",
    "ax = fig.add_subplot(211)\n",
    "ax.set_xlim(strain.min(),strain.max())\n",
    "ax.tick_params(axis='x',labelsize=0)\n",
    "ax.set_ylabel('F(N)')\n",
    "#\n",
    "ax.plot(strain, y_pred,'-')\n",
    "#\n",
    "ax = fig.add_subplot(212)\n",
    "ax.set_ylabel('ds')\n",
    "ax.set_xlabel('Time(s)')\n",
    "ax.set_yscale('log')\n",
    "ax.set_xlim(strain.min(),strain.max())\n",
    "#\n",
    "ax.scatter(df['t_end'],df['ds'])\n",
    "#\n",
    "plt.show()"
   ]
  },
  {
   "cell_type": "markdown",
   "metadata": {},
   "source": [
    "### Correlations with band width"
   ]
  },
  {
   "cell_type": "code",
   "execution_count": 31,
   "metadata": {
    "scrolled": false
   },
   "outputs": [
    {
     "data": {
      "image/png": "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\n",
      "text/plain": [
       "<Figure size 400x400 with 1 Axes>"
      ]
     },
     "metadata": {},
     "output_type": "display_data"
    }
   ],
   "source": [
    "if not RemoteMachine:\n",
    "    matplotlib.rcParams['text.usetex'] = True #--- comment tex stuff!\n",
    "    #\n",
    "    colors = ['black','red','green','blue','cyan','brown','grey','magenta','orange','yellow']\n",
    "    fillstyles=['white',None,'white',None,'white',None,'white',None,'white',None,'white',None,'white',None,'white',None]\n",
    "    markers=['o','s','D','^','<','>','v']\n",
    "    #\n",
    "    fig = plt.figure( figsize = (4,4))\n",
    "    ax = fig.add_subplot(111)\n",
    "    # ax.set_xlabel('$w(A^o)$',fontsize=20)\n",
    "    # ax.set_ylabel('$\\Delta\\sigma$(Gpa)',fontsize=20)\n",
    "    ax.xaxis.set_minor_locator(AutoMinorLocator(2))\n",
    "    ax.yaxis.set_minor_locator(AutoMinorLocator(2))\n",
    "    ax.tick_params(labelsize=20,which='both',axis='both', top=True, right=True)\n",
    "    #\n",
    "    for GlassType, marker, color, fillstyle in list(zip( [ \n",
    "                                         'FeNi',\n",
    "                                         'CoNiFe',\n",
    "                                         'CoNiCrFe',\n",
    "                                         'CoCrFeMn',\n",
    "                                         'CoNiCrFeMn',\n",
    "                                         'Co5Cr5Fe40Mn27Ni26'\n",
    "                                        ],markers, colors, fillstyles)):\n",
    "\n",
    "        sarr_StrsDrop  = MultipleFrames2nd(path='StrsDrop%s'%GlassType,nrun=3,title='StrsDrop.txt',ncols=2)\n",
    "        sarr_BandWidth = MultipleFrames2nd(path='StrsDrop%s'%GlassType,nrun=3,title='rc_d2min.txt',ncols=3)\n",
    "        assert sarr_StrsDrop.shape[0] == sarr_BandWidth.shape[0]\n",
    "        #--- fliter\n",
    "        ydata = sarr_StrsDrop[:,1] #--- first 2nd col is stress drop\n",
    "        xdata = sarr_BandWidth[:,1:3] #--- 2nd and 3rd cols are widths\n",
    "        indices = np.any(~np.isnan(xdata),axis=1)\n",
    "        xdata = xdata[~np.isnan(xdata)]\n",
    "        ydata = ydata[indices]\n",
    "        assert xdata.shape == ydata.shape\n",
    "        #\n",
    "        ax.plot(xdata,ydata,'.',\n",
    "                markersize=10,\n",
    "                color=color,\n",
    "                marker=marker,\n",
    "                markerfacecolor=fillstyle,\n",
    "                label = '%s'%GlassType)\n",
    "\n",
    "    #\n",
    "    #ax.legend(frameon=False, fontsize=16)\n",
    "    #\n",
    "    DrawFrame(ax, 0.2,0.09,0.15,0.06,0.04)\n",
    "    #\n",
    "    plt.savefig('StrsDropAndWidth.png',dpi=2*75,bbox_inches='tight',pad_inches=0.0)\n",
    "    plt.show()"
   ]
  },
  {
   "cell_type": "markdown",
   "metadata": {},
   "source": [
    "### (negative) modulus and band width"
   ]
  },
  {
   "cell_type": "code",
   "execution_count": 32,
   "metadata": {
    "scrolled": false
   },
   "outputs": [
    {
     "data": {
      "image/png": "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\n",
      "text/plain": [
       "<Figure size 400x400 with 1 Axes>"
      ]
     },
     "metadata": {},
     "output_type": "display_data"
    }
   ],
   "source": [
    "if not RemoteMachine:\n",
    "    matplotlib.rcParams['text.usetex'] = True #--- comment tex stuff!\n",
    "#\n",
    "    colors = ['black','red','green','blue','cyan','brown','grey','magenta','orange','yellow']\n",
    "    fillstyles=['white',None,'white',None,'white',None,'white',None,'white',None,'white',None,'white',None,'white',None]\n",
    "    markers=['o','s','D','^','<','>','v']\n",
    "    #\n",
    "    fig = plt.figure( figsize = (4,4))\n",
    "    ax = fig.add_subplot(111)\n",
    "    # ax.set_xlabel('$w(A^o)$',fontsize=20)\n",
    "    # ax.set_ylabel('$H$(Gpa)',fontsize=20)\n",
    "    ax.xaxis.set_minor_locator(AutoMinorLocator(2))\n",
    "    ax.yaxis.set_minor_locator(AutoMinorLocator(2))\n",
    "    ax.tick_params(labelsize=20,which='both',axis='both', top=True, right=True)\n",
    "    #\n",
    "    Xdata = []\n",
    "    Ydata = []\n",
    "    for GlassType, marker, color, fillstyle in list(zip( [ \n",
    "                                        'FeNi',\n",
    "                                         'CoNiFe',\n",
    "                                          'CoNiCrFe',\n",
    "                                          'CoCrFeMn',\n",
    "                                           'CoNiCrFeMn',\n",
    "                                           'Co5Cr5Fe40Mn27Ni26'\n",
    "                                        ],markers, colors, fillstyles)):\n",
    "\n",
    "        sarr_StrsDrop  = MultipleFrames2nd(path='StrsDrop%s'%GlassType,nrun=3,title='NegativeModulus.txt',ncols=2)\n",
    "        sarr_BandWidth = MultipleFrames2nd(path='StrsDrop%s'%GlassType,nrun=3,title='rc_d2min.txt',ncols=3)\n",
    "        assert sarr_StrsDrop.shape[0] == sarr_BandWidth.shape[0]\n",
    "        #--- fliter\n",
    "        ydata = sarr_StrsDrop[:,1] #--- first 2nd col is stress drop\n",
    "        xdata = sarr_BandWidth[:,1:3] #--- 2nd and 3rd cols are widths\n",
    "    #    print(xdata,ydata)\n",
    "        indices = np.any(~np.isnan(xdata),axis=1)\n",
    "        xdata = xdata[~np.isnan(xdata)]\n",
    "        ydata = ydata[indices]\n",
    "        assert xdata.shape == ydata.shape\n",
    "    #    print(xdata,ydata)\n",
    "        Xdata += xdata.tolist()\n",
    "        Ydata += ydata.tolist()\n",
    "        #\n",
    "        ax.plot(xdata,ydata,'.',\n",
    "                markersize=10,\n",
    "                color=color,\n",
    "                marker=marker,\n",
    "                markerfacecolor=fillstyle,\n",
    "                label = '%s'%GlassType)\n",
    "        #\n",
    "    #ax.legend(frameon=False, fontsize=16)\n",
    "    #\n",
    "    DrawFrame(ax, 0.2,0.09,0.15,0.06,0.04)\n",
    "    #\n",
    "    plt.savefig('SoftModuAndWidth.png',dpi=2*75,bbox_inches='tight',pad_inches=0.0)\n",
    "    plt.show()"
   ]
  },
  {
   "cell_type": "markdown",
   "metadata": {},
   "source": [
    "### correlation coefficient"
   ]
  },
  {
   "cell_type": "code",
   "execution_count": 259,
   "metadata": {},
   "outputs": [
    {
     "name": "stdout",
     "output_type": "stream",
     "text": [
      "-0.2746329261967721\n"
     ]
    },
    {
     "data": {
      "image/png": "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\n",
      "text/plain": [
       "<Figure size 288x288 with 1 Axes>"
      ]
     },
     "metadata": {
      "needs_background": "light"
     },
     "output_type": "display_data"
    }
   ],
   "source": [
    "def zscore(x):\n",
    "    y = np.copy(x)\n",
    "    y-=np.mean(y)\n",
    "    y/=np.std(y)\n",
    "    return y\n",
    "\n",
    "if not RemoteMachine:\n",
    "    fig = plt.figure(figsize=(4,4))\n",
    "    ax = fig.add_subplot(111)\n",
    "    ax.set_xlim(-2,2)\n",
    "    ax.set_ylim(-2,2)\n",
    "    ax.set_xlabel('$w(A^o)$',fontsize=16)\n",
    "    ax.set_ylabel('$H$(Gpa)',fontsize=16)\n",
    "    ax.tick_params(labelsize=16)\n",
    "    x = zscore(Xdata)\n",
    "    y = zscore(Ydata)\n",
    "    ax.scatter(x,y,\n",
    "                   marker='x',s=50,\n",
    "    #               label=GlassType\n",
    "              )\n",
    "\n",
    "    print(np.sum(x*y)/len(x))"
   ]
  },
  {
   "cell_type": "markdown",
   "metadata": {},
   "source": [
    "# Plastic Deformation\n"
   ]
  },
  {
   "cell_type": "markdown",
   "metadata": {},
   "source": [
    "## Compute Displacements\n"
   ]
  },
  {
   "cell_type": "code",
   "execution_count": 100,
   "metadata": {
    "scrolled": false
   },
   "outputs": [
    {
     "name": "stdout",
     "output_type": "stream",
     "text": [
      "BoxBounds.shape=3,3 is not (3,3)!\n",
      "add [0. 0. 0.]!\n",
      "warning: attributes x, y, z are now unwrapped!\n"
     ]
    },
    {
     "data": {
      "text/html": [
       "<div>\n",
       "<style scoped>\n",
       "    .dataframe tbody tr th:only-of-type {\n",
       "        vertical-align: middle;\n",
       "    }\n",
       "\n",
       "    .dataframe tbody tr th {\n",
       "        vertical-align: top;\n",
       "    }\n",
       "\n",
       "    .dataframe thead th {\n",
       "        text-align: right;\n",
       "    }\n",
       "</style>\n",
       "<table border=\"1\" class=\"dataframe\">\n",
       "  <thead>\n",
       "    <tr style=\"text-align: right;\">\n",
       "      <th></th>\n",
       "      <th>x</th>\n",
       "      <th>y</th>\n",
       "      <th>z</th>\n",
       "      <th>id</th>\n",
       "      <th>type</th>\n",
       "      <th>xm</th>\n",
       "      <th>ym</th>\n",
       "      <th>zm</th>\n",
       "      <th>dx</th>\n",
       "      <th>dy</th>\n",
       "      <th>dz</th>\n",
       "    </tr>\n",
       "  </thead>\n",
       "  <tbody>\n",
       "    <tr>\n",
       "      <th>0</th>\n",
       "      <td>4.73092</td>\n",
       "      <td>-20.57810</td>\n",
       "      <td>-41.4164</td>\n",
       "      <td>1.0</td>\n",
       "      <td>4.0</td>\n",
       "      <td>4.73092</td>\n",
       "      <td>-20.57810</td>\n",
       "      <td>-41.4164</td>\n",
       "      <td>-3.608210</td>\n",
       "      <td>2.17550</td>\n",
       "      <td>-0.0385</td>\n",
       "    </tr>\n",
       "    <tr>\n",
       "      <th>1</th>\n",
       "      <td>-5.47277</td>\n",
       "      <td>-15.50650</td>\n",
       "      <td>-11.9452</td>\n",
       "      <td>2.0</td>\n",
       "      <td>2.0</td>\n",
       "      <td>-5.47277</td>\n",
       "      <td>-15.50650</td>\n",
       "      <td>-11.9452</td>\n",
       "      <td>-4.445540</td>\n",
       "      <td>1.78990</td>\n",
       "      <td>-0.5205</td>\n",
       "    </tr>\n",
       "    <tr>\n",
       "      <th>2</th>\n",
       "      <td>-35.09840</td>\n",
       "      <td>26.30910</td>\n",
       "      <td>27.5002</td>\n",
       "      <td>3.0</td>\n",
       "      <td>2.0</td>\n",
       "      <td>-35.09840</td>\n",
       "      <td>26.30910</td>\n",
       "      <td>27.5002</td>\n",
       "      <td>5.622822</td>\n",
       "      <td>-1.83440</td>\n",
       "      <td>-0.0146</td>\n",
       "    </tr>\n",
       "    <tr>\n",
       "      <th>3</th>\n",
       "      <td>-35.96470</td>\n",
       "      <td>-2.19362</td>\n",
       "      <td>-39.5794</td>\n",
       "      <td>4.0</td>\n",
       "      <td>2.0</td>\n",
       "      <td>-35.96470</td>\n",
       "      <td>-2.19362</td>\n",
       "      <td>-39.5794</td>\n",
       "      <td>-0.076878</td>\n",
       "      <td>-0.88144</td>\n",
       "      <td>0.0235</td>\n",
       "    </tr>\n",
       "    <tr>\n",
       "      <th>4</th>\n",
       "      <td>30.55360</td>\n",
       "      <td>-33.67560</td>\n",
       "      <td>-25.6883</td>\n",
       "      <td>5.0</td>\n",
       "      <td>2.0</td>\n",
       "      <td>30.55360</td>\n",
       "      <td>-33.67560</td>\n",
       "      <td>-25.6883</td>\n",
       "      <td>-6.285400</td>\n",
       "      <td>-0.01520</td>\n",
       "      <td>0.4930</td>\n",
       "    </tr>\n",
       "  </tbody>\n",
       "</table>\n",
       "</div>"
      ],
      "text/plain": [
       "          x         y        z   id  type        xm        ym       zm  \\\n",
       "0   4.73092 -20.57810 -41.4164  1.0   4.0   4.73092 -20.57810 -41.4164   \n",
       "1  -5.47277 -15.50650 -11.9452  2.0   2.0  -5.47277 -15.50650 -11.9452   \n",
       "2 -35.09840  26.30910  27.5002  3.0   2.0 -35.09840  26.30910  27.5002   \n",
       "3 -35.96470  -2.19362 -39.5794  4.0   2.0 -35.96470  -2.19362 -39.5794   \n",
       "4  30.55360 -33.67560 -25.6883  5.0   2.0  30.55360 -33.67560 -25.6883   \n",
       "\n",
       "         dx       dy      dz  \n",
       "0 -3.608210  2.17550 -0.0385  \n",
       "1 -4.445540  1.78990 -0.5205  \n",
       "2  5.622822 -1.83440 -0.0146  \n",
       "3 -0.076878 -0.88144  0.0235  \n",
       "4 -6.285400 -0.01520  0.4930  "
      ]
     },
     "execution_count": 100,
     "metadata": {},
     "output_type": "execute_result"
    }
   ],
   "source": [
    "\n",
    "#--- extract atom and box properties\n",
    "atoms = lp.Atoms( **lmpData.coord_atoms_broken[itime].to_dict(orient='list') )\n",
    "#\n",
    "box = lp.Box( BoxBounds = lmpData.BoxBounds[itime] )\n",
    "box.BasisVectors( AddMissing = np.array([0.0,0.0,0.0] ))\n",
    "  \n",
    "#--- wrap coordinates\n",
    "wrap = lp.Wrap( atoms, box )\n",
    "wrap.WrapCoord()\n",
    "wrap.Set( atoms ) #--- atoms: set wrapped xyz     \n",
    "\n",
    "#--- print actual xyz\n",
    "# PrintOvito( pd.DataFrame(atoms.__dict__), \n",
    "#              open( 'xyz_actual.xyz','w'), \n",
    "#              footer = 'ITIME=%s'%itime,\n",
    "#              attr_list=['id','type','x','y','z'])\n",
    "\n",
    "#--- map to square box\n",
    "mapp = lp.Map( atoms, box ) \n",
    "mapp.ChangeBasis()\n",
    "mapp.Set( atoms ) #--- atoms: add mapped xyz\n",
    "\n",
    "#--- print mapped xyz\n",
    "# PrintOvito( pd.DataFrame(atoms.__dict__), \n",
    "#             open( 'xyz_mapped.xyz','w'), \n",
    "#             footer = 'ITIME=%s'%itime,\n",
    "#             attr_list=['id','type','xm','ym','zm'] )\n",
    "\n",
    "#--- include copies\n",
    "copy = lp.Copy( atoms, box )\n",
    "copy.FullCopies()\n",
    "xatoms = copy.Get()\n",
    "\n",
    "#--- print mapped xyz\n",
    "# PrintOvito( pd.DataFrame(xatoms.__dict__), \n",
    "#             open( 'xyz_full.xyz','w'), \n",
    "#             footer = 'ITIME=%s'%itime,\n",
    "#             attr_list=['id','type','xm','ym','zm'] )\n",
    "\n",
    "#--- compute displacements\n",
    "#--- need attributes for the reference state\n",
    "atoms0 = lp.Atoms( **lmpData.coord_atoms_broken[0].to_dict(orient='list') )\n",
    "box0 = lp.Box( BoxBounds = lmpData.BoxBounds[0] )\n",
    "box0.BasisVectors( AddMissing = np.array([0.0,0.0,0.0] ))\n",
    "wrap = lp.Wrap( atoms0, box0 )\n",
    "wrap.WrapCoord()\n",
    "wrap.Set( atoms0 ) #--- atoms: set wrapped xyz    \n",
    "mapp = lp.Map( atoms0, box0 ) \n",
    "mapp.ChangeBasis()\n",
    "mapp.Set( atoms0 ) #--- atoms: add mapped xyz\n",
    "copy = lp.Copy( atoms0, box0 )\n",
    "copy.FullCopies()\n",
    "xatoms0 = copy.Get()\n",
    "#\n",
    "cdisp = lp.ComputeDisp( xatoms, box, xatoms0, box0 ) #--- pass full copies!\n",
    "cdisp.SetWrapped() \n",
    "uatoms = cdisp.Get(attrs = ['id','type','x','y','z','xm','ym','zm','dx','dy','dz'] ) #--- all atom-wise props\n",
    "#\n",
    "pd.DataFrame(uatoms.__dict__).head()"
   ]
  },
  {
   "cell_type": "code",
   "execution_count": 74,
   "metadata": {},
   "outputs": [],
   "source": [
    "# #--- shuffled displacements\n",
    "if ShuffleDisp:\n",
    "    xrand = np.c_[uatoms.dx,uatoms.dy,uatoms.dz]\n",
    "    np.random.shuffle(xrand)\n",
    "    junk = np.c_[uatoms.id, uatoms.type, uatoms.x, uatoms.xm, uatoms.y, uatoms.ym, uatoms.z,\n",
    "           uatoms.zm]\n",
    "    cols = [u'id', u'type', u'x', u'xm', u'y', u'ym', u'z',u'zm']\n",
    "    #np.c_[junk,xrand]\n",
    "    uatoms = lp.Atoms(**pd.DataFrame(np.c_[junk,xrand],columns=cols+['dx','dy','dz']).to_dict(orient='list'))"
   ]
  },
  {
   "cell_type": "markdown",
   "metadata": {},
   "source": [
    "### Print"
   ]
  },
  {
   "cell_type": "code",
   "execution_count": 75,
   "metadata": {},
   "outputs": [],
   "source": [
    "#--- get a chunk\n",
    "# cptmp = lp.Copy(atoms0, box0) #--- important: must be reference frame!!\n",
    "# indices = cptmp.isInsideExpanded( np.c_[xatoms0.xm,xatoms0.ym,xatoms0.zm], \n",
    "#                                   epsilon = 0.0, mode = 'isotropic' )\n",
    "\n",
    "\n",
    "# PrintOvito( pd.DataFrame(uatoms.__dict__)[indices], \n",
    "#             open( 'xyz_expanded.xyz','w'), \n",
    "#             footer = 'ITIME=%s'%itime,\n",
    "#             attr_list=['id','type','x','y','z','dx','dy','dz'] )"
   ]
  },
  {
   "cell_type": "markdown",
   "metadata": {},
   "source": [
    "## D2min"
   ]
  },
  {
   "cell_type": "markdown",
   "metadata": {},
   "source": [
    "### Compute pair correlation function"
   ]
  },
  {
   "cell_type": "code",
   "execution_count": 90,
   "metadata": {},
   "outputs": [],
   "source": [
    "if PairCorrelationFunction:\n",
    "    rdf = lp.ComputeRdf(  atoms, box, \n",
    "                       cutoff = cutoff, NMAX = NMAX)\n",
    "\n",
    "    rdf.Distance(WRAP = True)\n",
    "    rdf.PairCrltn( nbins = 32 )\n",
    "    bin_edges, hist, err = rdf.Get()\n",
    "\n",
    "    #--- plot\n",
    "    plt.errorbar(bin_edges,hist,yerr=err,fmt='-o')\n",
    "    plt.show()"
   ]
  },
  {
   "cell_type": "markdown",
   "metadata": {},
   "source": [
    "### partition the space, make fits, and compute squared errors "
   ]
  },
  {
   "cell_type": "code",
   "execution_count": 101,
   "metadata": {
    "scrolled": false
   },
   "outputs": [],
   "source": [
    "if DminAnalysis:\n",
    "    #--- Create \"Atoms\" object with dx,x attributes and\n",
    "    #--- atoms within the original box\n",
    "    cptmp = lp.Copy(atoms0, box0) #--- important: must be reference frame!!\n",
    "    indices = cptmp.isInsideExpanded( np.c_[xatoms0.xm,xatoms0.ym,xatoms0.zm], \n",
    "                                      epsilon = 0.0, mode = 'isotropic' )\n",
    "    #--- filter the full copy\n",
    "    atomd = lp.Atoms(**pd.DataFrame(uatoms.__dict__)[indices].to_dict(orient='list'))\n",
    "    #\n",
    "    d2min = lp.ComputeD2min(atomd, box0, dlgr)\n",
    "    d2min.Partition()\n",
    "    d2min.D2min()\n",
    "#    pdb.set_trace()\n",
    "    d2min = d2min.Get(attrs=['id','type','x','y','z','xm','ym','zm','d2min'])\n",
    "    #\n",
    "    pd.DataFrame(d2min.__dict__).head()"
   ]
  },
  {
   "cell_type": "markdown",
   "metadata": {},
   "source": [
    "### Print"
   ]
  },
  {
   "cell_type": "code",
   "execution_count": 68,
   "metadata": {},
   "outputs": [],
   "source": [
    "if DminAnalysis:\n",
    "    #--- print \n",
    "    file_name = 'd2min.xyz'\n",
    "    try:\n",
    "        os.system('rm %s'%file_name)\n",
    "    except:\n",
    "        pass\n",
    "\n",
    "\n",
    "\n",
    "    PrintOvito( pd.DataFrame(d2min.__dict__), \n",
    "                open(file_name,'a'), \n",
    "                footer = 'ITIME=%s'%itime,\n",
    "                attr_list=['id','type','xm','ym','zm','d2min'] )\n",
    "\n",
    "    # #--- current frame\n",
    "    # d2minList=pd.DataFrame(d2min.__dict__).sort_values(by='id', ascending=True, inplace=False)['d2min']\n",
    "    # df = pd.DataFrame(atoms.__dict__).sort_values(by='id', ascending=True, inplace=False)\n",
    "    # #attrs = \n",
    "    # d2min2 = lp.Compute( atoms, box )\n",
    "    # d2min2.Set(np.c_[df,d2minList],attrs=list(df.keys()) + ['d2min'])\n",
    "    # attrs = ['id','type','x','y','z','d2min']\n",
    "    # d2min2 = pd.DataFrame(np.c_[list(map(d2min2.__dict__.get,attrs))].T, columns = attrs )\n",
    "    # PrintOvito( d2min2, \n",
    "    #             open(file_name,'a'), \n",
    "    #             footer = 'ITIME=%s'%itime,\n",
    "    #             attr_list=['id','type','x','y','z','d2min'] )\n",
    "\n"
   ]
  },
  {
   "cell_type": "markdown",
   "metadata": {},
   "source": [
    "### Interpolate"
   ]
  },
  {
   "cell_type": "code",
   "execution_count": 109,
   "metadata": {},
   "outputs": [],
   "source": [
    "if DminAnalysis:\n",
    "\n",
    "    #--- mean dist between atoms \n",
    "    natoms = len( atoms0.x ) \n",
    "    CellVectorOrtho, VectorNorm = lp.GetOrthogonalBasis( box0.CellVector )\n",
    "    volume = np.linalg.det( CellVectorOrtho )\n",
    "    dmean = 0.5*( volume / natoms ) ** (1.0/3.0) \n",
    "\n",
    "\n",
    "    #--- grid tiling mapped box with original size\n",
    "    #--- values are interpolated onto this grid\n",
    "    (xlin, ylin, zlin), (xv, yv, zv) = lp.GetCubicGrid( box0.CellOrigin, \n",
    "                                                     box0.CellVector, \n",
    "                                                     dmean,\n",
    "                                                     margin = 0.0 * dmean )\n",
    "    xi = np.array(list(zip(xv.flatten(), yv.flatten(), zv.flatten())))\n",
    "\n",
    "\n",
    "    #--- expand the original box\n",
    "    cptmp = lp.Copy(d2min, box0) #--- important: must be reference frame!!\n",
    "    cptmp.Expand( epsilon = 0.1, mode = 'isotropic' )\n",
    "    d2exp = cptmp.Get()\n",
    "\n",
    "    points = np.c_[d2exp.xm,d2exp.ym,d2exp.zm] #--- unstructured points\n",
    "    values = np.c_[d2exp.d2min] #--- corresponding values\n",
    "\n",
    "    grid_z = scp_int.griddata(points, values, xi, method='linear')\n",
    "    assert not np.any(np.isnan(grid_z.flatten())), 'increase ev!'\n",
    "\n",
    "    #--- make an object\n",
    "    d2intrp = lp.Atoms(**pd.DataFrame(np.c_[xi,grid_z],columns=['x','y','z','d2min']).to_dict(orient='list'))\n",
    "\n"
   ]
  },
  {
   "cell_type": "markdown",
   "metadata": {},
   "source": [
    "#### Imshow"
   ]
  },
  {
   "cell_type": "code",
   "execution_count": 107,
   "metadata": {},
   "outputs": [
    {
     "data": {
      "image/png": "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\n",
      "text/plain": [
       "<Figure size 432x288 with 2 Axes>"
      ]
     },
     "metadata": {
      "needs_background": "light"
     },
     "output_type": "display_data"
    }
   ],
   "source": [
    "if DminAnalysis:\n",
    "    #--- reshape value\n",
    "    nx,ny,nz = len(xlin), len(ylin),len(zlin) \n",
    "    value = np.c_[d2intrp.d2min].reshape(((ny,nx,nz)))\n",
    "\n",
    "    CellVectorOrtho, VectorNorm = lp.GetOrthogonalBasis( box.CellVector ) #--- box length\n",
    "    #--- xy plane\n",
    "    val = value[:,:,-1].copy()\n",
    "    np.savetxt('d2minBitmap.txt',val)\n",
    "    \n",
    "    PltBitmap(val, \n",
    "              xlabel = '', ylabel = '',\n",
    "              xlim=VectorNorm[0]*np.array([0.0,1.0]),ylim=VectorNorm[1]*np.array([0.0,1.0]),\n",
    "              zscore = True,\n",
    "              frac = 1.0, #--- plot a patch\n",
    "              title = 'd2min.png',\n",
    "              colorbar=True,\n",
    "            )\n"
   ]
  },
  {
   "cell_type": "markdown",
   "metadata": {},
   "source": [
    "##### Paper version"
   ]
  },
  {
   "cell_type": "code",
   "execution_count": 58,
   "metadata": {},
   "outputs": [
    {
     "data": {
      "image/png": "iVBORw0KGgoAAAANSUhEUgAAAaEAAAGICAYAAADoC188AAAABHNCSVQICAgIfAhkiAAAAAlwSFlzAAAPYQAAD2EBqD+naQAAADh0RVh0U29mdHdhcmUAbWF0cGxvdGxpYiB2ZXJzaW9uMy4yLjEsIGh0dHA6Ly9tYXRwbG90bGliLm9yZy+j8jraAAAgAElEQVR4nO2de5xXZdX210gyDgiIyEEE5KCgCIQIioSIKCQ+annI0hQTeTqY2vOSWfn6WvmYp/xYZh/TJ1JSM0wzI8IDSqhEiIqoCIKK4ChnVGZAHEac9w+EmXWtK/bt70Hvqa7vX7P2rH3vve+999zsdbHWKqurq6szIYQQIgO75D4BIYQQ/75oERJCCJENLUJCCCGyoUVICCFENrQICSGEyIYWISGEENnQIiSEECIbn0pxqqurs82bN3/c5yKEEOJfhKZNm1pZWVmhX9KX0ObNm62mpuZ/fVJCCCH+9ampqUn+cEn6EjIzKy8vt/Ly8pJPSgghhECkCQkhhMiGFiEhhBDZ0CIkhBAiG1qEhBBCZEOLkBBCiGxoERJCCJENLUJCCCGyoUVICCFENrQICSGEyIYWISGEENnQIiSEECIbWoSEEEJkQ4uQEEKIbGgREkIIkQ0tQkIIIbKhRUgIIUQ2kpva/TvywQcf2PLly61FixZJbWqFEKKxUldXZ9XV1daxY0fbZZfG8/2hRWgHLF++3Dp37pz7NIQQYqdRWVlpnTp1yn0a29EitANatGhhZmaVv/2ttWzWbOvGpUuj45FHOnPmih7BZdYsb7NO6Th0VVX0eestb7N/0OB+r78efTZt8vb77xePiy3jcR8zs23TtI2KiuiTcizkgw/iti1bin3wnD+8pY6mTb393nvF54PnzI5dV1c8Ls7FpxLeSHYs3Lb77tGnY0dv4zWsWBH32bix+Ngp54fzvttu0Qfnhz0X553n7XHjok+rpc85u7b3p53961/HfZYs8fa++0af9eu93a5d9NlvP28fdlj0qfj79LgR+fGPvd2vX/TBheTgg3c4ZNW771rnL395+9+1xoIWoR2wLQTXslkza9m8+daN7K8qvPHNm7cMLvjSsUUI/xjuumv0wT9STZoU+7CXGaOLRXapPuzYuK3UyAD+sfskz6eUhbPUOS3aJ3UcfFZSrntnnV/KsVJ88D1qGV81awnvYy04sVcY38eURZKNs+3PxI7OrwKdGPgS4x8Hs3iSKeOaNTppofEEBoUQQvzboS+hj8idzb8Wtr39oLdZ2GX0aG8fcsDG4LNsrf+XzCuvxHFmzPD2M89EH/aVhWCYCv/VycJC6JMStmL/Enz3XW9v2FA8Dgv94dgpoUl2LAwh4j86WXgJfdh84bGZD47NjpXyj2KcH3Zvli/3Nv5DmoV/Swm/sX3wnqeEFJkPhsBYJGDhbj4s9e7z/vcYMmPbMHRpZlZZ6e3XXos++CzR8OrX4G/ILbdEn8sv3/E+/2i/f0L0JSSEECIbWoSEEEJkQ4uQEEKIbEgT+oh85jNx24svenvevOiD8fYtu8X/yYIxetRtzMxWrvT2smXRB+PSaJtF/QSPxf53UMp/D8c4PtMmUJdh14kaR4ous9de0afo/MyKNSGmRyHMB8dh14lzmHIspjPg/WLzXqSPpeg07J7vuae3S72fuI2N8+ij3mb/Ff2dd7yNc8H2QX2R6bH437jZNRzeCYSjldGHvlzIVVd5+zvfKd7nnxR9CQkhhMiGFiEhhBDZ0CIkhBAiG9KEUrj33u0B/m7j9w6/7na437ZpU5vgM3eut7t0iYdBzeXpp6MPxqpZHg7G37t3jz4Yb0/J3Ukp24PxdqZN7KyKBHg+TEPYYw9vp2gRqLmw/Bmcn5QyR6Ved0olATxnpgMieG9S8o/YPS+l1BA7Fl4Xu4aXX/b2dFIBBwsHYHknzPcxi3NRXR198DqHDYs+leZrTXbuVBedbrghbkMeeMDb7OF+zpcnspEjo8/pp+94jEaAvoSEEEJkQ4uQEEKIbGgREkIIkQ1pQimceGJ9gHrRovj7J5905jEnnxtcsObbnDlxGNR7pk6NPt26eRvzhsxiDBzzOMyiprF6tbcx18IshpRTcndYGDqlyjf6MC0Ct6GuxY7PtIgibSkl76VUrSQFnGd2nUiKRlUKKfX5GDjvLFUGt7F7hc8y6qhmZqNGefvmm72doh2yCvZ9+3qb6boLFni785gR0emSS+I2BHtUkIfpmfNvc/YhTMhtqC29+67Zb39bfOxPGH0JCSGEyIYWISGEENnQIiSEECIb0oRSePrp+iY9LDkAClq1HhHjwPPmeTHn/vvjMBgDZ23g20AKEuvUe9xx3mYawhNPeHvtWm+zluApbblRo2KxfwxdMz2llE6cKZoHOxZqGik9dJCUfVL0qJQW4CnHT5mvlOOU2s67iJT6dynNRAcMiD6ot+6/v7cXLoz74DV07Rp9sMP20KHR56WXYMP8+dEphTFjCl2CFsde2oZ6dU1NaefyMaMvISGEENnQIiSEECIbWoSEEEJkQ5pQChs2mNXWbv35ttvi7w/2Pe1ZAgHWq2JxdNRuMHfHLOYzXHxx9Dlwyk/8hv794zgn+DpTWKqK6QcYo2d9WXA/pnGUQopuxOY0pV9PUU5SKZoHo9S8oZSafSn5UHi/cByWZoKUWv8Oz4fNRcp1NmnibabLoC757LPeZn2nli4tPva993p78eLoc8ABsIEl3JXC9deHTUtO9e/wUZ3ISTe8qdKEhBBCCI8WISGEENnQIiSEECIb0oRSOOAAs4qKrT/36BF//+UvO/OOu5oElzVrvM3i0mVl3t60KfpgHHrKlOjT4nTfjx77q5iZrSR5Sg1hMfuivjtmUQ9geUII0yJw7JQ+QCk+7HyK8o1S6tYx0CeltxLTcvAaUvKh2Fzg+aTUyEMdic1fSv4Y9r1ieiLOD5tjeNXsiC7LotNQr8muXOlfLNSV2LHfeCP6tGvn7Zkzo89993n7HFbcbvbsuK2ICy8Mm3riHLJj9e5d/zP7g9II0JeQEEKIbGgREkIIkQ0tQkIIIbIhTSiFTp3qhRUSz13xXmtnP/98HALj29skph3RuXPchvWiMHfBzOyuu7zNYv04TorOgD5My0nJ3SlF00jRqBg47yk6VtEYKfswmCaE58O0EtRh2PylzAUeH8dhc8M0KgTHSdEBGTinWAPRjNR0IwUW57/oNaDW/vWk54fvLLu/KXOMeXy33BWLO35t7HC/oVevOBAmFi5ZElx64r1ZSS6sYc7ixo3x940AfQkJIYTIhhYhIYQQ2dAiJIQQIhvShFLo3Lk+WB+KQ5lNnuztlJpvLPaPPkxDwJYhoaeIxRp0bJyUnAwE9YGU/JmUODrTInAbi9HjsTp2jD7LlxcfH+cCbXavkFLrrqXkOuG8p/QlSskTKmWOU3oOpehl7PxQqxk1KvqgfPKbO2PSz2OPeftXv/I2kVfs97/3NntnWF8u5JJLvH3SwMrodOcj3j7llOiD9SfJH5X2XWDCWBOkhg9LykOaAX0JCSGEyIYWISGEENnQIiSEECIb0oRSOPnk7YHu9c/HWlVYB+7EE+MQ++3n7Xnzog/WtHrqqeiDGhAL82LsmuVF4LaUWm1IqfXc8FjNmkWflPptqD2w0ll77rnjcdk54vmw80vRPfA+pGhCTItI0YSKeiKZFednMW0On5OUfkyobZrF60qpL3c/qW/YAtJuJkyIPijbNpn/nLP379Mn7NOnj3/5WO04hLQNs0GDYMNProtOAwd6+/jjo8/06d6+9trog9cxeHD0GTeu/ued1RhrJ6MvISGEENnQIiSEECIbWoSEEEJkQ5pQCjfeuL12XKs508KvTzlxuLPnL9o1+GAbIhafnzXL2ywvoXt3b7dqFX2efdbbTBNCrQRzbFgPImxHMn9+9EnJK0F9gOlaOD9Ml0npFZSidaGGsHTpjscwS+uzgxpVSh09ds/x+Ck13tixcGy8N2yO8TlJuQam96TkJOEcshqM557r7XfeiT6oST269tPObjYn7tOzp7eZJoSpOqz+I2q9nebODT6LzrvB2Uzj63YiPGDsQpkGhDQUzTZuNDvppOJ9PmH0JSSEECIbWoSEEEJkQ4uQEEKIbEgT2gmsecdrQCy/oW1bb7OY+EsveZvljGzZ4u3q6uiDoWIWc8a4OeY8DB8e93kESl6hdmIWdQem97DwNoL6ANMiMD+L6TKoc7B5R00Dx2XXgPlaKToN03tSau2xsZGUHk2ljIHXznQjtg3BuWDPAKuDWOTDNEfUN1FbwvtrZnbEEd7GVB4zs/vu8za+r2Zmhx0GG0gPn17t3nb2pt1aB59VzQ5xdvufkxNi+UX/hOhLSAghRDa0CAkhhMiGFiEhhBDZkCb0UbnwwrBp6vcWOhvrW5lFzYXF3zFu3rlz9MF49957F/usXBl9MMcH9RTMCTJLy1dBzSWlFlpK7xuma+F+Ke1SOnWK23aFtK5164rHWbt2x+fCSOnFQ9pVBf2O1cjDe1xK76KUOoSsLlyKJoR14UrJY2LHYuc8ZIi3BwzwNus71WYPEFvJCTZt6h+UO++M40yd6u2zb789OkEduIovfSm4PFPtc5vaP/xwHOdfBH0JCSGEyIYWISGEENnQIiSEECIb0oRS+OCD7THiFdMXhl+f/e6rzt7UsUfwqZjxgLPXDBkdfB56yNtMW8IadH37Rh/sS0Ta0wcwZl9XF30WL/Y2y/XAOH6KJsRI6VGD9duYzoY6AzsfnGc8PzyOWZQMUuYC67CZxevq1i36YH3AV16JPin5M7gNdUA2NwjTcnA/phWm5Ibhfmy+MMfn8sujz8j3/btW18e/ayy/rc1uxQ2PmjTxmhDm7JmZDRsGG+a8GJ2gV1DND68KLgei1hVL0KXR8Iapn5AQQgjh0SIkhBAiG1qEhBBCZEOaUAIv73uM7b77VtFkOakXtffs3zu7giSj1J15lrOf/EscB/NVGJgPwnKAUBthmtDy5d7G3BPWKwh7rGCujFmaroA+pfafQf2EaWioRTDdCPOCUKdhehTOH5sLzGlhGgdeJ9NOsD5gqfkzRXlCTPtCfYzlBOG9YZoQbmPj4L3B3DozsxEjvI36j5mZ9enjzL/9zf961aq4y/v9fAMtlk/2xBPeDnXizKxbp1q/4dxbotNTTzmzfOofg0s5/jEoL4/jIETzWdT1s9t/3rAhoThfBvQlJIQQIhtahIQQQmRDi5AQQohsSBNKYJdd6uPeLEfjqPPO8xtIUHzyZG9jjxOzqBkw/QJzHGbPjj4Yx2f5DKiDpOTTpOR6pOQA4XUxDQHn4qCDos9RR3mb1dG75x5vo5ZjZta9u7cxf4bdB9RPWI8a9GGa1ZtvenvJkuiTUkcPYfcvRa9DUuoF4jZWm61DB29jXppZbL3TvHn0efppb1+xPubbLf+zt/F+tm8fx8U5TnlOPntMfLFqP/BazgcPTA8+5ZN+4zfgHwczszPOiNuKuOGGsGmXG+o1IaarNgYa6WkJIYT4d0CLkBBCiGxoERJCCJENaUIJ9KhZYC133Rrg3/9AIowsgGJtpPn85yDGu2BB/H//mA+CtpnZvHnefv316IPx9pTaZ6gXYC0yBhsXY+usXBVqCBizN4s18j73uehTpOWYxXwUprlgjhS7LgQ1DlbzDVM7mCaD55wSty+1BBjOBWpdbNyUnkN4DW3aRB/sk5SiOZLXKPTY2mef6FNR4e2uXb3N8r7wuWB5TCccCglG06Owu+vvfuc3fP/7cSAsMMde4uOP9/aUKdEHIQUf96+pT/irqklouJUBfQkJIYTIhhYhIYQQ2dAiJIQQIhvShFJ46KH6wDc2rDeLSSJf+UrhkCyX4k9/8jaLm2P+Aotv4zYW38ZYP+oDLDcmpc8O5huxOmcp+SqvvebtWbOiD+YSoUZkxvNREKz7hnoYagpmcU7btYs+lZXeRq3CLM4hOxbLTUPw3rB8nqJ8I3bPUzQ+nAt2f7EXFepwZrEOIqsdh/XaTjwx+rR532s3lZt9YlBZWdwH573Hbm9GpyuuLj746ad7mzUvGjPG27ffHn2GD/f2aadFn9/7mpU2fnz0+UuDIpWlJIp9AuhLSAghRDa0CAkhhMiGFiEhhBDZkCaUQm2tWZMPc4EmTAi//sNpdzt7JgnxYsz5/vujD8b+WQi3lL4sLI6PuR2Yb3HIIXEfTEPA/kJmsXdRiibDcmNw24wZ0QevnfWJQc2FaTeoRbB8IwSvi+3z6U97u0mT6PPqq95mc4rnzHpI4fGZFofPBe7DnqWiMdi2NWuiD+pjrDYbalSYi2UWz5GVXVu50mtAKe/D0KHe7rF0anR68EFvM00ohdatnbnh8JHBZfd3L/cbrruutGPV1vKfGxH6EhJCCJENLUJCCCGyoUVICCFENqQJpXD00dvFhS3fvzT8et4PvT1nThwCa1PNnx99MFaNeTAMzHExi3kuTK/4zGe8feCB3mY5N6hHXX999EEtguV6YC4R2mZpOUnYS4n1VkJdjelPODYem2lzRfqKWbx/TOPAHkNMs8KaaikaGtNu8DrwXrHcIoT1MsJxWA4Qnh+7hpSeVviOLFgQfbC+HfaiYnpUmPf+n49OqMswnQYn6Oc/Dy7P3OFPetO84GJDL7ssbiziq1+N2xrmEm3YYPbjH3/0cT9m9CUkhBAiG1qEhBBCZEOLkBBCiGxIE0rgrW6HWG2LrYkhqxfH3/fv7+3nY5uRkOfCdBDUJljeBuoKLA8HY+msL8u6dd7GuD5Lgdh1pU/2WDumc/CZONHbkBJhZvEaUvrjsBQH3MbKdKWUyyrqrcTA+8d0kIEDvc3mAued3SvUaphWiBpLSo4Z+jAdCZ9JdmzUIFHDMovPKbvnmEvH9ESUXLAMm5lZ347wcMOFrvpUbEIUni92Q48+2tt/+1v0OfRQb5MEt0O6Q/8gLBppZjZ6dNyGXAr69OOPB5d1zerf0erqhCZhGdCXkBBCiGxoERJCCJENLUJCCCGyIU0ogUWLzJo33/rzPPJ/+jdt8jbTcjCWzfJKcD/Wcwjj5swHY/RYz83MbO7cHe8zdmzcpz1cfPv2URPCvJdWreI4PXt6u3fv6IP10di8o/aG12CW1t8I5x21E5Ybg3oK0y/wOhkoK7C8L3xWOsdpt7Ztd7yPWZwfrFXINCHUmti4KdoSjsNykvBebdkSfU4f5fWemQvbRKeu/oZtauZ9FpB8Mjy/TkNIotwFF8RtCD64RKexqVCXjuX3pHDFFd6+6abgsvA/rtr+88aNpR3m40ZfQkIIIbKhRUgIIUQ2tAgJIYTIhjShBA7fNN1a7rJVFPpzZez9gTDdAXNjsL6VWexpssce0QfzNFCPYsdn9chQH8Acm5/9LO5z3HEnOHshia1jXyIW18fzY1oOsmhR3Ia9d9i8p+gVmLOCugfTL1BDqKmJPigPYDsas3hdBx8cfdizgqBOtE3D/CjjsD5FOKcp9dwY6MNqAeLYZ59NBpo+3ZlDhw8PLrfd6wWyvfbyv2e6G+ollZW7Bp+nnvIFFm/49rfjQKee6u1rr40+F17o7c9+Nvo89FDcVsSIEWHT0E3Ttv9ctalxikL6EhJCCJENLUJCCCGyoUVICCFENqQJpXDaaWZlZWZmtsv4GPzHWllMQ0CdgcXEmX6CdOrkbZbDUulLvNFaXn37eruuzturVsV9sHcLO/a++3qb1cjDGmosrwr1i/Xrow9qXSyHBXNhUvSnov5CbNubb0af++7zNikjFmqqMc0KezstWxZ98J5/6UvRB8fG+4k9r8yiTsN0JbzH7H6iJsT6CeH9Y3UR7coJzqw79QvBBe/F5MneZu/nsGHeXrMm+vTrBxseeCA6MQ0IIT2GPjaOP77+Z3zJGwn6EhJCCJENLUJCCCGyoUVICCFENqQJJbD+1bVW92GAuuya+HvMQ2Bxc8y3YDlAu0JqAuvdgjXKWGwd4/gsZ2TwYG+jvrJ8edwHdZlXX40+qGvhNZmZ9erlbZw/s1jvjuWn7Left9l1Iq+/HrehVoJaxGWXxX0wjYPV5Soa1yzqdUxbijksxcd68cXoc+bnqp09vYsv9AcpOGbGNT0Er4tpLgh7blFLwjwwM7ODjznG2SxHCd8tfHZQCzOLOiC2DjIz+/KXYcN48gKgsJbSF+hjZP3qeg27qqrKrAsp5pgZfQkJIYTIhhYhIYQQ2dAiJIQQIhvShBJoNf2P1vLDgPXhh8e8hIcf9jarwYUx+5R8FeyXYxbzF5o0iT6oe/zpC3dGp54Qq4aA/O67V4RdUOvae+84LMbxWb20O+F0WH4Py9NAcD/sqWMW9RQ276hh/OhH3v7sSzeEfTqc/S1nM90I9QqmX+A2puWgxtGGtNDB62Q9h/BmfP8rvljh1KnxhuL9ZDlnmDPFtC+m6SF4P6ke1b+/M5s8/WRwOeigw5yNeVWsdhzL4UKqvaRmfU/5afDBvlfnL/9NHAibgJ1xRvS5667iE0J++cuwqVWDG1aWIvBlQF9CQgghsqFFSAghRDa0CAkhhMiGNKEUGjTtadcl/hrzZZjugOFYFltndcOQu+8u3idoSa+0j05z53obAvKr9zgi7IJaF9bbMjPr2tXbGEdnh2YaGmpdWD/NLM4zq/GWwqhR3j5+I0xy795hn0/P8vH388//RvD53ve8/dZb8diYL8PuJ2pA5HRCftaECdHnyP+CSYTktRY+bcjM4pwyXQufbVYXEa8TZREzswMOKPaxlpDQRg42GPabP9/bKc/JI4/EbZhfhM+6WbxX6/47NkVqMwV0olL0H8Y34jPoEv5Y87FGgL6EhBBCZEOLkBBCiGxoERJCCJENaUIJPHvgGbb77luTHy4eH3+P2gTTezBuzmLrGN5m+RZYg47VeLv5Zm9fM2lcdBo71tuQ6DLn1rgLxtaZxoE16FiNPKwdt88+0QdzklhuB54Pq9nXoYO3mebyJKaaXH6ytzGxiZzQyLGxz9StPcud/fjjcRi8nyxnCvOfUvKz2Hz94u+HOLsCUsFakbJiqMuwmm/4/DMtp2FbGzOup8ye7e3nnos+RxwIFzZrVvBZPMRrI1jOjeUs4XNRaj1DfJYnTow+3x5znN+AyUWlQv4YPNOnXpPasKHKzIhulBl9CQkhhMiGFiEhhBDZ0CIkhBAiG9KEEpgzpz5+znKAMDacUiOMaRMs3o6k5BK9/LK3Fz28LPj0qnrK2WvWljl7xYo4LuoOU6ZEH+zx069f9MG6cCz2j32IWL8e1FNYjB41FsxFMYva1udO9QcfNuycsM/JZ3q72zurgs+hh/r8LOzHZBZrxbEcINRYmN6DOmTr1tHnjju8PWBA9Ckal4FaJupwZvHZZvodXhc99um+dpwtXhxcULvBcc4/Pw77s595m+U64fPG7sPw4d5G/dPM4gPHGhxhM7E+faIPJM9taBJFvb9PrP+5kaYJ6UtICCFEPrQICSGEyIYWISGEENmQJpTAo4/WaxRME0Kdhmk72LOGaTsYKmbtPzAujbZZ1Fx62aLoBIHytvOmOftS35LFzMzWfWOks7E2mllaXS6sC8fmAnsipfRfYj6Ya8X6L6FmgNrNvffGfTCnZfz4WJ8PtTl2bMyrKiuLPqjFMT0F2uzQHLO6Om/jdbKcM5xT9kzi/cPagGZR9mDvCDtnZMrffXG24WfFvJd3H/X2iBHePvTQOC4+b9OnRx9ouUWfW3yW9t03+oQXfenS6POVrzjzqpui3oPnzJ6LhudTW0vOpRGgLyEhhBDZ0CIkhBAiG1qEhBBCZEOaUAKrV9fH85kGg2Ds2Czmq7CYOI6NOTdmsa8OCyeH1IlOnaITBpQTaDPe90Y59YzfBB8s5YX13czM3n7b2yxWnaJ9oV7B8oQwPyvFB7UJFvvHHkiYZ2IWtTl2nZgDxHSjdeu8zXKmUOdgt/yJJ7yNvZ52lk6ZAmqkZvHedO4cfTDXqbIy+mCtuIEDvc3ema9+1dssRwm1LuaDzyT7W2ArQbxhD+Wllzpz/HU3Bpef/MTbf/5zHKbhs409pxoL+hISQgiRDS1CQgghsqFFSAghRDakCSXQvXt9nlBKLxJWdwpj/6gpmMV4+/77Rx+Mk7M6dag//XpS8+Bz7iPQMAj7CxFevtRrQFN/EX1QT2H1qlJqlq2CUmwpugPT2XCeU+rzpehReK/YuKjvvPJK9OnZc8e2WXyejjsu+mB+FqtrhqB2yK4Tn+0UvTOlhh/mRzGfNm2iD+o5998ffbA+IJ4PKTcXWvqwFj84x0yzPcS3bLIeVc9GJ+Tkkwtdyh+fFrZVVPi8PcyHMvPzVVtr9mzC6XzS6EtICCFENrQICSGEyIYWISGEENmQJpTArf/3VWv5YWD+nnlRqEHdgdXg6trV25hDYmZWXu7tLl2iD+aa7LFH9EGdiOoggwd7GwULMvBKiNljbTQzs0GDvD1kSPQZ3ccnd+yzT0wImRZD4IWw3BOE5cLgNrSxtYtZ1AdY/kxR/pFZ1DhY/TvMQTqy39vRCQSVX91ZEVxQD8DrYlpOSt4LalZMp0S9id0rbJkzZkz0wRygv/wl+uA54/1kWs6rr3qb6W6vveZtVhcu9M9KEedK5NvDfE8wmgA1tr6oYNWGDfaHP3xsp1My+hISQgiRDS1CQgghsqFFSAghRDakCaUwevR2YeULL74Yfw/B/l9PjAXAevf2NtYDMzNrBS1DMG/CLMbWt+UvNaRDB29jHN3M7Jmh33I21hprvwGC5GYGqU6hh41ZrB2HWpiZ2XMdvQY0Z070wZplTMtB7YHluaBPil6BGsdee8V9UBPC+2sWr53VObvnnuLzu+IKbze7snXwGfSOF9HatRsZfBA8FtNp8DrZ+bEaakXHYvoT9lJiWhweC98ZsyjD4P0dPaIm7vSpx+M25Ax/kx99aZ/C87OEHkklgwdjAvGRR9b/zG5eI0BfQkIIIbKhRUgIIUQ2tAgJIYTIhjShFLp12x4wr2kW4/FLIcXm3F8cHMe49lpvn07qRUFRtYU3PxZcVq/2NvZKMYsxcRZbx370mPNT1b5H2Of5572dkjNy3XXRB8FrMou5TUzvwW0pulFKHyfUK9ixU3JssF4ga+GEOgwbBzWzq66KPnurJqcAACAASURBVKNHew3ossuiD+o7bL4QvJ9M/ylFW0rp0fQLUpuwbVtvs3uDeXoh9yrlwhlQ8G7tzOJjrzojanPtny8hCa5UejR4j99/PxZlbAToS0gIIUQ2tAgJIYTIhhYhIYQQ2ZAmlMKIEduTdlhMvNdXj/QbUP9hXHJJ3Hbeec7s2jS6TJoUTw1B3QP72pjFOmaoy/z0p3EfrHfHauRhCTpWUy2l/xJqCCmaENN7UurJITgO09Rw/thzMWWKt+fOjT54nQzUXBYujD6Yg8TGLeqTxOYKdT82blHtPbM4p+xeYf22jRujD+qdqG2m+Kx5r0XYp+Uwr92UjzsrDgxF55o16xZc8FjXXx+HOeEEf6yhm3aSRjRu3I63vfee2ezZO+dYOxF9CQkhhMiGFiEhhBDZ0CIkhBAiG9KEUjjiCLPmzc2M6yCTTvb5PLuTfJBzj/f/P//ut2L+wBVDvf3CfbFhT/fuvp8RajBmUUP461+jz4eXsx2MZS9YEPfBPA6mg5SSi8LA/Vj+TNGxzaL2kFI+C33YNWBfJ6a7oZ7CtC+skcfAa2Dng7oV88FjpehlqBux3LCUe5XScwi3sXcNc62YVoh6Xffu3m67W3XcaeJd3mbNjEDke2DhBcEFnwumaw09EW7WkUdGJxQQJ0yIPgjzaViAkp1MI0BfQkIIIbKhRUgIIUQ2tAgJIYTIhjShBNYfNMTqPgw0L34w/v6NN7y9eHH0mTixvbNZfkOoAzczFqc6ZJDXhOrq4jjz53ub9Rx6+mlvY6wfr8ksxv5TclEYqHGwuUjRcvD4TOPAcVjeUlG+DJsL1IAOOCD6YHsXrL1nFvUT1hIGr5P1N0Ldg+XhYC4YXiebY6y7FuqwWZruhz4pmhBqO2Zp51ykdW0oi3lCu196qd9w113BxyZPduaLm6MmhM/S326ZH3zsnLt3fIJmZhddVOyDEJF2/agvbP+5it28RoC+hIQQQmRDi5AQQohsaBESQgiRDWlCCbSqXWstN2/tS79yZdvw+zff9DaLkXfq5O1jj40+w4Z5+8/zzwk+G17wNsvbQA1j7Njog5oQXkN5edznuee8naL/pPSWYfoFajfsOhumQDDbrLheGjtHHIedH+aDVJPUk5TzQ9ixUAPCPkXMh+UfYa5OytwgzAd1GabTpOiJKXoP7sd8UGfD/LYZM+I+tf/jCyOedDHpCXbrrc4cSzQ+rBVX26tP8Nl1xYq4I5LSiOumm7z99a8Hl1ab66+rrJY8pI0AfQkJIYTIhhYhIYQQ2dAiJIQQIhvShFJo0WJ70gKL/WMMmsW7y8q8/cgj0QdrZbGcFtR7+vePPphfwXyw1hiWnWJlplDTSEk7YJpQioaA2gibU9Q4mG6Ukm9UpD917Rr3QU2P1dHDOWzdOvqk5DrhPLOaapgbxnKv8BzZfCEpOk3K/UzRx1J6DqG2xHxwTmfN8vacOXEfzOEa9NizwafTBSc5+2zQiMzMpk71N/nii+OxfrrqNr/h7bej0/jxcRsC/cdobtPw4cXjZEZfQkIIIbKhRUgIIUQ2tAgJIYTIhjShFNat2x6M7tVrn/DrJUu8/XJsA0Tj+AjWnEvJjZk0KfpgHbN27aIP6hXYvmTt2rhPSsw+pUcNXgPbB31YbgxqcSl1xJi2hJoQ6g5btsR9XnzR20wTau/LBdKeQ5g/xp4TzPlJqdXG7g3OaUpeEM4p6xWEPinPBbvnuC2lzh97R3A/7LmV8rzdTcq7ffvyy/0GciNOPtnbbL6e6u21m0H3fjc6Pfywt0eMiD6YAMWEwIYvMhO0GwH6EhJCCJENLUJCCCGyoUVICCFENqQJpfDSS2bNm5uZ2ReGxF+3bOl1ogdJzyHcxmLFGGLu2TP6dOjgbRY3xxj4vHnRZ40vlRWOzfraYMg5pbcM5vKYxTg+64+DMXp2PqiVsHppKTksqBPhdb4A9frMzJYt8/bxx0cfzMViuhHOzz5RcgzHX7o0+qTodXjtKZpQiu7GjoWgDpOSA8QkDjz+gAHRB3PyFi0qPjbqd6x24pPv9vXnsiT6fPhnYjuoF5vF+zfo6quDT/UGfxFTp8ZxvrjrnX7DV78anRYsqP+ZJf81AvQlJIQQIhtahIQQQmRDi5AQQohsSBP6iExbEIP2vXt7ewjRjVAPwFpVZjGfB3NIzNI0BIxLszj+rrt6GzWXFM0qJeeGHRtp0SJuawttm5j+lKJXoE9KfyOE7YPjYn8ms3g/WQ4Q6kYVFWnHLwWcH7yf7DgpWhNuSxmH+aAGxDQrfE6ZVoj3JiWvat06b//lL9EHS7x16xZ99t/f231iO6FQy+6OO8uCz8CB3kYN18xs4dFnOvvAN6ZFp38C9CUkhBAiG1qEhBBCZEOLkBBCiGxIE/qIjCS955+91fceYbXavvc9b08j4VvMBznmmOjTpYu3WQ7Qk096OyWOj+fM6qXhPqy+XFHODRtn/frog8dn+VBFNd/M0mqfFdWXY9oEjsPuQ0qvIMzpYhoHzjPTsFK0t6KcKZbThT7sfiIpGkyKboR9sZgPzp9ZzEPD+4c6nFnMS2M9pPAdWbEi+mDvLuw7xc4He4SZxbJwqOGamc2Y4e0DH/xFdDr//LitkaEvISGEENnQIiSEECIbWoSEEEJkQ5rQR2XixLDpQajrxGK8++3nbRZzxlwFjC+bme3fcpWzmzdvH3walosyM6usjONs2uTtmhpvs943KbXGMLbOQF2BxfXxWEwHQc2M6T2zZ3s7RTtBvYJpHCl9bVDTYBoHjsPyoUrJ1WHXWaQJsfuL55xS84354P1jPqhJMX0MYbXZcBx8JtmxMddv1Kjog+/wvfdGn1X+9bS9944+OO8s3wjPmdXIC8/KNPLS/hOgLyEhhBDZ0CIkhBAiG1qEhBBCZEOaUAJv9R9htS22Bsd/+cv4+9pabz/ySPR5/HFvr14dfbDuFO3TAjse1CdqQqg3TZ9eOEyobcf0gZTYf1HOzT8aG0mJ42P+DMtzwfNh+UZ4LOxvlHINTMtBnYjpZTinzAf7JDHtK0VzKerpU1RD7x/54HUy7Qt9mM6G58PmAn3Ys1Skj7G5wZwbzMczi5oQy91ByZjpWjj24MHR5/ADfKG6t6118Fm82NuLrrov+DR8lquryUPaCNCXkBBCiGxoERJCCJENLUJCCCGyIU0ogV/9qj4+fdFF8feY9zJpUvRBneH116MP1qbCXB4zC6JGWVUsvLbHHq0Kj4W1qVArScn1SMm5SYn9M1J8sF4bOx/UDNi4uB9qJz17xn1wTpnWhHoA0zhQS2L5Rh06eJtpX3is+fOjD4Lnw/SendVPqJV/JGltwo4dvY05N2axfxY7FuqdeH7smcT7N3Vq9EnRO/FeodZqZjZ3btwWx/EaEGrKZvHZQe3QzJ8j0xIbA/oSEkIIkQ0tQkIIIbKhRUgIIUQ2pAkl0LmzWUXF1p8r3ns7/L7iUt8s6AIWwEVxAouamdlV/9PG2Swm3nngYc6uro4+2JeIxaUxPozxbqavMN0DSdEHimqYmcXpSvFhOSN4fBYXx/1Q72E6DcbjmVaCeSQpPXQ6dYo+qCcyTag9pIuxuXjppbhtR+fCtjEdJGWOcRvTx3Bbjx7R5/nnvc10ENSE8Nlh14DvCHvepkzx9kEHRR/M9WPXiRrytr8tDcFcQ9Z/7L7f+YKPj80uDz5Ll9b/TDXmRoC+hIQQQmRDi5AQQohsaBESQgiRDWlCCZzx5Les5bZAcsdTo8Opp+7YZpCCblVVX3D2H/4Qd5s1y9tYz8rMbONGbzNNA2P0KTrNx+XDtIiU+nIpOUApYN4IagYN4+r/6FhMp2ne3NssNwY1AzbOscd6m9VmwzpiBxwQfVDHQo0vRVPr3j36DB/ubSJ3Bp0G+1eZRa2E9dzCZ4fNF+o7+KwzjZSNg2Ctwtdeiz6oA7JnEq8dNVyz+FyMH09OCLTnI4nLkbPqmx5Vbd5s3yA+udGXkBBCiGxoERJCCJENLUJCCCGyIU0ohcmT64O7KXoP48QTvU00oQ7Lvc3yhDAOzTQXzB1iPhhzRl2E1ddK6TeDx2LjpGhCKcdKqYVVdJ0M1EZYfhRqJXvuGX1QH2C6Q5Mm3u7XL/qg5oL9q8xibhM7H6yBN2aMt08Ysi7s89QSn7vGatKNGOFtzGsyM/vjH729PpY8DNfAcmwGDvT2okXRJ6XXE4LPG7tXmJOEGpFZPGd2DSn5bZg71KZN9LH/+Jq3b7kl+tzXoMdQSrHHDOhLSAghRDa0CAkhhMiGFiEhhBDZkCaUwDP3vma77741OWPQfd+PDljoady46APNb6o79gouR7fwdv/+cZg//cnby5dHn3UQ2k/RTkrJuWG10Ipq0rFtzAdj9KXWhSulH05KzB7Pj42LeUFMB8Gab0xDaL/hVb/h6quDz9cuvtjZ312yf/DB/LET3rvHb/h/fw37DAIRchCbjMVeqBn9zauCC+pqrOYbgr15zGI+VIsW0Qe1OKzntmxZ3AdzsVgPqQkTvP3KK9EHc51S6i2OHBm3Yd08dp322GPOPOTznYPLzVPXNDi3KrMRrYJPbvQlJIQQIhtahIQQQmRDi5AQQohsSBNKYNGi+v+3v+e4GO/uMXas30AKuk17pMzZXcnyv88+3sbYtlnsYbJiRfTBPBJW+2zlSm/vLE0oxQe3sWOVktKQ0rso5bpQl0mJ6zM9CueYHRvvOatrZpdc4m2mOUKC0TUoTpjZIYf6pKRNx/tahRVXXhnHvfZackLAVf6deOfL0eXoo73NrhOf944dow/ux+rULVzo7bZtvY1zbmY2alSxD6b2MT02RX8dNMjbrC/RgAHeRu3QzGzaDK8BXXhh9FmwoP5n9RMSQgghAC1CQgghsqFFSAghRDakCSVwRv8F1nJbMakuMb/HrrvX2506BZeug89y9v7dSXMZCGY3279PcIEWIjSXCPMiWPwd9QrMe2H6CmoaLKcFNRhWtwt9UrQlphFhnySWwpLS36iobhirY4c6EZFgQi4Myz3BXBNWj8yGDyEbgYQGTGec4e0ZM7w9OqWpDmHV77xYUjk3+uBz2mfjk9EJi8dNeDi4dIZJ7Hv++cFn7Dd94bVu3fzv2fN22C5P+Q3No65bVdXa2V26xHHatfM2y3Xq3dvbLN/oYbj0H/4w+owc6kWeRa9XBJ9etfXF/qo2bFA/ISGEEKIhWoSEEEJkQ4uQEEKIbEgTSmDlnr1tY4utteP2roo9V2z1am/ffntw2f9AaKiChcXMzCZNciaUmzOz2E9ojz2iD2oPWIfKzOxvf/M26isM9GH7oDbCtBLs6ZPS7yil5hsDx2b6Dl4H+rDrxPNj14B6QKuEsl2o1ZmZnTPvW86+8jSy3xyfHLYXyWHBXjyhfttllxWfICbUmNnq5+ucPXo4SUhBUWPNmujzFOgy118ffbBOIxEmcd7x3hx+eBzWpkzxNmnsdPLJpzibPUvY94e9n71AVr777uiD8hj7W7Dnnl4DYs/gii71unJ104TGShnQl5AQQohsaBESQgiRDS1CQgghslFWV1dXV+RUU1NjZmbl5eUf+wk1JqqqqqxVq1b26qvrrcWHmhDLMcA+Laz3R6szT/AbWALBzTc788abmgSXv0LLl4MPjsNgXsSNN0af+fO9XaSLMFieEOo9LEcppb4Wpqyk5CQx8H6x68Jj4T5HHRX36d7d24sWRR/M6WL6wBtveJvVqcNz3muv6DNihLdJ+cLQRwf1xd/dSrQcrB3HCrqhyHLNNdEHGTYsbsOTJqLfsq5HOnvixDjMD8ZXO7va/AvZYva04vMjD+mmY/w7XLFLTdwPxRx2QzF5jjzIty3x18k0oaFDvc2mtOEUVldXWY8erWz9+vXWsmXL6LwT+Shrhr6EhBBCZEOLkBBCiGxoERJCCJEN5QklsNfXTrGW24QCUsTpwSWHOfuee+IY92HuEBE5Vq31GhCrCzd1qrdnzYo+mP+RosGk5O7gtpQ+O0yDwXHw2GaxFBrzSckBSsklKqqJx3S3s071+sndk2Pdrgcf9Damk5nFPCp2DRi+Z3OB6TPPPx998DlAva5X/3gNxx77A2efODS42NEHgazMRFHQBjac/p/BBfNlmPxkC7z5g+53RJ8zfu9PhzXaKYK8nxUzQUvqE2s7bunuCzc+8EAceuRIb5eP+WLwOef2wc5ecWzUVvae9FO/odv/jQc7sl5bKk+oL5gDfQkJIYTIhhYhIYQQ2dAiJIQQIhvShFL45jfNmjff+vNFF4Vfnw56z267dQs+l/zE9yK58s2zg0/7M8/09vjxwefmKS84e8yYeLqo1WCPEzOzJUu8jboI01IwfyZFy2Gk9A8qZR+mp6ScM2olmDOFuTxmZg/MqCj0wbwgps3hPKfkPjEfTD1hNejw3qDswdoJsfwU5N13y5x9wne/G53uusuZ60gJxvvv9zar2Yd1EUdf/PnodMUV7DR3PqT50+vv7e1sLIdnZnZ8D983zMaNi04XX+zMvVni1003eZslojX8G7JxYxQPGwH6EhJCCJENLUJCCCGyoUVICCFENqQJpdC+fX3AnMSB7fM+Ln0S1tsys71Gf9Zv+EFl8XFJP5V9H/m1sydNOjf4PP20t7FVipnZSy95G7UTpu2gZsD0Fcw9SekDxMZBPYCVukKNhZ0z5uGwY+H54LFYXH/2bG/X1kYfDNEzLQd1LKZrocbH6ujhtadoc+jD7hXO1+LF0Qf1qEMP3Tf4tD/1VGez+4kttth1IsveijlJ+155ZfGORZB32M4/39uhIZNZt9WPOvuii44OPmveO9DZbe+9Nx4LJ5olmeF1fp7oYw1fdNbcqxGgLyEhhBDZ0CIkhBAiG1qEhBBCZEOaUAL/Z8JB1rTp1iD21bMXht+3ehCKXpEYb++rvSa0Zdr04NNkekKfExB49saG9WbWsaMv8IV9783MunTxNuo9TL9IqRWXUhcOfZg+gNoIGydF70nRPfB8UGt6883ifdh8pdS/S9GEEJZvhNuYT5HGwno/4Tmj/sPGZT1+Dj3U11R788no07att1naS9eu3mba16bjTnE21ls8ZcTbYZ9bfu/z+HpeMjL4HDUUhL/Jk+PBYYJatHshuLzXoa/f8PWvx3Hw4snLt2H0F5z9HVoir/5YmzeTm9cI0JeQEEKIbGgREkIIkQ0tQkIIIbIhTSiBk06qLx3X6vE/R4dtv9zG8ccHlzavP+s3rNg1jgP1tWzmzOiD9aKmRR2p5ZleE2Jt3jHE3L27t1NSCpiGkFKrLaVeGo7NxkHYOEW9gtg21D3YdRbVYTOL58xqoaXkXi1fHrchKT2j8N7g3LDzw33Yc4F1CNl9wGsgKTYhd61Dh+hTNK5Z7EM0Z463//AHr/+YmR1xhLePGrYl+NhcKKTHHowvfcmZj85uHlzegRSgfv3aBp/9jznGbyCF/fC9Hjs2nk7D+7Vxo9mtt0af3OhLSAghRDa0CAkhhMiGFiEhhBDZkCaUwLD9llvLFtVbjbe6RodOnbyNxdvMYs051nx+wABvY7CdsWvUlqC9kU2PKUnWGsLiQ4YUHwrzP1J0GtYHKCU3JiXfKEVPScnVQQ0IfZjegueXkt/DcmxQ92DjoHbDcmNwPzbvqFuhzfpO4TisbxKWNWO6Ee6Xohuxecc5ZOf82mveroQyjSzfbV8od/fAw02Cz+DBg5zdGt9XM/vTFL8f68eE18Ve8xEjfH25dqTXU+exZzl70MCB0alBzb6q6ur4+0aAvoSEEEJkQ4uQEEKIbGgREkIIkQ1pQinceWd9AH39+vh77P2BfUcY99wTt91/vzPXfOmC4NJ2pa9F9fIXLw0+U32qAtVBBg/2NrYiwZwNs5h/wXI0UK9g8XeM67P8FIybs2tAn5R+PSk6A+ogTF/BYzEf3MauE7excbC2HtONcD8271iODMdlWhPODZtj3Ma0L9SNUjQ+dj54/15/Pfrg2EuXepvVpHsSatkxXQv1ncGDo26E887eEbwGdq9mzPD2t8fXRaeHH/b2o49Gn4Y6UEoyWQb0JSSEECIbWoSEEEJkQ4uQEEKIbEgTSmHgwFgfriGjRn30MVkRJ6hF9fP7o8vTT/teJKz1PMazWWx940Zvb4FSWaxuF8bSV66MPilgzJ7FxFFnYH2AsP5YSu0zVuMNfVJ0JDxnNsd4zik5Smwc3I/NBZ7zXntFH5wffE7Y/WQaUNH5pfRWSvFhpdkQdm9wP5wv9s7gsVu1ij59+ux4XLPY76hnz+iDOVPsOtet8/bdvy8LPl+cMMFvKGoYhS99I0FfQkIIIbKhRUgIIUQ2tAgJIYTIhjShXFxxRdz2s585k+WMoBbBcjKwTB3TdzA8/Ne/Fu+DeSUp/V5S4vqMIp3GLIbAmZ6C2gMLm+PYpeQAsfPDbUyzwvPBe2cWdY9SdSPM82LjIKX4pOyz555xG+YJMY0Kr4vl8+C8o07TNrbvsSaQ8oP7mEVNlM0xaqusnBu+wzU10adNG29jHpOZ2QFnn+DsT5/eOzrdcEPc1sjQl5AQQohsaBESQgiRDS1CQgghsiFNKIXevc1atNj68/z5xf5z58Zt2GOINPB5o+3BzmbxbtQHOneOPpgjwmplYQx86lRv77df3Kc3hJy7dIk+WF8L63YxsB2TWVoeDuoypfqk5LAgqDuwucC6YUy/w2OlHDvlGlBfMSvOz0oZl+kguC2lt1K/fnEb6kTs2cHcsO99L/pgf54pU7w9ZkzcB/XOFM2K9VbCOV2xIvrgnwKWgoj63WmnRZ/wXj/0UHRq+AKon5AQQgjh0SIkhBAiG1qEhBBCZEOaUAI/vLmDlZdvDRpfNSJBEyK9523RIm+TYParoKdgzoFZjBVXVESfA317eprP8/e/extzMrBFkhmPgSOoWbHYP8bNmfaF8feUvjEp+SmMolwilluE+6ScHyNFcyk6NtvG5gJrpqX0tUFScqaYHoX6BdMy+/qyiFSXOeYYb5+yR+yhM/Pgo52NmhBqMmYxL4jdB7xOpvHha15ZGX1QK2R5S3ivZs2KPqjbVlXFSW3YcqimZgf1LzOiLyEhhBDZ0CIkhBAiG1qEhBBCZEOaUAI/POUFa7kt0E16kSQxerS3MeHBzAYP9k1MMOfGLNZiwxpTZmb9+3ub5QmhvvPyy95m+Q2oGTANAWPpv/hF9EH96brrio/FdBDUNFLyU1Lqy6GWkzLux0lKLhHOBdM08NpT5jilrxPOD9Nyunf39uGHRx+ss8a0uFNOrvMbro0CT9+ve03o4ov974cNi+Oi5nLffdEHpd7WraPPtnTCbbAcONzG3mG8VwsWRJ8vngqiMWmUdNSe9duqNmywn/40jpMbfQkJIYTIhhYhIYQQ2dAiJIQQIhvShFI477z6YmvXXFPaGCDMLNulW3BpCjLRscfGYTDezvQKjDljLS0zszVrvI29bliOC/qw/jh4zieMis1SZj5V7mx2DZg7xPSBlD42eI5M90CdA202F6izsdwYlP1KzWNKqX+H58ius6hvUik188zS+jql5JjhON/Y43fRaQpMNBEmW9l6Zw8Y4LXWXl02hX3WrPEJdyzvC+8xaq9m8f1kzy0+O6gjmZk995y3+/SJPqH51J13Rp/fNZhDlnjYCNCXkBBCiGxoERJCCJENLUJCCCGyIU0ohZtuqg8IM03onHOKx4D47S1/jS7r1nmb5fdgGyIWx58509usVhb2MEEb807Mor7C6tYNHw4bGhav+pB9+pwQdyw4FstJSslhYddRNE4KqHuw2H+KtoQ+rDZbkWaVcn5mxTXy2PmlzA3eGzYO+jzwQPRZuNDbb799evC57Vx4uAcPjuMs9xrQ5Mn+97ffHh9c1ICYjop6GKt5iPePPReoG7H7eeKJ3j7KyB+M6x905hsXxL9NnUaNqjc2bDAbOjSOkxl9CQkhhMiGFiEhhBDZ0CIkhBAiG9KEEljZtq9tbLG1n1DTG+8Kv29z9Xf8BlLDyb7jfSqnRpfZs73Nck+WLvV2bW30wbpvTFv6+te9PXeut7EHC4NpQiG+TZoZvfiit9l1ohbBphR1j5ReN0zjYPsVgTX8WOwfdZBSewUhbBzclqIJlZK3xDS2lPlDPQVrFZqZvfaat9mc/uhRr2mk9KJ64oniY+PcsHwozPsi5R/Dc7rXXtEH8/jYNVx9NWzoekZ0uv12P+7bLwSXFe0+vf3n6grSAKkRoC8hIYQQ2dAiJIQQIhtahIQQQmRDmlACHW74vrUs/7De2dix0eHSS5257v1WweX++73Ncimwzz2LtWOcnMXNUa9gcWmMZxflkJjF2DXmFpmFMLXN6DIo+KD+hP2F2LEYKZpQSh5O0T4pPux+ltKHKKW2Xcr5pIydMhcp9eXwPjCND8Fn1CxqaKwv0WOPefuww6LPsmU7PjbTwnD+2DWkzHHLlt5m71EK06Z5+/hTT41On/uct0eODC579+ix/efmNbGOY2NAX0JCCCGyoUVICCFENrQICSGEyIY0oRQmTaoPCLdvH38/bpwz2+xZF1y6dClz9rb2RA0ppfcNy9XBvCAW+8d6WtjDntVqwxg9yxmZM8fbpHRcqNPFrhNj6zurF09K7yLch2kBeK/YHJeSl8O0pZS+SSljF9WgS9FB2HOBzwG7BtRG2H1IqbvWtu2Oj21mVl3tbcw/YuA7w/QonGP2XOB+TLPCa5hKcgZ/9CNvvznuxuBz8jK/re1+UYu2WbPqfy6lSOIngL6EhBBCZEOLkBBCiGxoERJCCJENaUIp9OhRH7A+6KD4eywYRWKvTZv6QPC2tKOGYM031ucetRIWW8ccDBbrf+UVb2NsHY9jxvUABKeC1ddCmJ6C55OS25FSU62KlM9CDQPPJyWfJkWTYSH5FN0It6WMw0CNJUUvw21M70k5F9zGnkkcG3U3s9jnh+Ub4bOD182eYxynY8fog/l2bBxIGbRBFx0ZFWlwNgAABNlJREFUnS67zJmvv350cFm1ytsNpZ1t4Jx+47rrotNtt9X//P77aS/kJ4y+hIQQQmRDi5AQQohsaBESQgiRDWlCKVx22fZCaev6HRV+3Wa57+Oxafe2wefxx72NfYHYNlZTLSXHBuP4LNZflPPAtAkMJzN9BePkpdRPY5RaUy2lTwySkpdTSg7Qx1UDjsH0FNxWSg8ipgml9GxKGQfPj+XqoL7DtMt99vH2M89EHwQ1ITYX7dp5e1Asi2gvvQQ+hxwSnS64wJm//O//Di4v9DzF2Zh/ZxbncN3J/xl82uy3X72xcaPZCSfEgTKjLyEhhBDZ0CIkhBAiG1qEhBBCZEOaUAqzZ28PRrdhgWoIrjO9Z/p0b2M+jVnUXFL0AZbPkNKLpyiOz2L2KTkipehRKXk4pebq4LaU/CfMM0npU5SSo8TqnCEpNehS9mN119iz0pC1a+M2nJsUbS5lLti9wueLpbTg8c8+O/r8J0gjd93l7TvuiPsccIC3W7eOPp06eRtrwJmZDRgAG3p+MTqNHh23AX2/e5y3f/CD4DOz1hema/PLK3Y8aMoDmAF9CQkhhMiGFiEhhBDZ0CIkhBAiG9KEUhg4cHuekM2eHX8/YoQzVy+PLkdDeShWOw7rYq1fH33WrfM260uE+zGNqijWX2p/nBRtIqUvS9Gx2X7snFFnSMlPKSWfJ2W+mE9KXbhSjpWSq4PjsrlJkRFSngscm80x5uown//6L2+fdVb0KV/wrLPPPPNgZzPNFGspdu1afH74vprFezNkSGwoVDFzWtwRefttb0+cGFyGdgGhmTUvasjGjcXHzYC+hIQQQmRDi5AQQohsKBy3A+rqtrbprmoYu9q0KTrC9/3GjbGeDYY16mIH8BCyqK2NPinhmxQfPH6RXapPqW0HUvb5uM4n5/kxn6J9UsfZsmXHPqVeQ8r5lRIuZOB7xEpHlcH7WAtO7BWuqdnxcZgPGwcjXuz8alPCYvgSp8RKC8bd9nesLuUmfoKU1SWcUc2Hs1/OhIx/Yd544w3r3Llz7tMQQoidRmVlpXXCpKedzEdZM/QltAM6duxolZWV1qJFCysrK8t9OkIIUTJ1dXVWXV1tHYuylj9h9CUkhBBip/JR1gz9xwQhhBDZ0CIkhBAiG1qEhBBCZEOLkBBCiGxoERJCCJENLUJCCCGyoUVICCFENrQICSGEyIYWISGEENnQIiSEECIbWoSEEEJkQ4uQEEKIbGgREkIIkQ0tQkIIIbKhRUgIIUQ2tAgJIYTIhhYhIYQQ2dAiJIQQIhtahIQQQmRDi5AQQohsaBESQgiRDS1CQgghsqFFSAghRDa0CAkhhMiGFiEhhBDZ0CIkhBAiG1qEhBBCZEOLkBBCiGxoERJCCJENLUJCCCGyoUVICCFENrQICSGEyIYWISGEENnQIiSEECIbWoSEEEJkQ4uQEEKIbGgREkIIkQ0tQkIIIbKhRUgIIUQ2tAgJIYTIhhYhIYQQ2dAiJIQQIhufSnWsqan5OM9DCCHEvwg1NTVWXl6e5FtWV1dXV+RUV1dnmzdv/l+fmBBCiH8PmjZtamVlZYV+SYuQEEII8XEgTUgIIUQ2tAgJIYTIhhYhIYQQ2dAiJIQQIhtahIQQQmRDi5AQQohsaBESQgiRDS1CQgghsvH/AYYTT9F3OapNAAAAAElFTkSuQmCC\n",
      "text/plain": [
       "<Figure size 400x400 with 1 Axes>"
      ]
     },
     "metadata": {},
     "output_type": "display_data"
    }
   ],
   "source": [
    "if not RemoteMachine:\n",
    "    matplotlib.rcParams['text.usetex'] = True #--- comment tex stuff!\n",
    "    \n",
    "    val = np.loadtxt('ShearBandFeNi/Run2/d2minBitmap.txt')\n",
    "    PltBitmap(   val, \n",
    "                  xlabel = '', ylabel = '',\n",
    "    #              xlim=VectorNorm[0]*np.array([0.0,1.0]),ylim=VectorNorm[1]*np.array([0.0,1.0]),\n",
    "                  zscore = True,\n",
    "                  frac = 1.0, #--- plot a patch\n",
    "                  title = 'd2min.png',\n",
    "                  colorbar=None,\n",
    "                  DrawFrame=(0.2,0.09,0.15,0.06,0.04),\n",
    "                )\n",
    "#DrawFrame(ax, 0.2,0.09,0.15,0.06,4)\n"
   ]
  },
  {
   "cell_type": "markdown",
   "metadata": {},
   "source": [
    "### Crltn Function (Unstructured points)"
   ]
  },
  {
   "cell_type": "code",
   "execution_count": 97,
   "metadata": {
    "scrolled": false
   },
   "outputs": [],
   "source": [
    "if DminAnalysis and CrltnFunctionUnstructured:\n",
    "    crltn = lp.ComputeCrltn(  d2min, box, \n",
    "                              d2min.d2min, #--- values\n",
    "                              cutoff = cutoff, #--- cutoff size to include neighbors\n",
    "                              dx = dlgr0, #--- discretization length: 1st peak in rdf\n",
    "                              NMAX = NMAX, #--- upper bounds for the number of atoms\n",
    "                            )\n",
    "    crltn.Distance()\n",
    "    crltn.AutoCrltn(RADIAL = None)\n",
    "    xvv, yvv, zvv, hist, err = crltn.Get()\n",
    "\n",
    "    #--- save data\n",
    "    np.save('CrltnFuncUnstructured',np.c_[xvv, yvv, zvv, hist, err])"
   ]
  },
  {
   "cell_type": "code",
   "execution_count": 202,
   "metadata": {},
   "outputs": [],
   "source": [
    "# n=1000*4\n",
    "# xyz = np.random.random((n,3)) \n",
    "# atom_tmp = lp.Atoms(**pd.DataFrame(np.c_[np.arange(n),np.ones(n),xyz],\n",
    "#                                    columns=['id','type','x','y','z']).to_dict(orient='list'))\n",
    "# box_tmp = lp.Box(CellOrigin=np.array([0,0,0]),CellVector=np.array([[1,0,0],[0,1,0],[0,0,1]]))\n",
    "# #val = np.sin(2*np.pi*xyz[:,0])\n",
    "# rstar = 0.25\n",
    "# xyz = xyz - np.array([0.5,0.5,0.5])\n",
    "# val = np.exp(-0.5*(xyz[:,0]**2+xyz[:,1]**2+xyz[:,2]**2)/rstar/rstar)\n",
    "# crltn = lp.ComputeCrltn(    atom_tmp, box_tmp,\n",
    "#                              val,\n",
    "#                              cutoff=1.0*3**.5, dx=0.05,\n",
    "#                              NMAX = n\n",
    "#                      )\n",
    "# crltn.Distance()\n",
    "# crltn.AutoCrltn(RADIAL = None)\n",
    "# xvv, yvv, zvv, hist, err = crltn.Get()\n",
    "\n",
    "# dlgr0 = 0.05/2"
   ]
  },
  {
   "cell_type": "markdown",
   "metadata": {},
   "source": [
    "#### Plot Crltns"
   ]
  },
  {
   "cell_type": "code",
   "execution_count": 203,
   "metadata": {},
   "outputs": [],
   "source": [
    "#--- load data\n",
    "# sdata = np.load('CrltnFuncUnstructured.npy')\n",
    "# nz = sdata.shape[2]/5\n",
    "# xv = sdata[:,:,0:nz]\n",
    "# yv = sdata[:,:,nz:2*nz]\n",
    "# zv = sdata[:,:,2*nz:3*nz]\n",
    "# hist = sdata[:,:,3*nz:4*nz]\n",
    "# err = sdata[:,:,4*nz:5*nz]"
   ]
  },
  {
   "cell_type": "code",
   "execution_count": 219,
   "metadata": {},
   "outputs": [
    {
     "data": {
      "image/png": "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\n",
      "text/plain": [
       "<Figure size 432x288 with 2 Axes>"
      ]
     },
     "metadata": {
      "needs_background": "light"
     },
     "output_type": "display_data"
    },
    {
     "data": {
      "image/png": "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\n",
      "text/plain": [
       "<Figure size 288x288 with 1 Axes>"
      ]
     },
     "metadata": {
      "needs_background": "light"
     },
     "output_type": "display_data"
    },
    {
     "data": {
      "text/plain": [
       "10.699313962120927"
      ]
     },
     "execution_count": 219,
     "metadata": {},
     "output_type": "execute_result"
    }
   ],
   "source": [
    "if DminAnalysis and CrltnFunctionUnstructured:\n",
    "    #--- get 2d slice\n",
    "    xv2d, yv2d, hist2d, err2d = GetSlice2d( hist, err,\n",
    "                                           xvv, yvv, zvv,\n",
    "                                           z=0.0, xtol = dlgr0/2\n",
    "                                          )\n",
    "    #--- bitmap\n",
    "    PltBitmap(hist2d, \n",
    "              xlabel = 'x', ylabel = 'y',\n",
    "              xlim=(xv2d.min(),xv2d.max()),ylim=(yv2d.min(),yv2d.max()),\n",
    "              zscore = None,\n",
    "              frac = 1.0, #--- plot a patch\n",
    "              ) \n",
    "\n",
    "    #--- get 1d slice\n",
    "    xv1d, hist1d, err1d =   GetSlice1d( hist2d, err2d,\n",
    "                                 xv2d, yv2d,\n",
    "                                 xtol = dlgr0/2,\n",
    "                                 y=0.0)   \n",
    "    #--- plot\n",
    "    PltCrltnFunc1d( hist1d[xv1d>0.0], err1d[xv1d>0.0],\n",
    "                     xv1d[xv1d>0.0],\n",
    "                     fileName = 'cr.%s.png'%itime,\n",
    "    #                 title = r'$\\epsilon=%3.2f$'%(2*ebulk),\n",
    "                     cTOL = 8.0e-2,\n",
    "                     dpi = 60,\n",
    "                    )"
   ]
  },
  {
   "cell_type": "markdown",
   "metadata": {},
   "source": [
    "### Crltn Function (FFT)"
   ]
  },
  {
   "cell_type": "code",
   "execution_count": 32,
   "metadata": {},
   "outputs": [
    {
     "ename": "NameError",
     "evalue": "name 'xlin' is not defined",
     "output_type": "error",
     "traceback": [
      "\u001b[0;31m---------------------------------------------------------------------------\u001b[0m",
      "\u001b[0;31mNameError\u001b[0m                                 Traceback (most recent call last)",
      "\u001b[0;32m<ipython-input-32-0f7b6f93e1bf>\u001b[0m in \u001b[0;36m<module>\u001b[0;34m\u001b[0m\n\u001b[1;32m      1\u001b[0m \u001b[0;32mif\u001b[0m \u001b[0mDminAnalysis\u001b[0m\u001b[0;34m:\u001b[0m\u001b[0;34m\u001b[0m\u001b[0;34m\u001b[0m\u001b[0m\n\u001b[0;32m----> 2\u001b[0;31m     \u001b[0;34m(\u001b[0m\u001b[0mnx\u001b[0m\u001b[0;34m,\u001b[0m\u001b[0mny\u001b[0m\u001b[0;34m,\u001b[0m\u001b[0mnz\u001b[0m\u001b[0;34m)\u001b[0m \u001b[0;34m=\u001b[0m \u001b[0mlen\u001b[0m\u001b[0;34m(\u001b[0m\u001b[0mxlin\u001b[0m\u001b[0;34m)\u001b[0m\u001b[0;34m,\u001b[0m \u001b[0mlen\u001b[0m\u001b[0;34m(\u001b[0m\u001b[0mylin\u001b[0m\u001b[0;34m)\u001b[0m\u001b[0;34m,\u001b[0m\u001b[0mlen\u001b[0m\u001b[0;34m(\u001b[0m\u001b[0mzlin\u001b[0m\u001b[0;34m)\u001b[0m\u001b[0;34m\u001b[0m\u001b[0;34m\u001b[0m\u001b[0m\n\u001b[0m\u001b[1;32m      3\u001b[0m     \u001b[0;31m#\u001b[0m\u001b[0;34m\u001b[0m\u001b[0;34m\u001b[0m\u001b[0;34m\u001b[0m\u001b[0m\n\u001b[1;32m      4\u001b[0m     \u001b[0mvalue\u001b[0m \u001b[0;34m=\u001b[0m \u001b[0mnp\u001b[0m\u001b[0;34m.\u001b[0m\u001b[0mc_\u001b[0m\u001b[0;34m[\u001b[0m\u001b[0md2intrp\u001b[0m\u001b[0;34m.\u001b[0m\u001b[0md2min\u001b[0m\u001b[0;34m]\u001b[0m\u001b[0;34m.\u001b[0m\u001b[0mreshape\u001b[0m\u001b[0;34m(\u001b[0m\u001b[0;34m(\u001b[0m\u001b[0mny\u001b[0m\u001b[0;34m,\u001b[0m\u001b[0mnx\u001b[0m\u001b[0;34m,\u001b[0m\u001b[0mnz\u001b[0m\u001b[0;34m)\u001b[0m\u001b[0;34m)\u001b[0m\u001b[0;34m\u001b[0m\u001b[0;34m\u001b[0m\u001b[0m\n\u001b[1;32m      5\u001b[0m \u001b[0;34m\u001b[0m\u001b[0m\n",
      "\u001b[0;31mNameError\u001b[0m: name 'xlin' is not defined"
     ]
    }
   ],
   "source": [
    "if DminAnalysis:\n",
    "    (nx,ny,nz) = len(xlin), len(ylin),len(zlin) \n",
    "    #\n",
    "    value = np.c_[d2intrp.d2min].reshape((ny,nx,nz))\n",
    "\n",
    "    #--- shuffle\n",
    "    #     ( nx, ny, nz ) =  value.shape\n",
    "    #     slist = value.flatten()\n",
    "    #     np.random.shuffle(slist)\n",
    "    #     value=slist.reshape((nx, ny, nz))    \n",
    "    #\n",
    "    #--- filter value\n",
    "    #     value = FilterMatrix( CellVector[0], CellOrigin[0],\n",
    "    #                   (xlin, ylin, zlin),\n",
    "    #                   (xv, yv, zv ),\n",
    "    #                    value )\n",
    "\n",
    "    crltn = GetAutoCorrelation( value )\n",
    "\n",
    "\n",
    "    CellVectorOrtho, VectorNorm = lp.GetOrthogonalBasis( box.CellVector ) #--- box length\n",
    "    #    \n",
    "\n",
    "    #--- xy plane\n",
    "    val = crltn[:,:,0].copy()\n",
    "    PltCrltn( val, \n",
    "              xlabel = 'x', ylabel = 'y',\n",
    "              xlim=VectorNorm[0]*np.array([-0.5,0.5]),ylim=VectorNorm[1]*np.array([-0.5,0.5]),\n",
    "              frac = 1, #--- plot a patch\n",
    "              zscore = False,\n",
    "              fileName = 'cxy_d2min.%s.png'%itime,\n",
    "              dpi = 60\n",
    "            )\n",
    "\n",
    "    #--- bulk strain\n",
    "    dx=box.CellVector[0,1]-box0.CellVector[0,1]\n",
    "    l1=box.CellVector[1,1]\n",
    "    ebulk = dx/l1\n",
    "    #---\n",
    "    xc, yc = PltCrltnFunc(   crltn, \n",
    "                             xv,yv,\n",
    "                             fileName = 'cr_d2min.%s.png'%itime,\n",
    "                             title = r'$\\gamma=%3.2f$'%(ebulk),\n",
    "                             cTOL = 1.0e-2,\n",
    "                #             dpi = 60,\n",
    "                            )\n",
    "    #--- save\n",
    "    np.savetxt('rc_d2min.txt',np.c_[ebulk, xc, yc],header='gamma\\txc\\tyc')"
>>>>>>> 4c2950427a7f59a7bf5ba5ca184c3d2096def48f
   ]
  },
  {
   "cell_type": "markdown",
   "metadata": {},
   "source": [
<<<<<<< HEAD
    "# stress-strain curve"
=======
    "#### Multiple Frames"
>>>>>>> 4c2950427a7f59a7bf5ba5ca184c3d2096def48f
   ]
  },
  {
   "cell_type": "code",
<<<<<<< HEAD
   "execution_count": 277,
   "metadata": {},
   "outputs": [
    {
     "data": {
      "image/png": "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\n",
=======
   "execution_count": 74,
   "metadata": {
    "scrolled": true
   },
   "outputs": [
    {
     "data": {
      "image/png": "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\n",
>>>>>>> 4c2950427a7f59a7bf5ba5ca184c3d2096def48f
      "text/plain": [
       "<Figure size 288x288 with 1 Axes>"
      ]
     },
     "metadata": {
      "needs_background": "light"
     },
     "output_type": "display_data"
    }
   ],
   "source": [
<<<<<<< HEAD
    "fig = plt.figure( figsize = (4,4))\n",
    "ax = fig.add_subplot(111)\n",
    "ax.set_xlabel(r'$\\epsilon$',fontsize=16)\n",
    "ax.set_ylabel(r'$\\sigma$',fontsize=16)\n",
    "ax.tick_params(labelsize=16)\n",
    "ax.set_title(fileNamee[:-4])\n",
    "#\n",
    "ax.plot(stress[:,0],stress[:,1],'-')\n",
    "\n",
    "#--- point corresponding to strain maps\n",
    "ADD_POINTS = False\n",
    "if ADD_POINTS:\n",
    "    for itime in coord_atoms_broken:\n",
    "        CellVectorOrtho, VectorNorm = GetOrthogonalBasis( CellVector[ itime ] )\n",
    "        volume = np.linalg.det( CellVectorOrtho )\n",
    "        virial = np.c_[coord_atoms_broken[itime]['c_mystress4']].astype(float).sum() / volume\n",
    "        #--- strain\n",
    "        dx=CellVector[ itime ][0,1]-CellVector[ 0 ][0,1]\n",
    "        l1=CellVector[ itime ][1,1]\n",
    "        strain = 0.5*dx/l1\n",
    "        ax.plot([2*strain],[virial*1e-4],'x',color='red')\n",
    "#\n",
    "plt.savefig(fileNamee[:-4]+'.png',dpi=75,bbox_inches='tight')\n",
    "plt.show()"
=======
    "sarr = MultipleFrames('widthFeNi','rc_d2min.txt',irun=0)\n",
    "#--- plot\n",
    "fig = plt.figure( figsize = (4,4))\n",
    "ax = fig.add_subplot(111)\n",
    "xstr = r'$\\gamma$'\n",
    "ystr = r'$r_c(A^\\circ)$'\n",
    "ax.set_xlabel(xstr,fontsize=16)\n",
    "ax.set_ylabel(ystr,fontsize=16)\n",
    "ax.tick_params(labelsize=16)\n",
    "#\n",
    "ax.plot( sarr[:,0], sarr[:,1],'-o', color='C0', label = r'$x_c$')\n",
    "ax.plot( sarr[:,0], sarr[:,2],'-s', color='red', label = r'$y_c$')\n",
    "ax.legend(frameon=False)\n",
    "plt.savefig('rc.png',dpi=75,bbox_inches='tight')\n",
    "plt.show()\n"
   ]
  },
  {
   "cell_type": "code",
   "execution_count": null,
   "metadata": {},
   "outputs": [],
   "source": []
  },
  {
   "cell_type": "code",
   "execution_count": 31,
   "metadata": {},
   "outputs": [
    {
     "data": {
      "text/plain": [
       "array([18.81093596, 10.58115148, 10.58115148, 11.75683498,  9.40546798,\n",
       "       12.93251847,  9.40546798, 11.75683498,  9.40546798, 10.58115148,\n",
       "       10.58115148, 11.75683498, 10.58115148, 11.75683498,  9.40546798,\n",
       "       11.75683498,         nan, 24.68935345, 27.04072044, 29.39208744,\n",
       "       11.75683498, 28.21640394, 27.04072044, 27.04072044,         nan,\n",
       "               nan,         nan,         nan,         nan, 21.16230296,\n",
       "               nan, 23.51366995, 23.51366995, 19.98661946, 16.45956897,\n",
       "       17.63525246, 16.45956897, 15.28388547, 15.28388547, 15.28388547,\n",
       "       15.28388547, 15.28388547, 15.28388547, 15.28388547, 15.28388547,\n",
       "       15.28388547, 15.28388547, 14.10820197, 15.28388547, 14.10820197,\n",
       "       15.28388547])"
      ]
     },
     "execution_count": 31,
     "metadata": {},
     "output_type": "execute_result"
    }
   ],
   "source": [
    "sarr[:,1]"
>>>>>>> 4c2950427a7f59a7bf5ba5ca184c3d2096def48f
   ]
  },
  {
   "cell_type": "markdown",
   "metadata": {},
   "source": [
<<<<<<< HEAD
    "# Plastic Deformation\n",
    "## Dump File"
=======
    "## Local Order Analysis"
>>>>>>> 4c2950427a7f59a7bf5ba5ca184c3d2096def48f
   ]
  },
  {
   "cell_type": "code",
<<<<<<< HEAD
   "execution_count": 278,
   "metadata": {},
   "outputs": [],
   "source": [
    "def GetCordsTimeStep(slist):\n",
    "    slist.readline()\n",
    "    itime = int( slist.readline().split()[0] )\n",
    "    \n",
    "    [slist.readline() for i in xrange(1)]\n",
    "    nrows = int(slist.readline().split()[0])\n",
    "\n",
    "    [slist.readline() for i in xrange(1)]\n",
    "    \n",
    "    CellVector = np.array([slist.readline().split() for i in xrange( 3 )])\n",
    "    \n",
    "    cols = slist.readline().split()[2:]\n",
    "    \n",
    "    return np.array([slist.readline().split() for i in xrange( nrows )]), CellVector, itime, cols\n",
    "    \n",
    "def GetCords( file_name ):\n",
    "    slist = open( file_name )    \n",
    "    coord_atoms_broken = {}\n",
    "    CellVector = {}\n",
    "    try:\n",
    "        while True:\n",
    "            sarr, cell_vector, itime, cols  = GetCordsTimeStep( slist ) #--- get coord\n",
    "            #--- insert in a data frame\n",
    "            coord_atoms_broken[ itime ] = pd.DataFrame( sarr, columns = cols )\n",
    "            \n",
    "            #--- cast id to 'int'\n",
    "            coord_atoms_broken[ itime ]['id'] = map(int,coord_atoms_broken[ itime ]['id'].tolist())[:]\n",
    "\n",
    "            #--- sort\n",
    "            coord_atoms_broken[ itime ].sort_values( by = 'id', inplace = True )\n",
    "            \n",
    "            #--- reset index\n",
    "            coord_atoms_broken[ itime ].reset_index( drop=True, inplace=True )\n",
    "            \n",
    "            CellVector[ itime ] = cell_vector\n",
    "    except:\n",
    "#        traceback.print_exc()\n",
    "        pass\n",
    "\n",
    "    \n",
    "    return coord_atoms_broken, CellVector\n",
    "\n",
    "def GetCellVector( CellVector ):\n",
    "    CellVector[0] = np.c_[CellVector[0],['0.0','0.0','0.0']] #--- ref. state\n",
    "\n",
    "    CellOrigin = {}\n",
    "    cell_vector = {}\n",
    "    \n",
    "    for itime in CellVector:\n",
    "        row0 = map( float, CellVector[ itime ][ 0 ] )\n",
    "        l0 = row0[ 1 ] - row0[ 0 ] - row0[ 2 ]\n",
    "        CellVector0 = np.array( [ l0, 0.0, 0.0 ] )\n",
    "        dx = row0[ 2 ]\n",
    "        \n",
    "        row1 =  map( float, CellVector[ itime ][ 1 ] )\n",
    "        l1 = row1[ 1 ] - row1[ 0 ]\n",
    "        a1 = np.array( [ 0.0, l1, 0.0 ] )\n",
    "        CellVector1 = CellVector0 * ( dx / l0 ) + a1\n",
    "        \n",
    "        row2 =  map( float, CellVector[ itime ][ 2 ] )\n",
    "        l2 = row2[ 1 ] - row2[ 0 ]\n",
    "        CellVector2 = np.array( [ 0.0, 0.0, l2 ] )\n",
    "        \n",
    "        CellOrigin[ itime ] = np.array( [ row0[ 0 ], row1[ 0 ], row2[ 0 ] ] )\n",
    "        cell_vector[ itime ] = np.c_[ CellVector0, CellVector1, CellVector2 ] \n",
    "\n",
    "    return CellOrigin, cell_vector\n",
    "\n",
    "\n",
    "\n",
    "fileName = ('./BmgData/FeNi_glass.dump',\n",
    "            './BmgData/CoNiCr_glass.dump',\n",
    "            './BmgData/CoNiCrFe_glass.dump',\n",
    "            './BmgData/CoCrFeMn_glass.dump',\n",
    "            './BmgData/Co5Cr2Fe40Mn27Ni26_glass.dump')[1]#--- parse cords\n",
    "coord_atoms_broken, cell_vector = GetCords( fileName ) #--- add xyz for broken bonds #--- check id!!1\n",
    "CellOrigin, CellVector = GetCellVector( cell_vector )"
=======
   "execution_count": 40,
   "metadata": {},
   "outputs": [],
   "source": [
    "if CommonNeighAnl:\n",
    "    #--- extract atom and box properties\n",
    "    cna = lp.Atoms( **lmpCna.coord_atoms_broken[itime].to_dict(orient='list') )"
>>>>>>> 4c2950427a7f59a7bf5ba5ca184c3d2096def48f
   ]
  },
  {
   "cell_type": "markdown",
   "metadata": {},
   "source": [
<<<<<<< HEAD
    "## Compute Displacements\n"
=======
    "### Histograms"
>>>>>>> 4c2950427a7f59a7bf5ba5ca184c3d2096def48f
   ]
  },
  {
   "cell_type": "code",
<<<<<<< HEAD
   "execution_count": 279,
   "metadata": {},
   "outputs": [
    {
     "name": "stdout",
     "output_type": "stream",
     "text": [
      "0 500000\n",
      "0 1000000\n",
      "0 1500000\n",
      "0 2000000\n"
     ]
    }
   ],
   "source": [
    "def ChangeBasis( coord_atoms_broken, CellVector, CellOrigin, **kwargs ):\n",
    "############################################################\n",
    "####### map atoms within a tilted box to an orthogonal one\n",
    "############################################################\n",
    "\n",
    "    DimensionlessCords = GetDimensionlessCords( CellVector, coord_atoms_broken, CellOrigin  ) #--- beta0, beta1, beta2\n",
    "\n",
    "    #--- shift (beta0 + beta1 * dx / |b0| > 1) by - b0\n",
    "    #--- [b0,b1]^{-1}*(x=|b0|,y)\n",
    "    \n",
    "    b2 = CellVector[:,2]\n",
    "    b1 = CellVector[:,1]\n",
    "    b0 = CellVector[:,0]\n",
    "    norm_b0 = np.dot(b0,b0)**0.5\n",
    "    shift0 = np.dot(b1, b0 / norm_b0 )\n",
    "    #\n",
    "    indices_shiftTrue = (DimensionlessCords['beta0']) + (DimensionlessCords['beta1'])*shift0/norm_b0 >= 1.0\n",
    "    n = len( indices_shiftTrue )\n",
    "    shift_matrix =  np.array(indices_shiftTrue).reshape((n,1)) * b0\n",
    "    #\n",
    "    xyz = coord_atoms_broken - shift_matrix\n",
    "    #\n",
    "    attr_list = ['x','y','z']\n",
    "    values = xyz\n",
    "    for keys in kwargs:\n",
    "        attr_list += [ keys ]\n",
    "        values = np.c_[values,kwargs[keys]]\n",
    "                \n",
    "    return pd.DataFrame( values, columns = attr_list )\n",
    "\n",
    "def AddCopies( coord_atoms_broken, CellVector, **kwargs ):    \n",
    "    #--- orignial cell\n",
    "    XYZ_shifted = coord_atoms_broken\n",
    "    xyz_original = XYZ_shifted.copy()\n",
    "    #---\n",
    "    attr_list = ['x','y','z']\n",
    "    values = XYZ_shifted\n",
    "    for keys in kwargs:\n",
    "        attr_list += [ keys ]\n",
    "        values = np.c_[values,kwargs[keys]]\n",
    "\n",
    "    ID_TYPE_shifted = values[:,3:]\n",
    "    id_type_original = ID_TYPE_shifted.copy()\n",
    "    \n",
    "    #--- cell copies\n",
    "    for i in [-1,0,1]:\n",
    "        for j in [-1,0,1]:\n",
    "            for k in [-1,0,1]:\n",
    "    #            print i,j,k\n",
    "                if i == j == k == 0:\n",
    "                    continue\n",
    "                total_shift = np.matmul( CellVector, np.array([i,j,k]) )\n",
    "                #--- add shift\n",
    "                xyz_shifted = xyz_original + total_shift\n",
    "                #--- append\n",
    "                XYZ_shifted = np.concatenate( ( XYZ_shifted, xyz_shifted ), axis = 0 )\n",
    "                ID_TYPE_shifted = np.concatenate( ( ID_TYPE_shifted, id_type_original ), axis = 0 )\n",
    "                                \n",
    "    return pd.DataFrame(np.c_[XYZ_shifted,ID_TYPE_shifted],columns=attr_list)\n",
    "\n",
    "def GetDimensionlessCords( CellVector, coord_atoms_broken, CellOrigin, **kwargs  ):\n",
    "    xyz_centered = coord_atoms_broken - CellOrigin\n",
    "    beta = np.matmul( np.linalg.inv(CellVector), xyz_centered.T).T\n",
    "    \n",
    "    attr_list = ['beta0', 'beta1', 'beta2']\n",
    "    values = beta\n",
    "    for keys in kwargs:\n",
    "        attr_list += [ keys ]\n",
    "        values = np.c_[values,kwargs[keys]]\n",
    "        \n",
    "    return pd.DataFrame( values, columns = attr_list  )\n",
    "\n",
    "def shiftBeta( xyzDimensionless_j, diff, key = 'beta0' ):\n",
    "    indices = diff[key] > 0.5\n",
    "    beta0_j = xyzDimensionless_j[key] - 1.0 * indices\n",
    "\n",
    "    indices = diff[key] < -0.5\n",
    "    beta0_j += 1.0 * indices\n",
    "    \n",
    "    return beta0_j\n",
    "\n",
    "def GetXYZ( CellVector, CellOrigin, DimensionlessCords, attr_list = ['x','y','z'], **kwargs ):\n",
    "    XYZ_centered = np.matmul( CellVector, DimensionlessCords.T ).T #--- xyz in reference state\n",
    "    XYZ = XYZ_centered + CellOrigin\n",
    "    \n",
    "    \n",
    "    values = XYZ\n",
    "    for keys in kwargs:\n",
    "        attr_list += [ keys ]\n",
    "        values = np.c_[values,kwargs[keys]]\n",
    "        \n",
    "    return pd.DataFrame( values, columns = attr_list)\n",
    "\n",
    "def EstimateUnwrappedCord( coord_atoms_broken_i, coord_atoms_broken_j,\n",
    "                           CellVector_i, CellVector_j,\n",
    "                           CellOrigin_i, CellOrigin_j):\n",
    "#--- dimensionless cords\n",
    "    xyzDimensionless_i = GetDimensionlessCords( CellVector_i, coord_atoms_broken_i, CellOrigin_i )\n",
    "    xyzDimensionless_j = GetDimensionlessCords( CellVector_j, coord_atoms_broken_j, CellOrigin_j )\n",
    "\n",
    "    #--- shift to get unwrapped cords\n",
    "    diff = xyzDimensionless_j[['beta0','beta1','beta2']] - xyzDimensionless_i[['beta0','beta1','beta2']]\n",
    "\n",
    "    #--- new dimensionless cords\n",
    "    beta0_j = shiftBeta( xyzDimensionless_j, diff, key = 'beta0' )\n",
    "    beta1_j = shiftBeta( xyzDimensionless_j, diff, key = 'beta1' )\n",
    "    beta2_j = shiftBeta( xyzDimensionless_j, diff, key = 'beta2' )\n",
    "\n",
    "    #--- unwrapped cords at deformed state\n",
    "    rj_unwrpd = GetXYZ( CellVector_j, CellOrigin_j, np.c_[beta0_j,beta1_j,beta2_j] )\n",
    "\n",
    "    return rj_unwrpd\n",
    "\n",
    "\n",
    "\n",
    "\n",
    "#--- do mapping & add copies\n",
    "coord = {}\n",
    "for itime in coord_atoms_broken:\n",
    "    #--- map atoms in the ref. state to an undeformed box\n",
    "    df = coord_atoms_broken[ itime ][['id','type','x','y','z']]\n",
    "    xyz = np.c_[df[['x','y','z']].astype('float')]\n",
    "    xyz_mapped = ChangeBasis( xyz, CellVector[ itime ], CellOrigin[ itime ] )\n",
    "\n",
    "    #--- append\n",
    "    tmp = pd.DataFrame(np.c_[df, xyz_mapped],columns=['id','type','x','y','z','xm','ym','zm'])\n",
    "        \n",
    "    #--- add copies\n",
    "    df = tmp\n",
    "    xyz = np.c_[df[['x','y','z']].astype('float')]\n",
    "    xyz_copy = AddCopies( xyz, CellVector[ itime ],\n",
    "                          id=df['id'],\n",
    "                          type = df['type']\n",
    "                        )\n",
    "    xyz_m = np.c_[df[['xm','ym','zm']].astype('float')]\n",
    "    xyz_m_copy = AddCopies( xyz_m, CellVector[ itime ],\n",
    "                          id=df['id'],\n",
    "                          type = df['type']\n",
    "                        )\n",
    "    coord[itime] = pd.DataFrame(np.c_[xyz_copy[['id','type','x','y','z']],xyz_m_copy[['x','y','z']]],columns=['id','type','x','y','z','xm','ym','zm'])\n",
    "\n",
    "#---\n",
    "#--- compute displacements\n",
    "#---\n",
    "REF = ('initial', 'previous')[0] #--- displ. with respect to an initial state or previous state\n",
    "\n",
    "times = coord_atoms_broken.keys()\n",
    "times.sort()\n",
    "for time_i, time_j in zip(times[:-1], times[1:]):   \n",
    "    if REF == 'initial':\n",
    "        time_i = 0\n",
    "    print time_i, time_j\n",
    "    #--- estimate unwrapped coordinates (deformed state)\n",
    "    # r^{wrpd}_i, r^{wrpd}_j, r^{unwrpd}_j\n",
    "    xyz_i = np.c_[coord[time_i][['x','y','z']]].astype('float')\n",
    "    xyz_j = np.c_[coord[time_j][['x','y','z']]].astype('float')\n",
    "    rj_unwrpd = EstimateUnwrappedCord( xyz_i, xyz_j,\n",
    "                                       CellVector[time_i], CellVector[time_j],\n",
    "                                       CellOrigin[time_i], CellOrigin[time_j] )    \n",
    "    #--- displacement: r^{unwrpd}_j - r^{wrpd}_i\n",
    "    disp = rj_unwrpd[['x','y','z']] - xyz_i\n",
    "        \n",
    "    #--- append (xm,ym,zm) denoting mapped coordinates\n",
    "    df = coord[ time_j ]\n",
    "    coord[ time_j ] = pd.DataFrame(np.c_[df, disp],columns=['id','type','x','y','z','xm','ym','zm','ux','uy','uz'])\n",
    "\n",
    "\n",
    "    \n",
    "    "
=======
   "execution_count": 18,
   "metadata": {},
   "outputs": [
    {
     "ename": "NameError",
     "evalue": "name 'cna' is not defined",
     "output_type": "error",
     "traceback": [
      "\u001b[0;31m---------------------------------------------------------------------------\u001b[0m",
      "\u001b[0;31mNameError\u001b[0m                                 Traceback (most recent call last)",
      "\u001b[0;32m<ipython-input-18-492f5f22059c>\u001b[0m in \u001b[0;36m<module>\u001b[0;34m\u001b[0m\n\u001b[1;32m      6\u001b[0m     \u001b[0mplt\u001b[0m\u001b[0;34m.\u001b[0m\u001b[0mylabel\u001b[0m\u001b[0;34m(\u001b[0m\u001b[0;34m'Frequency'\u001b[0m\u001b[0;34m)\u001b[0m\u001b[0;34m\u001b[0m\u001b[0;34m\u001b[0m\u001b[0m\n\u001b[1;32m      7\u001b[0m     \u001b[0;31m#\u001b[0m\u001b[0;34m\u001b[0m\u001b[0;34m\u001b[0m\u001b[0;34m\u001b[0m\u001b[0m\n\u001b[0;32m----> 8\u001b[0;31m     \u001b[0mx\u001b[0m\u001b[0;34m,\u001b[0m \u001b[0my\u001b[0m \u001b[0;34m=\u001b[0m \u001b[0mnp\u001b[0m\u001b[0;34m.\u001b[0m\u001b[0munique\u001b[0m\u001b[0;34m(\u001b[0m\u001b[0mpd\u001b[0m\u001b[0;34m.\u001b[0m\u001b[0mDataFrame\u001b[0m\u001b[0;34m(\u001b[0m\u001b[0mcna\u001b[0m\u001b[0;34m.\u001b[0m\u001b[0m__dict__\u001b[0m\u001b[0;34m)\u001b[0m\u001b[0;34m[\u001b[0m\u001b[0;34m'StructureType'\u001b[0m\u001b[0;34m]\u001b[0m\u001b[0;34m,\u001b[0m \u001b[0mreturn_counts\u001b[0m\u001b[0;34m=\u001b[0m\u001b[0;32mTrue\u001b[0m\u001b[0;34m)\u001b[0m \u001b[0;31m#bug !!! len(y)!=5\u001b[0m\u001b[0;34m\u001b[0m\u001b[0;34m\u001b[0m\u001b[0m\n\u001b[0m\u001b[1;32m      9\u001b[0m     \u001b[0mplt\u001b[0m\u001b[0;34m.\u001b[0m\u001b[0mbar\u001b[0m\u001b[0;34m(\u001b[0m\u001b[0mx\u001b[0m\u001b[0;34m,\u001b[0m \u001b[0my\u001b[0m\u001b[0;34m)\u001b[0m\u001b[0;34m\u001b[0m\u001b[0;34m\u001b[0m\u001b[0m\n\u001b[1;32m     10\u001b[0m     \u001b[0;31m#\u001b[0m\u001b[0;34m\u001b[0m\u001b[0;34m\u001b[0m\u001b[0;34m\u001b[0m\u001b[0m\n",
      "\u001b[0;31mNameError\u001b[0m: name 'cna' is not defined"
     ]
    },
    {
     "data": {
      "image/png": "iVBORw0KGgoAAAANSUhEUgAAAYwAAAEMCAYAAADXiYGSAAAABHNCSVQICAgIfAhkiAAAAAlwSFlzAAALEgAACxIB0t1+/AAAADh0RVh0U29mdHdhcmUAbWF0cGxvdGxpYiB2ZXJzaW9uMy4yLjEsIGh0dHA6Ly9tYXRwbG90bGliLm9yZy+j8jraAAATXUlEQVR4nO3dbbBdV33f8e8PGcdYgKFYSTqyFZvIEWiAFOci0pJQp+FBxpWVp4I8oQmMxiokZqZN0sEJTMI0kxeZNKQxmDEicYxJsBEuZUQw4+bJUSdjx7oCSiW7TlTz4Gs6YwOJEh6N4d8X58i6vvXVXedKe5+zr7+fmTtz9j777P3Xmiv9tPZaZ+1UFZIkreRJ0y5AkjQMBoYkqYmBIUlqYmBIkpoYGJKkJgaGJKmJgSFJamJgSJKazExgJLkkyf9Icl2SS6ZdjyTpsToNjCTXJ3kwyeEl+7cnuTfJ0SRXj3cX8GXgLGChy7okSZNLl0uDJHkpoxC4saqeN963Dvgb4OWMguEgcAXwv6vq20m+C3h7Vf10Z4VJkiZ2Rpcnr6oDSS5YsnsbcLSq7gNIcjOws6ruHr//d8B3LHfOJHuAPQDr16//gec85zmnu2xJWtMOHTr0haraMOnnOg2MZWwE7l+0vQC8OMlPAK8EngG8c7kPV9VeYC/A3Nxczc/Pd1iqJK09ST67ms9NIzAeV1V9CPhQy7FJdgA7Nm/e3G1RkqRHTWOW1APA+Yu2zxvva1ZVH6mqPeecc85pLUyStLxpBMZB4KIkFyY5E9gF7J9CHZKkCXQ9rfYm4A5gS5KFJLur6hHgKuA24B5gX1UdmfC8O5LsPXbs2OkvWpL0uDqdVts1B70laXJJDlXV3KSfm5lvek/CHoYk9W+QgeGgtyT1b5CBIUnq3yADw1tSktS/QQaGt6QkqX+DDAxJUv8GGRjekpKk/g0yMLwlJUn9G2RgSJL6Z2BIkpoYGJKkJoMMDAe9Jal/gwwMB70lqX+DDAxJUv8MDElSEwNDktRkkIHhoLck9W+QgeGgtyT1b5CBIUnqn4EhSWpiYEiSmhgYkqQmBoYkqYmBIUlqMsjA8HsYktS/QQaG38OQpP4NMjAkSf0zMCRJTQwMSVITA0OS1MTAkCQ1MTAkSU0MDElSk5kKjCTrk8wn+dfTrkWS9FidBkaS65M8mOTwkv3bk9yb5GiSqxe99WZgX5c1SZJWp+sexg3A9sU7kqwDrgUuBbYCVyTZmuTlwN3Agx3XJElahTO6PHlVHUhywZLd24CjVXUfQJKbgZ3AU4H1jELka0lurapvd1mfJKldp4GxjI3A/Yu2F4AXV9VVAEleB3xhubBIsgfYA7Bp06ZuK5UkPWqmBr0BquqGqvrjk7y/t6rmqmpuw4YNfZYmSU9o0wiMB4DzF22fN97XzOXNJal/0wiMg8BFSS5MciawC9g/yQlc3lyS+tf1tNqbgDuALUkWkuyuqkeAq4DbgHuAfVV1ZMLz2sOQpJ6lqqZdw6rNzc3V/Pz8tMuQpEFJcqiq5ib93MwNekuSZtMgA8NbUpLUv0EGhoPektS/QQaGPQxJ6t8gA8MehiT1b5CBIUnqn4EhSWoyyMBwDEOS+jfIwHAMQ5L6N8jAkCT1z8CQJDUZZGA4hiFJ/RtkYDiGIUn9G2RgSJL6Z2BIkpoYGJKkJgaGJKnJIAPDWVKS1L9BBoazpCSpf4MMDElS/wwMSVITA0OS1MTAkCQ1MTAkSU0GGRhOq5Wk/g0yMJxWK0n9G2RgSJL6Z2BIkpoYGJKkJgaGJKmJgSFJamJgSJKaGBiSpCYGhiSpycwERpLnJrkuyS1J3jjteiRJj9VpYCS5PsmDSQ4v2b89yb1Jjia5GqCq7qmqNwCvBl7SZV2SpMk1BUaS56/y/DcA25ecax1wLXApsBW4IsnW8XuXAx8Fbl3l9SRJHWntYbwryV1Jfi5J8wJOVXUA+NKS3duAo1V1X1U9DNwM7Bwfv7+qLgV+erlzJtmTZD7J/EMPPdRaiiTpFDUFRlX9MKN/xM8HDiV5f5KXr/KaG4H7F20vABuTXJLkmiTv5iQ9jKraW1VzVTW3YcOGVZYgSZrUGa0HVtXfJnkrMA9cA7wwSYBfqaoPnWohVXU7cHvLsUl2ADs2b958qpeVJDVqHcN4QZLfAe4B/hWwo6qeO379OxNe8wFGPZXjzhvva+by5pLUv9YxjHcAHwe+v6p+vqo+DlBVnwfeOuE1DwIXJbkwyZnALmD/hOeQJPWsNTAuA95fVV8DSPKkJGcDVNX7lvtQkpuAO4AtSRaS7K6qR4CrgNsY9Vj2VdWRSYr2iXuS1L9U1coHJXcCL6uqL4+3nwr896r6Fx3Xd1Jzc3M1Pz8/zRIkaXCSHKqquUk/19rDOOt4WACMX5896cVOF3sYktS/1sD4SpKLj28k+QHga92UtDIHvSWpf63Tav898MEknwcCfDfwms6qkiTNnKbAqKqDSZ4DbBnvureqvtldWSfn9zAkqX+TLD74IuAFwMWM1n/6mW5KWpm3pCSpf009jCTvA74X+CTwrfHuAm7sqC5J0oxpHcOYA7ZWyxzcHnhLSpL613pL6jCjge6Z4C0pSepfaw/jXODuJHcB3zi+s6ou76QqSdLMaQ2Mt3VZhCRp9rVOq/3LJN8DXFRVfzpeR2pdt6VJkmZJ6/LmVwK3AO8e79oIfLirohrqcWkQSepZ66D3zwMvAf4BRg9TAr6zq6JW4qC3JPWvNTC+MX7+NgBJzmD0PQxJ0hNEa2D8ZZJfAZ4yfpb3B4GPdFeWJGnWtAbG1cBDwP8C/h1wK5M/aU+SNGCts6S+Dbxn/DN1ftNbkvrXOkvq00nuW/rTdXHLcdBbkvo3yVpSx50F/Bvgn5z+ciRJs6qph1FVX1z080BV/Rfgso5rkyTNkNblzS9etPkkRj2O1t6JJGkNaP1H/7cXvX4E+Azw6tNejSRpZrXOkvqRrguRJM221ltSv3Cy96vq7aenHEnSrJpkltSLgP3j7R3AXcDfdlHUSvwehiT1Ly1PXU1yALisqv5xvP004KNV9dKO6zupubm5mp+fn2YJkjQ4SQ5V1dzKRz5W69Ig3wU8vGj74fE+SdITROstqRuBu5L8t/H2jwHv7aYkSdIsap0l9RtJPgb88HjX66vqE92VJUmaNa23pADOBv6hqn4XWEhyYUc1SZJmUOvig78GvBn45fGuJwN/2FVRkqTZ09rD+HHgcuArAFX1eeBpXRUlSZo9rYHxcI3m3xZAkvXdlSRJmkWtgbEvybuBZyS5EvhTOniYUpIfS/KeJB9I8orTfX5J0uqtGBhJAnwAuAX4r8AW4Fer6h0tF0hyfZIHkxxesn97knuTHE1yNUBVfbiqrgTeALxmwj+LJKlDK06rrapKcmtVPR/4k1Vc4wbgnYy+ywFAknXAtcDLgQXgYJL9VXX3+JC3jt+XJM2I1ltSH0/yotVcoKoOAF9asnsbcLSq7quqh4GbgZ0Z+U3gY1X18dVcT5LUjdZver8YeG2SzzCaKRVGnY8XrPK6G4H7F20vjK/xJuBlwDlJNlfVdUs/mGQPsAdg06ZNq7y8JGlSJw2MJJuq6nPAK/sopqquAa5Z4Zi9wF4YLT7YR12SpJVvSX0YoKo+C7y9qj67+OcUrvsAcP6i7fPG+5ok2ZFk77Fjx06hBEnSJFYKjCx6/ezTeN2DwEVJLkxyJrCLE8/aWFFVfaSq9pxzzjmnsSRJ0smsFBi1zOtmSW4C7gC2JFlIsruqHgGuAm4D7gH2VdWRCc5pD0OSenbSBygl+RYnBrmfAnz1+FuMBr2f3nmFJ+EDlCRpcqt9gNJJB72rat3qS5IkrSWTLG8+M7wlJUn9G2RgOOgtSf0bZGDYw5Ck/g0yMOxhSFL/BhkYkqT+GRiSpCaDDAzHMCSpf4MMDMcwJKl/gwwMSVL/DAxJUpNBBoZjGJLUv0EGhmMYktS/QQaGJKl/BoYkqYmBIUlqYmBIkpoMMjCcJSVJ/RtkYDhLSpL6N8jAkCT1z8CQJDUxMCRJTQwMSVITA0OS1GSQgeG0Wknq3yADw2m1ktS/QQaGJKl/BoYkqYmBIUlqYmBIkpoYGJKkJgaGJKmJgSFJamJgSJKazExgJHl2kt9Pcsu0a5Ek/f86DYwk1yd5MMnhJfu3J7k3ydEkVwNU1X1VtbvLeiRJq9d1D+MGYPviHUnWAdcClwJbgSuSbO24DknSKeo0MKrqAPClJbu3AUfHPYqHgZuBna3nTLInyXyS+Yceeug0VitJOplpjGFsBO5ftL0AbEzyrCTXAS9M8svLfbiq9lbVXFXNbdiwoetaJUljZ0y7gOOq6ovAG1qOTbID2LF58+Zui5IkPWoaPYwHgPMXbZ833tfM5c0lqX/TCIyDwEVJLkxyJrAL2D+FOiRJE+h6Wu1NwB3AliQLSXZX1SPAVcBtwD3Avqo6MuF5feKeJPUsVTXtGlZtbm6u5ufnp12GJA1KkkNVNTfp52bmm96TsIchSf0bZGA46C1J/RtkYEiS+jfIwPCWlCT1b5CB4S0pSerfIANDktS/QQaGt6QkqX+DDAxvSUlS/wYZGJKk/hkYkqQmBoYkqckgA8NBb0nq3yADw0FvSerfIANDktQ/A0OS1MTAkCQ1GWRgOOgtSf0bZGA46C1J/RtkYEiS+mdgSJKaGBiSpCYGhiSpiYEhSWpiYEiSmgwyMPwehiT1b5CB4fcwJKl/gwwMSVL/DAxJUhMDQ5LUxMCQJDUxMCRJTQwMSVITA0OS1OSMaRdwXJL1wLuAh4Hbq+qPplySJGmRTnsYSa5P8mCSw0v2b09yb5KjSa4e7/4J4JaquhK4vMu6JEmT6/qW1A3A9sU7kqwDrgUuBbYCVyTZCpwH3D8+7Fsd1yVJmlCngVFVB4AvLdm9DThaVfdV1cPAzcBOYIFRaHRelyRpctMYw9jIiZ4EjILixcA1wDuTXAZ8ZLkPJ9kD7BlvfmPp7a4nsHOBL0y7iBlhW5xgW5xgW5ywZTUfmplB76r6CvD6huP2AnsBksxX1VzXtQ2BbXGCbXGCbXGCbXFCkvnVfG4at34eAM5ftH3eeJ8kaYZNIzAOAhcluTDJmcAuYP8U6pAkTaDrabU3AXcAW5IsJNldVY8AVwG3AfcA+6rqyCovsfc0lboW2BYn2BYn2BYn2BYnrKotUlWnuxBJ0hrk9FVJUhMDQ5LUZBCBscxSIovf/44kHxi//9dJLui/yn40tMUvJLk7yaeS/FmS75lGnX1YqS0WHfeTSSrJmp1S2dIWSV49/t04kuT9fdfYl4a/I5uS/EWST4z/nrxqGnV2bbmlmRa9nyTXjNvpU0kuXvGkVTXTP8A64P8AzwbOBP4nsHXJMT8HXDd+vQv4wLTrnmJb/Ahw9vj1G5/IbTE+7mnAAeBOYG7adU/x9+Ii4BPAM8fb3zntuqfYFnuBN45fbwU+M+26O2qLlwIXA4eXef9VwMeAAD8I/PVK5xxCD2O5pUQW2wm8d/z6FuBHk6THGvuyYltU1V9U1VfHm3dyYrmVtabl9wLg14HfBL7eZ3E9a2mLK4Frq+rvAKrqwZ5r7EtLWxTw9PHrc4DP91hfb+rxl2ZabCdwY43cCTwjyT892TmHEBiPt5TIxuWOqdG03WPAs3qprl8tbbHYbkb/g1iLVmyLcRf7/Kr6aJ+FTUHL78X3Ad+X5K+S3JlkO2tTS1u8DXhtkgXgVuBN/ZQ2cyb992R2lgbR6ZXktcAc8C+nXcs0JHkS8HbgdVMuZVacwei21CWMep0Hkjy/qv5+qlVNxxXADVX120n+OfC+JM+rqm9Pu7BZN4QeRstSIo8ek+QMRt3ML/ZSXb+allVJ8jLgLcDlVfWNnmrr20pt8TTgecDtST7D6B7t/jU68N3ye7EA7K+qb1bVp4G/YRQga01LW+wG9gFU1R3AWYwWJnyimXiZpiEERstSIvuBnx2//ingz2s8qrPGrNgWSV4IvJtRWKzV+9SwQltU1bGqOreqLqiqCxiN51xeVatadG3Gtfwd+TCj3gVJzmV0i+q+PovsSUtbfA74UYAkz2UUGA/1WuVs2A/8zHi21A8Cx6rq/57sAzN/S6qqHklyfCmRdcD1VXUkyX8C5qtqP/D7jLqVRxkN8uyaXsXdaWyL3wKeCnxwPO7/uapac08wbGyLJ4TGtrgNeEWSuxk9oOw/VtWa64U3tsUvAu9J8h8YDYC/bi3+B3O8NNMlwLnj8ZpfA54MUFXXMRq/eRVwFPgqDauFuzSIJKnJEG5JSZJmgIEhSWpiYEiSmhgYkqQmBoYkqcnMT6uVZkWSZwF/Nt78bkbTU4/P3982XrtIWrOcViutQpK3AV+uqv887VqkvnhLSlq9pyT5dJInAyR5+vHtJLcn+d0kn0xyOMm28THrx88puGv8PIbHW2FXmkkGhrR6XwNuBy4bb+8CPlRV3xxvn11V/4zR81quH+97C6Ola7YxenbJbyVZ31/J0uoZGNKp+T1OLKnweuAPFr13Ezz6XIKnJ3kG8Arg6iSfZBQ2ZwGbeqtWOgUOekunoKr+KskFSS4B1lXV4sdhLh0gLEZPN/vJqrq3rxql08UehnTqbgTez2N7FwCvAUjyQ4xWAj3GaFG8Nx1/IuR4dWFpEAwM6dT9EfBMxregFvl6kk8A1zF6BgOMHhn7ZOBTSY6Mt6VBcFqtdIqS/BSws6r+7aJ9twO/tEafv6EnKMcwpFOQ5B3ApYyeKyCtafYwJElNHMOQJDUxMCRJTQwMSVITA0OS1MTAkCQ1+X/Ni4c5fKGCugAAAABJRU5ErkJggg==\n",
      "text/plain": [
       "<Figure size 432x288 with 1 Axes>"
      ]
     },
     "metadata": {
      "needs_background": "light"
     },
     "output_type": "display_data"
    }
   ],
   "source": [
    "if CommonNeighAnl:\n",
    "    #\n",
    "    plt.yscale('log')\n",
    "    plt.ylim(1,1e5)\n",
    "    plt.xlabel('Type')\n",
    "    plt.ylabel('Frequency')\n",
    "    #\n",
    "    x, y = np.unique(pd.DataFrame(cna.__dict__)['StructureType'], return_counts=True) #bug !!! len(y)!=5\n",
    "    plt.bar(x, y)\n",
    "    #\n",
    "    plt.show()\n",
    "    #--- strain\n",
    "    dx=box.CellVector[0,1]-box0.CellVector[0,1]\n",
    "    l1=box.CellVector[1,1]\n",
    "    ebulk = [dx/l1]\n",
    "\n",
    "    #--- save\n",
    "    np.savetxt('StructureTypeCounts.txt',np.array(ebulk+list(map(int,y))).reshape((1,6)),\n",
    "               header='Strain,n0,n1,n2,n3,n4', fmt='%s')\n"
>>>>>>> 4c2950427a7f59a7bf5ba5ca184c3d2096def48f
   ]
  },
  {
   "cell_type": "markdown",
   "metadata": {},
   "source": [
<<<<<<< HEAD
    "### Print"
=======
    "#### Multiple Frames"
>>>>>>> 4c2950427a7f59a7bf5ba5ca184c3d2096def48f
   ]
  },
  {
   "cell_type": "code",
<<<<<<< HEAD
   "execution_count": 280,
   "metadata": {},
   "outputs": [],
   "source": [
    "def GetOrthogonalBasis( CellVector ): \n",
    "    a0 = CellVector[:,0]\n",
    "    l0 = np.dot(a0,a0)**0.5\n",
    "    n0 = a0 / l0 \n",
    "    #\n",
    "    a1 = CellVector[:,1]\n",
    "    a1_perp = a1 - np.dot( a1, n0 ) * n0\n",
    "    l1 = np.dot( a1_perp, a1_perp) ** 0.5\n",
    "    #\n",
    "    a2 = CellVector[:,2]\n",
    "    l2 = np.dot(a2,a2)**0.5\n",
    "    \n",
    "    return np.c_[a0, a1_perp, a2], [l0, l1, l2]\n",
    "\n",
    "def GetPoints( CellOrigin, CellVector, xyz, ev = 0.2, output_attr = ['x','y','z'],**kwargs ):\n",
    "    \n",
    "    #--- tensor associated with dilation\n",
    "    strainTensor = np.array([[ev/3.0,0,0],\n",
    "                            [0,ev/3.0,0],\n",
    "                            [0,0,ev/3.0]])\n",
    "    #\n",
    "    identityMat = np.array([[1,0,0],[0,1,0],[0,0,1]])\n",
    "    #\n",
    "    CellVectorOrtho, VectorNorm = GetOrthogonalBasis( CellVector )\n",
    "\n",
    "    #--- extend diagonal\n",
    "    rvect = -np.matmul( CellVectorOrtho, np.array([0.5,0.5,0.5]))\n",
    "    CellOrigin_expanded = CellOrigin + np.matmul(strainTensor,rvect)\n",
    "\n",
    "    #--- extend basis vectors\n",
    "    CellVector_expanded = np.matmul( identityMat + strainTensor, CellVectorOrtho )\n",
    "\n",
    "    #--- (beta0,beta1,beta2) associated with original atoms and their images \n",
    "    #--- with reference to the expanded box \n",
    "    DimensionlessCords = GetDimensionlessCords( CellVector_expanded, \n",
    "                                                xyz,\n",
    "                                                CellOrigin_expanded,\n",
    "                                                **kwargs )\n",
    "    #--- filter: only inside the expanded box \n",
    "    index0 = np.all([DimensionlessCords['beta0'] >= 0.0, DimensionlessCords['beta0'] < 1.0], axis=0 )\n",
    "    index1 = np.all([DimensionlessCords['beta1'] >= 0.0, DimensionlessCords['beta1'] < 1.0], axis=0 )\n",
    "    index2 = np.all([DimensionlessCords['beta2'] >= 0.0, DimensionlessCords['beta2'] < 1.0], axis=0 )\n",
    "    bete_inside = DimensionlessCords[np.all([index0,index1,index2],axis=0)]\n",
    "\n",
    "    #--- xyz coordinates\n",
    "    kwargss = {}\n",
    "    for keys in kwargs:\n",
    "        kwargss[ keys ] = bete_inside[ keys ]        \n",
    "    xyz_inside = GetXYZ( CellVector_expanded, CellOrigin_expanded, \n",
    "                         np.c_[bete_inside[['beta0','beta1','beta2']]],\n",
    "                         output_attr,\n",
    "                         **kwargss )\n",
    "    \n",
    "    return xyz_inside\n",
    "\n",
    "def PrintOvito( cordc, sfile, footer, attr_list=['x','y','z'] ):\n",
    "    smat = cordc[attr_list]\n",
    "    np.savetxt(sfile,[len(smat)],fmt='%s', footer='%s, %s'%(footer,str(attr_list)))\n",
    "    np.savetxt(sfile,smat,fmt='%s')\n",
    "    sfile.close()\n",
    "\n",
    "\n",
    "\n",
    "#--- print \n",
    "file_name = 'displ.xyz'\n",
    "try:\n",
    "    os.system('rm %s'%file_name)\n",
    "except:\n",
    "    pass\n",
    "\n",
    "times = coord.keys()\n",
    "times.sort()\n",
    "for time_i, time_j in zip(times[:-1], times[1:]):   \n",
    "    if REF == 'initial':\n",
    "        time_i = 0\n",
    "    #--- get a chunck of full copies\n",
    "    df_i = coord[ time_i ]\n",
    "    df_j = coord[ time_j ]\n",
    "\n",
    "    df_chunk =  GetPoints( CellOrigin[ time_i ], \n",
    "                               CellVector[ time_i ],\n",
    "                               np.c_[df_i[['xm','ym','zm']]].astype('float'), #--- give mapped coordinates\n",
    "                               ev = 0.3,\n",
    "                               output_attr = ['xm','ym','zm'],\n",
    "                               id = df_i['id'],\n",
    "                               type = df_i['type'],\n",
    "                               x = df_i['x'],\n",
    "                               y = df_i['y'],\n",
    "                               z = df_i['z'],\n",
    "                               ux = df_j['ux'],\n",
    "                               uy = df_j['uy'],\n",
    "                               uz = df_j['uz'],\n",
    "                             )\n",
    "    \n",
    "\n",
    "    PrintOvito( df_chunk, \n",
    "                open(file_name,'a'), \n",
    "                footer = 'ITIME=%s'%time_j,\n",
    "                attr_list=['id','type','xm','ym','zm','ux','uy','uz'] )\n",
    "\n"
=======
   "execution_count": 142,
   "metadata": {},
   "outputs": [
    {
     "data": {
      "image/png": "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\n",
      "text/plain": [
       "<Figure size 288x288 with 1 Axes>"
      ]
     },
     "metadata": {
      "needs_background": "light"
     },
     "output_type": "display_data"
    }
   ],
   "source": [
    "if CommonNeighAnl:\n",
    "    sarr = MultipleFrames(path='StructureTypeFeNi',irun=1,title='StructureTypeCounts.txt')\n",
    "    #\n",
    "    fig = plt.figure(figsize=(4,4))\n",
    "    ax = fig.add_subplot(111)\n",
    "    ax.set_xlabel('$\\gamma$')\n",
    "    ax.set_ylabel('Frequency')\n",
    "    ax.set_ylim(1e0,1e4)\n",
    "    ax.set_yscale('log')\n",
    "    #\n",
    "    #ax.plot(sarr[:,0],sarr[:,1],label='Other')\n",
    "    ax.plot(sarr[:,0],sarr[:,2],label='FCC')\n",
    "    ax.plot(sarr[:,0],sarr[:,3],label='HCP')\n",
    "    ax.plot(sarr[:,0],sarr[:,4],label='BCC')\n",
    "    ax.plot(sarr[:,0],sarr[:,5],label='ICO')\n",
    "    #\n",
    "    ax.legend(frameon=False)\n",
    "    plt.savefig('StructureTypeGamma.png',dpi=75,bbox_inches='tight')\n",
    "    plt.show()"
   ]
  },
  {
   "cell_type": "markdown",
   "metadata": {},
   "source": [
    "### Crltns with d2min"
   ]
  },
  {
   "cell_type": "code",
   "execution_count": 124,
   "metadata": {},
   "outputs": [
    {
     "data": {
      "image/png": "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\n",
      "text/plain": [
       "<Figure size 288x288 with 1 Axes>"
      ]
     },
     "metadata": {
      "needs_background": "light"
     },
     "output_type": "display_data"
    }
   ],
   "source": [
    "if CommonNeighAnl and DminAnalysis:\n",
    "    fig = plt.figure(figsize=(4,4))\n",
    "    ax = fig.add_subplot(111)\n",
    "    ax.set_xlabel('Type')\n",
    "    ax.set_ylabel('D2min')\n",
    "    ax.set_ylim(1e-3,1e3)\n",
    "    ax.xaxis.set_ticks([0,1,2,3,4])\n",
    "    ax.xaxis.set_ticklabels(['Other','FCC','HCP','BCC','ICO'])\n",
    "    \n",
    "    ax.set_yscale('log')\n",
    "    ax.scatter(pd.DataFrame(cna.__dict__).sort_values(by='id')['StructureType'],\n",
    "                pd.DataFrame(d2min.__dict__).sort_values(by='id')['d2min'],\n",
    "                alpha = 0.1,\n",
    "                marker='x'\n",
    "               )"
>>>>>>> 4c2950427a7f59a7bf5ba5ca184c3d2096def48f
   ]
  },
  {
   "cell_type": "markdown",
   "metadata": {},
   "source": [
<<<<<<< HEAD
    "## Gradients"
=======
    "## Displacement Gradients"
>>>>>>> 4c2950427a7f59a7bf5ba5ca184c3d2096def48f
   ]
  },
  {
   "cell_type": "markdown",
   "metadata": {},
   "source": [
    "### Interpolate Displacements\n",
    "#### cubic grid"
   ]
  },
  {
   "cell_type": "code",
<<<<<<< HEAD
   "execution_count": 281,
   "metadata": {},
   "outputs": [],
   "source": [
    "def GetCubicGrid( CellOrigin, CellVector, dmean, margin  ):\n",
    "\n",
    "    CellVectorOrtho, VectorNorm = GetOrthogonalBasis( CellVector )\n",
    "    \n",
    "    volume = np.linalg.det( CellVectorOrtho )\n",
    "\n",
    "\n",
    "    [nx, ny, nz] = map( int, (np.array(VectorNorm)+2*margin) / dmean )\n",
    "    if nx%2 == 0:\n",
    "        nx += 1\n",
    "    if ny%2 == 0:\n",
    "        ny += 1\n",
    "    if nz%2 == 0:\n",
    "        nz += 1\n",
    "    \n",
    "    x = np.linspace( CellOrigin[0] - margin, CellOrigin[0] + VectorNorm[ 0 ] + margin, nx,endpoint=False)\n",
    "    y = np.linspace( CellOrigin[1] - margin, CellOrigin[1] + VectorNorm[ 1 ] + margin, ny,endpoint=False)\n",
    "    z = np.linspace( CellOrigin[2] - margin, CellOrigin[2] + VectorNorm[ 2 ] + margin, nz,endpoint=False)\n",
    "\n",
    "    return (x, y, z), np.meshgrid(x, y,z)\n",
    "\n",
    "\n",
    "\n",
    "#--- mean dist between atoms \n",
    "natoms = len( coord_atoms_broken[ 0 ] ) \n",
    "CellVectorOrtho, VectorNorm = GetOrthogonalBasis( CellVector[ 0 ] )\n",
    "volume = np.linalg.det( CellVectorOrtho )\n",
    "dmean = 0.5 * ( volume / natoms ) ** (1.0/3.0) \n",
    "\n",
    "#--- grid tiling mapped box with original size\n",
    "#--- values are interpolated onto this grid\n",
    "(xlin, ylin, zlin), (xv, yv, zv) = GetCubicGrid( CellOrigin[ 0 ], \n",
    "                                                 CellVector[ 0 ], \n",
    "                                                 dmean,\n",
    "                                                 margin = 0.0 * dmean )\n",
    "xi = np.array(zip(xv.flatten(), yv.flatten(), zv.flatten()))\n"
=======
   "execution_count": 91,
   "metadata": {},
   "outputs": [],
   "source": [
    "#--- mean dist between atoms \n",
    "natoms = len( atoms0.x ) \n",
    "CellVectorOrtho, VectorNorm = lp.GetOrthogonalBasis( box0.CellVector )\n",
    "volume = np.linalg.det( CellVectorOrtho )\n",
    "dmean = ( volume / natoms ) ** (1.0/3.0) \n",
    "\n",
    "#--- grid tiling mapped box with original size\n",
    "#--- values are interpolated onto this grid\n",
    "(xlin, ylin, zlin), (xv, yv, zv) = lp.GetCubicGrid( box0.CellOrigin, \n",
    "                                                 box0.CellVector, \n",
    "                                                 dmean,\n",
    "                                                 margin = 0.0 * dmean )\n",
    "xi = np.array(list(zip(xv.flatten(), yv.flatten(), zv.flatten())))\n"
>>>>>>> 4c2950427a7f59a7bf5ba5ca184c3d2096def48f
   ]
  },
  {
   "cell_type": "markdown",
   "metadata": {},
   "source": [
    "#### center box + margin"
   ]
  },
  {
   "cell_type": "code",
<<<<<<< HEAD
   "execution_count": 282,
   "metadata": {},
   "outputs": [],
   "source": [
    "df_intrp = {}\n",
    "times = coord.keys()\n",
    "times.sort()\n",
    "for time_i, time_j in zip(times[:-1], times[1:]):   \n",
    "    if REF == 'initial':\n",
    "        time_i = 0\n",
    "    #--- get a chunck of full copies\n",
    "    df_i = coord[ time_i ]\n",
    "    df_j = coord[ time_j ]\n",
    "    \n",
    "    #--- get points from which values are interpolated\n",
    "    pointsValues =  GetPoints( CellOrigin[ time_i ], \n",
    "                               CellVector[ time_i ],\n",
    "                               np.c_[df_i[['xm','ym','zm']]].astype('float'), #--- give mapped coordinates\n",
    "                               ev = 0.3,\n",
    "                               output_attr = ['xm','ym','zm'],\n",
    "                               id = df_i['id'],\n",
    "                               type = df_i['type'],\n",
    "                               x = df_i['x'],\n",
    "                               y = df_i['y'],\n",
    "                               z = df_i['z'],\n",
    "                               ux = df_j['ux'],\n",
    "                               uy = df_j['uy'],\n",
    "                               uz = df_j['uz'],\n",
    "                             )\n",
    "        \n",
    "    #--- interpolate\n",
    "    points = pointsValues[['xm','ym','zm']]\n",
    "    values = pointsValues[['ux','uy','uz']]\n",
    "    grid_z = scp_int.griddata(points, values, xi, method='linear')\n",
    "    assert not np.any(np.isnan(grid_z.flatten())), 'increase ev!'\n",
    "    \n",
    "    #--- store in dataframe\n",
    "    df_intrp[ time_j ] = pd.DataFrame(np.c_[xi,grid_z],columns=['x','y','z','ux','uy','uz'])\n"
=======
   "execution_count": 92,
   "metadata": {},
   "outputs": [],
   "source": [
    "if StrnAnalysis:\n",
    "    #--- get a chunk of the full copy\n",
    "    cptmp = lp.Copy(atoms0, box0) #--- important: must be reference frame!!\n",
    "    indices = cptmp.isInsideExpanded( np.c_[xatoms0.xm,xatoms0.ym,xatoms0.zm], \n",
    "                                      epsilon = 0.2, mode = 'isotropic' )\n",
    "\n",
    "    points = np.c_[uatoms.xm,uatoms.ym,uatoms.zm][indices] #--- unstructured points\n",
    "    values = np.c_[uatoms.dx,uatoms.dy,uatoms.dz][indices] #--- corresponding values\n",
    "\n",
    "    grid_z = scp_int.griddata(points, values, xi, method='linear')\n",
    "    assert not np.any(np.isnan(grid_z.flatten())), 'increase ev!'\n",
    "\n",
    "    #--- make an object\n",
    "    uintrp = lp.Atoms(**pd.DataFrame(np.c_[xi,grid_z],columns=['x','y','z','dx','dy','dz']).to_dict(orient='list'))\n",
    "\n"
>>>>>>> 4c2950427a7f59a7bf5ba5ca184c3d2096def48f
   ]
  },
  {
   "cell_type": "markdown",
   "metadata": {},
   "source": [
    "#### Print"
   ]
  },
  {
   "cell_type": "code",
<<<<<<< HEAD
   "execution_count": 283,
   "metadata": {},
   "outputs": [],
   "source": [
    "file_name = 'intrp.xyz'\n",
    "try:\n",
    "    os.system('rm %s'%file_name)\n",
    "except:\n",
    "    pass\n",
    "\n",
    "for itime in df_intrp:\n",
    "    PrintOvito( df_intrp[ itime ], \n",
    "                    open( file_name,'a'), \n",
    "                    footer = 'ITIME=%s'%itime,\n",
    "                    attr_list=['x','y','z','ux','uy','uz'] )\n"
=======
   "execution_count": 289,
   "metadata": {},
   "outputs": [],
   "source": [
    "if StrnAnalysis:\n",
    "\n",
    "    file_name = 'uintrp.xyz'\n",
    "    try:\n",
    "        os.system('rm %s'%file_name)\n",
    "    except:\n",
    "        pass\n",
    "\n",
    "    #for itime in df_intrp:\n",
    "    PrintOvito( pd.DataFrame( uintrp.__dict__ ), \n",
    "                    open( file_name,'a'), \n",
    "                    footer = 'ITIME=%s'%itime,\n",
    "                    attr_list=['x','y','z','dx','dy','dz'] )\n"
>>>>>>> 4c2950427a7f59a7bf5ba5ca184c3d2096def48f
   ]
  },
  {
   "cell_type": "markdown",
   "metadata": {},
   "source": [
    "### Strain tensor"
   ]
  },
  {
   "cell_type": "code",
<<<<<<< HEAD
   "execution_count": 284,
   "metadata": {},
   "outputs": [],
   "source": [
    "def GetStrain( value, (xlin,ylin,zlin), (xv,yv,zv)):\n",
    "    #--- reshape matrix\n",
    "    nx,ny,nz = len(xlin), len(ylin),len(zlin) \n",
    "    ux = np.c_[value['ux']].reshape((ny,nx,nz))\n",
    "    uy = np.c_[value['uy']].reshape((ny,nx,nz))\n",
    "    uz = np.c_[value['uz']].reshape((ny,nx,nz))\n",
    "\n",
    "    #--- gradient\n",
    "    ux_x = np.gradient(ux,xlin,axis=1)\n",
    "    ux_y = np.gradient(ux,ylin,axis=0)\n",
    "    ux_z = np.gradient(ux,zlin,axis=2)\n",
    "\n",
    "    uy_x = np.gradient(uy,xlin,axis=1)\n",
    "    uy_y = np.gradient(uy,ylin,axis=0)\n",
    "    uy_z = np.gradient(uy,zlin,axis=2)\n",
    "\n",
    "    uz_x = np.gradient(uz,xlin,axis=1)\n",
    "    uz_y = np.gradient(uz,ylin,axis=0)\n",
    "    uz_z = np.gradient(uz,zlin,axis=2)\n",
    "\n",
    "    #--- strain\n",
    "    exx = ux_x\n",
    "    exy = 0.5 * ( ux_y + uy_x )\n",
    "    exz = 0.5 * ( ux_z + uz_x )\n",
    "\n",
    "    eyx = exy\n",
    "    eyy = uy_y\n",
    "    eyz = 0.5 * ( uy_z + uz_y )\n",
    "\n",
    "    ezx = exz\n",
    "    ezy = eyz\n",
    "    ezz = uz_z\n",
    "    \n",
    "    #--- subtract mean\n",
    "    exx -= np.mean(exx)\n",
    "    exy -= np.mean(exy)\n",
    "    exz -= np.mean(exz)\n",
    "\n",
    "    eyx -= np.mean(eyx)\n",
    "    eyy -= np.mean(eyy)\n",
    "    eyz -= np.mean(eyz)\n",
    "\n",
    "    ezx -= np.mean(ezx)\n",
    "    ezy -= np.mean(ezy)\n",
    "    ezz -= np.mean(ezz)\n",
    "    \n",
    "    return pd.DataFrame(np.c_[xv.flatten(),yv.flatten(),zv.flatten(),\n",
    "                 exx.flatten(), eyy.flatten(), ezz.flatten(), \n",
    "                 exy.flatten(), eyz.flatten(), ezx.flatten()], \n",
    "                 columns = ['x','y','z','exx','eyy','ezz','exy','eyz','ezx'])\n",
    "\n",
    "Strain = {}\n",
    "for itime in df_intrp:\n",
    "    Strain[itime] = GetStrain(df_intrp[ itime ], (xlin,ylin,zlin), (xv,yv,zv))\n"
=======
   "execution_count": 93,
   "metadata": {},
   "outputs": [],
   "source": [
    "if StrnAnalysis:\n",
    "    csn = lp.ComputeStrn( uintrp, box0 )\n",
    "    csn.Reshape( xlin, ylin, zlin )\n",
    "    csn.Gradient()\n",
    "    csn.SetStrn('exy')\n",
    "    Exy = csn.Get(attrs = ['x','y','z','exy'])\n"
>>>>>>> 4c2950427a7f59a7bf5ba5ca184c3d2096def48f
   ]
  },
  {
   "cell_type": "markdown",
   "metadata": {},
   "source": [
    "#### imshow"
   ]
  },
  {
   "cell_type": "code",
<<<<<<< HEAD
   "execution_count": 285,
   "metadata": {},
   "outputs": [
    {
     "data": {
      "image/png": "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\n",
=======
   "execution_count": 96,
   "metadata": {
    "scrolled": true
   },
   "outputs": [
    {
     "data": {
      "image/png": "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\n",
>>>>>>> 4c2950427a7f59a7bf5ba5ca184c3d2096def48f
      "text/plain": [
       "<Figure size 432x288 with 2 Axes>"
      ]
     },
     "metadata": {
      "needs_background": "light"
     },
     "output_type": "display_data"
    }
   ],
   "source": [
    "def FilterMatrix( CellVector, CellOrigin,\n",
<<<<<<< HEAD
    "                  (xlin, ylin, zlin),\n",
    "                  (xv, yv, zv ),\n",
    "                   value\n",
    "                ):\n",
    "    #--- xlims of the original box\n",
    "    CellVectorOrtho, VectorNorm = GetOrthogonalBasis( CellVector )\n",
=======
    "                  xlin, ylin, zlin,\n",
    "                  xv, yv, zv ,\n",
    "                   value\n",
    "                ):\n",
    "    #--- xlims of the original box\n",
    "    CellVectorOrtho, VectorNorm = lp.GetOrthogonalBasis( CellVector )\n",
>>>>>>> 4c2950427a7f59a7bf5ba5ca184c3d2096def48f
    "    margin = 0.0    \n",
    "    (xlo,xhi)=( CellOrigin[0] - margin, CellOrigin[0] + VectorNorm[ 0 ] + margin)\n",
    "    (ylo,yhi)=( CellOrigin[1] - margin, CellOrigin[1] + VectorNorm[ 1 ] + margin)\n",
    "    (zlo,zhi)=(CellOrigin[2] - margin, CellOrigin[2] + VectorNorm[ 2 ] + margin )\n",
    "\n",
    "    #--- grid dimension tiling the original box\n",
    "    indices = np.all([xlin>=xlo, xlin<xhi],axis=0)\n",
    "    nx = xlin[indices].shape[0]\n",
    "    indices = np.all([ylin>=ylo, ylin<yhi],axis=0)\n",
    "    ny = ylin[indices].shape[0]\n",
    "    indices = np.all([zlin>=zlo, zlin<zhi],axis=0)\n",
    "    nz = zlin[indices].shape[0]\n",
    "\n",
    "    #--- filter matrices\n",
    "    indices = np.all([xv>=xlo,xv<xhi, yv>=ylo,yv<yhi, zv>=zlo,zv<zhi ],axis=0)\n",
    "    vf_flatten = value[indices] #--- filter extended grid\n",
    "    assert vf_flatten.shape[0] == nx*ny*nz, '%s != %s'%(vf_flatten.shape[0], nx*ny*nz)\n",
    "    vf = vf_flatten.reshape((ny,nx,nz))\n",
    "    return vf\n",
    "\n",
<<<<<<< HEAD
    "def CenterMatrix(a):\n",
    "    ( mgrid, ngrid ) = a.shape\n",
    "    return np.array([[ a[i,j] for j in xrange(-(ngrid/2),ngrid/2+ngrid%2)] \n",
    "                              for i in xrange(-(mgrid/2),mgrid/2+mgrid%2)])\n",
    "\n",
    "def PltBitmap( value,\n",
    "              xlabel = 'x', ylabel = 'y',\n",
    "              xlim = (-0.5,0.5), ylim = (-0.5,0.5),\n",
    "              frac = 1.0, #--- plot a patch\n",
    "              zscore = True,\n",
    "             ):\n",
    "        \n",
    "    val = value.copy()\n",
    "    #--- z-score\n",
    "    if zscore:\n",
    "        val -= np.mean(val)\n",
    "        val /= np.std(val)\n",
    "        val[val>2.0]=1.0\n",
    "        val[val<-2.0]=-1.0\n",
    "    #--- plot\n",
    "    (mgrid,ngrid) = val.shape\n",
    "    center = (ngrid/2,mgrid/2)\n",
    "    plt.xlabel(xlabel)\n",
    "    plt.ylabel(ylabel)\n",
    "    pos = plt.imshow(val.real,cmap='bwr',\n",
    "                     extent=(xlim[0],xlim[1],ylim[0],ylim[1]),origin='lower' ,vmin=-.6, vmax=.6)\n",
    "#    plt.xlim(center[0]-(ngrid/2)*frac,center[0]+(ngrid/2)*frac)\n",
    "#    plt.ylim(center[1]-(mgrid/2)*frac,center[1]+(mgrid/2)*frac)\n",
    "#    plt.xlim(xlim[0]*frac,xlim[1]*frac)\n",
    "#    plt.ylim(ylim[0]*frac,ylim[1]*frac)\n",
    "    plt.colorbar( pos, fraction = 0.04)\n",
    "    plt.savefig('cxy.png',dpi=75,bbox_inches='tight')\n",
    "    plt.show()\n",
    "\n",
    "\n",
    "    \n",
    "\n",
    "itime = 4*500000\n",
    "#--- reshape value\n",
    "nx,ny,nz = len(xlin), len(ylin),len(zlin) \n",
    "value = np.c_[Strain[itime]['exy']].reshape(((ny,nx,nz)))\n",
    "#--- filter value\n",
    "# value = FilterMatrix( CellVector[0], CellOrigin[0],\n",
    "#                   (xlin, ylin, zlin),\n",
    "#                   (xv, yv, zv ),\n",
    "#                    value )\n",
    "#print value.shape\n",
    "#print vf.shape\n",
    "\n",
    "CellVectorOrtho, VectorNorm = GetOrthogonalBasis( CellVector[ itime ] ) #--- box length\n",
    "#--- xy plane\n",
    "val = value[:,:,-1].copy()\n",
    "#print val.shape\n",
    "\n",
    "PltBitmap(val, \n",
    "          xlabel = 'x', ylabel = 'y',\n",
    "          xlim=VectorNorm[0]*np.array([0.0,1.0]),ylim=VectorNorm[1]*np.array([0.0,1.0]),\n",
    "          zscore = None,\n",
    "          frac = 1.0, #--- plot a patch\n",
    "        )"
=======
    "\n",
    "\n",
    "if StrnAnalysis:\n",
    "\n",
    "    #itime = np.max(dfD2min_intrp.keys())\n",
    "    #--- reshape value\n",
    "    nx,ny,nz = len(xlin), len(ylin),len(zlin) \n",
    "    value = np.c_[Exy.exy].reshape(((ny,nx,nz)))\n",
    "    #value = np.c_[dfD2min_intrp[itime]['d2min']].reshape(((ny,nx,nz)))\n",
    "\n",
    "    # lx=xlin[-1]-xlin[0]\n",
    "    # ly=ylin[-1]-ylin[0]\n",
    "    # #value = np.sin(2*pi*np.c_[(df_intrp[itime]['x']-xlin[0])]/lx)\n",
    "    # value = np.c_[df_intrp[itime]['ux']]\n",
    "    # value = value.reshape(((ny,nx,nz)))\n",
    "    #print value.shape\n",
    "\n",
    "    #--- filter value\n",
    "    # value = FilterMatrix( box0.CellVector, box0.CellOrigin,\n",
    "    #                   (xlin, ylin, zlin),\n",
    "    #                   (xv, yv, zv ),\n",
    "    #                    value )\n",
    "    #print value.shape\n",
    "    #print vf.shape\n",
    "\n",
    "    CellVectorOrtho, VectorNorm = lp.GetOrthogonalBasis( box.CellVector ) #--- box length\n",
    "    #--- xy plane\n",
    "    val = value[:,:,-1].copy()\n",
    "    #val = value[:,:,nz/2].copy()\n",
    "    #print val.shape\n",
    "\n",
    "    PltBitmap(val, \n",
    "              xlabel = 'x', ylabel = 'y',\n",
    "              xlim=VectorNorm[0]*np.array([0.0,1.0]),ylim=VectorNorm[1]*np.array([0.0,1.0]),\n",
    "              zscore = True,\n",
    "              frac = 1.0, #--- plot a patch\n",
    "               title = 'strain.png',\n",
    "           )"
   ]
  },
  {
   "cell_type": "code",
   "execution_count": 89,
   "metadata": {
    "scrolled": false
   },
   "outputs": [],
   "source": [
    "# fig=plt.figure(figsize=(4,4))\n",
    "# ax=fig.add_subplot(111)\n",
    "# ax2=ax.twinx()\n",
    "\n",
    "# # ax.set_xlim(min(xlin),max(xlin))\n",
    "# # ax2.set_xlim(min(xlin),max(xlin))\n",
    "# # ax.set_ylim(-1,1)\n",
    "# # ax2.set_ylim(-1,1)\n",
    "\n",
    "# f = val[:,0]\n",
    "# df=val0[:,0]\n",
    "\n",
    "# dx=xlin[1]-xlin[0]\n",
    "# ax.plot(ylin, f,'-o',label='uy')\n",
    "# #ax2.plot(ylin, np.gradient(f,xlin,edge_order=2)/(2*pi/lx),'-s',color='red',label='duydx')\n",
    "# ax2.plot(ylin, np.gradient(f,ylin,edge_order=2),'-s',color='red',label='duydx')\n",
    "# #ax2.plot(xlin[:-1], np.diff(f)/dx/(2*pi/lx),'-s',color='red',label='duydx')\n",
    "# #ax2.plot(ylin,df/(2*pi/lx),'-x',color='black',label='duydxFFT')\n",
    "# ax2.plot(ylin,df,'-x',color='black',label='duydxFFT')\n",
    "\n",
    "\n",
    "# ax2.legend()\n",
    "# plt.show()"
   ]
  },
  {
   "cell_type": "code",
   "execution_count": 90,
   "metadata": {
    "scrolled": true
   },
   "outputs": [],
   "source": [
    "# itime = np.max(Strain.keys())\n",
    "# nx,ny,nz = len(xlin), len(ylin),len(zlin) \n",
    "\n",
    "# # value = np.sin(2*pi*np.c_[df_intrp[itime]['x']]/nx)\n",
    "# # value = value.reshape(((ny,nx,nz)))\n",
    "# #dvalux = GetDerivX( value,lx )\n",
    "\n",
    "# #value = np.c_[df_intrp[itime]['ux']].reshape(((ny,nx,nz)))\n",
    "# dvaluy = GetDerivY( value,ly )\n",
    "\n",
    "# exy=dvaluy\n",
    "# #--- xy plane\n",
    "# value0 = exy[:,:,-1].copy()\n",
    "\n",
    "# PltBitmap(value0, \n",
    "#           xlabel = 'x', ylabel = 'y',\n",
    "#           xlim=VectorNorm[0]*np.array([0.0,1.0]),ylim=VectorNorm[1]*np.array([0.0,1.0]),\n",
    "#           zscore = None,\n",
    "#           frac = 1.0, #--- plot a patch\n",
    "#         )"
>>>>>>> 4c2950427a7f59a7bf5ba5ca184c3d2096def48f
   ]
  },
  {
   "cell_type": "markdown",
   "metadata": {},
   "source": [
    "#### Print"
   ]
  },
  {
   "cell_type": "code",
<<<<<<< HEAD
   "execution_count": 286,
   "metadata": {},
   "outputs": [],
   "source": [
    "file_name = 'strain.xyz'\n",
    "try:\n",
    "    os.system('rm %s'%file_name)\n",
    "except:\n",
    "    pass\n",
    "    \n",
    "times = Strain.keys()\n",
    "times.sort()\n",
    "for itime in times:\n",
    "    #--- bulk strain\n",
    "    dx=CellVector[ itime ][0,1]-CellVector[ 0 ][0,1]\n",
    "    l1=CellVector[ itime ][1,1]\n",
    "    ebulk = 0.5*dx/l1\n",
    "\n",
    "    \n",
    "    PrintOvito( Strain[ itime ], \n",
    "                    open( file_name,'a'), \n",
    "                    footer = 'epsilon=%2.1e'%(2*ebulk),\n",
    "                    attr_list=['x','y','z','exx','eyy','ezz','exy','eyz','ezx'] )\n",
=======
   "execution_count": 30,
   "metadata": {},
   "outputs": [],
   "source": [
    "if StrnAnalysis:\n",
    "\n",
    "    file_name = 'strain.xyz'\n",
    "    try:\n",
    "        os.system('rm %s'%file_name)\n",
    "    except:\n",
    "        pass\n",
    "\n",
    "    # times = Strain.keys()\n",
    "    # times.sort()\n",
    "    #--- bulk strain\n",
    "    dx=box.CellVector[0,1]-box.CellVector[0,1]\n",
    "    l1=box.CellVector[1,1]\n",
    "    ebulk = 0.5*dx/l1\n",
    "\n",
    "\n",
    "    PrintOvito( pd.DataFrame(Exy.__dict__), \n",
    "                    open( file_name,'a'), \n",
    "                    footer = 'epsilon=%2.1e'%(2*ebulk),\n",
    "                    attr_list=['x','y','z','exy'] )\n",
>>>>>>> 4c2950427a7f59a7bf5ba5ca184c3d2096def48f
    "    "
   ]
  },
  {
   "cell_type": "markdown",
   "metadata": {},
   "source": [
    "#### Auto-Correlations"
   ]
  },
  {
   "cell_type": "code",
<<<<<<< HEAD
   "execution_count": 287,
=======
   "execution_count": 97,
>>>>>>> 4c2950427a7f59a7bf5ba5ca184c3d2096def48f
   "metadata": {},
   "outputs": [],
   "source": [
    "def GetAutoCorrelation( val ):\n",
    "    value  = val.copy()\n",
    "    value -= np.mean( value )\n",
    "    value /= np.std( value )\n",
    "\n",
    "    ( nx, ny, nz ) =  value.shape\n",
    "    n = nx * ny * nz\n",
    "    vq = np.fft.fftn(value) #, axes=(0,1,2))\n",
    "    vq_sq = np.abs(vq)**2\n",
    "\n",
    "    v_real = np.fft.ifftn( vq_sq) / n #,  axes=(0,1,2) )\n",
    "    return v_real\n",
    "\n",
<<<<<<< HEAD
    "\n",
    "Crltn = {}\n",
    "for itime in df_intrp:\n",
    "    #\n",
    "    (nx,ny,nz) = len(xlin), len(ylin),len(zlin) \n",
    "    #\n",
    "    value = np.c_[Strain[itime]['exy']].reshape(((ny,nx,nz)))\n",
    "    #\n",
    "    #--- filter value\n",
    "#     value = FilterMatrix( CellVector[0], CellOrigin[0],\n",
    "#                   (xlin, ylin, zlin),\n",
    "#                   (xv, yv, zv ),\n",
    "#                    value )\n",
    "\n",
    "    Crltn[ itime ] = GetAutoCorrelation( value )\n"
=======
    "if StrnAnalysis:\n",
    "\n",
    "    #Crltn = {}\n",
    "    (nx,ny,nz) = len(xlin), len(ylin),len(zlin) \n",
    "    #\n",
    "    value = np.c_[Exy.exy].reshape((ny,nx,nz))\n",
    "    #    value = np.c_[dfD2min_intrp[itime]['d2min']].reshape(((ny,nx,nz)))\n",
    "    #    value = np.c_[df_intrp[itime]['ux']].reshape(((ny,nx,nz)))\n",
    "\n",
    "    #--- shuffle\n",
    "    #     ( nx, ny, nz ) =  value.shape\n",
    "    #     slist = value.flatten()\n",
    "    #     np.random.shuffle(slist)\n",
    "    #     value=slist.reshape((nx, ny, nz))    \n",
    "        #\n",
    "    #--- filter value\n",
    "    #     value = FilterMatrix( CellVector[0], CellOrigin[0],\n",
    "    #                   (xlin, ylin, zlin),\n",
    "    #                   (xv, yv, zv ),\n",
    "    #                    value )\n",
    "\n",
    "    Crltn = GetAutoCorrelation( value )\n"
>>>>>>> 4c2950427a7f59a7bf5ba5ca184c3d2096def48f
   ]
  },
  {
   "cell_type": "markdown",
   "metadata": {},
   "source": [
    "#### Print"
   ]
  },
  {
   "cell_type": "code",
<<<<<<< HEAD
   "execution_count": 291,
   "metadata": {},
   "outputs": [
    {
     "name": "stdout",
     "output_type": "stream",
     "text": [
      "itime= 500000\n"
     ]
    },
    {
     "data": {
      "image/png": "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\n",
      "text/plain": [
       "<Figure size 432x288 with 2 Axes>"
      ]
     },
     "metadata": {
      "needs_background": "light"
     },
     "output_type": "display_data"
    },
    {
     "name": "stdout",
     "output_type": "stream",
     "text": [
      "itime= 1000000\n"
     ]
    },
    {
     "data": {
      "image/png": "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\n",
      "text/plain": [
       "<Figure size 432x288 with 2 Axes>"
      ]
     },
     "metadata": {
      "needs_background": "light"
     },
     "output_type": "display_data"
    },
    {
     "name": "stdout",
     "output_type": "stream",
     "text": [
      "itime= 2000000\n"
     ]
    },
    {
     "data": {
      "image/png": "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\n",
      "text/plain": [
       "<Figure size 432x288 with 2 Axes>"
      ]
     },
     "metadata": {
      "needs_background": "light"
     },
     "output_type": "display_data"
    },
    {
     "name": "stdout",
     "output_type": "stream",
     "text": [
      "itime= 1500000\n"
     ]
    },
    {
     "data": {
      "image/png": "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\n",
=======
   "execution_count": 99,
   "metadata": {},
   "outputs": [
    {
     "data": {
      "image/png": "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\n",
>>>>>>> 4c2950427a7f59a7bf5ba5ca184c3d2096def48f
      "text/plain": [
       "<Figure size 432x288 with 2 Axes>"
      ]
     },
     "metadata": {
      "needs_background": "light"
     },
     "output_type": "display_data"
    }
   ],
   "source": [
<<<<<<< HEAD
    "\n",
    "def PltCrltn( value,\n",
    "              xlabel = 'x', ylabel = 'y',\n",
    "              xlim = (-0.5,0.5), ylim = (-0.5,0.5),\n",
    "              frac = 1.0, #--- plot a patch\n",
    "              zscore = True,\n",
    "              fileName = 'cxy.png',\n",
    "              dpi=75,\n",
    "            ):\n",
    "        \n",
    "    val = value.copy()\n",
    "    #--- zscore\n",
    "    if zscore:\n",
    "        val -= np.mean(val)\n",
    "        val /= np.std(val)\n",
    "        val[val>2.0]=1.0\n",
    "        val[val<-2.0]=-1.0\n",
    "    #\n",
    "    (mgrid,ngrid) = val.shape\n",
    "    center = (ngrid/2,mgrid/2)\n",
    "    plt.xlabel(xlabel)\n",
    "    plt.ylabel(ylabel)\n",
    "    pos = plt.imshow((CenterMatrix( val ).real),cmap='bwr',\n",
    "                     extent=(xlim[0],xlim[1],ylim[0],ylim[1])) #,vmin=-.01, vmax=.01)\n",
    "    plt.xlim(xlim[0]*frac,xlim[1]*frac)\n",
    "    plt.ylim(ylim[0]*frac,ylim[1]*frac)\n",
    "\n",
    "    plt.colorbar( pos, fraction = 0.04)\n",
    "    plt.savefig(fileName,dpi=dpi,bbox_inches='tight')\n",
    "    plt.show()\n",
    "\n",
    "\n",
    "for itime in Crltn:\n",
    "    print 'itime=',itime\n",
    "    CellVectorOrtho, VectorNorm = GetOrthogonalBasis( CellVector[ itime ] ) #--- box length\n",
    "    #    \n",
    "    crltn = Crltn[ itime ]\n",
=======
    "if StrnAnalysis:\n",
    "\n",
    "    # for itime in Crltn:\n",
    "    #     print 'itime=',itime\n",
    "    CellVectorOrtho, VectorNorm = lp.GetOrthogonalBasis( box.CellVector ) #--- box length\n",
    "        #    \n",
    "    crltn = Crltn #[ itime ]\n",
>>>>>>> 4c2950427a7f59a7bf5ba5ca184c3d2096def48f
    "    #--- xy plane\n",
    "    val = crltn[:,:,0].copy()\n",
    "    PltCrltn( val, \n",
    "              xlabel = 'x', ylabel = 'y',\n",
    "              xlim=VectorNorm[0]*np.array([-0.5,0.5]),ylim=VectorNorm[1]*np.array([-0.5,0.5]),\n",
    "              frac = 1, #--- plot a patch\n",
    "              zscore = False,\n",
<<<<<<< HEAD
    "              fileName = 'cxy.%s.png'%itime,\n",
    "              dpi = 60\n",
    "            )\n",
    "    # #--- zx plane\n",
    "    # val = crltn[0,:,:].copy()\n",
    "    # PltCrltn( val, \n",
    "    #           xlabel = 'z', ylabel = 'x',\n",
    "    #           xlim=VectorNorm[2]*np.array([-0.5,0.5]),ylim=VectorNorm[0]*np.array([-0.5,0.5]),\n",
    "    #           frac = 1.0, #--- plot a patch\n",
    "    #           zscore = False,\n",
    "    #         )\n",
    "    # #--- zy plane\n",
    "    # val = crltn[:,0,:].copy()\n",
    "    # PltCrltn( val, \n",
    "    #           xlabel = 'z', ylabel = 'y',\n",
    "    #           xlim=VectorNorm[2]*np.array([-0.5,0.5]),ylim=VectorNorm[1]*np.array([-0.5,0.5]),\n",
    "    #           frac = 1.0, #--- plot a patch\n",
    "    #           zscore = False,\n",
    "    #         )\n",
=======
    "              fileName = 'cxy_strain.%s.png'%itime,\n",
    "              dpi = 60\n",
    "            )\n",
    "        # #--- zx plane\n",
    "        # val = crltn[0,:,:].copy()\n",
    "        # PltCrltn( val, \n",
    "        #           xlabel = 'z', ylabel = 'x',\n",
    "        #           xlim=VectorNorm[2]*np.array([-0.5,0.5]),ylim=VectorNorm[0]*np.array([-0.5,0.5]),\n",
    "        #           frac = 1.0, #--- plot a patch\n",
    "        #           zscore = False,\n",
    "        #         )\n",
    "        # #--- zy plane\n",
    "        # val = crltn[:,0,:].copy()\n",
    "        # PltCrltn( val, \n",
    "        #           xlabel = 'z', ylabel = 'y',\n",
    "        #           xlim=VectorNorm[2]*np.array([-0.5,0.5]),ylim=VectorNorm[1]*np.array([-0.5,0.5]),\n",
    "        #           frac = 1.0, #--- plot a patch\n",
    "        #           zscore = False,\n",
    "        #         )\n",
>>>>>>> 4c2950427a7f59a7bf5ba5ca184c3d2096def48f
    "\n"
   ]
  },
  {
   "cell_type": "markdown",
   "metadata": {},
   "source": [
    "#### Crltn Length"
   ]
  },
  {
   "cell_type": "code",
<<<<<<< HEAD
   "execution_count": 289,
   "metadata": {},
   "outputs": [
    {
     "name": "stdout",
     "output_type": "stream",
     "text": [
      "itime= 500000\n"
     ]
    },
    {
     "data": {
      "image/png": "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\n",
      "text/plain": [
       "<Figure size 288x288 with 1 Axes>"
      ]
     },
     "metadata": {
      "needs_background": "light"
     },
     "output_type": "display_data"
    },
    {
     "name": "stdout",
     "output_type": "stream",
     "text": [
      "itime= 1000000\n"
     ]
    },
    {
     "data": {
      "image/png": "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\n",
      "text/plain": [
       "<Figure size 288x288 with 1 Axes>"
      ]
     },
     "metadata": {
      "needs_background": "light"
     },
     "output_type": "display_data"
    },
    {
     "name": "stdout",
     "output_type": "stream",
     "text": [
      "itime= 2000000\n"
     ]
    },
    {
     "data": {
      "image/png": "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\n",
=======
   "execution_count": 107,
   "metadata": {},
   "outputs": [
    {
     "data": {
      "image/png": "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\n",
>>>>>>> 4c2950427a7f59a7bf5ba5ca184c3d2096def48f
      "text/plain": [
       "<Figure size 288x288 with 1 Axes>"
      ]
     },
     "metadata": {
      "needs_background": "light"
     },
     "output_type": "display_data"
    },
    {
<<<<<<< HEAD
     "name": "stdout",
     "output_type": "stream",
     "text": [
      "itime= 1500000\n"
     ]
    },
    {
     "data": {
      "image/png": "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\n",
      "text/plain": [
       "<Figure size 288x288 with 1 Axes>"
      ]
     },
     "metadata": {
      "needs_background": "light"
     },
     "output_type": "display_data"
    }
   ],
   "source": [
    "def Get_rc( xdata, ydata, cTOL ):\n",
    "    try:\n",
    "        xc1 = xdata[np.abs(ydata)<cTOL][0] \n",
    "    except:\n",
    "        xc1 = np.nan\n",
    "    try:    \n",
    "        xc2 = xdata[ydata<0.0][0] #--- correlation length\n",
    "    except:\n",
    "        xc2 = np.nan\n",
    "    try:\n",
    "        xc = np.array([xc1,xc2])\n",
    "        xc = xc[~np.isnan(xc)].min()\n",
    "    except:\n",
    "        xc = np.nan\n",
    "    return xc\n",
    "\n",
    "def PltCrltnFunc( crltn, \n",
    "                 (xv,yv),\n",
    "                 cTOL = 1.0e-2,\n",
    "                 PLOT = True,\n",
    "                 fileName='cxy.png',\n",
    "                 title = '',\n",
    "                 dpi = 60,\n",
    "                ):\n",
    "    if PLOT:\n",
    "        fig = plt.figure( figsize = (4,4))\n",
    "        ax = fig.add_subplot(111)\n",
    "        xstr = r'$r$'\n",
    "        ystr = r'$c(r)$'\n",
    "        ax.set_xlabel(xstr,fontsize=16)\n",
    "        ax.set_ylabel(ystr,fontsize=16)\n",
    "        ax.tick_params(labelsize=16)\n",
    "    #\n",
    "    val = crltn[:,:,0].copy() #--- only xy plane\n",
    "    (m,n)=val.shape\n",
    "    #--- along x \n",
    "    xv2 = xv[:,:,0].copy()\n",
    "    dx = xv2[0,1] - xv2[0,0]\n",
    "    #\n",
    "    xdata = np.arange(0,(n/2+n%2)) * dx\n",
    "    ydata = val[row,0:(n/2+n%2)]\n",
    "    #\n",
    "    xc = Get_rc( xdata, ydata, cTOL )\n",
    "    #\n",
    "    if PLOT:\n",
    "        ax.plot( xdata, ydata,'-o',label=r'$x$')       \n",
    "    #--- along y \n",
    "    yv2 = yv[:,:,0].copy()\n",
    "    dy = yv2[1,0] - yv2[0,0]\n",
    "    #\n",
    "    xdata = np.arange(0,(m/2+m%2)) * dy\n",
    "    ydata = val[0:(m/2+m%2),0]\n",
    "    #\n",
    "    yc = Get_rc( xdata, ydata, cTOL )\n",
    "    #\n",
    "    if PLOT:\n",
    "        ax.plot( xdata, ydata,'-s', color = 'red',label=r'$y$')\n",
    "    #--- plot\n",
    "    if PLOT:\n",
    "        ax.legend(frameon=False)\n",
    "        ax.set_title( title )\n",
    "        #ax.set_yscale('log')\n",
    "        #\n",
    "        ax.plot(ax.axis()[:2],[0.0,0.0],'-.',color='black')\n",
    "#        ax.plot((rc,rc),ax.axis()[2:],'-.r')\n",
    "        #\n",
    "        #\n",
    "        plt.savefig(fileName,dpi=dpi,bbox_inches='tight')\n",
    "        plt.show()\n",
    "    #\n",
    "    return (xc, yc)\n",
    "    \n",
    "    \n",
    "\n",
    "for itime in Crltn:\n",
    "    print 'itime=',itime\n",
    "    #--- bulk strain\n",
    "    dx=CellVector[ itime ][0,1]-CellVector[ 0 ][0,1]\n",
    "    l1=CellVector[ itime ][1,1]\n",
    "    ebulk = 0.5*dx/l1\n",
    "    #---\n",
    "    PltCrltnFunc( Crltn[ itime ], \n",
    "                 (xv,yv),\n",
    "                 fileName = 'cr.%s.png'%itime,\n",
=======
     "data": {
      "text/plain": [
       "(14.108201970564707, nan)"
      ]
     },
     "execution_count": 107,
     "metadata": {},
     "output_type": "execute_result"
    }
   ],
   "source": [
    "if StrnAnalysis:\n",
    "\n",
    "    # for itime in Crltn:\n",
    "    #     print 'itime=',itime\n",
    "    #--- bulk strain\n",
    "    dx=box.CellVector[0,1]-box0.CellVector[0,1]\n",
    "    l1=box.CellVector[1,1]\n",
    "    ebulk = 0.5*dx/l1\n",
    "    #---\n",
    "    PltCrltnFunc( Crltn, \n",
    "                 xv,yv,\n",
    "                 fileName = 'cr_strain.%s.png'%itime,\n",
>>>>>>> 4c2950427a7f59a7bf5ba5ca184c3d2096def48f
    "                 title = r'$\\epsilon=%3.2f$'%(2*ebulk),\n",
    "                 cTOL = 8.0e-2,\n",
    "                 dpi = 60,\n",
    "                )"
   ]
  },
  {
   "cell_type": "code",
<<<<<<< HEAD
   "execution_count": 292,
   "metadata": {},
   "outputs": [
    {
     "data": {
      "image/png": "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\n",
      "text/plain": [
       "<Figure size 288x288 with 1 Axes>"
      ]
     },
     "metadata": {
      "needs_background": "light"
     },
     "output_type": "display_data"
    }
   ],
   "source": [
    "#--- extract length\n",
    "ebulk = []\n",
    "Xc = []\n",
    "Yc = []\n",
    "keys = Crltn.keys()\n",
    "keys.sort()\n",
    "for itime in keys:\n",
    "    #--- bulk strain\n",
    "    dx=CellVector[ itime ][0,1]-CellVector[ 0 ][0,1]\n",
    "    l1=CellVector[ itime ][1,1]\n",
    "    ebulk += [0.5*dx/l1]\n",
    "    \n",
    "    xc, yc = PltCrltnFunc( Crltn[ itime ], \n",
    "                          (xv,yv),\n",
    "                          cTOL = 4e-2,\n",
    "                          PLOT = None,\n",
    "                         )\n",
    "    Xc += [xc]\n",
    "    Yc += [yc]\n",
    "\n",
    "#--- plot\n",
    "fig = plt.figure( figsize = (4,4))\n",
    "ax = fig.add_subplot(111)\n",
    "xstr = r'$\\epsilon$'\n",
    "ystr = r'$r_c$'\n",
    "ax.set_xlabel(xstr,fontsize=16)\n",
    "#ax.set_ylabel(ystr,fontsize=16)\n",
    "ax.tick_params(labelsize=16)\n",
    "#\n",
    "ax.plot( 2*np.array(ebulk), Xc,'-o', color='C0', label = r'$x_c$')\n",
    "ax.plot( 2*np.array(ebulk), Yc,'-s', color='red', label = r'$y_c$')\n",
    "ax.legend(frameon=False)\n",
    "plt.savefig('rc.png',dpi=75,bbox_inches='tight')\n",
    "plt.show()\n"
   ]
  },
  {
   "cell_type": "code",
   "execution_count": null,
   "metadata": {},
   "outputs": [],
   "source": []
=======
   "execution_count": 109,
   "metadata": {},
   "outputs": [],
   "source": [
    "# #--- extract length\n",
    "# ebulk = []\n",
    "# Xc = []\n",
    "# Yc = []\n",
    "# keys = Crltn.keys()\n",
    "# keys.sort()\n",
    "# for itime in keys:\n",
    "#     #--- bulk strain\n",
    "#     dx=CellVector[ itime ][0,1]-CellVector[ 0 ][0,1]\n",
    "#     l1=CellVector[ itime ][1,1]\n",
    "#     ebulk += [0.5*dx/l1]\n",
    "    \n",
    "#     xc, yc = PltCrltnFunc( Crltn[ itime ], \n",
    "#                           (xv,yv),\n",
    "#                           cTOL = 4e-2,\n",
    "#                           PLOT = None,\n",
    "#                          )\n",
    "#     Xc += [xc]\n",
    "#     Yc += [yc]\n",
    "\n",
    "# #--- plot\n",
    "# fig = plt.figure( figsize = (4,4))\n",
    "# ax = fig.add_subplot(111)\n",
    "# xstr = r'$\\epsilon$'\n",
    "# ystr = r'$r_c$'\n",
    "# ax.set_xlabel(xstr,fontsize=16)\n",
    "# #ax.set_ylabel(ystr,fontsize=16)\n",
    "# ax.tick_params(labelsize=16)\n",
    "# #\n",
    "# ax.plot( 2*np.array(ebulk), Xc,'-o', color='C0', label = r'$x_c$')\n",
    "# ax.plot( 2*np.array(ebulk), Yc,'-s', color='red', label = r'$y_c$')\n",
    "# ax.legend(frameon=False)\n",
    "# plt.savefig('rc.png',dpi=75,bbox_inches='tight')\n",
    "# plt.show()\n"
   ]
>>>>>>> 4c2950427a7f59a7bf5ba5ca184c3d2096def48f
  }
 ],
 "metadata": {
  "kernelspec": {
<<<<<<< HEAD
   "display_name": "Python 2",
   "language": "python",
   "name": "python2"
=======
   "display_name": "Python 3",
   "language": "python",
   "name": "python3"
>>>>>>> 4c2950427a7f59a7bf5ba5ca184c3d2096def48f
  },
  "language_info": {
   "codemirror_mode": {
    "name": "ipython",
<<<<<<< HEAD
    "version": 2
=======
    "version": 3
>>>>>>> 4c2950427a7f59a7bf5ba5ca184c3d2096def48f
   },
   "file_extension": ".py",
   "mimetype": "text/x-python",
   "name": "python",
   "nbconvert_exporter": "python",
<<<<<<< HEAD
   "pygments_lexer": "ipython2",
   "version": "2.7.10"
=======
   "pygments_lexer": "ipython3",
   "version": "3.8.2"
>>>>>>> 4c2950427a7f59a7bf5ba5ca184c3d2096def48f
  }
 },
 "nbformat": 4,
 "nbformat_minor": 4
}
