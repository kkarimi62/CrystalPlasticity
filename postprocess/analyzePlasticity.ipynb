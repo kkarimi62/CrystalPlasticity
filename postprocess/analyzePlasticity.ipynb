{
 "cells": [
  {
   "cell_type": "markdown",
   "metadata": {},
   "source": [
    "# import libraries"
   ]
  },
  {
   "cell_type": "code",
   "execution_count": 1,
   "metadata": {},
   "outputs": [
    {
     "name": "stderr",
     "output_type": "stream",
     "text": [
      "/Library/Frameworks/Python.framework/Versions/3.8/lib/python3.8/site-packages/sklearn/utils/deprecation.py:144: FutureWarning: The sklearn.mixture.gaussian_mixture module is  deprecated in version 0.22 and will be removed in version 0.24. The corresponding classes / functions should instead be imported from sklearn.mixture. Anything that cannot be imported from sklearn.mixture is now part of the private API.\n",
      "  warnings.warn(message, FutureWarning)\n",
      "/Library/Frameworks/Python.framework/Versions/3.8/lib/python3.8/site-packages/sklearn/utils/deprecation.py:144: FutureWarning: The sklearn.mixture.bayesian_mixture module is  deprecated in version 0.22 and will be removed in version 0.24. The corresponding classes / functions should instead be imported from sklearn.mixture. Anything that cannot be imported from sklearn.mixture is now part of the private API.\n",
      "  warnings.warn(message, FutureWarning)\n"
     ]
    },
    {
     "data": {
      "text/plain": [
       "<module 'LammpsPostProcess' from '/Users/Home/Desktop/Tmp/txt/git/CrystalPlasticity/postprocess/LammpsPostProcess.py'>"
      ]
     },
     "execution_count": 1,
     "metadata": {},
     "output_type": "execute_result"
    }
   ],
   "source": [
    "#--- system libraries\n",
    "import pdb\n",
    "import pandas as pd\n",
    "import numpy as np\n",
    "import matplotlib.pylab as plt\n",
    "import matplotlib as mpl\n",
    "import traceback\n",
    "import os\n",
    "import scipy.interpolate as scp_int\n",
    "import warnings\n",
    "import matplotlib\n",
    "from matplotlib.ticker import (MultipleLocator, AutoMinorLocator)\n",
    "from matplotlib import patches\n",
    "import sys\n",
    "import sklearn\n",
    "from sklearn.preprocessing import PolynomialFeatures\n",
    "from sklearn.linear_model import LinearRegression\n",
    "from sklearn.model_selection import cross_validate\n",
    "import patsy\n",
    "import sklearn\n",
    "from sklearn import linear_model, mixture\n",
    "import sklearn.mixture.gaussian_mixture as gm\n",
    "import sklearn.mixture.bayesian_mixture as bm\n",
    "from scipy import optimize\n",
    "import scipy\n",
    "import re\n",
    "#\n",
    "warnings.filterwarnings('ignore')\n",
    "\n",
    "#--- user modules\n",
    "import LammpsPostProcess as lp\n",
    "import imp\n",
    "imp.reload(lp)"
   ]
  },
  {
   "cell_type": "code",
   "execution_count": 2,
   "metadata": {},
   "outputs": [],
   "source": [
    "#matplotlib.rcParams['text.usetex'] = True #--- comment tex stuff!"
   ]
  },
  {
   "cell_type": "markdown",
   "metadata": {},
   "source": [
    "# utility functions"
   ]
  },
  {
   "cell_type": "code",
   "execution_count": 71,
   "metadata": {},
   "outputs": [],
   "source": [
    "def gaussian(x, mu, sig):\n",
    "    return 1./(np.sqrt(2.*np.pi)*sig)*np.exp(-np.power((x - mu)/sig, 2.)/2)\n",
    "    \n",
    "def gaussian_mixture( values, \n",
    "                     times,\n",
    "                     LABELS = False, \n",
    "                     PLOT = True):\n",
    "    thresh = {}\n",
    "    ratio = {}\n",
    "#    pdb.set_trace()\n",
    "    for itime in sorted( times ):\n",
    "    #--- convert data frema to array\n",
    "        nij = values[itime]\n",
    "        X=np.log10(nij)\n",
    "        X=np.array(X).reshape(len(X),1)\n",
    "\n",
    "        gm_obj = bm.BayesianGaussianMixture(n_components=2, tol=1e-8, max_iter=1000000,\n",
    "                                            verbose=0, \n",
    "                                            random_state=32,\n",
    "#                                            init_params='random',\n",
    "                                           )\n",
    "        gm_obj.fit(X)\n",
    "\n",
    "        if not gm_obj.converged_:\n",
    "            continue\n",
    "\n",
    "        #--- min(\\mu0, \\mu1) corresponds to trig. mode\n",
    "        mean0 = gm_obj.means_[0][0]\n",
    "        mean1 = gm_obj.means_[1][0]\n",
    "        d     = { 'trigrd':min([mean0,0],[mean1,1])[1], \n",
    "                  'backgrd':max([mean0,0],[mean1,1])[1]}\n",
    "        mean  = { 'trigrd' : gm_obj.means_[d['trigrd']][0],\n",
    "                  'backgrd': gm_obj.means_[d['backgrd']][0] }\n",
    "        sigma = { 'trigrd' : gm_obj.covariances_[d['trigrd']][0]**0.5,\n",
    "                  'backgrd': gm_obj.covariances_[d['backgrd']][0]**0.5 }\n",
    "        delta = { 'trigrd' : gm_obj.weights_[d['trigrd']],\n",
    "                  'backgrd': gm_obj.weights_[d['backgrd']] }\n",
    "#        print(sigma['backgrd']/mean['backgrd'])\n",
    "        #--- plot scatter\n",
    "        nij_red = nij[gm_obj.predict(X)==0]\n",
    "        nij_blue = nij[gm_obj.predict(X)==1]\n",
    "        ratio[itime] =  sigma['backgrd']/mean['backgrd'] #1.0 * len(nij_blue) / (len(nij_red)+len(nij_blue))\n",
    "#        print(len(nij_red)+len(nij_blue))\n",
    "#        prob = np.random.rand(len(X))\n",
    "#         list_of_red = prob  <   gm_obj.predict_proba(X)[:, d['trigrd']] #--- assign modes based on the responsibilities \\gamma\n",
    "#         list_of_blue = prob >= gm_obj.predict_proba(X)[:, d['trigrd']]\n",
    "#         nij_red = nij[list_of_red]\n",
    "#         nij_blue = nij[list_of_blue]\n",
    "\n",
    "        #--- plot distributions\n",
    "        edge_act, hist_act = DistNij(nij,normed=None, nbins_per_decade = 16)\n",
    "\n",
    "        if PLOT:\n",
    "            fig = plt.figure(figsize=(4,4))\n",
    "            ax = fig.add_subplot(111)\n",
    "#            ax.set_yscale('log')\n",
    "#            ax.set_ylim(0.9,len(nij_red))#1e3)\n",
    "            #\n",
    "            ax.plot(edge_act,hist_act,'o',color='black',label='Total')\n",
    "            #\n",
    "            xv = edge_act\n",
    "            ax.plot( xv, \n",
    "                    len(X)*(delta['trigrd']*gaussian(xv, mean['trigrd'], sigma['trigrd'])+\n",
    "                            delta['backgrd']*gaussian(xv, mean['backgrd'], sigma['backgrd']))*(xv[1]-xv[0]), \n",
    "                    color='black')\n",
    "            ax.plot( xv, len(X)*delta['trigrd']*gaussian(xv, mean['trigrd'], sigma['trigrd'])*(xv[1]-xv[0]),color='red')\n",
    "            ax.plot( xv, len(X)*delta['backgrd']*gaussian(xv, mean['backgrd'], sigma['backgrd'])*(xv[1]-xv[0]),color='C0')\n",
    "            if LABELS:\n",
    "                ax.set_xlabel(r'$log n_{ij}$')\n",
    "                ax.set_ylabel(r'$P(log n_{ij})$')\n",
    "            ax.set_xlim(np.floor(np.min(edge_act)),np.ceil(np.max(edge_act)))\n",
    "    #\n",
    "\n",
    "\n",
    "        #--- find decision boundary\n",
    "        mu0,mu1,sigma0,sigma1,delta0,delta1=mean['trigrd'],mean['backgrd'],sigma['trigrd'],sigma['backgrd'],delta['trigrd'],delta['backgrd']\n",
    "        def f(x): #,:\n",
    "            return delta0*np.exp(-0.5*((x-mu0)/sigma0)**2)/sigma0 -\\\n",
    "                    delta1*np.exp(-0.5*((x-mu1)/sigma1)**2)/sigma1\n",
    "        n_th = 0\n",
    "        try:\n",
    "            n_th = optimize.bisect(f, mu0-1*sigma0, mu1+1*sigma1)\n",
    "            if PLOT:\n",
    "                ax.plot([n_th,n_th],ax.axis()[2:],'-.r') #--- vertical line\n",
    "            thresh[itime]=10**n_th\n",
    "        except:\n",
    "            traceback.print_exc()\n",
    "            pass\n",
    "        if PLOT:\n",
    "\n",
    "            fig.savefig('distnijGM.png',bbox_inches='tight',dpi=2*75)\n",
    "            plt.show()\n",
    "\n",
    "    #     print gm_obj.predict_proba([[n_th]])\n",
    "    \n",
    "    return thresh, ratio\n",
    "\n",
    "def DistNij(nij,normed=True, nbins_per_decade = 4, **kwargs):\n",
    "#--- histogram\n",
    "    nn=np.log10(nij)\n",
    "    nmin=kwargs['nmin'] if 'nmin' in kwargs else nn.min()\n",
    "    nmax=kwargs['nmax'] if 'nmax' in kwargs else nn.max()\n",
    "    bins=np.linspace(nmin,nmax,int(nmax-nmin)*nbins_per_decade)\n",
    "    hist, edge = np.histogram(nn,bins=bins,normed=normed)\n",
    "    \n",
    "    #--- accumulated histogram\n",
    "    slist=np.array(nn)\n",
    "    slist.sort()\n",
    "    N = len(slist)\n",
    "    d = histogramACCUMLTD( slist.tolist() )\n",
    "    keys=list(d.keys())\n",
    "    keys.sort()\n",
    "    \n",
    "    xx=[];yy=[]\n",
    "    for ikey in keys:\n",
    "        xx.append(d[ikey][0])\n",
    "        yy.append(d[ikey][2])\n",
    "    \n",
    "    # ax2 = ax.twinx()\n",
    "    # ax2.plot(xx,yy,\n",
    "    #         linestyle='-', drawstyle='steps-post',color='red',\n",
    "    #         linewidth=1.0) #--- accumulated\n",
    "    # #ax2.set_xlim(-7,1)\n",
    "    # #ax2.set_ylim(0,1200)\n",
    "    \n",
    "    # ax2.tick_params(axis='y',colors='red')\n",
    "    # ax2.set_ylabel('$N(<n_{ij})$',color='red')\n",
    "    \n",
    "    return edge[:-1],hist\n",
    "\n",
    "def valuesDict(d,keys):\n",
    "    return list(map(d.get,sorted(keys)))\n",
    "\n",
    "\n",
    "def histogramACCUMLTD( slist ):\n",
    "    assert type( slist ) == type( [] ), 'arg must be a list. a %s is given!' %( type( slist ) )\n",
    "    d = {}\n",
    "    for item in slist:\n",
    "        try:\n",
    "            d[ item ] += 1\n",
    "        except:\n",
    "            d[ item ] = 1\n",
    "    keys = list(d.keys())\n",
    "    keys.sort()\n",
    "\n",
    "    cdf = 0.0\n",
    "    xi = min( slist ) - 1.0e-6\n",
    "    xf = max( slist ) + 1.0e-6\n",
    "    npoin = len( slist )\n",
    "    adict = {}\n",
    "    for ikey, index in zip( keys, range( sys.maxsize ) ):\n",
    "        adict[ index ] = [ xi, ikey, cdf ]\n",
    "        cdf += 1.0 * d[ ikey ] # / npoin\n",
    "        xi = ikey\n",
    "    adict[ index + 1 ] = [ xi, xf, cdf ]\n",
    "    return adict\n",
    "\n",
    "def GetStrain(lmpData, times, time0 ):\n",
    "    ebulk = {}\n",
    "    box0 = lp.Box( BoxBounds = lmpData.BoxBounds[time0] )\n",
    "    box0.BasisVectors( AddMissing = np.array([0.0,0.0,0.0] ))\n",
    "    for itime in times:\n",
    "\n",
    "        box = lp.Box( BoxBounds = lmpData.BoxBounds[itime] )\n",
    "        box.BasisVectors( AddMissing = np.array([0.0,0.0,0.0] ))\n",
    "        #\n",
    "        #--- bulk strain\n",
    "        dx=box.CellVector[0,1]-box0.CellVector[0,1]\n",
    "        l1=box.CellVector[1,1]\n",
    "        ebulk[itime] = dx/l1\n",
    "    return ebulk\n",
    "        \n",
    "    \n",
    "def to_dict( df ):\n",
    "    sdict = {}\n",
    "    skeys = df.keys().to_list()\n",
    "    for ikey in skeys:\n",
    "        sdict[ikey] = df[ikey].to_list()\n",
    "\n",
    "    return sdict\n",
    "\n",
    "def isSane( AddColumns, columnList ):\n",
    "    #--- avoid duplicates\n",
    "    assert len( set( AddColumns ) ) == len( AddColumns ), 'duplicates in the list!'\n",
    "    #--- assert column list is not already included\n",
    "    n = len( AddColumns )\n",
    "    AddColumns = list( set(AddColumns) - set( columnList ) )\n",
    "    if len(AddColumns) != n:\n",
    "        print('column already included!')\n",
    "        return False\n",
    "    return True\n",
    "\n",
    "        \n",
    "def PrintOvito( cordc, sfile, footer, attr_list=['x','y','z'] ):\n",
    "    smat = cordc[attr_list]\n",
    "    np.savetxt(sfile,[len(smat)],fmt='%s', footer='%s, %s'%(footer,str(attr_list)))\n",
    "    np.savetxt(sfile,smat,fmt='%s')\n",
    "    sfile.close()\n",
    "    \n",
    "def PltBitmap( value,\n",
    "              xlabel = 'x', ylabel = 'y',\n",
    "              xlim = (-0.5,0.5), ylim = (-0.5,0.5),\n",
    "              frac = 1.0, #--- plot a patch\n",
    "              zscore = True,\n",
    "              title = 'cxy.png',\n",
    "              colorbar=False,\n",
    "              **kwargs\n",
    "             ):\n",
    "        \n",
    "    val = value.copy()\n",
    "    #--- z-score\n",
    "    if zscore:\n",
    "        val -= np.mean(val)\n",
    "        val /= np.std(val)\n",
    "        val[val>2.0]=1.0\n",
    "        val[val<-2.0]=-1.0\n",
    "    #--- plot\n",
    "    (mgrid,ngrid) = val.shape\n",
    "    center = (ngrid/2,mgrid/2)\n",
    "    #\n",
    "    fig = plt.figure(figsize=(4,4))\n",
    "    ax = fig.add_subplot(111)\n",
    "    ax.set_xlabel(xlabel)\n",
    "    ax.set_ylabel(ylabel)\n",
    "    ax.tick_params(labelsize=20,which='both',axis='both', top=True, right=True)\n",
    "#     ax.axes.xaxis.set_visible(False)\n",
    "#     ax.axes.yaxis.set_visible(False)\n",
    "    #\n",
    "    pos = ax.imshow(val.real,cmap='bwr',\n",
    "                     extent=(xlim[0],xlim[1],ylim[0],ylim[1]),origin='lower')# ,vmin=-.6, vmax=.6)\n",
    "    if colorbar:\n",
    "        ax.colorbar( pos, fraction = 0.04)\n",
    "    if 'DrawFrame' in kwargs: \n",
    "        DrawFrame(ax, *kwargs['DrawFrame'])\n",
    "    plt.savefig(title,dpi=2*75,bbox_inches='tight',pad_inches=0.0)\n",
    "    plt.show()\n",
    "    \n",
    "    \n",
    "def PltCrltn( value,\n",
    "              xlabel = 'x', ylabel = 'y',\n",
    "              xlim = (-0.5,0.5), ylim = (-0.5,0.5),\n",
    "              frac = 1.0, #--- plot a patch\n",
    "              zscore = True,\n",
    "              fileName = 'cxy.png',\n",
    "              dpi=75,\n",
    "            ):\n",
    "    fig = plt.figure(figsize=(4,4))\n",
    "    ax = fig.add_subplot(111)\n",
    "    #\n",
    "    val = value.copy()\n",
    "    #--- zscore\n",
    "    if zscore:\n",
    "        val -= np.mean(val)\n",
    "        val /= np.std(val)\n",
    "        val[val>2.0]=1.0\n",
    "        val[val<-2.0]=-1.0\n",
    "    #\n",
    "    (mgrid,ngrid) = val.shape\n",
    "    center = (ngrid/2,mgrid/2)\n",
    "    ax.set_xlabel(xlabel)\n",
    "    ax.set_ylabel(ylabel)\n",
    "    \n",
    "    ax.axes.xaxis.set_visible(False) #--- remove labels\n",
    "    ax.axes.yaxis.set_visible(False)\n",
    "\n",
    "    pos = ax.imshow((CenterMatrix( val ).real),cmap='bwr',\n",
    "                     extent=(xlim[0],xlim[1],ylim[0],ylim[1]),\n",
    "                     #,vmin=-.01, vmax=.01\n",
    "                    )\n",
    "    ax.set_xlim(xlim[0]*frac,xlim[1]*frac)\n",
    "    ax.set_ylim(ylim[0]*frac,ylim[1]*frac)\n",
    "\n",
    "#    plt.colorbar( pos, fraction = 0.04)\n",
    "    plt.savefig(fileName,dpi=dpi,bbox_inches='tight')\n",
    "    plt.show()\n",
    "    \n",
    "def GetAutoCorrelation( val ):\n",
    "    value  = val.copy()\n",
    "    value -= np.mean( value )\n",
    "    value /= np.std( value )\n",
    "\n",
    "    ( nx, ny, nz ) =  value.shape\n",
    "    n = nx * ny * nz\n",
    "    vq = np.fft.fftn(value) #, axes=(0,1,2))\n",
    "    vq_sq = np.abs(vq)**2\n",
    "\n",
    "    v_real = np.fft.ifftn( vq_sq) / n #,  axes=(0,1,2) )\n",
    "    return v_real\n",
    "\n",
    "def CenterMatrix(a):\n",
    "    ( mgrid, ngrid ) = a.shape\n",
    "    return np.array([[a[i,j] for j in range(-int(ngrid/2),int(ngrid/2)+ngrid%2)] \n",
    "                              for i in range(-int(mgrid/2),int(mgrid/2)+mgrid%2)])\n",
    "\n",
    "def Get_rc( xdata, ydata, cTOL ):\n",
    "    try:\n",
    "#        xc1 = xdata[np.abs(ydata)<cTOL][0] \n",
    "        xc1 = xdata[ydata<cTOL][0] \n",
    "    except:\n",
    "        xc1 = np.nan\n",
    "    try:    \n",
    "        xc2 = xdata[ydata<0.0][0] #--- correlation length\n",
    "    except:\n",
    "        xc2 = np.nan\n",
    "    try:\n",
    "        xc = np.array([xc1,xc2])\n",
    "        xc = xc[~np.isnan(xc)].min()\n",
    "    except:\n",
    "        xc = np.nan\n",
    "    return xc\n",
    "\n",
    "def PltCrltnFunc( crltn, \n",
    "                 xv,yv,\n",
    "                 cTOL = 1.0e-2,\n",
    "                 PLOT = True,\n",
    "                 fileName='cxy.png',\n",
    "                 title = '',\n",
    "                 dpi = 60,\n",
    "                ):\n",
    "    (ny,nx,nz) = crltn.shape\n",
    "    if PLOT:\n",
    "        fig = plt.figure( figsize = (4,4))\n",
    "        ax = fig.add_subplot(111)\n",
    "        xstr = r'$r$'\n",
    "        ystr = r'$c(r)$'\n",
    "        ax.set_xlabel(xstr,fontsize=16)\n",
    "        ax.set_ylabel(ystr,fontsize=16)\n",
    "        ax.tick_params(labelsize=16)\n",
    "    #\n",
    "    val = crltn[:,:,0].copy() #--- only xy plane\n",
    "    (m,n)=val.shape\n",
    "    #--- along x \n",
    "    xv2 = xv[:,:,0].copy()\n",
    "    dx = xv2[0,1] - xv2[0,0]\n",
    "    #\n",
    "    xdata0 = np.arange(0,(int(n/2)+n%2)) * dx\n",
    "    ydata0 = val[0,0:(int(n/2)+n%2)]\n",
    "    #\n",
    "    xc = Get_rc( xdata0, ydata0, cTOL )\n",
    "    #\n",
    "    if PLOT:\n",
    "        ax.plot( xdata0, ydata0,'-o',label=r'$x$')       \n",
    "    #--- along y \n",
    "    yv2 = yv[:,:,0].copy()\n",
    "    dy = yv2[1,0] - yv2[0,0]\n",
    "    #\n",
    "    xdata = np.arange(0,(int(m/2)+m%2)) * dy\n",
    "    ydata = val[0:(int(m/2)+m%2),0]\n",
    "    #\n",
    "    yc = Get_rc( xdata, ydata, cTOL )\n",
    "    #\n",
    "    if PLOT:\n",
    "        ax.plot( xdata, ydata,'-s', color = 'red',label=r'$y$')\n",
    "    #--- plot\n",
    "    if PLOT:\n",
    "        ax.legend(frameon=False)\n",
    "        ax.set_title( title )\n",
    "        #ax.set_yscale('log')\n",
    "        #\n",
    "        ax.plot(ax.axis()[:2],[0.0,0.0],'-.',color='black')\n",
    "#        ax.plot([dx,dx],ax.axis()[2:],'-.',color='black')\n",
    "        ax.plot((xc,xc),ax.axis()[2:],'-.r')\n",
    "        #\n",
    "        #\n",
    "        plt.savefig(fileName,dpi=dpi,bbox_inches='tight')\n",
    "        plt.show()\n",
    "    #\n",
    "    return (xc, yc), (xdata0,ydata0), (xdata,ydata) \n",
    "\n",
    "\n",
    "def GetSlice2d( hist, err,\n",
    "         xv, yv, zv,\n",
    "         xtol = 2.5,\n",
    "         z = 0.0):\n",
    "############################################################\n",
    "####### Get a 2D slice out off a 3D matrix\n",
    "############################################################    \n",
    "    dx=xtol #--- discretization length\n",
    "    (ny,nx,nz) = hist.shape\n",
    "    indices = np.all([np.abs(zv-z)>0.0,np.abs(zv-z)<dx],axis=0) #--- filtering based on the given range\n",
    "    #--- binning in xy\n",
    "    flist = hist[indices]\n",
    "    rvect = np.c_[yv[indices],xv[indices]]\n",
    "    rx,    bin_edges = np.histogramdd( rvect, bins = (ny, nx), weights = xv[indices] ) #--- \\sum r_i\n",
    "    ry,    bin_edges = np.histogramdd( rvect, bins = (ny, nx), weights = yv[indices]) #--- \\sum r_i\n",
    "    error,    bin_edges = np.histogramdd( rvect, bins = (ny, nx), weights = err[indices] ) #--- \\sum r_i\n",
    "    fmean, bin_edges = np.histogramdd( rvect, bins = (ny, nx), weights = flist ) #--- 3d histogram\n",
    "    count, bin_edges = np.histogramdd( rvect, bins = (ny, nx) ) #--- n_i\n",
    "\n",
    "    count[count==0] = 1\n",
    "    rx /= count \n",
    "    ry /= count \n",
    "    fmean /= count\n",
    "    error /= count\n",
    "    return rx, ry, fmean, error\n",
    "\n",
    "def GetSlice1d( hist, err,\n",
    "         xv, yv,\n",
    "         xtol = 2.5,\n",
    "         **kwargs):\n",
    "############################################################\n",
    "####### Get a 1D slice out off a 2D matrix\n",
    "############################################################    \n",
    "    dx=xtol #--- discretization length\n",
    "    (ny,nx) = hist.shape\n",
    "    if 'y' in kwargs:\n",
    "        y = kwargs['y']\n",
    "        indices = np.all([np.abs(yv-y)>0.0,np.abs(yv-y)<dx],axis=0) #--- filtering based on the given range\n",
    "        flist = hist[indices]\n",
    "        rvect = xv[indices]\n",
    "        rdist,    bin_edges = np.histogram( rvect, bins = nx, weights = xv[indices] ) #--- \\sum r_i\n",
    "        error,    bin_edges = np.histogram( rvect, bins = nx, weights = err[indices] ) #--- \\sum r_i\n",
    "        count, bin_edges = np.histogram( rvect, bins = nx ) #--- n_i\n",
    "        fmean, bin_edges = np.histogram( rvect, bins = nx, weights = flist ) #--- 3d histogram\n",
    "    elif 'x' in kwargs:\n",
    "        x = kwargs['x']\n",
    "        indices = np.all([np.abs(xv-x)>0.0,np.abs(xv-x)<dx],axis=0) #--- filtering based on the given range\n",
    "        flist = hist[indices]\n",
    "        rvect = yv[indices]\n",
    "        rdist,    bin_edges = np.histogram( rvect, bins = ny, weights = yv[indices] ) #--- \\sum r_i\n",
    "        error,    bin_edges = np.histogram( rvect, bins = ny, weights = err[indices] ) #--- \\sum r_i\n",
    "        count, bin_edges = np.histogram( rvect, bins = ny ) #--- n_i\n",
    "        fmean, bin_edges = np.histogram( rvect, bins = ny, weights = flist ) #--- 3d histogram\n",
    "        \n",
    "    #--- binning in xy\n",
    "\n",
    "    count[count==0] = 1\n",
    "    rdist /= count \n",
    "    fmean /= count\n",
    "    error /= count\n",
    "    return rdist, fmean, error\n",
    "\n",
    "\n",
    "def PltCrltnFunc1d( crltn, err,\n",
    "                 xv,\n",
    "                 cTOL = 1.0e-2,\n",
    "                 PLOT = True,\n",
    "                 fileName='cxy.png',\n",
    "                 title = '',\n",
    "                 dpi = 60,\n",
    "                 ylim=(-1.0,+1.0),\n",
    "                ):\n",
    "    if PLOT:\n",
    "        fig = plt.figure( figsize = (4,4))\n",
    "        ax = fig.add_subplot(111)\n",
    "        xstr = r'$r$'\n",
    "        ystr = r'$c(r)$'\n",
    "        ax.set_xlabel(xstr,fontsize=16)\n",
    "        ax.set_ylabel(ystr,fontsize=16)\n",
    "        ax.tick_params(labelsize=16)\n",
    "    #\n",
    "    val = crltn.copy() #--- only xy plane\n",
    "#    (m,n)=val.shape\n",
    "    #--- along x \n",
    "    xv2 = xv.copy()\n",
    "    dx = xv2[1] - xv2[0]\n",
    "    #\n",
    "    xdata = xv2 #np.arange(0,(n/2+n%2)) * dx\n",
    "    ydata = val #[0,0:(n/2+n%2)]\n",
    "    #\n",
    "    xc = Get_rc( xdata, ydata, cTOL )\n",
    "    #\n",
    "    if PLOT:\n",
    "        ax.errorbar( xdata, ydata,yerr = err, fmt='-o',label=r'$x$')       \n",
    "    #--- plot\n",
    "    if PLOT:\n",
    "        ax.legend(frameon=False)\n",
    "        ax.set_title( title )\n",
    "        #ax.set_yscale('log')\n",
    "        #\n",
    "        ax.plot(ax.axis()[:2],[0.0,0.0],'-.',color='black')\n",
    "#        ax.plot([dx,dx],ax.axis()[2:],'-.',color='black')\n",
    "        ax.plot([xc,xc],ax.axis()[2:],'-.',color='black')\n",
    "        #\n",
    "#        ax.set_xlim(xlim)\n",
    "        ax.set_ylim(ylim)\n",
    "        #\n",
    "        plt.savefig(fileName,dpi=dpi,bbox_inches='tight')\n",
    "        plt.show()\n",
    "    #\n",
    "    return xc\n",
    "\n",
    "\n",
    "def DrawFrame(ax, alpha_xl,alpha_xr,alpha_yb,alpha_yt,linewidth,LOG_X=None,LOG_Y=None):\n",
    "    [xlo,xhi,ylo,yhi] = ax.axis()\n",
    "    if LOG_X:\n",
    "        [xlo,xhi,junk,junk] = np.log10(ax.axis())\n",
    "    if LOG_Y:\n",
    "        [junk,junk,ylo,yhi] = np.log10(ax.axis())\n",
    "    lx = xhi - xlo\n",
    "    ly = yhi - ylo\n",
    "    xy = [xlo - alpha_xl * lx, ylo - alpha_yb * ly]\n",
    "    height = ly*(1+alpha_yb+alpha_yt)\n",
    "    width = lx*(1+alpha_xl+alpha_xr)\n",
    "    xy_end=[xy[0]+width,xy[1]+height]\n",
    "    if LOG_X:\n",
    "        xy[0] = 10 ** xy[0]\n",
    "        xy_end[0] = 10 ** xy_end[0]\n",
    "    if LOG_Y:\n",
    "        xy[1] = 10 ** xy[1]\n",
    "        xy_end[1] = 10 ** xy_end[1]\n",
    "    ax.add_patch( patches.Rectangle(xy=xy, width=xy_end[0]-xy[0], \n",
    "                                    height=xy_end[1]-xy[1], linewidth=linewidth,\n",
    "                                    clip_on=False,facecolor=None,edgecolor='black',fill=None) ) \n",
    "    \n",
    "def MultipleFrames( path='', title='', irun = 0, nmax = 10000 ):\n",
    "    i=0\n",
    "    append = False\n",
    "    while i < nmax:\n",
    "        try:\n",
    "            sarr0 = np.c_[np.loadtxt('%s%i/Run%s/%s'%(path,i,irun,title))].T\n",
    "            #        print i,sarr0\n",
    "            if not append:\n",
    "                sarr = sarr0.copy()\n",
    "                append = True\n",
    "            else:\n",
    "                sarr = np.concatenate((sarr,sarr0),axis=0)\n",
    "        except:\n",
    "            i+=1\n",
    "    #        traceback.print_exc()\n",
    "            continue\n",
    "        i+=1\n",
    "    return sarr\n",
    "\n",
    "def MultipleFrames2nd( path='', title='', nrun = 0, ncols=3 ):\n",
    "    i=0\n",
    "    append = False\n",
    "#    pdb.set_trace()\n",
    "    while i < nrun:\n",
    "        sarr0 = (np.ones(ncols)*np.nan).reshape((1, ncols))\n",
    "#        print(sarr0.shape)\n",
    "        try:\n",
    "            sarr0 = np.c_[np.loadtxt('%s/Run%s/%s'%(path,i,title))].T\n",
    "#            print(sarr0.shape)\n",
    "        except:\n",
    "#            traceback.print_exc()\n",
    "            pass\n",
    "        if not append:\n",
    "            sarr = sarr0.copy()\n",
    "            append = True\n",
    "#            print(i,sarr0)\n",
    "        else:\n",
    "#            print(i,sarr0)\n",
    "            sarr = np.concatenate((sarr,sarr0),axis=0)\n",
    "        i+=1\n",
    "    return sarr\n",
    "\n",
    "def AvalancheSize(strain, Virial):\n",
    "    d={'t_end':[],'duration':[],'ds':[]}\n",
    "    kount = 0\n",
    "    duration = 0\n",
    "    ds = 0.0\n",
    "#    counter = 0\n",
    "    try:\n",
    "        dtt = strain[1]-strain[0] #TimeSeries[0]['Time'].iloc[1]-TimeSeries[0]['Time'].iloc[0]\n",
    "        for items,sbulk in list(zip(strain, Virial)): #TimeSeries[isamp].itertuples():\n",
    "#            sbulk = items[2]\n",
    "            t = items #items[1]\n",
    "            #--- ens. average\n",
    "            if kount == 0:\n",
    "                a = sbulk\n",
    "                ta = t\n",
    "            elif kount == 1:\n",
    "                b = sbulk\n",
    "                tb = t\n",
    "            else:\n",
    "                c = sbulk\n",
    "                tc = t\n",
    "            if kount < 2:\n",
    "                kount += 1\n",
    "                init0 = kount + 1\n",
    "                continue\n",
    "            sdr = 0.5 * ( c - a ); #--- derivative\n",
    "#                print(t, sdr)\n",
    "#            if sdr < 0.0 and counter == 0:\n",
    "#                continue\n",
    "            if sdr > 0.0: #--- elastic loading\n",
    "                init0 = kount + 1; #--- initialize init\n",
    "            else: #--- avalanche starts!\n",
    "#                    print(t, sdr)\n",
    "                ds += sdr #--- increment avalanche size by the stress derivative\n",
    "                duration += 1 #--- increment duration\n",
    "            if init0 - kount == 1 and duration != 0: #--- avalanche ends!\n",
    "                print(duration,ds) #tc-duration*(tb-ta),tc,duration\n",
    "    #\t\t\tax.plot([tc-duration*(tb-ta),tc], [0.0,0.0]\n",
    "    #                    ,'o')\n",
    "                d['t_end'].append(tc) \n",
    "                d['duration'].append(duration*dtt) \n",
    "                d['ds'].append(-ds)\n",
    "                ds = 0.0 #--- initialize \n",
    "                duration = 0\n",
    "#                counter+=1\n",
    "    #\t\tif counter == 1:\n",
    "    #\t\t\tbreak\n",
    "            a = b #--- new assignments\n",
    "            b = c;\n",
    "            ta = tb #--- new assignments\n",
    "            tb = tc;\n",
    "            kount += 1\n",
    "    except:\n",
    "#        traceback.print_exc()\n",
    "        pass\n",
    "    if duration != 0: #--- one single avalanche!\n",
    "        d['t_end'].append(tc) \n",
    "        d['duration'].append(duration*dtt) \n",
    "        d['ds'].append(-ds)\n",
    "#    print(duration,ds)\n",
    "#fig.show()\n",
    "    df=pd.DataFrame(d)\n",
    "    df=df[df['ds']!=0.0]\n",
    "    \n",
    "    return df\n",
    "\n",
    "def GetPDF(slist, n_per_decade=4, ACCUM = None, linscale = None, density=True):\n",
    "    if not linscale:\n",
    "        xlo = np.floor(np.log10(np.min(slist)))\n",
    "        xhi = np.ceil(np.log10(np.max(slist)))\n",
    "        bins = np.logspace(xlo,xhi,int(xhi-xlo)*n_per_decade)    \n",
    "    else:\n",
    "        xlo = np.min(slist)\n",
    "        xhi = np.max(slist)\n",
    "        bins = np.linspace(xlo,xhi,n_per_decade)\n",
    "        \n",
    "    hist, edges = np.histogram(slist,bins=bins,density=density)\n",
    "    count, edges = np.histogram(slist,bins=bins)\n",
    "    \n",
    "    \n",
    "    if ACCUM:\n",
    "        return np.cumsum((edges[1:]-edges[:-1])*hist), edges\n",
    "    \n",
    "    \n",
    "    hist = hist[count>0]\n",
    "    edges = edges[:-1][count>0]\n",
    "    count = count[count>0]\n",
    "    \n",
    "    return  hist, edges, hist / count**0.5\n",
    "\n",
    "\n",
    "# create a definition for the short hyphen\n",
    "#matplotlib.rcParams[\"text.latex.preamble\"]+= r'\\mathchardef\\mhyphen=\"2D'#.append(r'\\mathchardef\\mhyphen=\"2D')\n",
    "\n",
    "class MyLogFormatter(matplotlib.ticker.LogFormatterMathtext):\n",
    "    def __call__(self, x, pos=None):\n",
    "        pass\n",
    "#         # call the original LogFormatter\n",
    "#         rv = matplotlib.ticker.LogFormatterMathtext.__call__(self, x, pos)\n",
    "\n",
    "#         # check if we really use TeX\n",
    "#         if matplotlib.rcParams[\"text.usetex\"]:\n",
    "#             # if we have the string ^{- there is a negative exponent\n",
    "#             # where the minus sign is replaced by the short hyphen\n",
    "#             rv = re.sub(r'\\^\\{-', r'^{\\mhyphen', rv)\n",
    "\n",
    "#         return rv\n",
    "    \n",
    "def makeTickLabels(ax, xdata, ydata, **kargs):\n",
    "    ylo = kargs['ylo'] if 'ylo' in kargs else 10**np.floor(np.log10(np.min(ydata)))\n",
    "    yhi = kargs['yhi'] if 'yhi' in kargs else 10**np.ceil(np.log10(np.max(ydata)))\n",
    "    xlo = kargs['xlo'] if 'xlo' in kargs else 10**np.floor(np.log10(np.min(xdata)))\n",
    "    xhi = kargs['xhi'] if 'xhi' in kargs else 10**np.ceil(np.log10(np.max(xdata)))\n",
    "    center = kargs['center'] if 'center' in kargs else True\n",
    "    MINUS = kargs['MINUS'] if 'MINUS' in kargs else True\n",
    "    xc = 0.5*np.log10(xhi*xlo)\n",
    "    yc = 0.5*np.log10(yhi*ylo)\n",
    "    \n",
    "    dx = np.log10(xhi/xlo)*0.5\n",
    "    dy = np.log10(yhi/ylo)*0.5\n",
    "\n",
    "    if center:\n",
    "        dx = dy = np.max([dx,dy])\n",
    "    \n",
    "    ax.axis(10**np.array([xc-dx,xc+dx,yc-dy,yc+dy]))\n",
    "    ax.loglog()\n",
    "    \n",
    "    ##--- add major xticks\n",
    "    xmin=np.ceil(np.log10(ax.axis()[0]))\n",
    "    xmax=np.floor(np.log10(ax.axis()[1]))\n",
    "    nbin = xmax - xmin\n",
    "    ax.set_xticks(np.logspace(xmin,xmax,int(nbin)+1))\n",
    "    \n",
    "    #--- add major yticks\n",
    "    ymin=np.ceil(np.log10(ax.axis()[2]))\n",
    "    ymax=np.floor(np.log10(ax.axis()[3]))\n",
    "    nbin = ymax - ymin\n",
    "    ax.set_yticks(np.logspace(ymin,ymax,int(nbin)+1))\n",
    "    \n",
    "    #--- put minor bins\n",
    "    locmin = matplotlib.ticker.LogLocator(base=10.0,subs=(0.1,0.2,0.3,0.4,0.5,0.6,0.7,0.8,0.9,1),numticks=12)\n",
    "    ax.xaxis.set_minor_locator(locmin)\n",
    "    ax.xaxis.set_minor_formatter(matplotlib.ticker.NullFormatter())\n",
    "    if MINUS:\n",
    "        ax.xaxis.set_major_formatter(MyLogFormatter()) #--- minus sign too long\n",
    "\n",
    "    #--- put minor bins y\n",
    "    locmin = matplotlib.ticker.LogLocator(base=10.0,subs=(0.1,0.2,0.3,0.4,0.5,0.6,0.7,0.8,0.9,1),numticks=12)\n",
    "    ax.yaxis.set_minor_locator(locmin)\n",
    "    ax.yaxis.set_minor_formatter(matplotlib.ticker.NullFormatter())\n",
    "    if MINUS:\n",
    "        ax.yaxis.set_major_formatter(MyLogFormatter()) #--- minus sign too long\n",
    "\n",
    "        \n",
    "    ax.tick_params(axis='y',left=True, right=True,which='both')\n",
    "    ax.tick_params(axis='x',bottom=True, top=True,which='both')\n",
    "    \n",
    "def GetBinnedAverage( a, y, **kwargs ):\n",
    "    n=len(a)\n",
    "    if 'nbins_per_decade' in kwargs:\n",
    "        nbins = kwargs['nbins_per_decade'] * int( ( np.ceil(np.max(a))-np.floor(np.min(a)) ) )\n",
    "    if 'nbins' in kwargs:\n",
    "        nbins = kwargs['nbins']\n",
    "    \n",
    "    ysum = np.histogram(a, bins=nbins, weights=y)[0]\n",
    "    xsum = np.histogram(a, bins=nbins, weights=a)[0]\n",
    "    xcount = np.histogram(a, bins=nbins)[0]\n",
    "\n",
    "#    print xsum\n",
    "#    print xcount\n",
    "#    assert not np.any(xcount==0)\n",
    "    #--- remove zero\n",
    "    xsum = xsum[xcount!=0]\n",
    "    ysum = ysum[xcount!=0] \n",
    "    xcount = xcount[xcount!=0]\n",
    "\n",
    "    xmean = xsum/xcount\n",
    "    ymean = ysum/xcount\n",
    "    return xmean, ymean, xmean / xcount ** 0.5, ymean / xcount ** 0.5"
   ]
  },
  {
   "cell_type": "markdown",
   "metadata": {},
   "source": [
    "# Parameters"
   ]
  },
  {
   "cell_type": "code",
   "execution_count": 4,
   "metadata": {},
   "outputs": [
    {
     "ename": "ValueError",
     "evalue": "not enough values to unpack (expected 2, got 1)",
     "output_type": "error",
     "traceback": [
      "\u001b[0;31m---------------------------------------------------------------------------\u001b[0m",
      "\u001b[0;31mValueError\u001b[0m                                Traceback (most recent call last)",
      "\u001b[0;32m<ipython-input-4-891ed151fb85>\u001b[0m in \u001b[0;36m<module>\u001b[0;34m\u001b[0m\n\u001b[1;32m      2\u001b[0m \u001b[0menv_vars\u001b[0m \u001b[0;34m=\u001b[0m \u001b[0mget_ipython\u001b[0m\u001b[0;34m(\u001b[0m\u001b[0;34m)\u001b[0m\u001b[0;34m.\u001b[0m\u001b[0mgetoutput\u001b[0m\u001b[0;34m(\u001b[0m\u001b[0;34m'cat .env'\u001b[0m\u001b[0;34m)\u001b[0m\u001b[0;34m\u001b[0m\u001b[0;34m\u001b[0m\u001b[0m\n\u001b[1;32m      3\u001b[0m \u001b[0;32mfor\u001b[0m \u001b[0mvar\u001b[0m \u001b[0;32min\u001b[0m \u001b[0menv_vars\u001b[0m\u001b[0;34m:\u001b[0m\u001b[0;34m\u001b[0m\u001b[0;34m\u001b[0m\u001b[0m\n\u001b[0;32m----> 4\u001b[0;31m     \u001b[0mkey\u001b[0m\u001b[0;34m,\u001b[0m \u001b[0mvalue\u001b[0m \u001b[0;34m=\u001b[0m \u001b[0mvar\u001b[0m\u001b[0;34m.\u001b[0m\u001b[0msplit\u001b[0m\u001b[0;34m(\u001b[0m\u001b[0;34m'='\u001b[0m\u001b[0;34m)\u001b[0m\u001b[0;34m\u001b[0m\u001b[0;34m\u001b[0m\u001b[0m\n\u001b[0m\u001b[1;32m      5\u001b[0m     \u001b[0mos\u001b[0m\u001b[0;34m.\u001b[0m\u001b[0menviron\u001b[0m\u001b[0;34m[\u001b[0m\u001b[0mkey\u001b[0m\u001b[0;34m]\u001b[0m \u001b[0;34m=\u001b[0m \u001b[0mvalue\u001b[0m\u001b[0;34m\u001b[0m\u001b[0;34m\u001b[0m\u001b[0m\n\u001b[1;32m      6\u001b[0m \u001b[0;34m\u001b[0m\u001b[0m\n",
      "\u001b[0;31mValueError\u001b[0m: not enough values to unpack (expected 2, got 1)"
     ]
    }
   ],
   "source": [
    "#--- comment out if no parameter is passed as an env. variable\n",
    "env_vars = !cat .env\n",
    "for var in env_vars:\n",
    "    key, value = var.split('=')\n",
    "    os.environ[key] = value\n",
    "\n",
    "path = os.environ.get('path') #--- don't comment!\n",
    "\n",
    "#--- uncomment if modified in 'submitPY.py'   \n",
    "#itime = int(os.environ.get('itime'))\n",
    "indx = int(os.environ.get('indx'))"
   ]
  },
  {
   "cell_type": "code",
   "execution_count": 47,
   "metadata": {},
   "outputs": [],
   "source": [
    "#--- comment out parameters if you pass them\n",
    "#--- by arguments\n",
    "\n",
    "#--- timestep\n",
    "#itime = 0\n",
    "#\n",
    "dlgr0 = 2.5 #--- 1st peak  in g(r)\n",
    "dlgr = 4.0 #--- 2nd peak in g(r) !!!!!!!!!!\n",
    "cutoff = 10.0*1    #--- cut-off radius for g(r)\n",
    "NMAX = 10000*1    #--- max. number of atoms included for the g(r) analysis\n",
    "#\n",
    "TimeSeries = False\n",
    "#\n",
    "ReadStrsFromDump = False #--- don't change!\n",
    "#\n",
    "#--- if np.any(AssignYieldTime,AssignMaxDropTime,AssignFlowTime,TimeSeries) -> comment itime (here and above!)\n",
    "AssignYieldTime = False #--- stress peak\n",
    "AssignMaxDropTime = False #--- max drop\n",
    "AssignFlowTime = False #--- flow stress\n",
    "#\n",
    "ShuffleDisp = False\n",
    "CrltnFunctionUnstructured = False\n",
    "PairCorrelationFunction = False\n",
    "#\n",
    "CommonNeighAnl = False\n",
    "#\n",
    "VorAnl = False\n",
    "#\n",
    "StrnAnalysis = False\n",
    "#\n",
    "DminAnalysis = True\n",
    "#\n",
    "Ovitos = True #--- don't change!\n",
    "#\n",
    "nevery = 1 #8 #--- postproc. every n times\n",
    "#\n",
    "RemoteMachine = True #--- tex issue: don't run corresponding cells\n",
    "# 'Co', 'Ni', 'Cr', 'Fe', 'Mn'\n",
    "#LatticeConstant = {1:58.933,2:58.690,3:51.960,4:55.847,5:54.940} #--- from library_CoNiCrFeMn.meam\n",
    "#AtomicRadius = {1:1.35,2:1.35,3:1.4,4:1.4,5:1.4} #--- https://en.wikipedia.org/wiki/Atomic_radii_of_the_elements_(data_page)\n",
    "AtomicRadius = {1:1.25,2:1.25,3:1.28,4:1.27,5:1.26}\n",
    "#ModuMismatch = {1:0.0119,2:0.0162,3:0.0426,5:0.0399,6:0.0303}\n",
    "Gmodu={1:75.0, 2:76.0, 3:115.0, 4:82.0, 5:80.0} #---https://en.wikipedia.org/wiki/Elastic_properties_of_the_elements_(data_page)#Shear_modulus\n",
    "#--- lammps output\n",
    "#path = '/Users/Home/Desktop/Tmp/txt'\n",
    "\n",
    "#--- stress files\n",
    "#indx = 0\n",
    "fileNamee = ('FeNi.txt', \n",
    "             'CoNiFe.txt', \n",
    "             'CoNiCrFe.txt',\n",
    "             'CoCrFeMn.txt',\n",
    "             'CoNiCrFeMn.txt',\n",
    "             'Co5Cr2Fe40Mn27Ni26.txt')[indx]\n",
    "\n",
    "#--- xyz and atom-wise stress files\n",
    "fileName = '%s/%s'%(path,[\n",
    "            'FeNi_glass.dump',\n",
    "            'CoNiFe_glass.dump',\n",
    "            'CoNiCrFe_glass.dump',\n",
    "            'CoCrFeMn_glass.dump',\n",
    "            'CoNiCrFeMn_glass.dump',\n",
    "            'Co5Cr2Fe40Mn27Ni26_glass.dump','DumpFile.xyz'][indx])#--- parse cords\n",
    "\n",
    "fileName2nd = '%s/%s'%(path,[\n",
    "            'FeNi_Cna.xyz',\n",
    "            'CoNiFe_Cna.xyz',\n",
    "            'CoNiCrFe_Cna.xyz',\n",
    "            'CoCrFeMn_Cna.xyz',\n",
    "            'CoNiCrFeMn_Cna.xyz',\n",
    "            'Co5Cr2Fe40Mn27Ni26_Cna.xyz'][indx])#--- parse cords\n"
   ]
  },
  {
   "cell_type": "markdown",
   "metadata": {},
   "source": [
    "\n",
    "## Dump File"
   ]
  },
  {
   "cell_type": "code",
   "execution_count": 21,
   "metadata": {},
   "outputs": [],
   "source": [
    "#--- parse lammps data\n",
    "if CommonNeighAnl:\n",
    "    lmpCna = lp.ReadDumpFile( fileName2nd )\n",
    "    lmpCna.GetCords( ncount = sys.maxsize)\n",
    "\n",
    "#--- dump files\n",
    "lmpData = lp.ReadDumpFile( fileName )\n",
    "lmpData.GetCords( ncount = sys.maxsize, columns = {'c_mystress[4]':'sxy'} )\n",
    "#lmpData.GetCords( ncount = sys.maxsize, columns = {'c_mystress1':'sxx','c_mystress2':'syy','c_mystress3':'szz','c_mystress4':'sxy'} ) #!!!!!!\n",
    "#lmpData.GetCords( ncount = sys.maxsize, columns = {'c_1[4]':'sxy'} )\n"
   ]
  },
  {
   "cell_type": "markdown",
   "metadata": {},
   "source": [
    "# stress-strain curve"
   ]
  },
  {
   "cell_type": "code",
   "execution_count": 284,
   "metadata": {},
   "outputs": [
    {
     "ename": "AttributeError",
     "evalue": "'Atoms' object has no attribute 'sxy'",
     "output_type": "error",
     "traceback": [
      "\u001b[0;31m---------------------------------------------------------------------------\u001b[0m",
      "\u001b[0;31mAttributeError\u001b[0m                            Traceback (most recent call last)",
      "\u001b[0;32m<ipython-input-284-f3c290a284f3>\u001b[0m in \u001b[0;36m<module>\u001b[0;34m\u001b[0m\n\u001b[1;32m     29\u001b[0m     \u001b[0;31m#--- virial stress\u001b[0m\u001b[0;34m\u001b[0m\u001b[0;34m\u001b[0m\u001b[0;34m\u001b[0m\u001b[0m\n\u001b[1;32m     30\u001b[0m     \u001b[0;32mif\u001b[0m \u001b[0mReadStrsFromDump\u001b[0m\u001b[0;34m:\u001b[0m\u001b[0;34m\u001b[0m\u001b[0;34m\u001b[0m\u001b[0m\n\u001b[0;32m---> 31\u001b[0;31m         \u001b[0mvirial\u001b[0m \u001b[0;34m=\u001b[0m \u001b[0mnp\u001b[0m\u001b[0;34m.\u001b[0m\u001b[0msum\u001b[0m\u001b[0;34m(\u001b[0m\u001b[0matoms\u001b[0m\u001b[0;34m.\u001b[0m\u001b[0msxy\u001b[0m\u001b[0;34m)\u001b[0m \u001b[0;34m/\u001b[0m \u001b[0mvolume\u001b[0m\u001b[0;34m\u001b[0m\u001b[0;34m\u001b[0m\u001b[0m\n\u001b[0m\u001b[1;32m     32\u001b[0m \u001b[0;31m#        virial = -(np.sum(atoms.sxx)+np.sum(atoms.syy)+np.sum(atoms.szz)) / 3.0 / volume\u001b[0m\u001b[0;34m\u001b[0m\u001b[0;34m\u001b[0m\u001b[0;34m\u001b[0m\u001b[0m\n\u001b[1;32m     33\u001b[0m \u001b[0;34m\u001b[0m\u001b[0m\n",
      "\u001b[0;31mAttributeError\u001b[0m: 'Atoms' object has no attribute 'sxy'"
     ]
    },
    {
     "data": {
      "image/png": "[encoded data removed]",
      "text/plain": [
       "<Figure size 288x288 with 1 Axes>"
      ]
     },
     "metadata": {
      "needs_background": "light"
     },
     "output_type": "display_data"
    }
   ],
   "source": [
    "if ReadStrsFromDump:\n",
    "    fig = plt.figure( figsize = (4,4))\n",
    "    ax = fig.add_subplot(111)\n",
    "    ax.set_xlabel(r'$\\gamma$',fontsize=16)\n",
    "    ax.set_ylabel(r'$\\sigma$(Gpa)',fontsize=16)\n",
    "    ax.tick_params(labelsize=16)\n",
    "    ax.set_title(fileNamee[:-4])\n",
    "#\n",
    "#--- point corresponding to strain maps\n",
    "Box = {}\n",
    "strainDump = []\n",
    "Virial = []\n",
    "times = lmpData.coord_atoms_broken.keys()\n",
    "for itimee in sorted(times):\n",
    "\n",
    "    #--- extract atom and box properties\n",
    "    atoms = lp.Atoms( **lmpData.coord_atoms_broken[itimee].to_dict(orient='list') )\n",
    "    #\n",
    "    Box[itimee] = lp.Box( BoxBounds = lmpData.BoxBounds[itimee] )\n",
    "    Box[itimee].BasisVectors( AddMissing = np.array([0.0,0.0,0.0] ))\n",
    "    #\n",
    "    box0 = lp.Box( BoxBounds = lmpData.BoxBounds[0] ) #--- reference state\n",
    "    box0.BasisVectors( AddMissing = np.array([0.0,0.0,0.0] ))\n",
    "\n",
    "    #--- volume\n",
    "    CellVectorOrtho, VectorNorm = lp.GetOrthogonalBasis( Box[itimee].CellVector )\n",
    "    volume = np.linalg.det( CellVectorOrtho )\n",
    "    \n",
    "    #--- virial stress\n",
    "    if ReadStrsFromDump:\n",
    "        try: \n",
    "            virial = np.sum(atoms.sxy) / volume\n",
    "        except AttributeError: #--- dump file has no stress entry! \n",
    "            ReadStrsFromDump = False\n",
    "#        virial = -(np.sum(atoms.sxx)+np.sum(atoms.syy)+np.sum(atoms.szz)) / 3.0 / volume\n",
    "\n",
    "    #--- bulk strain\n",
    "    dx=Box[itimee].CellVector[0,1]-box0.CellVector[0,1]\n",
    "    l1=Box[itimee].CellVector[1,1]\n",
    "    ebulk = dx/l1    \n",
    "    \n",
    "    #--- append\n",
    "    strainDump += [ebulk]\n",
    "    if ReadStrsFromDump:\n",
    "        Virial += [virial*1e-4] #--- bar to gpa \n",
    "if ReadStrsFromDump:\n",
    "    #\n",
    "    ax.plot(np.array(strainDump), Virial, '-o')\n",
    "    #\n",
    "    plt.savefig(fileNamee[:-4]+'.png',dpi=75,bbox_inches='tight')\n",
    "    np.savetxt('loadCurve.txt',np.c_[np.array(strainDump), Virial])\n",
    "    plt.show()\n",
    "#\n"
   ]
  },
  {
   "cell_type": "code",
   "execution_count": null,
   "metadata": {},
   "outputs": [],
   "source": [
    "if not ReadStrsFromDump:\n",
    "    stress = np.loadtxt('%s/%s'%(path,fileNamee) ) #--- stress input file"
   ]
  },
  {
   "cell_type": "code",
   "execution_count": 67,
   "metadata": {},
   "outputs": [
    {
     "data": {
      "image/png": "[encoded data removed]",
      "text/plain": [
       "<Figure size 288x288 with 1 Axes>"
      ]
     },
     "metadata": {
      "needs_background": "light"
     },
     "output_type": "display_data"
    }
   ],
   "source": [
    "if not ReadStrsFromDump:\n",
    "\n",
    "    fig = plt.figure( figsize = (4,4))\n",
    "    ax = fig.add_subplot(111)\n",
    "    ax.set_xlabel(r'$\\epsilon$',fontsize=16)\n",
    "    ax.set_ylabel(r'$\\sigma$',fontsize=16)\n",
    "    ax.tick_params(labelsize=16)\n",
    "    ax.set_title(fileNamee[:-4])\n",
    "    #\n",
    "    strain = stress[:,0]\n",
    "    Virial = stress[:,1]\n",
    "    ax.plot(strain,Virial,'-')\n",
    "    #\n",
    "    plt.savefig(fileNamee[:-4]+'.png',dpi=75,bbox_inches='tight')\n",
    "    plt.show()\n",
    "    #\n",
    "    np.savetxt('loadCurve.txt',np.c_[np.array(strain), Virial])"
   ]
  },
  {
   "cell_type": "markdown",
   "metadata": {},
   "source": [
    "## multiple systems"
   ]
  },
  {
   "cell_type": "code",
   "execution_count": 325,
   "metadata": {},
   "outputs": [
    {
     "data": {
      "image/png": "[encoded data removed]",
      "text/plain": [
       "<Figure size 288x288 with 1 Axes>"
      ]
     },
     "metadata": {
      "needs_background": "light"
     },
     "output_type": "display_data"
    }
   ],
   "source": [
    "if not RemoteMachine:\n",
    "    unrescaled = True\n",
    "    #\n",
    "    matplotlib.rcParams['text.usetex'] = True #--- comment tex stuff!\n",
    "    #\n",
    "    colors = ['black','red','green','blue','cyan','brown','grey','magenta','orange','yellow']\n",
    "    fillstyles=['white',None,'white',None,'white',None,'white',None,'white',None,'white',None,'white',None,'white',None]\n",
    "    markers=['o','s','D','^','<','>','v']\n",
    "    #\n",
    "    fig = plt.figure( figsize = (4,4))\n",
    "    ax = fig.add_subplot(111)\n",
    "#     ax.set_xlabel(r'$\\gamma$',fontsize=20)\n",
    "#     ax.set_ylabel(r'$\\sigma$',fontsize=20)\n",
    "    ax.xaxis.set_minor_locator(AutoMinorLocator(2))\n",
    "    ax.yaxis.set_minor_locator(AutoMinorLocator(2))\n",
    "    ax.tick_params(labelsize=20,which='both',axis='both', top=True, right=True)\n",
    "    #ax.set_title()\n",
    "    #\n",
    "    for GlassType, marker, color, fillstyle in list(zip( [ \n",
    "                                         'FeNi',\n",
    "                                          'CoNiFe',\n",
    "                                            'CoNiCrFe',\n",
    "                                            'CoCrFeMn',\n",
    "                                            'CoNiCrFeMn',\n",
    "                                            'Co5Cr5Fe40Mn27Ni26'\n",
    "                                        ],markers, colors, fillstyles )):\n",
    "\n",
    "        sarr  = np.loadtxt('d2min%s/Run2/loadCurve.txt'%GlassType)\n",
    "#        gmodu = np.loadtxt('StrsStrn%s/Run2/ShearModulus.txt'%GlassType)[1]\n",
    "    #    sarr_BandWidth = MultipleFrames2nd(path='StrsDrop%s'%GlassType,nrun=3,title='rc_d2min.txt',ncols=3)\n",
    "    #    assert sarr_StrsDrop.shape[0] == sarr_BandWidth.shape[0]\n",
    "        #--- fliter\n",
    "        nfreq = np.max([1,int(len(sarr)/100)])\n",
    "        ydata = sarr[0::nfreq,1] #--- first 2nd col is stress drop\n",
    "        xdata = sarr[0::nfreq,0] #--- 2nd and 3rd cols are widths\n",
    "#         if unrescaled:\n",
    "#             gmodu = 1\n",
    "    #\n",
    "#        ax.plot(xdata,ydata/gmodu,'-',color=color)#, label = GlassType)\n",
    "        ax.plot(xdata,ydata,\n",
    "                markersize=10,\n",
    "                color=color,\n",
    "                marker=marker,\n",
    "                markerfacecolor=fillstyle,\n",
    "                markeredgecolor='black' if not fillstyle else None,\n",
    "                markevery=int(len(xdata)/10),\n",
    "                label = '%s'%GlassType)\n",
    "\n",
    "    #\n",
    "    ax.legend(frameon=False, fontsize=12)\n",
    "    #\n",
    "    DrawFrame(ax, 0.2,0.09,0.15,0.06,0.04)\n",
    "    #\n",
    "    plt.savefig('loadCurve.png',dpi=2*75,bbox_inches='tight',pad_inches=0.0)\n",
    "    plt.show()"
   ]
  },
  {
   "cell_type": "markdown",
   "metadata": {},
   "source": [
    "## multiple Realizations"
   ]
  },
  {
   "cell_type": "code",
   "execution_count": 324,
   "metadata": {},
   "outputs": [
    {
     "data": {
      "image/png": "[encoded data removed]",
      "text/plain": [
       "<Figure size 288x288 with 1 Axes>"
      ]
     },
     "metadata": {
      "needs_background": "light"
     },
     "output_type": "display_data"
    }
   ],
   "source": [
    "if not RemoteMachine:\n",
    "    unrescaled = True\n",
    "    #\n",
    "    matplotlib.rcParams['text.usetex'] = True #--- comment tex stuff!\n",
    "    #\n",
    "    colors = ['black','red','green','blue','cyan','brown','grey','magenta','orange','yellow']\n",
    "    fillstyles=['white',None,'white',None,'white',None,'white',None,'white',None,'white',None,'white',None,'white',None]\n",
    "    markers=['o','s','D','^','<','>','v']\n",
    "    #\n",
    "    fig = plt.figure( figsize = (4,4))\n",
    "    ax = fig.add_subplot(111)\n",
    "    ax.set_xlabel(r'$\\gamma$',fontsize=20)\n",
    "    ax.set_ylabel(r'$\\sigma$',fontsize=20)\n",
    "    ax.xaxis.set_minor_locator(AutoMinorLocator(2))\n",
    "    ax.yaxis.set_minor_locator(AutoMinorLocator(2))\n",
    "    ax.tick_params(labelsize=20,which='both',axis='both', top=True, right=True)\n",
    "    #ax.set_title()\n",
    "    #\n",
    "    for GlassType, marker, color, fillstyle in list(zip( [ \n",
    "                                         '0','1','2'\n",
    "                                        ],markers, colors, fillstyles )):\n",
    "\n",
    "        try:\n",
    "            sarr  = np.loadtxt('d2minCo5Cr5Fe40Mn27Ni26/Run%s/loadCurve.txt'%GlassType)\n",
    "            #--- fliter\n",
    "            nfreq = np.max([1,int(len(sarr)/1000)])\n",
    "            ydata = sarr[0::nfreq,1] #--- first 2nd col is stress drop\n",
    "            xdata = sarr[0::nfreq,0] #--- 2nd and 3rd cols are widths\n",
    "        #\n",
    "            ax.plot(xdata,ydata,\n",
    "                    markersize=10,\n",
    "                    color=color,\n",
    "                    marker=marker,\n",
    "                    markerfacecolor=fillstyle,\n",
    "                    markeredgecolor='black' if not fillstyle else None,\n",
    "                    markevery=int(len(xdata)/10),\n",
    "                    label = '%s'%GlassType)\n",
    "        except:\n",
    "            continue\n",
    "    #\n",
    "    ax.legend(frameon=False, fontsize=12)\n",
    "    #\n",
    "    DrawFrame(ax, 0.2,0.09,0.15,0.06,0.04)\n",
    "    #\n",
    "    plt.savefig('loadCurve.png',dpi=2*75,bbox_inches='tight',pad_inches=0.0)\n",
    "    plt.show()"
   ]
  },
  {
   "cell_type": "markdown",
   "metadata": {},
   "source": [
    "## find stress peak and corresponding strain\n",
    "### Fit a spline"
   ]
  },
  {
   "cell_type": "code",
   "execution_count": 68,
   "metadata": {},
   "outputs": [
    {
     "name": "stdout",
     "output_type": "stream",
     "text": [
      "ey= 0.0949126\n",
      "sy= 2.699103286628028\n",
      "em= 0.1269346\n"
     ]
    },
    {
     "data": {
      "image/png": "[encoded data removed]",
      "text/plain": [
       "<Figure size 288x288 with 1 Axes>"
      ]
     },
     "metadata": {
      "needs_background": "light"
     },
     "output_type": "display_data"
    }
   ],
   "source": [
    "\n",
    "def ReturnShapeFunc(x,df):\n",
    "#    eps1=0.0;eps2=0.0\n",
    "#    n = len(x)\n",
    "#    x2 = x * x\n",
    "#    x3 = x * x2\n",
    "#    x4 = (x-eps1)**3\n",
    "#    x5 = (x-eps2)**3\n",
    "    transformed_x = patsy.bs(x, df=df,degree =3, include_intercept=False)\n",
    "    return transformed_x \n",
    "\n",
    "def TrainModel(x,y):\n",
    "    reg = LinearRegression().fit(x, y )\n",
    "    return reg\n",
    "\n",
    "def Validate(reg, x,y,cv_samples=10):\n",
    "    mse={}\n",
    "#    for df in range(0,100,4):\n",
    "    for df in map(int,np.logspace(0,12,20,base=2,endpoint=True)):\n",
    "        try:\n",
    "            transfrm = ReturnShapeFunc(x,df)\n",
    "            #--- vadidate    \n",
    "            scores = cross_validate(reg,  transfrm, y, cv=cv_samples,\n",
    "                                         scoring=('r2', 'neg_mean_squared_error'),\n",
    "                                         return_train_score=True)\n",
    "            mse[df] = np.mean(scores['train_neg_mean_squared_error'])\n",
    "        except:\n",
    "            continue\n",
    "    return mse\n",
    "\n",
    "def YieldStress(x,y_pred):\n",
    "    #--- max. stress\n",
    "    y_pred_arr = np.array(y_pred.flatten())\n",
    "    indx = np.arange(len(y_pred_arr))[y_pred_arr==np.max(y_pred_arr)][0]\n",
    "    ey =  x[indx]\n",
    "#    print('ey=',ey)\n",
    "\n",
    "    #--- yield stress\n",
    "    sy =  y_pred_arr[indx]\n",
    "#    print('sy=',sy)\n",
    "    assert sy > 0.0\n",
    "\n",
    "    #--- max. slope\n",
    "    ydiff = np.gradient(y_pred_arr, x)\n",
    "    indx = np.arange(len(x))[ydiff==np.min(ydiff[x>ey])][0]\n",
    "    em = x[indx]\n",
    "    sm =  y_pred_arr[indx]\n",
    "    dsm = ydiff[x>=em][0]\n",
    "#    print('em=',em)\n",
    "\n",
    "    #--- flow stress\n",
    "#    ydiff = np.gradient(y_pred_arr, x)\n",
    "    indx = np.arange(len(x))[np.abs(ydiff)==np.min(np.abs(ydiff)[x>em])][0]\n",
    "    ef = x[indx]\n",
    "    sf =  y_pred_arr[indx]\n",
    "    \n",
    "    #--- modulus\n",
    "    xdata = x[x<0.5*ey]\n",
    "    ydata = y_pred[x<0.5*ey]\n",
    "    xdata -= np.mean(xdata)\n",
    "    ydata -= np.mean(ydata)\n",
    "    gmodu = np.polyfit(xdata, ydata, 1)[0] #ydiff[0]\n",
    "\n",
    "    return (ey,sy), (em,sm,dsm), (ef,sf), gmodu\n",
    "\n",
    "def YieldStress2nd(x,y_pred):\n",
    "    #--- max. stress\n",
    "    y_pred_arr = np.array(y_pred.flatten())\n",
    "    indx = np.arange(len(y_pred_arr))[y_pred_arr==np.max(y_pred_arr)][0]\n",
    "    ey =  x[indx]\n",
    "#    print('ey=',ey)\n",
    "\n",
    "    #--- yield stress\n",
    "    sy =  y_pred_arr[indx]\n",
    "#    print('sy=',sy)\n",
    "    assert sy > 0.0\n",
    "\n",
    "\n",
    "\n",
    "    #--- flow stress\n",
    "    ydiff = np.gradient(y_pred_arr, x)\n",
    "    indx = np.arange(len(x))[np.abs(ydiff)==np.min(np.abs(ydiff)[x>ey])][0]\n",
    "    ef = x[indx]\n",
    "    sf =  y_pred_arr[indx]\n",
    "\n",
    "\n",
    "    #--- max. slope\n",
    "#    ydiff = np.gradient(y_pred_arr, x)\n",
    "    indx = np.arange(len(x))[ydiff==np.min(ydiff[x<ef])][0]\n",
    "    em = x[indx]\n",
    "    sm =  y_pred_arr[indx]\n",
    "    dsm = ydiff[x>=em][0]\n",
    "#    print('em=',em)\n",
    "\n",
    "    #--- modulus\n",
    "    xdata = x[x<0.5*ey]\n",
    "    ydata = y_pred[x<0.5*ey]\n",
    "    xdata -= np.mean(xdata)\n",
    "    ydata -= np.mean(ydata)\n",
    "    gmodu = np.polyfit(xdata, ydata, 1)[0] #ydiff[0]\n",
    "    \n",
    "    \n",
    "    return (ey,sy), (em,sm,dsm), (ef,sf), gmodu\n",
    "\n",
    "\n",
    "if ReadStrsFromDump:\n",
    "    strain = strainDump\n",
    "\n",
    "x, y = np.array(strain), np.array(Virial)\n",
    "#--- training points\n",
    "transfrm = ReturnShapeFunc(x,10)\n",
    "    \n",
    "#--- train\n",
    "reg = TrainModel(transfrm,np.c_[y])\n",
    "\n",
    "#--- prediction\n",
    "y_pred = reg.predict( transfrm )\n",
    "    \n",
    "\n",
    "#--- validate\n",
    "#mse = Validate(reg, strain,np.c_[y])\n",
    "\n",
    "#--- yield stress\n",
    "try:\n",
    "    (ey,sy), (em,sm,dsm), (ef,sf), gmodu = YieldStress(x,y_pred)\n",
    "except:\n",
    "    (ey,sy), (em,sm,dsm), (ef,sf), gmodu = YieldStress2nd(x,y_pred)\n",
    "\n",
    "#--- write on the disk\n",
    "np.savetxt('NegativeModulus.txt',np.c_[em,-dsm],header='Strain\\tModulus')\n",
    "np.savetxt('ShearModulus.txt',np.c_[0,gmodu],header='Strain\\tModulus')\n",
    "\n",
    "#--- plot\n",
    "fig = plt.figure( figsize=(4,4))\n",
    "ax = fig.add_subplot(111)\n",
    "ax.set_ylabel(r'$\\sigma$(Gpa)',fontsize=16)\n",
    "ax.set_xlabel(r'$\\gamma$',fontsize=16)\n",
    "ax.tick_params(labelsize=16)\n",
    "#\n",
    "ax.plot( x, y,'o')\n",
    "ax.plot(x, y_pred,'-.r')\n",
    "if AssignYieldTime:\n",
    "    ax.plot([ey,ey], [ax.axis()[2],sy],'-.r')\n",
    "elif AssignMaxDropTime:\n",
    "    ax.plot([em,em], [ax.axis()[2],sm],'-.r')\n",
    "elif AssignFlowTime:\n",
    "    ax.plot([ef,ef], [ax.axis()[2],sf],'-.r')\n",
    "plt.savefig('fit.png',dpi=75,bbox_inches='tight')\n",
    "plt.show()\n"
   ]
  },
  {
   "cell_type": "code",
   "execution_count": 13,
   "metadata": {
    "scrolled": false
   },
   "outputs": [
    {
     "name": "stdout",
     "output_type": "stream",
     "text": [
      "itime(peak)=1000000\n"
     ]
    }
   ],
   "source": [
    "times = lmpData.coord_atoms_broken.keys()\n",
    "times = np.array(sorted(times))\n",
    "if AssignYieldTime:\n",
    "    itime = times[strainDump>=ey][0]\n",
    "    print('itime(peak)=%s'%itime)    \n",
    "elif AssignMaxDropTime:\n",
    "    itime = times[strainDump>=em][0]\n",
    "    print('itime(max. drop)=%s'%itime)\n",
    "elif AssignFlowTime:\n",
    "    itime = times[strainDump>=ef][0]\n",
    "    print('itime(flow)=%s'%itime)"
   ]
  },
  {
   "cell_type": "markdown",
   "metadata": {},
   "source": [
    "### test error vs. complexity"
   ]
  },
  {
   "cell_type": "code",
   "execution_count": 26,
   "metadata": {},
   "outputs": [],
   "source": [
    "try:\n",
    "    keys=mse.keys()\n",
    "    plt.scatter(keys, [-mse[key] for key in keys],marker='x')\n",
    "    plt.yscale('log')\n",
    "    plt.xscale('log')\n",
    "    plt.ylim(1e-5,1e-2)\n",
    "    plt.savefig('cv.png',dpi=75,bbox_inches='tight')\n",
    "    plt.show()\n",
    "except:\n",
    "    pass"
   ]
  },
  {
   "cell_type": "markdown",
   "metadata": {},
   "source": [
    "## mismatch parameter "
   ]
  },
  {
   "cell_type": "code",
   "execution_count": 29,
   "metadata": {},
   "outputs": [],
   "source": [
    "def GetMismatch(lmpData,itime,AtomicRadius):\n",
    "    atoms = lp.Atoms( **lmpData.coord_atoms_broken[itime].to_dict(orient='list') )\n",
    "    df = pd.DataFrame(atoms.__dict__)\n",
    "    #size = list(map(LatticeConstant.get,list(map(int,df['type'].tolist()))))\n",
    "    size = list(map(AtomicRadius.get,list(map(int,df['type'].tolist()))))\n",
    "    assert len(size) == len(df)\n",
    "    df = pd.DataFrame(np.c_[df,size],columns=list(df.keys())+['size'])\n",
    "\n",
    "    return df['size'].std()/df['size'].mean()\n",
    "\n",
    "delta = GetMismatch(lmpData,itime,AtomicRadius)\n",
    "delta_g = GetMismatch(lmpData,itime,Gmodu)\n",
    "       \n",
    "       \n",
    "np.savetxt('YieldDelta.txt',np.c_[delta,sy],header='AtomMismatch\\tYieldStress')\n",
    "np.savetxt('ModuMismatch.txt',[delta_g],header='ModuMismatch')\n",
    "\n"
   ]
  },
  {
   "cell_type": "markdown",
   "metadata": {},
   "source": [
    "### multiple frames"
   ]
  },
  {
   "cell_type": "code",
   "execution_count": 563,
   "metadata": {},
   "outputs": [
    {
     "data": {
      "image/png": "[encoded data removed]",
      "text/plain": [
       "<Figure size 288x288 with 1 Axes>"
      ]
     },
     "metadata": {
      "needs_background": "light"
     },
     "output_type": "display_data"
    }
   ],
   "source": [
    "if not RemoteMachine:\n",
    "    matplotlib.rcParams['text.usetex'] = True #--- comment tex stuff!\n",
    "    #\n",
    "    Xdata = []\n",
    "    Ydata = []\n",
    "    #\n",
    "    colors = ['black','red','green','blue','cyan','brown','grey','magenta','orange','yellow']\n",
    "    fillstyles=['white',None,'white',None,'white',None,'white',None,'white',None,'white',None,'white',None,'white',None]\n",
    "    markers=['o','s','D','^','<','>','v']\n",
    "    #\n",
    "    fig = plt.figure( figsize = (4,4))\n",
    "    ax = fig.add_subplot(111)\n",
    "#     ax.set_xlabel('$\\delta$',fontsize=20)\n",
    "#     ax.set_ylabel('$\\sigma_y$(Gpa)',fontsize=20)\n",
    "    ax.xaxis.set_minor_locator(AutoMinorLocator(2))\n",
    "    ax.yaxis.set_minor_locator(AutoMinorLocator(2))\n",
    "    ax.tick_params(labelsize=20,which='both',axis='both', top=True, right=True)\n",
    "    #ax.set_title()\n",
    "    #\n",
    "    for GlassType, marker, color, fillstyle in list(zip( [ \n",
    "                                         'FeNi',\n",
    "                                          'CoNiFe',\n",
    "                                           'CoNiCrFe',\n",
    "                                            'CoCrFeMn',\n",
    "                                            'CoNiCrFeMn',\n",
    "                                            'Co5Cr5Fe40Mn27Ni26'\n",
    "                                        ],markers, colors, fillstyles )):\n",
    "\n",
    "        sarr  = MultipleFrames2nd(path='YieldStrs%s'%GlassType,nrun=3,title='YieldDelta.txt',ncols=2)\n",
    "        #--- fliter\n",
    "        xdata = sarr[:,0]\n",
    "        ydata = sarr[:,1]\n",
    "        Xdata += list(xdata[~np.isnan(xdata)])\n",
    "        Ydata += list(ydata[~np.isnan(ydata)])\n",
    "        #\n",
    "        ax.plot(xdata,ydata,'.',\n",
    "                markersize=10,\n",
    "                color=color,\n",
    "                marker=marker,\n",
    "                markerfacecolor=fillstyle,\n",
    "                markeredgecolor='black' if not fillstyle else None,\n",
    "                label = '%s'%GlassType)\n",
    "\n",
    "    #\n",
    "#    ax.legend(frameon=False, fontsize=16)\n",
    "    #\n",
    "    DrawFrame(ax, 0.2,0.09,0.15,0.06,0.04)\n",
    "    #\n",
    "    plt.savefig('YieldDelta.png',dpi=2*75,bbox_inches='tight',pad_inches=0.0)\n",
    "    np.savetxt('YieldDelta.txt',np.c_[Xdata,Ydata],header='Mismatch\\tYieldStrs')\n",
    "    plt.show()"
   ]
  },
  {
   "cell_type": "markdown",
   "metadata": {},
   "source": [
    "## Avalanche Size"
   ]
  },
  {
   "cell_type": "code",
   "execution_count": 70,
   "metadata": {
    "scrolled": true
   },
   "outputs": [
    {
     "data": {
      "text/plain": [
       "<matplotlib.collections.PathCollection at 0x134655f10>"
      ]
     },
     "execution_count": 70,
     "metadata": {},
     "output_type": "execute_result"
    },
    {
     "data": {
      "image/png": "[encoded data removed]",
      "text/plain": [
       "<Figure size 1152x288 with 2 Axes>"
      ]
     },
     "metadata": {
      "needs_background": "light"
     },
     "output_type": "display_data"
    }
   ],
   "source": [
    "if ReadStrsFromDump:\n",
    "    strain = strainDump\n",
    "df = AvalancheSize(strain, y_pred) #\n",
    "esmax,dsmax=df.sort_values(by='ds',ascending=False).iloc[0][['t_end','ds']]\n",
    "np.savetxt('StrsDrop.txt',np.c_[esmax,dsmax],header='StressDrop')\n",
    "\n",
    "# #--- plot\n",
    "fig = plt.figure(figsize=(16,4))\n",
    "ax = fig.add_subplot(211)\n",
    "ax.set_xlim(strain.min(),strain.max())\n",
    "ax.tick_params(axis='x',labelsize=0)\n",
    "ax.set_ylabel('F(N)')\n",
    "#\n",
    "ax.plot(strain, y_pred,'-')\n",
    "#\n",
    "ax = fig.add_subplot(212)\n",
    "ax.set_ylabel('ds')\n",
    "ax.set_xlabel('Time(s)')\n",
    "ax.set_yscale('log')\n",
    "ax.set_xlim(strain.min(),strain.max())\n",
    "#\n",
    "ax.scatter(df['t_end'],df['ds'])\n",
    "#\n",
    "plt.show()"
   ]
  },
  {
   "cell_type": "markdown",
   "metadata": {},
   "source": [
    "### Correlations with band width"
   ]
  },
  {
   "cell_type": "code",
   "execution_count": 31,
   "metadata": {
    "scrolled": false
   },
   "outputs": [
    {
     "data": {
      "image/png": "[encoded data removed]",
      "text/plain": [
       "<Figure size 400x400 with 1 Axes>"
      ]
     },
     "metadata": {},
     "output_type": "display_data"
    }
   ],
   "source": [
    "if not RemoteMachine:\n",
    "    matplotlib.rcParams['text.usetex'] = True #--- comment tex stuff!\n",
    "    #\n",
    "    colors = ['black','red','green','blue','cyan','brown','grey','magenta','orange','yellow']\n",
    "    fillstyles=['white',None,'white',None,'white',None,'white',None,'white',None,'white',None,'white',None,'white',None]\n",
    "    markers=['o','s','D','^','<','>','v']\n",
    "    #\n",
    "    fig = plt.figure( figsize = (4,4))\n",
    "    ax = fig.add_subplot(111)\n",
    "    # ax.set_xlabel('$w(A^o)$',fontsize=20)\n",
    "    # ax.set_ylabel('$\\Delta\\sigma$(Gpa)',fontsize=20)\n",
    "    ax.xaxis.set_minor_locator(AutoMinorLocator(2))\n",
    "    ax.yaxis.set_minor_locator(AutoMinorLocator(2))\n",
    "    ax.tick_params(labelsize=20,which='both',axis='both', top=True, right=True)\n",
    "    #\n",
    "    for GlassType, marker, color, fillstyle in list(zip( [ \n",
    "                                         'FeNi',\n",
    "                                         'CoNiFe',\n",
    "                                         'CoNiCrFe',\n",
    "                                         'CoCrFeMn',\n",
    "                                         'CoNiCrFeMn',\n",
    "                                         'Co5Cr5Fe40Mn27Ni26'\n",
    "                                        ],markers, colors, fillstyles)):\n",
    "\n",
    "        sarr_StrsDrop  = MultipleFrames2nd(path='StrsDrop%s'%GlassType,nrun=3,title='StrsDrop.txt',ncols=2)\n",
    "        sarr_BandWidth = MultipleFrames2nd(path='StrsDrop%s'%GlassType,nrun=3,title='rc_d2min.txt',ncols=3)\n",
    "        assert sarr_StrsDrop.shape[0] == sarr_BandWidth.shape[0]\n",
    "        #--- fliter\n",
    "        ydata = sarr_StrsDrop[:,1] #--- first 2nd col is stress drop\n",
    "        xdata = sarr_BandWidth[:,1:3] #--- 2nd and 3rd cols are widths\n",
    "        indices = np.any(~np.isnan(xdata),axis=1)\n",
    "        xdata = xdata[~np.isnan(xdata)]\n",
    "        ydata = ydata[indices]\n",
    "        assert xdata.shape == ydata.shape\n",
    "        #\n",
    "        ax.plot(xdata,ydata,'.',\n",
    "                markersize=10,\n",
    "                color=color,\n",
    "                marker=marker,\n",
    "                markerfacecolor=fillstyle,\n",
    "                label = '%s'%GlassType)\n",
    "\n",
    "    #\n",
    "    #ax.legend(frameon=False, fontsize=16)\n",
    "    #\n",
    "    DrawFrame(ax, 0.2,0.09,0.15,0.06,0.04)\n",
    "    #\n",
    "    plt.savefig('StrsDropAndWidth.png',dpi=2*75,bbox_inches='tight',pad_inches=0.0)\n",
    "    plt.show()"
   ]
  },
  {
   "cell_type": "markdown",
   "metadata": {},
   "source": [
    "### (negative) modulus and band width"
   ]
  },
  {
   "cell_type": "code",
   "execution_count": 32,
   "metadata": {
    "scrolled": false
   },
   "outputs": [
    {
     "data": {
      "image/png": "[encoded data removed]",
      "text/plain": [
       "<Figure size 400x400 with 1 Axes>"
      ]
     },
     "metadata": {},
     "output_type": "display_data"
    }
   ],
   "source": [
    "if not RemoteMachine:\n",
    "    matplotlib.rcParams['text.usetex'] = True #--- comment tex stuff!\n",
    "#\n",
    "    colors = ['black','red','green','blue','cyan','brown','grey','magenta','orange','yellow']\n",
    "    fillstyles=['white',None,'white',None,'white',None,'white',None,'white',None,'white',None,'white',None,'white',None]\n",
    "    markers=['o','s','D','^','<','>','v']\n",
    "    #\n",
    "    fig = plt.figure( figsize = (4,4))\n",
    "    ax = fig.add_subplot(111)\n",
    "    # ax.set_xlabel('$w(A^o)$',fontsize=20)\n",
    "    # ax.set_ylabel('$H$(Gpa)',fontsize=20)\n",
    "    ax.xaxis.set_minor_locator(AutoMinorLocator(2))\n",
    "    ax.yaxis.set_minor_locator(AutoMinorLocator(2))\n",
    "    ax.tick_params(labelsize=20,which='both',axis='both', top=True, right=True)\n",
    "    #\n",
    "    Xdata = []\n",
    "    Ydata = []\n",
    "    for GlassType, marker, color, fillstyle in list(zip( [ \n",
    "                                        'FeNi',\n",
    "                                         'CoNiFe',\n",
    "                                          'CoNiCrFe',\n",
    "                                          'CoCrFeMn',\n",
    "                                           'CoNiCrFeMn',\n",
    "                                           'Co5Cr5Fe40Mn27Ni26'\n",
    "                                        ],markers, colors, fillstyles)):\n",
    "\n",
    "        sarr_StrsDrop  = MultipleFrames2nd(path='StrsDrop%s'%GlassType,nrun=3,title='NegativeModulus.txt',ncols=2)\n",
    "        sarr_BandWidth = MultipleFrames2nd(path='StrsDrop%s'%GlassType,nrun=3,title='rc_d2min.txt',ncols=3)\n",
    "        assert sarr_StrsDrop.shape[0] == sarr_BandWidth.shape[0]\n",
    "        #--- fliter\n",
    "        ydata = sarr_StrsDrop[:,1] #--- first 2nd col is stress drop\n",
    "        xdata = sarr_BandWidth[:,1:3] #--- 2nd and 3rd cols are widths\n",
    "    #    print(xdata,ydata)\n",
    "        indices = np.any(~np.isnan(xdata),axis=1)\n",
    "        xdata = xdata[~np.isnan(xdata)]\n",
    "        ydata = ydata[indices]\n",
    "        assert xdata.shape == ydata.shape\n",
    "    #    print(xdata,ydata)\n",
    "        Xdata += xdata.tolist()\n",
    "        Ydata += ydata.tolist()\n",
    "        #\n",
    "        ax.plot(xdata,ydata,'.',\n",
    "                markersize=10,\n",
    "                color=color,\n",
    "                marker=marker,\n",
    "                markerfacecolor=fillstyle,\n",
    "                label = '%s'%GlassType)\n",
    "        #\n",
    "    #ax.legend(frameon=False, fontsize=16)\n",
    "    #\n",
    "    DrawFrame(ax, 0.2,0.09,0.15,0.06,0.04)\n",
    "    #\n",
    "    plt.savefig('SoftModuAndWidth.png',dpi=2*75,bbox_inches='tight',pad_inches=0.0)\n",
    "    plt.show()"
   ]
  },
  {
   "cell_type": "markdown",
   "metadata": {},
   "source": [
    "### correlation coefficient"
   ]
  },
  {
   "cell_type": "code",
   "execution_count": 259,
   "metadata": {},
   "outputs": [
    {
     "name": "stdout",
     "output_type": "stream",
     "text": [
      "-0.2746329261967721\n"
     ]
    },
    {
     "data": {
      "image/png": "[encoded data removed]",
      "text/plain": [
       "<Figure size 288x288 with 1 Axes>"
      ]
     },
     "metadata": {
      "needs_background": "light"
     },
     "output_type": "display_data"
    }
   ],
   "source": [
    "def zscore(x):\n",
    "    y = np.copy(x)\n",
    "    y-=np.mean(y)\n",
    "    y/=np.std(y)\n",
    "    return y\n",
    "\n",
    "if not RemoteMachine:\n",
    "    fig = plt.figure(figsize=(4,4))\n",
    "    ax = fig.add_subplot(111)\n",
    "    ax.set_xlim(-2,2)\n",
    "    ax.set_ylim(-2,2)\n",
    "    ax.set_xlabel('$w(A^o)$',fontsize=16)\n",
    "    ax.set_ylabel('$H$(Gpa)',fontsize=16)\n",
    "    ax.tick_params(labelsize=16)\n",
    "    x = zscore(Xdata)\n",
    "    y = zscore(Ydata)\n",
    "    ax.scatter(x,y,\n",
    "                   marker='x',s=50,\n",
    "    #               label=GlassType\n",
    "              )\n",
    "\n",
    "    print(np.sum(x*y)/len(x))"
   ]
  },
  {
   "cell_type": "markdown",
   "metadata": {},
   "source": [
    "# Compute Displacements\n"
   ]
  },
  {
   "cell_type": "code",
   "execution_count": 82,
   "metadata": {
    "scrolled": false
   },
   "outputs": [
    {
     "name": "stdout",
     "output_type": "stream",
     "text": [
      "warning: attributes x, y, z are now unwrapped!\n"
     ]
    },
    {
     "data": {
      "text/html": [
       "<div>\n",
       "<style scoped>\n",
       "    .dataframe tbody tr th:only-of-type {\n",
       "        vertical-align: middle;\n",
       "    }\n",
       "\n",
       "    .dataframe tbody tr th {\n",
       "        vertical-align: top;\n",
       "    }\n",
       "\n",
       "    .dataframe thead th {\n",
       "        text-align: right;\n",
       "    }\n",
       "</style>\n",
       "<table border=\"1\" class=\"dataframe\">\n",
       "  <thead>\n",
       "    <tr style=\"text-align: right;\">\n",
       "      <th></th>\n",
       "      <th>x</th>\n",
       "      <th>y</th>\n",
       "      <th>z</th>\n",
       "      <th>id</th>\n",
       "      <th>type</th>\n",
       "      <th>xm</th>\n",
       "      <th>ym</th>\n",
       "      <th>zm</th>\n",
       "      <th>dx</th>\n",
       "      <th>dy</th>\n",
       "      <th>dz</th>\n",
       "    </tr>\n",
       "  </thead>\n",
       "  <tbody>\n",
       "    <tr>\n",
       "      <th>0</th>\n",
       "      <td>33.534500</td>\n",
       "      <td>37.271801</td>\n",
       "      <td>18.188900</td>\n",
       "      <td>1.0</td>\n",
       "      <td>2.0</td>\n",
       "      <td>33.534500</td>\n",
       "      <td>37.271801</td>\n",
       "      <td>18.188900</td>\n",
       "      <td>6.738201</td>\n",
       "      <td>0.014198</td>\n",
       "      <td>0.025101</td>\n",
       "    </tr>\n",
       "    <tr>\n",
       "      <th>1</th>\n",
       "      <td>-15.899900</td>\n",
       "      <td>10.893400</td>\n",
       "      <td>36.799801</td>\n",
       "      <td>2.0</td>\n",
       "      <td>5.0</td>\n",
       "      <td>-15.899900</td>\n",
       "      <td>10.893400</td>\n",
       "      <td>36.799801</td>\n",
       "      <td>-3.847595</td>\n",
       "      <td>0.512400</td>\n",
       "      <td>-0.498100</td>\n",
       "    </tr>\n",
       "    <tr>\n",
       "      <th>2</th>\n",
       "      <td>13.075800</td>\n",
       "      <td>28.373501</td>\n",
       "      <td>4.479280</td>\n",
       "      <td>3.0</td>\n",
       "      <td>2.0</td>\n",
       "      <td>13.075800</td>\n",
       "      <td>28.373501</td>\n",
       "      <td>4.479280</td>\n",
       "      <td>4.968500</td>\n",
       "      <td>-0.585201</td>\n",
       "      <td>-0.179060</td>\n",
       "    </tr>\n",
       "    <tr>\n",
       "      <th>3</th>\n",
       "      <td>45.522099</td>\n",
       "      <td>42.531200</td>\n",
       "      <td>25.076599</td>\n",
       "      <td>4.0</td>\n",
       "      <td>2.0</td>\n",
       "      <td>45.522099</td>\n",
       "      <td>42.531200</td>\n",
       "      <td>25.076599</td>\n",
       "      <td>7.288101</td>\n",
       "      <td>0.431900</td>\n",
       "      <td>-0.179100</td>\n",
       "    </tr>\n",
       "    <tr>\n",
       "      <th>4</th>\n",
       "      <td>43.946602</td>\n",
       "      <td>-11.236500</td>\n",
       "      <td>5.405590</td>\n",
       "      <td>5.0</td>\n",
       "      <td>5.0</td>\n",
       "      <td>43.946602</td>\n",
       "      <td>-11.236500</td>\n",
       "      <td>5.405590</td>\n",
       "      <td>-8.357804</td>\n",
       "      <td>0.711100</td>\n",
       "      <td>0.031020</td>\n",
       "    </tr>\n",
       "  </tbody>\n",
       "</table>\n",
       "</div>"
      ],
      "text/plain": [
       "           x          y          z   id  type         xm         ym  \\\n",
       "0  33.534500  37.271801  18.188900  1.0   2.0  33.534500  37.271801   \n",
       "1 -15.899900  10.893400  36.799801  2.0   5.0 -15.899900  10.893400   \n",
       "2  13.075800  28.373501   4.479280  3.0   2.0  13.075800  28.373501   \n",
       "3  45.522099  42.531200  25.076599  4.0   2.0  45.522099  42.531200   \n",
       "4  43.946602 -11.236500   5.405590  5.0   5.0  43.946602 -11.236500   \n",
       "\n",
       "          zm        dx        dy        dz  \n",
       "0  18.188900  6.738201  0.014198  0.025101  \n",
       "1  36.799801 -3.847595  0.512400 -0.498100  \n",
       "2   4.479280  4.968500 -0.585201 -0.179060  \n",
       "3  25.076599  7.288101  0.431900 -0.179100  \n",
       "4   5.405590 -8.357804  0.711100  0.031020  "
      ]
     },
     "execution_count": 82,
     "metadata": {},
     "output_type": "execute_result"
    }
   ],
   "source": [
    "#--- extract atom and box properties\n",
    "atoms = lp.Atoms( **lmpData.coord_atoms_broken[itime].to_dict(orient='list') )\n",
    "#\n",
    "box = lp.Box( BoxBounds = lmpData.BoxBounds[itime] )\n",
    "box.BasisVectors( AddMissing = np.array([0.0,0.0,0.0] ))\n",
    "  \n",
    "#--- wrap coordinates\n",
    "wrap = lp.Wrap( atoms, box )\n",
    "wrap.WrapCoord()\n",
    "wrap.Set( atoms ) #--- atoms: set wrapped xyz     \n",
    "\n",
    "#--- print actual xyz\n",
    "# PrintOvito( pd.DataFrame(atoms.__dict__), \n",
    "#              open( 'xyz_actual.xyz','w'), \n",
    "#              footer = 'ITIME=%s'%itime,\n",
    "#              attr_list=['id','type','x','y','z'])\n",
    "\n",
    "#--- map to square box\n",
    "mapp = lp.Map( atoms, box ) \n",
    "mapp.ChangeBasis()\n",
    "mapp.Set( atoms ) #--- atoms: add mapped xyz\n",
    "\n",
    "#--- print mapped xyz\n",
    "# PrintOvito( pd.DataFrame(atoms.__dict__), \n",
    "#             open( 'xyz_mapped.xyz','w'), \n",
    "#             footer = 'ITIME=%s'%itime,\n",
    "#             attr_list=['id','type','xm','ym','zm'] )\n",
    "\n",
    "#--- include copies\n",
    "copy = lp.Copy( atoms, box )\n",
    "copy.FullCopies()\n",
    "xatoms = copy.Get()\n",
    "\n",
    "#--- print mapped xyz\n",
    "# PrintOvito( pd.DataFrame(xatoms.__dict__), \n",
    "#             open( 'xyz_full.xyz','w'), \n",
    "#             footer = 'ITIME=%s'%itime,\n",
    "#             attr_list=['id','type','xm','ym','zm'] )\n",
    "\n",
    "#--- compute displacements\n",
    "#--- need attributes for the reference state\n",
    "atoms0 = lp.Atoms( **lmpData.coord_atoms_broken[0].to_dict(orient='list') )\n",
    "box0 = lp.Box( BoxBounds = lmpData.BoxBounds[0] )\n",
    "box0.BasisVectors( AddMissing = np.array([0.0,0.0,0.0] ))\n",
    "wrap = lp.Wrap( atoms0, box0 )\n",
    "wrap.WrapCoord()\n",
    "wrap.Set( atoms0 ) #--- atoms: set wrapped xyz    \n",
    "mapp = lp.Map( atoms0, box0 ) \n",
    "mapp.ChangeBasis()\n",
    "mapp.Set( atoms0 ) #--- atoms: add mapped xyz\n",
    "copy = lp.Copy( atoms0, box0 )\n",
    "copy.FullCopies()\n",
    "xatoms0 = copy.Get()\n",
    "#\n",
    "cdisp = lp.ComputeDisp( xatoms, box, xatoms0, box0 ) #--- pass full copies!\n",
    "cdisp.SetWrapped() \n",
    "uatoms = cdisp.Get(attrs = ['id','type','x','y','z','xm','ym','zm','dx','dy','dz'] ) #--- all atom-wise props\n",
    "#\n",
    "pd.DataFrame(uatoms.__dict__).head()"
   ]
  },
  {
   "cell_type": "code",
   "execution_count": 74,
   "metadata": {},
   "outputs": [],
   "source": [
    "# #--- shuffled displacements\n",
    "if ShuffleDisp:\n",
    "    xrand = np.c_[uatoms.dx,uatoms.dy,uatoms.dz]\n",
    "    np.random.shuffle(xrand)\n",
    "    junk = np.c_[uatoms.id, uatoms.type, uatoms.x, uatoms.xm, uatoms.y, uatoms.ym, uatoms.z,\n",
    "           uatoms.zm]\n",
    "    cols = [u'id', u'type', u'x', u'xm', u'y', u'ym', u'z',u'zm']\n",
    "    #np.c_[junk,xrand]\n",
    "    uatoms = lp.Atoms(**pd.DataFrame(np.c_[junk,xrand],columns=cols+['dx','dy','dz']).to_dict(orient='list'))"
   ]
  },
  {
   "cell_type": "markdown",
   "metadata": {},
   "source": [
    "## Print"
   ]
  },
  {
   "cell_type": "code",
   "execution_count": 75,
   "metadata": {},
   "outputs": [],
   "source": [
    "#--- get a chunk\n",
    "# cptmp = lp.Copy(atoms0, box0) #--- important: must be reference frame!!\n",
    "# indices = cptmp.isInsideExpanded( np.c_[xatoms0.xm,xatoms0.ym,xatoms0.zm], \n",
    "#                                   epsilon = 0.0, mode = 'isotropic' )\n",
    "\n",
    "\n",
    "# PrintOvito( pd.DataFrame(uatoms.__dict__)[indices], \n",
    "#             open( 'xyz_expanded.xyz','w'), \n",
    "#             footer = 'ITIME=%s'%itime,\n",
    "#             attr_list=['id','type','x','y','z','dx','dy','dz'] )"
   ]
  },
  {
   "cell_type": "markdown",
   "metadata": {},
   "source": [
    "# Compute pair correlation function"
   ]
  },
  {
   "cell_type": "code",
   "execution_count": 210,
   "metadata": {},
   "outputs": [
    {
     "data": {
      "image/png": "[encoded data removed]",
      "text/plain": [
       "<Figure size 432x288 with 1 Axes>"
      ]
     },
     "metadata": {
      "needs_background": "light"
     },
     "output_type": "display_data"
    }
   ],
   "source": [
    "if PairCorrelationFunction:\n",
    "    rdf = lp.ComputeRdf(  atoms, box, \n",
    "                       cutoff = cutoff, NMAX = NMAX)\n",
    "\n",
    "    rdf.Distance(WRAP = True)\n",
    "    rdf.PairCrltn( nbins = 32 )\n",
    "    bin_edges, hist, err = rdf.Get()\n",
    "\n",
    "    #--- plot\n",
    "    plt.errorbar(bin_edges,hist,yerr=err,fmt='-o')\n",
    "    \n",
    "    #---\n",
    "    np.savetxt('gr.txt',np.c_[bin_edges,hist,err],header='r\\tg(r)\\terr', fmt='%s')\n",
    "    plt.show()"
   ]
  },
  {
   "cell_type": "markdown",
   "metadata": {},
   "source": [
    "## ovito output"
   ]
  },
  {
   "cell_type": "code",
   "execution_count": 121,
   "metadata": {},
   "outputs": [],
   "source": [
    "sfile = open('../testRuns/glassFeNi/Run0/FeNi_gr.xyz') #--- run testRuns2nd.py\n",
    "gr={}\n",
    "try:\n",
    "    while True:\n",
    "        sfile.readline()\n",
    "        iitime=int(sfile.readline().split()[0])\n",
    "#        print(iitime)\n",
    "        sfile.readline()\n",
    "        nrow=int(sfile.readline().split()[0])\n",
    "        sfile.readline()\n",
    "        gr[iitime] = np.array([list(map(float,sfile.readline().split())) for i in range(nrow)])\n",
    "except:\n",
    "#    traceback.print_exc()\n",
    "    pass\n"
   ]
  },
  {
   "cell_type": "markdown",
   "metadata": {},
   "source": [
    "### Plot"
   ]
  },
  {
   "cell_type": "code",
   "execution_count": 142,
   "metadata": {},
   "outputs": [
    {
     "name": "stdout",
     "output_type": "stream",
     "text": [
      "0\n",
      "2000000\n"
     ]
    },
    {
     "data": {
      "image/png": "[encoded data removed]",
      "text/plain": [
       "<Figure size 288x288 with 1 Axes>"
      ]
     },
     "metadata": {
      "needs_background": "light"
     },
     "output_type": "display_data"
    }
   ],
   "source": [
    "if not RemoteMachine:\n",
    "    matplotlib.rcParams['text.usetex'] = True #--- comment tex stuff!\n",
    "    #\n",
    "    nfreq = 1\n",
    "    #\n",
    "    colors = ['black','red','green','blue','cyan','brown','grey','magenta','orange','yellow']\n",
    "    fillstyles=['white',None,'white',None,'white',None,'white',None,'white',None,'white',None,'white',None,'white',None]\n",
    "    markers=['o','s','D','^','<','>','v']\n",
    "    #\n",
    "    fig = plt.figure( figsize = (4,4))\n",
    "    ax = fig.add_subplot(111)\n",
    "    #\n",
    "    ax.set_xlim(2,3)\n",
    "    \n",
    "#    ax.set_yscale('log')\n",
    "    #\n",
    "#    ax.set_xlabel(r'$\\gamma$',fontsize=20)\n",
    "#    ax.set_ylabel(r'$\\sigma/\\mu$',fontsize=20)\n",
    "    #\n",
    "    ax.xaxis.set_minor_locator(AutoMinorLocator(2))\n",
    "    ax.yaxis.set_minor_locator(AutoMinorLocator(2))\n",
    "    #\n",
    "    ax.tick_params(labelsize=20,which='both',axis='both', top=True, right=True)\n",
    "    #ax.set_title()\n",
    "    #\n",
    "    for strain, marker, color, fillstyle, indx in list(zip( [ \n",
    "#                                        'Other',\n",
    "                                        '0.0','0.2'\n",
    "                                        ],markers, colors, fillstyles, range(10) )):\n",
    "        #--- time step\n",
    "        iitime = int(float(strain)*2000000/0.2)\n",
    "        print(iitime)\n",
    "        #--- fliter\n",
    "        data  = gr[iitime]\n",
    "        ydata = data[0::nfreq,1] #--- first 2nd col is stress drop\n",
    "        xdata = data[0::nfreq,0] #--- 2nd and 3rd cols are widths\n",
    "    #\n",
    "        ax.plot(xdata,ydata,'-',color=color)#, label = GlassType)\n",
    "        ax.plot(xdata[-1],ydata[-1],\n",
    "                markersize=10,\n",
    "                color=color,\n",
    "                marker=marker,\n",
    "                markerfacecolor=fillstyle,\n",
    "                label = '%s'%strain)\n",
    "\n",
    "    #\n",
    "    ax.legend(frameon=False, fontsize=12)\n",
    "    #\n",
    "    DrawFrame(ax, 0.2,0.09,0.15,0.06,0.04)\n",
    "    #\n",
    "    plt.savefig('CrysFrac.png',dpi=2*75,bbox_inches='tight',pad_inches=0.0)\n",
    "    plt.show()"
   ]
  },
  {
   "cell_type": "markdown",
   "metadata": {},
   "source": [
    "### plot gr good vs bad"
   ]
  },
  {
   "cell_type": "code",
   "execution_count": 443,
   "metadata": {},
   "outputs": [
    {
     "data": {
      "image/png": "[encoded data removed]",
      "text/plain": [
       "<Figure size 288x288 with 1 Axes>"
      ]
     },
     "metadata": {
      "needs_background": "light"
     },
     "output_type": "display_data"
    }
   ],
   "source": [
    "if not RemoteMachine:\n",
    "    matplotlib.rcParams['text.usetex'] = True #--- comment tex stuff!\n",
    "    #\n",
    "    nfreq = 1\n",
    "    #\n",
    "    colors = ['black','red','green','blue','cyan','brown','grey','magenta','orange','yellow']\n",
    "    fillstyles=['white',None,'white',None,'white',None,'white',None,'white',None,'white',None,'white',None,'white',None]\n",
    "    markers=['o','s','D','^','<','>','v']\n",
    "    #\n",
    "    fig = plt.figure( figsize = (4,4))\n",
    "    ax = fig.add_subplot(111)\n",
    "    #\n",
    "    ax.set_ylim(1e-2,1e2)\n",
    "    #\n",
    "    ax.set_yscale('log')\n",
    "    #\n",
    "#    ax.set_xlabel(r'$\\gamma$',fontsize=20)\n",
    "#    ax.set_ylabel(r'$\\sigma/\\mu$',fontsize=20)\n",
    "    #\n",
    "    ax.xaxis.set_minor_locator(AutoMinorLocator(2))\n",
    "    ax.yaxis.set_minor_locator(AutoMinorLocator(2))\n",
    "    #--- add major yticks\n",
    "    ymin=np.ceil(np.log10(ax.axis()[2]))\n",
    "    ymax=np.floor(np.log10(ax.axis()[3]))\n",
    "    nbin = ymax - ymin\n",
    "    ax.set_yticks(np.logspace(ymin,ymax,int(nbin)+1))\n",
    "    #\n",
    "    #--- put minor bins y\n",
    "    locmin = matplotlib.ticker.LogLocator(base=10.0,subs=(0.1,0.2,0.3,0.4,0.5,0.6,0.7,0.8,0.9,1),numticks=12)\n",
    "    ax.yaxis.set_minor_locator(locmin)\n",
    "    ax.yaxis.set_minor_formatter(matplotlib.ticker.NullFormatter())\n",
    "    #\n",
    "    ax.tick_params(labelsize=20,which='both',axis='both', top=True, right=True)\n",
    "    #ax.set_title()\n",
    "    #\n",
    "    ydata = {}\n",
    "    xdata = {}\n",
    "    for GlassType, marker, color, fillstyle, indx in list(zip( [ \n",
    "#                                        'Out','In','Diff'\n",
    "#                                        '5','95','QuantDiff'\n",
    "                                         'Good','Bad','Diff'\n",
    "                                        ],markers, colors, fillstyles, range(10) )):\n",
    "        #--- time step\n",
    "        sarr  = np.loadtxt('/Users/Home/Desktop/Tmp/txt/gr%s95.txt'%GlassType)\n",
    "        #--- fliter\n",
    "        ydata[ indx ] = sarr[:,2] #--- first 2nd col is stress drop\n",
    "        xdata[ indx ] = sarr[:,1] #--- 2nd and 3rd cols are widths\n",
    "    #\n",
    "        ax.plot(xdata[ indx ],ydata[ indx ],\n",
    "                markersize=10,\n",
    "                color=color,\n",
    "                marker=marker,\n",
    "                markerfacecolor=fillstyle,\n",
    "                markeredgecolor='black' if not fillstyle else None,\n",
    "                markevery=int(len(xdata[ indx ])/10),\n",
    "                label = '%s'%GlassType)\n",
    "    #\n",
    "    ax.legend(frameon=False, fontsize=12)\n",
    "    #\n",
    "    DrawFrame(ax, 0.2,0.09,0.15,0.06,0.04,LOG_Y=True)\n",
    "    #\n",
    "    plt.savefig('grBadQuant.png',dpi=2*75,bbox_inches='tight',pad_inches=0.0)\n",
    "    plt.show()"
   ]
  },
  {
   "cell_type": "code",
   "execution_count": 442,
   "metadata": {},
   "outputs": [],
   "source": [
    "np.savetxt('/Users/Home/Desktop/Tmp/txt/grDiff95.txt',np.c_[xdata[0],xdata[0],ydata[0]-ydata[1]])"
   ]
  },
  {
   "cell_type": "markdown",
   "metadata": {},
   "source": [
    "# D2min"
   ]
  },
  {
   "cell_type": "markdown",
   "metadata": {},
   "source": [
    "## partition the space, make fits, and compute squared errors "
   ]
  },
  {
   "cell_type": "code",
   "execution_count": 80,
   "metadata": {
    "scrolled": false
   },
   "outputs": [],
   "source": [
    "if DminAnalysis and not Ovitos:\n",
    "    #--- Create \"Atoms\" object with dx,x attributes and\n",
    "    #--- atoms within the original box\n",
    "    cptmp = lp.Copy(atoms0, box0) #--- important: must be reference frame!!\n",
    "    indices = cptmp.isInsideExpanded( np.c_[xatoms0.xm,xatoms0.ym,xatoms0.zm], \n",
    "                                      epsilon = 0.0, mode = 'isotropic' )\n",
    "    #--- filter the full copy\n",
    "    atomd = lp.Atoms(**pd.DataFrame(uatoms.__dict__)[indices].to_dict(orient='list'))\n",
    "    #\n",
    "    d2min = lp.ComputeD2min(atomd, box0, dlgr)\n",
    "    d2min.Partition()\n",
    "    d2min.D2min()\n",
    "#    pdb.set_trace()\n",
    "    d2min = d2min.Get(attrs=['id','type','x','y','z','xm','ym','zm','d2min'])\n",
    "    #\n",
    "    pd.DataFrame(d2min.__dict__).head()"
   ]
  },
  {
   "cell_type": "markdown",
   "metadata": {},
   "source": [
    "\n",
    "## Run Ovitos"
   ]
  },
  {
   "cell_type": "code",
   "execution_count": 81,
   "metadata": {},
   "outputs": [
    {
     "name": "stdout",
     "output_type": "stream",
     "text": [
      "InputFile= /Users/Home/Desktop/Tmp/txt/CoNiCrFe_glass.dump\n",
      "num_frames= 2\n"
     ]
    }
   ],
   "source": [
    "#--- input: dump file output: d2min.xyz\n",
    "if DminAnalysis and Ovitos:\n",
    "    !ovitos OvitosCna.py $fileName d2min.xyz $nevery 2"
   ]
  },
  {
   "cell_type": "code",
   "execution_count": 82,
   "metadata": {},
   "outputs": [],
   "source": [
    "#fileName='/Users/Home/Desktop/Tmp/txt/Co5Cr5Fe40Mn27Ni26_glass.dump'\n",
    "fileName='/Users/Home/Desktop/Tmp/txt/CoNiCrFe_glass.dump'\n",
    "nevery=1"
   ]
  },
  {
   "cell_type": "code",
   "execution_count": 83,
   "metadata": {},
   "outputs": [],
   "source": [
    "#--- read from d2min.xyz\n",
    "if DminAnalysis and Ovitos:\n",
    "    lmpData = lp.ReadDumpFile( 'd2min.xyz' )\n",
    "    lmpData.GetCords( ncount = sys.maxsize, columns = {'NonaffineSquaredDisplacement':'d2min'} )\n",
    "    lmpDmin = lmpData"
   ]
  },
  {
   "cell_type": "markdown",
   "metadata": {},
   "source": [
    "## PDF"
   ]
  },
  {
   "cell_type": "code",
   "execution_count": 89,
   "metadata": {},
   "outputs": [],
   "source": [
    "def PdfD2min( lmpData, times,     \n",
    "             Plott = True\n",
    "             ):\n",
    "    #--- plot\n",
    "    if Plott:\n",
    "        fig = plt.figure(figsize=(4,4))\n",
    "        ax = fig.add_subplot(111)\n",
    "        #    ax.set_yscale('log')\n",
    "        #ax.set_xscale('log')\n",
    "        # ax.set_ylim(1e-5,10)\n",
    "        # ax.set_xlim(1e-2,1e4)\n",
    "        ax.set_xlabel(r'log$D^2$min($A^2$)',fontsize=16)\n",
    "        ax.set_ylabel(r'PDF',fontsize=16)\n",
    "        ax.tick_params(labelsize=16)\n",
    "        #ax.set_title(r'itime=%s'%itime)\n",
    "\n",
    "    Mean = []\n",
    "    Std = []\n",
    "    Ebulk = []\n",
    "    D2min = {}\n",
    "    for itimee in sorted(times): #[0::nn]:\n",
    "\n",
    "        # strain\n",
    "        ebulk = GetStrain(lmpData, [itimee], 0 )[itimee]\n",
    "#         if ebulk == 0.0:\n",
    "#             continue\n",
    "        Ebulk += [ebulk]    \n",
    "\n",
    "        #--- d2min\n",
    "        d2min = lp.Atoms( **lmpData.coord_atoms_broken[itimee].to_dict(orient='list') )\n",
    "        D2min[ itimee ] = np.array(d2min.d2min)\n",
    "        Std += [ np.std(d2min.d2min) ]\n",
    "        Mean += [ np.mean(d2min.d2min) ]\n",
    "\n",
    "    #--- size distribution\n",
    "        if Plott:\n",
    "            value = d2min.d2min\n",
    "            hist, edges2, error = GetPDF( np.log10(value), linscale = True, n_per_decade=32)\n",
    "\n",
    "        #\n",
    "            ax.errorbar(edges2,hist,error,fmt='-o',\n",
    "                        markersize=8,markeredgewidth=0.7,\n",
    "                            linewidth=.5,\n",
    "                             barsabove=None,capsize=5,capthick=1,elinewidth=1,label='%3.2f'%ebulk)\n",
    "    #\n",
    "    if Plott:\n",
    "        ax.legend(frameon=False, fontsize=12)\n",
    "        plt.savefig('pdfD2min.png',dpi=75,bbox_inches='tight')\n",
    "        plt.show()\n",
    "        \n",
    "    return Ebulk, Mean, Std, D2min\n",
    "\n",
    "\n",
    "\n",
    "if DminAnalysis and Ovitos:\n",
    "    \n",
    "    junk, junk, junk, d2min = \\\n",
    "    PdfD2min( lmpData, \n",
    "              #times = [0,2000000],\n",
    "              times=list(lmpData.coord_atoms_broken.keys()),     \n",
    "              Plott = False\n",
    "             )\n",
    "    \n",
    "    thresh, ratio = gaussian_mixture(\n",
    "                                     d2min,\n",
    "                                     times = list(d2min.keys()), \n",
    "                                    #times = [0,2000000],\n",
    "                                     PLOT = False,\n",
    "                                 )\n",
    "    \n",
    "        #--- save\n",
    "    strn = GetStrain(lmpData, \n",
    "                     times = list(lmpData.coord_atoms_broken.keys()), \n",
    "                     time0 = 0 )\n",
    "    np.savetxt('varD2minGamma.txt',\n",
    "               np.c_[valuesDict(strn,strn.keys()), valuesDict(ratio,ratio.keys())], \n",
    "               header='gamma\\tratio')\n"
   ]
  },
  {
   "cell_type": "markdown",
   "metadata": {},
   "source": [
    "### variance "
   ]
  },
  {
   "cell_type": "code",
   "execution_count": 69,
   "metadata": {},
   "outputs": [
    {
     "data": {
      "image/png": "[encoded data removed]",
      "text/plain": [
       "<Figure size 288x288 with 1 Axes>"
      ]
     },
     "metadata": {
      "needs_background": "light"
     },
     "output_type": "display_data"
    }
   ],
   "source": [
    "# if DminAnalysis and Ovitos:\n",
    "#     Ebulk, Mean, Std=\\\n",
    "#         PdfD2min( lmpData, \n",
    "#         times = lmpData.coord_atoms_broken.keys(),     \n",
    "#         Plott = None\n",
    "#         )\n",
    "#     #--- plot\n",
    "#     fig = plt.figure(figsize=(4,4))\n",
    "#     ax = fig.add_subplot(111)\n",
    "#     # ax.set_yscale('log')\n",
    "#     # ax.set_xscale('log')\n",
    "#     # ax.set_ylim(1e-5,10)\n",
    "#     # ax.set_xlim(1e-2,1e4)\n",
    "#     ax.set_xlabel(r'$\\gamma$',fontsize=16)\n",
    "#     ax.set_ylabel(r'norm. Std.',fontsize=16)\n",
    "#     ax.tick_params(labelsize=16)\n",
    "#     #ax.set_title(r'itime=%s'%itime)\n",
    "#     #\n",
    "#     ax.plot(Ebulk,np.array(Std)/np.array(Mean),'-o')\n",
    "#     #\n",
    "#     np.savetxt('D2minGamma.txt',np.c_[Ebulk,np.array(Std)/np.array(Mean)],header='Strain\\tD2minStd')\n",
    "#     #\n",
    "#     plt.savefig('D2minGamma.png',dpi=75,bbox_inches='tight')\n",
    "#     plt.show()"
   ]
  },
  {
   "cell_type": "markdown",
   "metadata": {},
   "source": [
    "### multiple realizations"
   ]
  },
  {
   "cell_type": "code",
   "execution_count": 304,
   "metadata": {
    "scrolled": true
   },
   "outputs": [
    {
     "data": {
      "image/png": "[encoded data removed]",
      "text/plain": [
       "<Figure size 288x288 with 1 Axes>"
      ]
     },
     "metadata": {
      "needs_background": "light"
     },
     "output_type": "display_data"
    }
   ],
   "source": [
    "if not RemoteMachine:\n",
    "    #\n",
    "    matplotlib.rcParams['text.usetex'] = True #--- comment tex stuff!\n",
    "    #\n",
    "    #\n",
    "    colors = ['black','red','green','blue','cyan','brown','grey','magenta','orange','yellow']\n",
    "    fillstyles=['white',None,'white',None,'white',None,'white',None,'white',None,'white',None,'white',None,'white',None]\n",
    "    markers=['o','s','D','^','<','>','v']\n",
    "    #\n",
    "    fig = plt.figure( figsize = (4,4))\n",
    "    ax = fig.add_subplot(111)\n",
    "    ax.set_xlabel(r'$\\gamma$',fontsize=20)\n",
    "    ax.set_ylabel(r'Norm. Std',fontsize=20)\n",
    "    ax.xaxis.set_minor_locator(AutoMinorLocator(2))\n",
    "    ax.yaxis.set_minor_locator(AutoMinorLocator(2))\n",
    "    ax.tick_params(labelsize=20,which='both',axis='both', top=True, right=True)\n",
    "    #ax.set_title()\n",
    "    #\n",
    "    for GlassType, marker, color, fillstyle in list(zip( [ \n",
    "                                         '0','2'\n",
    "                                        ],markers, colors, fillstyles )):\n",
    "\n",
    "        sarr  = np.loadtxt('d2minCoNiFe/Run%s/D2minGamma.txt'%GlassType)\n",
    "        #--- fliter\n",
    "        ydata = sarr[:,1] #--- first 2nd col is stress drop\n",
    "        xdata = sarr[:,0] #--- 2nd and 3rd cols are widths\n",
    "    #\n",
    "        ax.plot(xdata,ydata,\n",
    "                linestyle='-',\n",
    "                markersize=10,\n",
    "                color=color,\n",
    "                marker=marker,\n",
    "                markerfacecolor=fillstyle,\n",
    "                markeredgecolor='black' if not fillstyle else None,\n",
    "                markevery=6*4,\n",
    "                label = '%s'%GlassType)\n",
    "    #\n",
    "    ax.legend(frameon=False, fontsize=12)\n",
    "    #\n",
    "    DrawFrame(ax, 0.2,0.09,0.15,0.06,0.04)\n",
    "    #\n",
    "    plt.savefig('D2minGamma.png',dpi=2*75,bbox_inches='tight',pad_inches=0.0)\n",
    "    plt.show()"
   ]
  },
  {
   "cell_type": "markdown",
   "metadata": {},
   "source": [
    "### multiple systems"
   ]
  },
  {
   "cell_type": "code",
   "execution_count": 397,
   "metadata": {},
   "outputs": [
    {
     "data": {
      "image/png": "[encoded data removed]",
      "text/plain": [
       "<Figure size 288x288 with 1 Axes>"
      ]
     },
     "metadata": {
      "needs_background": "light"
     },
     "output_type": "display_data"
    }
   ],
   "source": [
    "if not RemoteMachine:\n",
    "    #\n",
    "    matplotlib.rcParams['text.usetex'] = True #--- comment tex stuff!\n",
    "    #\n",
    "    nfreq = 1\n",
    "    #\n",
    "    colors = ['black','red','green','blue','cyan','brown','grey','magenta','orange','yellow']\n",
    "    fillstyles=['white',None,'white',None,'white',None,'white',None,'white',None,'white',None,'white',None,'white',None]\n",
    "    markers=['o','s','D','^','<','>','v']\n",
    "    #\n",
    "    fig = plt.figure( figsize = (4,4))\n",
    "    ax = fig.add_subplot(111)\n",
    "#     ax.set_xlabel(r'$\\gamma$',fontsize=20)\n",
    "#     ax.set_ylabel(r'Norm. Std',fontsize=20)\n",
    "    ax.xaxis.set_minor_locator(AutoMinorLocator(2))\n",
    "    ax.yaxis.set_minor_locator(AutoMinorLocator(2))\n",
    "    ax.tick_params(labelsize=20,which='both',axis='both', top=True, right=True)\n",
    "    #ax.set_title()\n",
    "    #\n",
    "    for GlassType, marker, color, fillstyle in list(zip( [ \n",
    "#                                          'FeNi', #0,1,2\n",
    "#                                           'CoNiFe', #0,2\n",
    "                                             'CoNiCrFe/Run2', #0,1,2  ## bad 7\n",
    "#                                             'CoCrFeMn', #0,1,2\n",
    "#                                             'CoNiCrFeMn', #1,2 ##\n",
    "                                            'Co5Cr5Fe40Mn27Ni26/Run0'# 0,1,2 # good 13\n",
    "                                        ],markers, colors, fillstyles )):\n",
    "\n",
    "        sarr  = np.loadtxt('d2min%s/D2minGamma.txt'%GlassType)\n",
    "        #--- fliter\n",
    "        ydata = sarr[:,1] #--- first 2nd col is stress drop\n",
    "        xdata = sarr[:,0] #--- 2nd and 3rd cols are widths\n",
    "    #\n",
    "        ax.plot(xdata,ydata,\n",
    "                linestyle='-',\n",
    "                markersize=10,\n",
    "                color=color,\n",
    "                marker=marker,\n",
    "                markerfacecolor=fillstyle,\n",
    "                markeredgecolor='black' if not fillstyle else None,\n",
    "                markevery=6*4,\n",
    "                label = '%s'%GlassType[0:-5])\n",
    "    #\n",
    "    ax.legend(frameon=False, fontsize=12)\n",
    "    #\n",
    "    DrawFrame(ax, 0.2,0.09,0.15,0.06,0.04)\n",
    "    #\n",
    "    plt.savefig('D2minGamma.png',dpi=2*75,bbox_inches='tight',pad_inches=0.0)\n",
    "    plt.show()"
   ]
  },
  {
   "cell_type": "markdown",
   "metadata": {},
   "source": [
    "## Interpolation"
   ]
  },
  {
   "cell_type": "code",
   "execution_count": 242,
   "metadata": {},
   "outputs": [
    {
     "data": {
      "image/png": "[encoded data removed]",
      "text/plain": [
       "<Figure size 288x288 with 1 Axes>"
      ]
     },
     "metadata": {
      "needs_background": "light"
     },
     "output_type": "display_data"
    }
   ],
   "source": [
    "def Intrp( lmpData, times, time0, Plot = None ):\n",
    "    #\n",
    "    box0 = lp.Box( BoxBounds = lmpData.BoxBounds[time0] )\n",
    "    box0.BasisVectors( AddMissing = np.array([0.0,0.0,0.0] ))\n",
    "    #\n",
    "    d2intrp = {}\n",
    "    for itime in times:\n",
    "        d2min = lp.Atoms( **lmpData.coord_atoms_broken[itime].to_dict(orient='list') )\n",
    "        #\n",
    "        box = lp.Box( BoxBounds = lmpData.BoxBounds[itime] )\n",
    "        box.BasisVectors( AddMissing = np.array([0.0,0.0,0.0] ))\n",
    "        #\n",
    "\n",
    "        #--- mean dist between atoms \n",
    "        natoms = len( d2min.x ) \n",
    "        CellVectorOrtho, VectorNorm = lp.GetOrthogonalBasis( box0.CellVector )\n",
    "        volume = np.linalg.det( CellVectorOrtho )\n",
    "        dmean = 0.5*( volume / natoms ) ** (1.0/3.0) \n",
    "\n",
    "\n",
    "        #--- grid tiling mapped box with original size\n",
    "        #--- values are interpolated onto this grid\n",
    "        (xlin, ylin, zlin), (xv, yv, zv) = lp.GetCubicGrid( box0.CellOrigin, \n",
    "                                                         box0.CellVector, \n",
    "                                                         dmean,\n",
    "                                                         margin = 0.0 * dmean )\n",
    "        xi = np.array(list(zip(xv.flatten(), yv.flatten(), zv.flatten())))\n",
    "\n",
    "        #--- expand the original box\n",
    "            #--- map to square box\n",
    "        mapp = lp.Map( d2min, box ) \n",
    "        mapp.ChangeBasis()\n",
    "        mapp.Set( d2min ) #--- atoms: add mapped xyz\n",
    "\n",
    "        cptmp = lp.Copy(d2min, box0) #--- important: must be reference frame!!\n",
    "        cptmp.Expand( epsilon = 0.1, mode = 'isotropic' )\n",
    "        d2exp = cptmp.Get()\n",
    "\n",
    "        points = np.c_[d2exp.xm,d2exp.ym,d2exp.zm] #--- unstructured points\n",
    "        values = np.c_[d2exp.d2min] #--- corresponding values\n",
    "\n",
    "        grid_z = scp_int.griddata(points, values, xi, method='linear')\n",
    "        assert not np.any(np.isnan(grid_z.flatten())), 'increase ev!'\n",
    "\n",
    "        #--- make an object\n",
    "        d2intrp[ itime ] = lp.Atoms(**pd.DataFrame(np.c_[xi,grid_z],columns=['x','y','z','d2min']).to_dict(orient='list'))\n",
    "\n",
    "        if Plot:\n",
    "        #--- reshape value\n",
    "            nx,ny,nz = len(xlin), len(ylin),len(zlin) \n",
    "            value = np.c_[d2intrp[ itime ].d2min].reshape(((ny,nx,nz)))\n",
    "\n",
    "            CellVectorOrtho, VectorNorm = lp.GetOrthogonalBasis( box.CellVector ) #--- box length\n",
    "            #--- xy plane\n",
    "            val = value[:,:,-1].copy()\n",
    "#            np.savetxt('d2minBitmap.txt',val)\n",
    "\n",
    "            PltBitmap(val, \n",
    "                      xlabel = '', ylabel = '',\n",
    "                      xlim=VectorNorm[0]*np.array([0.0,1.0]),ylim=VectorNorm[1]*np.array([0.0,1.0]),\n",
    "                      zscore = True,\n",
    "                      frac = 1.0, #--- plot a patch\n",
    "                      title = 'd2min.png',\n",
    "                      colorbar=None,\n",
    "                    )\n",
    "\n",
    "    return (xlin, ylin, zlin), d2intrp\n",
    "    \n",
    "if DminAnalysis:\n",
    "    junk, d2intrp = Intrp(lmpData, \n",
    "                    times = [2000000], #list(lmpData.coord_atoms_broken.keys()),\n",
    "                    time0 =0,\n",
    "                    Plot = True,\n",
    "                   )"
   ]
  },
  {
   "cell_type": "markdown",
   "metadata": {},
   "source": [
    "### Print Ovito output"
   ]
  },
  {
   "cell_type": "code",
   "execution_count": 150,
   "metadata": {},
   "outputs": [],
   "source": [
    "def PlotOvito( d2intrp, times):\n",
    "    #--- print \n",
    "    file_name = 'd2minIntrp.xyz'\n",
    "    try:\n",
    "        os.system('rm %s'%file_name)\n",
    "    except:\n",
    "        pass\n",
    "\n",
    "\n",
    "    \n",
    "    for itime in sorted(times):\n",
    "        PrintOvito( pd.DataFrame(d2intrp[itime].__dict__), \n",
    "                    open(file_name,'a'), \n",
    "                    footer = 'ITIME=%s'%itime,\n",
    "    #                attr_list=['id','type','xm','ym','zm','d2min'],\n",
    "                    attr_list=['x','y','z','d2min'] \n",
    "                  )\n",
    "\n",
    "    # #--- current frame\n",
    "    # d2minList=pd.DataFrame(d2min.__dict__).sort_values(by='id', ascending=True, inplace=False)['d2min']\n",
    "    # df = pd.DataFrame(atoms.__dict__).sort_values(by='id', ascending=True, inplace=False)\n",
    "    # #attrs = \n",
    "    # d2min2 = lp.Compute( atoms, box )\n",
    "    # d2min2.Set(np.c_[df,d2minList],attrs=list(df.keys()) + ['d2min'])\n",
    "    # attrs = ['id','type','x','y','z','d2min']\n",
    "    # d2min2 = pd.DataFrame(np.c_[list(map(d2min2.__dict__.get,attrs))].T, columns = attrs )\n",
    "    # PrintOvito( d2min2, \n",
    "    #             open(file_name,'a'), \n",
    "    #             footer = 'ITIME=%s'%itime,\n",
    "    #             attr_list=['id','type','x','y','z','d2min'] )\n",
    "\n",
    "if DminAnalysis:# and not Ovitos:\n",
    "    PlotOvito( d2intrp, \n",
    "              times=[2000000], #list(d2intrp.keys()),\n",
    "             )"
   ]
  },
  {
   "cell_type": "markdown",
   "metadata": {},
   "source": [
    "#### Paper version"
   ]
  },
  {
   "cell_type": "code",
   "execution_count": 58,
   "metadata": {},
   "outputs": [
    {
     "data": {
      "image/png": "[encoded data removed]",
      "text/plain": [
       "<Figure size 400x400 with 1 Axes>"
      ]
     },
     "metadata": {},
     "output_type": "display_data"
    }
   ],
   "source": [
    "if not RemoteMachine:\n",
    "    matplotlib.rcParams['text.usetex'] = True #--- comment tex stuff!\n",
    "    \n",
    "    val = np.loadtxt('ShearBandFeNi/Run2/d2minBitmap.txt')\n",
    "    PltBitmap(   val, \n",
    "                  xlabel = '', ylabel = '',\n",
    "    #              xlim=VectorNorm[0]*np.array([0.0,1.0]),ylim=VectorNorm[1]*np.array([0.0,1.0]),\n",
    "                  zscore = True,\n",
    "                  frac = 1.0, #--- plot a patch\n",
    "                  title = 'd2min.png',\n",
    "                  colorbar=None,\n",
    "                  DrawFrame=(0.2,0.09,0.15,0.06,0.04),\n",
    "                )\n",
    "#DrawFrame(ax, 0.2,0.09,0.15,0.06,4)\n"
   ]
  },
  {
   "cell_type": "markdown",
   "metadata": {},
   "source": [
    "## Crltn Function (Unstructured points)"
   ]
  },
  {
   "cell_type": "code",
   "execution_count": 97,
   "metadata": {
    "scrolled": false
   },
   "outputs": [],
   "source": [
    "if DminAnalysis and CrltnFunctionUnstructured and not Ovitos:\n",
    "    crltn = lp.ComputeCrltn(  d2min, box, \n",
    "                              d2min.d2min, #--- values\n",
    "                              cutoff = cutoff, #--- cutoff size to include neighbors\n",
    "                              dx = dlgr0, #--- discretization length: 1st peak in rdf\n",
    "                              NMAX = NMAX, #--- upper bounds for the number of atoms\n",
    "                            )\n",
    "    crltn.Distance()\n",
    "    crltn.AutoCrltn(RADIAL = None)\n",
    "    xvv, yvv, zvv, hist, err = crltn.Get()\n",
    "\n",
    "    #--- save data\n",
    "    np.save('CrltnFuncUnstructured',np.c_[xvv, yvv, zvv, hist, err])"
   ]
  },
  {
   "cell_type": "code",
   "execution_count": 202,
   "metadata": {},
   "outputs": [],
   "source": [
    "# n=1000*4\n",
    "# xyz = np.random.random((n,3)) \n",
    "# atom_tmp = lp.Atoms(**pd.DataFrame(np.c_[np.arange(n),np.ones(n),xyz],\n",
    "#                                    columns=['id','type','x','y','z']).to_dict(orient='list'))\n",
    "# box_tmp = lp.Box(CellOrigin=np.array([0,0,0]),CellVector=np.array([[1,0,0],[0,1,0],[0,0,1]]))\n",
    "# #val = np.sin(2*np.pi*xyz[:,0])\n",
    "# rstar = 0.25\n",
    "# xyz = xyz - np.array([0.5,0.5,0.5])\n",
    "# val = np.exp(-0.5*(xyz[:,0]**2+xyz[:,1]**2+xyz[:,2]**2)/rstar/rstar)\n",
    "# crltn = lp.ComputeCrltn(    atom_tmp, box_tmp,\n",
    "#                              val,\n",
    "#                              cutoff=1.0*3**.5, dx=0.05,\n",
    "#                              NMAX = n\n",
    "#                      )\n",
    "# crltn.Distance()\n",
    "# crltn.AutoCrltn(RADIAL = None)\n",
    "# xvv, yvv, zvv, hist, err = crltn.Get()\n",
    "\n",
    "# dlgr0 = 0.05/2"
   ]
  },
  {
   "cell_type": "markdown",
   "metadata": {},
   "source": [
    "### Plot Crltns"
   ]
  },
  {
   "cell_type": "code",
   "execution_count": 203,
   "metadata": {},
   "outputs": [],
   "source": [
    "#--- load data\n",
    "# sdata = np.load('CrltnFuncUnstructured.npy')\n",
    "# nz = sdata.shape[2]/5\n",
    "# xv = sdata[:,:,0:nz]\n",
    "# yv = sdata[:,:,nz:2*nz]\n",
    "# zv = sdata[:,:,2*nz:3*nz]\n",
    "# hist = sdata[:,:,3*nz:4*nz]\n",
    "# err = sdata[:,:,4*nz:5*nz]"
   ]
  },
  {
   "cell_type": "code",
   "execution_count": 219,
   "metadata": {},
   "outputs": [
    {
     "data": {
      "image/png": "[encoded data removed]",
      "text/plain": [
       "<Figure size 432x288 with 2 Axes>"
      ]
     },
     "metadata": {
      "needs_background": "light"
     },
     "output_type": "display_data"
    },
    {
     "data": {
      "image/png": "[encoded data removed]",
      "text/plain": [
       "<Figure size 288x288 with 1 Axes>"
      ]
     },
     "metadata": {
      "needs_background": "light"
     },
     "output_type": "display_data"
    },
    {
     "data": {
      "text/plain": [
       "10.699313962120927"
      ]
     },
     "execution_count": 219,
     "metadata": {},
     "output_type": "execute_result"
    }
   ],
   "source": [
    "if DminAnalysis and CrltnFunctionUnstructured and not Ovitos:\n",
    "    #--- get 2d slice\n",
    "    xv2d, yv2d, hist2d, err2d = GetSlice2d( hist, err,\n",
    "                                           xvv, yvv, zvv,\n",
    "                                           z=0.0, xtol = dlgr0/2\n",
    "                                          )\n",
    "    #--- bitmap\n",
    "    PltBitmap(hist2d, \n",
    "              xlabel = 'x', ylabel = 'y',\n",
    "              xlim=(xv2d.min(),xv2d.max()),ylim=(yv2d.min(),yv2d.max()),\n",
    "              zscore = None,\n",
    "              frac = 1.0, #--- plot a patch\n",
    "              ) \n",
    "\n",
    "    #--- get 1d slice\n",
    "    xv1d, hist1d, err1d =   GetSlice1d( hist2d, err2d,\n",
    "                                 xv2d, yv2d,\n",
    "                                 xtol = dlgr0/2,\n",
    "                                 y=0.0)   \n",
    "    #--- plot\n",
    "    PltCrltnFunc1d( hist1d[xv1d>0.0], err1d[xv1d>0.0],\n",
    "                     xv1d[xv1d>0.0],\n",
    "                     fileName = 'cr.%s.png'%itime,\n",
    "    #                 title = r'$\\epsilon=%3.2f$'%(2*ebulk),\n",
    "                     cTOL = 8.0e-2,\n",
    "                     dpi = 60,\n",
    "                    )"
   ]
  },
  {
   "cell_type": "markdown",
   "metadata": {},
   "source": [
    "## Crltn Function (FFT)"
   ]
  },
  {
   "cell_type": "code",
   "execution_count": 586,
   "metadata": {},
   "outputs": [
    {
     "data": {
      "image/png": "[encoded data removed]",
      "text/plain": [
       "<Figure size 288x288 with 1 Axes>"
      ]
     },
     "metadata": {
      "needs_background": "light"
     },
     "output_type": "display_data"
    },
    {
     "data": {
      "image/png": "[encoded data removed]",
      "text/plain": [
       "<Figure size 288x288 with 1 Axes>"
      ]
     },
     "metadata": {
      "needs_background": "light"
     },
     "output_type": "display_data"
    }
   ],
   "source": [
    "if DminAnalysis: # and not Ovitos:\n",
    "    (nx,ny,nz) = len(xlin), len(ylin),len(zlin) \n",
    "    #\n",
    "    value = np.c_[d2intrp.d2min].reshape((ny,nx,nz))\n",
    "\n",
    "    #--- shuffle\n",
    "    #     ( nx, ny, nz ) =  value.shape\n",
    "    #     slist = value.flatten()\n",
    "    #     np.random.shuffle(slist)\n",
    "    #     value=slist.reshape((nx, ny, nz))    \n",
    "    #\n",
    "    #--- filter value\n",
    "    #     value = FilterMatrix( CellVector[0], CellOrigin[0],\n",
    "    #                   (xlin, ylin, zlin),\n",
    "    #                   (xv, yv, zv ),\n",
    "    #                    value )\n",
    "\n",
    "    crltn = GetAutoCorrelation( value )\n",
    "\n",
    "\n",
    "    CellVectorOrtho, VectorNorm = lp.GetOrthogonalBasis( box.CellVector ) #--- box length\n",
    "    #    \n",
    "\n",
    "    #--- xy plane\n",
    "    val = crltn[:,:,0].copy()\n",
    "    PltCrltn( val, \n",
    "              xlabel = 'x', ylabel = 'y',\n",
    "              xlim=VectorNorm[0]*np.array([-0.5,0.5]),ylim=VectorNorm[1]*np.array([-0.5,0.5]),\n",
    "              frac = 1, #--- plot a patch\n",
    "              zscore = False,\n",
    "              fileName = 'cxy_d2min.%s.png'%itime,\n",
    "              dpi = 60\n",
    "            )\n",
    "\n",
    "    #--- bulk strain\n",
    "    dx=box.CellVector[0,1]-box0.CellVector[0,1]\n",
    "    l1=box.CellVector[1,1]\n",
    "    ebulk = dx/l1\n",
    "    #---\n",
    "    (xc, yc), (xdata0,ydata0), (xdata,ydata) =\\\n",
    "            PltCrltnFunc(   crltn, \n",
    "                             xv,yv,\n",
    "                             fileName = 'cr_d2min.%s.png'%itime,\n",
    "                             title = r'$\\gamma=%3.2f$'%(ebulk),\n",
    "                             cTOL = 1.0e-2,\n",
    "                #             dpi = 60,\n",
    "                            )\n",
    "    #--- save\n",
    "    np.savetxt('rc_d2min.txt',np.c_[ebulk, xc, yc],header='gamma\\txc\\tyc')"
   ]
  },
  {
   "cell_type": "markdown",
   "metadata": {},
   "source": [
    "### Multiple Frames"
   ]
  },
  {
   "cell_type": "code",
   "execution_count": 74,
   "metadata": {
    "scrolled": true
   },
   "outputs": [
    {
     "data": {
      "image/png": "[encoded data removed]",
      "text/plain": [
       "<Figure size 288x288 with 1 Axes>"
      ]
     },
     "metadata": {
      "needs_background": "light"
     },
     "output_type": "display_data"
    }
   ],
   "source": [
    "sarr = MultipleFrames('widthFeNi','rc_d2min.txt',irun=0)\n",
    "#--- plot\n",
    "fig = plt.figure( figsize = (4,4))\n",
    "ax = fig.add_subplot(111)\n",
    "xstr = r'$\\gamma$'\n",
    "ystr = r'$r_c(A^\\circ)$'\n",
    "ax.set_xlabel(xstr,fontsize=16)\n",
    "ax.set_ylabel(ystr,fontsize=16)\n",
    "ax.tick_params(labelsize=16)\n",
    "#\n",
    "ax.plot( sarr[:,0], sarr[:,1],'-o', color='C0', label = r'$x_c$')\n",
    "ax.plot( sarr[:,0], sarr[:,2],'-s', color='red', label = r'$y_c$')\n",
    "ax.legend(frameon=False)\n",
    "plt.savefig('rc.png',dpi=75,bbox_inches='tight')\n",
    "plt.show()\n"
   ]
  },
  {
   "cell_type": "markdown",
   "metadata": {},
   "source": [
    "### Band width vs. mismatch"
   ]
  },
  {
   "cell_type": "code",
   "execution_count": 48,
   "metadata": {},
   "outputs": [
    {
     "data": {
      "image/png": "[encoded data removed]",
      "text/plain": [
       "<Figure size 288x288 with 1 Axes>"
      ]
     },
     "metadata": {
      "needs_background": "light"
     },
     "output_type": "display_data"
    }
   ],
   "source": [
    "if not RemoteMachine:\n",
    "    matplotlib.rcParams['text.usetex'] = True #--- comment tex stuff!\n",
    "    #\n",
    "    colors = ['black','red','green','blue','cyan','brown','grey','magenta','orange','yellow']\n",
    "    fillstyles=['white',None,'white',None,'white',None,'white',None,'white',None,'white',None,'white',None,'white',None]\n",
    "    markers=['o','s','D','^','<','>','v']\n",
    "    #\n",
    "    fig = plt.figure( figsize = (4,4))\n",
    "    ax = fig.add_subplot(111)\n",
    "    ax.set_ylabel('$w$(A)',fontsize=20)\n",
    "    ax.set_xlabel('$\\delta_g$',fontsize=20)\n",
    "    ax.xaxis.set_minor_locator(AutoMinorLocator(2))\n",
    "    ax.yaxis.set_minor_locator(AutoMinorLocator(2))\n",
    "    ax.tick_params(labelsize=20,which='both',axis='both', top=True, right=True)\n",
    "    #\n",
    "    for GlassType, marker, color, fillstyle, indxx in list(zip( [ \n",
    "                                         'FeNi',\n",
    "                                         'CoNiFe',\n",
    "                                         'CoNiCrFe',\n",
    "                                         'CoCrFeMn',\n",
    "                                         'CoNiCrFeMn',\n",
    "                                         'Co5Cr2Fe40Mn27Ni26'\n",
    "                                        ],markers, colors, fillstyles, range(10))):\n",
    "        try:\n",
    "            sarr_BandWidth = MultipleFrames2nd(path='widthMismatch%s'%GlassType,nrun=3,title='rc_d2min.txt',ncols=3)\n",
    "            sarr_Mismatch = MultipleFrames2nd(path='widthMismatch%s'%GlassType,nrun=3,title='ModuMismatch.txt',ncols=1)\n",
    "            #--- fliter\n",
    "#            xdata = ModuMismatch[indxx+1]*np.ones(3) #sarr_Mismatch[:,0]\n",
    "            xdata = sarr_Mismatch[:,0]\n",
    "            ydata = sarr_BandWidth[:,1:3] #--- 2nd and 3rd cols are widths\n",
    "            indices = np.any(~np.isnan(ydata),axis=1)\n",
    "            ydata = ydata[~np.isnan(ydata)]\n",
    "            xdata = xdata[indices]\n",
    "            assert xdata.shape == ydata.shape\n",
    "            #\n",
    "            ax.plot(xdata,ydata,'.',\n",
    "                    markersize=10,\n",
    "                    color=color,\n",
    "                    marker=marker,\n",
    "                    markerfacecolor=fillstyle,\n",
    "                    markeredgecolor='black' if not fillstyle else None,\n",
    "                    label = '%s'%GlassType)\n",
    "        except:\n",
    "            traceback.print_exc()\n",
    "            continue\n",
    "\n",
    "    #\n",
    "    ax.legend(frameon=False, fontsize=16,bbox_to_anchor=(1,1))\n",
    "    #\n",
    "#    DrawFrame(ax, 0.2,0.09,0.15,0.06,0.04)\n",
    "    #\n",
    "    plt.savefig('widthMismatch.png',dpi=2*75,bbox_inches='tight',pad_inches=0.0)\n",
    "    plt.show()"
   ]
  },
  {
   "cell_type": "markdown",
   "metadata": {},
   "source": [
    "# Voronoi Analysis"
   ]
  },
  {
   "cell_type": "code",
   "execution_count": 73,
   "metadata": {},
   "outputs": [
    {
     "name": "stdout",
     "output_type": "stream",
     "text": [
      "InputFile= /Users/Home/Desktop/Tmp/txt/Co5Cr2Fe40Mn27Ni26_glass.dump\n",
      "num_frames= 2\n"
     ]
    }
   ],
   "source": [
    "if VorAnl and Ovitos:\n",
    "    rad1=AtomicRadius[1]\n",
    "    rad2=AtomicRadius[2]\n",
    "    rad3=AtomicRadius[3]\n",
    "    rad4=AtomicRadius[4]\n",
    "    rad5=AtomicRadius[5]\n",
    "    !ovitos OvitosCna.py $fileName Voronoi.xyz $nevery 3 $rad1 $rad2 $rad3 $rad4 $rad5  "
   ]
  },
  {
   "cell_type": "code",
   "execution_count": 74,
   "metadata": {},
   "outputs": [],
   "source": [
    "#--- read from d2min.xyz\n",
    "if VorAnl and Ovitos:\n",
    "    lmpData = lp.ReadDumpFile( 'Voronoi.xyz' )\n",
    "    lmpData.GetCords( ncount = sys.maxsize)"
   ]
  },
  {
   "cell_type": "markdown",
   "metadata": {},
   "source": [
    "## histogram"
   ]
  },
  {
   "cell_type": "code",
   "execution_count": 55,
   "metadata": {},
   "outputs": [
    {
     "name": "stdout",
     "output_type": "stream",
     "text": [
      "(0, 0, 12, 0)\t5330\t(10.5 %)\n",
      "(0, 1, 10, 2)\t4601\t(9.1 %)\n",
      "(0, 2, 8, 4)\t2524\t(5.0 %)\n",
      "(0, 3, 6, 4)\t2084\t(4.1 %)\n",
      "(0, 1, 10, 3)\t2065\t(4.1 %)\n",
      "(0, 0, 12, 2)\t2011\t(4.0 %)\n",
      "(0, 2, 8, 2)\t1920\t(3.8 %)\n",
      "(0, 1, 10, 4)\t1729\t(3.4 %)\n",
      "(0, 0, 12, 3)\t1113\t(2.2 %)\n",
      "(0, 2, 8, 5)\t1094\t(2.2 %)\n"
     ]
    },
    {
     "data": {
      "image/png": "[encoded data removed]",
      "text/plain": [
       "<Figure size 432x288 with 1 Axes>"
      ]
     },
     "metadata": {
      "needs_background": "light"
     },
     "output_type": "display_data"
    }
   ],
   "source": [
    "def row_histogram(a):\n",
    "    ca = np.ascontiguousarray(a).view([('', a.dtype)] * a.shape[1])\n",
    "    unique, indices, inverse = np.unique(ca, return_index=True, return_inverse=True)\n",
    "    counts = np.bincount(inverse)\n",
    "    sort_indices = np.argsort(counts)[::-1]\n",
    "    return (a[indices[sort_indices]], counts[sort_indices])\n",
    "\n",
    "\n",
    "        \n",
    "def GetMotifs( lmpData, times, Plot = True ):\n",
    "    Unique_indices={}\n",
    "    Counts = {}\n",
    "    for itime in times:\n",
    "        vor = lp.Atoms( **lmpData.coord_atoms_broken[itime].to_dict(orient='list') )\n",
    "        #\n",
    "        voro_indices = np.c_[vor.VoronoiIndex3,vor.VoronoiIndex4,vor.VoronoiIndex5,vor.VoronoiIndex6].astype(int)\n",
    "        # Compute frequency histogram.\n",
    "\n",
    "        unique_indices, counts = row_histogram(voro_indices)\n",
    "        Unique_indices[itime]=unique_indices[:]\n",
    "        Counts[itime]=100.0*counts/len(voro_indices)\n",
    "        #\n",
    "        # Print the ten most frequent histogram entries.\n",
    "        if Plot:\n",
    "            for i in range(10):\n",
    "                print(\"%s\\t%i\\t(%.1f %%)\" % (tuple(unique_indices[i]), \n",
    "                                         counts[i], \n",
    "                                         100.0*float(counts[i])/len(voro_indices)))\n",
    "                plt.bar(str(tuple(unique_indices[i])), 100.0*float(counts[i])/len(voro_indices),color='C0')\n",
    "            #\n",
    "#             plt.yscale('log')\n",
    "#             plt.ylim(.1,100)\n",
    "            plt.xlabel('Voronoi Index(n3,n4,n5,n6)',fontsize=16)\n",
    "            plt.ylabel('Percentage',fontsize=16)\n",
    "            plt.tick_params(labelrotation=90,labelsize=16)\n",
    "            #\n",
    "            plt.savefig('motifs.png',dpi=75,bbox_inches='tight')\n",
    "            plt.show()\n",
    "            \n",
    "    return Unique_indices, Counts\n",
    "        \n",
    "    \n",
    "    \n",
    "    \n",
    "if VorAnl and Ovitos:\n",
    "     GetMotifs( lmpData, \n",
    "                times = [2000000], #lmpData.coord_atoms_broken.keys(),\n",
    "                Plot = True\n",
    "              )"
   ]
  },
  {
   "cell_type": "markdown",
   "metadata": {},
   "source": [
    "## Timeseries"
   ]
  },
  {
   "cell_type": "code",
   "execution_count": 34,
   "metadata": {},
   "outputs": [
    {
     "data": {
      "image/png": "[encoded data removed]",
      "text/plain": [
       "<Figure size 432x288 with 1 Axes>"
      ]
     },
     "metadata": {
      "needs_background": "light"
     },
     "output_type": "display_data"
    }
   ],
   "source": [
    "def GetMotifsTimeseries( lmpData, \n",
    "                         Motif = np.array([[0,0,12,0]]),\n",
    "                       ):\n",
    "    Unique_indices, Counts = GetMotifs( lmpData, \n",
    "                                         times = lmpData.coord_atoms_broken.keys(),\n",
    "                                         Plot = False,\n",
    "                                       )\n",
    "    #\n",
    "    strn =  GetStrain(lmpData, \n",
    "                      times=lmpData.coord_atoms_broken.keys(), \n",
    "                      time0=0 )\n",
    "    #\n",
    "    times = list(strn.keys())\n",
    "    times.sort()\n",
    "    #\n",
    "    percent = {}\n",
    "    for motif,indx in zip(Motif,range(len(Motif))):\n",
    "        percent[indx] = {}\n",
    "        for itime in times:\n",
    "            counts = Counts[itime]\n",
    "            unique_indices = Unique_indices[itime]\n",
    "            percent[indx][itime] = counts[np.all(unique_indices== motif,axis=1)]\n",
    "    #--- plot\n",
    "#     plt.yscale('log')\n",
    "#     plt.ylim(.1,100)\n",
    "    plt.xlabel('$\\gamma$',fontsize=16)\n",
    "    plt.ylabel('Percentage',fontsize=16)\n",
    "    plt.tick_params(labelsize=16)\n",
    "    #\n",
    "    for indx in range(len(Motif)):\n",
    "        plt.plot(list(map(strn.get,times)),list(map(percent[indx].get,times)),\n",
    "                 '-',\n",
    "                 label = Motif[indx]\n",
    "                )\n",
    "    #\n",
    "    plt.legend(frameon=False,fontsize=14)\n",
    "    plt.savefig('motifsTimeSeries.png',dpi=75,bbox_inches='tight')\n",
    "    plt.show()\n",
    "    \n",
    "    \n",
    "    \n",
    "\n",
    "if VorAnl and Ovitos:\n",
    "    GetMotifsTimeseries( lmpData, \n",
    "                         Motif = np.array([[0,0,12,0],[0,1,10,2],[0,2,8,2],[0,3,6,4],[0,2,8,4]]),\n",
    "                       )"
   ]
  },
  {
   "cell_type": "markdown",
   "metadata": {},
   "source": [
    "## conditional pdf of d2min"
   ]
  },
  {
   "cell_type": "code",
   "execution_count": 75,
   "metadata": {},
   "outputs": [
    {
     "data": {
      "image/png": "[encoded data removed]",
      "text/plain": [
       "<Figure size 288x288 with 1 Axes>"
      ]
     },
     "metadata": {
      "needs_background": "light"
     },
     "output_type": "display_data"
    }
   ],
   "source": [
    "def PutMinorTicks(ax, LOGY=None):\n",
    "    ax.xaxis.set_minor_locator(AutoMinorLocator(2))\n",
    "    ax.yaxis.set_minor_locator(AutoMinorLocator(2))\n",
    "    if LOGY:\n",
    "        #--- add major yticks\n",
    "        ymin=np.ceil(np.log10(ax.axis()[2]))\n",
    "        ymax=np.floor(np.log10(ax.axis()[3]))\n",
    "        nbin = ymax - ymin\n",
    "        ax.set_yticks(np.logspace(ymin,ymax,int(nbin)+1))\n",
    "        #--- put minor bins y\n",
    "        locmin = matplotlib.ticker.LogLocator(base=10.0,subs=(0.1,0.2,0.3,0.4,0.5,0.6,0.7,0.8,0.9,1),numticks=12)\n",
    "        ax.yaxis.set_minor_locator(locmin)\n",
    "        ax.yaxis.set_minor_formatter(matplotlib.ticker.NullFormatter())\n",
    "            \n",
    "def GetFullIcosahedra( vor ):\n",
    "    dff=pd.DataFrame(vor.__dict__)\n",
    "    indices = np.all([  dff['VoronoiIndex1']==0.0,dff['VoronoiIndex2']==0.0,dff['VoronoiIndex3']==0.0,\\\n",
    "                    dff['VoronoiIndex4']==0.0,dff['VoronoiIndex5']==12.0,dff['VoronoiIndex6']==0.0,\\\n",
    "                    dff['VoronoiIndex7']==0.0,dff['VoronoiIndex8']==0.0,dff['VoronoiIndex9']==0.0],axis=0)\n",
    "#     indices = np.all([  dff['VoronoiIndex3']==0.0,dff['VoronoiIndex4']==0.0,dff['VoronoiIndex5']==12.0,\\\n",
    "#                     dff['VoronoiIndex6']==0.0],axis=0)\n",
    "    return indices\n",
    "    \n",
    "def PdfCondD2min( lmpData, lmpDmin, times,     \n",
    "                  Plot = True, title='pdfCondD2min.png',\n",
    "                 axisLabels = True,\n",
    "                ):\n",
    "    #--- plot\n",
    "    if Plot:\n",
    "        fig = plt.figure(figsize=(4,4))\n",
    "        ax = fig.add_subplot(111)\n",
    "        #\n",
    "        ax.set_yscale('log')\n",
    "        #ax.set_xscale('log')\n",
    "        #\n",
    "        ax.set_ylim(1,1e4)\n",
    "        ax.set_xlim(-1,3)\n",
    "        #\n",
    "        if axisLabels:\n",
    "            ax.set_xlabel(r'log$D^2$min($A^2$)',fontsize=16)\n",
    "            ax.set_ylabel(r'PDF',fontsize=16)\n",
    "        #\n",
    "        #ax.set_title(r'itime=%s'%itime)\n",
    "        #\n",
    "        PutMinorTicks( ax, LOGY = True)\n",
    "        #\n",
    "        ax.tick_params(labelsize=20,which='both',axis='both', top=True, right=True)\n",
    "\n",
    "    valueFiltrd = {}\n",
    "    valueTot = {}\n",
    "    for itimee in sorted(times): \n",
    "\n",
    "        # strain\n",
    "        ebulk = GetStrain(lmpData, [itimee], 0 )[itimee]\n",
    "#         if ebulk == 0.0:\n",
    "#             continue\n",
    "\n",
    "        #--- d2min and vor\n",
    "        d2min = lp.Atoms( **lmpDmin.coord_atoms_broken[itimee].to_dict(orient='list') )\n",
    "        vor = lp.Atoms( **lmpData.coord_atoms_broken[itimee].to_dict(orient='list') )\n",
    "\n",
    "        #--- filter\n",
    "        indices = GetFullIcosahedra( vor )\n",
    "\n",
    "        #--- histogram: total\n",
    "        value = valueTot[itimee]=np.array(d2min.d2min)\n",
    "        hist, edges, error = GetPDF( np.log10(value), \n",
    "                                    linscale = True, \n",
    "                                    n_per_decade=32,\n",
    "                                    density = False,\n",
    "                                   )\n",
    "        #--- filtered\n",
    "        value = valueFiltrd[ itimee ] = np.array(d2min.d2min)[indices]\n",
    "        hist_filtrd, edges_filtrd, error_filtrd = GetPDF( np.log10(value), \n",
    "                                                         linscale = True, \n",
    "                                                         n_per_decade=32,\n",
    "                                                         density = False,\n",
    "                                                        )\n",
    "        #--- invert\n",
    "        valinv = np.array(d2min.d2min)[~indices]\n",
    "        hist_inv, edges_inv, error_inv = GetPDF( np.log10(valinv), \n",
    "                                                linscale = True, \n",
    "                                                n_per_decade=32,\n",
    "                                                density = False,\n",
    "                                               )\n",
    "\n",
    "\n",
    "        if Plot:\n",
    "            attr = { 'markersize':10,'markeredgewidth':0.7,\n",
    "                     'linewidth':.5,'barsabove':None,'capsize':5,\n",
    "                     'capthick':1,'elinewidth':1}\n",
    "            #\n",
    "    #             ax.errorbar(edges,hist,error,fmt='-o',\n",
    "    #                         markersize=8,markeredgewidth=0.7,\n",
    "    #                         linewidth=.5,\n",
    "    #                          barsabove=None,capsize=5,capthick=1,elinewidth=1,label='Total')\n",
    "                #\n",
    "            ax.errorbar(edges_filtrd,hist_filtrd,error_filtrd,\n",
    "                        **attr,\n",
    "                        fmt='-o', color='black', \n",
    "                        markerfacecolor='white', markeredgecolor=None,\n",
    "                        label='Icosahedra', markevery = int(len(edges_filtrd)/10),\n",
    "                        errorevery = int(len(edges_filtrd)/10),\n",
    "                       )\n",
    "            #\n",
    "            ax.errorbar(edges_inv,hist_inv,error_inv,\n",
    "                        **attr,\n",
    "                        fmt='-s', color='red',\n",
    "                        markerfacecolor=None, markeredgecolor='black',\n",
    "                        label='Non Icosahedra',markevery = int(len(edges_inv)/10),\n",
    "                        errorevery = int(len(edges_inv)/10),\n",
    "                       )\n",
    "    #\n",
    "    if Plot:\n",
    "        ax.legend(frameon=False, fontsize=12)\n",
    "        #\n",
    "        DrawFrame(ax, 0.2,0.09,0.15,0.06,0.04,LOG_Y=True)\n",
    "        #\n",
    "        plt.savefig(title,dpi=2*75,bbox_inches='tight',pad_inches=0.0)\n",
    "        plt.show()\n",
    "\n",
    "    return valueFiltrd,valueTot\n",
    "\n",
    "if DminAnalysis and VorAnl:\n",
    "    \n",
    "    PdfCondD2min( lmpData, lmpDmin,\n",
    "              times = [2000000],#lmpData.coord_atoms_broken.keys(),     \n",
    "              Plot = True,\n",
    "              title = 'pdfCondD2minBad.png',\n",
    "              axisLabels = False,\n",
    "             )"
   ]
  },
  {
   "cell_type": "markdown",
   "metadata": {},
   "source": [
    "### gaussian mixture"
   ]
  },
  {
   "cell_type": "code",
   "execution_count": 78,
   "metadata": {
    "scrolled": false
   },
   "outputs": [
    {
     "data": {
      "image/png": "[encoded data removed]",
      "text/plain": [
       "<Figure size 288x288 with 1 Axes>"
      ]
     },
     "metadata": {
      "needs_background": "light"
     },
     "output_type": "display_data"
    },
    {
     "data": {
      "image/png": "[encoded data removed]",
      "text/plain": [
       "<Figure size 288x288 with 1 Axes>"
      ]
     },
     "metadata": {
      "needs_background": "light"
     },
     "output_type": "display_data"
    },
    {
     "ename": "ValueError",
     "evalue": "all the input array dimensions for the concatenation axis must match exactly, but along dimension 0, the array at index 0 has size 2 and the array at index 1 has size 1",
     "output_type": "error",
     "traceback": [
      "\u001b[0;31m---------------------------------------------------------------------------\u001b[0m",
      "\u001b[0;31mValueError\u001b[0m                                Traceback (most recent call last)",
      "\u001b[0;32m<ipython-input-78-478cbf1692f6>\u001b[0m in \u001b[0;36m<module>\u001b[0;34m\u001b[0m\n\u001b[1;32m     19\u001b[0m                      time0 = 0 )\n\u001b[1;32m     20\u001b[0m     np.savetxt('d2minRatioGamma.txt',\n\u001b[0;32m---> 21\u001b[0;31m                \u001b[0mnp\u001b[0m\u001b[0;34m.\u001b[0m\u001b[0mc_\u001b[0m\u001b[0;34m[\u001b[0m\u001b[0mvaluesDict\u001b[0m\u001b[0;34m(\u001b[0m\u001b[0mstrn\u001b[0m\u001b[0;34m,\u001b[0m\u001b[0mstrn\u001b[0m\u001b[0;34m.\u001b[0m\u001b[0mkeys\u001b[0m\u001b[0;34m(\u001b[0m\u001b[0;34m)\u001b[0m\u001b[0;34m)\u001b[0m\u001b[0;34m,\u001b[0m \u001b[0mvaluesDict\u001b[0m\u001b[0;34m(\u001b[0m\u001b[0mratio\u001b[0m\u001b[0;34m,\u001b[0m\u001b[0mratio\u001b[0m\u001b[0;34m.\u001b[0m\u001b[0mkeys\u001b[0m\u001b[0;34m(\u001b[0m\u001b[0;34m)\u001b[0m\u001b[0;34m)\u001b[0m\u001b[0;34m]\u001b[0m\u001b[0;34m,\u001b[0m\u001b[0;34m\u001b[0m\u001b[0;34m\u001b[0m\u001b[0m\n\u001b[0m\u001b[1;32m     22\u001b[0m                header='gamma\\tratio')\n",
      "\u001b[0;32m/Library/Frameworks/Python.framework/Versions/3.8/lib/python3.8/site-packages/numpy/lib/index_tricks.py\u001b[0m in \u001b[0;36m__getitem__\u001b[0;34m(self, key)\u001b[0m\n\u001b[1;32m    404\u001b[0m                 \u001b[0mobjs\u001b[0m\u001b[0;34m[\u001b[0m\u001b[0mk\u001b[0m\u001b[0;34m]\u001b[0m \u001b[0;34m=\u001b[0m \u001b[0mobjs\u001b[0m\u001b[0;34m[\u001b[0m\u001b[0mk\u001b[0m\u001b[0;34m]\u001b[0m\u001b[0;34m.\u001b[0m\u001b[0mastype\u001b[0m\u001b[0;34m(\u001b[0m\u001b[0mfinal_dtype\u001b[0m\u001b[0;34m)\u001b[0m\u001b[0;34m\u001b[0m\u001b[0;34m\u001b[0m\u001b[0m\n\u001b[1;32m    405\u001b[0m \u001b[0;34m\u001b[0m\u001b[0m\n\u001b[0;32m--> 406\u001b[0;31m         \u001b[0mres\u001b[0m \u001b[0;34m=\u001b[0m \u001b[0mself\u001b[0m\u001b[0;34m.\u001b[0m\u001b[0mconcatenate\u001b[0m\u001b[0;34m(\u001b[0m\u001b[0mtuple\u001b[0m\u001b[0;34m(\u001b[0m\u001b[0mobjs\u001b[0m\u001b[0;34m)\u001b[0m\u001b[0;34m,\u001b[0m \u001b[0maxis\u001b[0m\u001b[0;34m=\u001b[0m\u001b[0maxis\u001b[0m\u001b[0;34m)\u001b[0m\u001b[0;34m\u001b[0m\u001b[0;34m\u001b[0m\u001b[0m\n\u001b[0m\u001b[1;32m    407\u001b[0m \u001b[0;34m\u001b[0m\u001b[0m\n\u001b[1;32m    408\u001b[0m         \u001b[0;32mif\u001b[0m \u001b[0mmatrix\u001b[0m\u001b[0;34m:\u001b[0m\u001b[0;34m\u001b[0m\u001b[0;34m\u001b[0m\u001b[0m\n",
      "\u001b[0;32m<__array_function__ internals>\u001b[0m in \u001b[0;36mconcatenate\u001b[0;34m(*args, **kwargs)\u001b[0m\n",
      "\u001b[0;31mValueError\u001b[0m: all the input array dimensions for the concatenation axis must match exactly, but along dimension 0, the array at index 0 has size 2 and the array at index 1 has size 1"
     ]
    }
   ],
   "source": [
    "if DminAnalysis and VorAnl:\n",
    "    \n",
    "    d2minFiltrd, d2minTotal = PdfCondD2min( lmpData, lmpDmin,\n",
    "                                           # times = list(lmpData.coord_atoms_broken.keys()), \n",
    "                                           times=[2000000],\n",
    "                                           Plot = True,\n",
    "                 )\n",
    "    \n",
    "    thresh, ratio = gaussian_mixture(\n",
    "                                      d2minTotal,\n",
    "                                      #d2minFiltrd,\n",
    "                                     #times = list(d2minFiltrd.keys()), \n",
    "                                      times = [2000000],\n",
    "                                      PLOT = True,\n",
    "                                     )\n",
    "    #--- save\n",
    "    strn = GetStrain(lmpData, \n",
    "                     times = list(lmpData.coord_atoms_broken.keys()), \n",
    "                     time0 = 0 )\n",
    "    np.savetxt('d2minRatioGamma.txt',\n",
    "               np.c_[valuesDict(strn,strn.keys()), valuesDict(ratio,ratio.keys())], \n",
    "               header='gamma\\tratio')\n"
   ]
  },
  {
   "cell_type": "markdown",
   "metadata": {},
   "source": [
    "#### evolution with strain"
   ]
  },
  {
   "cell_type": "code",
   "execution_count": 419,
   "metadata": {},
   "outputs": [
    {
     "data": {
      "image/png": "[encoded data removed]",
      "text/plain": [
       "<Figure size 288x288 with 1 Axes>"
      ]
     },
     "metadata": {
      "needs_background": "light"
     },
     "output_type": "display_data"
    }
   ],
   "source": [
    "if not RemoteMachine:\n",
    "    #\n",
    "    matplotlib.rcParams['text.usetex'] = True #--- comment tex stuff!\n",
    "    #\n",
    "    nfreq = 1\n",
    "    #\n",
    "    colors = ['black','red','green','blue','cyan','brown','grey','magenta','orange','yellow']\n",
    "    fillstyles=['white',None,'white',None,'white',None,'white',None,'white',None,'white',None,'white',None,'white',None]\n",
    "    markers=['o','s','D','^','<','>','v']\n",
    "    #\n",
    "    fig = plt.figure( figsize = (4,4))\n",
    "    ax = fig.add_subplot(111)\n",
    "#     ax.set_xlabel(r'$\\gamma$',fontsize=20)\n",
    "#     ax.set_ylabel(r'Norm. Std',fontsize=20)\n",
    "    ax.xaxis.set_minor_locator(AutoMinorLocator(2))\n",
    "    ax.yaxis.set_minor_locator(AutoMinorLocator(2))\n",
    "    ax.tick_params(labelsize=20,which='both',axis='both', top=True, right=True)\n",
    "    #ax.set_title()\n",
    "    #\n",
    "    for GlassType, marker, color, fillstyle in list(zip( [ \n",
    "#                                         'FeNi',\n",
    "#                                         'CoNiFe',\n",
    "                                        'CoNiCrFe/Run2',\n",
    "#                                         'CoCrFeMn', \n",
    "#                                         'CoNiCrFeMn', \n",
    "                                        'Co5Cr2Fe40Mn27Ni26/Run0'\n",
    "                                        ],markers, colors, fillstyles )):\n",
    "\n",
    "        sarr  = np.loadtxt('d2minRatio%s/d2minRaioGamma.txt'%GlassType)\n",
    "        #--- fliter\n",
    "        ydata = sarr[:,1] #--- first 2nd col is stress drop\n",
    "        xdata = sarr[:,0] #--- 2nd and 3rd cols are widths\n",
    "    #\n",
    "        ax.plot(xdata,ydata,\n",
    "                linestyle='-',\n",
    "                markersize=10,\n",
    "                color=color,\n",
    "                marker=marker,\n",
    "                markerfacecolor=fillstyle,\n",
    "                markeredgecolor='black' if not fillstyle else None,\n",
    "                markevery=int(len(xdata)/20),\n",
    "                label = '%s'%GlassType[0:-5])\n",
    "    #\n",
    "    ax.legend(frameon=False, fontsize=12)\n",
    "    #\n",
    "    DrawFrame(ax, 0.2,0.09,0.15,0.06,0.04)\n",
    "    #\n",
    "    plt.savefig('D2minGamma.png',dpi=2*75,bbox_inches='tight',pad_inches=0.0)\n",
    "    plt.show()"
   ]
  },
  {
   "cell_type": "markdown",
   "metadata": {},
   "source": [
    "### scatter plot"
   ]
  },
  {
   "cell_type": "code",
   "execution_count": 557,
   "metadata": {},
   "outputs": [
    {
     "ename": "KeyboardInterrupt",
     "evalue": "",
     "output_type": "error",
     "traceback": [
      "\u001b[0;31m---------------------------------------------------------------------------\u001b[0m",
      "\u001b[0;31mKeyboardInterrupt\u001b[0m                         Traceback (most recent call last)",
      "\u001b[0;32m<ipython-input-557-7fb17b408759>\u001b[0m in \u001b[0;36m<module>\u001b[0;34m\u001b[0m\n\u001b[1;32m    108\u001b[0m \u001b[0;32mif\u001b[0m \u001b[0mDminAnalysis\u001b[0m \u001b[0;32mand\u001b[0m \u001b[0mVorAnl\u001b[0m\u001b[0;34m:\u001b[0m\u001b[0;34m\u001b[0m\u001b[0;34m\u001b[0m\u001b[0m\n\u001b[1;32m    109\u001b[0m \u001b[0;34m\u001b[0m\u001b[0m\n\u001b[0;32m--> 110\u001b[0;31m     PlotDminVor( lmpData, lmpDmin, \n\u001b[0m\u001b[1;32m    111\u001b[0m                  \u001b[0mtimes\u001b[0m \u001b[0;34m=\u001b[0m \u001b[0;34m[\u001b[0m\u001b[0;36m2000000\u001b[0m\u001b[0;34m]\u001b[0m\u001b[0;34m,\u001b[0m\u001b[0;31m#list(lmpData.coord_atoms_broken.keys()),\u001b[0m\u001b[0;34m\u001b[0m\u001b[0;34m\u001b[0m\u001b[0m\n\u001b[1;32m    112\u001b[0m                 \u001b[0mtitle\u001b[0m\u001b[0;34m=\u001b[0m\u001b[0;34m'd2minBad'\u001b[0m\u001b[0;34m,\u001b[0m\u001b[0;34m\u001b[0m\u001b[0;34m\u001b[0m\u001b[0m\n",
      "\u001b[0;32m<ipython-input-557-7fb17b408759>\u001b[0m in \u001b[0;36mPlotDminVor\u001b[0;34m(lmpData, lmpDmin, times, title)\u001b[0m\n\u001b[1;32m     54\u001b[0m \u001b[0;31m#         pdb.set_trace()\u001b[0m\u001b[0;34m\u001b[0m\u001b[0;34m\u001b[0m\u001b[0;34m\u001b[0m\u001b[0m\n\u001b[1;32m     55\u001b[0m         \u001b[0;31m#--- dmin\u001b[0m\u001b[0;34m\u001b[0m\u001b[0;34m\u001b[0m\u001b[0;34m\u001b[0m\u001b[0m\n\u001b[0;32m---> 56\u001b[0;31m         (xlin, ylin, zlin), d2intrp = Intrp(lmpDmin, \n\u001b[0m\u001b[1;32m     57\u001b[0m                                             \u001b[0mtimes\u001b[0m \u001b[0;34m=\u001b[0m \u001b[0;34m[\u001b[0m\u001b[0mitime\u001b[0m\u001b[0;34m]\u001b[0m\u001b[0;34m,\u001b[0m\u001b[0;34m\u001b[0m\u001b[0;34m\u001b[0m\u001b[0m\n\u001b[1;32m     58\u001b[0m                                             \u001b[0mtime0\u001b[0m \u001b[0;34m=\u001b[0m\u001b[0;36m0\u001b[0m\u001b[0;34m,\u001b[0m\u001b[0;34m\u001b[0m\u001b[0;34m\u001b[0m\u001b[0m\n",
      "\u001b[0;32m<ipython-input-242-e9e7d5c2e476>\u001b[0m in \u001b[0;36mIntrp\u001b[0;34m(lmpData, times, time0, Plot)\u001b[0m\n\u001b[1;32m     34\u001b[0m \u001b[0;34m\u001b[0m\u001b[0m\n\u001b[1;32m     35\u001b[0m         \u001b[0mcptmp\u001b[0m \u001b[0;34m=\u001b[0m \u001b[0mlp\u001b[0m\u001b[0;34m.\u001b[0m\u001b[0mCopy\u001b[0m\u001b[0;34m(\u001b[0m\u001b[0md2min\u001b[0m\u001b[0;34m,\u001b[0m \u001b[0mbox0\u001b[0m\u001b[0;34m)\u001b[0m \u001b[0;31m#--- important: must be reference frame!!\u001b[0m\u001b[0;34m\u001b[0m\u001b[0;34m\u001b[0m\u001b[0m\n\u001b[0;32m---> 36\u001b[0;31m         \u001b[0mcptmp\u001b[0m\u001b[0;34m.\u001b[0m\u001b[0mExpand\u001b[0m\u001b[0;34m(\u001b[0m \u001b[0mepsilon\u001b[0m \u001b[0;34m=\u001b[0m \u001b[0;36m0.1\u001b[0m\u001b[0;34m,\u001b[0m \u001b[0mmode\u001b[0m \u001b[0;34m=\u001b[0m \u001b[0;34m'isotropic'\u001b[0m \u001b[0;34m)\u001b[0m\u001b[0;34m\u001b[0m\u001b[0;34m\u001b[0m\u001b[0m\n\u001b[0m\u001b[1;32m     37\u001b[0m         \u001b[0md2exp\u001b[0m \u001b[0;34m=\u001b[0m \u001b[0mcptmp\u001b[0m\u001b[0;34m.\u001b[0m\u001b[0mGet\u001b[0m\u001b[0;34m(\u001b[0m\u001b[0;34m)\u001b[0m\u001b[0;34m\u001b[0m\u001b[0;34m\u001b[0m\u001b[0m\n\u001b[1;32m     38\u001b[0m \u001b[0;34m\u001b[0m\u001b[0m\n",
      "\u001b[0;32m~/Desktop/Tmp/txt/git/CrystalPlasticity/postprocess/LammpsPostProcess.py\u001b[0m in \u001b[0;36mExpand\u001b[0;34m(self, epsilon, mode)\u001b[0m\n\u001b[1;32m    400\u001b[0m         \u001b[0;32massert\u001b[0m \u001b[0;34m'xm'\u001b[0m \u001b[0;32min\u001b[0m \u001b[0mdir\u001b[0m\u001b[0;34m(\u001b[0m\u001b[0mself\u001b[0m\u001b[0;34m)\u001b[0m \u001b[0;32mand\u001b[0m \u001b[0;34m'ym'\u001b[0m \u001b[0;32min\u001b[0m \u001b[0mdir\u001b[0m\u001b[0;34m(\u001b[0m\u001b[0mself\u001b[0m\u001b[0;34m)\u001b[0m \u001b[0;32mand\u001b[0m \u001b[0;34m'zm'\u001b[0m \u001b[0;32min\u001b[0m \u001b[0mdir\u001b[0m\u001b[0;34m(\u001b[0m\u001b[0mself\u001b[0m\u001b[0;34m)\u001b[0m\u001b[0;34m,\u001b[0m \u001b[0;34m'mapped coordinates are needed!'\u001b[0m\u001b[0;34m\u001b[0m\u001b[0;34m\u001b[0m\u001b[0m\n\u001b[1;32m    401\u001b[0m         \u001b[0mself\u001b[0m\u001b[0;34m.\u001b[0m\u001b[0mFullCopies\u001b[0m\u001b[0;34m(\u001b[0m\u001b[0;34m)\u001b[0m \u001b[0;31m#--- full copies\u001b[0m\u001b[0;34m\u001b[0m\u001b[0;34m\u001b[0m\u001b[0m\n\u001b[0;32m--> 402\u001b[0;31m         \u001b[0matomsCopied\u001b[0m \u001b[0;34m=\u001b[0m \u001b[0mself\u001b[0m\u001b[0;34m.\u001b[0m\u001b[0mGet\u001b[0m\u001b[0;34m(\u001b[0m\u001b[0;34m)\u001b[0m \u001b[0;31m#--- new atom object\u001b[0m\u001b[0;34m\u001b[0m\u001b[0;34m\u001b[0m\u001b[0m\n\u001b[0m\u001b[1;32m    403\u001b[0m \u001b[0;34m\u001b[0m\u001b[0m\n\u001b[1;32m    404\u001b[0m         indices =  self.isInsideExpanded(np.c_[atomsCopied.xm, atomsCopied.ym, atomsCopied.zm], #--- give mapped coordinates\n",
      "\u001b[0;32m~/Desktop/Tmp/txt/git/CrystalPlasticity/postprocess/LammpsPostProcess.py\u001b[0m in \u001b[0;36mGet\u001b[0;34m(self)\u001b[0m\n\u001b[1;32m    391\u001b[0m \u001b[0;34m\u001b[0m\u001b[0m\n\u001b[1;32m    392\u001b[0m     \u001b[0;32mdef\u001b[0m \u001b[0mGet\u001b[0m\u001b[0;34m(\u001b[0m \u001b[0mself\u001b[0m \u001b[0;34m)\u001b[0m\u001b[0;34m:\u001b[0m\u001b[0;34m\u001b[0m\u001b[0;34m\u001b[0m\u001b[0m\n\u001b[0;32m--> 393\u001b[0;31m         \u001b[0;32mreturn\u001b[0m \u001b[0mAtoms\u001b[0m\u001b[0;34m(\u001b[0m \u001b[0;34m**\u001b[0m\u001b[0mself\u001b[0m\u001b[0;34m.\u001b[0m\u001b[0mdf\u001b[0m\u001b[0;34m.\u001b[0m\u001b[0mto_dict\u001b[0m\u001b[0;34m(\u001b[0m\u001b[0morient\u001b[0m \u001b[0;34m=\u001b[0m \u001b[0;34m'list'\u001b[0m\u001b[0;34m)\u001b[0m \u001b[0;34m)\u001b[0m \u001b[0;31m#--- return atom object\u001b[0m\u001b[0;34m\u001b[0m\u001b[0;34m\u001b[0m\u001b[0m\n\u001b[0m\u001b[1;32m    394\u001b[0m \u001b[0;34m\u001b[0m\u001b[0m\n\u001b[1;32m    395\u001b[0m \u001b[0;34m\u001b[0m\u001b[0m\n",
      "\u001b[0;32m/Library/Frameworks/Python.framework/Versions/3.8/lib/python3.8/site-packages/pandas/core/frame.py\u001b[0m in \u001b[0;36mto_dict\u001b[0;34m(self, orient, into)\u001b[0m\n\u001b[1;32m   1402\u001b[0m             \u001b[0;32mreturn\u001b[0m \u001b[0minto_c\u001b[0m\u001b[0;34m(\u001b[0m\u001b[0;34m(\u001b[0m\u001b[0mk\u001b[0m\u001b[0;34m,\u001b[0m \u001b[0mv\u001b[0m\u001b[0;34m.\u001b[0m\u001b[0mto_dict\u001b[0m\u001b[0;34m(\u001b[0m\u001b[0minto\u001b[0m\u001b[0;34m)\u001b[0m\u001b[0;34m)\u001b[0m \u001b[0;32mfor\u001b[0m \u001b[0mk\u001b[0m\u001b[0;34m,\u001b[0m \u001b[0mv\u001b[0m \u001b[0;32min\u001b[0m \u001b[0mself\u001b[0m\u001b[0;34m.\u001b[0m\u001b[0mitems\u001b[0m\u001b[0;34m(\u001b[0m\u001b[0;34m)\u001b[0m\u001b[0;34m)\u001b[0m\u001b[0;34m\u001b[0m\u001b[0;34m\u001b[0m\u001b[0m\n\u001b[1;32m   1403\u001b[0m         \u001b[0;32melif\u001b[0m \u001b[0morient\u001b[0m\u001b[0;34m.\u001b[0m\u001b[0mlower\u001b[0m\u001b[0;34m(\u001b[0m\u001b[0;34m)\u001b[0m\u001b[0;34m.\u001b[0m\u001b[0mstartswith\u001b[0m\u001b[0;34m(\u001b[0m\u001b[0;34m\"l\"\u001b[0m\u001b[0;34m)\u001b[0m\u001b[0;34m:\u001b[0m\u001b[0;34m\u001b[0m\u001b[0;34m\u001b[0m\u001b[0m\n\u001b[0;32m-> 1404\u001b[0;31m             \u001b[0;32mreturn\u001b[0m \u001b[0minto_c\u001b[0m\u001b[0;34m(\u001b[0m\u001b[0;34m(\u001b[0m\u001b[0mk\u001b[0m\u001b[0;34m,\u001b[0m \u001b[0mv\u001b[0m\u001b[0;34m.\u001b[0m\u001b[0mtolist\u001b[0m\u001b[0;34m(\u001b[0m\u001b[0;34m)\u001b[0m\u001b[0;34m)\u001b[0m \u001b[0;32mfor\u001b[0m \u001b[0mk\u001b[0m\u001b[0;34m,\u001b[0m \u001b[0mv\u001b[0m \u001b[0;32min\u001b[0m \u001b[0mself\u001b[0m\u001b[0;34m.\u001b[0m\u001b[0mitems\u001b[0m\u001b[0;34m(\u001b[0m\u001b[0;34m)\u001b[0m\u001b[0;34m)\u001b[0m\u001b[0;34m\u001b[0m\u001b[0;34m\u001b[0m\u001b[0m\n\u001b[0m\u001b[1;32m   1405\u001b[0m         \u001b[0;32melif\u001b[0m \u001b[0morient\u001b[0m\u001b[0;34m.\u001b[0m\u001b[0mlower\u001b[0m\u001b[0;34m(\u001b[0m\u001b[0;34m)\u001b[0m\u001b[0;34m.\u001b[0m\u001b[0mstartswith\u001b[0m\u001b[0;34m(\u001b[0m\u001b[0;34m\"sp\"\u001b[0m\u001b[0;34m)\u001b[0m\u001b[0;34m:\u001b[0m\u001b[0;34m\u001b[0m\u001b[0;34m\u001b[0m\u001b[0m\n\u001b[1;32m   1406\u001b[0m             return into_c(\n",
      "\u001b[0;32m/Library/Frameworks/Python.framework/Versions/3.8/lib/python3.8/site-packages/pandas/core/frame.py\u001b[0m in \u001b[0;36m<genexpr>\u001b[0;34m(.0)\u001b[0m\n\u001b[1;32m   1402\u001b[0m             \u001b[0;32mreturn\u001b[0m \u001b[0minto_c\u001b[0m\u001b[0;34m(\u001b[0m\u001b[0;34m(\u001b[0m\u001b[0mk\u001b[0m\u001b[0;34m,\u001b[0m \u001b[0mv\u001b[0m\u001b[0;34m.\u001b[0m\u001b[0mto_dict\u001b[0m\u001b[0;34m(\u001b[0m\u001b[0minto\u001b[0m\u001b[0;34m)\u001b[0m\u001b[0;34m)\u001b[0m \u001b[0;32mfor\u001b[0m \u001b[0mk\u001b[0m\u001b[0;34m,\u001b[0m \u001b[0mv\u001b[0m \u001b[0;32min\u001b[0m \u001b[0mself\u001b[0m\u001b[0;34m.\u001b[0m\u001b[0mitems\u001b[0m\u001b[0;34m(\u001b[0m\u001b[0;34m)\u001b[0m\u001b[0;34m)\u001b[0m\u001b[0;34m\u001b[0m\u001b[0;34m\u001b[0m\u001b[0m\n\u001b[1;32m   1403\u001b[0m         \u001b[0;32melif\u001b[0m \u001b[0morient\u001b[0m\u001b[0;34m.\u001b[0m\u001b[0mlower\u001b[0m\u001b[0;34m(\u001b[0m\u001b[0;34m)\u001b[0m\u001b[0;34m.\u001b[0m\u001b[0mstartswith\u001b[0m\u001b[0;34m(\u001b[0m\u001b[0;34m\"l\"\u001b[0m\u001b[0;34m)\u001b[0m\u001b[0;34m:\u001b[0m\u001b[0;34m\u001b[0m\u001b[0;34m\u001b[0m\u001b[0m\n\u001b[0;32m-> 1404\u001b[0;31m             \u001b[0;32mreturn\u001b[0m \u001b[0minto_c\u001b[0m\u001b[0;34m(\u001b[0m\u001b[0;34m(\u001b[0m\u001b[0mk\u001b[0m\u001b[0;34m,\u001b[0m \u001b[0mv\u001b[0m\u001b[0;34m.\u001b[0m\u001b[0mtolist\u001b[0m\u001b[0;34m(\u001b[0m\u001b[0;34m)\u001b[0m\u001b[0;34m)\u001b[0m \u001b[0;32mfor\u001b[0m \u001b[0mk\u001b[0m\u001b[0;34m,\u001b[0m \u001b[0mv\u001b[0m \u001b[0;32min\u001b[0m \u001b[0mself\u001b[0m\u001b[0;34m.\u001b[0m\u001b[0mitems\u001b[0m\u001b[0;34m(\u001b[0m\u001b[0;34m)\u001b[0m\u001b[0;34m)\u001b[0m\u001b[0;34m\u001b[0m\u001b[0;34m\u001b[0m\u001b[0m\n\u001b[0m\u001b[1;32m   1405\u001b[0m         \u001b[0;32melif\u001b[0m \u001b[0morient\u001b[0m\u001b[0;34m.\u001b[0m\u001b[0mlower\u001b[0m\u001b[0;34m(\u001b[0m\u001b[0;34m)\u001b[0m\u001b[0;34m.\u001b[0m\u001b[0mstartswith\u001b[0m\u001b[0;34m(\u001b[0m\u001b[0;34m\"sp\"\u001b[0m\u001b[0;34m)\u001b[0m\u001b[0;34m:\u001b[0m\u001b[0;34m\u001b[0m\u001b[0;34m\u001b[0m\u001b[0m\n\u001b[1;32m   1406\u001b[0m             return into_c(\n",
      "\u001b[0;32m/Library/Frameworks/Python.framework/Versions/3.8/lib/python3.8/site-packages/pandas/core/base.py\u001b[0m in \u001b[0;36mtolist\u001b[0;34m(self)\u001b[0m\n\u001b[1;32m   1020\u001b[0m             \u001b[0;32mreturn\u001b[0m \u001b[0mlist\u001b[0m\u001b[0;34m(\u001b[0m\u001b[0mself\u001b[0m\u001b[0;34m.\u001b[0m\u001b[0m_values\u001b[0m\u001b[0;34m)\u001b[0m\u001b[0;34m\u001b[0m\u001b[0;34m\u001b[0m\u001b[0m\n\u001b[1;32m   1021\u001b[0m         \u001b[0;32melse\u001b[0m\u001b[0;34m:\u001b[0m\u001b[0;34m\u001b[0m\u001b[0;34m\u001b[0m\u001b[0m\n\u001b[0;32m-> 1022\u001b[0;31m             \u001b[0;32mreturn\u001b[0m \u001b[0mself\u001b[0m\u001b[0;34m.\u001b[0m\u001b[0m_values\u001b[0m\u001b[0;34m.\u001b[0m\u001b[0mtolist\u001b[0m\u001b[0;34m(\u001b[0m\u001b[0;34m)\u001b[0m\u001b[0;34m\u001b[0m\u001b[0;34m\u001b[0m\u001b[0m\n\u001b[0m\u001b[1;32m   1023\u001b[0m \u001b[0;34m\u001b[0m\u001b[0m\n\u001b[1;32m   1024\u001b[0m     \u001b[0mto_list\u001b[0m \u001b[0;34m=\u001b[0m \u001b[0mtolist\u001b[0m\u001b[0;34m\u001b[0m\u001b[0;34m\u001b[0m\u001b[0m\n",
      "\u001b[0;31mKeyboardInterrupt\u001b[0m: "
     ]
    }
   ],
   "source": [
    "def PltBitmapWithScatter( value, xyScatter,\n",
    "              xlabel = 'x', ylabel = 'y',\n",
    "              xlim = (-0.5,0.5), ylim = (-0.5,0.5),\n",
    "              frac = 1.0, #--- plot a patch\n",
    "              zscore = True,\n",
    "              title = 'cxy.png',\n",
    "              colorbar=False,\n",
    "              ticklabels=True,\n",
    "              **kwargs\n",
    "             ):\n",
    "        \n",
    "    val = value.copy()\n",
    "    #--- z-score\n",
    "    if zscore:\n",
    "        val -= np.mean(val)\n",
    "        val /= np.std(val)\n",
    "        val[val>2.0]=1.0\n",
    "        val[val<-2.0]=-1.0\n",
    "    #--- plot\n",
    "    (mgrid,ngrid) = val.shape\n",
    "    center = (ngrid/2,mgrid/2)\n",
    "    #\n",
    "    aspect = (ylim[1]-ylim[0])/(xlim[1]-xlim[0])\n",
    "    fig = plt.figure(figsize=(4,4*aspect))\n",
    "    ax = fig.add_subplot(111)\n",
    "    ax.set_xlabel(xlabel,fontsize=16)\n",
    "    ax.set_ylabel(ylabel,fontsize=16)\n",
    "    ax.tick_params(labelsize=16,which='both',axis='both', top=True, right=True)\n",
    "    if not ticklabels:\n",
    "        ax.axes.xaxis.set_visible(False)\n",
    "        ax.axes.yaxis.set_visible(False)\n",
    "    #\n",
    "    pos = ax.imshow(val.real,cmap='bwr',\n",
    "                     extent=(xlim[0],xlim[1],ylim[0],ylim[1]),origin='lower')# ,vmin=-.6, vmax=.6)\n",
    "    \n",
    "    ax.scatter(xyScatter[:,0],xyScatter[:,1],\n",
    "           alpha=1,color='black',marker='o',s=20)\n",
    "        \n",
    "        \n",
    "    if colorbar:\n",
    "        ax.colorbar( pos, fraction = 0.04)\n",
    "    if 'DrawFrame' in kwargs: \n",
    "        DrawFrame(ax, *kwargs['DrawFrame'])\n",
    "    plt.savefig(title,dpi=2*75,bbox_inches='tight',pad_inches=0.0)\n",
    "    plt.show()\n",
    "    \n",
    "\n",
    "\n",
    "def PlotDminVor( lmpData, lmpDmin, times,\n",
    "                   title='d2min',\n",
    "               ):\n",
    "    \n",
    "    for itime in sorted(times):\n",
    "#         pdb.set_trace()\n",
    "        #--- dmin\n",
    "        (xlin, ylin, zlin), d2intrp = Intrp(lmpDmin, \n",
    "                                            times = [itime],\n",
    "                                            time0 =0,\n",
    "                                            Plot = None,\n",
    "                                           )\n",
    "#         pdb.set_trace()\n",
    "        #--- reshape value\n",
    "        nx,ny,nz = len(xlin), len(ylin),len(zlin) \n",
    "        value = np.c_[d2intrp[itime].d2min].reshape(((ny,nx,nz)))\n",
    "\n",
    "        #--- xy plane\n",
    "        val = value[:,:,-1].copy()\n",
    "\n",
    "\n",
    "        #--- icosahedra\n",
    "        vor = lp.Atoms( **lmpData.coord_atoms_broken[itime].to_dict(orient='list') )\n",
    "        \n",
    "        #--- map\n",
    "        box = lp.Box( BoxBounds = lmpData.BoxBounds[itime] )\n",
    "        box.BasisVectors( AddMissing = np.array([0.0,0.0,0.0] ))\n",
    "        #\n",
    "        mapp = lp.Map( vor, box ) \n",
    "        mapp.ChangeBasis()\n",
    "        mapp.Set( vor ) #--- atoms: add mapped xyz\n",
    "\n",
    "        #--- filter\n",
    "        indices = GetFullIcosahedra( vor )\n",
    "        dz = zlin[-1]-zlin[-2]\n",
    "#        dz *= 2\n",
    "        lz = zlin[-1]-zlin[0]\n",
    "#        pdb.set_trace()\n",
    "        indxx= np.any([vor.zm > zlin[-1]-dz, \n",
    "                       vor.zm < (zlin[-1]+dz-zlin[0]) % lz + zlin[0]\n",
    "                      ],\n",
    "                        axis=0)\n",
    "        indxx = np.all([indxx,indices],axis=0)\n",
    "\n",
    "        #\n",
    "        PltBitmapWithScatter(val, \n",
    "                      np.c_[np.array(vor.xm)[indxx],np.array(vor.ym)[indxx]],\n",
    "                      xlabel = '', ylabel = '',\n",
    "    #                  xlim=VectorNorm[0]*np.array([0.0,1.0]),ylim=VectorNorm[1]*np.array([0.0,1.0]),\n",
    "                      xlim=np.array([xlin[0],xlin[-1]]),ylim=np.array([ylin[0],ylin[-1]]),\n",
    "                      zscore = True,\n",
    "                      frac = 1.0, #--- plot a patch\n",
    "                      title = '%s%s.png'%(title,itime),\n",
    "                      colorbar=None,\n",
    "                      ticklabels = None,\n",
    " #                     DrawFrame=[0.2,0.09,0.15,0.06,0.04],\n",
    "                      )\n",
    "\n",
    "    \n",
    "if DminAnalysis and VorAnl:\n",
    "\n",
    "    PlotDminVor( lmpData, lmpDmin, \n",
    "                 times = [2000000],#list(lmpData.coord_atoms_broken.keys()),\n",
    "                title='d2minBad',\n",
    "               )\n",
    "\n",
    "\n",
    "    "
   ]
  },
  {
   "cell_type": "markdown",
   "metadata": {},
   "source": [
    "## SRO density"
   ]
  },
  {
   "cell_type": "code",
   "execution_count": 598,
   "metadata": {
    "scrolled": false
   },
   "outputs": [
    {
     "name": "stdout",
     "output_type": "stream",
     "text": [
      "InputFile= junk.xyz\n",
      "num_frames= 1\n",
      "0\n"
     ]
    },
    {
     "data": {
      "image/png": "[encoded data removed]",
      "text/plain": [
       "<Figure size 288x288 with 1 Axes>"
      ]
     },
     "metadata": {
      "needs_background": "light"
     },
     "output_type": "display_data"
    },
    {
     "ename": "ValueError",
     "evalue": "all the input array dimensions for the concatenation axis must match exactly, but along dimension 0, the array at index 0 has size 2 and the array at index 1 has size 1",
     "output_type": "error",
     "traceback": [
      "\u001b[0;31m---------------------------------------------------------------------------\u001b[0m",
      "\u001b[0;31mValueError\u001b[0m                                Traceback (most recent call last)",
      "\u001b[0;32m<ipython-input-598-960da5d9f075>\u001b[0m in \u001b[0;36m<module>\u001b[0;34m\u001b[0m\n\u001b[1;32m    121\u001b[0m                      time0 = 0 )\n\u001b[1;32m    122\u001b[0m     np.savetxt('crsD2minRhoSro.txt',\n\u001b[0;32m--> 123\u001b[0;31m                \u001b[0mnp\u001b[0m\u001b[0;34m.\u001b[0m\u001b[0mc_\u001b[0m\u001b[0;34m[\u001b[0m\u001b[0mvaluesDict\u001b[0m\u001b[0;34m(\u001b[0m\u001b[0mstrn\u001b[0m\u001b[0;34m,\u001b[0m\u001b[0mstrn\u001b[0m\u001b[0;34m.\u001b[0m\u001b[0mkeys\u001b[0m\u001b[0;34m(\u001b[0m\u001b[0;34m)\u001b[0m\u001b[0;34m)\u001b[0m\u001b[0;34m,\u001b[0m \u001b[0mvaluesDict\u001b[0m\u001b[0;34m(\u001b[0m\u001b[0mcrs\u001b[0m\u001b[0;34m,\u001b[0m\u001b[0mcrs\u001b[0m\u001b[0;34m.\u001b[0m\u001b[0mkeys\u001b[0m\u001b[0;34m(\u001b[0m\u001b[0;34m)\u001b[0m\u001b[0;34m)\u001b[0m\u001b[0;34m]\u001b[0m\u001b[0;34m,\u001b[0m\u001b[0;34m\u001b[0m\u001b[0;34m\u001b[0m\u001b[0m\n\u001b[0m\u001b[1;32m    124\u001b[0m                header='gamma\\tCrltnCoeff')\n",
      "\u001b[0;32m/Library/Frameworks/Python.framework/Versions/3.8/lib/python3.8/site-packages/numpy/lib/index_tricks.py\u001b[0m in \u001b[0;36m__getitem__\u001b[0;34m(self, key)\u001b[0m\n\u001b[1;32m    404\u001b[0m                 \u001b[0mobjs\u001b[0m\u001b[0;34m[\u001b[0m\u001b[0mk\u001b[0m\u001b[0;34m]\u001b[0m \u001b[0;34m=\u001b[0m \u001b[0mobjs\u001b[0m\u001b[0;34m[\u001b[0m\u001b[0mk\u001b[0m\u001b[0;34m]\u001b[0m\u001b[0;34m.\u001b[0m\u001b[0mastype\u001b[0m\u001b[0;34m(\u001b[0m\u001b[0mfinal_dtype\u001b[0m\u001b[0;34m)\u001b[0m\u001b[0;34m\u001b[0m\u001b[0;34m\u001b[0m\u001b[0m\n\u001b[1;32m    405\u001b[0m \u001b[0;34m\u001b[0m\u001b[0m\n\u001b[0;32m--> 406\u001b[0;31m         \u001b[0mres\u001b[0m \u001b[0;34m=\u001b[0m \u001b[0mself\u001b[0m\u001b[0;34m.\u001b[0m\u001b[0mconcatenate\u001b[0m\u001b[0;34m(\u001b[0m\u001b[0mtuple\u001b[0m\u001b[0;34m(\u001b[0m\u001b[0mobjs\u001b[0m\u001b[0;34m)\u001b[0m\u001b[0;34m,\u001b[0m \u001b[0maxis\u001b[0m\u001b[0;34m=\u001b[0m\u001b[0maxis\u001b[0m\u001b[0;34m)\u001b[0m\u001b[0;34m\u001b[0m\u001b[0;34m\u001b[0m\u001b[0m\n\u001b[0m\u001b[1;32m    407\u001b[0m \u001b[0;34m\u001b[0m\u001b[0m\n\u001b[1;32m    408\u001b[0m         \u001b[0;32mif\u001b[0m \u001b[0mmatrix\u001b[0m\u001b[0;34m:\u001b[0m\u001b[0;34m\u001b[0m\u001b[0;34m\u001b[0m\u001b[0m\n",
      "\u001b[0;32m<__array_function__ internals>\u001b[0m in \u001b[0;36mconcatenate\u001b[0;34m(*args, **kwargs)\u001b[0m\n",
      "\u001b[0;31mValueError\u001b[0m: all the input array dimensions for the concatenation axis must match exactly, but along dimension 0, the array at index 0 has size 2 and the array at index 1 has size 1"
     ]
    }
   ],
   "source": [
    "def CrssCrltn(x,y):        \n",
    "    x-=np.mean(x)\n",
    "    x/=np.std(x)\n",
    "\n",
    "    y-=np.mean(y)\n",
    "    y/=np.std(y)\n",
    "\n",
    "    return (np.sum(x*y)/len(x))\n",
    "\n",
    "\n",
    "def sroDensity( lmpData, lmpDmin,\n",
    "                times, AtomicRadius,     \n",
    "                  Plot = True, PLOT_AVERAGE = True, title='scatterD2minRho.png',\n",
    "                 axisLabels = True,\n",
    "               \n",
    "                ):\n",
    "\n",
    "    vorFiltrd = {}\n",
    "    d2minFiltrd={}\n",
    "    crs={}\n",
    "    for itimee in sorted(times): \n",
    "\n",
    "        #--- plot\n",
    "        if Plot:\n",
    "            fig = plt.figure(figsize=(4,4))\n",
    "            ax = fig.add_subplot(111)\n",
    "            #\n",
    "\n",
    "        \n",
    "        #--- strain\n",
    "        ebulk = GetStrain(lmpData, [itimee], 0 )[itimee]\n",
    "\n",
    "\n",
    "        #--- d2min and vor\n",
    "        d2min = lp.Atoms( **lmpDmin.coord_atoms_broken[itimee].to_dict(orient='list') )\n",
    "        vor = lp.Atoms( **lmpData.coord_atoms_broken[itimee].to_dict(orient='list') )\n",
    "\n",
    "        #--- filter\n",
    "        indices = GetFullIcosahedra( vor )\n",
    "\n",
    "        \n",
    "        #--- output dump file (apply filtering), run ovitos\n",
    "#        pdb.set_trace()\n",
    "        atomFiltrd = lp.Atoms(**pd.DataFrame(vor.__dict__)[indices].to_dict(orient='list')) #--- filter atoms\n",
    "        box = lp.Box( BoxBounds = lmpData.BoxBounds[itimee] )\n",
    "        box.BasisVectors( AddMissing = np.array([0.0,0.0,0.0] ))\n",
    "        #\n",
    "        wdf = lp.WriteDumpFile(atomFiltrd,box)\n",
    "        wdf.Write('junk.xyz')\n",
    "        #--- load to ovitos\n",
    "        rad1=AtomicRadius[1]\n",
    "        rad2=AtomicRadius[2]\n",
    "        rad3=AtomicRadius[3]\n",
    "        rad4=AtomicRadius[4]\n",
    "        rad5=AtomicRadius[5]\n",
    "        !ovitos OvitosCna.py 'junk.xyz' 'VoronoiFiltrd.xyz' 1 3 $rad1 $rad2 $rad3 $rad4 $rad5 \n",
    "    \n",
    "        #--- read from ovito output\n",
    "        lmpDataFiltrd = lp.ReadDumpFile( 'VoronoiFiltrd.xyz' )\n",
    "        lmpDataFiltrd.GetCords( ncount = sys.maxsize )\n",
    "        #\n",
    "        vorFiltrd[itimee] = lp.Atoms( **lmpDataFiltrd.coord_atoms_broken[0].to_dict(orient='list') )\n",
    "        #--- filter d2min\n",
    "        d2minFiltrd[itimee] = lp.Atoms(**pd.DataFrame(d2min.__dict__)[indices].to_dict(orient='list')) #--- filter atoms\n",
    "\n",
    "        #--- cross crltn.\n",
    "        x = 1.0/np.array(vorFiltrd[itimee].AtomicVolume)\n",
    "        y = np.array(d2minFiltrd[itimee].d2min)\n",
    "        crs[itimee] = CrssCrltn( np.log10(x.copy()), np.log10(y.copy()) )\n",
    "        \n",
    "        if Plot:\n",
    "            ax.scatter(x,y,alpha=0.02)\n",
    "\n",
    "            if PLOT_AVERAGE:\n",
    "                xb, yb, err_x, err_y = GetBinnedAverage( np.log10(x), np.log10(y), nbins_per_decade = 8 )\n",
    "                ax.errorbar(x=10**xb,y=10**yb,yerr=1e-6*err_y,xerr=1e-6*err_x,\n",
    "                    fmt='-o', markersize=8,color='red',markerfacecolor='red',markeredgewidth=0.7,\n",
    "                    linewidth=.5, barsabove=None,capsize=5,capthick=1,elinewidth=1)\n",
    "\n",
    "                def func(x,a,b):\n",
    "                    return a*x+b\n",
    "                z = np.polyfit(xb, yb, 1)\n",
    "\n",
    "                label = r'$%2.1e.x+%2.1e$'%(z[0],z[1])\n",
    "            \n",
    "    if Plot:\n",
    "#        makeTickLabels(ax, x, y)\n",
    "        #\n",
    "        ax.set_yscale('log')\n",
    "        ax.set_xscale('log')\n",
    "        #\n",
    "        if axisLabels:\n",
    "            ax.set_ylabel(r'$D^2$min($A^2$)',fontsize=16)\n",
    "            ax.set_xlabel(r'$\\rho_{sro}$',fontsize=16)\n",
    "        #\n",
    "        ax.set_title(r'cxy=%3.2e'%crs[itimee],fontsize=16)\n",
    "        #\n",
    "#        ax.legend(frameon=False, fontsize=12)\n",
    "        #\n",
    "        ax.tick_params(labelsize=20,which='both',axis='both', top=True, right=True)\n",
    "#        DrawFrame(ax, 0.2,0.09,0.15,0.06,0.04,LOG_X=True,LOG_Y=True)\n",
    "        #\n",
    "        plt.savefig(title,dpi=2*75,bbox_inches='tight',pad_inches=0.0)\n",
    "        plt.show()\n",
    "        \n",
    "    return vorFiltrd, d2minFiltrd, crs\n",
    "\n",
    "\n",
    "if DminAnalysis and VorAnl:\n",
    "    \n",
    "    sro, d2min, crs = sroDensity( lmpData, lmpDmin,\n",
    "                      #times = list(lmpData.coord_atoms_broken.keys()), \n",
    "                       times=[2000000],\n",
    "                       AtomicRadius=AtomicRadius,\n",
    "                       Plot = True, \n",
    "                       PLOT_AVERAGE = True,\n",
    "                           )\n",
    "    #--- save\n",
    "    strn = GetStrain(lmpData, \n",
    "                     times = list(lmpData.coord_atoms_broken.keys()), \n",
    "                     time0 = 0 )\n",
    "    np.savetxt('crsD2minRhoSro.txt',\n",
    "               np.c_[valuesDict(strn,strn.keys()), valuesDict(crs,crs.keys())], \n",
    "               header='gamma\\tCrltnCoeff')\n"
   ]
  },
  {
   "cell_type": "code",
   "execution_count": 543,
   "metadata": {},
   "outputs": [
    {
     "data": {
      "text/plain": [
       "'/Users/Home/Desktop/Tmp/txt/Co5Cr5Fe40Mn27Ni26_glass.dump'"
      ]
     },
     "execution_count": 543,
     "metadata": {},
     "output_type": "execute_result"
    }
   ],
   "source": [
    "fileName"
   ]
  },
  {
   "cell_type": "code",
   "execution_count": null,
   "metadata": {},
   "outputs": [],
   "source": [
    "#pd.DataFrame(sro[2000000].__dict__).head()"
   ]
  },
  {
   "cell_type": "markdown",
   "metadata": {},
   "source": [
    "### multiple systems"
   ]
  },
  {
   "cell_type": "code",
   "execution_count": 542,
   "metadata": {
    "scrolled": false
   },
   "outputs": [
    {
     "data": {
      "image/png": "[encoded data removed]",
      "text/plain": [
       "<Figure size 288x288 with 1 Axes>"
      ]
     },
     "metadata": {
      "needs_background": "light"
     },
     "output_type": "display_data"
    }
   ],
   "source": [
    "if not RemoteMachine:\n",
    "    #\n",
    "    matplotlib.rcParams['text.usetex'] = True #--- comment tex stuff!\n",
    "    #\n",
    "    nfreq = 1\n",
    "    #\n",
    "    colors = ['black','red','green','blue','cyan','brown','grey','magenta','orange','yellow']\n",
    "    fillstyles=['white',None,'white',None,'white',None,'white',None,'white',None,'white',None,'white',None,'white',None]\n",
    "    markers=['o','s','D','^','<','>','v']\n",
    "    #\n",
    "    fig = plt.figure( figsize = (4,4))\n",
    "    ax = fig.add_subplot(111)\n",
    "    ax.set_xlabel(r'$\\gamma$',fontsize=20)\n",
    "    ax.set_ylabel(r'$\\langle D^2_{min} . \\rho_{sro}\\rangle$',fontsize=20)\n",
    "    ax.xaxis.set_minor_locator(AutoMinorLocator(2))\n",
    "    ax.yaxis.set_minor_locator(AutoMinorLocator(2))\n",
    "    ax.tick_params(labelsize=20,which='both',axis='both', top=True, right=True)\n",
    "    #ax.set_title()\n",
    "    #\n",
    "    for GlassType, marker, color, fillstyle in list(zip( [ \n",
    "                                         'FeNi/Run0',\n",
    "                                         'CoNiFe/Run0',\n",
    "                                        'CoNiCrFe/Run2',\n",
    "                                         'CoCrFeMn/Run0', \n",
    "                                         'CoNiCrFeMn/Run1', \n",
    "                                        'Co5Cr2Fe40Mn27Ni26/Run0'\n",
    "                                        ],markers, colors, fillstyles )):\n",
    "\n",
    "        sarr  = np.loadtxt('d2minRatio%s/crsD2minRhoSro.txt'%GlassType)\n",
    "        #--- fliter\n",
    "        ydata = sarr[:,1] #--- first 2nd col is stress drop\n",
    "        xdata = sarr[:,0] #--- 2nd and 3rd cols are widths\n",
    "    #\n",
    "        ax.plot(xdata,ydata,\n",
    "                linestyle='-',\n",
    "                markersize=10,\n",
    "                color=color,\n",
    "                marker=marker,\n",
    "                markerfacecolor=fillstyle,\n",
    "                markeredgecolor='black' if not fillstyle else None,\n",
    "                markevery=int(len(xdata)/10),\n",
    "                label = '%s'%GlassType[0:-5])\n",
    "    #\n",
    "#    ax.legend(frameon=False, fontsize=12)\n",
    "#     #\n",
    "#     DrawFrame(ax, 0.2,0.09,0.15,0.06,0.04)\n",
    "    #\n",
    "    plt.savefig('D2minGamma.png',dpi=2*75,bbox_inches='tight',pad_inches=0.0)\n",
    "    plt.show()"
   ]
  },
  {
   "cell_type": "markdown",
   "metadata": {},
   "source": [
    "# Local Order Analysis"
   ]
  },
  {
   "cell_type": "code",
   "execution_count": 362,
   "metadata": {},
   "outputs": [
    {
     "name": "stdout",
     "output_type": "stream",
     "text": [
      "InputFile= /Users/Home/Desktop/Tmp/txt/FeNi_glass.dump\n",
      "num_frames= 201\n"
     ]
    }
   ],
   "source": [
    "if CommonNeighAnl and not Ovitos:\n",
    "    if not TimeSeries:\n",
    "        #--- extract atom and box properties\n",
    "        cna = lp.Atoms( **lmpCna.coord_atoms_broken[itime].to_dict(orient='list') )\n",
    "    else:\n",
    "        cna = {}\n",
    "        for iitime in lmpCna.coord_atoms_broken:\n",
    "            cna[iitime] = lp.Atoms( **lmpCna.coord_atoms_broken[iitime].to_dict(orient='list') )\n",
    "\n",
    "if CommonNeighAnl and Ovitos:            \n",
    "    !ovitos OvitosCna.py $fileName Cna.xyz $nevery 0"
   ]
  },
  {
   "cell_type": "code",
   "execution_count": 364,
   "metadata": {},
   "outputs": [],
   "source": [
    "#--- read from d2min.xyz\n",
    "if CommonNeighAnl and Ovitos:\n",
    "    lmpData = lp.ReadDumpFile( 'Cna.xyz' )\n",
    "    lmpData.GetCords( ncount = sys.maxsize)"
   ]
  },
  {
   "cell_type": "markdown",
   "metadata": {},
   "source": [
    "## Histograms"
   ]
  },
  {
   "cell_type": "code",
   "execution_count": 365,
   "metadata": {},
   "outputs": [
    {
     "data": {
      "image/png": "[encoded data removed]",
      "text/plain": [
       "<Figure size 432x288 with 1 Axes>"
      ]
     },
     "metadata": {
      "needs_background": "light"
     },
     "output_type": "display_data"
    }
   ],
   "source": [
    "if CommonNeighAnl and not TimeSeries:\n",
    "    cna = lp.Atoms( **lmpData.coord_atoms_broken[itime].to_dict(orient='list') )\n",
    "    #\n",
    "    plt.yscale('log')\n",
    "    plt.ylim(1,1e6)\n",
    "    plt.xlabel('Type')\n",
    "    plt.ylabel('Frequency')\n",
    "    #\n",
    "    x, y = np.unique(pd.DataFrame(cna.__dict__)['StructureType'], return_counts=True) #bug !!! len(y)!=5\n",
    "    #\n",
    "    count=np.zeros(5,dtype=int)\n",
    "    for typee in x:\n",
    "        count[int(typee)] = y[int(typee)]\n",
    "    #\n",
    "    plt.bar(x, count)\n",
    "    #\n",
    "    plt.show()\n",
    "    #--- strain\n",
    "    dx=box.CellVector[0,1]-box0.CellVector[0,1]\n",
    "    l1=box.CellVector[1,1]\n",
    "    ebulk = np.array([dx/l1])\n",
    "\n",
    "    #--- save\n",
    "    np.savetxt('StructureTypeCounts.txt',np.concatenate([ebulk,count]).reshape((1,6)),\n",
    "               header='Strain,n0,n1,n2,n3,n4', fmt='%s')\n"
   ]
  },
  {
   "cell_type": "markdown",
   "metadata": {},
   "source": [
    "## output timeseries"
   ]
  },
  {
   "cell_type": "code",
   "execution_count": 378,
   "metadata": {},
   "outputs": [],
   "source": [
    "if CommonNeighAnl:\n",
    "    #\n",
    "    times = list(lmpData.coord_atoms_broken.keys())\n",
    "    times.sort()\n",
    "    ntime = len(times)\n",
    "    ebulk = np.zeros( ntime )\n",
    "    Count = np.zeros(ntime*5).reshape((ntime,5))\n",
    "    #\n",
    "    for iitime, indxx in zip(times,range(ntime)):\n",
    "        cna = lp.Atoms( **lmpData.coord_atoms_broken[iitime].to_dict(orient='list') )\n",
    "        #\n",
    "        x, y = np.unique(pd.DataFrame(cna.__dict__)['StructureType'], return_counts=True) #bug !!! len(y)!=5\n",
    "        #\n",
    "        for typee, count in zip(x,y):\n",
    "            typee = int(typee)\n",
    "            count = int(count)\n",
    "            Count[indxx,typee] = count\n",
    "        #\n",
    "        #--- strain\n",
    "        if indxx == 0:\n",
    "            box0 = lp.Box( BoxBounds = lmpData.BoxBounds[0] )\n",
    "            box0.BasisVectors( AddMissing = np.array([0.0,0.0,0.0] ))\n",
    "\n",
    "        box = lp.Box( BoxBounds = lmpData.BoxBounds[iitime] )\n",
    "        box.BasisVectors( AddMissing = np.array([0.0,0.0,0.0] ))\n",
    "        #\n",
    "        #--- volume\n",
    "        CellVectorOrtho, VectorNorm = lp.GetOrthogonalBasis( box.CellVector )\n",
    "        volume = np.linalg.det( CellVectorOrtho )\n",
    "        #--- bulk strain\n",
    "        dx=box.CellVector[0,1]-box0.CellVector[0,1]\n",
    "        l1=box.CellVector[1,1]\n",
    "        ebulk[indxx] = dx/l1\n",
    "\n",
    "    #--- save\n",
    "    np.savetxt('StructureTypeCounts.txt',np.c_[ebulk,Count].reshape((ntime,6)),\n",
    "               header='Strain,n0,n1,n2,n3,n4', fmt='%s')\n"
   ]
  },
  {
   "cell_type": "markdown",
   "metadata": {},
   "source": [
    "### Multiple Frames"
   ]
  },
  {
   "cell_type": "code",
   "execution_count": 379,
   "metadata": {},
   "outputs": [
    {
     "data": {
      "image/png": "[encoded data removed]",
      "text/plain": [
       "<Figure size 288x288 with 1 Axes>"
      ]
     },
     "metadata": {
      "needs_background": "light"
     },
     "output_type": "display_data"
    }
   ],
   "source": [
    "if CommonNeighAnl:\n",
    "    path = '.'\n",
    "    sarr = np.loadtxt('%s/StructureTypeCounts.txt'%path)\n",
    "\n",
    "    #\n",
    "    fig = plt.figure(figsize=(4,4))\n",
    "    ax = fig.add_subplot(111)\n",
    "    ax.set_xlabel('$\\gamma$')\n",
    "    ax.set_ylabel('Frequency')\n",
    "    ax.set_ylim(1e0,1e3)\n",
    "    ax.set_yscale('log')\n",
    "    #\n",
    "    #ax.plot(sarr[:,0],sarr[:,1],label='Other')\n",
    "    ax.plot(sarr[:,0],sarr[:,2],label='FCC')\n",
    "    ax.plot(sarr[:,0],sarr[:,3],label='HCP')\n",
    "    ax.plot(sarr[:,0],sarr[:,4],label='BCC')\n",
    "    ax.plot(sarr[:,0],sarr[:,5],label='ICO')\n",
    "    #\n",
    "    ax.legend(frameon=False)\n",
    "    plt.savefig('StructureTypeGamma.png',dpi=75,bbox_inches='tight')\n",
    "    plt.show()"
   ]
  },
  {
   "cell_type": "code",
   "execution_count": 389,
   "metadata": {
    "scrolled": false
   },
   "outputs": [
    {
     "data": {
      "image/png": "[encoded data removed]",
      "text/plain": [
       "<Figure size 288x288 with 1 Axes>"
      ]
     },
     "metadata": {
      "needs_background": "light"
     },
     "output_type": "display_data"
    }
   ],
   "source": [
    "if not RemoteMachine:\n",
    "    matplotlib.rcParams['text.usetex'] = True #--- comment tex stuff!\n",
    "    #\n",
    "    colors = ['black','red','green','blue','cyan','brown','grey','magenta','orange','yellow']\n",
    "    fillstyles=['white',None,'white',None,'white',None,'white',None,'white',None,'white',None,'white',None,'white',None]\n",
    "    markers=['o','s','D','^','<','>','v']\n",
    "    #\n",
    "    fig = plt.figure( figsize = (4,4))\n",
    "    ax = fig.add_subplot(111)\n",
    "    #\n",
    "    ax.set_ylim(1e0,1e3)\n",
    "    \n",
    "    ax.set_yscale('log')\n",
    "    #\n",
    "#    ax.set_xlabel(r'$\\gamma$',fontsize=20)\n",
    "#    ax.set_ylabel(r'$\\sigma/\\mu$',fontsize=20)\n",
    "    #\n",
    "    ax.xaxis.set_minor_locator(AutoMinorLocator(2))\n",
    "    ax.yaxis.set_minor_locator(AutoMinorLocator(2))\n",
    "    #--- add major yticks\n",
    "    ymin=np.ceil(np.log10(ax.axis()[2]))\n",
    "    ymax=np.floor(np.log10(ax.axis()[3]))\n",
    "    nbin = ymax - ymin\n",
    "    ax.set_yticks(np.logspace(ymin,ymax,int(nbin)+1))\n",
    "    #\n",
    "    #--- put minor bins y\n",
    "    locmin = matplotlib.ticker.LogLocator(base=10.0,subs=(0.1,0.2,0.3,0.4,0.5,0.6,0.7,0.8,0.9,1),numticks=12)\n",
    "    ax.yaxis.set_minor_locator(locmin)\n",
    "    ax.yaxis.set_minor_formatter(matplotlib.ticker.NullFormatter())\n",
    "    #\n",
    "    ax.tick_params(labelsize=20,which='both',axis='both', top=True, right=True)\n",
    "    #ax.set_title()\n",
    "    #\n",
    "    sarr  = np.loadtxt('CnaCo5Cr5Fe40Mn27Ni26/Run0/StructureTypeCounts.txt')\n",
    "    for GlassType, marker, color, fillstyle, indx in list(zip( [ \n",
    "#                                        'Other',\n",
    "                                        'FCC','HCP','BCC','ICO'\n",
    "                                        ],markers, colors, fillstyles, range(10) )):\n",
    "\n",
    "        #--- fliter\n",
    "        ydata = sarr[:,indx+2] #--- first 2nd col is stress drop\n",
    "        xdata = sarr[:,0] #--- 2nd and 3rd cols are widths\n",
    "    #\n",
    "        ax.plot(xdata,ydata,\n",
    "                linestyle='-',\n",
    "                markersize=10,\n",
    "                color=color,\n",
    "                marker=marker,\n",
    "                markerfacecolor=fillstyle,\n",
    "                markeredgecolor='black' if not fillstyle else None,\n",
    "                markevery=int(len(xdata)/5),\n",
    "                label = '%s'%GlassType)\n",
    "\n",
    "    #\n",
    "    ax.legend(frameon=False, fontsize=12)\n",
    "    #\n",
    "    DrawFrame(ax, 0.2,0.09,0.15,0.06,0.04,LOG_Y=True)\n",
    "    #\n",
    "    plt.savefig('CrysFracGood.png',dpi=2*75,bbox_inches='tight',pad_inches=0.0)\n",
    "    plt.show()"
   ]
  },
  {
   "cell_type": "markdown",
   "metadata": {},
   "source": [
    "## Crltns with d2min"
   ]
  },
  {
   "cell_type": "code",
   "execution_count": 124,
   "metadata": {},
   "outputs": [
    {
     "data": {
      "image/png": "[encoded data removed]",
      "text/plain": [
       "<Figure size 288x288 with 1 Axes>"
      ]
     },
     "metadata": {
      "needs_background": "light"
     },
     "output_type": "display_data"
    }
   ],
   "source": [
    "if CommonNeighAnl and DminAnalysis:\n",
    "    fig = plt.figure(figsize=(4,4))\n",
    "    ax = fig.add_subplot(111)\n",
    "    ax.set_xlabel('Type')\n",
    "    ax.set_ylabel('D2min')\n",
    "    ax.set_ylim(1e-3,1e3)\n",
    "    ax.xaxis.set_ticks([0,1,2,3,4])\n",
    "    ax.xaxis.set_ticklabels(['Other','FCC','HCP','BCC','ICO'])\n",
    "    \n",
    "    ax.set_yscale('log')\n",
    "    ax.scatter(pd.DataFrame(cna.__dict__).sort_values(by='id')['StructureType'],\n",
    "                pd.DataFrame(d2min.__dict__).sort_values(by='id')['d2min'],\n",
    "                alpha = 0.1,\n",
    "                marker='x'\n",
    "               )"
   ]
  },
  {
   "cell_type": "markdown",
   "metadata": {},
   "source": [
    "# Displacement Gradients"
   ]
  },
  {
   "cell_type": "markdown",
   "metadata": {},
   "source": [
    "## Interpolate Displacements\n",
    "### cubic grid"
   ]
  },
  {
   "cell_type": "code",
   "execution_count": 91,
   "metadata": {},
   "outputs": [],
   "source": [
    "#--- mean dist between atoms \n",
    "natoms = len( atoms0.x ) \n",
    "CellVectorOrtho, VectorNorm = lp.GetOrthogonalBasis( box0.CellVector )\n",
    "volume = np.linalg.det( CellVectorOrtho )\n",
    "dmean = 0.5*( volume / natoms ) ** (1.0/3.0) \n",
    "\n",
    "#--- grid tiling mapped box with original size\n",
    "#--- values are interpolated onto this grid\n",
    "(xlin, ylin, zlin), (xv, yv, zv) = lp.GetCubicGrid( box0.CellOrigin, \n",
    "                                                 box0.CellVector, \n",
    "                                                 dmean,\n",
    "                                                 margin = 0.0 * dmean )\n",
    "xi = np.array(list(zip(xv.flatten(), yv.flatten(), zv.flatten())))\n"
   ]
  },
  {
   "cell_type": "markdown",
   "metadata": {},
   "source": [
    "### center box + margin"
   ]
  },
  {
   "cell_type": "code",
   "execution_count": 92,
   "metadata": {},
   "outputs": [],
   "source": [
    "if StrnAnalysis:\n",
    "    #--- get a chunk of the full copy\n",
    "    cptmp = lp.Copy(atoms0, box0) #--- important: must be reference frame!!\n",
    "    indices = cptmp.isInsideExpanded( np.c_[xatoms0.xm,xatoms0.ym,xatoms0.zm], \n",
    "                                      epsilon = 0.2, mode = 'isotropic' )\n",
    "\n",
    "    points = np.c_[uatoms.xm,uatoms.ym,uatoms.zm][indices] #--- unstructured points\n",
    "    values = np.c_[uatoms.dx,uatoms.dy,uatoms.dz][indices] #--- corresponding values\n",
    "\n",
    "    grid_z = scp_int.griddata(points, values, xi, method='linear')\n",
    "    assert not np.any(np.isnan(grid_z.flatten())), 'increase ev!'\n",
    "\n",
    "    #--- make an object\n",
    "    uintrp = lp.Atoms(**pd.DataFrame(np.c_[xi,grid_z],columns=['x','y','z','dx','dy','dz']).to_dict(orient='list'))\n",
    "\n"
   ]
  },
  {
   "cell_type": "markdown",
   "metadata": {},
   "source": [
    "### Print"
   ]
  },
  {
   "cell_type": "code",
   "execution_count": 289,
   "metadata": {},
   "outputs": [],
   "source": [
    "if StrnAnalysis:\n",
    "\n",
    "    file_name = 'uintrp.xyz'\n",
    "    try:\n",
    "        os.system('rm %s'%file_name)\n",
    "    except:\n",
    "        pass\n",
    "\n",
    "    #for itime in df_intrp:\n",
    "    PrintOvito( pd.DataFrame( uintrp.__dict__ ), \n",
    "                    open( file_name,'a'), \n",
    "                    footer = 'ITIME=%s'%itime,\n",
    "                    attr_list=['x','y','z','dx','dy','dz'] )\n"
   ]
  },
  {
   "cell_type": "markdown",
   "metadata": {},
   "source": [
    "## Strain tensor"
   ]
  },
  {
   "cell_type": "code",
   "execution_count": 93,
   "metadata": {},
   "outputs": [],
   "source": [
    "if StrnAnalysis:\n",
    "    csn = lp.ComputeStrn( uintrp, box0 )\n",
    "    csn.Reshape( xlin, ylin, zlin )\n",
    "    csn.Gradient()\n",
    "    csn.SetStrn('exy')\n",
    "    Exy = csn.Get(attrs = ['x','y','z','exy'])\n"
   ]
  },
  {
   "cell_type": "markdown",
   "metadata": {},
   "source": [
    "### imshow"
   ]
  },
  {
   "cell_type": "code",
   "execution_count": 96,
   "metadata": {
    "scrolled": true
   },
   "outputs": [
    {
     "data": {
      "image/png": "[encoded data removed]",
      "text/plain": [
       "<Figure size 432x288 with 2 Axes>"
      ]
     },
     "metadata": {
      "needs_background": "light"
     },
     "output_type": "display_data"
    }
   ],
   "source": [
    "def FilterMatrix( CellVector, CellOrigin,\n",
    "                  xlin, ylin, zlin,\n",
    "                  xv, yv, zv ,\n",
    "                   value\n",
    "                ):\n",
    "    #--- xlims of the original box\n",
    "    CellVectorOrtho, VectorNorm = lp.GetOrthogonalBasis( CellVector )\n",
    "    margin = 0.0    \n",
    "    (xlo,xhi)=( CellOrigin[0] - margin, CellOrigin[0] + VectorNorm[ 0 ] + margin)\n",
    "    (ylo,yhi)=( CellOrigin[1] - margin, CellOrigin[1] + VectorNorm[ 1 ] + margin)\n",
    "    (zlo,zhi)=(CellOrigin[2] - margin, CellOrigin[2] + VectorNorm[ 2 ] + margin )\n",
    "\n",
    "    #--- grid dimension tiling the original box\n",
    "    indices = np.all([xlin>=xlo, xlin<xhi],axis=0)\n",
    "    nx = xlin[indices].shape[0]\n",
    "    indices = np.all([ylin>=ylo, ylin<yhi],axis=0)\n",
    "    ny = ylin[indices].shape[0]\n",
    "    indices = np.all([zlin>=zlo, zlin<zhi],axis=0)\n",
    "    nz = zlin[indices].shape[0]\n",
    "\n",
    "    #--- filter matrices\n",
    "    indices = np.all([xv>=xlo,xv<xhi, yv>=ylo,yv<yhi, zv>=zlo,zv<zhi ],axis=0)\n",
    "    vf_flatten = value[indices] #--- filter extended grid\n",
    "    assert vf_flatten.shape[0] == nx*ny*nz, '%s != %s'%(vf_flatten.shape[0], nx*ny*nz)\n",
    "    vf = vf_flatten.reshape((ny,nx,nz))\n",
    "    return vf\n",
    "\n",
    "\n",
    "\n",
    "if StrnAnalysis:\n",
    "\n",
    "    #itime = np.max(dfD2min_intrp.keys())\n",
    "    #--- reshape value\n",
    "    nx,ny,nz = len(xlin), len(ylin),len(zlin) \n",
    "    value = np.c_[Exy.exy].reshape(((ny,nx,nz)))\n",
    "    #value = np.c_[dfD2min_intrp[itime]['d2min']].reshape(((ny,nx,nz)))\n",
    "\n",
    "    # lx=xlin[-1]-xlin[0]\n",
    "    # ly=ylin[-1]-ylin[0]\n",
    "    # #value = np.sin(2*pi*np.c_[(df_intrp[itime]['x']-xlin[0])]/lx)\n",
    "    # value = np.c_[df_intrp[itime]['ux']]\n",
    "    # value = value.reshape(((ny,nx,nz)))\n",
    "    #print value.shape\n",
    "\n",
    "    #--- filter value\n",
    "    # value = FilterMatrix( box0.CellVector, box0.CellOrigin,\n",
    "    #                   (xlin, ylin, zlin),\n",
    "    #                   (xv, yv, zv ),\n",
    "    #                    value )\n",
    "    #print value.shape\n",
    "    #print vf.shape\n",
    "\n",
    "    CellVectorOrtho, VectorNorm = lp.GetOrthogonalBasis( box.CellVector ) #--- box length\n",
    "    #--- xy plane\n",
    "    val = value[:,:,-1].copy()\n",
    "    #val = value[:,:,nz/2].copy()\n",
    "    #print val.shape\n",
    "\n",
    "    PltBitmap(val, \n",
    "              xlabel = 'x', ylabel = 'y',\n",
    "              xlim=VectorNorm[0]*np.array([0.0,1.0]),ylim=VectorNorm[1]*np.array([0.0,1.0]),\n",
    "              zscore = True,\n",
    "              frac = 1.0, #--- plot a patch\n",
    "               title = 'strain.png',\n",
    "           )"
   ]
  },
  {
   "cell_type": "code",
   "execution_count": 89,
   "metadata": {
    "scrolled": false
   },
   "outputs": [],
   "source": [
    "# fig=plt.figure(figsize=(4,4))\n",
    "# ax=fig.add_subplot(111)\n",
    "# ax2=ax.twinx()\n",
    "\n",
    "# # ax.set_xlim(min(xlin),max(xlin))\n",
    "# # ax2.set_xlim(min(xlin),max(xlin))\n",
    "# # ax.set_ylim(-1,1)\n",
    "# # ax2.set_ylim(-1,1)\n",
    "\n",
    "# f = val[:,0]\n",
    "# df=val0[:,0]\n",
    "\n",
    "# dx=xlin[1]-xlin[0]\n",
    "# ax.plot(ylin, f,'-o',label='uy')\n",
    "# #ax2.plot(ylin, np.gradient(f,xlin,edge_order=2)/(2*pi/lx),'-s',color='red',label='duydx')\n",
    "# ax2.plot(ylin, np.gradient(f,ylin,edge_order=2),'-s',color='red',label='duydx')\n",
    "# #ax2.plot(xlin[:-1], np.diff(f)/dx/(2*pi/lx),'-s',color='red',label='duydx')\n",
    "# #ax2.plot(ylin,df/(2*pi/lx),'-x',color='black',label='duydxFFT')\n",
    "# ax2.plot(ylin,df,'-x',color='black',label='duydxFFT')\n",
    "\n",
    "\n",
    "# ax2.legend()\n",
    "# plt.show()"
   ]
  },
  {
   "cell_type": "code",
   "execution_count": 90,
   "metadata": {
    "scrolled": true
   },
   "outputs": [],
   "source": [
    "# itime = np.max(Strain.keys())\n",
    "# nx,ny,nz = len(xlin), len(ylin),len(zlin) \n",
    "\n",
    "# # value = np.sin(2*pi*np.c_[df_intrp[itime]['x']]/nx)\n",
    "# # value = value.reshape(((ny,nx,nz)))\n",
    "# #dvalux = GetDerivX( value,lx )\n",
    "\n",
    "# #value = np.c_[df_intrp[itime]['ux']].reshape(((ny,nx,nz)))\n",
    "# dvaluy = GetDerivY( value,ly )\n",
    "\n",
    "# exy=dvaluy\n",
    "# #--- xy plane\n",
    "# value0 = exy[:,:,-1].copy()\n",
    "\n",
    "# PltBitmap(value0, \n",
    "#           xlabel = 'x', ylabel = 'y',\n",
    "#           xlim=VectorNorm[0]*np.array([0.0,1.0]),ylim=VectorNorm[1]*np.array([0.0,1.0]),\n",
    "#           zscore = None,\n",
    "#           frac = 1.0, #--- plot a patch\n",
    "#         )"
   ]
  },
  {
   "cell_type": "markdown",
   "metadata": {},
   "source": [
    "### Print"
   ]
  },
  {
   "cell_type": "code",
   "execution_count": 30,
   "metadata": {},
   "outputs": [],
   "source": [
    "if StrnAnalysis:\n",
    "\n",
    "    file_name = 'strain.xyz'\n",
    "    try:\n",
    "        os.system('rm %s'%file_name)\n",
    "    except:\n",
    "        pass\n",
    "\n",
    "    # times = Strain.keys()\n",
    "    # times.sort()\n",
    "    #--- bulk strain\n",
    "    dx=box.CellVector[0,1]-box.CellVector[0,1]\n",
    "    l1=box.CellVector[1,1]\n",
    "    ebulk = dx/l1\n",
    "\n",
    "\n",
    "    PrintOvito( pd.DataFrame(Exy.__dict__), \n",
    "                    open( file_name,'a'), \n",
    "                    footer = 'epsilon=%2.1e'%(2*ebulk),\n",
    "                    attr_list=['x','y','z','exy'] )\n",
    "    "
   ]
  },
  {
   "cell_type": "markdown",
   "metadata": {},
   "source": [
    "### Auto-Correlations"
   ]
  },
  {
   "cell_type": "code",
   "execution_count": 97,
   "metadata": {},
   "outputs": [],
   "source": [
    "def GetAutoCorrelation( val ):\n",
    "    value  = val.copy()\n",
    "    value -= np.mean( value )\n",
    "    value /= np.std( value )\n",
    "\n",
    "    ( nx, ny, nz ) =  value.shape\n",
    "    n = nx * ny * nz\n",
    "    vq = np.fft.fftn(value) #, axes=(0,1,2))\n",
    "    vq_sq = np.abs(vq)**2\n",
    "\n",
    "    v_real = np.fft.ifftn( vq_sq) / n #,  axes=(0,1,2) )\n",
    "    return v_real\n",
    "\n",
    "if StrnAnalysis:\n",
    "\n",
    "    #Crltn = {}\n",
    "    (nx,ny,nz) = len(xlin), len(ylin),len(zlin) \n",
    "    #\n",
    "    value = np.c_[Exy.exy].reshape((ny,nx,nz))\n",
    "    #    value = np.c_[dfD2min_intrp[itime]['d2min']].reshape(((ny,nx,nz)))\n",
    "    #    value = np.c_[df_intrp[itime]['ux']].reshape(((ny,nx,nz)))\n",
    "\n",
    "    #--- shuffle\n",
    "    #     ( nx, ny, nz ) =  value.shape\n",
    "    #     slist = value.flatten()\n",
    "    #     np.random.shuffle(slist)\n",
    "    #     value=slist.reshape((nx, ny, nz))    \n",
    "        #\n",
    "    #--- filter value\n",
    "    #     value = FilterMatrix( CellVector[0], CellOrigin[0],\n",
    "    #                   (xlin, ylin, zlin),\n",
    "    #                   (xv, yv, zv ),\n",
    "    #                    value )\n",
    "\n",
    "    Crltn = GetAutoCorrelation( value )\n"
   ]
  },
  {
   "cell_type": "markdown",
   "metadata": {},
   "source": [
    "### Print"
   ]
  },
  {
   "cell_type": "code",
   "execution_count": 99,
   "metadata": {},
   "outputs": [
    {
     "data": {
      "image/png": "[encoded data removed]",
      "text/plain": [
       "<Figure size 432x288 with 2 Axes>"
      ]
     },
     "metadata": {
      "needs_background": "light"
     },
     "output_type": "display_data"
    }
   ],
   "source": [
    "if StrnAnalysis:\n",
    "\n",
    "    # for itime in Crltn:\n",
    "    #     print 'itime=',itime\n",
    "    CellVectorOrtho, VectorNorm = lp.GetOrthogonalBasis( box.CellVector ) #--- box length\n",
    "        #    \n",
    "    crltn = Crltn #[ itime ]\n",
    "    #--- xy plane\n",
    "    val = crltn[:,:,0].copy()\n",
    "    PltCrltn( val, \n",
    "              xlabel = '', ylabel = '',\n",
    "              xlim=VectorNorm[0]*np.array([-0.5,0.5]),ylim=VectorNorm[1]*np.array([-0.5,0.5]),\n",
    "              frac = 0.5, #--- plot a patch\n",
    "              zscore = False,\n",
    "              fileName = 'cxy_strain.%s.png'%itime,\n",
    "              dpi = 60\n",
    "            )\n",
    "        # #--- zx plane\n",
    "        # val = crltn[0,:,:].copy()\n",
    "        # PltCrltn( val, \n",
    "        #           xlabel = 'z', ylabel = 'x',\n",
    "        #           xlim=VectorNorm[2]*np.array([-0.5,0.5]),ylim=VectorNorm[0]*np.array([-0.5,0.5]),\n",
    "        #           frac = 1.0, #--- plot a patch\n",
    "        #           zscore = False,\n",
    "        #         )\n",
    "        # #--- zy plane\n",
    "        # val = crltn[:,0,:].copy()\n",
    "        # PltCrltn( val, \n",
    "        #           xlabel = 'z', ylabel = 'y',\n",
    "        #           xlim=VectorNorm[2]*np.array([-0.5,0.5]),ylim=VectorNorm[1]*np.array([-0.5,0.5]),\n",
    "        #           frac = 1.0, #--- plot a patch\n",
    "        #           zscore = False,\n",
    "        #         )\n",
    "\n"
   ]
  },
  {
   "cell_type": "markdown",
   "metadata": {},
   "source": [
    "### Crltn Length"
   ]
  },
  {
   "cell_type": "code",
   "execution_count": 107,
   "metadata": {},
   "outputs": [
    {
     "data": {
      "image/png": "[encoded data removed]",
      "text/plain": [
       "<Figure size 288x288 with 1 Axes>"
      ]
     },
     "metadata": {
      "needs_background": "light"
     },
     "output_type": "display_data"
    },
    {
     "data": {
      "text/plain": [
       "(14.108201970564707, nan)"
      ]
     },
     "execution_count": 107,
     "metadata": {},
     "output_type": "execute_result"
    }
   ],
   "source": [
    "if StrnAnalysis:\n",
    "\n",
    "    # for itime in Crltn:\n",
    "    #     print 'itime=',itime\n",
    "    #--- bulk strain\n",
    "    dx=box.CellVector[0,1]-box0.CellVector[0,1]\n",
    "    l1=box.CellVector[1,1]\n",
    "    ebulk = dx/l1\n",
    "    #---\n",
    "    (xc, yc), (xdata0,ydata0), (xdata,ydata)=\\\n",
    "    PltCrltnFunc( Crltn, \n",
    "                 xv,yv,\n",
    "                 fileName = 'cr_strain.%s.png'%itime,\n",
    "                 title = r'$\\epsilon=%3.2f$'%(2*ebulk),\n",
    "                 cTOL = 8.0e-2,\n",
    "                 dpi = 60,\n",
    "                )\n",
    "    np.savetxt('Cx.txt',np.c_[xdata0.real,ydata0.real],header='x\\tc(x)')\n",
    "    np.savetxt('Cy.txt',np.c_[xdata.real,ydata.real],header='y\\tc(y)')"
   ]
  },
  {
   "cell_type": "markdown",
   "metadata": {},
   "source": [
    "#### multiple plots"
   ]
  },
  {
   "cell_type": "code",
   "execution_count": 109,
   "metadata": {},
   "outputs": [],
   "source": [
    "# #--- extract length\n",
    "# ebulk = []\n",
    "# Xc = []\n",
    "# Yc = []\n",
    "# keys = Crltn.keys()\n",
    "# keys.sort()\n",
    "# for itime in keys:\n",
    "#     #--- bulk strain\n",
    "#     dx=CellVector[ itime ][0,1]-CellVector[ 0 ][0,1]\n",
    "#     l1=CellVector[ itime ][1,1]\n",
    "#     ebulk += [0.5*dx/l1]\n",
    "    \n",
    "#     xc, yc = PltCrltnFunc( Crltn[ itime ], \n",
    "#                           (xv,yv),\n",
    "#                           cTOL = 4e-2,\n",
    "#                           PLOT = None,\n",
    "#                          )\n",
    "#     Xc += [xc]\n",
    "#     Yc += [yc]\n",
    "\n",
    "# #--- plot\n",
    "# fig = plt.figure( figsize = (4,4))\n",
    "# ax = fig.add_subplot(111)\n",
    "# xstr = r'$\\epsilon$'\n",
    "# ystr = r'$r_c$'\n",
    "# ax.set_xlabel(xstr,fontsize=16)\n",
    "# #ax.set_ylabel(ystr,fontsize=16)\n",
    "# ax.tick_params(labelsize=16)\n",
    "# #\n",
    "# ax.plot( 2*np.array(ebulk), Xc,'-o', color='C0', label = r'$x_c$')\n",
    "# ax.plot( 2*np.array(ebulk), Yc,'-s', color='red', label = r'$y_c$')\n",
    "# ax.legend(frameon=False)\n",
    "# plt.savefig('rc.png',dpi=75,bbox_inches='tight')\n",
    "# plt.show()\n"
   ]
  },
  {
   "cell_type": "code",
   "execution_count": 201,
   "metadata": {},
   "outputs": [
    {
     "data": {
      "image/png": "[encoded data removed]",
      "text/plain": [
       "<Figure size 288x288 with 1 Axes>"
      ]
     },
     "metadata": {
      "needs_background": "light"
     },
     "output_type": "display_data"
    }
   ],
   "source": [
    "RemoteMachine=None\n",
    "if not RemoteMachine:\n",
    "    #\n",
    "    matplotlib.rcParams['text.usetex'] = True #--- comment tex stuff!\n",
    "    #\n",
    "    nfreq = 5\n",
    "    #\n",
    "    colors = ['black','red','green','blue','cyan','brown','grey','magenta','orange','yellow']\n",
    "    fillstyles=['white',None,'white',None,'white',None,'white',None,'white',None,'white',None,'white',None,'white',None]\n",
    "    markers=['o','s','D','^','<','>','v']\n",
    "    #\n",
    "    fig = plt.figure( figsize = (4,4))\n",
    "    ax = fig.add_subplot(111)\n",
    "#     ax.set_xlabel(r'$\\gamma$',fontsize=20)\n",
    "#     ax.set_ylabel(r'$\\sigma/\\mu$',fontsize=20)\n",
    "    ax.xaxis.set_minor_locator(AutoMinorLocator(2))\n",
    "    ax.yaxis.set_minor_locator(AutoMinorLocator(2))\n",
    "    ax.tick_params(labelsize=20,which='both',axis='both', top=True, right=True)\n",
    "    #ax.set_title()\n",
    "    #\n",
    "    for GlassType, marker, color, fillstyle in list(zip( [ \n",
    "                                         'x','y'\n",
    "#                                           'CoNiFe',\n",
    "#                                             'CoNiCrFe',\n",
    "#                                             'CoCrFeMn',\n",
    "#                                             'CoNiCrFeMn',\n",
    "#                                             'Co5Cr5Fe40Mn27Ni26'\n",
    "                                        ],markers, colors, fillstyles )):\n",
    "\n",
    "        sarr  = np.loadtxt('CrltnFeNi/Run2/C%s.txt'%GlassType,dtype=str)\n",
    "        #--- fliter\n",
    "        ydata = list(map(eval,sarr[:,1])) #--- first 2nd col is stress drop\n",
    "        xdata = list(map(eval,sarr[:,0])) #--- 2nd and 3rd cols are widths\n",
    "    #\n",
    "        ax.plot(xdata,ydata,\n",
    "                linestyle='-',\n",
    "                markersize=10,\n",
    "                color=color,\n",
    "                marker=marker,\n",
    "                markerfacecolor=fillstyle,\n",
    "                markeredgecolor='black',\n",
    "                markevery=6,\n",
    "                label = '$%s$'%GlassType)\n",
    "    ax.plot(ax.axis()[:2],[0,0],'r-.')\n",
    "\n",
    "    #\n",
    "    ax.legend(frameon=False, fontsize=12)\n",
    "    #\n",
    "    DrawFrame(ax, 0.2,0.09,0.15,0.06,0.04)\n",
    "    #\n",
    "    plt.savefig('cr.png',dpi=2*75,bbox_inches='tight',pad_inches=0.0)\n",
    "    plt.show()"
   ]
  }
 ],
 "metadata": {
  "kernelspec": {
   "display_name": "Python 3",
   "language": "python",
   "name": "python3"
  },
  "language_info": {
   "codemirror_mode": {
    "name": "ipython",
    "version": 3
   },
   "file_extension": ".py",
   "mimetype": "text/x-python",
   "name": "python",
   "nbconvert_exporter": "python",
   "pygments_lexer": "ipython3",
   "version": "3.8.2"
  }
 },
 "nbformat": 4,
 "nbformat_minor": 4
}
