{
 "cells": [
  {
   "cell_type": "markdown",
   "metadata": {},
   "source": [
    "# import libraries"
   ]
  },
  {
   "cell_type": "code",
   "execution_count": 2,
   "metadata": {},
   "outputs": [
    {
     "data": {
      "text/plain": [
       "<module 'LammpsPostProcess' from 'LammpsPostProcess.pyc'>"
      ]
     },
     "execution_count": 2,
     "metadata": {},
     "output_type": "execute_result"
    }
   ],
   "source": [
    "#--- system libraries\n",
    "#import pandas as pd\n",
    "import numpy as np\n",
    "import matplotlib.pylab as plt\n",
    "# import traceback\n",
    "# import os\n",
    "# import scipy.interpolate as scp_int\n",
    "# import warnings\n",
    "# import matplotlib\n",
    "# from matplotlib.ticker import (MultipleLocator, AutoMinorLocator)\n",
    "# from matplotlib import patches\n",
    "# import pdb\n",
    "# import sys\n",
    "# #\n",
    "# matplotlib.rcParams['text.usetex'] = True\n",
    "# warnings.filterwarnings('ignore')\n",
    "\n",
    "# #--- user modules\n",
    "# import LammpsPostProcess as lp\n",
    "# reload(lp)"
   ]
  },
  {
   "cell_type": "markdown",
   "metadata": {},
   "source": [
    "# utility functions"
   ]
  },
  {
   "cell_type": "markdown",
   "metadata": {},
   "source": [
    "# Parameters"
   ]
  },
  {
   "cell_type": "code",
   "execution_count": 5,
   "metadata": {},
   "outputs": [],
   "source": [
    "#--- comment out parameters if you pass them\n",
    "#--- by arguments\n",
    "\n",
    "#--- timestep\n",
    "#itime = 500000*4\n",
    "dlgr0 = 2.5 #--- 1st peak  in g(r)\n",
    "dlgr = 2*4.0 #--- 2nd peak in g(r)\n",
    "cutoff = 10.0*4    #--- cut-off radius for g(r)\n",
    "NMAX = 10000*5     #--- max. number of atoms included for the g(r) analysis\n",
    "\n",
    "ShuffleDisp = False\n",
    "CrltnFunctionUnstructured = True\n",
    "PairCorrelationFunction = False\n",
    "\n",
    "#--- lammps output\n",
    "#path = '/Users/Home/Desktop/Tmp/txt/git/CrystalPlasticity/BmgData'\n",
    "\n",
    "#--- stress files\n",
    "# fileNamee = ('FeNi.txt', \n",
    "#              'CoNiCr.txt', \n",
    "#              'CoNiCrFe.txt',\n",
    "#              'CoCrFeMn.txt',\n",
    "#              'Co5Cr2Fe40Mn27Ni26.txt')[0]\n",
    "\n",
    "# #--- dump files\n",
    "# fileName = '%s/%s'%(path,['FeNi_glass.dump',\n",
    "#             'CoNiCr_glass.dump',\n",
    "#             'CoNiCrFe_glass.dump',\n",
    "#             'CoCrFeMn_glass.dump',\n",
    "#             'Co5Cr2Fe40Mn27Ni26_glass.dump'][0])#--- parse cords\n",
    "\n"
   ]
  },
  {
   "cell_type": "markdown",
   "metadata": {},
   "source": [
    "# input stress file"
   ]
  },
  {
   "cell_type": "code",
   "execution_count": 7,
   "metadata": {},
   "outputs": [
    {
     "data": {
      "image/png": "[encoded data removed]",
      "text/plain": [
       "<Figure size 432x288 with 1 Axes>"
      ]
     },
     "metadata": {
      "needs_background": "light"
     },
     "output_type": "display_data"
    }
   ],
   "source": [
    "x=np.linspace(0,1,10)\n",
    "y=np.linspace(0,1,10)\n",
    "\n",
    "plt.plot(x,y)\n",
    "plt.savefig('junk.png')\n",
    "plt.show()"
   ]
  },
  {
   "cell_type": "code",
   "execution_count": null,
   "metadata": {},
   "outputs": [],
   "source": []
  }
 ],
 "metadata": {
  "kernelspec": {
   "display_name": "Python 2",
   "language": "python",
   "name": "python2"
  },
  "language_info": {
   "codemirror_mode": {
    "name": "ipython",
    "version": 2
   },
   "file_extension": ".py",
   "mimetype": "text/x-python",
   "name": "python",
   "nbconvert_exporter": "python",
   "pygments_lexer": "ipython2",
   "version": "2.7.10"
  }
 },
 "nbformat": 4,
 "nbformat_minor": 4
}
